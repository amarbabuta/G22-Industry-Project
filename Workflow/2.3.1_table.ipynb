{
 "cells": [
  {
   "cell_type": "code",
   "execution_count": 1,
   "metadata": {
    "collapsed": true
   },
   "outputs": [],
   "source": [
    "import pandas as pd\n",
    "import numpy\n",
    "from __future__ import division"
   ]
  },
  {
   "cell_type": "code",
   "execution_count": 2,
   "outputs": [],
   "source": [
    "df3_WS1T = pd.read_csv(\"/Users/asteriag/Desktop/DATASCIENCEPROJECT_WORKFLOW/pythonProject/segment3_WS1_has_duration.csv\")"
   ],
   "metadata": {
    "collapsed": false,
    "pycharm": {
     "name": "#%%\n"
    }
   }
  },
  {
   "cell_type": "code",
   "execution_count": 3,
   "outputs": [
    {
     "data": {
      "text/plain": "                 CASE_ID WRKFLW_TSK_MAP_GROUPED WRKFLW_TSK_MAP_DETAILED  \\\n0  1161800|550469|842233                 Submit                  Submit   \n\n       PATH_CRDATETIME ITEM_CRUSER WRKFLW_ORG_TYPE_CRUSER  STATUS_ORDER  \\\n0  18/11/2019 22:13:27       GUEST                Student             9   \n\n  LATEST_STATUS        WRKFLW_PROCESS                        QUERY_PART  ...  \\\n0             N  1. App to Assessment  Part 1 - Application ID Workflow  ...   \n\n  SPK_CAT_TYPE_CD  BROAD_COURSE_LEVEL   DEGREETYPE  \\\n0             MCW                HDCW  Full Degree   \n\n   LIABILITY_CATEGORY_CD_RECODE  ORIG_LIABILITY_CATEGORY_CD_RECODE  \\\n0                            AF                                 AF   \n\n  OFFER_RELEASED_FG OFFER_OUTCOME_CD OFFER_CONDITIONS  \\\n0               NaN              NaN                N   \n\n                           time_used_str  time_used_second  \n0  6 days 14 hours 58 minutes 45 seconds          572325.0  \n\n[1 rows x 58 columns]",
      "text/html": "<div>\n<style scoped>\n    .dataframe tbody tr th:only-of-type {\n        vertical-align: middle;\n    }\n\n    .dataframe tbody tr th {\n        vertical-align: top;\n    }\n\n    .dataframe thead th {\n        text-align: right;\n    }\n</style>\n<table border=\"1\" class=\"dataframe\">\n  <thead>\n    <tr style=\"text-align: right;\">\n      <th></th>\n      <th>CASE_ID</th>\n      <th>WRKFLW_TSK_MAP_GROUPED</th>\n      <th>WRKFLW_TSK_MAP_DETAILED</th>\n      <th>PATH_CRDATETIME</th>\n      <th>ITEM_CRUSER</th>\n      <th>WRKFLW_ORG_TYPE_CRUSER</th>\n      <th>STATUS_ORDER</th>\n      <th>LATEST_STATUS</th>\n      <th>WRKFLW_PROCESS</th>\n      <th>QUERY_PART</th>\n      <th>...</th>\n      <th>SPK_CAT_TYPE_CD</th>\n      <th>BROAD_COURSE_LEVEL</th>\n      <th>DEGREETYPE</th>\n      <th>LIABILITY_CATEGORY_CD_RECODE</th>\n      <th>ORIG_LIABILITY_CATEGORY_CD_RECODE</th>\n      <th>OFFER_RELEASED_FG</th>\n      <th>OFFER_OUTCOME_CD</th>\n      <th>OFFER_CONDITIONS</th>\n      <th>time_used_str</th>\n      <th>time_used_second</th>\n    </tr>\n  </thead>\n  <tbody>\n    <tr>\n      <th>0</th>\n      <td>1161800|550469|842233</td>\n      <td>Submit</td>\n      <td>Submit</td>\n      <td>18/11/2019 22:13:27</td>\n      <td>GUEST</td>\n      <td>Student</td>\n      <td>9</td>\n      <td>N</td>\n      <td>1. App to Assessment</td>\n      <td>Part 1 - Application ID Workflow</td>\n      <td>...</td>\n      <td>MCW</td>\n      <td>HDCW</td>\n      <td>Full Degree</td>\n      <td>AF</td>\n      <td>AF</td>\n      <td>NaN</td>\n      <td>NaN</td>\n      <td>N</td>\n      <td>6 days 14 hours 58 minutes 45 seconds</td>\n      <td>572325.0</td>\n    </tr>\n  </tbody>\n</table>\n<p>1 rows × 58 columns</p>\n</div>"
     },
     "execution_count": 3,
     "metadata": {},
     "output_type": "execute_result"
    }
   ],
   "source": [
    "df3_WS1T.head(n=1)\n"
   ],
   "metadata": {
    "collapsed": false,
    "pycharm": {
     "name": "#%%\n"
    }
   }
  },
  {
   "cell_type": "code",
   "execution_count": 4,
   "outputs": [],
   "source": [
    "numOfWorkflowProcesses = df3_WS1T.groupby('CASE_ID').CASE_ID.count()\n",
    "\n",
    "count_dic=dict()\n",
    "for i,v in numOfWorkflowProcesses.items():\n",
    "    if count_dic.get(v) is None:\n",
    "        count_dic[v]=[]\n",
    "        count_dic[v].append(i)\n",
    "    else:\n",
    "        count_dic[v].append(i)\n",
    "#count_dic\n"
   ],
   "metadata": {
    "collapsed": false,
    "pycharm": {
     "name": "#%%\n"
    }
   }
  },
  {
   "cell_type": "code",
   "execution_count": 5,
   "outputs": [],
   "source": [
    "len_list=[]\n",
    "for key in count_dic.keys():\n",
    "    len_list.append(len(count_dic[key]))\n"
   ],
   "metadata": {
    "collapsed": false,
    "pycharm": {
     "name": "#%%\n"
    }
   }
  },
  {
   "cell_type": "code",
   "execution_count": 6,
   "outputs": [],
   "source": [
    "def strfdelta(tdelta, fmt):\n",
    "    d=dict()\n",
    "    d[\"days\"],rem1 = divmod(tdelta,60*60*24)\n",
    "    d[\"hours\"], rem2 = divmod(rem1, 3600)\n",
    "    d[\"minutes\"], d[\"seconds\"] = divmod(rem2, 60)\n",
    "    return fmt.format(**d)"
   ],
   "metadata": {
    "collapsed": false,
    "pycharm": {
     "name": "#%%\n"
    }
   }
  },
  {
   "cell_type": "code",
   "execution_count": 7,
   "outputs": [],
   "source": [
    "list_avgtime_per_key =[]\n",
    "for key in count_dic.keys():\n",
    "    id_list = count_dic[key]\n",
    "    list_sumtime_person = 0\n",
    "    for id in id_list:\n",
    "        df = df3_WS1T[df3_WS1T['CASE_ID']== id]\n",
    "        tsum = df['time_used_second'].sum()\n",
    "        list_sumtime_person+=tsum\n",
    "    list_avgtime_per_key.append(int((list_sumtime_person/len(count_dic[key]))))\n",
    "\n",
    "list_avgtime_per_key_str = []\n",
    "for i in list_avgtime_per_key:\n",
    "    list_avgtime_per_key_str.append(strfdelta(i,\"{days} days {hours} hours {minutes} minutes {seconds} seconds\"))"
   ],
   "metadata": {
    "collapsed": false,
    "pycharm": {
     "name": "#%%\n"
    }
   }
  },
  {
   "cell_type": "code",
   "execution_count": 8,
   "outputs": [],
   "source": [
    "list_mediantime_per_key = []\n",
    "for key in count_dic.keys():\n",
    "    id_list = count_dic[key]\n",
    "    list_sumtime_per_person = []\n",
    "    for id in id_list:\n",
    "        df = df3_WS1T[df3_WS1T['CASE_ID']== id]\n",
    "        tsum = df['time_used_second'].sum()\n",
    "        list_sumtime_per_person.append(tsum)\n",
    "    list_mediantime_per_key.append(numpy.median(list_sumtime_per_person))\n",
    "\n",
    "list_mediantime_per_key_str = []\n",
    "for i in list_mediantime_per_key:\n",
    "    list_mediantime_per_key_str.append(strfdelta(i,\"{days} days {hours} hours {minutes} minutes {seconds} seconds\"))\n"
   ],
   "metadata": {
    "collapsed": false,
    "pycharm": {
     "name": "#%%\n"
    }
   }
  },
  {
   "cell_type": "code",
   "execution_count": 9,
   "outputs": [],
   "source": [
    "list_percent_reach_end = []\n",
    "for key in count_dic.keys():\n",
    "    id_list = count_dic[key]\n",
    "    count_df_end_step = 0\n",
    "    count_df_id = 0\n",
    "    for id in id_list:\n",
    "        df_id = df3_WS1T[df3_WS1T['CASE_ID']== id]\n",
    "        df_end_step = df_id[df_id['WRKFLW_TSK_MAP_GROUPED']=='Send for Assessment']\n",
    "        count_df_id += df_id['CASE_ID'].count()\n",
    "        count_df_end_step += df_end_step['CASE_ID'].count()\n",
    "    list_percent_reach_end.append(str(round((count_df_end_step/count_df_id)*100,2))+ \"%\")"
   ],
   "metadata": {
    "collapsed": false,
    "pycharm": {
     "name": "#%%\n"
    }
   }
  },
  {
   "cell_type": "code",
   "execution_count": 10,
   "outputs": [],
   "source": [
    "list_step_per_key = []\n",
    "for key in count_dic.keys():\n",
    "    id_list = count_dic[key]\n",
    "    list_step = set()\n",
    "    for id in id_list:\n",
    "        df = df3_WS1T[df3_WS1T['CASE_ID']== id]\n",
    "        for index, row in df.iterrows():\n",
    "            list_step.add(row['WRKFLW_TSK_MAP_GROUPED'])\n",
    "    list_step_per_key.append(list_step)"
   ],
   "metadata": {
    "collapsed": false,
    "pycharm": {
     "name": "#%%\n"
    }
   }
  },
  {
   "cell_type": "code",
   "execution_count": 13,
   "outputs": [
    {
     "data": {
      "text/plain": "   Number of Workflow processes in this Workflow Segment  Number of cases  \\\n0                                                  1                   36   \n1                                                  2                   31   \n2                                                  3                   15   \n3                                                  4                   75   \n4                                                  5                   86   \n5                                                  6                  116   \n6                                                  7                  113   \n7                                                  8                   91   \n8                                                  9                   49   \n9                                                 10                   58   \n\n        average time for workflow segment  \\\n0      0 days 0 hours 0 minutes 0 seconds   \n1  10 days 15 hours 23 minutes 16 seconds   \n2   17 days 20 hours 35 minutes 6 seconds   \n3  14 days 14 hours 41 minutes 33 seconds   \n4  11 days 21 hours 17 minutes 30 seconds   \n5  14 days 16 hours 57 minutes 39 seconds   \n6  17 days 17 hours 16 minutes 18 seconds   \n7   15 days 0 hours 32 minutes 30 seconds   \n8  25 days 18 hours 49 minutes 17 seconds   \n9   21 days 1 hours 31 minutes 16 seconds   \n\n                 median time for workflow segment  \\\n0      0.0 days 0.0 hours 0.0 minutes 0.0 seconds   \n1    4.0 days 22.0 hours 39.0 minutes 2.0 seconds   \n2  11.0 days 10.0 hours 36.0 minutes 33.0 seconds   \n3   10.0 days 17.0 hours 32.0 minutes 0.0 seconds   \n4     8.0 days 7.0 hours 7.0 minutes 46.0 seconds   \n5     8.0 days 4.0 hours 4.0 minutes 16.5 seconds   \n6   12.0 days 17.0 hours 15.0 minutes 1.0 seconds   \n7   11.0 days 6.0 hours 32.0 minutes 18.0 seconds   \n8   16.0 days 20.0 hours 18.0 minutes 7.0 seconds   \n9   16.0 days 1.0 hours 31.0 minutes 25.0 seconds   \n\n  percentage of cases reaching to end of workflow segment  \\\n0                                               0.0%        \n1                                              37.1%        \n2                                             24.44%        \n3                                              23.0%        \n4                                             17.44%        \n5                                             15.37%        \n6                                             13.27%        \n7                                             11.54%        \n8                                             10.43%        \n9                                              8.79%        \n\n                                                step  \n0                                           {Submit}  \n1  {Send for Assessment, Put Triage On-Hold, AR -...  \n2  {Send for Assessment, AR - Created - previous ...  \n3  {Send for Assessment, AR - Created - previous ...  \n4  {AR - Satisfied - Other, AR - Created - furthe...  \n5  {AR - Reviewed - further information, AR - Sat...  \n6  {Assessment Decision - No Decision, AR - Creat...  \n7  {OC - Reviewed - Other, AR - Satisfied - Other...  \n8  {OC - Reviewed - Other, AR - Satisfied - Other...  \n9  {OC - Reviewed - Other, AR - Requested - sylla...  ",
      "text/html": "<div>\n<style scoped>\n    .dataframe tbody tr th:only-of-type {\n        vertical-align: middle;\n    }\n\n    .dataframe tbody tr th {\n        vertical-align: top;\n    }\n\n    .dataframe thead th {\n        text-align: right;\n    }\n</style>\n<table border=\"1\" class=\"dataframe\">\n  <thead>\n    <tr style=\"text-align: right;\">\n      <th></th>\n      <th>Number of Workflow processes in this Workflow Segment</th>\n      <th>Number of cases</th>\n      <th>average time for workflow segment</th>\n      <th>median time for workflow segment</th>\n      <th>percentage of cases reaching to end of workflow segment</th>\n      <th>step</th>\n    </tr>\n  </thead>\n  <tbody>\n    <tr>\n      <th>0</th>\n      <td>1</td>\n      <td>36</td>\n      <td>0 days 0 hours 0 minutes 0 seconds</td>\n      <td>0.0 days 0.0 hours 0.0 minutes 0.0 seconds</td>\n      <td>0.0%</td>\n      <td>{Submit}</td>\n    </tr>\n    <tr>\n      <th>1</th>\n      <td>2</td>\n      <td>31</td>\n      <td>10 days 15 hours 23 minutes 16 seconds</td>\n      <td>4.0 days 22.0 hours 39.0 minutes 2.0 seconds</td>\n      <td>37.1%</td>\n      <td>{Send for Assessment, Put Triage On-Hold, AR -...</td>\n    </tr>\n    <tr>\n      <th>2</th>\n      <td>3</td>\n      <td>15</td>\n      <td>17 days 20 hours 35 minutes 6 seconds</td>\n      <td>11.0 days 10.0 hours 36.0 minutes 33.0 seconds</td>\n      <td>24.44%</td>\n      <td>{Send for Assessment, AR - Created - previous ...</td>\n    </tr>\n    <tr>\n      <th>3</th>\n      <td>4</td>\n      <td>75</td>\n      <td>14 days 14 hours 41 minutes 33 seconds</td>\n      <td>10.0 days 17.0 hours 32.0 minutes 0.0 seconds</td>\n      <td>23.0%</td>\n      <td>{Send for Assessment, AR - Created - previous ...</td>\n    </tr>\n    <tr>\n      <th>4</th>\n      <td>5</td>\n      <td>86</td>\n      <td>11 days 21 hours 17 minutes 30 seconds</td>\n      <td>8.0 days 7.0 hours 7.0 minutes 46.0 seconds</td>\n      <td>17.44%</td>\n      <td>{AR - Satisfied - Other, AR - Created - furthe...</td>\n    </tr>\n    <tr>\n      <th>5</th>\n      <td>6</td>\n      <td>116</td>\n      <td>14 days 16 hours 57 minutes 39 seconds</td>\n      <td>8.0 days 4.0 hours 4.0 minutes 16.5 seconds</td>\n      <td>15.37%</td>\n      <td>{AR - Reviewed - further information, AR - Sat...</td>\n    </tr>\n    <tr>\n      <th>6</th>\n      <td>7</td>\n      <td>113</td>\n      <td>17 days 17 hours 16 minutes 18 seconds</td>\n      <td>12.0 days 17.0 hours 15.0 minutes 1.0 seconds</td>\n      <td>13.27%</td>\n      <td>{Assessment Decision - No Decision, AR - Creat...</td>\n    </tr>\n    <tr>\n      <th>7</th>\n      <td>8</td>\n      <td>91</td>\n      <td>15 days 0 hours 32 minutes 30 seconds</td>\n      <td>11.0 days 6.0 hours 32.0 minutes 18.0 seconds</td>\n      <td>11.54%</td>\n      <td>{OC - Reviewed - Other, AR - Satisfied - Other...</td>\n    </tr>\n    <tr>\n      <th>8</th>\n      <td>9</td>\n      <td>49</td>\n      <td>25 days 18 hours 49 minutes 17 seconds</td>\n      <td>16.0 days 20.0 hours 18.0 minutes 7.0 seconds</td>\n      <td>10.43%</td>\n      <td>{OC - Reviewed - Other, AR - Satisfied - Other...</td>\n    </tr>\n    <tr>\n      <th>9</th>\n      <td>10</td>\n      <td>58</td>\n      <td>21 days 1 hours 31 minutes 16 seconds</td>\n      <td>16.0 days 1.0 hours 31.0 minutes 25.0 seconds</td>\n      <td>8.79%</td>\n      <td>{OC - Reviewed - Other, AR - Requested - sylla...</td>\n    </tr>\n  </tbody>\n</table>\n</div>"
     },
     "execution_count": 13,
     "metadata": {},
     "output_type": "execute_result"
    }
   ],
   "source": [
    "s3_t1=pd.DataFrame({'Number of Workflow processes in this Workflow Segment':count_dic.keys(),'Number of cases':len_list, 'average time for workflow segment':list_avgtime_per_key_str,'median time for workflow segment':list_mediantime_per_key_str,'percentage of cases reaching to end of workflow segment':list_percent_reach_end,'step':list_step_per_key})\n",
    "s3_t1.head(n=10)\n",
    "\n"
   ],
   "metadata": {
    "collapsed": false,
    "pycharm": {
     "name": "#%%\n"
    }
   }
  },
  {
   "cell_type": "code",
   "execution_count": 14,
   "outputs": [],
   "source": [
    "s3_t1.to_csv('segment3_WS1_table.csv', index=False)\n"
   ],
   "metadata": {
    "collapsed": false,
    "pycharm": {
     "name": "#%%\n"
    }
   }
  }
 ],
 "metadata": {
  "kernelspec": {
   "name": "pycharm-78f37aff",
   "language": "python",
   "display_name": "PyCharm (pythonProject)"
  },
  "language_info": {
   "codemirror_mode": {
    "name": "ipython",
    "version": 2
   },
   "file_extension": ".py",
   "mimetype": "text/x-python",
   "name": "python",
   "nbconvert_exporter": "python",
   "pygments_lexer": "ipython2",
   "version": "2.7.6"
  }
 },
 "nbformat": 4,
 "nbformat_minor": 0
}