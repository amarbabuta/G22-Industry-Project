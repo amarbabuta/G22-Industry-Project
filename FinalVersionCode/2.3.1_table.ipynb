{
 "cells": [
  {
   "cell_type": "code",
   "execution_count": 1,
   "metadata": {
    "collapsed": true
   },
   "outputs": [],
   "source": [
    "from __future__ import division\n",
    "import pandas as pd\n",
    "import numpy\n"
   ]
  },
  {
   "cell_type": "code",
   "execution_count": 2,
   "outputs": [],
   "source": [
    "df3_WS1T = pd.read_csv(\"/Users/asteriag/Desktop/DATASCIENCEPROJECT_WORKFLOW/TimeStamp_Engineering/engineering_AF_segment3_workflowS1_has_duration.csv\",engine='python')"
   ],
   "metadata": {
    "collapsed": false,
    "pycharm": {
     "name": "#%%\n"
    }
   }
  },
  {
   "cell_type": "code",
   "execution_count": 3,
   "outputs": [
    {
     "data": {
      "text/plain": "                 CASE_ID WRKFLW_TSK_MAP_GROUPED WRKFLW_TSK_MAP_DETAILED  \\\n0  1076747|438001|677047                 Submit                  Submit   \n\n     PATH_CRDATETIME                         time_used_str  time_used_second  \n0  2/1/2019 12:57:04  9 days 1 hours 49 minutes 28 seconds          784168.0  ",
      "text/html": "<div>\n<style scoped>\n    .dataframe tbody tr th:only-of-type {\n        vertical-align: middle;\n    }\n\n    .dataframe tbody tr th {\n        vertical-align: top;\n    }\n\n    .dataframe thead th {\n        text-align: right;\n    }\n</style>\n<table border=\"1\" class=\"dataframe\">\n  <thead>\n    <tr style=\"text-align: right;\">\n      <th></th>\n      <th>CASE_ID</th>\n      <th>WRKFLW_TSK_MAP_GROUPED</th>\n      <th>WRKFLW_TSK_MAP_DETAILED</th>\n      <th>PATH_CRDATETIME</th>\n      <th>time_used_str</th>\n      <th>time_used_second</th>\n    </tr>\n  </thead>\n  <tbody>\n    <tr>\n      <th>0</th>\n      <td>1076747|438001|677047</td>\n      <td>Submit</td>\n      <td>Submit</td>\n      <td>2/1/2019 12:57:04</td>\n      <td>9 days 1 hours 49 minutes 28 seconds</td>\n      <td>784168.0</td>\n    </tr>\n  </tbody>\n</table>\n</div>"
     },
     "execution_count": 3,
     "metadata": {},
     "output_type": "execute_result"
    }
   ],
   "source": [
    "df3_WS1T.head(n=1)"
   ],
   "metadata": {
    "collapsed": false,
    "pycharm": {
     "name": "#%%\n"
    }
   }
  },
  {
   "cell_type": "code",
   "execution_count": 4,
   "outputs": [
    {
     "data": {
      "text/plain": "61"
     },
     "execution_count": 4,
     "metadata": {},
     "output_type": "execute_result"
    }
   ],
   "source": [
    "df3_WS1T['WRKFLW_TSK_MAP_GROUPED'].nunique()"
   ],
   "metadata": {
    "collapsed": false,
    "pycharm": {
     "name": "#%%\n"
    }
   }
  },
  {
   "cell_type": "code",
   "execution_count": 5,
   "outputs": [
    {
     "data": {
      "text/plain": "107"
     },
     "execution_count": 5,
     "metadata": {},
     "output_type": "execute_result"
    }
   ],
   "source": [
    "df3_WS1T['WRKFLW_TSK_MAP_DETAILED'].nunique()"
   ],
   "metadata": {
    "collapsed": false,
    "pycharm": {
     "name": "#%%\n"
    }
   }
  },
  {
   "cell_type": "code",
   "execution_count": 6,
   "outputs": [
    {
     "name": "stdout",
     "output_type": "stream",
     "text": [
      "[('Submit', 731), ('Send for Assessment', 626), ('AR - Satisfied - Academic results for prior tertiary studies', 573), ('AR - Satisfied - English language proficiency', 444), ('Put Triage On-Hold', 203), ('AR - Satisfied - Credit for previous study', 168), ('AR - Satisfied - Current enrolment at the University of Melbourne', 158), ('AR - Created - University of Melbourne Statement of Results / transcript', 147), ('AR - Satisfied - University of Melbourne Statement of Results / transcript', 146), ('Release Triage Hold', 146), ('Assessment Decision - Qualified', 127), ('AR - Not Satisfied - English language proficiency', 125), ('OC - Created - English language requirements', 112), ('AR - Created - Further information (1)', 100), ('AR - Created - Assessment information (Coursework) (1)', 97), ('AR - Satisfied - Entry points (Master of Information Technology)', 87), ('AR - Satisfied - Specialisation (Master of Information Technology)', 83), ('AR - Satisfied - Graduate Access Melbourne', 79), ('AR - Satisfied - Curriculum Vitae and professional experience', 77), ('AR - Satisfied - Curriculum Vitae', 67), ('Assessment Decision - No Decision', 62), ('AR - Satisfied - Official syllabus or subject descriptions (in English)', 58), ('AR - Satisfied - Advanced Standing', 56), ('AR - Satisfied - Transcript � My eQuals', 54), ('AR - Satisfied - Further information (1)', 50), ('AR - Satisfied - Assessment information (Coursework) (1)', 43), ('AR - Satisfied - Entry points (Master of Information Systems)', 35), ('AR - Satisfied - Specialisation (Master of Information Systems)', 34), ('AR - Requested - Further information (1)', 27), ('AR - Satisfied - Personal statement (500 words)', 18), ('AR - Requested - Academic results for prior tertiary studies', 16), ('AR - Satisfied - Employer reference letter', 14), ('OC - Reviewed - English language requirements', 11), ('AR - Created - Further information (2)', 9), ('AR - Created - Further information - Official Transcripts', 8), ('AR - Created - Grading scale', 7), ('WITHDRAW & LOCK', 7), ('AR - Created - Further information - Transcript translation and original language', 5), ('AR - Not Satisfied - Academic results for prior tertiary studies', 5), ('AR - Satisfied - Further information (2)', 5), ('AR - Satisfied - Grading scale', 5), ('Assessment Decision - Not Qualified', 5), ('AR - Created - Payment of international application fee', 4), ('AR - Requested - Further information (2)', 4), ('AR - Requested - Official syllabus or subject descriptions (in English)', 4), ('AR - Requested - Payment of international application fee', 4), ('AR - Reviewed - Current enrolment at the University of Melbourne', 4), ('AR - Reviewed - Further information (1)', 4), ('AR - Satisfied - Further information - Transcript translation and original language', 4), ('AR - Created - Advanced standing application', 3), ('AR - Created - Curriculum Vitae', 3), ('AR - Created - Specialisation (Master of Engineering)', 3), ('AR - Created - Syllabus (Melbourne School of Engineering)', 3), ('AR - Reviewed - Academic results for prior tertiary studies', 3), ('AR - Satisfied - Further information - Official Transcripts', 3), ('AR - Satisfied - Specialisation (Master of Engineering)', 3), ('Assessment Outcome - Ineligible / Withdrawn', 3), ('AR - Created - Academic results for prior tertiary studies', 2), ('AR - Created - Further information - Syllabus required for Engineering Advanced Standing', 2), ('AR - Created - Further information - Transcripts for subject credited from previous study', 2), ('AR - Created - Further information � Preference order required as submitted multiple 1st prefer applications', 2), ('AR - Created - Personal statement (500 words)', 2), ('AR - Requested - Curriculum Vitae', 2), ('AR - Requested - Employer reference letter', 2), ('AR - Requested - English language proficiency', 2), ('AR - Requested - Further information - Official Transcripts', 2), ('AR - Reviewed - Curriculum Vitae and professional experience', 2), ('AR - Reviewed - English language proficiency', 2), ('AR - Reviewed - Graduate Access Melbourne', 2), ('AR - Satisfied - Further information - Transcripts for subject credited from previous study', 2), ('AR - Satisfied - Further information � Preference order required as submitted multiple 1st prefer applications', 2), ('AR - Satisfied - Syllabus (Melbourne School of Engineering)', 2), ('AR - Satisfied - Transcript � CHESICC', 2), ('OC - Created - CHESICC transcript authentication for international students', 2), ('OC - Satisfied - English language requirements', 2), ('AR - Created - Academic transcript Grading Scheme', 1), ('AR - Created - Academic transcripts for prior tertiary studies', 1), ('AR - Created - Academic transcripts statement of completion', 1), ('AR - Created - Assessment information (Coursework) (2)', 1), ('AR - Created - Credit for previous study', 1), ('AR - Created - Credit for previous study - non-University of Melbourne students', 1), ('AR - Created - English language requirements', 1), ('AR - Created - Further information - Document corrupted and cannot be opened', 1), ('AR - Created - Further information - Genuine Student Checklist', 1), ('AR - Created - Graduate Access Melbourne', 1), ('AR - Not Satisfied - Credit for previous study', 1), ('AR - Requested - Appointment of authorised representative', 1), ('AR - Requested - Further information - Document corrupted and cannot be opened', 1), ('AR - Requested - Further information - Syllabus required for Engineering Advanced Standing', 1), ('AR - Requested - Further information - Transcript translation and original language', 1), ('AR - Requested - Grading scale', 1), ('AR - Requested - Personal statement (500 words)', 1), ('AR - Requested - Transcript � My eQuals', 1), ('AR - Reviewed - Advanced Standing', 1), ('AR - Reviewed - Credit for previous study', 1), ('AR - Reviewed - Entry points (Master of Information Systems)', 1), ('AR - Reviewed - Official syllabus or subject descriptions (in English)', 1), ('AR - Reviewed - Specialisation (Master of Information Systems)', 1), ('AR - Satisfied - Appointment of authorised representative', 1), ('AR - Satisfied - Assessment information (Coursework) (2)', 1), ('AR - Satisfied - Further information - Syllabus required for Engineering Advanced Standing', 1), ('AR - Satisfied - Guaranteed Entry pathways', 1), ('AR - Satisfied - Sponsorship arrangements', 1), ('Acacdemic - Assessment Decision - Not Qualified', 1), ('OC - Created - MYEQUALS transcript authentication for students', 1), ('OC - Reviewed - CHESICC transcript authentication for international students', 1), ('Send Referral', 1)]\n"
     ]
    }
   ],
   "source": [
    "wd_count = df3_WS1T.groupby('WRKFLW_TSK_MAP_DETAILED').WRKFLW_TSK_MAP_DETAILED.count()\n",
    "wd_dict = dict()\n",
    "for i, v in wd_count.items():\n",
    "    wd_dict[i] = v\n",
    "sorted_wd_dict = sorted(wd_dict.items(), key = lambda x: x[1], reverse = True)\n",
    "print(sorted_wd_dict)"
   ],
   "metadata": {
    "collapsed": false,
    "pycharm": {
     "name": "#%%\n"
    }
   }
  },
  {
   "cell_type": "code",
   "execution_count": 7,
   "outputs": [],
   "source": [
    "import collections\n",
    "numOfWorkflowProcesses = df3_WS1T.groupby('CASE_ID').CASE_ID.count()\n",
    "count_dic=dict()\n",
    "for i,v in numOfWorkflowProcesses.items():\n",
    "    if count_dic.get(v) is None:\n",
    "        count_dic[v]=[]\n",
    "        count_dic[v].append(i)\n",
    "    else:\n",
    "        count_dic[v].append(i)\n",
    "count_dic = dict(sorted(count_dic.items()))\n"
   ],
   "metadata": {
    "collapsed": false,
    "pycharm": {
     "name": "#%%\n"
    }
   }
  },
  {
   "cell_type": "code",
   "execution_count": 8,
   "outputs": [
    {
     "name": "stdout",
     "output_type": "stream",
     "text": [
      "[('AR - Requested - Official syllabus or subject descriptions (in English)', 2872816.0), ('AR - Created - Advanced standing application', 1438509.0), ('AR - Satisfied - University of Melbourne Statement of Results / transcript', 1162918.0), ('Submit', 881363.0), ('Put Triage On-Hold', 825989.0), ('Acacdemic - Assessment Decision - Not Qualified', 620040.0), ('Assessment Decision - No Decision', 502346.0), ('Assessment Outcome - Ineligible / Withdrawn', 463632.0), ('AR - Reviewed - English language proficiency', 252915.0), ('AR - Created - Specialisation (Master of Engineering)', 232361.0), ('Assessment Decision - Not Qualified', 225287.0), ('AR - Created - Assessment information (Coursework) (1)', 125868.0), ('AR - Satisfied - Entry points (Master of Information Technology)', 92862.0), ('AR - Requested - Academic results for prior tertiary studies', 86387.0), ('OC - Created - English language requirements', 78544.0), ('AR - Satisfied - Further information (2)', 67664.0), ('AR - Created - Further information (1)', 59456.0), ('AR - Satisfied - Transcript � My eQuals', 55443.0), ('Assessment Decision - Qualified', 42531.0), ('AR - Satisfied - Curriculum Vitae and professional experience', 41786.0), ('OC - Satisfied - English language requirements', 40589.0), ('AR - Satisfied - Official syllabus or subject descriptions (in English)', 34183.0), ('AR - Satisfied - English language proficiency', 30124.0), ('AR - Satisfied - Credit for previous study', 23897.0), ('AR - Reviewed - Current enrolment at the University of Melbourne', 21138.0), ('AR - Satisfied - Curriculum Vitae', 19552.0), ('Release Triage Hold', 18380.0), ('AR - Not Satisfied - English language proficiency', 16205.0), ('AR - Satisfied - Assessment information (Coursework) (1)', 14727.0), ('AR - Satisfied - Further information (1)', 14196.0), ('AR - Satisfied - Entry points (Master of Information Systems)', 7413.0), ('AR - Satisfied - Academic results for prior tertiary studies', 5889.0), ('AR - Satisfied - Current enrolment at the University of Melbourne', 3769.0), ('AR - Created - University of Melbourne Statement of Results / transcript', 3531.0), ('AR - Requested - English language proficiency', 1463.0), ('AR - Satisfied - Personal statement (500 words)', 907.0), ('AR - Requested - Transcript � My eQuals', 855.0), ('OC - Created - MYEQUALS transcript authentication for students', 821.0), ('AR - Requested - Further information (2)', 573.0), ('AR - Satisfied - Further information � Preference order required as submitted multiple 1st prefer applications', 476.0), ('OC - Reviewed - English language requirements', 385.0), ('AR - Satisfied - Further information - Official Transcripts', 374.0), ('AR - Created - Personal statement (500 words)', 369.0), ('AR - Created - Academic transcripts statement of completion', 337.0), ('AR - Reviewed - Specialisation (Master of Information Systems)', 301.0), ('AR - Satisfied - Appointment of authorised representative', 294.0), ('AR - Created - Syllabus (Melbourne School of Engineering)', 277.0), ('AR - Satisfied - Specialisation (Master of Information Systems)', 264.0), ('AR - Created - Further information (2)', 237.0), ('AR - Satisfied - Specialisation (Master of Information Technology)', 171.0), ('AR - Satisfied - Transcript � CHESICC', 167.0), ('AR - Satisfied - Advanced Standing', 155.0), ('AR - Requested - Payment of international application fee', 151.0), ('AR - Created - Further information � Preference order required as submitted multiple 1st prefer applications', 149.0), ('AR - Requested - Employer reference letter', 133.0), ('AR - Reviewed - Curriculum Vitae and professional experience', 129.0), ('AR - Reviewed - Further information (1)', 126.0), ('AR - Created - Further information - Official Transcripts', 113.0), ('AR - Requested - Further information (1)', 92.0), ('OC - Reviewed - CHESICC transcript authentication for international students', 90.0), ('OC - Created - CHESICC transcript authentication for international students', 88.0), ('AR - Satisfied - Graduate Access Melbourne', 86.0), ('AR - Created - Curriculum Vitae', 84.0), ('AR - Created - Credit for previous study - non-University of Melbourne students', 74.0), ('AR - Satisfied - Specialisation (Master of Engineering)', 72.0), ('AR - Requested - Personal statement (500 words)', 65.0), ('AR - Requested - Appointment of authorised representative', 62.0), ('AR - Created - Assessment information (Coursework) (2)', 58.0), ('AR - Requested - Further information - Syllabus required for Engineering Advanced Standing', 57.0), ('AR - Reviewed - Official syllabus or subject descriptions (in English)', 56.0), ('AR - Created - English language requirements', 52.0), ('AR - Created - Further information - Transcripts for subject credited from previous study', 50.0), ('AR - Created - Graduate Access Melbourne', 40.0), ('AR - Satisfied - Syllabus (Melbourne School of Engineering)', 39.0), ('AR - Created - Academic transcript Grading Scheme', 39.0), ('AR - Satisfied - Sponsorship arrangements', 37.0), ('AR - Satisfied - Assessment information (Coursework) (2)', 35.0), ('AR - Created - Credit for previous study', 34.0), ('AR - Satisfied - Further information - Transcript translation and original language', 32.0), ('AR - Created - Grading scale', 32.0), ('AR - Satisfied - Grading scale', 27.0), ('AR - Requested - Grading scale', 27.0), ('AR - Created - Further information - Genuine Student Checklist', 24.0), ('AR - Satisfied - Employer reference letter', 22.0), ('AR - Not Satisfied - Academic results for prior tertiary studies', 22.0), ('AR - Not Satisfied - Credit for previous study', 21.0), ('Send Referral', 21.0), ('AR - Reviewed - Graduate Access Melbourne', 21.0), ('AR - Requested - Further information - Transcript translation and original language', 21.0), ('AR - Reviewed - Advanced Standing', 21.0), ('AR - Created - Further information - Syllabus required for Engineering Advanced Standing', 17.0), ('AR - Created - Further information - Transcript translation and original language', 15.0), ('AR - Created - Academic results for prior tertiary studies', 13.0), ('AR - Created - Academic transcripts for prior tertiary studies', 13.0), ('AR - Satisfied - Further information - Syllabus required for Engineering Advanced Standing', 9.0), ('AR - Satisfied - Further information - Transcripts for subject credited from previous study', 8.0), ('AR - Reviewed - Entry points (Master of Information Systems)', 8.0), ('AR - Created - Payment of international application fee', 7.0), ('AR - Created - Further information - Document corrupted and cannot be opened', 6.0), ('AR - Requested - Further information - Document corrupted and cannot be opened', 6.0), ('AR - Satisfied - Guaranteed Entry pathways', 5.0), ('AR - Reviewed - Credit for previous study', 4.0), ('AR - Requested - Curriculum Vitae', 3.0), ('AR - Requested - Further information - Official Transcripts', 2.0), ('AR - Reviewed - Academic results for prior tertiary studies', 2.0), ('Send for Assessment', 0.0), ('WITHDRAW & LOCK', 0.0)]\n"
     ]
    }
   ],
   "source": [
    "list = df3_WS1T.WRKFLW_TSK_MAP_DETAILED.unique()\n",
    "avg_time_dict = dict()\n",
    "for key in list :\n",
    "    df_slides = df3_WS1T[df3_WS1T['WRKFLW_TSK_MAP_DETAILED'] == key]\n",
    "    sum = df_slides['time_used_second'].sum()\n",
    "    c = len(df_slides)\n",
    "    avg = sum//c\n",
    "    avg_time_dict[key] = avg\n",
    "\n",
    "sorted_avg_time_dict = sorted(avg_time_dict.items(),key = lambda x: x[1], reverse = True)\n",
    "print(sorted_avg_time_dict)"
   ],
   "metadata": {
    "collapsed": false,
    "pycharm": {
     "name": "#%%\n"
    }
   }
  },
  {
   "cell_type": "code",
   "execution_count": 9,
   "outputs": [],
   "source": [
    "len_list=[]\n",
    "for key in count_dic.keys():\n",
    "    len_list.append(len(count_dic[key]))\n"
   ],
   "metadata": {
    "collapsed": false,
    "pycharm": {
     "name": "#%%\n"
    }
   }
  },
  {
   "cell_type": "code",
   "execution_count": 10,
   "outputs": [],
   "source": [
    "def strfdelta(tdelta, fmt):\n",
    "    d=dict()\n",
    "    d[\"days\"],rem1 = divmod(tdelta,60*60*24)\n",
    "    d[\"hours\"], rem2 = divmod(rem1, 3600)\n",
    "    d[\"minutes\"], d[\"seconds\"] = divmod(rem2, 60)\n",
    "    return fmt.format(**d)"
   ],
   "metadata": {
    "collapsed": false,
    "pycharm": {
     "name": "#%%\n"
    }
   }
  },
  {
   "cell_type": "code",
   "execution_count": 11,
   "outputs": [],
   "source": [
    "list_avgtime_per_key =[]\n",
    "list_sumtime_row = []\n",
    "for key in count_dic.keys():\n",
    "    id_list = count_dic[key]\n",
    "    list_sumtime_person = 0\n",
    "    for id in id_list:\n",
    "        df = df3_WS1T[df3_WS1T['CASE_ID']== id]\n",
    "        tsum = df['time_used_second'].sum()\n",
    "        list_sumtime_person+=tsum\n",
    "    list_avgtime_per_key.append(int((list_sumtime_person/len(count_dic[key]))))\n",
    "    list_sumtime_row.append(list_sumtime_person)\n",
    "list_avgtime_per_key_str = []\n",
    "for i in list_avgtime_per_key:\n",
    "    list_avgtime_per_key_str.append(strfdelta(i,\"{days} days {hours} hours {minutes} minutes {seconds} seconds\"))\n"
   ],
   "metadata": {
    "collapsed": false,
    "pycharm": {
     "name": "#%%\n"
    }
   }
  },
  {
   "cell_type": "code",
   "execution_count": 12,
   "outputs": [],
   "source": [
    "list_mediantime_per_key = []\n",
    "for key in count_dic.keys():\n",
    "    id_list = count_dic[key]\n",
    "    list_sumtime_per_person = []\n",
    "    for id in id_list:\n",
    "        df = df3_WS1T[df3_WS1T['CASE_ID']== id]\n",
    "        tsum = df['time_used_second'].sum()\n",
    "        list_sumtime_per_person.append(tsum)\n",
    "    list_mediantime_per_key.append(numpy.median(list_sumtime_per_person))\n",
    "\n",
    "list_mediantime_per_key_str = []\n",
    "for i in list_mediantime_per_key:\n",
    "    list_mediantime_per_key_str.append(strfdelta(i,\"{days} days {hours} hours {minutes} minutes {seconds} seconds\"))\n"
   ],
   "metadata": {
    "collapsed": false,
    "pycharm": {
     "name": "#%%\n"
    }
   }
  },
  {
   "cell_type": "code",
   "execution_count": 13,
   "outputs": [],
   "source": [
    "list_percent_reach_end = []\n",
    "for key in count_dic.keys():\n",
    "    id_list = count_dic[key]\n",
    "    count_df_end_step = 0\n",
    "    count_df_id = 0\n",
    "    for id in id_list:\n",
    "        df_id = df3_WS1T[df3_WS1T['CASE_ID']== id]\n",
    "        df_end_step = df_id[df_id['WRKFLW_TSK_MAP_GROUPED']=='Send for Assessment']\n",
    "        count_df_id += df_id['CASE_ID'].nunique()\n",
    "        count_df_end_step += df_end_step['CASE_ID'].nunique()\n",
    "    list_percent_reach_end.append(str(round((count_df_end_step/count_df_id)*100,2))+ \"%\")"
   ],
   "metadata": {
    "collapsed": false,
    "pycharm": {
     "name": "#%%\n"
    }
   }
  },
  {
   "cell_type": "code",
   "execution_count": 14,
   "outputs": [],
   "source": [
    "list_step_per_key = []\n",
    "for key in count_dic.keys():\n",
    "    id_list = count_dic[key]\n",
    "    list_step = set()\n",
    "    for id in id_list:\n",
    "        df = df3_WS1T[df3_WS1T['CASE_ID']== id]\n",
    "        for index, row in df.iterrows():\n",
    "            list_step.add(row['WRKFLW_TSK_MAP_GROUPED'])\n",
    "    list_step_per_key.append(list_step)\n"
   ],
   "metadata": {
    "collapsed": false,
    "pycharm": {
     "name": "#%%\n"
    }
   }
  },
  {
   "cell_type": "code",
   "execution_count": 15,
   "outputs": [],
   "source": [
    "from collections import Counter\n",
    "import collections, functools, operator\n",
    "list_step_sum_time_per_key = []\n",
    "list_step_count_per_key = []\n",
    "list_step_ave_time_per_key = []\n",
    "for key in count_dic.keys():\n",
    "    id_list = count_dic[key]\n",
    "    list_step = []\n",
    "    step_time_list = []\n",
    "    for id in id_list:\n",
    "        df = df3_WS1T[df3_WS1T['CASE_ID']== id]\n",
    "        step_time = dict(zip(df.WRKFLW_TSK_MAP_DETAILED, df.time_used_second))\n",
    "        step_time_list.append(step_time)\n",
    "        for index, row in df.iterrows():\n",
    "            list_step.append(row['WRKFLW_TSK_MAP_DETAILED'])\n",
    "\n",
    "    step_sum_time = dict(functools.reduce(operator.add,\n",
    "         map(collections.Counter, step_time_list)))\n",
    "    dict_list_step=dict(Counter(list_step))\n",
    "\n",
    "    step_ave_time = {key: step_sum_time[key] // dict_list_step.get(key, 0)\n",
    "                        for key in step_sum_time.keys()}\n",
    "\n",
    "    sort_step_sum_time = sorted(step_sum_time.items(),key = lambda x: x[1], reverse = True)\n",
    "    list_step_sum_time_per_key.append(sort_step_sum_time)\n",
    "\n",
    "    sort_dict_list_step = sorted(dict_list_step.items(),key = lambda x: x[1], reverse = True)\n",
    "    list_step_count_per_key.append(sort_dict_list_step[:6])\n",
    "\n",
    "    sort_step_ave_time = sorted(step_ave_time.items(),key = lambda x: x[1], reverse = True)\n",
    "    list_step_ave_time_per_key.append(sort_step_ave_time)\n"
   ],
   "metadata": {
    "collapsed": false,
    "pycharm": {
     "name": "#%%\n"
    }
   }
  },
  {
   "cell_type": "code",
   "execution_count": 16,
   "outputs": [
    {
     "name": "stdout",
     "output_type": "stream",
     "text": [
      "dict_keys([1, 2, 3, 4, 5, 6, 7, 8, 9, 10, 11, 12, 13, 14, 15, 16, 17, 18, 19])\n"
     ]
    }
   ],
   "source": [
    "print(count_dic.keys())"
   ],
   "metadata": {
    "collapsed": false,
    "pycharm": {
     "name": "#%%\n"
    }
   }
  },
  {
   "cell_type": "code",
   "execution_count": 17,
   "outputs": [
    {
     "data": {
      "text/plain": "   Number of Workflow processes in this Workflow Segment  Number of cases  \\\n0                                                  1                   36   \n1                                                  2                   31   \n2                                                  3                   15   \n3                                                  4                   75   \n4                                                  5                   86   \n5                                                  6                  113   \n6                                                  7                  111   \n7                                                  8                   86   \n8                                                  9                   47   \n9                                                 10                   58   \n\n        average time for workflow segment  \\\n0      0 days 0 hours 0 minutes 0 seconds   \n1  10 days 15 hours 23 minutes 16 seconds   \n2   17 days 20 hours 35 minutes 6 seconds   \n3  14 days 14 hours 41 minutes 33 seconds   \n4  11 days 21 hours 17 minutes 30 seconds   \n5  14 days 21 hours 24 minutes 10 seconds   \n6   17 days 5 hours 23 minutes 38 seconds   \n7  14 days 21 hours 16 minutes 26 seconds   \n8  25 days 18 hours 46 minutes 34 seconds   \n9   21 days 1 hours 31 minutes 16 seconds   \n\n                 median time for workflow segment  \\\n0      0.0 days 0.0 hours 0.0 minutes 0.0 seconds   \n1    4.0 days 22.0 hours 39.0 minutes 2.0 seconds   \n2  11.0 days 10.0 hours 36.0 minutes 33.0 seconds   \n3   10.0 days 17.0 hours 32.0 minutes 0.0 seconds   \n4     8.0 days 7.0 hours 7.0 minutes 46.0 seconds   \n5     8.0 days 7.0 hours 7.0 minutes 46.0 seconds   \n6  12.0 days 13.0 hours 23.0 minutes 20.0 seconds   \n7   11.0 days 6.0 hours 32.0 minutes 18.0 seconds   \n8   16.0 days 20.0 hours 18.0 minutes 7.0 seconds   \n9   16.0 days 1.0 hours 31.0 minutes 25.0 seconds   \n\n  percentage of cases reaching to end of workflow segment  \\\n0                                               0.0%        \n1                                             74.19%        \n2                                             73.33%        \n3                                              92.0%        \n4                                             87.21%        \n5                                             92.04%        \n6                                             92.79%        \n7                                             91.86%        \n8                                             93.62%        \n9                                             87.93%        \n\n             Num of Occurrences per step(descending)  \\\n0                                     [(Submit, 36)]   \n1  [(Submit, 31), (Send for Assessment, 23), (WIT...   \n2  [(Submit, 15), (Send for Assessment, 11), (AR ...   \n3  [(Submit, 75), (Send for Assessment, 69), (AR ...   \n4  [(Submit, 86), (AR - Satisfied - Academic resu...   \n5  [(Submit, 113), (Send for Assessment, 104), (A...   \n6  [(Submit, 111), (Send for Assessment, 103), (A...   \n7  [(Submit, 86), (AR - Satisfied - Academic resu...   \n8  [(Submit, 47), (Send for Assessment, 44), (AR ...   \n9  [(Submit, 58), (Send for Assessment, 51), (AR ...   \n\n            Average time spends per step(descending)  \\\n0                                                 []   \n1                               [(Submit, 919396.0)]   \n2  [(Submit, 1500506.0), (AR - Created - Assessme...   \n3  [(AR - Satisfied - University of Melbourne Sta...   \n4  [(AR - Satisfied - University of Melbourne Sta...   \n5  [(AR - Requested - Academic results for prior ...   \n6  [(AR - Satisfied - University of Melbourne Sta...   \n7  [(Put Triage On-Hold, 913536.0), (Assessment O...   \n8  [(AR - Satisfied - University of Melbourne Sta...   \n9  [(AR - Created - Advanced standing application...   \n\n   average time for workflow segment(seconds)  \\\n0                                           0   \n1                                      919396   \n2                                     1542906   \n3                                     1262493   \n4                                     1027050   \n5                                     1286650   \n6                                     1488218   \n7                                     1286186   \n8                                     2227594   \n9                                     1819876   \n\n   sum time for workflow segment(seconds)  \n0                                     0.0  \n1                              28501288.0  \n2                              23143596.0  \n3                              94686999.0  \n4                              88326334.0  \n5                             145391521.0  \n6                             165192304.0  \n7                             110612028.0  \n8                             104696950.0  \n9                             105552834.0  ",
      "text/html": "<div>\n<style scoped>\n    .dataframe tbody tr th:only-of-type {\n        vertical-align: middle;\n    }\n\n    .dataframe tbody tr th {\n        vertical-align: top;\n    }\n\n    .dataframe thead th {\n        text-align: right;\n    }\n</style>\n<table border=\"1\" class=\"dataframe\">\n  <thead>\n    <tr style=\"text-align: right;\">\n      <th></th>\n      <th>Number of Workflow processes in this Workflow Segment</th>\n      <th>Number of cases</th>\n      <th>average time for workflow segment</th>\n      <th>median time for workflow segment</th>\n      <th>percentage of cases reaching to end of workflow segment</th>\n      <th>Num of Occurrences per step(descending)</th>\n      <th>Average time spends per step(descending)</th>\n      <th>average time for workflow segment(seconds)</th>\n      <th>sum time for workflow segment(seconds)</th>\n    </tr>\n  </thead>\n  <tbody>\n    <tr>\n      <th>0</th>\n      <td>1</td>\n      <td>36</td>\n      <td>0 days 0 hours 0 minutes 0 seconds</td>\n      <td>0.0 days 0.0 hours 0.0 minutes 0.0 seconds</td>\n      <td>0.0%</td>\n      <td>[(Submit, 36)]</td>\n      <td>[]</td>\n      <td>0</td>\n      <td>0.0</td>\n    </tr>\n    <tr>\n      <th>1</th>\n      <td>2</td>\n      <td>31</td>\n      <td>10 days 15 hours 23 minutes 16 seconds</td>\n      <td>4.0 days 22.0 hours 39.0 minutes 2.0 seconds</td>\n      <td>74.19%</td>\n      <td>[(Submit, 31), (Send for Assessment, 23), (WIT...</td>\n      <td>[(Submit, 919396.0)]</td>\n      <td>919396</td>\n      <td>28501288.0</td>\n    </tr>\n    <tr>\n      <th>2</th>\n      <td>3</td>\n      <td>15</td>\n      <td>17 days 20 hours 35 minutes 6 seconds</td>\n      <td>11.0 days 10.0 hours 36.0 minutes 33.0 seconds</td>\n      <td>73.33%</td>\n      <td>[(Submit, 15), (Send for Assessment, 11), (AR ...</td>\n      <td>[(Submit, 1500506.0), (AR - Created - Assessme...</td>\n      <td>1542906</td>\n      <td>23143596.0</td>\n    </tr>\n    <tr>\n      <th>3</th>\n      <td>4</td>\n      <td>75</td>\n      <td>14 days 14 hours 41 minutes 33 seconds</td>\n      <td>10.0 days 17.0 hours 32.0 minutes 0.0 seconds</td>\n      <td>92.0%</td>\n      <td>[(Submit, 75), (Send for Assessment, 69), (AR ...</td>\n      <td>[(AR - Satisfied - University of Melbourne Sta...</td>\n      <td>1262493</td>\n      <td>94686999.0</td>\n    </tr>\n    <tr>\n      <th>4</th>\n      <td>5</td>\n      <td>86</td>\n      <td>11 days 21 hours 17 minutes 30 seconds</td>\n      <td>8.0 days 7.0 hours 7.0 minutes 46.0 seconds</td>\n      <td>87.21%</td>\n      <td>[(Submit, 86), (AR - Satisfied - Academic resu...</td>\n      <td>[(AR - Satisfied - University of Melbourne Sta...</td>\n      <td>1027050</td>\n      <td>88326334.0</td>\n    </tr>\n    <tr>\n      <th>5</th>\n      <td>6</td>\n      <td>113</td>\n      <td>14 days 21 hours 24 minutes 10 seconds</td>\n      <td>8.0 days 7.0 hours 7.0 minutes 46.0 seconds</td>\n      <td>92.04%</td>\n      <td>[(Submit, 113), (Send for Assessment, 104), (A...</td>\n      <td>[(AR - Requested - Academic results for prior ...</td>\n      <td>1286650</td>\n      <td>145391521.0</td>\n    </tr>\n    <tr>\n      <th>6</th>\n      <td>7</td>\n      <td>111</td>\n      <td>17 days 5 hours 23 minutes 38 seconds</td>\n      <td>12.0 days 13.0 hours 23.0 minutes 20.0 seconds</td>\n      <td>92.79%</td>\n      <td>[(Submit, 111), (Send for Assessment, 103), (A...</td>\n      <td>[(AR - Satisfied - University of Melbourne Sta...</td>\n      <td>1488218</td>\n      <td>165192304.0</td>\n    </tr>\n    <tr>\n      <th>7</th>\n      <td>8</td>\n      <td>86</td>\n      <td>14 days 21 hours 16 minutes 26 seconds</td>\n      <td>11.0 days 6.0 hours 32.0 minutes 18.0 seconds</td>\n      <td>91.86%</td>\n      <td>[(Submit, 86), (AR - Satisfied - Academic resu...</td>\n      <td>[(Put Triage On-Hold, 913536.0), (Assessment O...</td>\n      <td>1286186</td>\n      <td>110612028.0</td>\n    </tr>\n    <tr>\n      <th>8</th>\n      <td>9</td>\n      <td>47</td>\n      <td>25 days 18 hours 46 minutes 34 seconds</td>\n      <td>16.0 days 20.0 hours 18.0 minutes 7.0 seconds</td>\n      <td>93.62%</td>\n      <td>[(Submit, 47), (Send for Assessment, 44), (AR ...</td>\n      <td>[(AR - Satisfied - University of Melbourne Sta...</td>\n      <td>2227594</td>\n      <td>104696950.0</td>\n    </tr>\n    <tr>\n      <th>9</th>\n      <td>10</td>\n      <td>58</td>\n      <td>21 days 1 hours 31 minutes 16 seconds</td>\n      <td>16.0 days 1.0 hours 31.0 minutes 25.0 seconds</td>\n      <td>87.93%</td>\n      <td>[(Submit, 58), (Send for Assessment, 51), (AR ...</td>\n      <td>[(AR - Created - Advanced standing application...</td>\n      <td>1819876</td>\n      <td>105552834.0</td>\n    </tr>\n  </tbody>\n</table>\n</div>"
     },
     "execution_count": 17,
     "metadata": {},
     "output_type": "execute_result"
    }
   ],
   "source": [
    "s3_t1=pd.DataFrame({'Number of Workflow processes in this Workflow Segment':count_dic.keys(),'Number of cases':len_list, 'average time for workflow segment':list_avgtime_per_key_str,\n",
    "                    'median time for workflow segment':list_mediantime_per_key_str,'percentage of cases reaching to end of workflow segment':list_percent_reach_end})#,'step':list_step_per_key\n",
    "s3_t1['Num of Occurrences per step(descending)'] = list_step_count_per_key\n",
    "s3_t1['Average time spends per step(descending)'] = list_step_ave_time_per_key\n",
    "s3_t1['average time for workflow segment(seconds)'] = list_avgtime_per_key\n",
    "s3_t1['sum time for workflow segment(seconds)'] = list_sumtime_row\n",
    "s3_t1.head(n=10)\n",
    "\n"
   ],
   "metadata": {
    "collapsed": false,
    "pycharm": {
     "name": "#%%\n"
    }
   }
  },
  {
   "cell_type": "code",
   "execution_count": 18,
   "outputs": [],
   "source": [
    "s3_t1.to_csv('engineering_AF_segment3_workflowS1_table.csv', index=False)\n"
   ],
   "metadata": {
    "collapsed": false,
    "pycharm": {
     "name": "#%%\n"
    }
   }
  }
 ],
 "metadata": {
  "kernelspec": {
   "name": "pycharm-3f427a6c",
   "language": "python",
   "display_name": "PyCharm (pythonProject)"
  },
  "language_info": {
   "codemirror_mode": {
    "name": "ipython",
    "version": 2
   },
   "file_extension": ".py",
   "mimetype": "text/x-python",
   "name": "python",
   "nbconvert_exporter": "python",
   "pygments_lexer": "ipython2",
   "version": "2.7.6"
  }
 },
 "nbformat": 4,
 "nbformat_minor": 0
}