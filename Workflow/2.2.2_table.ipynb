{
 "cells": [
  {
   "cell_type": "code",
   "execution_count": 1,
   "metadata": {
    "collapsed": true
   },
   "outputs": [],
   "source": [
    "import pandas as pd\n",
    "import numpy\n",
    "from __future__ import division"
   ]
  },
  {
   "cell_type": "code",
   "execution_count": 2,
   "outputs": [],
   "source": [
    "df2_WS2T = pd.read_csv(\"/Users/asteriag/Desktop/DATASCIENCEPROJECT_WORKFLOW/pythonProject/segment2_WS2_has_duration.csv\")"
   ],
   "metadata": {
    "collapsed": false,
    "pycharm": {
     "name": "#%%\n"
    }
   }
  },
  {
   "cell_type": "code",
   "execution_count": 3,
   "outputs": [
    {
     "data": {
      "text/plain": "                CASE_ID WRKFLW_TSK_MAP_GROUPED WRKFLW_TSK_MAP_DETAILED  \\\n0  914197|528561|809459    Send for Assessment     Send for Assessment   \n\n      PATH_CRDATETIME ITEM_CRUSER WRKFLW_ORG_TYPE_CRUSER  STATUS_ORDER  \\\n0  8/11/2019 14:16:43      914197                    NaN            11   \n\n  LATEST_STATUS        WRKFLW_PROCESS                        QUERY_PART  ...  \\\n0             N  1. App to Assessment  Part 1 - Application ID Workflow  ...   \n\n  SPK_CAT_TYPE_CD  BROAD_COURSE_LEVEL   DEGREETYPE  \\\n0             MCW                HDCW  Full Degree   \n\n   LIABILITY_CATEGORY_CD_RECODE  ORIG_LIABILITY_CATEGORY_CD_RECODE  \\\n0                            AS                                 AS   \n\n  OFFER_RELEASED_FG OFFER_OUTCOME_CD OFFER_CONDITIONS  \\\n0                 Y             $DEC                N   \n\n                          time_used_str  time_used_second  \n0  4 days 0 hours 20 minutes 48 seconds          346848.0  \n\n[1 rows x 58 columns]",
      "text/html": "<div>\n<style scoped>\n    .dataframe tbody tr th:only-of-type {\n        vertical-align: middle;\n    }\n\n    .dataframe tbody tr th {\n        vertical-align: top;\n    }\n\n    .dataframe thead th {\n        text-align: right;\n    }\n</style>\n<table border=\"1\" class=\"dataframe\">\n  <thead>\n    <tr style=\"text-align: right;\">\n      <th></th>\n      <th>CASE_ID</th>\n      <th>WRKFLW_TSK_MAP_GROUPED</th>\n      <th>WRKFLW_TSK_MAP_DETAILED</th>\n      <th>PATH_CRDATETIME</th>\n      <th>ITEM_CRUSER</th>\n      <th>WRKFLW_ORG_TYPE_CRUSER</th>\n      <th>STATUS_ORDER</th>\n      <th>LATEST_STATUS</th>\n      <th>WRKFLW_PROCESS</th>\n      <th>QUERY_PART</th>\n      <th>...</th>\n      <th>SPK_CAT_TYPE_CD</th>\n      <th>BROAD_COURSE_LEVEL</th>\n      <th>DEGREETYPE</th>\n      <th>LIABILITY_CATEGORY_CD_RECODE</th>\n      <th>ORIG_LIABILITY_CATEGORY_CD_RECODE</th>\n      <th>OFFER_RELEASED_FG</th>\n      <th>OFFER_OUTCOME_CD</th>\n      <th>OFFER_CONDITIONS</th>\n      <th>time_used_str</th>\n      <th>time_used_second</th>\n    </tr>\n  </thead>\n  <tbody>\n    <tr>\n      <th>0</th>\n      <td>914197|528561|809459</td>\n      <td>Send for Assessment</td>\n      <td>Send for Assessment</td>\n      <td>8/11/2019 14:16:43</td>\n      <td>914197</td>\n      <td>NaN</td>\n      <td>11</td>\n      <td>N</td>\n      <td>1. App to Assessment</td>\n      <td>Part 1 - Application ID Workflow</td>\n      <td>...</td>\n      <td>MCW</td>\n      <td>HDCW</td>\n      <td>Full Degree</td>\n      <td>AS</td>\n      <td>AS</td>\n      <td>Y</td>\n      <td>$DEC</td>\n      <td>N</td>\n      <td>4 days 0 hours 20 minutes 48 seconds</td>\n      <td>346848.0</td>\n    </tr>\n  </tbody>\n</table>\n<p>1 rows × 58 columns</p>\n</div>"
     },
     "execution_count": 3,
     "metadata": {},
     "output_type": "execute_result"
    }
   ],
   "source": [
    "df2_WS2T.head(n=1)"
   ],
   "metadata": {
    "collapsed": false,
    "pycharm": {
     "name": "#%%\n"
    }
   }
  },
  {
   "cell_type": "code",
   "execution_count": 4,
   "outputs": [],
   "source": [
    "numOfWorkflowProcesses = df2_WS2T.groupby('CASE_ID').CASE_ID.count()\n",
    "\n",
    "count_dic=dict()\n",
    "for i,v in numOfWorkflowProcesses.items():\n",
    "    if count_dic.get(v) is None:\n",
    "        count_dic[v]=[]\n",
    "        count_dic[v].append(i)\n",
    "    else:\n",
    "        count_dic[v].append(i)\n",
    "#count_dic\n"
   ],
   "metadata": {
    "collapsed": false,
    "pycharm": {
     "name": "#%%\n"
    }
   }
  },
  {
   "cell_type": "code",
   "execution_count": 5,
   "outputs": [],
   "source": [
    "len_list=[]\n",
    "for key in count_dic.keys():\n",
    "    len_list.append(len(count_dic[key]))"
   ],
   "metadata": {
    "collapsed": false,
    "pycharm": {
     "name": "#%%\n"
    }
   }
  },
  {
   "cell_type": "code",
   "execution_count": 6,
   "outputs": [],
   "source": [
    "def strfdelta(tdelta, fmt):\n",
    "    d=dict()\n",
    "    d[\"days\"],rem1 = divmod(tdelta,60*60*24)\n",
    "    d[\"hours\"], rem2 = divmod(rem1, 3600)\n",
    "    d[\"minutes\"], d[\"seconds\"] = divmod(rem2, 60)\n",
    "    return fmt.format(**d)"
   ],
   "metadata": {
    "collapsed": false,
    "pycharm": {
     "name": "#%%\n"
    }
   }
  },
  {
   "cell_type": "code",
   "execution_count": 7,
   "outputs": [],
   "source": [
    "list_avgtime_per_key =[]\n",
    "for key in count_dic.keys():\n",
    "    id_list = count_dic[key]\n",
    "    list_sumtime_person = 0\n",
    "    for id in id_list:\n",
    "        df = df2_WS2T[df2_WS2T['CASE_ID']== id]\n",
    "        tsum = df['time_used_second'].sum()\n",
    "        list_sumtime_person+=tsum\n",
    "    list_avgtime_per_key.append(int((list_sumtime_person/len(count_dic[key]))))\n",
    "\n",
    "list_avgtime_per_key_str = []\n",
    "for i in list_avgtime_per_key:\n",
    "    list_avgtime_per_key_str.append(strfdelta(i,\"{days} days {hours} hours {minutes} minutes {seconds} seconds\"))"
   ],
   "metadata": {
    "collapsed": false,
    "pycharm": {
     "name": "#%%\n"
    }
   }
  },
  {
   "cell_type": "code",
   "execution_count": 8,
   "outputs": [],
   "source": [
    "list_mediantime_per_key = []\n",
    "for key in count_dic.keys():\n",
    "    id_list = count_dic[key]\n",
    "    list_sumtime_per_person = []\n",
    "    for id in id_list:\n",
    "        df = df2_WS2T[df2_WS2T['CASE_ID']== id]\n",
    "        tsum = df['time_used_second'].sum()\n",
    "        list_sumtime_per_person.append(tsum)\n",
    "    list_mediantime_per_key.append(numpy.median(list_sumtime_per_person))\n",
    "\n",
    "list_mediantime_per_key_str = []\n",
    "for i in list_mediantime_per_key:\n",
    "    list_mediantime_per_key_str.append(strfdelta(i,\"{days} days {hours} hours {minutes} minutes {seconds} seconds\"))"
   ],
   "metadata": {
    "collapsed": false,
    "pycharm": {
     "name": "#%%\n"
    }
   }
  },
  {
   "cell_type": "code",
   "execution_count": 9,
   "outputs": [],
   "source": [
    "list_percent_reach_end = []\n",
    "for key in count_dic.keys():\n",
    "    id_list = count_dic[key]\n",
    "    count_df_end_step = 0\n",
    "    count_df_id = 0\n",
    "    for id in id_list:\n",
    "        df_id = df2_WS2T[df2_WS2T['CASE_ID']== id]\n",
    "        df_end_step = df_id[df_id['WRKFLW_TSK_MAP_GROUPED'].isin(['Assessment Outcome - Successful','Assessment Outcome - Not Successful']) ]\n",
    "        count_df_id += df_id['CASE_ID'].count()\n",
    "        count_df_end_step += df_end_step['CASE_ID'].count()\n",
    "    list_percent_reach_end.append(str(round((count_df_end_step/count_df_id)*100,2))+ \"%\")"
   ],
   "metadata": {
    "collapsed": false,
    "pycharm": {
     "name": "#%%\n"
    }
   }
  },
  {
   "cell_type": "code",
   "execution_count": 10,
   "outputs": [
    {
     "data": {
      "text/plain": "   Number of Workflow processes in this Workflow Segment  Number of cases  \\\n0                                                  1                  115   \n1                                                  2                  167   \n2                                                  3                  571   \n3                                                  4                  334   \n4                                                  5                  223   \n5                                                  6                  156   \n6                                                  7                   78   \n7                                                  8                   55   \n8                                                  9                   39   \n9                                                 10                   23   \n\n        average time for workflow segment  \\\n0      0 days 0 hours 0 minutes 0 seconds   \n1    19 days 8 hours 11 minutes 2 seconds   \n2  19 days 12 hours 27 minutes 27 seconds   \n3   28 days 0 hours 12 minutes 43 seconds   \n4  33 days 19 hours 54 minutes 53 seconds   \n5  35 days 21 hours 27 minutes 16 seconds   \n6   35 days 6 hours 30 minutes 32 seconds   \n7   48 days 3 hours 50 minutes 12 seconds   \n8  42 days 22 hours 37 minutes 14 seconds   \n9   70 days 2 hours 30 minutes 27 seconds   \n\n                 median time for workflow segment  \\\n0      0.0 days 0.0 hours 0.0 minutes 0.0 seconds   \n1   10.0 days 23.0 hours 42.0 minutes 6.0 seconds   \n2   14.0 days 4.0 hours 54.0 minutes 47.0 seconds   \n3    19.0 days 5.0 hours 22.0 minutes 4.0 seconds   \n4   21.0 days 0.0 hours 15.0 minutes 38.0 seconds   \n5  26.0 days 12.0 hours 33.0 minutes 26.0 seconds   \n6    21.0 days 23.0 hours 0.0 minutes 0.0 seconds   \n7    25.0 days 23.0 hours 5.0 minutes 5.0 seconds   \n8  34.0 days 18.0 hours 35.0 minutes 19.0 seconds   \n9   22.0 days 1.0 hours 59.0 minutes 34.0 seconds   \n\n  percentage of cases reaching to end of workflow segment  \n0                                               0.0%       \n1                                             17.96%       \n2                                             30.59%       \n3                                             21.33%       \n4                                             17.49%       \n5                                             14.21%       \n6                                             11.54%       \n7                                             10.45%       \n8                                              9.12%       \n9                                              8.26%       ",
      "text/html": "<div>\n<style scoped>\n    .dataframe tbody tr th:only-of-type {\n        vertical-align: middle;\n    }\n\n    .dataframe tbody tr th {\n        vertical-align: top;\n    }\n\n    .dataframe thead th {\n        text-align: right;\n    }\n</style>\n<table border=\"1\" class=\"dataframe\">\n  <thead>\n    <tr style=\"text-align: right;\">\n      <th></th>\n      <th>Number of Workflow processes in this Workflow Segment</th>\n      <th>Number of cases</th>\n      <th>average time for workflow segment</th>\n      <th>median time for workflow segment</th>\n      <th>percentage of cases reaching to end of workflow segment</th>\n    </tr>\n  </thead>\n  <tbody>\n    <tr>\n      <th>0</th>\n      <td>1</td>\n      <td>115</td>\n      <td>0 days 0 hours 0 minutes 0 seconds</td>\n      <td>0.0 days 0.0 hours 0.0 minutes 0.0 seconds</td>\n      <td>0.0%</td>\n    </tr>\n    <tr>\n      <th>1</th>\n      <td>2</td>\n      <td>167</td>\n      <td>19 days 8 hours 11 minutes 2 seconds</td>\n      <td>10.0 days 23.0 hours 42.0 minutes 6.0 seconds</td>\n      <td>17.96%</td>\n    </tr>\n    <tr>\n      <th>2</th>\n      <td>3</td>\n      <td>571</td>\n      <td>19 days 12 hours 27 minutes 27 seconds</td>\n      <td>14.0 days 4.0 hours 54.0 minutes 47.0 seconds</td>\n      <td>30.59%</td>\n    </tr>\n    <tr>\n      <th>3</th>\n      <td>4</td>\n      <td>334</td>\n      <td>28 days 0 hours 12 minutes 43 seconds</td>\n      <td>19.0 days 5.0 hours 22.0 minutes 4.0 seconds</td>\n      <td>21.33%</td>\n    </tr>\n    <tr>\n      <th>4</th>\n      <td>5</td>\n      <td>223</td>\n      <td>33 days 19 hours 54 minutes 53 seconds</td>\n      <td>21.0 days 0.0 hours 15.0 minutes 38.0 seconds</td>\n      <td>17.49%</td>\n    </tr>\n    <tr>\n      <th>5</th>\n      <td>6</td>\n      <td>156</td>\n      <td>35 days 21 hours 27 minutes 16 seconds</td>\n      <td>26.0 days 12.0 hours 33.0 minutes 26.0 seconds</td>\n      <td>14.21%</td>\n    </tr>\n    <tr>\n      <th>6</th>\n      <td>7</td>\n      <td>78</td>\n      <td>35 days 6 hours 30 minutes 32 seconds</td>\n      <td>21.0 days 23.0 hours 0.0 minutes 0.0 seconds</td>\n      <td>11.54%</td>\n    </tr>\n    <tr>\n      <th>7</th>\n      <td>8</td>\n      <td>55</td>\n      <td>48 days 3 hours 50 minutes 12 seconds</td>\n      <td>25.0 days 23.0 hours 5.0 minutes 5.0 seconds</td>\n      <td>10.45%</td>\n    </tr>\n    <tr>\n      <th>8</th>\n      <td>9</td>\n      <td>39</td>\n      <td>42 days 22 hours 37 minutes 14 seconds</td>\n      <td>34.0 days 18.0 hours 35.0 minutes 19.0 seconds</td>\n      <td>9.12%</td>\n    </tr>\n    <tr>\n      <th>9</th>\n      <td>10</td>\n      <td>23</td>\n      <td>70 days 2 hours 30 minutes 27 seconds</td>\n      <td>22.0 days 1.0 hours 59.0 minutes 34.0 seconds</td>\n      <td>8.26%</td>\n    </tr>\n  </tbody>\n</table>\n</div>"
     },
     "execution_count": 10,
     "metadata": {},
     "output_type": "execute_result"
    }
   ],
   "source": [
    "s2_t2=pd.DataFrame({'Number of Workflow processes in this Workflow Segment':count_dic.keys(),'Number of cases':len_list, 'average time for workflow segment':list_avgtime_per_key_str,'median time for workflow segment':list_mediantime_per_key_str,'percentage of cases reaching to end of workflow segment':list_percent_reach_end})\n",
    "s2_t2.head(n=10)\n"
   ],
   "metadata": {
    "collapsed": false,
    "pycharm": {
     "name": "#%%\n"
    }
   }
  },
  {
   "cell_type": "code",
   "execution_count": 11,
   "outputs": [],
   "source": [
    "s2_t2.to_csv('segment2_WS2_table.csv', index=False)\n",
    "\n",
    "\n",
    "\n",
    "\n",
    "\n",
    "\n"
   ],
   "metadata": {
    "collapsed": false,
    "pycharm": {
     "name": "#%%\n"
    }
   }
  }
 ],
 "metadata": {
  "kernelspec": {
   "name": "pycharm-78f37aff",
   "language": "python",
   "display_name": "PyCharm (pythonProject)"
  },
  "language_info": {
   "codemirror_mode": {
    "name": "ipython",
    "version": 2
   },
   "file_extension": ".py",
   "mimetype": "text/x-python",
   "name": "python",
   "nbconvert_exporter": "python",
   "pygments_lexer": "ipython2",
   "version": "2.7.6"
  }
 },
 "nbformat": 4,
 "nbformat_minor": 0
}