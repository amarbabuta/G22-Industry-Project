{
 "cells": [
  {
   "cell_type": "code",
   "execution_count": 1,
   "metadata": {
    "collapsed": true
   },
   "outputs": [],
   "source": [
    "import pandas as pd\n",
    "import numpy\n",
    "from __future__ import division"
   ]
  },
  {
   "cell_type": "code",
   "execution_count": 2,
   "outputs": [],
   "source": [
    "df1_WS2T = pd.read_csv(\"/Users/asteriag/Desktop/DATASCIENCEPROJECT_WORKFLOW/TimeStamp_Engineering/engineering_OF_segment1_workflowS2_has_duration.csv\",engine='python')"
   ],
   "metadata": {
    "collapsed": false,
    "pycharm": {
     "name": "#%%\n"
    }
   }
  },
  {
   "cell_type": "code",
   "execution_count": 3,
   "outputs": [
    {
     "data": {
      "text/plain": "                 CASE_ID WRKFLW_TSK_MAP_GROUPED WRKFLW_TSK_MAP_DETAILED  \\\n0  1126888|499828|767443    Send for Assessment     Send for Assessment   \n\n       PATH_CRDATETIME ITEM_CRUSER WRKFLW_ORG_TYPE_CRUSER  STATUS_ORDER  \\\n0  17/12/2019 14:06:44    PRESTONZ      Academic Services             9   \n\n  LATEST_STATUS        WRKFLW_PROCESS                        QUERY_PART  ...  \\\n0             N  1. App to Assessment  Part 1 - Application ID Workflow  ...   \n\n  SPK_CAT_TYPE_CD  BROAD_COURSE_LEVEL   DEGREETYPE  \\\n0             MCW                HDCW  Full Degree   \n\n   LIABILITY_CATEGORY_CD_RECODE  ORIG_LIABILITY_CATEGORY_CD_RECODE  \\\n0                            OF                                 OF   \n\n  OFFER_RELEASED_FG OFFER_OUTCOME_CD OFFER_CONDITIONS  \\\n0                 Y              NaN                Y   \n\n                           time_used_str  time_used_second  \n0  21 days 21 hours 36 minutes 6 seconds         1892166.0  \n\n[1 rows x 58 columns]",
      "text/html": "<div>\n<style scoped>\n    .dataframe tbody tr th:only-of-type {\n        vertical-align: middle;\n    }\n\n    .dataframe tbody tr th {\n        vertical-align: top;\n    }\n\n    .dataframe thead th {\n        text-align: right;\n    }\n</style>\n<table border=\"1\" class=\"dataframe\">\n  <thead>\n    <tr style=\"text-align: right;\">\n      <th></th>\n      <th>CASE_ID</th>\n      <th>WRKFLW_TSK_MAP_GROUPED</th>\n      <th>WRKFLW_TSK_MAP_DETAILED</th>\n      <th>PATH_CRDATETIME</th>\n      <th>ITEM_CRUSER</th>\n      <th>WRKFLW_ORG_TYPE_CRUSER</th>\n      <th>STATUS_ORDER</th>\n      <th>LATEST_STATUS</th>\n      <th>WRKFLW_PROCESS</th>\n      <th>QUERY_PART</th>\n      <th>...</th>\n      <th>SPK_CAT_TYPE_CD</th>\n      <th>BROAD_COURSE_LEVEL</th>\n      <th>DEGREETYPE</th>\n      <th>LIABILITY_CATEGORY_CD_RECODE</th>\n      <th>ORIG_LIABILITY_CATEGORY_CD_RECODE</th>\n      <th>OFFER_RELEASED_FG</th>\n      <th>OFFER_OUTCOME_CD</th>\n      <th>OFFER_CONDITIONS</th>\n      <th>time_used_str</th>\n      <th>time_used_second</th>\n    </tr>\n  </thead>\n  <tbody>\n    <tr>\n      <th>0</th>\n      <td>1126888|499828|767443</td>\n      <td>Send for Assessment</td>\n      <td>Send for Assessment</td>\n      <td>17/12/2019 14:06:44</td>\n      <td>PRESTONZ</td>\n      <td>Academic Services</td>\n      <td>9</td>\n      <td>N</td>\n      <td>1. App to Assessment</td>\n      <td>Part 1 - Application ID Workflow</td>\n      <td>...</td>\n      <td>MCW</td>\n      <td>HDCW</td>\n      <td>Full Degree</td>\n      <td>OF</td>\n      <td>OF</td>\n      <td>Y</td>\n      <td>NaN</td>\n      <td>Y</td>\n      <td>21 days 21 hours 36 minutes 6 seconds</td>\n      <td>1892166.0</td>\n    </tr>\n  </tbody>\n</table>\n<p>1 rows × 58 columns</p>\n</div>"
     },
     "execution_count": 3,
     "metadata": {},
     "output_type": "execute_result"
    }
   ],
   "source": [
    "df1_WS2T.head(n=1)"
   ],
   "metadata": {
    "collapsed": false,
    "pycharm": {
     "name": "#%%\n"
    }
   }
  },
  {
   "cell_type": "code",
   "execution_count": 4,
   "outputs": [],
   "source": [
    "numOfWorkflowProcesses = df1_WS2T.groupby('CASE_ID').CASE_ID.count()\n",
    "\n",
    "count_dic=dict()\n",
    "for i,v in numOfWorkflowProcesses.items():\n",
    "    if count_dic.get(v) is None:\n",
    "        count_dic[v]=[]\n",
    "        count_dic[v].append(i)\n",
    "    else:\n",
    "        count_dic[v].append(i)\n",
    "#count_dic\n",
    "count_dic = dict(sorted(count_dic.items()))"
   ],
   "metadata": {
    "collapsed": false,
    "pycharm": {
     "name": "#%%\n"
    }
   }
  },
  {
   "cell_type": "code",
   "execution_count": 5,
   "outputs": [],
   "source": [
    "len_list=[]\n",
    "for key in count_dic.keys():\n",
    "    len_list.append(len(count_dic[key]))"
   ],
   "metadata": {
    "collapsed": false,
    "pycharm": {
     "name": "#%%\n"
    }
   }
  },
  {
   "cell_type": "code",
   "execution_count": 6,
   "outputs": [],
   "source": [
    "def strfdelta(tdelta, fmt):\n",
    "    d=dict()\n",
    "    d[\"days\"],rem1 = divmod(tdelta,60*60*24)\n",
    "    d[\"hours\"], rem2 = divmod(rem1, 3600)\n",
    "    d[\"minutes\"], d[\"seconds\"] = divmod(rem2, 60)\n",
    "    return fmt.format(**d)"
   ],
   "metadata": {
    "collapsed": false,
    "pycharm": {
     "name": "#%%\n"
    }
   }
  },
  {
   "cell_type": "code",
   "execution_count": 7,
   "outputs": [],
   "source": [
    "list_avgtime_per_key =[]\n",
    "for key in count_dic.keys():\n",
    "    id_list = count_dic[key]\n",
    "    list_sumtime_person = 0\n",
    "    for id in id_list:\n",
    "        df = df1_WS2T[df1_WS2T['CASE_ID']== id]\n",
    "        tsum = df['time_used_second'].sum()\n",
    "        list_sumtime_person+=tsum\n",
    "    list_avgtime_per_key.append(int((list_sumtime_person/len(count_dic[key]))))\n",
    "\n",
    "list_avgtime_per_key_str = []\n",
    "for i in list_avgtime_per_key:\n",
    "    list_avgtime_per_key_str.append(strfdelta(i,\"{days} days {hours} hours {minutes} minutes {seconds} seconds\"))"
   ],
   "metadata": {
    "collapsed": false,
    "pycharm": {
     "name": "#%%\n"
    }
   }
  },
  {
   "cell_type": "code",
   "execution_count": 8,
   "outputs": [],
   "source": [
    "list_mediantime_per_key = []\n",
    "for key in count_dic.keys():\n",
    "    id_list = count_dic[key]\n",
    "    list_sumtime_per_person = []\n",
    "    for id in id_list:\n",
    "        df = df1_WS2T[df1_WS2T['CASE_ID']== id]\n",
    "        tsum = df['time_used_second'].sum()\n",
    "        list_sumtime_per_person.append(tsum)\n",
    "    list_mediantime_per_key.append(numpy.median(list_sumtime_per_person))\n",
    "\n",
    "list_mediantime_per_key_str = []\n",
    "for i in list_mediantime_per_key:\n",
    "    list_mediantime_per_key_str.append(strfdelta(i,\"{days} days {hours} hours {minutes} minutes {seconds} seconds\"))"
   ],
   "metadata": {
    "collapsed": false,
    "pycharm": {
     "name": "#%%\n"
    }
   }
  },
  {
   "cell_type": "code",
   "execution_count": 9,
   "outputs": [],
   "source": [
    "list_percent_reach_end = []\n",
    "for key in count_dic.keys():\n",
    "    id_list = count_dic[key]\n",
    "    count_df_end_step = 0\n",
    "    count_df_id = 0\n",
    "    for id in id_list:\n",
    "        df_id = df1_WS2T[df1_WS2T['CASE_ID']== id]\n",
    "        df_end_step = df_id[df_id['WRKFLW_TSK_MAP_GROUPED'].isin(['Assessment Outcome - Successful','Assessment Outcome - Not Successful']) ]\n",
    "        count_df_id += df_id['CASE_ID'].nunique()\n",
    "        count_df_end_step += df_end_step['CASE_ID'].nunique()\n",
    "    list_percent_reach_end.append(str(round((count_df_end_step/count_df_id)*100,2))+ \"%\")"
   ],
   "metadata": {
    "collapsed": false,
    "pycharm": {
     "name": "#%%\n"
    }
   }
  },
  {
   "cell_type": "code",
   "execution_count": 10,
   "outputs": [],
   "source": [
    "list_step_per_key = []\n",
    "for key in count_dic.keys():\n",
    "    id_list = count_dic[key]\n",
    "    list_step = set()\n",
    "    for id in id_list:\n",
    "        df = df1_WS2T[df1_WS2T['CASE_ID']== id]\n",
    "        for index, row in df.iterrows():\n",
    "            list_step.add(row['WRKFLW_TSK_MAP_GROUPED'])\n",
    "    list_step_per_key.append(list_step)"
   ],
   "metadata": {
    "collapsed": false,
    "pycharm": {
     "name": "#%%\n"
    }
   }
  },
  {
   "cell_type": "code",
   "execution_count": 11,
   "outputs": [],
   "source": [
    "from collections import Counter\n",
    "import collections, functools, operator\n",
    "list_step_sum_time_per_key = []\n",
    "list_step_count_per_key = []\n",
    "list_step_ave_time_per_key = []\n",
    "for key in count_dic.keys():\n",
    "    id_list = count_dic[key]\n",
    "    list_step = []\n",
    "    step_time_list = []\n",
    "    for id in id_list:\n",
    "        df = df1_WS2T[df1_WS2T['CASE_ID']== id]\n",
    "        step_time = dict(zip(df.WRKFLW_TSK_MAP_GROUPED, df.time_used_second))\n",
    "        step_time_list.append(step_time)\n",
    "        for index, row in df.iterrows():\n",
    "            list_step.append(row['WRKFLW_TSK_MAP_GROUPED'])\n",
    "\n",
    "    step_sum_time = dict(functools.reduce(operator.add,\n",
    "         map(collections.Counter, step_time_list)))\n",
    "\n",
    "    dict_list_step=dict(Counter(list_step))\n",
    "\n",
    "    step_ave_time = {key: strfdelta(step_sum_time[key] // dict_list_step.get(key, 0),\"{days} days {hours} hours {minutes} minutes {seconds} seconds\")\n",
    "                        for key in step_sum_time.keys()}\n",
    "\n",
    "    sort_step_sum_time = sorted(step_sum_time.items(),key = lambda x: x[1], reverse = True)\n",
    "    list_step_sum_time_per_key.append(sort_step_sum_time)\n",
    "\n",
    "    sort_dict_list_step = sorted(dict_list_step.items(),key = lambda x: x[1], reverse = True)\n",
    "    list_step_count_per_key.append(sort_dict_list_step)\n",
    "\n",
    "    sort_step_ave_time = sorted(step_ave_time.items(),key = lambda x: x[1], reverse = True)\n",
    "    list_step_ave_time_per_key.append(sort_step_ave_time)"
   ],
   "metadata": {
    "collapsed": false,
    "pycharm": {
     "name": "#%%\n"
    }
   }
  },
  {
   "cell_type": "code",
   "execution_count": 12,
   "outputs": [
    {
     "data": {
      "text/plain": "   Number of Workflow processes in this Workflow Segment  Number of cases  \\\n0                                                  1                  835   \n1                                                  2                  855   \n2                                                  3                 2822   \n3                                                  4                 2184   \n4                                                  5                 1577   \n5                                                  6                  781   \n6                                                  7                  432   \n7                                                  8                  231   \n8                                                  9                  158   \n9                                                 10                  125   \n\n       average time for workflow segment  \\\n0     0 days 0 hours 0 minutes 0 seconds   \n1  26 days 15 hours 0 minutes 11 seconds   \n2  30 days 12 hours 9 minutes 52 seconds   \n3   40 days 0 hours 39 minutes 0 seconds   \n4  45 days 17 hours 36 minutes 8 seconds   \n5  53 days 4 hours 15 minutes 57 seconds   \n6   67 days 8 hours 36 minutes 3 seconds   \n7  62 days 20 hours 36 minutes 2 seconds   \n8  60 days 2 hours 59 minutes 49 seconds   \n9  85 days 19 hours 49 minutes 3 seconds   \n\n                 median time for workflow segment  \\\n0      0.0 days 0.0 hours 0.0 minutes 0.0 seconds   \n1  15.0 days 18.0 hours 25.0 minutes 44.0 seconds   \n2  18.0 days 22.0 hours 11.0 minutes 20.0 seconds   \n3  27.0 days 21.0 hours 59.0 minutes 27.0 seconds   \n4    30.0 days 1.0 hours 9.0 minutes 58.0 seconds   \n5  36.0 days 22.0 hours 52.0 minutes 12.0 seconds   \n6    45.0 days 4.0 hours 14.0 minutes 5.5 seconds   \n7  41.0 days 21.0 hours 58.0 minutes 37.0 seconds   \n8  42.0 days 10.0 hours 59.0 minutes 46.5 seconds   \n9   48.0 days 6.0 hours 12.0 minutes 16.0 seconds   \n\n  percentage of cases reaching to end of workflow segment  \\\n0                                               0.0%        \n1                                             62.69%        \n2                                             91.11%        \n3                                             92.12%        \n4                                             91.38%        \n5                                             90.14%        \n6                                             80.79%        \n7                                             87.01%        \n8                                             87.34%        \n9                                              86.4%        \n\n                                                step  \\\n0                              {Send for Assessment}   \n1  {Put Assessment On-Hold, AR - Satisfied - fina...   \n2  {Put Assessment On-Hold, AR - Satisfied - fina...   \n3  {Put Assessment On-Hold, OC - Created - applic...   \n4  {Put Assessment On-Hold, AR - Satisfied - fina...   \n5  {Put Assessment On-Hold, AR - Satisfied - fina...   \n6  {Put Assessment On-Hold, OC - Awaiting Externa...   \n7  {Put Assessment On-Hold, AR - Satisfied - fina...   \n8  {Put Assessment On-Hold, AR - Satisfied - fina...   \n9  {Put Assessment On-Hold, AR - Satisfied - fina...   \n\n             Num of Occurrences per step(descending)  \\\n0                       [(Send for Assessment, 835)]   \n1  [(Send for Assessment, 856), (Assessment Outco...   \n2  [(Send for Assessment, 2824), (Assessment Outc...   \n3  [(Send for Assessment, 2194), (Assessment Deci...   \n4  [(Send for Assessment, 1604), (Assessment Deci...   \n5  [(Assessment Decision - Qualified, 868), (Send...   \n6  [(Assessment Decision - Qualified, 510), (Send...   \n7  [(Send for Assessment, 298), (Assessment Decis...   \n8  [(Assessment Decision - Qualified, 223), (Send...   \n9  [(Assessment Decision - Qualified, 187), (Send...   \n\n            Average time spends per step(descending)  \n0                                                 []  \n1  [(Send for Assessment, 26.0 days 14.0 hours 15...  \n2  [(AR - Satisfied - specialisation, 94.0 days 2...  \n3  [(AR - Created - further information, 8.0 days...  \n4  [(AR - Reviewed - further information, 9.0 day...  \n5  [(AR - Satisfied - work experience, 8.0 days 7...  \n6  [(Assessment Outcome - Ineligible / Withdrawn,...  \n7  [(Send for Assessment, 9.0 days 14.0 hours 59....  \n8  [(Release Assessment Hold, 8.0 days 4.0 hours ...  \n9  [(Acacdemic - Assessment Decision - No Decisio...  ",
      "text/html": "<div>\n<style scoped>\n    .dataframe tbody tr th:only-of-type {\n        vertical-align: middle;\n    }\n\n    .dataframe tbody tr th {\n        vertical-align: top;\n    }\n\n    .dataframe thead th {\n        text-align: right;\n    }\n</style>\n<table border=\"1\" class=\"dataframe\">\n  <thead>\n    <tr style=\"text-align: right;\">\n      <th></th>\n      <th>Number of Workflow processes in this Workflow Segment</th>\n      <th>Number of cases</th>\n      <th>average time for workflow segment</th>\n      <th>median time for workflow segment</th>\n      <th>percentage of cases reaching to end of workflow segment</th>\n      <th>step</th>\n      <th>Num of Occurrences per step(descending)</th>\n      <th>Average time spends per step(descending)</th>\n    </tr>\n  </thead>\n  <tbody>\n    <tr>\n      <th>0</th>\n      <td>1</td>\n      <td>835</td>\n      <td>0 days 0 hours 0 minutes 0 seconds</td>\n      <td>0.0 days 0.0 hours 0.0 minutes 0.0 seconds</td>\n      <td>0.0%</td>\n      <td>{Send for Assessment}</td>\n      <td>[(Send for Assessment, 835)]</td>\n      <td>[]</td>\n    </tr>\n    <tr>\n      <th>1</th>\n      <td>2</td>\n      <td>855</td>\n      <td>26 days 15 hours 0 minutes 11 seconds</td>\n      <td>15.0 days 18.0 hours 25.0 minutes 44.0 seconds</td>\n      <td>62.69%</td>\n      <td>{Put Assessment On-Hold, AR - Satisfied - fina...</td>\n      <td>[(Send for Assessment, 856), (Assessment Outco...</td>\n      <td>[(Send for Assessment, 26.0 days 14.0 hours 15...</td>\n    </tr>\n    <tr>\n      <th>2</th>\n      <td>3</td>\n      <td>2822</td>\n      <td>30 days 12 hours 9 minutes 52 seconds</td>\n      <td>18.0 days 22.0 hours 11.0 minutes 20.0 seconds</td>\n      <td>91.11%</td>\n      <td>{Put Assessment On-Hold, AR - Satisfied - fina...</td>\n      <td>[(Send for Assessment, 2824), (Assessment Outc...</td>\n      <td>[(AR - Satisfied - specialisation, 94.0 days 2...</td>\n    </tr>\n    <tr>\n      <th>3</th>\n      <td>4</td>\n      <td>2184</td>\n      <td>40 days 0 hours 39 minutes 0 seconds</td>\n      <td>27.0 days 21.0 hours 59.0 minutes 27.0 seconds</td>\n      <td>92.12%</td>\n      <td>{Put Assessment On-Hold, OC - Created - applic...</td>\n      <td>[(Send for Assessment, 2194), (Assessment Deci...</td>\n      <td>[(AR - Created - further information, 8.0 days...</td>\n    </tr>\n    <tr>\n      <th>4</th>\n      <td>5</td>\n      <td>1577</td>\n      <td>45 days 17 hours 36 minutes 8 seconds</td>\n      <td>30.0 days 1.0 hours 9.0 minutes 58.0 seconds</td>\n      <td>91.38%</td>\n      <td>{Put Assessment On-Hold, AR - Satisfied - fina...</td>\n      <td>[(Send for Assessment, 1604), (Assessment Deci...</td>\n      <td>[(AR - Reviewed - further information, 9.0 day...</td>\n    </tr>\n    <tr>\n      <th>5</th>\n      <td>6</td>\n      <td>781</td>\n      <td>53 days 4 hours 15 minutes 57 seconds</td>\n      <td>36.0 days 22.0 hours 52.0 minutes 12.0 seconds</td>\n      <td>90.14%</td>\n      <td>{Put Assessment On-Hold, AR - Satisfied - fina...</td>\n      <td>[(Assessment Decision - Qualified, 868), (Send...</td>\n      <td>[(AR - Satisfied - work experience, 8.0 days 7...</td>\n    </tr>\n    <tr>\n      <th>6</th>\n      <td>7</td>\n      <td>432</td>\n      <td>67 days 8 hours 36 minutes 3 seconds</td>\n      <td>45.0 days 4.0 hours 14.0 minutes 5.5 seconds</td>\n      <td>80.79%</td>\n      <td>{Put Assessment On-Hold, OC - Awaiting Externa...</td>\n      <td>[(Assessment Decision - Qualified, 510), (Send...</td>\n      <td>[(Assessment Outcome - Ineligible / Withdrawn,...</td>\n    </tr>\n    <tr>\n      <th>7</th>\n      <td>8</td>\n      <td>231</td>\n      <td>62 days 20 hours 36 minutes 2 seconds</td>\n      <td>41.0 days 21.0 hours 58.0 minutes 37.0 seconds</td>\n      <td>87.01%</td>\n      <td>{Put Assessment On-Hold, AR - Satisfied - fina...</td>\n      <td>[(Send for Assessment, 298), (Assessment Decis...</td>\n      <td>[(Send for Assessment, 9.0 days 14.0 hours 59....</td>\n    </tr>\n    <tr>\n      <th>8</th>\n      <td>9</td>\n      <td>158</td>\n      <td>60 days 2 hours 59 minutes 49 seconds</td>\n      <td>42.0 days 10.0 hours 59.0 minutes 46.5 seconds</td>\n      <td>87.34%</td>\n      <td>{Put Assessment On-Hold, AR - Satisfied - fina...</td>\n      <td>[(Assessment Decision - Qualified, 223), (Send...</td>\n      <td>[(Release Assessment Hold, 8.0 days 4.0 hours ...</td>\n    </tr>\n    <tr>\n      <th>9</th>\n      <td>10</td>\n      <td>125</td>\n      <td>85 days 19 hours 49 minutes 3 seconds</td>\n      <td>48.0 days 6.0 hours 12.0 minutes 16.0 seconds</td>\n      <td>86.4%</td>\n      <td>{Put Assessment On-Hold, AR - Satisfied - fina...</td>\n      <td>[(Assessment Decision - Qualified, 187), (Send...</td>\n      <td>[(Acacdemic - Assessment Decision - No Decisio...</td>\n    </tr>\n  </tbody>\n</table>\n</div>"
     },
     "execution_count": 12,
     "metadata": {},
     "output_type": "execute_result"
    }
   ],
   "source": [
    "s1_t2=pd.DataFrame({'Number of Workflow processes in this Workflow Segment':count_dic.keys(),'Number of cases':len_list, 'average time for workflow segment':list_avgtime_per_key_str,'median time for workflow segment':list_mediantime_per_key_str,'percentage of cases reaching to end of workflow segment':list_percent_reach_end,'step':list_step_per_key})\n",
    "s1_t2['Num of Occurrences per step(descending)'] = list_step_count_per_key\n",
    "s1_t2['Average time spends per step(descending)'] = list_step_ave_time_per_key\n",
    "s1_t2.head(n=10)\n"
   ],
   "metadata": {
    "collapsed": false,
    "pycharm": {
     "name": "#%%\n"
    }
   }
  },
  {
   "cell_type": "code",
   "execution_count": 13,
   "outputs": [],
   "source": [
    "s1_t2.to_csv('engineering_OF_segment1_workflowS2_table.csv', index=False)\n",
    "\n",
    "\n",
    "\n",
    "\n",
    "\n",
    "\n",
    "\n",
    "\n",
    "\n"
   ],
   "metadata": {
    "collapsed": false,
    "pycharm": {
     "name": "#%%\n"
    }
   }
  }
 ],
 "metadata": {
  "kernelspec": {
   "name": "python3",
   "language": "python",
   "display_name": "Python 3"
  },
  "language_info": {
   "codemirror_mode": {
    "name": "ipython",
    "version": 2
   },
   "file_extension": ".py",
   "mimetype": "text/x-python",
   "name": "python",
   "nbconvert_exporter": "python",
   "pygments_lexer": "ipython2",
   "version": "2.7.6"
  }
 },
 "nbformat": 4,
 "nbformat_minor": 0
}