{
 "cells": [
  {
   "cell_type": "code",
   "execution_count": 16,
   "metadata": {
    "collapsed": true
   },
   "outputs": [],
   "source": [
    "import pandas as pd\n",
    "from datetime import datetime"
   ]
  },
  {
   "cell_type": "code",
   "execution_count": 17,
   "outputs": [],
   "source": [
    "df3_WS1 = pd.read_csv(\"/Users/asteriag/Desktop/DATASCIENCEPROJECT_WORKFLOW/TimeStamp_Engineering/engineering_AF_segment3_workflowS1.csv\",engine='python')\n",
    "\n"
   ],
   "metadata": {
    "collapsed": false,
    "pycharm": {
     "name": "#%%\n"
    }
   }
  },
  {
   "cell_type": "code",
   "execution_count": 18,
   "outputs": [
    {
     "data": {
      "text/plain": "                 CASE_ID            WRKFLW_TSK_MAP_GROUPED  \\\n0  1076817|437987|677024                            Submit   \n1  1076817|437987|677024  AR - Satisfied - work experience   \n\n             WRKFLW_TSK_MAP_DETAILED    PATH_CRDATETIME ITEM_CRUSER  \\\n0                             Submit   3/1/2019 9:01:49     1076817   \n1  AR - Satisfied - Curriculum Vitae  3/1/2019 12:23:33    SBURDETT   \n\n  WRKFLW_ORG_TYPE_CRUSER  STATUS_ORDER LATEST_STATUS        WRKFLW_PROCESS  \\\n0                    NaN            17             N  1. App to Assessment   \n1                Faculty            16             N  1. App to Assessment   \n\n                         QUERY_PART  ... ORIG_SPRD_CD  \\\n0  Part 1 - Application ID Workflow  ...         TM1I   \n1       Part 6 - Requirement Verify  ...         TM1I   \n\n                    ORIG_SPRD_NM  SPK_CAT_TYPE_CD  BROAD_COURSE_LEVEL  \\\n0  Term 1 Intake (Wholly Online)              MCW                HDCW   \n1  Term 1 Intake (Wholly Online)              MCW                HDCW   \n\n    DEGREETYPE LIABILITY_CATEGORY_CD_RECODE ORIG_LIABILITY_CATEGORY_CD_RECODE  \\\n0  Full Degree                           AF                                AF   \n1  Full Degree                           AF                                AF   \n\n  OFFER_RELEASED_FG OFFER_OUTCOME_CD  OFFER_CONDITIONS  \n0                 Y             $ACC                 N  \n1                 Y             $ACC                 N  \n\n[2 rows x 56 columns]",
      "text/html": "<div>\n<style scoped>\n    .dataframe tbody tr th:only-of-type {\n        vertical-align: middle;\n    }\n\n    .dataframe tbody tr th {\n        vertical-align: top;\n    }\n\n    .dataframe thead th {\n        text-align: right;\n    }\n</style>\n<table border=\"1\" class=\"dataframe\">\n  <thead>\n    <tr style=\"text-align: right;\">\n      <th></th>\n      <th>CASE_ID</th>\n      <th>WRKFLW_TSK_MAP_GROUPED</th>\n      <th>WRKFLW_TSK_MAP_DETAILED</th>\n      <th>PATH_CRDATETIME</th>\n      <th>ITEM_CRUSER</th>\n      <th>WRKFLW_ORG_TYPE_CRUSER</th>\n      <th>STATUS_ORDER</th>\n      <th>LATEST_STATUS</th>\n      <th>WRKFLW_PROCESS</th>\n      <th>QUERY_PART</th>\n      <th>...</th>\n      <th>ORIG_SPRD_CD</th>\n      <th>ORIG_SPRD_NM</th>\n      <th>SPK_CAT_TYPE_CD</th>\n      <th>BROAD_COURSE_LEVEL</th>\n      <th>DEGREETYPE</th>\n      <th>LIABILITY_CATEGORY_CD_RECODE</th>\n      <th>ORIG_LIABILITY_CATEGORY_CD_RECODE</th>\n      <th>OFFER_RELEASED_FG</th>\n      <th>OFFER_OUTCOME_CD</th>\n      <th>OFFER_CONDITIONS</th>\n    </tr>\n  </thead>\n  <tbody>\n    <tr>\n      <th>0</th>\n      <td>1076817|437987|677024</td>\n      <td>Submit</td>\n      <td>Submit</td>\n      <td>3/1/2019 9:01:49</td>\n      <td>1076817</td>\n      <td>NaN</td>\n      <td>17</td>\n      <td>N</td>\n      <td>1. App to Assessment</td>\n      <td>Part 1 - Application ID Workflow</td>\n      <td>...</td>\n      <td>TM1I</td>\n      <td>Term 1 Intake (Wholly Online)</td>\n      <td>MCW</td>\n      <td>HDCW</td>\n      <td>Full Degree</td>\n      <td>AF</td>\n      <td>AF</td>\n      <td>Y</td>\n      <td>$ACC</td>\n      <td>N</td>\n    </tr>\n    <tr>\n      <th>1</th>\n      <td>1076817|437987|677024</td>\n      <td>AR - Satisfied - work experience</td>\n      <td>AR - Satisfied - Curriculum Vitae</td>\n      <td>3/1/2019 12:23:33</td>\n      <td>SBURDETT</td>\n      <td>Faculty</td>\n      <td>16</td>\n      <td>N</td>\n      <td>1. App to Assessment</td>\n      <td>Part 6 - Requirement Verify</td>\n      <td>...</td>\n      <td>TM1I</td>\n      <td>Term 1 Intake (Wholly Online)</td>\n      <td>MCW</td>\n      <td>HDCW</td>\n      <td>Full Degree</td>\n      <td>AF</td>\n      <td>AF</td>\n      <td>Y</td>\n      <td>$ACC</td>\n      <td>N</td>\n    </tr>\n  </tbody>\n</table>\n<p>2 rows × 56 columns</p>\n</div>"
     },
     "execution_count": 18,
     "metadata": {},
     "output_type": "execute_result"
    }
   ],
   "source": [
    "df3_WS1.head(n=2)"
   ],
   "metadata": {
    "collapsed": false,
    "pycharm": {
     "name": "#%%\n"
    }
   }
  },
  {
   "cell_type": "code",
   "execution_count": 19,
   "outputs": [],
   "source": [
    "def strfdelta(tdelta, fmt):\n",
    "    d = {\"days\": tdelta.days}\n",
    "    d[\"hours\"], rem = divmod(tdelta.seconds, 3600)\n",
    "    d[\"minutes\"], d[\"seconds\"] = divmod(rem, 60)\n",
    "    return fmt.format(**d)\n",
    "def calculate_time_duration_str(str1,str2):\n",
    "    t1=datetime.strptime(str1,'%d/%m/%Y %H:%M:%S')\n",
    "    t2=datetime.strptime(str2,'%d/%m/%Y %H:%M:%S')\n",
    "    s=strfdelta(t1-t2,\"{days} days {hours} hours {minutes} minutes {seconds} seconds\")\n",
    "    return s\n",
    "def calculate_time_duration_second(str1,str2):\n",
    "    t1=datetime.strptime(str1,'%d/%m/%Y %H:%M:%S')\n",
    "    t2=datetime.strptime(str2,'%d/%m/%Y %H:%M:%S')\n",
    "    diff = t1-t2\n",
    "    return diff.total_seconds()"
   ],
   "metadata": {
    "collapsed": false,
    "pycharm": {
     "name": "#%%\n"
    }
   }
  },
  {
   "cell_type": "code",
   "execution_count": 20,
   "outputs": [],
   "source": [
    "for i in range(len(df3_WS1)-1):\n",
    "    id=df3_WS1.loc[i,'CASE_ID']\n",
    "    next_id=df3_WS1.loc[i+1,'CASE_ID']\n",
    "    if next_id == id:\n",
    "        df3_WS1.loc[i,'time_used_str']=calculate_time_duration_str(df3_WS1.loc[i+1,'PATH_CRDATETIME'],df3_WS1.loc[i,'PATH_CRDATETIME'])\n",
    "        df3_WS1.loc[i,'time_used_second']=calculate_time_duration_second(df3_WS1.loc[i+1,'PATH_CRDATETIME'],df3_WS1.loc[i,'PATH_CRDATETIME'])\n",
    "    elif next_id != id:\n",
    "        df3_WS1.loc[i,'time_used_str']= 'NA'\n",
    "        df3_WS1.loc[i,'time_used_second']= 0\n",
    "\n",
    "df3_WS1.loc[len(df3_WS1)-1,'time_used_str']= 'NA'\n",
    "df3_WS1.loc[len(df3_WS1)-1,'time_used_second']= 0\n",
    "\n",
    "df3_WS1.to_csv('engineering_AF_segment3_workflowS1_has_duration.csv', index=False)\n",
    "\n",
    "\n",
    "\n"
   ],
   "metadata": {
    "collapsed": false,
    "pycharm": {
     "name": "#%%\n"
    }
   }
  }
 ],
 "metadata": {
  "kernelspec": {
   "name": "pycharm-3f427a6c",
   "language": "python",
   "display_name": "PyCharm (pythonProject)"
  },
  "language_info": {
   "codemirror_mode": {
    "name": "ipython",
    "version": 2
   },
   "file_extension": ".py",
   "mimetype": "text/x-python",
   "name": "python",
   "nbconvert_exporter": "python",
   "pygments_lexer": "ipython2",
   "version": "2.7.6"
  }
 },
 "nbformat": 4,
 "nbformat_minor": 0
}