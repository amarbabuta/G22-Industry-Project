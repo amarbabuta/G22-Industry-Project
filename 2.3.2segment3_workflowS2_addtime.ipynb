{
 "cells": [
  {
   "cell_type": "code",
   "execution_count": 16,
   "metadata": {
    "collapsed": true
   },
   "outputs": [],
   "source": [
    "import pandas as pd\n",
    "from datetime import datetime"
   ]
  },
  {
   "cell_type": "code",
   "execution_count": 17,
   "outputs": [],
   "source": [
    "df3_WS2 = pd.read_csv(\"/Users/asteriag/Desktop/DATASCIENCEPROJECT_WORKFLOW/TimeStamp_Engineering/engineering_AF_segment3_workflowS2.csv\",engine='python')\n"
   ],
   "metadata": {
    "collapsed": false,
    "pycharm": {
     "name": "#%%\n"
    }
   }
  },
  {
   "cell_type": "code",
   "execution_count": 18,
   "outputs": [
    {
     "data": {
      "text/plain": "                 CASE_ID           WRKFLW_TSK_MAP_GROUPED  \\\n0  1062988|418618|648837              Send for Assessment   \n1  1062988|418618|648837  AR - Satisfied - specialisation   \n\n                             WRKFLW_TSK_MAP_DETAILED      PATH_CRDATETIME  \\\n0                                Send for Assessment  14/11/2018 15:08:18   \n1  AR - Satisfied - Specialisation (Master of Inf...  14/11/2018 15:08:53   \n\n  ITEM_CRUSER WRKFLW_ORG_TYPE_CRUSER  STATUS_ORDER LATEST_STATUS  \\\n0     1062988                    NaN             4             N   \n1      MEREMA      Academic Services             3             N   \n\n         WRKFLW_PROCESS                        QUERY_PART  ... ORIG_SPRD_CD  \\\n0  1. App to Assessment  Part 1 - Application ID Workflow  ...         STYI   \n1  1. App to Assessment       Part 6 - Requirement Verify  ...         STYI   \n\n        ORIG_SPRD_NM  SPK_CAT_TYPE_CD  BROAD_COURSE_LEVEL   DEGREETYPE  \\\n0  Start Year Intake              MCW                HDCW  Full Degree   \n1  Start Year Intake              MCW                HDCW  Full Degree   \n\n  LIABILITY_CATEGORY_CD_RECODE ORIG_LIABILITY_CATEGORY_CD_RECODE  \\\n0                           AF                                AF   \n1                           AF                                AF   \n\n  OFFER_RELEASED_FG OFFER_OUTCOME_CD  OFFER_CONDITIONS  \n0               NaN              NaN                 N  \n1               NaN              NaN                 N  \n\n[2 rows x 56 columns]",
      "text/html": "<div>\n<style scoped>\n    .dataframe tbody tr th:only-of-type {\n        vertical-align: middle;\n    }\n\n    .dataframe tbody tr th {\n        vertical-align: top;\n    }\n\n    .dataframe thead th {\n        text-align: right;\n    }\n</style>\n<table border=\"1\" class=\"dataframe\">\n  <thead>\n    <tr style=\"text-align: right;\">\n      <th></th>\n      <th>CASE_ID</th>\n      <th>WRKFLW_TSK_MAP_GROUPED</th>\n      <th>WRKFLW_TSK_MAP_DETAILED</th>\n      <th>PATH_CRDATETIME</th>\n      <th>ITEM_CRUSER</th>\n      <th>WRKFLW_ORG_TYPE_CRUSER</th>\n      <th>STATUS_ORDER</th>\n      <th>LATEST_STATUS</th>\n      <th>WRKFLW_PROCESS</th>\n      <th>QUERY_PART</th>\n      <th>...</th>\n      <th>ORIG_SPRD_CD</th>\n      <th>ORIG_SPRD_NM</th>\n      <th>SPK_CAT_TYPE_CD</th>\n      <th>BROAD_COURSE_LEVEL</th>\n      <th>DEGREETYPE</th>\n      <th>LIABILITY_CATEGORY_CD_RECODE</th>\n      <th>ORIG_LIABILITY_CATEGORY_CD_RECODE</th>\n      <th>OFFER_RELEASED_FG</th>\n      <th>OFFER_OUTCOME_CD</th>\n      <th>OFFER_CONDITIONS</th>\n    </tr>\n  </thead>\n  <tbody>\n    <tr>\n      <th>0</th>\n      <td>1062988|418618|648837</td>\n      <td>Send for Assessment</td>\n      <td>Send for Assessment</td>\n      <td>14/11/2018 15:08:18</td>\n      <td>1062988</td>\n      <td>NaN</td>\n      <td>4</td>\n      <td>N</td>\n      <td>1. App to Assessment</td>\n      <td>Part 1 - Application ID Workflow</td>\n      <td>...</td>\n      <td>STYI</td>\n      <td>Start Year Intake</td>\n      <td>MCW</td>\n      <td>HDCW</td>\n      <td>Full Degree</td>\n      <td>AF</td>\n      <td>AF</td>\n      <td>NaN</td>\n      <td>NaN</td>\n      <td>N</td>\n    </tr>\n    <tr>\n      <th>1</th>\n      <td>1062988|418618|648837</td>\n      <td>AR - Satisfied - specialisation</td>\n      <td>AR - Satisfied - Specialisation (Master of Inf...</td>\n      <td>14/11/2018 15:08:53</td>\n      <td>MEREMA</td>\n      <td>Academic Services</td>\n      <td>3</td>\n      <td>N</td>\n      <td>1. App to Assessment</td>\n      <td>Part 6 - Requirement Verify</td>\n      <td>...</td>\n      <td>STYI</td>\n      <td>Start Year Intake</td>\n      <td>MCW</td>\n      <td>HDCW</td>\n      <td>Full Degree</td>\n      <td>AF</td>\n      <td>AF</td>\n      <td>NaN</td>\n      <td>NaN</td>\n      <td>N</td>\n    </tr>\n  </tbody>\n</table>\n<p>2 rows × 56 columns</p>\n</div>"
     },
     "execution_count": 18,
     "metadata": {},
     "output_type": "execute_result"
    }
   ],
   "source": [
    "df3_WS2.head(n=2)"
   ],
   "metadata": {
    "collapsed": false,
    "pycharm": {
     "name": "#%%\n"
    }
   }
  },
  {
   "cell_type": "code",
   "execution_count": 19,
   "outputs": [],
   "source": [
    "def strfdelta(tdelta, fmt):\n",
    "    d = {\"days\": tdelta.days}\n",
    "    d[\"hours\"], rem = divmod(tdelta.seconds, 3600)\n",
    "    d[\"minutes\"], d[\"seconds\"] = divmod(rem, 60)\n",
    "    return fmt.format(**d)\n",
    "def calculate_time_duration_str(str1,str2):\n",
    "    t1=datetime.strptime(str1,'%d/%m/%Y %H:%M:%S')\n",
    "    t2=datetime.strptime(str2,'%d/%m/%Y %H:%M:%S')\n",
    "    s=strfdelta(t1-t2,\"{days} days {hours} hours {minutes} minutes {seconds} seconds\")\n",
    "    return s\n",
    "def calculate_time_duration_second(str1,str2):\n",
    "    t1=datetime.strptime(str1,'%d/%m/%Y %H:%M:%S')\n",
    "    t2=datetime.strptime(str2,'%d/%m/%Y %H:%M:%S')\n",
    "    diff = t1-t2\n",
    "    return diff.total_seconds()\n"
   ],
   "metadata": {
    "collapsed": false,
    "pycharm": {
     "name": "#%%\n"
    }
   }
  },
  {
   "cell_type": "code",
   "execution_count": 20,
   "outputs": [],
   "source": [
    "for i in range(len(df3_WS2)-1):\n",
    "    id=df3_WS2.loc[i,'CASE_ID']\n",
    "    next_id=df3_WS2.loc[i+1,'CASE_ID']\n",
    "    if next_id == id:\n",
    "        df3_WS2.loc[i,'time_used_str']=calculate_time_duration_str(df3_WS2.loc[i+1,'PATH_CRDATETIME'],df3_WS2.loc[i,'PATH_CRDATETIME'])\n",
    "        df3_WS2.loc[i,'time_used_second']=calculate_time_duration_second(df3_WS2.loc[i+1,'PATH_CRDATETIME'],df3_WS2.loc[i,'PATH_CRDATETIME'])\n",
    "    elif next_id != id:\n",
    "        df3_WS2.loc[i,'time_used_str']= 'NA'\n",
    "        df3_WS2.loc[i,'time_used_second']= 0\n",
    "\n",
    "df3_WS2.loc[len(df3_WS2)-1,'time_used_str']= 'NA'\n",
    "df3_WS2.loc[len(df3_WS2)-1,'time_used_second']= 0\n",
    "\n",
    "df3_WS2.to_csv('engineering_AF_segment3_workflowS2_has_duration.csv',index=False)\n",
    "\n",
    "\n",
    "\n"
   ],
   "metadata": {
    "collapsed": false,
    "pycharm": {
     "name": "#%%\n"
    }
   }
  }
 ],
 "metadata": {
  "kernelspec": {
   "name": "pycharm-3f427a6c",
   "language": "python",
   "display_name": "PyCharm (pythonProject)"
  },
  "language_info": {
   "codemirror_mode": {
    "name": "ipython",
    "version": 2
   },
   "file_extension": ".py",
   "mimetype": "text/x-python",
   "name": "python",
   "nbconvert_exporter": "python",
   "pygments_lexer": "ipython2",
   "version": "2.7.6"
  }
 },
 "nbformat": 4,
 "nbformat_minor": 0
}