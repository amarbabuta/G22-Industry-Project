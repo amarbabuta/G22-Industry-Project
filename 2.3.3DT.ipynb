{
 "cells": [
  {
   "cell_type": "code",
   "execution_count": 1,
   "metadata": {},
   "outputs": [],
   "source": [
    "import pandas as pd"
   ]
  },
  {
   "cell_type": "code",
   "execution_count": 2,
   "metadata": {
    "pycharm": {
     "name": "#%%\n"
    }
   },
   "outputs": [],
   "source": [
    "df3_WS1T = pd.read_csv(\"engineering_AF_segment3_workflowS3_has_duration.csv\",engine='python')"
   ]
  },
  {
   "cell_type": "code",
   "execution_count": 3,
   "metadata": {
    "pycharm": {
     "name": "#%%\n"
    }
   },
   "outputs": [
    {
     "data": {
      "text/html": [
       "<div>\n",
       "<style scoped>\n",
       "    .dataframe tbody tr th:only-of-type {\n",
       "        vertical-align: middle;\n",
       "    }\n",
       "\n",
       "    .dataframe tbody tr th {\n",
       "        vertical-align: top;\n",
       "    }\n",
       "\n",
       "    .dataframe thead th {\n",
       "        text-align: right;\n",
       "    }\n",
       "</style>\n",
       "<table border=\"1\" class=\"dataframe\">\n",
       "  <thead>\n",
       "    <tr style=\"text-align: right;\">\n",
       "      <th></th>\n",
       "      <th>CASE_ID</th>\n",
       "      <th>WRKFLW_TSK_MAP_GROUPED</th>\n",
       "      <th>WRKFLW_TSK_MAP_DETAILED</th>\n",
       "      <th>PATH_CRDATETIME</th>\n",
       "      <th>ITEM_CRUSER</th>\n",
       "      <th>WRKFLW_ORG_TYPE_CRUSER</th>\n",
       "      <th>STATUS_ORDER</th>\n",
       "      <th>LATEST_STATUS</th>\n",
       "      <th>WRKFLW_PROCESS</th>\n",
       "      <th>QUERY_PART</th>\n",
       "      <th>...</th>\n",
       "      <th>SPK_CAT_TYPE_CD</th>\n",
       "      <th>BROAD_COURSE_LEVEL</th>\n",
       "      <th>DEGREETYPE</th>\n",
       "      <th>LIABILITY_CATEGORY_CD_RECODE</th>\n",
       "      <th>ORIG_LIABILITY_CATEGORY_CD_RECODE</th>\n",
       "      <th>OFFER_RELEASED_FG</th>\n",
       "      <th>OFFER_OUTCOME_CD</th>\n",
       "      <th>OFFER_CONDITIONS</th>\n",
       "      <th>time_used_str</th>\n",
       "      <th>time_used_second</th>\n",
       "    </tr>\n",
       "  </thead>\n",
       "  <tbody>\n",
       "    <tr>\n",
       "      <th>0</th>\n",
       "      <td>70289|574074|874352</td>\n",
       "      <td>Assessment Outcome - Successful</td>\n",
       "      <td>Assessment Outcome - Successful</td>\n",
       "      <td>24/1/2020 16:07:03</td>\n",
       "      <td>CORDELLE</td>\n",
       "      <td>Academic Services</td>\n",
       "      <td>6</td>\n",
       "      <td>N</td>\n",
       "      <td>2. Perform Assessment</td>\n",
       "      <td>Part 3 - Assessment Outcome</td>\n",
       "      <td>...</td>\n",
       "      <td>MCW</td>\n",
       "      <td>HDCW</td>\n",
       "      <td>Full Degree</td>\n",
       "      <td>AF</td>\n",
       "      <td>AF</td>\n",
       "      <td>Y</td>\n",
       "      <td>$ACC</td>\n",
       "      <td>N</td>\n",
       "      <td>0 days 0 hours 0 minutes 0 seconds</td>\n",
       "      <td>0.0</td>\n",
       "    </tr>\n",
       "  </tbody>\n",
       "</table>\n",
       "<p>1 rows × 58 columns</p>\n",
       "</div>"
      ],
      "text/plain": [
       "               CASE_ID           WRKFLW_TSK_MAP_GROUPED  \\\n",
       "0  70289|574074|874352  Assessment Outcome - Successful   \n",
       "\n",
       "           WRKFLW_TSK_MAP_DETAILED     PATH_CRDATETIME ITEM_CRUSER  \\\n",
       "0  Assessment Outcome - Successful  24/1/2020 16:07:03    CORDELLE   \n",
       "\n",
       "  WRKFLW_ORG_TYPE_CRUSER  STATUS_ORDER LATEST_STATUS         WRKFLW_PROCESS  \\\n",
       "0      Academic Services             6             N  2. Perform Assessment   \n",
       "\n",
       "                    QUERY_PART  ... SPK_CAT_TYPE_CD  BROAD_COURSE_LEVEL  \\\n",
       "0  Part 3 - Assessment Outcome  ...             MCW                HDCW   \n",
       "\n",
       "    DEGREETYPE  LIABILITY_CATEGORY_CD_RECODE  \\\n",
       "0  Full Degree                            AF   \n",
       "\n",
       "   ORIG_LIABILITY_CATEGORY_CD_RECODE OFFER_RELEASED_FG OFFER_OUTCOME_CD  \\\n",
       "0                                 AF                 Y             $ACC   \n",
       "\n",
       "  OFFER_CONDITIONS                       time_used_str  time_used_second  \n",
       "0                N  0 days 0 hours 0 minutes 0 seconds               0.0  \n",
       "\n",
       "[1 rows x 58 columns]"
      ]
     },
     "execution_count": 3,
     "metadata": {},
     "output_type": "execute_result"
    }
   ],
   "source": [
    "df3_WS1T.head(n=1)"
   ]
  },
  {
   "cell_type": "code",
   "execution_count": 4,
   "metadata": {
    "pycharm": {
     "name": "#%%\n"
    }
   },
   "outputs": [
    {
     "data": {
      "text/plain": [
       "{'Assessment Decision - No Decision',\n",
       " 'Assessment Decision - Qualified',\n",
       " 'Assessment Outcome - Not Successful',\n",
       " 'Assessment Outcome - Successful',\n",
       " 'Create Offer',\n",
       " 'OC - Created - Evidence of course completion',\n",
       " 'Put Assessment On-Hold',\n",
       " 'Release Assessment Hold',\n",
       " 'Release Offer',\n",
       " 'Restart Offer Workflow',\n",
       " 'Unsuccessful'}"
      ]
     },
     "execution_count": 4,
     "metadata": {},
     "output_type": "execute_result"
    }
   ],
   "source": [
    "#store unique WRKFLW_TSK_MAP_DETAILED\n",
    "WRKFLW_TSK_MAP_DETAILED_list = df3_WS1T['WRKFLW_TSK_MAP_DETAILED'].tolist()\n",
    "unique_WRKFLW_TSK_MAP_DETAILED_list = set(WRKFLW_TSK_MAP_DETAILED_list)\n",
    "len(unique_WRKFLW_TSK_MAP_DETAILED_list)\n",
    "unique_WRKFLW_TSK_MAP_DETAILED_list"
   ]
  },
  {
   "cell_type": "code",
   "execution_count": 5,
   "metadata": {
    "pycharm": {
     "name": "#%%\n"
    }
   },
   "outputs": [
    {
     "data": {
      "text/plain": [
       "11"
      ]
     },
     "execution_count": 5,
     "metadata": {},
     "output_type": "execute_result"
    }
   ],
   "source": [
    "#store unique CASE_ID\n",
    "ID_list = df3_WS1T['CASE_ID'].tolist()\n",
    "unique_ID_list = set(ID_list)\n",
    "len(unique_ID_list)"
   ]
  },
  {
   "cell_type": "code",
   "execution_count": 6,
   "metadata": {
    "pycharm": {
     "name": "#%%\n"
    }
   },
   "outputs": [
    {
     "data": {
      "text/html": [
       "<div>\n",
       "<style scoped>\n",
       "    .dataframe tbody tr th:only-of-type {\n",
       "        vertical-align: middle;\n",
       "    }\n",
       "\n",
       "    .dataframe tbody tr th {\n",
       "        vertical-align: top;\n",
       "    }\n",
       "\n",
       "    .dataframe thead th {\n",
       "        text-align: right;\n",
       "    }\n",
       "</style>\n",
       "<table border=\"1\" class=\"dataframe\">\n",
       "  <thead>\n",
       "    <tr style=\"text-align: right;\">\n",
       "      <th></th>\n",
       "      <th>Restart Offer Workflow</th>\n",
       "      <th>Assessment Outcome - Not Successful</th>\n",
       "      <th>Assessment Decision - No Decision</th>\n",
       "      <th>OC - Created - Evidence of course completion</th>\n",
       "      <th>Create Offer</th>\n",
       "      <th>Put Assessment On-Hold</th>\n",
       "      <th>Assessment Outcome - Successful</th>\n",
       "      <th>Assessment Decision - Qualified</th>\n",
       "      <th>Release Offer</th>\n",
       "      <th>Unsuccessful</th>\n",
       "      <th>Release Assessment Hold</th>\n",
       "    </tr>\n",
       "  </thead>\n",
       "  <tbody>\n",
       "    <tr>\n",
       "      <th>1077116|438363|677619</th>\n",
       "      <td>NaN</td>\n",
       "      <td>NaN</td>\n",
       "      <td>NaN</td>\n",
       "      <td>NaN</td>\n",
       "      <td>NaN</td>\n",
       "      <td>NaN</td>\n",
       "      <td>NaN</td>\n",
       "      <td>NaN</td>\n",
       "      <td>NaN</td>\n",
       "      <td>NaN</td>\n",
       "      <td>NaN</td>\n",
       "    </tr>\n",
       "    <tr>\n",
       "      <th>1025815|366554|572153</th>\n",
       "      <td>NaN</td>\n",
       "      <td>NaN</td>\n",
       "      <td>NaN</td>\n",
       "      <td>NaN</td>\n",
       "      <td>NaN</td>\n",
       "      <td>NaN</td>\n",
       "      <td>NaN</td>\n",
       "      <td>NaN</td>\n",
       "      <td>NaN</td>\n",
       "      <td>NaN</td>\n",
       "      <td>NaN</td>\n",
       "    </tr>\n",
       "    <tr>\n",
       "      <th>357763|483272|741539</th>\n",
       "      <td>NaN</td>\n",
       "      <td>NaN</td>\n",
       "      <td>NaN</td>\n",
       "      <td>NaN</td>\n",
       "      <td>NaN</td>\n",
       "      <td>NaN</td>\n",
       "      <td>NaN</td>\n",
       "      <td>NaN</td>\n",
       "      <td>NaN</td>\n",
       "      <td>NaN</td>\n",
       "      <td>NaN</td>\n",
       "    </tr>\n",
       "    <tr>\n",
       "      <th>1179677|573921|874117</th>\n",
       "      <td>NaN</td>\n",
       "      <td>NaN</td>\n",
       "      <td>NaN</td>\n",
       "      <td>NaN</td>\n",
       "      <td>NaN</td>\n",
       "      <td>NaN</td>\n",
       "      <td>NaN</td>\n",
       "      <td>NaN</td>\n",
       "      <td>NaN</td>\n",
       "      <td>NaN</td>\n",
       "      <td>NaN</td>\n",
       "    </tr>\n",
       "    <tr>\n",
       "      <th>1077116|438363|677617</th>\n",
       "      <td>NaN</td>\n",
       "      <td>NaN</td>\n",
       "      <td>NaN</td>\n",
       "      <td>NaN</td>\n",
       "      <td>NaN</td>\n",
       "      <td>NaN</td>\n",
       "      <td>NaN</td>\n",
       "      <td>NaN</td>\n",
       "      <td>NaN</td>\n",
       "      <td>NaN</td>\n",
       "      <td>NaN</td>\n",
       "    </tr>\n",
       "    <tr>\n",
       "      <th>1057584|411091|637400</th>\n",
       "      <td>NaN</td>\n",
       "      <td>NaN</td>\n",
       "      <td>NaN</td>\n",
       "      <td>NaN</td>\n",
       "      <td>NaN</td>\n",
       "      <td>NaN</td>\n",
       "      <td>NaN</td>\n",
       "      <td>NaN</td>\n",
       "      <td>NaN</td>\n",
       "      <td>NaN</td>\n",
       "      <td>NaN</td>\n",
       "    </tr>\n",
       "    <tr>\n",
       "      <th>1063862|419463|650110</th>\n",
       "      <td>NaN</td>\n",
       "      <td>NaN</td>\n",
       "      <td>NaN</td>\n",
       "      <td>NaN</td>\n",
       "      <td>NaN</td>\n",
       "      <td>NaN</td>\n",
       "      <td>NaN</td>\n",
       "      <td>NaN</td>\n",
       "      <td>NaN</td>\n",
       "      <td>NaN</td>\n",
       "      <td>NaN</td>\n",
       "    </tr>\n",
       "    <tr>\n",
       "      <th>1120436|490900|754192</th>\n",
       "      <td>NaN</td>\n",
       "      <td>NaN</td>\n",
       "      <td>NaN</td>\n",
       "      <td>NaN</td>\n",
       "      <td>NaN</td>\n",
       "      <td>NaN</td>\n",
       "      <td>NaN</td>\n",
       "      <td>NaN</td>\n",
       "      <td>NaN</td>\n",
       "      <td>NaN</td>\n",
       "      <td>NaN</td>\n",
       "    </tr>\n",
       "    <tr>\n",
       "      <th>1108597|477482|732532</th>\n",
       "      <td>NaN</td>\n",
       "      <td>NaN</td>\n",
       "      <td>NaN</td>\n",
       "      <td>NaN</td>\n",
       "      <td>NaN</td>\n",
       "      <td>NaN</td>\n",
       "      <td>NaN</td>\n",
       "      <td>NaN</td>\n",
       "      <td>NaN</td>\n",
       "      <td>NaN</td>\n",
       "      <td>NaN</td>\n",
       "    </tr>\n",
       "    <tr>\n",
       "      <th>1102908|470757|722758</th>\n",
       "      <td>NaN</td>\n",
       "      <td>NaN</td>\n",
       "      <td>NaN</td>\n",
       "      <td>NaN</td>\n",
       "      <td>NaN</td>\n",
       "      <td>NaN</td>\n",
       "      <td>NaN</td>\n",
       "      <td>NaN</td>\n",
       "      <td>NaN</td>\n",
       "      <td>NaN</td>\n",
       "      <td>NaN</td>\n",
       "    </tr>\n",
       "    <tr>\n",
       "      <th>70289|574074|874352</th>\n",
       "      <td>NaN</td>\n",
       "      <td>NaN</td>\n",
       "      <td>NaN</td>\n",
       "      <td>NaN</td>\n",
       "      <td>NaN</td>\n",
       "      <td>NaN</td>\n",
       "      <td>NaN</td>\n",
       "      <td>NaN</td>\n",
       "      <td>NaN</td>\n",
       "      <td>NaN</td>\n",
       "      <td>NaN</td>\n",
       "    </tr>\n",
       "  </tbody>\n",
       "</table>\n",
       "</div>"
      ],
      "text/plain": [
       "                      Restart Offer Workflow  \\\n",
       "1077116|438363|677619                    NaN   \n",
       "1025815|366554|572153                    NaN   \n",
       "357763|483272|741539                     NaN   \n",
       "1179677|573921|874117                    NaN   \n",
       "1077116|438363|677617                    NaN   \n",
       "1057584|411091|637400                    NaN   \n",
       "1063862|419463|650110                    NaN   \n",
       "1120436|490900|754192                    NaN   \n",
       "1108597|477482|732532                    NaN   \n",
       "1102908|470757|722758                    NaN   \n",
       "70289|574074|874352                      NaN   \n",
       "\n",
       "                      Assessment Outcome - Not Successful  \\\n",
       "1077116|438363|677619                                 NaN   \n",
       "1025815|366554|572153                                 NaN   \n",
       "357763|483272|741539                                  NaN   \n",
       "1179677|573921|874117                                 NaN   \n",
       "1077116|438363|677617                                 NaN   \n",
       "1057584|411091|637400                                 NaN   \n",
       "1063862|419463|650110                                 NaN   \n",
       "1120436|490900|754192                                 NaN   \n",
       "1108597|477482|732532                                 NaN   \n",
       "1102908|470757|722758                                 NaN   \n",
       "70289|574074|874352                                   NaN   \n",
       "\n",
       "                      Assessment Decision - No Decision  \\\n",
       "1077116|438363|677619                               NaN   \n",
       "1025815|366554|572153                               NaN   \n",
       "357763|483272|741539                                NaN   \n",
       "1179677|573921|874117                               NaN   \n",
       "1077116|438363|677617                               NaN   \n",
       "1057584|411091|637400                               NaN   \n",
       "1063862|419463|650110                               NaN   \n",
       "1120436|490900|754192                               NaN   \n",
       "1108597|477482|732532                               NaN   \n",
       "1102908|470757|722758                               NaN   \n",
       "70289|574074|874352                                 NaN   \n",
       "\n",
       "                      OC - Created - Evidence of course completion  \\\n",
       "1077116|438363|677619                                          NaN   \n",
       "1025815|366554|572153                                          NaN   \n",
       "357763|483272|741539                                           NaN   \n",
       "1179677|573921|874117                                          NaN   \n",
       "1077116|438363|677617                                          NaN   \n",
       "1057584|411091|637400                                          NaN   \n",
       "1063862|419463|650110                                          NaN   \n",
       "1120436|490900|754192                                          NaN   \n",
       "1108597|477482|732532                                          NaN   \n",
       "1102908|470757|722758                                          NaN   \n",
       "70289|574074|874352                                            NaN   \n",
       "\n",
       "                      Create Offer Put Assessment On-Hold  \\\n",
       "1077116|438363|677619          NaN                    NaN   \n",
       "1025815|366554|572153          NaN                    NaN   \n",
       "357763|483272|741539           NaN                    NaN   \n",
       "1179677|573921|874117          NaN                    NaN   \n",
       "1077116|438363|677617          NaN                    NaN   \n",
       "1057584|411091|637400          NaN                    NaN   \n",
       "1063862|419463|650110          NaN                    NaN   \n",
       "1120436|490900|754192          NaN                    NaN   \n",
       "1108597|477482|732532          NaN                    NaN   \n",
       "1102908|470757|722758          NaN                    NaN   \n",
       "70289|574074|874352            NaN                    NaN   \n",
       "\n",
       "                      Assessment Outcome - Successful  \\\n",
       "1077116|438363|677619                             NaN   \n",
       "1025815|366554|572153                             NaN   \n",
       "357763|483272|741539                              NaN   \n",
       "1179677|573921|874117                             NaN   \n",
       "1077116|438363|677617                             NaN   \n",
       "1057584|411091|637400                             NaN   \n",
       "1063862|419463|650110                             NaN   \n",
       "1120436|490900|754192                             NaN   \n",
       "1108597|477482|732532                             NaN   \n",
       "1102908|470757|722758                             NaN   \n",
       "70289|574074|874352                               NaN   \n",
       "\n",
       "                      Assessment Decision - Qualified Release Offer  \\\n",
       "1077116|438363|677619                             NaN           NaN   \n",
       "1025815|366554|572153                             NaN           NaN   \n",
       "357763|483272|741539                              NaN           NaN   \n",
       "1179677|573921|874117                             NaN           NaN   \n",
       "1077116|438363|677617                             NaN           NaN   \n",
       "1057584|411091|637400                             NaN           NaN   \n",
       "1063862|419463|650110                             NaN           NaN   \n",
       "1120436|490900|754192                             NaN           NaN   \n",
       "1108597|477482|732532                             NaN           NaN   \n",
       "1102908|470757|722758                             NaN           NaN   \n",
       "70289|574074|874352                               NaN           NaN   \n",
       "\n",
       "                      Unsuccessful Release Assessment Hold  \n",
       "1077116|438363|677619          NaN                     NaN  \n",
       "1025815|366554|572153          NaN                     NaN  \n",
       "357763|483272|741539           NaN                     NaN  \n",
       "1179677|573921|874117          NaN                     NaN  \n",
       "1077116|438363|677617          NaN                     NaN  \n",
       "1057584|411091|637400          NaN                     NaN  \n",
       "1063862|419463|650110          NaN                     NaN  \n",
       "1120436|490900|754192          NaN                     NaN  \n",
       "1108597|477482|732532          NaN                     NaN  \n",
       "1102908|470757|722758          NaN                     NaN  \n",
       "70289|574074|874352            NaN                     NaN  "
      ]
     },
     "execution_count": 6,
     "metadata": {},
     "output_type": "execute_result"
    }
   ],
   "source": [
    "#create dataframe columns->unique_WRKFLW_TSK_MAP_DETAILED row->unique_ID\n",
    "df = pd.DataFrame(columns = unique_WRKFLW_TSK_MAP_DETAILED_list, index = unique_ID_list )\n",
    "df"
   ]
  },
  {
   "cell_type": "code",
   "execution_count": 7,
   "metadata": {
    "pycharm": {
     "name": "#%%\n"
    }
   },
   "outputs": [
    {
     "data": {
      "text/plain": [
       "11"
      ]
     },
     "execution_count": 7,
     "metadata": {},
     "output_type": "execute_result"
    }
   ],
   "source": [
    "#sotre id as key and workflow detail of the id as value into dictionary\n",
    "from collections import defaultdict\n",
    "ID_WRKFLW_dict = defaultdict(list)\n",
    "for i, j in zip(df3_WS1T.CASE_ID,df3_WS1T.WRKFLW_TSK_MAP_DETAILED):\n",
    "    ID_WRKFLW_dict[i].append(j)\n",
    "len(ID_WRKFLW_dict)"
   ]
  },
  {
   "cell_type": "code",
   "execution_count": 8,
   "metadata": {
    "pycharm": {
     "name": "#%%\n"
    }
   },
   "outputs": [
    {
     "data": {
      "text/html": [
       "<div>\n",
       "<style scoped>\n",
       "    .dataframe tbody tr th:only-of-type {\n",
       "        vertical-align: middle;\n",
       "    }\n",
       "\n",
       "    .dataframe tbody tr th {\n",
       "        vertical-align: top;\n",
       "    }\n",
       "\n",
       "    .dataframe thead th {\n",
       "        text-align: right;\n",
       "    }\n",
       "</style>\n",
       "<table border=\"1\" class=\"dataframe\">\n",
       "  <thead>\n",
       "    <tr style=\"text-align: right;\">\n",
       "      <th></th>\n",
       "      <th>Restart Offer Workflow</th>\n",
       "      <th>Assessment Outcome - Not Successful</th>\n",
       "      <th>Assessment Decision - No Decision</th>\n",
       "      <th>OC - Created - Evidence of course completion</th>\n",
       "      <th>Create Offer</th>\n",
       "      <th>Put Assessment On-Hold</th>\n",
       "      <th>Assessment Outcome - Successful</th>\n",
       "      <th>Assessment Decision - Qualified</th>\n",
       "      <th>Release Offer</th>\n",
       "      <th>Unsuccessful</th>\n",
       "      <th>Release Assessment Hold</th>\n",
       "    </tr>\n",
       "  </thead>\n",
       "  <tbody>\n",
       "    <tr>\n",
       "      <th>1077116|438363|677619</th>\n",
       "      <td>0</td>\n",
       "      <td>0</td>\n",
       "      <td>0</td>\n",
       "      <td>0</td>\n",
       "      <td>1</td>\n",
       "      <td>0</td>\n",
       "      <td>1</td>\n",
       "      <td>0</td>\n",
       "      <td>1</td>\n",
       "      <td>0</td>\n",
       "      <td>0</td>\n",
       "    </tr>\n",
       "    <tr>\n",
       "      <th>1025815|366554|572153</th>\n",
       "      <td>0</td>\n",
       "      <td>0</td>\n",
       "      <td>0</td>\n",
       "      <td>1</td>\n",
       "      <td>1</td>\n",
       "      <td>1</td>\n",
       "      <td>1</td>\n",
       "      <td>1</td>\n",
       "      <td>1</td>\n",
       "      <td>0</td>\n",
       "      <td>1</td>\n",
       "    </tr>\n",
       "    <tr>\n",
       "      <th>357763|483272|741539</th>\n",
       "      <td>0</td>\n",
       "      <td>0</td>\n",
       "      <td>0</td>\n",
       "      <td>0</td>\n",
       "      <td>1</td>\n",
       "      <td>0</td>\n",
       "      <td>1</td>\n",
       "      <td>0</td>\n",
       "      <td>1</td>\n",
       "      <td>0</td>\n",
       "      <td>0</td>\n",
       "    </tr>\n",
       "    <tr>\n",
       "      <th>1179677|573921|874117</th>\n",
       "      <td>0</td>\n",
       "      <td>0</td>\n",
       "      <td>0</td>\n",
       "      <td>0</td>\n",
       "      <td>0</td>\n",
       "      <td>0</td>\n",
       "      <td>1</td>\n",
       "      <td>0</td>\n",
       "      <td>1</td>\n",
       "      <td>0</td>\n",
       "      <td>0</td>\n",
       "    </tr>\n",
       "    <tr>\n",
       "      <th>1077116|438363|677617</th>\n",
       "      <td>0</td>\n",
       "      <td>0</td>\n",
       "      <td>0</td>\n",
       "      <td>0</td>\n",
       "      <td>1</td>\n",
       "      <td>0</td>\n",
       "      <td>1</td>\n",
       "      <td>0</td>\n",
       "      <td>1</td>\n",
       "      <td>0</td>\n",
       "      <td>0</td>\n",
       "    </tr>\n",
       "    <tr>\n",
       "      <th>1057584|411091|637400</th>\n",
       "      <td>0</td>\n",
       "      <td>0</td>\n",
       "      <td>0</td>\n",
       "      <td>1</td>\n",
       "      <td>1</td>\n",
       "      <td>0</td>\n",
       "      <td>1</td>\n",
       "      <td>0</td>\n",
       "      <td>1</td>\n",
       "      <td>0</td>\n",
       "      <td>0</td>\n",
       "    </tr>\n",
       "    <tr>\n",
       "      <th>1063862|419463|650110</th>\n",
       "      <td>0</td>\n",
       "      <td>0</td>\n",
       "      <td>1</td>\n",
       "      <td>1</td>\n",
       "      <td>1</td>\n",
       "      <td>0</td>\n",
       "      <td>1</td>\n",
       "      <td>0</td>\n",
       "      <td>1</td>\n",
       "      <td>0</td>\n",
       "      <td>0</td>\n",
       "    </tr>\n",
       "    <tr>\n",
       "      <th>1120436|490900|754192</th>\n",
       "      <td>0</td>\n",
       "      <td>0</td>\n",
       "      <td>0</td>\n",
       "      <td>0</td>\n",
       "      <td>1</td>\n",
       "      <td>0</td>\n",
       "      <td>1</td>\n",
       "      <td>0</td>\n",
       "      <td>1</td>\n",
       "      <td>0</td>\n",
       "      <td>0</td>\n",
       "    </tr>\n",
       "    <tr>\n",
       "      <th>1108597|477482|732532</th>\n",
       "      <td>0</td>\n",
       "      <td>0</td>\n",
       "      <td>0</td>\n",
       "      <td>0</td>\n",
       "      <td>0</td>\n",
       "      <td>0</td>\n",
       "      <td>1</td>\n",
       "      <td>0</td>\n",
       "      <td>1</td>\n",
       "      <td>0</td>\n",
       "      <td>0</td>\n",
       "    </tr>\n",
       "    <tr>\n",
       "      <th>1102908|470757|722758</th>\n",
       "      <td>1</td>\n",
       "      <td>1</td>\n",
       "      <td>1</td>\n",
       "      <td>1</td>\n",
       "      <td>1</td>\n",
       "      <td>0</td>\n",
       "      <td>1</td>\n",
       "      <td>0</td>\n",
       "      <td>1</td>\n",
       "      <td>1</td>\n",
       "      <td>0</td>\n",
       "    </tr>\n",
       "    <tr>\n",
       "      <th>70289|574074|874352</th>\n",
       "      <td>0</td>\n",
       "      <td>0</td>\n",
       "      <td>0</td>\n",
       "      <td>0</td>\n",
       "      <td>0</td>\n",
       "      <td>0</td>\n",
       "      <td>1</td>\n",
       "      <td>1</td>\n",
       "      <td>1</td>\n",
       "      <td>0</td>\n",
       "      <td>0</td>\n",
       "    </tr>\n",
       "  </tbody>\n",
       "</table>\n",
       "</div>"
      ],
      "text/plain": [
       "                       Restart Offer Workflow  \\\n",
       "1077116|438363|677619                       0   \n",
       "1025815|366554|572153                       0   \n",
       "357763|483272|741539                        0   \n",
       "1179677|573921|874117                       0   \n",
       "1077116|438363|677617                       0   \n",
       "1057584|411091|637400                       0   \n",
       "1063862|419463|650110                       0   \n",
       "1120436|490900|754192                       0   \n",
       "1108597|477482|732532                       0   \n",
       "1102908|470757|722758                       1   \n",
       "70289|574074|874352                         0   \n",
       "\n",
       "                       Assessment Outcome - Not Successful  \\\n",
       "1077116|438363|677619                                    0   \n",
       "1025815|366554|572153                                    0   \n",
       "357763|483272|741539                                     0   \n",
       "1179677|573921|874117                                    0   \n",
       "1077116|438363|677617                                    0   \n",
       "1057584|411091|637400                                    0   \n",
       "1063862|419463|650110                                    0   \n",
       "1120436|490900|754192                                    0   \n",
       "1108597|477482|732532                                    0   \n",
       "1102908|470757|722758                                    1   \n",
       "70289|574074|874352                                      0   \n",
       "\n",
       "                       Assessment Decision - No Decision  \\\n",
       "1077116|438363|677619                                  0   \n",
       "1025815|366554|572153                                  0   \n",
       "357763|483272|741539                                   0   \n",
       "1179677|573921|874117                                  0   \n",
       "1077116|438363|677617                                  0   \n",
       "1057584|411091|637400                                  0   \n",
       "1063862|419463|650110                                  1   \n",
       "1120436|490900|754192                                  0   \n",
       "1108597|477482|732532                                  0   \n",
       "1102908|470757|722758                                  1   \n",
       "70289|574074|874352                                    0   \n",
       "\n",
       "                       OC - Created - Evidence of course completion  \\\n",
       "1077116|438363|677619                                             0   \n",
       "1025815|366554|572153                                             1   \n",
       "357763|483272|741539                                              0   \n",
       "1179677|573921|874117                                             0   \n",
       "1077116|438363|677617                                             0   \n",
       "1057584|411091|637400                                             1   \n",
       "1063862|419463|650110                                             1   \n",
       "1120436|490900|754192                                             0   \n",
       "1108597|477482|732532                                             0   \n",
       "1102908|470757|722758                                             1   \n",
       "70289|574074|874352                                               0   \n",
       "\n",
       "                       Create Offer  Put Assessment On-Hold  \\\n",
       "1077116|438363|677619             1                       0   \n",
       "1025815|366554|572153             1                       1   \n",
       "357763|483272|741539              1                       0   \n",
       "1179677|573921|874117             0                       0   \n",
       "1077116|438363|677617             1                       0   \n",
       "1057584|411091|637400             1                       0   \n",
       "1063862|419463|650110             1                       0   \n",
       "1120436|490900|754192             1                       0   \n",
       "1108597|477482|732532             0                       0   \n",
       "1102908|470757|722758             1                       0   \n",
       "70289|574074|874352               0                       0   \n",
       "\n",
       "                       Assessment Outcome - Successful  \\\n",
       "1077116|438363|677619                                1   \n",
       "1025815|366554|572153                                1   \n",
       "357763|483272|741539                                 1   \n",
       "1179677|573921|874117                                1   \n",
       "1077116|438363|677617                                1   \n",
       "1057584|411091|637400                                1   \n",
       "1063862|419463|650110                                1   \n",
       "1120436|490900|754192                                1   \n",
       "1108597|477482|732532                                1   \n",
       "1102908|470757|722758                                1   \n",
       "70289|574074|874352                                  1   \n",
       "\n",
       "                       Assessment Decision - Qualified  Release Offer  \\\n",
       "1077116|438363|677619                                0              1   \n",
       "1025815|366554|572153                                1              1   \n",
       "357763|483272|741539                                 0              1   \n",
       "1179677|573921|874117                                0              1   \n",
       "1077116|438363|677617                                0              1   \n",
       "1057584|411091|637400                                0              1   \n",
       "1063862|419463|650110                                0              1   \n",
       "1120436|490900|754192                                0              1   \n",
       "1108597|477482|732532                                0              1   \n",
       "1102908|470757|722758                                0              1   \n",
       "70289|574074|874352                                  1              1   \n",
       "\n",
       "                       Unsuccessful  Release Assessment Hold  \n",
       "1077116|438363|677619             0                        0  \n",
       "1025815|366554|572153             0                        1  \n",
       "357763|483272|741539              0                        0  \n",
       "1179677|573921|874117             0                        0  \n",
       "1077116|438363|677617             0                        0  \n",
       "1057584|411091|637400             0                        0  \n",
       "1063862|419463|650110             0                        0  \n",
       "1120436|490900|754192             0                        0  \n",
       "1108597|477482|732532             0                        0  \n",
       "1102908|470757|722758             1                        0  \n",
       "70289|574074|874352               0                        0  "
      ]
     },
     "execution_count": 8,
     "metadata": {},
     "output_type": "execute_result"
    }
   ],
   "source": [
    "#change the value\n",
    "for key in ID_WRKFLW_dict.keys():\n",
    "    for process in ID_WRKFLW_dict[key]:\n",
    "            df.loc[key, process] = 1\n",
    "zero_one_table = df.fillna(0)\n",
    "zero_one_table"
   ]
  },
  {
   "cell_type": "code",
   "execution_count": 9,
   "metadata": {
    "pycharm": {
     "name": "#%%\n"
    }
   },
   "outputs": [
    {
     "name": "stdout",
     "output_type": "stream",
     "text": [
      "11\n",
      "10\n"
     ]
    }
   ],
   "source": [
    "# Import train_test_split function\n",
    "from sklearn.model_selection import train_test_split\n",
    "\n",
    "features= list(unique_WRKFLW_TSK_MAP_DETAILED_list)\n",
    "print(len(features))\n",
    "features.remove('Release Offer')\n",
    "print(len(features))\n",
    "\n",
    "X=zero_one_table[features]\n",
    "y=zero_one_table ['Release Offer'] # Labels\n",
    "# Split dataset into training set and test set\n",
    "X_train, X_test, y_train, y_test = train_test_split(X, y, random_state=0) # 70% training and 30% test"
   ]
  },
  {
   "cell_type": "code",
   "execution_count": 10,
   "metadata": {
    "pycharm": {
     "name": "#%%\n"
    }
   },
   "outputs": [],
   "source": [
    "from sklearn.tree import DecisionTreeClassifier\n",
    "clf = DecisionTreeClassifier(max_depth = 5,\n",
    "                             random_state = 0)\n",
    "clf.fit(X_train, y_train)\n",
    "clf_pred = clf.predict(X_test)"
   ]
  },
  {
   "cell_type": "code",
   "execution_count": 11,
   "metadata": {},
   "outputs": [],
   "source": [
    "from sklearn.metrics import confusion_matrix\n",
    "from sklearn import metrics\n",
    "from sklearn.metrics import classification_report"
   ]
  },
  {
   "cell_type": "code",
   "execution_count": 12,
   "metadata": {},
   "outputs": [
    {
     "name": "stdout",
     "output_type": "stream",
     "text": [
      "[[3]]\n",
      "              precision    recall  f1-score   support\n",
      "\n",
      "           1       1.00      1.00      1.00         3\n",
      "\n",
      "    accuracy                           1.00         3\n",
      "   macro avg       1.00      1.00      1.00         3\n",
      "weighted avg       1.00      1.00      1.00         3\n",
      "\n"
     ]
    }
   ],
   "source": [
    "print(confusion_matrix(y_test, clf_pred))\n",
    "print(classification_report(y_test, clf_pred))"
   ]
  },
  {
   "cell_type": "code",
   "execution_count": 13,
   "metadata": {
    "pycharm": {
     "name": "#%%\n"
    }
   },
   "outputs": [],
   "source": [
    "# DOT data\n",
    "from IPython.display import Image\n",
    "from sklearn import tree\n",
    "import pydotplus\n",
    "fn=features\n",
    "cn=['0', '1']\n",
    "# Create DOT data\n",
    "dot_data = tree.export_graphviz(clf, out_file=None,\n",
    "                                feature_names=fn,\n",
    "                                class_names=cn,filled = True)\n",
    "\n",
    "# Draw graph\n",
    "graph = pydotplus.graph_from_dot_data(dot_data)"
   ]
  },
  {
   "cell_type": "code",
   "execution_count": 14,
   "metadata": {
    "pycharm": {
     "name": "#%%\n"
    }
   },
   "outputs": [
    {
     "data": {
      "image/png": "[encoded data removed]",
      "text/plain": [
       "<IPython.core.display.Image object>"
      ]
     },
     "execution_count": 14,
     "metadata": {},
     "output_type": "execute_result"
    }
   ],
   "source": [
    "# Show graph\n",
    "Image(graph.create_png())"
   ]
  },
  {
   "cell_type": "code",
   "execution_count": 15,
   "metadata": {
    "pycharm": {
     "name": "#%%\n"
    }
   },
   "outputs": [
    {
     "data": {
      "text/plain": [
       "True"
      ]
     },
     "execution_count": 15,
     "metadata": {},
     "output_type": "execute_result"
    }
   ],
   "source": [
    "# Create PNG\n",
    "graph.write_png(\"engineering_AF_segment3_workflowS3_decisiontree.png\")\n",
    "\n",
    "\n"
   ]
  },
  {
   "cell_type": "code",
   "execution_count": 16,
   "metadata": {},
   "outputs": [
    {
     "data": {
      "text/plain": [
       "1    11\n",
       "Name: Release Offer, dtype: int64"
      ]
     },
     "execution_count": 16,
     "metadata": {},
     "output_type": "execute_result"
    }
   ],
   "source": [
    "zero_one_table['Release Offer'].value_counts()"
   ]
  },
  {
   "cell_type": "code",
   "execution_count": 17,
   "metadata": {
    "pycharm": {
     "name": "#%%\n"
    }
   },
   "outputs": [],
   "source": [
    "from sklearn.tree import DecisionTreeClassifier\n",
    "clf = DecisionTreeClassifier(max_depth = 5,\n",
    "                             random_state = 0)\n",
    "clf.fit(X_train, y_train)\n",
    "clf_pred = clf.predict(X_test)"
   ]
  },
  {
   "cell_type": "code",
   "execution_count": 18,
   "metadata": {},
   "outputs": [
    {
     "name": "stdout",
     "output_type": "stream",
     "text": [
      "[[3]]\n",
      "              precision    recall  f1-score   support\n",
      "\n",
      "           1       1.00      1.00      1.00         3\n",
      "\n",
      "    accuracy                           1.00         3\n",
      "   macro avg       1.00      1.00      1.00         3\n",
      "weighted avg       1.00      1.00      1.00         3\n",
      "\n"
     ]
    }
   ],
   "source": [
    "print(confusion_matrix(y_test, clf_pred))\n",
    "print(classification_report(y_test, clf_pred))"
   ]
  },
  {
   "cell_type": "code",
   "execution_count": 19,
   "metadata": {
    "pycharm": {
     "name": "#%%\n"
    }
   },
   "outputs": [],
   "source": [
    "# DOT data\n",
    "from IPython.display import Image\n",
    "from sklearn import tree\n",
    "import pydotplus\n",
    "fn=features\n",
    "cn=['0', '1']\n",
    "# Create DOT data\n",
    "dot_data = tree.export_graphviz(clf, out_file=None,\n",
    "                                feature_names=fn,\n",
    "                                class_names=cn,filled = True)\n",
    "\n",
    "# Draw graph\n",
    "graph = pydotplus.graph_from_dot_data(dot_data)"
   ]
  },
  {
   "cell_type": "code",
   "execution_count": 20,
   "metadata": {
    "pycharm": {
     "name": "#%%\n"
    }
   },
   "outputs": [
    {
     "data": {
      "image/png": "[encoded data removed]",
      "text/plain": [
       "<IPython.core.display.Image object>"
      ]
     },
     "execution_count": 20,
     "metadata": {},
     "output_type": "execute_result"
    }
   ],
   "source": [
    "# Show graph\n",
    "Image(graph.create_png())"
   ]
  },
  {
   "cell_type": "code",
   "execution_count": 21,
   "metadata": {
    "pycharm": {
     "name": "#%%\n"
    }
   },
   "outputs": [
    {
     "data": {
      "text/plain": [
       "True"
      ]
     },
     "execution_count": 21,
     "metadata": {},
     "output_type": "execute_result"
    }
   ],
   "source": [
    "# Create PNG\n",
    "graph.write_png(\"engineering_AF_segment3_workflowS3_decisiontree_downsampled.png\")\n",
    "\n",
    "\n"
   ]
  },
  {
   "cell_type": "code",
   "execution_count": null,
   "metadata": {},
   "outputs": [],
   "source": []
  }
 ],
 "metadata": {
  "kernelspec": {
   "display_name": "Python 3",
   "language": "python",
   "name": "python3"
  },
  "language_info": {
   "codemirror_mode": {
    "name": "ipython",
    "version": 3
   },
   "file_extension": ".py",
   "mimetype": "text/x-python",
   "name": "python",
   "nbconvert_exporter": "python",
   "pygments_lexer": "ipython3",
   "version": "3.8.3"
  }
 },
 "nbformat": 4,
 "nbformat_minor": 1
}
