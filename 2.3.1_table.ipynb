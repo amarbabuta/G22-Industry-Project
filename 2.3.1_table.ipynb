{
 "cells": [
  {
   "cell_type": "code",
   "execution_count": 57,
   "metadata": {
    "collapsed": true
   },
   "outputs": [],
   "source": [
    "from __future__ import division\n",
    "import pandas as pd\n",
    "import numpy\n"
   ]
  },
  {
   "cell_type": "code",
   "execution_count": 58,
   "outputs": [],
   "source": [
    "df3_WS1T = pd.read_csv(\"/Users/asteriag/Desktop/DATASCIENCEPROJECT_WORKFLOW/TimeStamp_Engineering/engineering_AF_segment3_workflowS1_has_duration.csv\",engine='python')"
   ],
   "metadata": {
    "collapsed": false,
    "pycharm": {
     "name": "#%%\n"
    }
   }
  },
  {
   "cell_type": "code",
   "execution_count": 59,
   "outputs": [
    {
     "data": {
      "text/plain": "                 CASE_ID WRKFLW_TSK_MAP_GROUPED WRKFLW_TSK_MAP_DETAILED  \\\n0  1076817|437987|677024                 Submit                  Submit   \n\n    PATH_CRDATETIME ITEM_CRUSER WRKFLW_ORG_TYPE_CRUSER  STATUS_ORDER  \\\n0  3/1/2019 9:01:49     1076817                    NaN            17   \n\n  LATEST_STATUS        WRKFLW_PROCESS                        QUERY_PART  ...  \\\n0             N  1. App to Assessment  Part 1 - Application ID Workflow  ...   \n\n  SPK_CAT_TYPE_CD  BROAD_COURSE_LEVEL   DEGREETYPE  \\\n0             MCW                HDCW  Full Degree   \n\n   LIABILITY_CATEGORY_CD_RECODE  ORIG_LIABILITY_CATEGORY_CD_RECODE  \\\n0                            AF                                 AF   \n\n  OFFER_RELEASED_FG OFFER_OUTCOME_CD OFFER_CONDITIONS  \\\n0                 Y             $ACC                N   \n\n                          time_used_str  time_used_second  \n0  0 days 3 hours 21 minutes 44 seconds           12104.0  \n\n[1 rows x 58 columns]",
      "text/html": "<div>\n<style scoped>\n    .dataframe tbody tr th:only-of-type {\n        vertical-align: middle;\n    }\n\n    .dataframe tbody tr th {\n        vertical-align: top;\n    }\n\n    .dataframe thead th {\n        text-align: right;\n    }\n</style>\n<table border=\"1\" class=\"dataframe\">\n  <thead>\n    <tr style=\"text-align: right;\">\n      <th></th>\n      <th>CASE_ID</th>\n      <th>WRKFLW_TSK_MAP_GROUPED</th>\n      <th>WRKFLW_TSK_MAP_DETAILED</th>\n      <th>PATH_CRDATETIME</th>\n      <th>ITEM_CRUSER</th>\n      <th>WRKFLW_ORG_TYPE_CRUSER</th>\n      <th>STATUS_ORDER</th>\n      <th>LATEST_STATUS</th>\n      <th>WRKFLW_PROCESS</th>\n      <th>QUERY_PART</th>\n      <th>...</th>\n      <th>SPK_CAT_TYPE_CD</th>\n      <th>BROAD_COURSE_LEVEL</th>\n      <th>DEGREETYPE</th>\n      <th>LIABILITY_CATEGORY_CD_RECODE</th>\n      <th>ORIG_LIABILITY_CATEGORY_CD_RECODE</th>\n      <th>OFFER_RELEASED_FG</th>\n      <th>OFFER_OUTCOME_CD</th>\n      <th>OFFER_CONDITIONS</th>\n      <th>time_used_str</th>\n      <th>time_used_second</th>\n    </tr>\n  </thead>\n  <tbody>\n    <tr>\n      <th>0</th>\n      <td>1076817|437987|677024</td>\n      <td>Submit</td>\n      <td>Submit</td>\n      <td>3/1/2019 9:01:49</td>\n      <td>1076817</td>\n      <td>NaN</td>\n      <td>17</td>\n      <td>N</td>\n      <td>1. App to Assessment</td>\n      <td>Part 1 - Application ID Workflow</td>\n      <td>...</td>\n      <td>MCW</td>\n      <td>HDCW</td>\n      <td>Full Degree</td>\n      <td>AF</td>\n      <td>AF</td>\n      <td>Y</td>\n      <td>$ACC</td>\n      <td>N</td>\n      <td>0 days 3 hours 21 minutes 44 seconds</td>\n      <td>12104.0</td>\n    </tr>\n  </tbody>\n</table>\n<p>1 rows × 58 columns</p>\n</div>"
     },
     "execution_count": 59,
     "metadata": {},
     "output_type": "execute_result"
    }
   ],
   "source": [
    "df3_WS1T.head(n=1)\n"
   ],
   "metadata": {
    "collapsed": false,
    "pycharm": {
     "name": "#%%\n"
    }
   }
  },
  {
   "cell_type": "code",
   "execution_count": 60,
   "outputs": [],
   "source": [
    "import collections\n",
    "numOfWorkflowProcesses = df3_WS1T.groupby('CASE_ID').CASE_ID.count()\n",
    "count_dic=dict()\n",
    "for i,v in numOfWorkflowProcesses.items():\n",
    "    if count_dic.get(v) is None:\n",
    "        count_dic[v]=[]\n",
    "        count_dic[v].append(i)\n",
    "    else:\n",
    "        count_dic[v].append(i)\n",
    "count_dic = dict(sorted(count_dic.items()))\n",
    "\n"
   ],
   "metadata": {
    "collapsed": false,
    "pycharm": {
     "name": "#%%\n"
    }
   }
  },
  {
   "cell_type": "code",
   "execution_count": 61,
   "outputs": [],
   "source": [
    "len_list=[]\n",
    "for key in count_dic.keys():\n",
    "    len_list.append(len(count_dic[key]))\n"
   ],
   "metadata": {
    "collapsed": false,
    "pycharm": {
     "name": "#%%\n"
    }
   }
  },
  {
   "cell_type": "code",
   "execution_count": 62,
   "outputs": [],
   "source": [
    "def strfdelta(tdelta, fmt):\n",
    "    d=dict()\n",
    "    d[\"days\"],rem1 = divmod(tdelta,60*60*24)\n",
    "    d[\"hours\"], rem2 = divmod(rem1, 3600)\n",
    "    d[\"minutes\"], d[\"seconds\"] = divmod(rem2, 60)\n",
    "    return fmt.format(**d)"
   ],
   "metadata": {
    "collapsed": false,
    "pycharm": {
     "name": "#%%\n"
    }
   }
  },
  {
   "cell_type": "code",
   "execution_count": 63,
   "outputs": [],
   "source": [
    "list_avgtime_per_key =[]\n",
    "for key in count_dic.keys():\n",
    "    id_list = count_dic[key]\n",
    "    list_sumtime_person = 0\n",
    "    for id in id_list:\n",
    "        df = df3_WS1T[df3_WS1T['CASE_ID']== id]\n",
    "        tsum = df['time_used_second'].sum()\n",
    "        list_sumtime_person+=tsum\n",
    "    list_avgtime_per_key.append(int((list_sumtime_person/len(count_dic[key]))))\n",
    "\n",
    "list_avgtime_per_key_str = []\n",
    "for i in list_avgtime_per_key:\n",
    "    list_avgtime_per_key_str.append(strfdelta(i,\"{days} days {hours} hours {minutes} minutes {seconds} seconds\"))\n"
   ],
   "metadata": {
    "collapsed": false,
    "pycharm": {
     "name": "#%%\n"
    }
   }
  },
  {
   "cell_type": "code",
   "execution_count": 64,
   "outputs": [],
   "source": [
    "list_mediantime_per_key = []\n",
    "for key in count_dic.keys():\n",
    "    id_list = count_dic[key]\n",
    "    list_sumtime_per_person = []\n",
    "    for id in id_list:\n",
    "        df = df3_WS1T[df3_WS1T['CASE_ID']== id]\n",
    "        tsum = df['time_used_second'].sum()\n",
    "        list_sumtime_per_person.append(tsum)\n",
    "    list_mediantime_per_key.append(numpy.median(list_sumtime_per_person))\n",
    "\n",
    "list_mediantime_per_key_str = []\n",
    "for i in list_mediantime_per_key:\n",
    "    list_mediantime_per_key_str.append(strfdelta(i,\"{days} days {hours} hours {minutes} minutes {seconds} seconds\"))\n"
   ],
   "metadata": {
    "collapsed": false,
    "pycharm": {
     "name": "#%%\n"
    }
   }
  },
  {
   "cell_type": "code",
   "execution_count": 65,
   "outputs": [],
   "source": [
    "list_percent_reach_end = []\n",
    "for key in count_dic.keys():\n",
    "    id_list = count_dic[key]\n",
    "    count_df_end_step = 0\n",
    "    count_df_id = 0\n",
    "    for id in id_list:\n",
    "        df_id = df3_WS1T[df3_WS1T['CASE_ID']== id]\n",
    "        df_end_step = df_id[df_id['WRKFLW_TSK_MAP_GROUPED']=='Send for Assessment']\n",
    "        count_df_id += df_id['CASE_ID'].nunique()\n",
    "        count_df_end_step += df_end_step['CASE_ID'].nunique()\n",
    "    list_percent_reach_end.append(str(round((count_df_end_step/count_df_id)*100,2))+ \"%\")"
   ],
   "metadata": {
    "collapsed": false,
    "pycharm": {
     "name": "#%%\n"
    }
   }
  },
  {
   "cell_type": "code",
   "execution_count": 66,
   "outputs": [],
   "source": [
    "list_step_per_key = []\n",
    "for key in count_dic.keys():\n",
    "    id_list = count_dic[key]\n",
    "    list_step = set()\n",
    "    for id in id_list:\n",
    "        df = df3_WS1T[df3_WS1T['CASE_ID']== id]\n",
    "        for index, row in df.iterrows():\n",
    "            list_step.add(row['WRKFLW_TSK_MAP_GROUPED'])\n",
    "    list_step_per_key.append(list_step)\n"
   ],
   "metadata": {
    "collapsed": false,
    "pycharm": {
     "name": "#%%\n"
    }
   }
  },
  {
   "cell_type": "code",
   "execution_count": 67,
   "outputs": [],
   "source": [
    "from collections import Counter\n",
    "import collections, functools, operator\n",
    "list_step_sum_time_per_key = []\n",
    "list_step_count_per_key = []\n",
    "list_step_ave_time_per_key = []\n",
    "for key in count_dic.keys():\n",
    "    id_list = count_dic[key]\n",
    "    list_step = []\n",
    "    step_time_list = []\n",
    "    for id in id_list:\n",
    "        df = df3_WS1T[df3_WS1T['CASE_ID']== id]\n",
    "        step_time = dict(zip(df.WRKFLW_TSK_MAP_GROUPED, df.time_used_second))\n",
    "        step_time_list.append(step_time)\n",
    "        for index, row in df.iterrows():\n",
    "            list_step.append(row['WRKFLW_TSK_MAP_GROUPED'])\n",
    "\n",
    "    step_sum_time = dict(functools.reduce(operator.add,\n",
    "         map(collections.Counter, step_time_list)))\n",
    "\n",
    "    dict_list_step=dict(Counter(list_step))\n",
    "\n",
    "    step_ave_time = {key: strfdelta(step_sum_time[key] // dict_list_step.get(key, 0),\"{days} days {hours} hours {minutes} minutes {seconds} seconds\")\n",
    "                        for key in step_sum_time.keys()}\n",
    "\n",
    "    sort_step_sum_time = sorted(step_sum_time.items(),key = lambda x: x[1], reverse = True)\n",
    "    list_step_sum_time_per_key.append(sort_step_sum_time)\n",
    "\n",
    "    sort_dict_list_step = sorted(dict_list_step.items(),key = lambda x: x[1], reverse = True)\n",
    "    list_step_count_per_key.append(sort_dict_list_step)\n",
    "\n",
    "    sort_step_ave_time = sorted(step_ave_time.items(),key = lambda x: x[1], reverse = True)\n",
    "    list_step_ave_time_per_key.append(sort_step_ave_time)\n"
   ],
   "metadata": {
    "collapsed": false,
    "pycharm": {
     "name": "#%%\n"
    }
   }
  },
  {
   "cell_type": "code",
   "execution_count": 68,
   "outputs": [
    {
     "name": "stdout",
     "output_type": "stream",
     "text": [
      "dict_keys([1, 2, 3, 4, 5, 6, 7, 8, 9, 10, 11, 12, 13, 14, 15, 16, 17, 18, 19])\n"
     ]
    }
   ],
   "source": [
    "print(count_dic.keys())"
   ],
   "metadata": {
    "collapsed": false,
    "pycharm": {
     "name": "#%%\n"
    }
   }
  },
  {
   "cell_type": "code",
   "execution_count": 69,
   "outputs": [
    {
     "data": {
      "text/plain": "   Number of Workflow processes in this Workflow Segment  Number of cases  \\\n0                                                  1                   36   \n1                                                  2                   31   \n2                                                  3                   15   \n3                                                  4                   75   \n4                                                  5                   86   \n5                                                  6                  116   \n6                                                  7                  113   \n7                                                  8                   91   \n8                                                  9                   49   \n9                                                 10                   58   \n\n        average time for workflow segment  \\\n0      0 days 0 hours 0 minutes 0 seconds   \n1  10 days 15 hours 23 minutes 16 seconds   \n2   17 days 20 hours 35 minutes 6 seconds   \n3  14 days 14 hours 41 minutes 33 seconds   \n4  11 days 21 hours 17 minutes 30 seconds   \n5  14 days 16 hours 57 minutes 39 seconds   \n6  17 days 17 hours 16 minutes 18 seconds   \n7   15 days 0 hours 32 minutes 30 seconds   \n8  25 days 18 hours 49 minutes 17 seconds   \n9   21 days 1 hours 31 minutes 16 seconds   \n\n                 median time for workflow segment  \\\n0      0.0 days 0.0 hours 0.0 minutes 0.0 seconds   \n1    4.0 days 22.0 hours 39.0 minutes 2.0 seconds   \n2  11.0 days 10.0 hours 36.0 minutes 33.0 seconds   \n3   10.0 days 17.0 hours 32.0 minutes 0.0 seconds   \n4     8.0 days 7.0 hours 7.0 minutes 46.0 seconds   \n5     8.0 days 4.0 hours 4.0 minutes 16.5 seconds   \n6   12.0 days 17.0 hours 15.0 minutes 1.0 seconds   \n7   11.0 days 6.0 hours 32.0 minutes 18.0 seconds   \n8   16.0 days 20.0 hours 18.0 minutes 7.0 seconds   \n9   16.0 days 1.0 hours 31.0 minutes 25.0 seconds   \n\n  percentage of cases reaching to end of workflow segment  \\\n0                                               0.0%        \n1                                             74.19%        \n2                                             73.33%        \n3                                              92.0%        \n4                                             87.21%        \n5                                             92.24%        \n6                                             92.92%        \n7                                             92.31%        \n8                                             93.88%        \n9                                             87.93%        \n\n                                                step  \\\n0                                           {Submit}   \n1  {Put Triage On-Hold, AR - Satisfied - previous...   \n2  {AR - Requested - previous or current study, A...   \n3  {AR - Not Satisfied - ELR, AR - Requested - pr...   \n4  {AR - Not Satisfied - ELR, AR - Satisfied - Ot...   \n5  {AR - Not Satisfied - ELR, Assessment Outcome ...   \n6  {AR - Not Satisfied - ELR, Assessment Outcome ...   \n7  {AR - Not Satisfied - ELR, Assessment Outcome ...   \n8  {AR - Not Satisfied - ELR, Assessment Outcome ...   \n9  {AR - Not Satisfied - ELR, AR - Satisfied - gu...   \n\n             Num of Occurrences per step(descending)  \\\n0                                     [(Submit, 36)]   \n1  [(Submit, 31), (Send for Assessment, 23), (WIT...   \n2  [(Submit, 15), (Send for Assessment, 11), (AR ...   \n3  [(Submit, 75), (Send for Assessment, 69), (AR ...   \n4  [(Submit, 86), (AR - Satisfied - previous or c...   \n5  [(AR - Satisfied - previous or current study, ...   \n6  [(AR - Satisfied - previous or current study, ...   \n7  [(AR - Satisfied - previous or current study, ...   \n8  [(AR - Satisfied - previous or current study, ...   \n9  [(AR - Satisfied - previous or current study, ...   \n\n            Average time spends per step(descending)  \\\n0                                                 []   \n1  [(Submit, 10.0 days 15.0 hours 23.0 minutes 16...   \n2  [(AR - Created - Other, 7.0 days 2.0 hours 30....   \n3  [(AR - Satisfied - previous or current study, ...   \n4  [(Release Triage Hold, 4.0 days 9.0 hours 55.0...   \n5  [(Put Triage On-Hold, 8.0 days 11.0 hours 15.0...   \n6  [(Put Triage On-Hold, 9.0 days 12.0 hours 11.0...   \n7  [(Submit, 8.0 days 11.0 hours 37.0 minutes 19....   \n8  [(OC - Created - Other, 7.0 days 20.0 hours 15...   \n9  [(Submit, 9.0 days 9.0 hours 48.0 minutes 36.0...   \n\n   average time for workflow segment(seconds)  \n0                                           0  \n1                                      919396  \n2                                     1542906  \n3                                     1262493  \n4                                     1027050  \n5                                     1270659  \n6                                     1530978  \n7                                     1297950  \n8                                     2227757  \n9                                     1819876  ",
      "text/html": "<div>\n<style scoped>\n    .dataframe tbody tr th:only-of-type {\n        vertical-align: middle;\n    }\n\n    .dataframe tbody tr th {\n        vertical-align: top;\n    }\n\n    .dataframe thead th {\n        text-align: right;\n    }\n</style>\n<table border=\"1\" class=\"dataframe\">\n  <thead>\n    <tr style=\"text-align: right;\">\n      <th></th>\n      <th>Number of Workflow processes in this Workflow Segment</th>\n      <th>Number of cases</th>\n      <th>average time for workflow segment</th>\n      <th>median time for workflow segment</th>\n      <th>percentage of cases reaching to end of workflow segment</th>\n      <th>step</th>\n      <th>Num of Occurrences per step(descending)</th>\n      <th>Average time spends per step(descending)</th>\n      <th>average time for workflow segment(seconds)</th>\n    </tr>\n  </thead>\n  <tbody>\n    <tr>\n      <th>0</th>\n      <td>1</td>\n      <td>36</td>\n      <td>0 days 0 hours 0 minutes 0 seconds</td>\n      <td>0.0 days 0.0 hours 0.0 minutes 0.0 seconds</td>\n      <td>0.0%</td>\n      <td>{Submit}</td>\n      <td>[(Submit, 36)]</td>\n      <td>[]</td>\n      <td>0</td>\n    </tr>\n    <tr>\n      <th>1</th>\n      <td>2</td>\n      <td>31</td>\n      <td>10 days 15 hours 23 minutes 16 seconds</td>\n      <td>4.0 days 22.0 hours 39.0 minutes 2.0 seconds</td>\n      <td>74.19%</td>\n      <td>{Put Triage On-Hold, AR - Satisfied - previous...</td>\n      <td>[(Submit, 31), (Send for Assessment, 23), (WIT...</td>\n      <td>[(Submit, 10.0 days 15.0 hours 23.0 minutes 16...</td>\n      <td>919396</td>\n    </tr>\n    <tr>\n      <th>2</th>\n      <td>3</td>\n      <td>15</td>\n      <td>17 days 20 hours 35 minutes 6 seconds</td>\n      <td>11.0 days 10.0 hours 36.0 minutes 33.0 seconds</td>\n      <td>73.33%</td>\n      <td>{AR - Requested - previous or current study, A...</td>\n      <td>[(Submit, 15), (Send for Assessment, 11), (AR ...</td>\n      <td>[(AR - Created - Other, 7.0 days 2.0 hours 30....</td>\n      <td>1542906</td>\n    </tr>\n    <tr>\n      <th>3</th>\n      <td>4</td>\n      <td>75</td>\n      <td>14 days 14 hours 41 minutes 33 seconds</td>\n      <td>10.0 days 17.0 hours 32.0 minutes 0.0 seconds</td>\n      <td>92.0%</td>\n      <td>{AR - Not Satisfied - ELR, AR - Requested - pr...</td>\n      <td>[(Submit, 75), (Send for Assessment, 69), (AR ...</td>\n      <td>[(AR - Satisfied - previous or current study, ...</td>\n      <td>1262493</td>\n    </tr>\n    <tr>\n      <th>4</th>\n      <td>5</td>\n      <td>86</td>\n      <td>11 days 21 hours 17 minutes 30 seconds</td>\n      <td>8.0 days 7.0 hours 7.0 minutes 46.0 seconds</td>\n      <td>87.21%</td>\n      <td>{AR - Not Satisfied - ELR, AR - Satisfied - Ot...</td>\n      <td>[(Submit, 86), (AR - Satisfied - previous or c...</td>\n      <td>[(Release Triage Hold, 4.0 days 9.0 hours 55.0...</td>\n      <td>1027050</td>\n    </tr>\n    <tr>\n      <th>5</th>\n      <td>6</td>\n      <td>116</td>\n      <td>14 days 16 hours 57 minutes 39 seconds</td>\n      <td>8.0 days 4.0 hours 4.0 minutes 16.5 seconds</td>\n      <td>92.24%</td>\n      <td>{AR - Not Satisfied - ELR, Assessment Outcome ...</td>\n      <td>[(AR - Satisfied - previous or current study, ...</td>\n      <td>[(Put Triage On-Hold, 8.0 days 11.0 hours 15.0...</td>\n      <td>1270659</td>\n    </tr>\n    <tr>\n      <th>6</th>\n      <td>7</td>\n      <td>113</td>\n      <td>17 days 17 hours 16 minutes 18 seconds</td>\n      <td>12.0 days 17.0 hours 15.0 minutes 1.0 seconds</td>\n      <td>92.92%</td>\n      <td>{AR - Not Satisfied - ELR, Assessment Outcome ...</td>\n      <td>[(AR - Satisfied - previous or current study, ...</td>\n      <td>[(Put Triage On-Hold, 9.0 days 12.0 hours 11.0...</td>\n      <td>1530978</td>\n    </tr>\n    <tr>\n      <th>7</th>\n      <td>8</td>\n      <td>91</td>\n      <td>15 days 0 hours 32 minutes 30 seconds</td>\n      <td>11.0 days 6.0 hours 32.0 minutes 18.0 seconds</td>\n      <td>92.31%</td>\n      <td>{AR - Not Satisfied - ELR, Assessment Outcome ...</td>\n      <td>[(AR - Satisfied - previous or current study, ...</td>\n      <td>[(Submit, 8.0 days 11.0 hours 37.0 minutes 19....</td>\n      <td>1297950</td>\n    </tr>\n    <tr>\n      <th>8</th>\n      <td>9</td>\n      <td>49</td>\n      <td>25 days 18 hours 49 minutes 17 seconds</td>\n      <td>16.0 days 20.0 hours 18.0 minutes 7.0 seconds</td>\n      <td>93.88%</td>\n      <td>{AR - Not Satisfied - ELR, Assessment Outcome ...</td>\n      <td>[(AR - Satisfied - previous or current study, ...</td>\n      <td>[(OC - Created - Other, 7.0 days 20.0 hours 15...</td>\n      <td>2227757</td>\n    </tr>\n    <tr>\n      <th>9</th>\n      <td>10</td>\n      <td>58</td>\n      <td>21 days 1 hours 31 minutes 16 seconds</td>\n      <td>16.0 days 1.0 hours 31.0 minutes 25.0 seconds</td>\n      <td>87.93%</td>\n      <td>{AR - Not Satisfied - ELR, AR - Satisfied - gu...</td>\n      <td>[(AR - Satisfied - previous or current study, ...</td>\n      <td>[(Submit, 9.0 days 9.0 hours 48.0 minutes 36.0...</td>\n      <td>1819876</td>\n    </tr>\n  </tbody>\n</table>\n</div>"
     },
     "execution_count": 69,
     "metadata": {},
     "output_type": "execute_result"
    }
   ],
   "source": [
    "s3_t1=pd.DataFrame({'Number of Workflow processes in this Workflow Segment':count_dic.keys(),'Number of cases':len_list, 'average time for workflow segment':list_avgtime_per_key_str,\n",
    "                    'median time for workflow segment':list_mediantime_per_key_str,'percentage of cases reaching to end of workflow segment':list_percent_reach_end,'step':list_step_per_key})\n",
    "s3_t1['Num of Occurrences per step(descending)'] = list_step_count_per_key\n",
    "s3_t1['Average time spends per step(descending)'] = list_step_ave_time_per_key\n",
    "s3_t1['average time for workflow segment(seconds)'] = list_avgtime_per_key\n",
    "s3_t1.head(n=10)\n",
    "\n"
   ],
   "metadata": {
    "collapsed": false,
    "pycharm": {
     "name": "#%%\n"
    }
   }
  },
  {
   "cell_type": "code",
   "execution_count": 70,
   "outputs": [],
   "source": [
    "s3_t1.to_csv('engineering_AF_segment3_workflowS1_table.csv', index=False)\n"
   ],
   "metadata": {
    "collapsed": false,
    "pycharm": {
     "name": "#%%\n"
    }
   }
  }
 ],
 "metadata": {
  "kernelspec": {
   "name": "pycharm-3f427a6c",
   "language": "python",
   "display_name": "PyCharm (pythonProject)"
  },
  "language_info": {
   "codemirror_mode": {
    "name": "ipython",
    "version": 2
   },
   "file_extension": ".py",
   "mimetype": "text/x-python",
   "name": "python",
   "nbconvert_exporter": "python",
   "pygments_lexer": "ipython2",
   "version": "2.7.6"
  }
 },
 "nbformat": 4,
 "nbformat_minor": 0
}