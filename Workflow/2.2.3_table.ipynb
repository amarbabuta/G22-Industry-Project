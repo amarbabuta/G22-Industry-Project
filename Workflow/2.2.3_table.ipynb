{
 "cells": [
  {
   "cell_type": "code",
   "execution_count": 1,
   "metadata": {
    "collapsed": true
   },
   "outputs": [],
   "source": [
    "import pandas as pd\n",
    "import numpy\n",
    "from __future__ import division"
   ]
  },
  {
   "cell_type": "code",
   "execution_count": 2,
   "outputs": [],
   "source": [
    "df2_WS3T = pd.read_csv(\"/Users/asteriag/Desktop/DATASCIENCEPROJECT_WORKFLOW/pythonProject/segment2_WS3_has_duration.csv\")"
   ],
   "metadata": {
    "collapsed": false,
    "pycharm": {
     "name": "#%%\n"
    }
   }
  },
  {
   "cell_type": "code",
   "execution_count": 3,
   "outputs": [
    {
     "data": {
      "text/plain": "                CASE_ID           WRKFLW_TSK_MAP_GROUPED  \\\n0  914197|528561|809459  Assessment Outcome - Successful   \n\n           WRKFLW_TSK_MAP_DETAILED      PATH_CRDATETIME   ITEM_CRUSER  \\\n0  Assessment Outcome - Successful  25/11/2019 11:12:41  ETONGSMURRAY   \n\n  WRKFLW_ORG_TYPE_CRUSER  STATUS_ORDER LATEST_STATUS         WRKFLW_PROCESS  \\\n0                Faculty             6             N  2. Perform Assessment   \n\n                    QUERY_PART  ... SPK_CAT_TYPE_CD  BROAD_COURSE_LEVEL  \\\n0  Part 3 - Assessment Outcome  ...             MCW                HDCW   \n\n    DEGREETYPE  LIABILITY_CATEGORY_CD_RECODE  \\\n0  Full Degree                            AS   \n\n   ORIG_LIABILITY_CATEGORY_CD_RECODE OFFER_RELEASED_FG OFFER_OUTCOME_CD  \\\n0                                 AS                 Y             $DEC   \n\n  OFFER_CONDITIONS                        time_used_str  time_used_second  \n0                N  0 days 0 hours 0 minutes 14 seconds              14.0  \n\n[1 rows x 58 columns]",
      "text/html": "<div>\n<style scoped>\n    .dataframe tbody tr th:only-of-type {\n        vertical-align: middle;\n    }\n\n    .dataframe tbody tr th {\n        vertical-align: top;\n    }\n\n    .dataframe thead th {\n        text-align: right;\n    }\n</style>\n<table border=\"1\" class=\"dataframe\">\n  <thead>\n    <tr style=\"text-align: right;\">\n      <th></th>\n      <th>CASE_ID</th>\n      <th>WRKFLW_TSK_MAP_GROUPED</th>\n      <th>WRKFLW_TSK_MAP_DETAILED</th>\n      <th>PATH_CRDATETIME</th>\n      <th>ITEM_CRUSER</th>\n      <th>WRKFLW_ORG_TYPE_CRUSER</th>\n      <th>STATUS_ORDER</th>\n      <th>LATEST_STATUS</th>\n      <th>WRKFLW_PROCESS</th>\n      <th>QUERY_PART</th>\n      <th>...</th>\n      <th>SPK_CAT_TYPE_CD</th>\n      <th>BROAD_COURSE_LEVEL</th>\n      <th>DEGREETYPE</th>\n      <th>LIABILITY_CATEGORY_CD_RECODE</th>\n      <th>ORIG_LIABILITY_CATEGORY_CD_RECODE</th>\n      <th>OFFER_RELEASED_FG</th>\n      <th>OFFER_OUTCOME_CD</th>\n      <th>OFFER_CONDITIONS</th>\n      <th>time_used_str</th>\n      <th>time_used_second</th>\n    </tr>\n  </thead>\n  <tbody>\n    <tr>\n      <th>0</th>\n      <td>914197|528561|809459</td>\n      <td>Assessment Outcome - Successful</td>\n      <td>Assessment Outcome - Successful</td>\n      <td>25/11/2019 11:12:41</td>\n      <td>ETONGSMURRAY</td>\n      <td>Faculty</td>\n      <td>6</td>\n      <td>N</td>\n      <td>2. Perform Assessment</td>\n      <td>Part 3 - Assessment Outcome</td>\n      <td>...</td>\n      <td>MCW</td>\n      <td>HDCW</td>\n      <td>Full Degree</td>\n      <td>AS</td>\n      <td>AS</td>\n      <td>Y</td>\n      <td>$DEC</td>\n      <td>N</td>\n      <td>0 days 0 hours 0 minutes 14 seconds</td>\n      <td>14.0</td>\n    </tr>\n  </tbody>\n</table>\n<p>1 rows × 58 columns</p>\n</div>"
     },
     "execution_count": 3,
     "metadata": {},
     "output_type": "execute_result"
    }
   ],
   "source": [
    "df2_WS3T.head(n=1)"
   ],
   "metadata": {
    "collapsed": false,
    "pycharm": {
     "name": "#%%\n"
    }
   }
  },
  {
   "cell_type": "code",
   "execution_count": 4,
   "outputs": [],
   "source": [
    "numOfWorkflowProcesses = df2_WS3T.groupby('CASE_ID').CASE_ID.count()\n",
    "\n",
    "count_dic=dict()\n",
    "for i,v in numOfWorkflowProcesses.items():\n",
    "    if count_dic.get(v) is None:\n",
    "        count_dic[v]=[]\n",
    "        count_dic[v].append(i)\n",
    "    else:\n",
    "        count_dic[v].append(i)\n",
    "#count_dic\n"
   ],
   "metadata": {
    "collapsed": false,
    "pycharm": {
     "name": "#%%\n"
    }
   }
  },
  {
   "cell_type": "code",
   "execution_count": 5,
   "outputs": [],
   "source": [
    "len_list=[]\n",
    "for key in count_dic.keys():\n",
    "    len_list.append(len(count_dic[key]))"
   ],
   "metadata": {
    "collapsed": false,
    "pycharm": {
     "name": "#%%\n"
    }
   }
  },
  {
   "cell_type": "code",
   "execution_count": 6,
   "outputs": [],
   "source": [
    "def strfdelta(tdelta, fmt):\n",
    "    d=dict()\n",
    "    d[\"days\"],rem1 = divmod(tdelta,60*60*24)\n",
    "    d[\"hours\"], rem2 = divmod(rem1, 3600)\n",
    "    d[\"minutes\"], d[\"seconds\"] = divmod(rem2, 60)\n",
    "    return fmt.format(**d)"
   ],
   "metadata": {
    "collapsed": false,
    "pycharm": {
     "name": "#%%\n"
    }
   }
  },
  {
   "cell_type": "code",
   "execution_count": 7,
   "outputs": [],
   "source": [
    "list_avgtime_per_key =[]\n",
    "for key in count_dic.keys():\n",
    "    id_list = count_dic[key]\n",
    "    list_sumtime_person = 0\n",
    "    for id in id_list:\n",
    "        df = df2_WS3T[df2_WS3T['CASE_ID']== id]\n",
    "        tsum = df['time_used_second'].sum()\n",
    "        list_sumtime_person+=tsum\n",
    "    list_avgtime_per_key.append(int((list_sumtime_person/len(count_dic[key]))))\n",
    "\n",
    "list_avgtime_per_key_str = []\n",
    "for i in list_avgtime_per_key:\n",
    "    list_avgtime_per_key_str.append(strfdelta(i,\"{days} days {hours} hours {minutes} minutes {seconds} seconds\"))"
   ],
   "metadata": {
    "collapsed": false,
    "pycharm": {
     "name": "#%%\n"
    }
   }
  },
  {
   "cell_type": "code",
   "execution_count": 8,
   "outputs": [],
   "source": [
    "list_mediantime_per_key = []\n",
    "for key in count_dic.keys():\n",
    "    id_list = count_dic[key]\n",
    "    list_sumtime_per_person = []\n",
    "    for id in id_list:\n",
    "        df = df2_WS3T[df2_WS3T['CASE_ID']== id]\n",
    "        tsum = df['time_used_second'].sum()\n",
    "        list_sumtime_per_person.append(tsum)\n",
    "    list_mediantime_per_key.append(numpy.median(list_sumtime_per_person))\n",
    "\n",
    "list_mediantime_per_key_str = []\n",
    "for i in list_mediantime_per_key:\n",
    "    list_mediantime_per_key_str.append(strfdelta(i,\"{days} days {hours} hours {minutes} minutes {seconds} seconds\"))"
   ],
   "metadata": {
    "collapsed": false,
    "pycharm": {
     "name": "#%%\n"
    }
   }
  },
  {
   "cell_type": "code",
   "execution_count": 9,
   "outputs": [],
   "source": [
    "list_percent_reach_end = []\n",
    "for key in count_dic.keys():\n",
    "    id_list = count_dic[key]\n",
    "    count_df_end_step = 0\n",
    "    count_df_id = 0\n",
    "    for id in id_list:\n",
    "        df_id = df2_WS3T[df2_WS3T['CASE_ID']== id]\n",
    "        df_end_step = df_id[df_id['WRKFLW_TSK_MAP_GROUPED']=='Release Offer']\n",
    "        count_df_id += df_id['CASE_ID'].count()\n",
    "        count_df_end_step += df_end_step['CASE_ID'].count()\n",
    "    list_percent_reach_end.append(str(round((count_df_end_step/count_df_id)*100,2))+ \"%\")"
   ],
   "metadata": {
    "collapsed": false,
    "pycharm": {
     "name": "#%%\n"
    }
   }
  },
  {
   "cell_type": "code",
   "execution_count": 10,
   "outputs": [],
   "source": [
    "list_step_per_key = []\n",
    "for key in count_dic.keys():\n",
    "    id_list = count_dic[key]\n",
    "    list_step = set()\n",
    "    for id in id_list:\n",
    "        df = df2_WS3T[df2_WS3T['CASE_ID']== id]\n",
    "        for index, row in df.iterrows():\n",
    "            list_step.add(row['WRKFLW_TSK_MAP_GROUPED'])\n",
    "    list_step_per_key.append(list_step)"
   ],
   "metadata": {
    "collapsed": false,
    "pycharm": {
     "name": "#%%\n"
    }
   }
  },
  {
   "cell_type": "code",
   "execution_count": 11,
   "outputs": [
    {
     "data": {
      "text/plain": "   Number of Workflow processes in this Workflow Segment  Number of cases  \\\n0                                                  1                  246   \n1                                                  2                   55   \n2                                                  3                  783   \n3                                                  4                  336   \n4                                                  5                   37   \n5                                                  6                   18   \n6                                                  7                    5   \n7                                                  8                    1   \n8                                                  9                    1   \n9                                                 10                    3   \n\n        average time for workflow segment  \\\n0      0 days 0 hours 0 minutes 0 seconds   \n1  12 days 23 hours 35 minutes 47 seconds   \n2    2 days 0 hours 10 minutes 45 seconds   \n3    2 days 10 hours 25 minutes 8 seconds   \n4   7 days 23 hours 12 minutes 59 seconds   \n5  18 days 21 hours 54 minutes 54 seconds   \n6  75 days 15 hours 48 minutes 49 seconds   \n7     7 days 1 hours 36 minutes 9 seconds   \n8    5 days 5 hours 11 minutes 43 seconds   \n9   65 days 15 hours 2 minutes 45 seconds   \n\n                median time for workflow segment  \\\n0     0.0 days 0.0 hours 0.0 minutes 0.0 seconds   \n1    0.0 days 0.0 hours 1.0 minutes 50.0 seconds   \n2    0.0 days 0.0 hours 2.0 minutes 15.0 seconds   \n3    0.0 days 0.0 hours 2.0 minutes 23.0 seconds   \n4    0.0 days 0.0 hours 3.0 minutes 44.0 seconds   \n5  7.0 days 11.0 hours 24.0 minutes 33.0 seconds   \n6    0.0 days 0.0 hours 8.0 minutes 22.0 seconds   \n7    7.0 days 1.0 hours 36.0 minutes 9.0 seconds   \n8   5.0 days 5.0 hours 11.0 minutes 43.0 seconds   \n9  53.0 days 1.0 hours 58.0 minutes 58.0 seconds   \n\n  percentage of cases reaching to end of workflow segment  \\\n0                                               0.0%        \n1                                               0.0%        \n2                                             32.14%        \n3                                             23.96%        \n4                                             15.68%        \n5                                             11.11%        \n6                                              8.57%        \n7                                              12.5%        \n8                                             11.11%        \n9                                              6.67%        \n\n                                                step  \n0              {Assessment Outcome - Not Successful}  \n1  {Send for Assessment, AR - Satisfied - previou...  \n2  {Send for Assessment, AR - Satisfied - previou...  \n3  {Send for Assessment, AR - Satisfied - previou...  \n4  {Send for Assessment, AR - Created - previous ...  \n5  {Assessment Outcome - Higher Preference Succes...  \n6  {Send for Assessment, Assessment Outcome - Suc...  \n7  {Assessment Outcome - Successful, Assessment D...  \n8  {Assessment Outcome - Successful, Assessment D...  \n9  {Send for Assessment, Assessment Outcome - Suc...  ",
      "text/html": "<div>\n<style scoped>\n    .dataframe tbody tr th:only-of-type {\n        vertical-align: middle;\n    }\n\n    .dataframe tbody tr th {\n        vertical-align: top;\n    }\n\n    .dataframe thead th {\n        text-align: right;\n    }\n</style>\n<table border=\"1\" class=\"dataframe\">\n  <thead>\n    <tr style=\"text-align: right;\">\n      <th></th>\n      <th>Number of Workflow processes in this Workflow Segment</th>\n      <th>Number of cases</th>\n      <th>average time for workflow segment</th>\n      <th>median time for workflow segment</th>\n      <th>percentage of cases reaching to end of workflow segment</th>\n      <th>step</th>\n    </tr>\n  </thead>\n  <tbody>\n    <tr>\n      <th>0</th>\n      <td>1</td>\n      <td>246</td>\n      <td>0 days 0 hours 0 minutes 0 seconds</td>\n      <td>0.0 days 0.0 hours 0.0 minutes 0.0 seconds</td>\n      <td>0.0%</td>\n      <td>{Assessment Outcome - Not Successful}</td>\n    </tr>\n    <tr>\n      <th>1</th>\n      <td>2</td>\n      <td>55</td>\n      <td>12 days 23 hours 35 minutes 47 seconds</td>\n      <td>0.0 days 0.0 hours 1.0 minutes 50.0 seconds</td>\n      <td>0.0%</td>\n      <td>{Send for Assessment, AR - Satisfied - previou...</td>\n    </tr>\n    <tr>\n      <th>2</th>\n      <td>3</td>\n      <td>783</td>\n      <td>2 days 0 hours 10 minutes 45 seconds</td>\n      <td>0.0 days 0.0 hours 2.0 minutes 15.0 seconds</td>\n      <td>32.14%</td>\n      <td>{Send for Assessment, AR - Satisfied - previou...</td>\n    </tr>\n    <tr>\n      <th>3</th>\n      <td>4</td>\n      <td>336</td>\n      <td>2 days 10 hours 25 minutes 8 seconds</td>\n      <td>0.0 days 0.0 hours 2.0 minutes 23.0 seconds</td>\n      <td>23.96%</td>\n      <td>{Send for Assessment, AR - Satisfied - previou...</td>\n    </tr>\n    <tr>\n      <th>4</th>\n      <td>5</td>\n      <td>37</td>\n      <td>7 days 23 hours 12 minutes 59 seconds</td>\n      <td>0.0 days 0.0 hours 3.0 minutes 44.0 seconds</td>\n      <td>15.68%</td>\n      <td>{Send for Assessment, AR - Created - previous ...</td>\n    </tr>\n    <tr>\n      <th>5</th>\n      <td>6</td>\n      <td>18</td>\n      <td>18 days 21 hours 54 minutes 54 seconds</td>\n      <td>7.0 days 11.0 hours 24.0 minutes 33.0 seconds</td>\n      <td>11.11%</td>\n      <td>{Assessment Outcome - Higher Preference Succes...</td>\n    </tr>\n    <tr>\n      <th>6</th>\n      <td>7</td>\n      <td>5</td>\n      <td>75 days 15 hours 48 minutes 49 seconds</td>\n      <td>0.0 days 0.0 hours 8.0 minutes 22.0 seconds</td>\n      <td>8.57%</td>\n      <td>{Send for Assessment, Assessment Outcome - Suc...</td>\n    </tr>\n    <tr>\n      <th>7</th>\n      <td>8</td>\n      <td>1</td>\n      <td>7 days 1 hours 36 minutes 9 seconds</td>\n      <td>7.0 days 1.0 hours 36.0 minutes 9.0 seconds</td>\n      <td>12.5%</td>\n      <td>{Assessment Outcome - Successful, Assessment D...</td>\n    </tr>\n    <tr>\n      <th>8</th>\n      <td>9</td>\n      <td>1</td>\n      <td>5 days 5 hours 11 minutes 43 seconds</td>\n      <td>5.0 days 5.0 hours 11.0 minutes 43.0 seconds</td>\n      <td>11.11%</td>\n      <td>{Assessment Outcome - Successful, Assessment D...</td>\n    </tr>\n    <tr>\n      <th>9</th>\n      <td>10</td>\n      <td>3</td>\n      <td>65 days 15 hours 2 minutes 45 seconds</td>\n      <td>53.0 days 1.0 hours 58.0 minutes 58.0 seconds</td>\n      <td>6.67%</td>\n      <td>{Send for Assessment, Assessment Outcome - Suc...</td>\n    </tr>\n  </tbody>\n</table>\n</div>"
     },
     "execution_count": 11,
     "metadata": {},
     "output_type": "execute_result"
    }
   ],
   "source": [
    "s2_t3=pd.DataFrame({'Number of Workflow processes in this Workflow Segment':count_dic.keys(),'Number of cases':len_list, 'average time for workflow segment':list_avgtime_per_key_str,'median time for workflow segment':list_mediantime_per_key_str,'percentage of cases reaching to end of workflow segment':list_percent_reach_end,'step':list_step_per_key})\n",
    "s2_t3.head(n=10)\n"
   ],
   "metadata": {
    "collapsed": false,
    "pycharm": {
     "name": "#%%\n"
    }
   }
  },
  {
   "cell_type": "code",
   "execution_count": 12,
   "outputs": [],
   "source": [
    "s2_t3.to_csv('segment2_WS3_table.csv', index=False)\n",
    "\n",
    "\n",
    "\n",
    "\n",
    "\n",
    "\n"
   ],
   "metadata": {
    "collapsed": false,
    "pycharm": {
     "name": "#%%\n"
    }
   }
  }
 ],
 "metadata": {
  "kernelspec": {
   "name": "pycharm-78f37aff",
   "language": "python",
   "display_name": "PyCharm (pythonProject)"
  },
  "language_info": {
   "codemirror_mode": {
    "name": "ipython",
    "version": 2
   },
   "file_extension": ".py",
   "mimetype": "text/x-python",
   "name": "python",
   "nbconvert_exporter": "python",
   "pygments_lexer": "ipython2",
   "version": "2.7.6"
  }
 },
 "nbformat": 4,
 "nbformat_minor": 0
}