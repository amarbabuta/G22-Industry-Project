{
 "cells": [
  {
   "cell_type": "code",
   "execution_count": 6,
   "metadata": {
    "collapsed": true
   },
   "outputs": [],
   "source": [
    "import pandas as pd\n",
    "from datetime import datetime"
   ]
  },
  {
   "cell_type": "code",
   "execution_count": 7,
   "outputs": [],
   "source": [
    "df2_WS3 = pd.read_csv(\"/Users/asteriag/Desktop/DATASCIENCEPROJECT_WORKFLOW/TimeStamp_Engineering/engineering_AS_segment2_workflowS3.csv\",engine='python')"
   ],
   "metadata": {
    "collapsed": false,
    "pycharm": {
     "name": "#%%\n"
    }
   }
  },
  {
   "cell_type": "code",
   "execution_count": 8,
   "outputs": [
    {
     "data": {
      "text/plain": "                CASE_ID           WRKFLW_TSK_MAP_GROUPED  \\\n0  722111|418134|648088  Assessment Outcome - Successful   \n1  722111|418134|648088                     Create Offer   \n\n           WRKFLW_TSK_MAP_DETAILED     PATH_CRDATETIME  \n0  Assessment Outcome - Successful  8/12/2018 13:57:55  \n1                     Create Offer  8/12/2018 13:58:07  ",
      "text/html": "<div>\n<style scoped>\n    .dataframe tbody tr th:only-of-type {\n        vertical-align: middle;\n    }\n\n    .dataframe tbody tr th {\n        vertical-align: top;\n    }\n\n    .dataframe thead th {\n        text-align: right;\n    }\n</style>\n<table border=\"1\" class=\"dataframe\">\n  <thead>\n    <tr style=\"text-align: right;\">\n      <th></th>\n      <th>CASE_ID</th>\n      <th>WRKFLW_TSK_MAP_GROUPED</th>\n      <th>WRKFLW_TSK_MAP_DETAILED</th>\n      <th>PATH_CRDATETIME</th>\n    </tr>\n  </thead>\n  <tbody>\n    <tr>\n      <th>0</th>\n      <td>722111|418134|648088</td>\n      <td>Assessment Outcome - Successful</td>\n      <td>Assessment Outcome - Successful</td>\n      <td>8/12/2018 13:57:55</td>\n    </tr>\n    <tr>\n      <th>1</th>\n      <td>722111|418134|648088</td>\n      <td>Create Offer</td>\n      <td>Create Offer</td>\n      <td>8/12/2018 13:58:07</td>\n    </tr>\n  </tbody>\n</table>\n</div>"
     },
     "execution_count": 8,
     "metadata": {},
     "output_type": "execute_result"
    }
   ],
   "source": [
    "df2_WS3.head(n=2)"
   ],
   "metadata": {
    "collapsed": false,
    "pycharm": {
     "name": "#%%\n"
    }
   }
  },
  {
   "cell_type": "code",
   "execution_count": 9,
   "outputs": [],
   "source": [
    "def strfdelta(tdelta, fmt):\n",
    "    d = {\"days\": tdelta.days}\n",
    "    d[\"hours\"], rem = divmod(tdelta.seconds, 3600)\n",
    "    d[\"minutes\"], d[\"seconds\"] = divmod(rem, 60)\n",
    "    return fmt.format(**d)\n",
    "def calculate_time_duration_str(str1,str2):\n",
    "    t1=datetime.strptime(str1,'%d/%m/%Y %H:%M:%S')\n",
    "    t2=datetime.strptime(str2,'%d/%m/%Y %H:%M:%S')\n",
    "    s=strfdelta(t1-t2,\"{days} days {hours} hours {minutes} minutes {seconds} seconds\")\n",
    "    return s\n",
    "def calculate_time_duration_second(str1,str2):\n",
    "    t1=datetime.strptime(str1,'%d/%m/%Y %H:%M:%S')\n",
    "    t2=datetime.strptime(str2,'%d/%m/%Y %H:%M:%S')\n",
    "    diff = t1-t2\n",
    "    return diff.total_seconds()\n"
   ],
   "metadata": {
    "collapsed": false,
    "pycharm": {
     "name": "#%%\n"
    }
   }
  },
  {
   "cell_type": "code",
   "execution_count": 10,
   "outputs": [],
   "source": [
    "for i in range(len(df2_WS3)-1):\n",
    "    id=df2_WS3.loc[i,'CASE_ID']\n",
    "    next_id=df2_WS3.loc[i+1,'CASE_ID']\n",
    "    if next_id == id:\n",
    "        df2_WS3.loc[i,'time_used_str']=calculate_time_duration_str(df2_WS3.loc[i+1,'PATH_CRDATETIME'],df2_WS3.loc[i,'PATH_CRDATETIME'])\n",
    "        df2_WS3.loc[i,'time_used_second']=calculate_time_duration_second(df2_WS3.loc[i+1,'PATH_CRDATETIME'],df2_WS3.loc[i,'PATH_CRDATETIME'])\n",
    "    elif next_id != id:\n",
    "        df2_WS3.loc[i,'time_used_str']= 'NA'\n",
    "        df2_WS3.loc[i,'time_used_second']= 0\n",
    "\n",
    "df2_WS3.loc[len(df2_WS3)-1,'time_used_str']= 'NA'\n",
    "df2_WS3.loc[len(df2_WS3)-1,'time_used_second']= 0\n",
    "df2_WS3.to_csv('engineering_AS_segment2_workflowS3_has_duration.csv',index=False)\n",
    "\n",
    "\n",
    "\n",
    "\n",
    "\n",
    "\n",
    "\n",
    "\n",
    "\n",
    "\n",
    "\n",
    "\n"
   ],
   "metadata": {
    "collapsed": false,
    "pycharm": {
     "name": "#%%\n"
    }
   }
  }
 ],
 "metadata": {
  "kernelspec": {
   "name": "pycharm-3f427a6c",
   "language": "python",
   "display_name": "PyCharm (pythonProject)"
  },
  "language_info": {
   "codemirror_mode": {
    "name": "ipython",
    "version": 2
   },
   "file_extension": ".py",
   "mimetype": "text/x-python",
   "name": "python",
   "nbconvert_exporter": "python",
   "pygments_lexer": "ipython2",
   "version": "2.7.6"
  }
 },
 "nbformat": 4,
 "nbformat_minor": 0
}