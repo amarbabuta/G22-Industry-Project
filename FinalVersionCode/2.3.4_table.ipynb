{
 "cells": [
  {
   "cell_type": "code",
   "execution_count": 1,
   "metadata": {
    "collapsed": true
   },
   "outputs": [],
   "source": [
    "import pandas as pd\n",
    "import numpy\n",
    "from __future__ import division"
   ]
  },
  {
   "cell_type": "code",
   "execution_count": 2,
   "outputs": [],
   "source": [
    "df3_WS4T = pd.read_csv(\"/Users/asteriag/Desktop/DATASCIENCEPROJECT_WORKFLOW/TimeStamp_Engineering/engineering_AF_segment3_workflowS4_has_duration.csv\",engine='python')"
   ],
   "metadata": {
    "collapsed": false,
    "pycharm": {
     "name": "#%%\n"
    }
   }
  },
  {
   "cell_type": "code",
   "execution_count": 3,
   "outputs": [
    {
     "data": {
      "text/plain": "                 CASE_ID WRKFLW_TSK_MAP_GROUPED WRKFLW_TSK_MAP_DETAILED  \\\n0  1076747|438001|677047          Release Offer           Release Offer   \n\n      PATH_CRDATETIME                        time_used_str  time_used_second  \n0  15/1/2019 17:25:38  1 days 1 hours 13 minutes 3 seconds           90783.0  ",
      "text/html": "<div>\n<style scoped>\n    .dataframe tbody tr th:only-of-type {\n        vertical-align: middle;\n    }\n\n    .dataframe tbody tr th {\n        vertical-align: top;\n    }\n\n    .dataframe thead th {\n        text-align: right;\n    }\n</style>\n<table border=\"1\" class=\"dataframe\">\n  <thead>\n    <tr style=\"text-align: right;\">\n      <th></th>\n      <th>CASE_ID</th>\n      <th>WRKFLW_TSK_MAP_GROUPED</th>\n      <th>WRKFLW_TSK_MAP_DETAILED</th>\n      <th>PATH_CRDATETIME</th>\n      <th>time_used_str</th>\n      <th>time_used_second</th>\n    </tr>\n  </thead>\n  <tbody>\n    <tr>\n      <th>0</th>\n      <td>1076747|438001|677047</td>\n      <td>Release Offer</td>\n      <td>Release Offer</td>\n      <td>15/1/2019 17:25:38</td>\n      <td>1 days 1 hours 13 minutes 3 seconds</td>\n      <td>90783.0</td>\n    </tr>\n  </tbody>\n</table>\n</div>"
     },
     "execution_count": 3,
     "metadata": {},
     "output_type": "execute_result"
    }
   ],
   "source": [
    "df3_WS4T.head(n=1)"
   ],
   "metadata": {
    "collapsed": false,
    "pycharm": {
     "name": "#%%\n"
    }
   }
  },
  {
   "cell_type": "code",
   "execution_count": 4,
   "outputs": [
    {
     "data": {
      "text/plain": "27"
     },
     "execution_count": 4,
     "metadata": {},
     "output_type": "execute_result"
    }
   ],
   "source": [
    "df3_WS4T['WRKFLW_TSK_MAP_GROUPED'].nunique()"
   ],
   "metadata": {
    "collapsed": false,
    "pycharm": {
     "name": "#%%\n"
    }
   }
  },
  {
   "cell_type": "code",
   "execution_count": 5,
   "outputs": [
    {
     "data": {
      "text/plain": "30"
     },
     "execution_count": 5,
     "metadata": {},
     "output_type": "execute_result"
    }
   ],
   "source": [
    "df3_WS4T['WRKFLW_TSK_MAP_DETAILED'].nunique()"
   ],
   "metadata": {
    "collapsed": false,
    "pycharm": {
     "name": "#%%\n"
    }
   }
  },
  {
   "cell_type": "code",
   "execution_count": 6,
   "outputs": [
    {
     "name": "stdout",
     "output_type": "stream",
     "text": [
      "[('Release Offer', 241), ('Accept', 127), ('Defer', 21), ('Decline', 20), ('Manage Acceptance', 12), ('OC - Satisfied - English language requirements', 12), ('Assessment Decision - Qualified', 9), ('OC - Created - Evidence of course completion', 9), ('OC - Satisfied - Evidence of course completion', 8), ('AR - Satisfied - Academic results for prior tertiary studies', 5), ('AR - Created - Assessment information (Coursework) (1)', 4), ('AR - Satisfied - Official syllabus or subject descriptions (in English)', 4), ('Assessment Decision - No Decision', 4), ('AR - Satisfied - English language proficiency', 3), ('OC - Reviewed - English language requirements', 3), ('AR - Satisfied - Graduate Access Melbourne', 2), ('OC - Created - English language requirements', 2), ('PREPARE TO LOCK', 2), ('AR - Reviewed - English language proficiency', 1), ('AR - Satisfied - Advanced Standing', 1), ('AR - Satisfied - Current enrolment at the University of Melbourne', 1), ('AR - Satisfied - Further information (1)', 1), ('Back to Perform Assessment', 1), ('End My Assessment', 1), ('OC - Not Satisfied - Evidence of course completion', 1), ('OC - Requested - English language requirements', 1), ('OC - Satisfied - MYEQUALS transcript authentication for students', 1), ('Put Assessment On-Hold', 1), ('Release Assessment Hold', 1), ('Restart Offer Workflow', 1)]\n"
     ]
    }
   ],
   "source": [
    "wd_count = df3_WS4T.groupby('WRKFLW_TSK_MAP_DETAILED').WRKFLW_TSK_MAP_DETAILED.count()\n",
    "wd_dict = dict()\n",
    "for i, v in wd_count.items():\n",
    "    wd_dict[i] = v\n",
    "sorted_wd_dict = sorted(wd_dict.items(), key = lambda x: x[1], reverse = True)\n",
    "print(sorted_wd_dict)"
   ],
   "metadata": {
    "collapsed": false,
    "pycharm": {
     "name": "#%%\n"
    }
   }
  },
  {
   "cell_type": "code",
   "execution_count": 7,
   "outputs": [
    {
     "name": "stdout",
     "output_type": "stream",
     "text": [
      "[('Put Assessment On-Hold', 18748931.0), ('OC - Created - English language requirements', 5118911.0), ('AR - Created - Assessment information (Coursework) (1)', 4560377.0), ('OC - Satisfied - Evidence of course completion', 4026632.0), ('AR - Satisfied - Academic results for prior tertiary studies', 4014655.0), ('OC - Created - Evidence of course completion', 2989065.0), ('OC - Satisfied - MYEQUALS transcript authentication for students', 1899310.0), ('Release Offer', 1635400.0), ('AR - Satisfied - Further information (1)', 1552547.0), ('Assessment Decision - No Decision', 1276652.0), ('AR - Satisfied - English language proficiency', 980685.0), ('OC - Satisfied - English language requirements', 930477.0), ('Assessment Decision - Qualified', 883029.0), ('AR - Satisfied - Official syllabus or subject descriptions (in English)', 793990.0), ('PREPARE TO LOCK', 319306.0), ('AR - Satisfied - Graduate Access Melbourne', 45616.0), ('Back to Perform Assessment', 36469.0), ('Decline', 17003.0), ('End My Assessment', 1139.0), ('AR - Reviewed - English language proficiency', 45.0), ('AR - Satisfied - Advanced Standing', 28.0), ('Restart Offer Workflow', 13.0), ('AR - Satisfied - Current enrolment at the University of Melbourne', 5.0), ('Accept', 0.0), ('Defer', 0.0), ('Manage Acceptance', 0.0), ('OC - Requested - English language requirements', 0.0), ('OC - Reviewed - English language requirements', 0.0), ('OC - Not Satisfied - Evidence of course completion', 0.0), ('Release Assessment Hold', 0.0)]\n"
     ]
    }
   ],
   "source": [
    "list = df3_WS4T.WRKFLW_TSK_MAP_DETAILED.unique()\n",
    "avg_time_dict = dict()\n",
    "for key in list :\n",
    "    df_slides = df3_WS4T[df3_WS4T['WRKFLW_TSK_MAP_DETAILED'] == key]\n",
    "    sum = df_slides['time_used_second'].sum()\n",
    "    c = len(df_slides)\n",
    "    avg = sum//c\n",
    "    avg_time_dict[key] = avg\n",
    "\n",
    "sorted_avg_time_dict = sorted(avg_time_dict.items(),key = lambda x: x[1], reverse = True)\n",
    "print(sorted_avg_time_dict)"
   ],
   "metadata": {
    "collapsed": false,
    "pycharm": {
     "name": "#%%\n"
    }
   }
  },
  {
   "cell_type": "code",
   "execution_count": 8,
   "outputs": [],
   "source": [
    "numOfWorkflowProcesses = df3_WS4T.groupby('CASE_ID').CASE_ID.count()\n",
    "\n",
    "count_dic=dict()\n",
    "for i,v in numOfWorkflowProcesses.items():\n",
    "    if count_dic.get(v) is None:\n",
    "        count_dic[v]=[]\n",
    "        count_dic[v].append(i)\n",
    "    else:\n",
    "        count_dic[v].append(i)\n",
    "#count_dic\n",
    "count_dic = dict(sorted(count_dic.items()))"
   ],
   "metadata": {
    "collapsed": false,
    "pycharm": {
     "name": "#%%\n"
    }
   }
  },
  {
   "cell_type": "code",
   "execution_count": 9,
   "outputs": [],
   "source": [
    "len_list=[]\n",
    "for key in count_dic.keys():\n",
    "    len_list.append(len(count_dic[key]))"
   ],
   "metadata": {
    "collapsed": false,
    "pycharm": {
     "name": "#%%\n"
    }
   }
  },
  {
   "cell_type": "code",
   "execution_count": 10,
   "outputs": [],
   "source": [
    "def strfdelta(tdelta, fmt):\n",
    "    d=dict()\n",
    "    d[\"days\"],rem1 = divmod(tdelta,60*60*24)\n",
    "    d[\"hours\"], rem2 = divmod(rem1, 3600)\n",
    "    d[\"minutes\"], d[\"seconds\"] = divmod(rem2, 60)\n",
    "    return fmt.format(**d)"
   ],
   "metadata": {
    "collapsed": false,
    "pycharm": {
     "name": "#%%\n"
    }
   }
  },
  {
   "cell_type": "code",
   "execution_count": 11,
   "outputs": [],
   "source": [
    "list_avgtime_per_key =[]\n",
    "list_sumtime_row = []\n",
    "for key in count_dic.keys():\n",
    "    id_list = count_dic[key]\n",
    "    list_sumtime_person = 0\n",
    "    for id in id_list:\n",
    "        df = df3_WS4T[df3_WS4T['CASE_ID']== id]\n",
    "        tsum = df['time_used_second'].sum()\n",
    "        list_sumtime_person+=tsum\n",
    "    list_avgtime_per_key.append(int((list_sumtime_person/len(count_dic[key]))))\n",
    "    list_sumtime_row.append(list_sumtime_person)\n",
    "list_avgtime_per_key_str = []\n",
    "for i in list_avgtime_per_key:\n",
    "    list_avgtime_per_key_str.append(strfdelta(i,\"{days} days {hours} hours {minutes} minutes {seconds} seconds\"))"
   ],
   "metadata": {
    "collapsed": false,
    "pycharm": {
     "name": "#%%\n"
    }
   }
  },
  {
   "cell_type": "code",
   "execution_count": 12,
   "outputs": [],
   "source": [
    "list_mediantime_per_key = []\n",
    "for key in count_dic.keys():\n",
    "    id_list = count_dic[key]\n",
    "    list_sumtime_per_person = []\n",
    "    for id in id_list:\n",
    "        df = df3_WS4T[df3_WS4T['CASE_ID']== id]\n",
    "        tsum = df['time_used_second'].sum()\n",
    "        list_sumtime_per_person.append(tsum)\n",
    "    list_mediantime_per_key.append(numpy.median(list_sumtime_per_person))\n",
    "\n",
    "list_mediantime_per_key_str = []\n",
    "for i in list_mediantime_per_key:\n",
    "    list_mediantime_per_key_str.append(strfdelta(i,\"{days} days {hours} hours {minutes} minutes {seconds} seconds\"))"
   ],
   "metadata": {
    "collapsed": false,
    "pycharm": {
     "name": "#%%\n"
    }
   }
  },
  {
   "cell_type": "code",
   "execution_count": 13,
   "outputs": [],
   "source": [
    "list_percent_reach_end = []\n",
    "for key in count_dic.keys():\n",
    "    id_list = count_dic[key]\n",
    "    count_df_end_step = 0\n",
    "    count_df_id = 0\n",
    "    for id in id_list:\n",
    "        df_id = df3_WS4T[df3_WS4T['CASE_ID']== id]\n",
    "        df_end_step = df_id[df_id['WRKFLW_TSK_MAP_GROUPED'].isin(['Accept','Defer'])]\n",
    "        count_df_id += df_id['CASE_ID'].nunique()\n",
    "        count_df_end_step += df_end_step['CASE_ID'].nunique()\n",
    "    list_percent_reach_end.append(str(round((count_df_end_step/count_df_id)*100,2))+ \"%\")\n"
   ],
   "metadata": {
    "collapsed": false,
    "pycharm": {
     "name": "#%%\n"
    }
   }
  },
  {
   "cell_type": "code",
   "execution_count": 14,
   "outputs": [],
   "source": [
    "list_step_per_key = []\n",
    "for key in count_dic.keys():\n",
    "    id_list = count_dic[key]\n",
    "    list_step = set()\n",
    "    for id in id_list:\n",
    "        df = df3_WS4T[df3_WS4T['CASE_ID']== id]\n",
    "        for index, row in df.iterrows():\n",
    "            list_step.add(row['WRKFLW_TSK_MAP_GROUPED'])\n",
    "    list_step_per_key.append(list_step)"
   ],
   "metadata": {
    "collapsed": false,
    "pycharm": {
     "name": "#%%\n"
    }
   }
  },
  {
   "cell_type": "code",
   "execution_count": 15,
   "outputs": [],
   "source": [
    "from collections import Counter\n",
    "import collections, functools, operator\n",
    "list_step_sum_time_per_key = []\n",
    "list_step_count_per_key = []\n",
    "list_step_ave_time_per_key = []\n",
    "for key in count_dic.keys():\n",
    "    id_list = count_dic[key]\n",
    "    list_step = []\n",
    "    step_time_list = []\n",
    "    for id in id_list:\n",
    "        df = df3_WS4T[df3_WS4T['CASE_ID']== id]\n",
    "        step_time = dict(zip(df.WRKFLW_TSK_MAP_DETAILED, df.time_used_second))\n",
    "        step_time_list.append(step_time)\n",
    "        for index, row in df.iterrows():\n",
    "            list_step.append(row['WRKFLW_TSK_MAP_DETAILED'])\n",
    "\n",
    "    step_sum_time = dict(functools.reduce(operator.add,\n",
    "         map(collections.Counter, step_time_list)))\n",
    "\n",
    "    dict_list_step=dict(Counter(list_step))\n",
    "\n",
    "    step_ave_time = {key: step_sum_time[key] // dict_list_step.get(key, 0)\n",
    "                        for key in step_sum_time.keys()}\n",
    "\n",
    "    sort_step_sum_time = sorted(step_sum_time.items(),key = lambda x: x[1], reverse = True)\n",
    "    list_step_sum_time_per_key.append(sort_step_sum_time)\n",
    "\n",
    "    sort_dict_list_step = sorted(dict_list_step.items(),key = lambda x: x[1], reverse = True)\n",
    "    list_step_count_per_key.append(sort_dict_list_step[:6])\n",
    "\n",
    "    sort_step_ave_time = sorted(step_ave_time.items(),key = lambda x: x[1], reverse = True)\n",
    "    list_step_ave_time_per_key.append(sort_step_ave_time)"
   ],
   "metadata": {
    "collapsed": false,
    "pycharm": {
     "name": "#%%\n"
    }
   }
  },
  {
   "cell_type": "code",
   "execution_count": 16,
   "outputs": [
    {
     "data": {
      "text/plain": "   Number of Workflow processes in this Workflow Segment  Number of cases  \\\n0                                                  1                   56   \n1                                                  2                  137   \n2                                                  3                   30   \n3                                                  4                   10   \n4                                                  5                    3   \n5                                                  6                    3   \n6                                                  7                    1   \n\n        average time for workflow segment  \\\n0      0 days 0 hours 0 minutes 0 seconds   \n1  27 days 15 hours 43 minutes 24 seconds   \n2  50 days 22 hours 19 minutes 44 seconds   \n3  55 days 21 hours 18 minutes 17 seconds   \n4  76 days 17 hours 26 minutes 35 seconds   \n5   94 days 7 hours 21 minutes 56 seconds   \n6   40 days 2 hours 45 minutes 12 seconds   \n\n                 median time for workflow segment  \\\n0      0.0 days 0.0 hours 0.0 minutes 0.0 seconds   \n1     9.0 days 6.0 hours 28.0 minutes 1.0 seconds   \n2    26.0 days 2.0 hours 59.0 minutes 7.5 seconds   \n3  28.0 days 13.0 hours 28.0 minutes 29.0 seconds   \n4    43.0 days 6.0 hours 55.0 minutes 6.0 seconds   \n5   59.0 days 2.0 hours 41.0 minutes 19.0 seconds   \n6   40.0 days 2.0 hours 45.0 minutes 12.0 seconds   \n\n  percentage of cases reaching to end of workflow segment  \\\n0                                               0.0%        \n1                                             81.02%        \n2                                             83.33%        \n3                                              70.0%        \n4                                             100.0%        \n5                                             33.33%        \n6                                             100.0%        \n\n             Num of Occurrences per step(descending)  \\\n0                              [(Release Offer, 56)]   \n1  [(Release Offer, 137), (Accept, 98), (Decline,...   \n2  [(Release Offer, 30), (Accept, 21), (Manage Ac...   \n3  [(Release Offer, 10), (Accept, 4), (OC - Creat...   \n4  [(Release Offer, 3), (Assessment Decision - Qu...   \n5  [(Release Offer, 3), (Assessment Decision - No...   \n6  [(Release Offer, 2), (OC - Satisfied - English...   \n\n            Average time spends per step(descending)  \\\n0                                                 []   \n1                       [(Release Offer, 2389404.0)]   \n2  [(OC - Satisfied - Evidence of course completi...   \n3  [(Put Assessment On-Hold, 18748931.0), (AR - C...   \n4  [(AR - Satisfied - Academic results for prior ...   \n5  [(OC - Created - Evidence of course completion...   \n6  [(AR - Satisfied - Academic results for prior ...   \n\n   average time for workflow segment(seconds)  \\\n0                                           0   \n1                                     2389404   \n2                                     4400384   \n3                                     4828697   \n4                                     6629195   \n5                                     8148116   \n6                                     3465912   \n\n   sum time for workflow segment(seconds)  \n0                                     0.0  \n1                             327348427.0  \n2                             132011541.0  \n3                              48286973.0  \n4                              19887586.0  \n5                              24444349.0  \n6                               3465912.0  ",
      "text/html": "<div>\n<style scoped>\n    .dataframe tbody tr th:only-of-type {\n        vertical-align: middle;\n    }\n\n    .dataframe tbody tr th {\n        vertical-align: top;\n    }\n\n    .dataframe thead th {\n        text-align: right;\n    }\n</style>\n<table border=\"1\" class=\"dataframe\">\n  <thead>\n    <tr style=\"text-align: right;\">\n      <th></th>\n      <th>Number of Workflow processes in this Workflow Segment</th>\n      <th>Number of cases</th>\n      <th>average time for workflow segment</th>\n      <th>median time for workflow segment</th>\n      <th>percentage of cases reaching to end of workflow segment</th>\n      <th>Num of Occurrences per step(descending)</th>\n      <th>Average time spends per step(descending)</th>\n      <th>average time for workflow segment(seconds)</th>\n      <th>sum time for workflow segment(seconds)</th>\n    </tr>\n  </thead>\n  <tbody>\n    <tr>\n      <th>0</th>\n      <td>1</td>\n      <td>56</td>\n      <td>0 days 0 hours 0 minutes 0 seconds</td>\n      <td>0.0 days 0.0 hours 0.0 minutes 0.0 seconds</td>\n      <td>0.0%</td>\n      <td>[(Release Offer, 56)]</td>\n      <td>[]</td>\n      <td>0</td>\n      <td>0.0</td>\n    </tr>\n    <tr>\n      <th>1</th>\n      <td>2</td>\n      <td>137</td>\n      <td>27 days 15 hours 43 minutes 24 seconds</td>\n      <td>9.0 days 6.0 hours 28.0 minutes 1.0 seconds</td>\n      <td>81.02%</td>\n      <td>[(Release Offer, 137), (Accept, 98), (Decline,...</td>\n      <td>[(Release Offer, 2389404.0)]</td>\n      <td>2389404</td>\n      <td>327348427.0</td>\n    </tr>\n    <tr>\n      <th>2</th>\n      <td>3</td>\n      <td>30</td>\n      <td>50 days 22 hours 19 minutes 44 seconds</td>\n      <td>26.0 days 2.0 hours 59.0 minutes 7.5 seconds</td>\n      <td>83.33%</td>\n      <td>[(Release Offer, 30), (Accept, 21), (Manage Ac...</td>\n      <td>[(OC - Satisfied - Evidence of course completi...</td>\n      <td>4400384</td>\n      <td>132011541.0</td>\n    </tr>\n    <tr>\n      <th>3</th>\n      <td>4</td>\n      <td>10</td>\n      <td>55 days 21 hours 18 minutes 17 seconds</td>\n      <td>28.0 days 13.0 hours 28.0 minutes 29.0 seconds</td>\n      <td>70.0%</td>\n      <td>[(Release Offer, 10), (Accept, 4), (OC - Creat...</td>\n      <td>[(Put Assessment On-Hold, 18748931.0), (AR - C...</td>\n      <td>4828697</td>\n      <td>48286973.0</td>\n    </tr>\n    <tr>\n      <th>4</th>\n      <td>5</td>\n      <td>3</td>\n      <td>76 days 17 hours 26 minutes 35 seconds</td>\n      <td>43.0 days 6.0 hours 55.0 minutes 6.0 seconds</td>\n      <td>100.0%</td>\n      <td>[(Release Offer, 3), (Assessment Decision - Qu...</td>\n      <td>[(AR - Satisfied - Academic results for prior ...</td>\n      <td>6629195</td>\n      <td>19887586.0</td>\n    </tr>\n    <tr>\n      <th>5</th>\n      <td>6</td>\n      <td>3</td>\n      <td>94 days 7 hours 21 minutes 56 seconds</td>\n      <td>59.0 days 2.0 hours 41.0 minutes 19.0 seconds</td>\n      <td>33.33%</td>\n      <td>[(Release Offer, 3), (Assessment Decision - No...</td>\n      <td>[(OC - Created - Evidence of course completion...</td>\n      <td>8148116</td>\n      <td>24444349.0</td>\n    </tr>\n    <tr>\n      <th>6</th>\n      <td>7</td>\n      <td>1</td>\n      <td>40 days 2 hours 45 minutes 12 seconds</td>\n      <td>40.0 days 2.0 hours 45.0 minutes 12.0 seconds</td>\n      <td>100.0%</td>\n      <td>[(Release Offer, 2), (OC - Satisfied - English...</td>\n      <td>[(AR - Satisfied - Academic results for prior ...</td>\n      <td>3465912</td>\n      <td>3465912.0</td>\n    </tr>\n  </tbody>\n</table>\n</div>"
     },
     "execution_count": 16,
     "metadata": {},
     "output_type": "execute_result"
    }
   ],
   "source": [
    "s3_t4=pd.DataFrame({'Number of Workflow processes in this Workflow Segment':count_dic.keys(),'Number of cases':len_list, 'average time for workflow segment':list_avgtime_per_key_str,'median time for workflow segment':list_mediantime_per_key_str,'percentage of cases reaching to end of workflow segment':list_percent_reach_end})\n",
    "s3_t4['Num of Occurrences per step(descending)'] = list_step_count_per_key\n",
    "s3_t4['Average time spends per step(descending)'] = list_step_ave_time_per_key\n",
    "s3_t4['average time for workflow segment(seconds)'] = list_avgtime_per_key\n",
    "s3_t4['sum time for workflow segment(seconds)'] = list_sumtime_row\n",
    "s3_t4.head(n=10)\n"
   ],
   "metadata": {
    "collapsed": false,
    "pycharm": {
     "name": "#%%\n"
    }
   }
  },
  {
   "cell_type": "code",
   "execution_count": 17,
   "outputs": [],
   "source": [
    "s3_t4.to_csv('engineering_AF_segment3_workflowS4_table.csv', index=False)\n",
    "\n",
    "\n"
   ],
   "metadata": {
    "collapsed": false,
    "pycharm": {
     "name": "#%%\n"
    }
   }
  }
 ],
 "metadata": {
  "kernelspec": {
   "name": "pycharm-3f427a6c",
   "language": "python",
   "display_name": "PyCharm (pythonProject)"
  },
  "language_info": {
   "codemirror_mode": {
    "name": "ipython",
    "version": 2
   },
   "file_extension": ".py",
   "mimetype": "text/x-python",
   "name": "python",
   "nbconvert_exporter": "python",
   "pygments_lexer": "ipython2",
   "version": "2.7.6"
  }
 },
 "nbformat": 4,
 "nbformat_minor": 0
}