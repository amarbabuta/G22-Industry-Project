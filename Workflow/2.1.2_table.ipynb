{
 "cells": [
  {
   "cell_type": "code",
   "execution_count": 1,
   "metadata": {
    "collapsed": true
   },
   "outputs": [],
   "source": [
    "import pandas as pd\n",
    "import numpy\n",
    "from __future__ import division"
   ]
  },
  {
   "cell_type": "code",
   "execution_count": 2,
   "outputs": [],
   "source": [
    "df1_WS2T = pd.read_csv(\"/Users/asteriag/Desktop/DATASCIENCEPROJECT_WORKFLOW/pythonProject/segment1_WS2_has_duration.csv\")"
   ],
   "metadata": {
    "collapsed": false,
    "pycharm": {
     "name": "#%%\n"
    }
   }
  },
  {
   "cell_type": "code",
   "execution_count": 3,
   "outputs": [
    {
     "data": {
      "text/plain": "                 CASE_ID WRKFLW_TSK_MAP_GROUPED WRKFLW_TSK_MAP_DETAILED  \\\n0  1172679|570743|869833    Send for Assessment     Send for Assessment   \n\n      PATH_CRDATETIME ITEM_CRUSER WRKFLW_ORG_TYPE_CRUSER  STATUS_ORDER  \\\n0  24/1/2020 15:09:59     1172679                    NaN             1   \n\n  LATEST_STATUS        WRKFLW_PROCESS                        QUERY_PART  ...  \\\n0             Y  1. App to Assessment  Part 1 - Application ID Workflow  ...   \n\n  SPK_CAT_TYPE_CD  BROAD_COURSE_LEVEL   DEGREETYPE  \\\n0             MCW                HDCW  Full Degree   \n\n   LIABILITY_CATEGORY_CD_RECODE  ORIG_LIABILITY_CATEGORY_CD_RECODE  \\\n0                            OF                                 OF   \n\n  OFFER_RELEASED_FG OFFER_OUTCOME_CD OFFER_CONDITIONS time_used_str  \\\n0               NaN              NaN                Y           NaN   \n\n   time_used_second  \n0               0.0  \n\n[1 rows x 58 columns]",
      "text/html": "<div>\n<style scoped>\n    .dataframe tbody tr th:only-of-type {\n        vertical-align: middle;\n    }\n\n    .dataframe tbody tr th {\n        vertical-align: top;\n    }\n\n    .dataframe thead th {\n        text-align: right;\n    }\n</style>\n<table border=\"1\" class=\"dataframe\">\n  <thead>\n    <tr style=\"text-align: right;\">\n      <th></th>\n      <th>CASE_ID</th>\n      <th>WRKFLW_TSK_MAP_GROUPED</th>\n      <th>WRKFLW_TSK_MAP_DETAILED</th>\n      <th>PATH_CRDATETIME</th>\n      <th>ITEM_CRUSER</th>\n      <th>WRKFLW_ORG_TYPE_CRUSER</th>\n      <th>STATUS_ORDER</th>\n      <th>LATEST_STATUS</th>\n      <th>WRKFLW_PROCESS</th>\n      <th>QUERY_PART</th>\n      <th>...</th>\n      <th>SPK_CAT_TYPE_CD</th>\n      <th>BROAD_COURSE_LEVEL</th>\n      <th>DEGREETYPE</th>\n      <th>LIABILITY_CATEGORY_CD_RECODE</th>\n      <th>ORIG_LIABILITY_CATEGORY_CD_RECODE</th>\n      <th>OFFER_RELEASED_FG</th>\n      <th>OFFER_OUTCOME_CD</th>\n      <th>OFFER_CONDITIONS</th>\n      <th>time_used_str</th>\n      <th>time_used_second</th>\n    </tr>\n  </thead>\n  <tbody>\n    <tr>\n      <th>0</th>\n      <td>1172679|570743|869833</td>\n      <td>Send for Assessment</td>\n      <td>Send for Assessment</td>\n      <td>24/1/2020 15:09:59</td>\n      <td>1172679</td>\n      <td>NaN</td>\n      <td>1</td>\n      <td>Y</td>\n      <td>1. App to Assessment</td>\n      <td>Part 1 - Application ID Workflow</td>\n      <td>...</td>\n      <td>MCW</td>\n      <td>HDCW</td>\n      <td>Full Degree</td>\n      <td>OF</td>\n      <td>OF</td>\n      <td>NaN</td>\n      <td>NaN</td>\n      <td>Y</td>\n      <td>NaN</td>\n      <td>0.0</td>\n    </tr>\n  </tbody>\n</table>\n<p>1 rows × 58 columns</p>\n</div>"
     },
     "execution_count": 3,
     "metadata": {},
     "output_type": "execute_result"
    }
   ],
   "source": [
    "df1_WS2T.head(n=1)"
   ],
   "metadata": {
    "collapsed": false,
    "pycharm": {
     "name": "#%%\n"
    }
   }
  },
  {
   "cell_type": "code",
   "execution_count": 4,
   "outputs": [],
   "source": [
    "numOfWorkflowProcesses = df1_WS2T.groupby('CASE_ID').CASE_ID.count()\n",
    "\n",
    "count_dic=dict()\n",
    "for i,v in numOfWorkflowProcesses.items():\n",
    "    if count_dic.get(v) is None:\n",
    "        count_dic[v]=[]\n",
    "        count_dic[v].append(i)\n",
    "    else:\n",
    "        count_dic[v].append(i)\n",
    "#count_dic\n"
   ],
   "metadata": {
    "collapsed": false,
    "pycharm": {
     "name": "#%%\n"
    }
   }
  },
  {
   "cell_type": "code",
   "execution_count": 5,
   "outputs": [],
   "source": [
    "len_list=[]\n",
    "for key in count_dic.keys():\n",
    "    len_list.append(len(count_dic[key]))"
   ],
   "metadata": {
    "collapsed": false,
    "pycharm": {
     "name": "#%%\n"
    }
   }
  },
  {
   "cell_type": "code",
   "execution_count": 6,
   "outputs": [],
   "source": [
    "def strfdelta(tdelta, fmt):\n",
    "    d=dict()\n",
    "    d[\"days\"],rem1 = divmod(tdelta,60*60*24)\n",
    "    d[\"hours\"], rem2 = divmod(rem1, 3600)\n",
    "    d[\"minutes\"], d[\"seconds\"] = divmod(rem2, 60)\n",
    "    return fmt.format(**d)"
   ],
   "metadata": {
    "collapsed": false,
    "pycharm": {
     "name": "#%%\n"
    }
   }
  },
  {
   "cell_type": "code",
   "execution_count": 7,
   "outputs": [],
   "source": [
    "list_avgtime_per_key =[]\n",
    "for key in count_dic.keys():\n",
    "    id_list = count_dic[key]\n",
    "    list_sumtime_person = 0\n",
    "    for id in id_list:\n",
    "        df = df1_WS2T[df1_WS2T['CASE_ID']== id]\n",
    "        tsum = df['time_used_second'].sum()\n",
    "        list_sumtime_person+=tsum\n",
    "    list_avgtime_per_key.append(int((list_sumtime_person/len(count_dic[key]))))\n",
    "\n",
    "list_avgtime_per_key_str = []\n",
    "for i in list_avgtime_per_key:\n",
    "    list_avgtime_per_key_str.append(strfdelta(i,\"{days} days {hours} hours {minutes} minutes {seconds} seconds\"))"
   ],
   "metadata": {
    "collapsed": false,
    "pycharm": {
     "name": "#%%\n"
    }
   }
  },
  {
   "cell_type": "code",
   "execution_count": 8,
   "outputs": [],
   "source": [
    "list_mediantime_per_key = []\n",
    "for key in count_dic.keys():\n",
    "    id_list = count_dic[key]\n",
    "    list_sumtime_per_person = []\n",
    "    for id in id_list:\n",
    "        df = df1_WS2T[df1_WS2T['CASE_ID']== id]\n",
    "        tsum = df['time_used_second'].sum()\n",
    "        list_sumtime_per_person.append(tsum)\n",
    "    list_mediantime_per_key.append(numpy.median(list_sumtime_per_person))\n",
    "\n",
    "list_mediantime_per_key_str = []\n",
    "for i in list_mediantime_per_key:\n",
    "    list_mediantime_per_key_str.append(strfdelta(i,\"{days} days {hours} hours {minutes} minutes {seconds} seconds\"))"
   ],
   "metadata": {
    "collapsed": false,
    "pycharm": {
     "name": "#%%\n"
    }
   }
  },
  {
   "cell_type": "code",
   "execution_count": 9,
   "outputs": [],
   "source": [
    "list_percent_reach_end = []\n",
    "for key in count_dic.keys():\n",
    "    id_list = count_dic[key]\n",
    "    count_df_end_step = 0\n",
    "    count_df_id = 0\n",
    "    for id in id_list:\n",
    "        df_id = df1_WS2T[df1_WS2T['CASE_ID']== id]\n",
    "        df_end_step = df_id[df_id['WRKFLW_TSK_MAP_GROUPED'].isin(['Assessment Outcome - Successful','Assessment Outcome - Not Successful']) ]\n",
    "        count_df_id += df_id['CASE_ID'].count()\n",
    "        count_df_end_step += df_end_step['CASE_ID'].count()\n",
    "    list_percent_reach_end.append(str(round((count_df_end_step/count_df_id)*100,2))+ \"%\")"
   ],
   "metadata": {
    "collapsed": false,
    "pycharm": {
     "name": "#%%\n"
    }
   }
  },
  {
   "cell_type": "code",
   "execution_count": 10,
   "outputs": [],
   "source": [
    "list_step_per_key = []\n",
    "for key in count_dic.keys():\n",
    "    id_list = count_dic[key]\n",
    "    list_step = set()\n",
    "    for id in id_list:\n",
    "        df = df1_WS2T[df1_WS2T['CASE_ID']== id]\n",
    "        for index, row in df.iterrows():\n",
    "            list_step.add(row['WRKFLW_TSK_MAP_GROUPED'])\n",
    "    list_step_per_key.append(list_step)"
   ],
   "metadata": {
    "collapsed": false,
    "pycharm": {
     "name": "#%%\n"
    }
   }
  },
  {
   "cell_type": "code",
   "execution_count": 11,
   "outputs": [
    {
     "data": {
      "text/plain": "   Number of Workflow processes in this Workflow Segment  Number of cases  \\\n0                                                  1                  835   \n1                                                  2                  861   \n2                                                  3                 2852   \n3                                                  4                 2205   \n4                                                  5                 1595   \n5                                                  6                  790   \n6                                                  7                  443   \n7                                                  8                  240   \n8                                                  9                  161   \n9                                                 10                  127   \n\n        average time for workflow segment  \\\n0      0 days 0 hours 0 minutes 0 seconds   \n1  26 days 21 hours 51 minutes 27 seconds   \n2  30 days 12 hours 57 minutes 59 seconds   \n3   39 days 20 hours 51 minutes 7 seconds   \n4  45 days 18 hours 11 minutes 27 seconds   \n5  52 days 18 hours 20 minutes 54 seconds   \n6   66 days 17 hours 1 minutes 56 seconds   \n7   63 days 2 hours 21 minutes 41 seconds   \n8    59 days 4 hours 29 minutes 9 seconds   \n9  84 days 18 hours 22 minutes 14 seconds   \n\n                 median time for workflow segment  \\\n0      0.0 days 0.0 hours 0.0 minutes 0.0 seconds   \n1  15.0 days 18.0 hours 14.0 minutes 28.0 seconds   \n2   18.0 days 20.0 hours 40.0 minutes 0.0 seconds   \n3  27.0 days 14.0 hours 54.0 minutes 30.0 seconds   \n4   30.0 days 0.0 hours 12.0 minutes 29.0 seconds   \n5    36.0 days 21.0 hours 8.0 minutes 1.0 seconds   \n6  44.0 days 19.0 hours 51.0 minutes 54.0 seconds   \n7    41.0 days 4.0 hours 16.0 minutes 3.0 seconds   \n8  41.0 days 23.0 hours 43.0 minutes 14.0 seconds   \n9  47.0 days 22.0 hours 27.0 minutes 26.0 seconds   \n\n  percentage of cases reaching to end of workflow segment  \\\n0                                               0.0%        \n1                                              31.3%        \n2                                             30.39%        \n3                                             23.05%        \n4                                             18.26%        \n5                                             15.04%        \n6                                             11.58%        \n7                                             10.89%        \n8                                              9.73%        \n9                                              8.66%        \n\n                                                step  \n0                              {Send for Assessment}  \n1  {OC - Reviewed - Other, Assessment Outcome - H...  \n2  {OC - Reviewed - Other, Assessment Outcome - H...  \n3  {OC - Reviewed - Other, Assessment Outcome - H...  \n4  {OC - Reviewed - Other, Assessment Outcome - H...  \n5  {OC - Reviewed - Other, Assessment Outcome - H...  \n6  {OC - Reviewed - Other, Assessment Outcome - H...  \n7  {OC - Reviewed - Other, Assessment Outcome - H...  \n8  {OC - Reviewed - Other, Assessment Outcome - H...  \n9  {OC - Reviewed - Other, Assessment Outcome - H...  ",
      "text/html": "<div>\n<style scoped>\n    .dataframe tbody tr th:only-of-type {\n        vertical-align: middle;\n    }\n\n    .dataframe tbody tr th {\n        vertical-align: top;\n    }\n\n    .dataframe thead th {\n        text-align: right;\n    }\n</style>\n<table border=\"1\" class=\"dataframe\">\n  <thead>\n    <tr style=\"text-align: right;\">\n      <th></th>\n      <th>Number of Workflow processes in this Workflow Segment</th>\n      <th>Number of cases</th>\n      <th>average time for workflow segment</th>\n      <th>median time for workflow segment</th>\n      <th>percentage of cases reaching to end of workflow segment</th>\n      <th>step</th>\n    </tr>\n  </thead>\n  <tbody>\n    <tr>\n      <th>0</th>\n      <td>1</td>\n      <td>835</td>\n      <td>0 days 0 hours 0 minutes 0 seconds</td>\n      <td>0.0 days 0.0 hours 0.0 minutes 0.0 seconds</td>\n      <td>0.0%</td>\n      <td>{Send for Assessment}</td>\n    </tr>\n    <tr>\n      <th>1</th>\n      <td>2</td>\n      <td>861</td>\n      <td>26 days 21 hours 51 minutes 27 seconds</td>\n      <td>15.0 days 18.0 hours 14.0 minutes 28.0 seconds</td>\n      <td>31.3%</td>\n      <td>{OC - Reviewed - Other, Assessment Outcome - H...</td>\n    </tr>\n    <tr>\n      <th>2</th>\n      <td>3</td>\n      <td>2852</td>\n      <td>30 days 12 hours 57 minutes 59 seconds</td>\n      <td>18.0 days 20.0 hours 40.0 minutes 0.0 seconds</td>\n      <td>30.39%</td>\n      <td>{OC - Reviewed - Other, Assessment Outcome - H...</td>\n    </tr>\n    <tr>\n      <th>3</th>\n      <td>4</td>\n      <td>2205</td>\n      <td>39 days 20 hours 51 minutes 7 seconds</td>\n      <td>27.0 days 14.0 hours 54.0 minutes 30.0 seconds</td>\n      <td>23.05%</td>\n      <td>{OC - Reviewed - Other, Assessment Outcome - H...</td>\n    </tr>\n    <tr>\n      <th>4</th>\n      <td>5</td>\n      <td>1595</td>\n      <td>45 days 18 hours 11 minutes 27 seconds</td>\n      <td>30.0 days 0.0 hours 12.0 minutes 29.0 seconds</td>\n      <td>18.26%</td>\n      <td>{OC - Reviewed - Other, Assessment Outcome - H...</td>\n    </tr>\n    <tr>\n      <th>5</th>\n      <td>6</td>\n      <td>790</td>\n      <td>52 days 18 hours 20 minutes 54 seconds</td>\n      <td>36.0 days 21.0 hours 8.0 minutes 1.0 seconds</td>\n      <td>15.04%</td>\n      <td>{OC - Reviewed - Other, Assessment Outcome - H...</td>\n    </tr>\n    <tr>\n      <th>6</th>\n      <td>7</td>\n      <td>443</td>\n      <td>66 days 17 hours 1 minutes 56 seconds</td>\n      <td>44.0 days 19.0 hours 51.0 minutes 54.0 seconds</td>\n      <td>11.58%</td>\n      <td>{OC - Reviewed - Other, Assessment Outcome - H...</td>\n    </tr>\n    <tr>\n      <th>7</th>\n      <td>8</td>\n      <td>240</td>\n      <td>63 days 2 hours 21 minutes 41 seconds</td>\n      <td>41.0 days 4.0 hours 16.0 minutes 3.0 seconds</td>\n      <td>10.89%</td>\n      <td>{OC - Reviewed - Other, Assessment Outcome - H...</td>\n    </tr>\n    <tr>\n      <th>8</th>\n      <td>9</td>\n      <td>161</td>\n      <td>59 days 4 hours 29 minutes 9 seconds</td>\n      <td>41.0 days 23.0 hours 43.0 minutes 14.0 seconds</td>\n      <td>9.73%</td>\n      <td>{OC - Reviewed - Other, Assessment Outcome - H...</td>\n    </tr>\n    <tr>\n      <th>9</th>\n      <td>10</td>\n      <td>127</td>\n      <td>84 days 18 hours 22 minutes 14 seconds</td>\n      <td>47.0 days 22.0 hours 27.0 minutes 26.0 seconds</td>\n      <td>8.66%</td>\n      <td>{OC - Reviewed - Other, Assessment Outcome - H...</td>\n    </tr>\n  </tbody>\n</table>\n</div>"
     },
     "execution_count": 11,
     "metadata": {},
     "output_type": "execute_result"
    }
   ],
   "source": [
    "s1_t2=pd.DataFrame({'Number of Workflow processes in this Workflow Segment':count_dic.keys(),'Number of cases':len_list, 'average time for workflow segment':list_avgtime_per_key_str,'median time for workflow segment':list_mediantime_per_key_str,'percentage of cases reaching to end of workflow segment':list_percent_reach_end,'step':list_step_per_key})\n",
    "s1_t2.head(n=10)\n"
   ],
   "metadata": {
    "collapsed": false,
    "pycharm": {
     "name": "#%%\n"
    }
   }
  },
  {
   "cell_type": "code",
   "execution_count": 12,
   "outputs": [],
   "source": [
    "s1_t2.to_csv('segment1_WS2_table.csv', index=False)\n",
    "\n",
    "\n",
    "\n",
    "\n",
    "\n",
    "\n",
    "\n",
    "\n",
    "\n"
   ],
   "metadata": {
    "collapsed": false,
    "pycharm": {
     "name": "#%%\n"
    }
   }
  }
 ],
 "metadata": {
  "kernelspec": {
   "name": "pycharm-78f37aff",
   "language": "python",
   "display_name": "PyCharm (pythonProject)"
  },
  "language_info": {
   "codemirror_mode": {
    "name": "ipython",
    "version": 2
   },
   "file_extension": ".py",
   "mimetype": "text/x-python",
   "name": "python",
   "nbconvert_exporter": "python",
   "pygments_lexer": "ipython2",
   "version": "2.7.6"
  }
 },
 "nbformat": 4,
 "nbformat_minor": 0
}