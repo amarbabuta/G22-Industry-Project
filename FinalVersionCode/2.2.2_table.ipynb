{
 "cells": [
  {
   "cell_type": "code",
   "execution_count": 1,
   "metadata": {
    "collapsed": true
   },
   "outputs": [],
   "source": [
    "import pandas as pd\n",
    "import numpy\n",
    "from __future__ import division"
   ]
  },
  {
   "cell_type": "code",
   "execution_count": 2,
   "outputs": [],
   "source": [
    "df2_WS2T = pd.read_csv(\"/Users/asteriag/Desktop/DATASCIENCEPROJECT_WORKFLOW/TimeStamp_Engineering/engineering_AS_segment2_workflowS2_has_duration.csv\",engine='python')"
   ],
   "metadata": {
    "collapsed": false,
    "pycharm": {
     "name": "#%%\n"
    }
   }
  },
  {
   "cell_type": "code",
   "execution_count": 3,
   "outputs": [
    {
     "data": {
      "text/plain": "                CASE_ID WRKFLW_TSK_MAP_GROUPED WRKFLW_TSK_MAP_DETAILED  \\\n0  722111|418134|648088    Send for Assessment     Send for Assessment   \n\n       PATH_CRDATETIME                          time_used_str  \\\n0  26/11/2018 16:59:07  4 days 17 hours 40 minutes 41 seconds   \n\n   time_used_second  \n0          409241.0  ",
      "text/html": "<div>\n<style scoped>\n    .dataframe tbody tr th:only-of-type {\n        vertical-align: middle;\n    }\n\n    .dataframe tbody tr th {\n        vertical-align: top;\n    }\n\n    .dataframe thead th {\n        text-align: right;\n    }\n</style>\n<table border=\"1\" class=\"dataframe\">\n  <thead>\n    <tr style=\"text-align: right;\">\n      <th></th>\n      <th>CASE_ID</th>\n      <th>WRKFLW_TSK_MAP_GROUPED</th>\n      <th>WRKFLW_TSK_MAP_DETAILED</th>\n      <th>PATH_CRDATETIME</th>\n      <th>time_used_str</th>\n      <th>time_used_second</th>\n    </tr>\n  </thead>\n  <tbody>\n    <tr>\n      <th>0</th>\n      <td>722111|418134|648088</td>\n      <td>Send for Assessment</td>\n      <td>Send for Assessment</td>\n      <td>26/11/2018 16:59:07</td>\n      <td>4 days 17 hours 40 minutes 41 seconds</td>\n      <td>409241.0</td>\n    </tr>\n  </tbody>\n</table>\n</div>"
     },
     "execution_count": 3,
     "metadata": {},
     "output_type": "execute_result"
    }
   ],
   "source": [
    "df2_WS2T.head(n=1)"
   ],
   "metadata": {
    "collapsed": false,
    "pycharm": {
     "name": "#%%\n"
    }
   }
  },
  {
   "cell_type": "code",
   "execution_count": 4,
   "outputs": [
    {
     "data": {
      "text/plain": "53"
     },
     "execution_count": 4,
     "metadata": {},
     "output_type": "execute_result"
    }
   ],
   "source": [
    "df2_WS2T['WRKFLW_TSK_MAP_GROUPED'].nunique()"
   ],
   "metadata": {
    "collapsed": false,
    "pycharm": {
     "name": "#%%\n"
    }
   }
  },
  {
   "cell_type": "code",
   "execution_count": 5,
   "outputs": [
    {
     "data": {
      "text/plain": "80"
     },
     "execution_count": 5,
     "metadata": {},
     "output_type": "execute_result"
    }
   ],
   "source": [
    "df2_WS2T['WRKFLW_TSK_MAP_DETAILED'].nunique()"
   ],
   "metadata": {
    "collapsed": false,
    "pycharm": {
     "name": "#%%\n"
    }
   }
  },
  {
   "cell_type": "code",
   "execution_count": 6,
   "outputs": [
    {
     "name": "stdout",
     "output_type": "stream",
     "text": [
      "[('Send for Assessment', 1901), ('Assessment Decision - Qualified', 1731), ('Assessment Outcome - Successful', 1111), ('Assessment Decision - No Decision', 503), ('Assessment Outcome - Not Successful', 302), ('Acacdemic - Assessment Decision - Qualified', 283), ('OC - Created - Evidence of course completion', 258), ('End My Assessment', 256), ('Assessment Decision - Not Qualified', 246), ('Put Assessment On-Hold', 235), ('Release Assessment Hold', 199), ('Assessment Outcome - Higher Preference Successful', 169), ('Acacdemic - Assessment Decision - Not Qualified', 115), ('AR - Satisfied - Academic results for prior tertiary studies', 93), ('Back to Triage', 83), ('AR - Created - Assessment information (Coursework) (1)', 52), ('Put Triage On-Hold', 49), ('AR - Created - University of Melbourne Statement of Results / transcript', 40), ('Release Triage Hold', 40), ('AR - Satisfied - University of Melbourne Statement of Results / transcript', 39), ('Acacdemic - Assessment Decision - No Decision', 38), ('AR - Satisfied - English language proficiency', 33), ('AR - Satisfied - Credit for previous study', 28), ('AR - Created - Further information (1)', 27), ('OC - Created - English language requirements', 27), ('AR - Satisfied - Further information (1)', 25), ('Assessment Outcome - Ineligible / Withdrawn', 25), ('OC - Satisfied - Evidence of course completion', 20), ('AR - Satisfied - Assessment information (Coursework) (1)', 19), ('AR - Satisfied - Current enrolment at the University of Melbourne', 19), ('AR - Satisfied - Official syllabus or subject descriptions (in English)', 19), ('OC - Satisfied - English language requirements', 15), ('AR - Satisfied - Graduate Access Melbourne', 13), ('AR - Not Satisfied - English language proficiency', 12), ('AR - Satisfied - Entry points (Master of Information Technology)', 12), ('AR - Satisfied - Transcript � My eQuals', 12), ('AR - Satisfied - Specialisation (Master of Information Technology)', 10), ('Assessment Decision - System Assessed', 9), ('AR - Requested - Further information (1)', 8), ('AR - Satisfied - Advanced Standing', 8), ('AR - Created - Further information (2)', 6), ('AR - Satisfied - Entry points (Master of Information Systems)', 5), ('AR - Satisfied - Further information (2)', 5), ('AR - Satisfied - Specialisation (Master of Information Systems)', 5), ('AR - Satisfied - Further information - Official Transcripts', 4), ('OC - Reviewed - English language requirements', 3), ('AR - Created - Full application for Coursework program (1)', 2), ('AR - Created - Further information (3)', 2), ('AR - Created - Further information � Preference order required as submitted multiple 1st prefer applications', 2), ('AR - Created - Grading scale', 2), ('AR - Created - Graduate Access Melbourne application form', 2), ('AR - Created - Specialisation (Master of Engineering)', 2), ('AR - Requested - Academic results for prior tertiary studies', 2), ('AR - Requested - Further information (2)', 2), ('AR - Reviewed - Current enrolment at the University of Melbourne', 2), ('AR - Satisfied - Full application for Coursework program (1)', 2), ('AR - Satisfied - Grading scale', 2), ('Assessment Decision - Not Assessed', 2), ('OC - Created - CHESICC transcript authentication for international students', 2), ('OC - Requested - Evidence of course completion', 2), ('WITHDRAW & LOCK', 2), ('AR - Created - Assessment information (Coursework) (2)', 1), ('AR - Created - Further information - Official Transcripts', 1), ('AR - Created - Further information Pearsons Test of English', 1), ('AR - Created - Payment of international application fee', 1), ('AR - Created - Personal statement (500 words)', 1), ('AR - Requested - Further information Pearsons Test of English', 1), ('AR - Requested - Official syllabus or subject descriptions (in English)', 1), ('AR - Requested - Payment of international application fee', 1), ('AR - Reviewed - Credit for previous study', 1), ('AR - Reviewed - Official syllabus or subject descriptions (in English)', 1), ('AR - Satisfied - Academic transcript Grading Scheme', 1), ('AR - Satisfied - Assessment information (Coursework) (2)', 1), ('AR - Satisfied - Further information (3)', 1), ('AR - Satisfied - Further information � Preference order required as submitted multiple 1st prefer applications', 1), ('AR - Satisfied - Graduate Access Melbourne application form', 1), ('AR - Satisfied - Specialisation (Master of Engineering)', 1), ('Acacdemic - Assessment Decision - System Assessed', 1), ('Acacdemic - Assessment Outcome - No Outcome Set', 1), ('Acacdemic - Assessment Outcome - Not Successful', 1)]\n"
     ]
    }
   ],
   "source": [
    "wd_count = df2_WS2T.groupby('WRKFLW_TSK_MAP_DETAILED').WRKFLW_TSK_MAP_DETAILED.count()\n",
    "wd_dict = dict()\n",
    "for i, v in wd_count.items():\n",
    "    wd_dict[i] = v\n",
    "sorted_wd_dict = sorted(wd_dict.items(), key = lambda x: x[1], reverse = True)\n",
    "print(sorted_wd_dict)"
   ],
   "metadata": {
    "collapsed": false,
    "pycharm": {
     "name": "#%%\n"
    }
   }
  },
  {
   "cell_type": "code",
   "execution_count": 7,
   "outputs": [
    {
     "name": "stdout",
     "output_type": "stream",
     "text": [
      "[('Put Assessment On-Hold', 1804236.0), ('AR - Satisfied - University of Melbourne Statement of Results / transcript', 1222245.0), ('AR - Created - Specialisation (Master of Engineering)', 1214250.0), ('End My Assessment', 1118958.0), ('Send for Assessment', 1004177.0), ('Put Triage On-Hold', 980514.0), ('AR - Satisfied - Entry points (Master of Information Systems)', 959064.0), ('AR - Satisfied - Official syllabus or subject descriptions (in English)', 935013.0), ('Acacdemic - Assessment Decision - No Decision', 888731.0), ('AR - Satisfied - Credit for previous study', 842830.0), ('AR - Created - Assessment information (Coursework) (1)', 775549.0), ('AR - Satisfied - Assessment information (Coursework) (1)', 760815.0), ('AR - Satisfied - Full application for Coursework program (1)', 641560.0), ('AR - Satisfied - Academic results for prior tertiary studies', 622999.0), ('OC - Satisfied - English language requirements', 605709.0), ('Assessment Outcome - Ineligible / Withdrawn', 591080.0), ('AR - Satisfied - Transcript � My eQuals', 584439.0), ('Assessment Decision - System Assessed', 524434.0), ('AR - Created - Further information (3)', 517677.0), ('AR - Created - Further information (2)', 478731.0), ('AR - Created - Personal statement (500 words)', 430511.0), ('AR - Satisfied - Assessment information (Coursework) (2)', 415898.0), ('Assessment Decision - Qualified', 401115.0), ('Acacdemic - Assessment Decision - Qualified', 384584.0), ('Assessment Decision - No Decision', 380403.0), ('Acacdemic - Assessment Decision - Not Qualified', 376075.0), ('AR - Satisfied - Current enrolment at the University of Melbourne', 372874.0), ('OC - Created - Evidence of course completion', 367318.0), ('AR - Satisfied - English language proficiency', 360330.0), ('Assessment Decision - Not Assessed', 338495.0), ('Release Assessment Hold', 336511.0), ('Assessment Outcome - Higher Preference Successful', 323511.0), ('OC - Created - CHESICC transcript authentication for international students', 303648.0), ('AR - Created - Further information � Preference order required as submitted multiple 1st prefer applications', 300313.0), ('AR - Requested - Further information (1)', 290627.0), ('OC - Created - English language requirements', 260136.0), ('AR - Satisfied - Advanced Standing', 251218.0), ('AR - Satisfied - Specialisation (Master of Information Systems)', 237926.0), ('AR - Satisfied - Further information (1)', 232304.0), ('AR - Created - Further information (1)', 211064.0), ('Back to Triage', 193405.0), ('AR - Created - University of Melbourne Statement of Results / transcript', 183945.0), ('Acacdemic - Assessment Decision - System Assessed', 161580.0), ('AR - Not Satisfied - English language proficiency', 126568.0), ('Assessment Decision - Not Qualified', 123592.0), ('AR - Satisfied - Graduate Access Melbourne', 115134.0), ('AR - Reviewed - Current enrolment at the University of Melbourne', 45354.0), ('AR - Satisfied - Entry points (Master of Information Technology)', 29569.0), ('AR - Satisfied - Specialisation (Master of Information Technology)', 610.0), ('AR - Created - Graduate Access Melbourne application form', 568.0), ('AR - Requested - Payment of international application fee', 267.0), ('Acacdemic - Assessment Outcome - No Outcome Set', 259.0), ('AR - Created - Assessment information (Coursework) (2)', 188.0), ('AR - Requested - Official syllabus or subject descriptions (in English)', 157.0), ('AR - Created - Grading scale', 137.0), ('Acacdemic - Assessment Outcome - Not Successful', 85.0), ('AR - Requested - Further information Pearsons Test of English', 74.0), ('AR - Requested - Academic results for prior tertiary studies', 52.0), ('Release Triage Hold', 50.0), ('AR - Satisfied - Further information (2)', 45.0), ('AR - Satisfied - Graduate Access Melbourne application form', 41.0), ('AR - Created - Full application for Coursework program (1)', 40.0), ('AR - Satisfied - Specialisation (Master of Engineering)', 32.0), ('AR - Satisfied - Further information � Preference order required as submitted multiple 1st prefer applications', 26.0), ('AR - Satisfied - Further information - Official Transcripts', 20.0), ('AR - Satisfied - Grading scale', 20.0), ('AR - Created - Further information - Official Transcripts', 17.0), ('AR - Created - Payment of international application fee', 15.0), ('AR - Reviewed - Credit for previous study', 13.0), ('AR - Requested - Further information (2)', 12.0), ('AR - Satisfied - Academic transcript Grading Scheme', 12.0), ('OC - Satisfied - Evidence of course completion', 5.0), ('AR - Created - Further information Pearsons Test of English', 5.0), ('Assessment Outcome - Successful', 0.0), ('Assessment Outcome - Not Successful', 0.0), ('WITHDRAW & LOCK', 0.0), ('OC - Reviewed - English language requirements', 0.0), ('AR - Satisfied - Further information (3)', 0.0), ('AR - Reviewed - Official syllabus or subject descriptions (in English)', 0.0), ('OC - Requested - Evidence of course completion', 0.0)]\n"
     ]
    }
   ],
   "source": [
    "list = df2_WS2T.WRKFLW_TSK_MAP_DETAILED.unique()\n",
    "avg_time_dict = dict()\n",
    "for key in list :\n",
    "    df_slides = df2_WS2T[df2_WS2T['WRKFLW_TSK_MAP_DETAILED'] == key]\n",
    "    sum = df_slides['time_used_second'].sum()\n",
    "    c = len(df_slides)\n",
    "    avg = sum//c\n",
    "    avg_time_dict[key] = avg\n",
    "\n",
    "sorted_avg_time_dict = sorted(avg_time_dict.items(),key = lambda x: x[1], reverse = True)\n",
    "print(sorted_avg_time_dict)"
   ],
   "metadata": {
    "collapsed": false,
    "pycharm": {
     "name": "#%%\n"
    }
   }
  },
  {
   "cell_type": "code",
   "execution_count": 8,
   "outputs": [],
   "source": [
    "numOfWorkflowProcesses = df2_WS2T.groupby('CASE_ID').CASE_ID.count()\n",
    "\n",
    "count_dic=dict()\n",
    "for i,v in numOfWorkflowProcesses.items():\n",
    "    if count_dic.get(v) is None:\n",
    "        count_dic[v]=[]\n",
    "        count_dic[v].append(i)\n",
    "    else:\n",
    "        count_dic[v].append(i)\n",
    "#count_dic\n",
    "count_dic = dict(sorted(count_dic.items()))"
   ],
   "metadata": {
    "collapsed": false,
    "pycharm": {
     "name": "#%%\n"
    }
   }
  },
  {
   "cell_type": "code",
   "execution_count": 9,
   "outputs": [],
   "source": [
    "len_list=[]\n",
    "for key in count_dic.keys():\n",
    "    len_list.append(len(count_dic[key]))"
   ],
   "metadata": {
    "collapsed": false,
    "pycharm": {
     "name": "#%%\n"
    }
   }
  },
  {
   "cell_type": "code",
   "execution_count": 10,
   "outputs": [],
   "source": [
    "def strfdelta(tdelta, fmt):\n",
    "    d=dict()\n",
    "    d[\"days\"],rem1 = divmod(tdelta,60*60*24)\n",
    "    d[\"hours\"], rem2 = divmod(rem1, 3600)\n",
    "    d[\"minutes\"], d[\"seconds\"] = divmod(rem2, 60)\n",
    "    return fmt.format(**d)"
   ],
   "metadata": {
    "collapsed": false,
    "pycharm": {
     "name": "#%%\n"
    }
   }
  },
  {
   "cell_type": "code",
   "execution_count": 11,
   "outputs": [],
   "source": [
    "list_avgtime_per_key =[]\n",
    "list_sumtime_row = []\n",
    "for key in count_dic.keys():\n",
    "    id_list = count_dic[key]\n",
    "    list_sumtime_person = 0\n",
    "    for id in id_list:\n",
    "        df = df2_WS2T[df2_WS2T['CASE_ID']== id]\n",
    "        tsum = df['time_used_second'].sum()\n",
    "        list_sumtime_person+=tsum\n",
    "    list_avgtime_per_key.append(int((list_sumtime_person/len(count_dic[key]))))\n",
    "    list_sumtime_row.append(list_sumtime_person)\n",
    "list_avgtime_per_key_str = []\n",
    "for i in list_avgtime_per_key:\n",
    "    list_avgtime_per_key_str.append(strfdelta(i,\"{days} days {hours} hours {minutes} minutes {seconds} seconds\"))"
   ],
   "metadata": {
    "collapsed": false,
    "pycharm": {
     "name": "#%%\n"
    }
   }
  },
  {
   "cell_type": "code",
   "execution_count": 12,
   "outputs": [],
   "source": [
    "list_mediantime_per_key = []\n",
    "for key in count_dic.keys():\n",
    "    id_list = count_dic[key]\n",
    "    list_sumtime_per_person = []\n",
    "    for id in id_list:\n",
    "        df = df2_WS2T[df2_WS2T['CASE_ID']== id]\n",
    "        tsum = df['time_used_second'].sum()\n",
    "        list_sumtime_per_person.append(tsum)\n",
    "    list_mediantime_per_key.append(numpy.median(list_sumtime_per_person))\n",
    "\n",
    "list_mediantime_per_key_str = []\n",
    "for i in list_mediantime_per_key:\n",
    "    list_mediantime_per_key_str.append(strfdelta(i,\"{days} days {hours} hours {minutes} minutes {seconds} seconds\"))"
   ],
   "metadata": {
    "collapsed": false,
    "pycharm": {
     "name": "#%%\n"
    }
   }
  },
  {
   "cell_type": "code",
   "execution_count": 13,
   "outputs": [],
   "source": [
    "list_percent_reach_end = []\n",
    "for key in count_dic.keys():\n",
    "    id_list = count_dic[key]\n",
    "    count_df_end_step = 0\n",
    "    count_df_id = 0\n",
    "    for id in id_list:\n",
    "        df_id = df2_WS2T[df2_WS2T['CASE_ID']== id]\n",
    "        df_end_step = df_id[df_id['WRKFLW_TSK_MAP_GROUPED'].isin(['Assessment Outcome - Successful','Assessment Outcome - Not Successful']) ]\n",
    "        count_df_id += df_id['CASE_ID'].nunique()\n",
    "        count_df_end_step += df_end_step['CASE_ID'].nunique()\n",
    "    list_percent_reach_end.append(str(round((count_df_end_step/count_df_id)*100,2))+ \"%\")"
   ],
   "metadata": {
    "collapsed": false,
    "pycharm": {
     "name": "#%%\n"
    }
   }
  },
  {
   "cell_type": "code",
   "execution_count": 14,
   "outputs": [],
   "source": [
    "list_step_per_key = []\n",
    "for key in count_dic.keys():\n",
    "    id_list = count_dic[key]\n",
    "    list_step = set()\n",
    "    for id in id_list:\n",
    "        df = df2_WS2T[df2_WS2T['CASE_ID']== id]\n",
    "        for index, row in df.iterrows():\n",
    "            list_step.add(row['WRKFLW_TSK_MAP_GROUPED'])\n",
    "    list_step_per_key.append(list_step)"
   ],
   "metadata": {
    "collapsed": false,
    "pycharm": {
     "name": "#%%\n"
    }
   }
  },
  {
   "cell_type": "code",
   "execution_count": 15,
   "outputs": [],
   "source": [
    "from collections import Counter\n",
    "import collections, functools, operator\n",
    "list_step_sum_time_per_key = []\n",
    "list_step_count_per_key = []\n",
    "list_step_ave_time_per_key = []\n",
    "for key in count_dic.keys():\n",
    "    id_list = count_dic[key]\n",
    "    list_step = []\n",
    "    step_time_list = []\n",
    "    for id in id_list:\n",
    "        df = df2_WS2T[df2_WS2T['CASE_ID']== id]\n",
    "        step_time = dict(zip(df.WRKFLW_TSK_MAP_GROUPED, df.time_used_second))\n",
    "        step_time_list.append(step_time)\n",
    "        for index, row in df.iterrows():\n",
    "            list_step.append(row['WRKFLW_TSK_MAP_GROUPED'])\n",
    "\n",
    "    step_sum_time = dict(functools.reduce(operator.add,\n",
    "         map(collections.Counter, step_time_list)))\n",
    "\n",
    "    dict_list_step=dict(Counter(list_step))\n",
    "\n",
    "    step_ave_time = {key: strfdelta(step_sum_time[key] // dict_list_step.get(key, 0),\"{days} days {hours} hours {minutes} minutes {seconds} seconds\")\n",
    "                        for key in step_sum_time.keys()}\n",
    "\n",
    "    sort_step_sum_time = sorted(step_sum_time.items(),key = lambda x: x[1], reverse = True)\n",
    "    list_step_sum_time_per_key.append(sort_step_sum_time)\n",
    "\n",
    "    sort_dict_list_step = sorted(dict_list_step.items(),key = lambda x: x[1], reverse = True)\n",
    "    list_step_count_per_key.append(sort_dict_list_step[:6])\n",
    "\n",
    "    sort_step_ave_time = sorted(step_ave_time.items(),key = lambda x: x[1], reverse = True)\n",
    "    list_step_ave_time_per_key.append(sort_step_ave_time)\n"
   ],
   "metadata": {
    "collapsed": false,
    "pycharm": {
     "name": "#%%\n"
    }
   }
  },
  {
   "cell_type": "code",
   "execution_count": 16,
   "outputs": [
    {
     "data": {
      "text/plain": "   Number of Workflow processes in this Workflow Segment  Number of cases  \\\n0                                                  1                  115   \n1                                                  2                  166   \n2                                                  3                  563   \n3                                                  4                  331   \n4                                                  5                  219   \n5                                                  6                  156   \n6                                                  7                   77   \n7                                                  8                   54   \n8                                                  9                   39   \n9                                                 10                   22   \n\n        average time for workflow segment  \\\n0      0 days 0 hours 0 minutes 0 seconds   \n1  19 days 10 hours 41 minutes 41 seconds   \n2  19 days 13 hours 37 minutes 41 seconds   \n3   28 days 3 hours 10 minutes 55 seconds   \n4  33 days 19 hours 51 minutes 14 seconds   \n5  35 days 21 hours 27 minutes 16 seconds   \n6  35 days 16 hours 36 minutes 27 seconds   \n7  48 days 17 hours 13 minutes 39 seconds   \n8  42 days 22 hours 37 minutes 14 seconds   \n9  72 days 16 hours 30 minutes 40 seconds   \n\n                 median time for workflow segment  \\\n0      0.0 days 0.0 hours 0.0 minutes 0.0 seconds   \n1    11.0 days 1.0 hours 2.0 minutes 35.0 seconds   \n2   14.0 days 4.0 hours 44.0 minutes 39.0 seconds   \n3   19.0 days 6.0 hours 45.0 minutes 19.0 seconds   \n4  20.0 days 23.0 hours 44.0 minutes 56.0 seconds   \n5  26.0 days 12.0 hours 33.0 minutes 26.0 seconds   \n6   22.0 days 2.0 hours 16.0 minutes 35.0 seconds   \n7  29.0 days 23.0 hours 18.0 minutes 29.0 seconds   \n8  34.0 days 18.0 hours 35.0 minutes 19.0 seconds   \n9   23.0 days 10.0 hours 23.0 minutes 5.5 seconds   \n\n  percentage of cases reaching to end of workflow segment  \\\n0                                               0.0%        \n1                                             35.54%        \n2                                             91.65%        \n3                                              85.2%        \n4                                             87.21%        \n5                                             85.26%        \n6                                             80.52%        \n7                                             83.33%        \n8                                             82.05%        \n9                                             81.82%        \n\n             Num of Occurrences per step(descending)  \\\n0                       [(Send for Assessment, 115)]   \n1  [(Send for Assessment, 166), (Assessment Outco...   \n2  [(Send for Assessment, 563), (Assessment Outco...   \n3  [(Send for Assessment, 335), (Assessment Decis...   \n4  [(Assessment Decision - Qualified, 265), (Send...   \n5  [(Assessment Decision - Qualified, 219), (Send...   \n6  [(Assessment Decision - Qualified, 100), (Send...   \n7  [(Assessment Decision - Qualified, 93), (Send ...   \n8  [(Assessment Decision - Qualified, 76), (Send ...   \n9  [(Assessment Decision - Qualified, 37), (Asses...   \n\n            Average time spends per step(descending)  \\\n0                                                 []   \n1  [(Send for Assessment, 19.0 days 10.0 hours 41...   \n2  [(Acacdemic - Assessment Decision - Not Qualif...   \n3  [(AR - Satisfied - advanced standing, 9.0 days...   \n4  [(AR - Not Satisfied - ELR, 8.0 days 18.0 hour...   \n5  [(AR - Satisfied - entry points, 8.0 days 21.0...   \n6  [(Put Assessment On-Hold, 7.0 days 18.0 hours ...   \n7  [(AR - Satisfied - syllabus, 9.0 days 20.0 hou...   \n8  [(Send for Assessment, 7.0 days 10.0 hours 44....   \n9  [(AR - Satisfied - GAM, 8.0 days 23.0 hours 29...   \n\n   average time for workflow segment(seconds)  \\\n0                                           0   \n1                                     1680101   \n2                                     1690661   \n3                                     2430655   \n4                                     2922674   \n5                                     3101236   \n6                                     3083787   \n7                                     4209219   \n8                                     3710234   \n9                                     6280240   \n\n   sum time for workflow segment(seconds)  \n0                                     0.0  \n1                             278896841.0  \n2                             951842582.0  \n3                             804547109.0  \n4                             640065608.0  \n5                             483792929.0  \n6                             237451671.0  \n7                             227297830.0  \n8                             144699164.0  \n9                             138165296.0  ",
      "text/html": "<div>\n<style scoped>\n    .dataframe tbody tr th:only-of-type {\n        vertical-align: middle;\n    }\n\n    .dataframe tbody tr th {\n        vertical-align: top;\n    }\n\n    .dataframe thead th {\n        text-align: right;\n    }\n</style>\n<table border=\"1\" class=\"dataframe\">\n  <thead>\n    <tr style=\"text-align: right;\">\n      <th></th>\n      <th>Number of Workflow processes in this Workflow Segment</th>\n      <th>Number of cases</th>\n      <th>average time for workflow segment</th>\n      <th>median time for workflow segment</th>\n      <th>percentage of cases reaching to end of workflow segment</th>\n      <th>Num of Occurrences per step(descending)</th>\n      <th>Average time spends per step(descending)</th>\n      <th>average time for workflow segment(seconds)</th>\n      <th>sum time for workflow segment(seconds)</th>\n    </tr>\n  </thead>\n  <tbody>\n    <tr>\n      <th>0</th>\n      <td>1</td>\n      <td>115</td>\n      <td>0 days 0 hours 0 minutes 0 seconds</td>\n      <td>0.0 days 0.0 hours 0.0 minutes 0.0 seconds</td>\n      <td>0.0%</td>\n      <td>[(Send for Assessment, 115)]</td>\n      <td>[]</td>\n      <td>0</td>\n      <td>0.0</td>\n    </tr>\n    <tr>\n      <th>1</th>\n      <td>2</td>\n      <td>166</td>\n      <td>19 days 10 hours 41 minutes 41 seconds</td>\n      <td>11.0 days 1.0 hours 2.0 minutes 35.0 seconds</td>\n      <td>35.54%</td>\n      <td>[(Send for Assessment, 166), (Assessment Outco...</td>\n      <td>[(Send for Assessment, 19.0 days 10.0 hours 41...</td>\n      <td>1680101</td>\n      <td>278896841.0</td>\n    </tr>\n    <tr>\n      <th>2</th>\n      <td>3</td>\n      <td>563</td>\n      <td>19 days 13 hours 37 minutes 41 seconds</td>\n      <td>14.0 days 4.0 hours 44.0 minutes 39.0 seconds</td>\n      <td>91.65%</td>\n      <td>[(Send for Assessment, 563), (Assessment Outco...</td>\n      <td>[(Acacdemic - Assessment Decision - Not Qualif...</td>\n      <td>1690661</td>\n      <td>951842582.0</td>\n    </tr>\n    <tr>\n      <th>3</th>\n      <td>4</td>\n      <td>331</td>\n      <td>28 days 3 hours 10 minutes 55 seconds</td>\n      <td>19.0 days 6.0 hours 45.0 minutes 19.0 seconds</td>\n      <td>85.2%</td>\n      <td>[(Send for Assessment, 335), (Assessment Decis...</td>\n      <td>[(AR - Satisfied - advanced standing, 9.0 days...</td>\n      <td>2430655</td>\n      <td>804547109.0</td>\n    </tr>\n    <tr>\n      <th>4</th>\n      <td>5</td>\n      <td>219</td>\n      <td>33 days 19 hours 51 minutes 14 seconds</td>\n      <td>20.0 days 23.0 hours 44.0 minutes 56.0 seconds</td>\n      <td>87.21%</td>\n      <td>[(Assessment Decision - Qualified, 265), (Send...</td>\n      <td>[(AR - Not Satisfied - ELR, 8.0 days 18.0 hour...</td>\n      <td>2922674</td>\n      <td>640065608.0</td>\n    </tr>\n    <tr>\n      <th>5</th>\n      <td>6</td>\n      <td>156</td>\n      <td>35 days 21 hours 27 minutes 16 seconds</td>\n      <td>26.0 days 12.0 hours 33.0 minutes 26.0 seconds</td>\n      <td>85.26%</td>\n      <td>[(Assessment Decision - Qualified, 219), (Send...</td>\n      <td>[(AR - Satisfied - entry points, 8.0 days 21.0...</td>\n      <td>3101236</td>\n      <td>483792929.0</td>\n    </tr>\n    <tr>\n      <th>6</th>\n      <td>7</td>\n      <td>77</td>\n      <td>35 days 16 hours 36 minutes 27 seconds</td>\n      <td>22.0 days 2.0 hours 16.0 minutes 35.0 seconds</td>\n      <td>80.52%</td>\n      <td>[(Assessment Decision - Qualified, 100), (Send...</td>\n      <td>[(Put Assessment On-Hold, 7.0 days 18.0 hours ...</td>\n      <td>3083787</td>\n      <td>237451671.0</td>\n    </tr>\n    <tr>\n      <th>7</th>\n      <td>8</td>\n      <td>54</td>\n      <td>48 days 17 hours 13 minutes 39 seconds</td>\n      <td>29.0 days 23.0 hours 18.0 minutes 29.0 seconds</td>\n      <td>83.33%</td>\n      <td>[(Assessment Decision - Qualified, 93), (Send ...</td>\n      <td>[(AR - Satisfied - syllabus, 9.0 days 20.0 hou...</td>\n      <td>4209219</td>\n      <td>227297830.0</td>\n    </tr>\n    <tr>\n      <th>8</th>\n      <td>9</td>\n      <td>39</td>\n      <td>42 days 22 hours 37 minutes 14 seconds</td>\n      <td>34.0 days 18.0 hours 35.0 minutes 19.0 seconds</td>\n      <td>82.05%</td>\n      <td>[(Assessment Decision - Qualified, 76), (Send ...</td>\n      <td>[(Send for Assessment, 7.0 days 10.0 hours 44....</td>\n      <td>3710234</td>\n      <td>144699164.0</td>\n    </tr>\n    <tr>\n      <th>9</th>\n      <td>10</td>\n      <td>22</td>\n      <td>72 days 16 hours 30 minutes 40 seconds</td>\n      <td>23.0 days 10.0 hours 23.0 minutes 5.5 seconds</td>\n      <td>81.82%</td>\n      <td>[(Assessment Decision - Qualified, 37), (Asses...</td>\n      <td>[(AR - Satisfied - GAM, 8.0 days 23.0 hours 29...</td>\n      <td>6280240</td>\n      <td>138165296.0</td>\n    </tr>\n  </tbody>\n</table>\n</div>"
     },
     "execution_count": 16,
     "metadata": {},
     "output_type": "execute_result"
    }
   ],
   "source": [
    "s2_t2=pd.DataFrame({'Number of Workflow processes in this Workflow Segment':count_dic.keys(),'Number of cases':len_list, 'average time for workflow segment':list_avgtime_per_key_str,'median time for workflow segment':list_mediantime_per_key_str,'percentage of cases reaching to end of workflow segment':list_percent_reach_end})\n",
    "s2_t2['Num of Occurrences per step(descending)'] = list_step_count_per_key\n",
    "s2_t2['Average time spends per step(descending)'] = list_step_ave_time_per_key\n",
    "s2_t2['average time for workflow segment(seconds)'] = list_avgtime_per_key\n",
    "s2_t2['sum time for workflow segment(seconds)'] = list_sumtime_row\n",
    "s2_t2.head(n=10)\n"
   ],
   "metadata": {
    "collapsed": false,
    "pycharm": {
     "name": "#%%\n"
    }
   }
  },
  {
   "cell_type": "code",
   "execution_count": 17,
   "outputs": [],
   "source": [
    "s2_t2.to_csv('engineering_AS_segment2_workflowS2_table.csv', index=False)\n",
    "\n",
    "\n",
    "\n",
    "\n",
    "\n",
    "\n"
   ],
   "metadata": {
    "collapsed": false,
    "pycharm": {
     "name": "#%%\n"
    }
   }
  }
 ],
 "metadata": {
  "kernelspec": {
   "name": "pycharm-3f427a6c",
   "language": "python",
   "display_name": "PyCharm (pythonProject)"
  },
  "language_info": {
   "codemirror_mode": {
    "name": "ipython",
    "version": 2
   },
   "file_extension": ".py",
   "mimetype": "text/x-python",
   "name": "python",
   "nbconvert_exporter": "python",
   "pygments_lexer": "ipython2",
   "version": "2.7.6"
  }
 },
 "nbformat": 4,
 "nbformat_minor": 0
}