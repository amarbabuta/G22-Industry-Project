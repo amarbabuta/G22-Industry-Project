{
 "cells": [
  {
   "cell_type": "code",
   "execution_count": 1,
   "metadata": {},
   "outputs": [],
   "source": [
    "import csv\n",
    "import pandas as pd\n",
    "from sklearn.linear_model import LogisticRegression \n",
    "from sklearn.preprocessing import LabelEncoder\n",
    "LE=LabelEncoder()\n",
    "from sklearn.model_selection import train_test_split\n",
    "from sklearn.metrics import accuracy_score, confusion_matrix\n",
    "from sklearn.metrics import precision_recall_fscore_support\n",
    "from sklearn.svm import LinearSVC\n",
    "from sklearn.svm import SVC\n",
    "from sklearn.linear_model import LogisticRegression\n",
    "from sklearn.neighbors import KNeighborsClassifier"
   ]
  },
  {
   "cell_type": "code",
   "execution_count": 2,
   "metadata": {},
   "outputs": [],
   "source": [
    "segment3=pd.read_csv('segment3_clean.csv')"
   ]
  },
  {
   "cell_type": "code",
   "execution_count": 4,
   "metadata": {},
   "outputs": [],
   "source": [
    "del segment3['Unnamed: 0']"
   ]
  },
  {
   "cell_type": "code",
   "execution_count": 6,
   "metadata": {},
   "outputs": [
    {
     "data": {
      "text/plain": [
       "CASE_ID                   object\n",
       "STU_CITIZEN_NM            object\n",
       "STU_ABOR_TSI_NM           object\n",
       "SUBMISSION_METHOD         object\n",
       "ENTRY_TYPE                object\n",
       "ASSESSMENT_DECISION_NM    object\n",
       "ASSESSMENT_OUTCOME_NM     object\n",
       "LAST_COUNTRY_EDUCATION    object\n",
       "PREFERENCE_NO              int64\n",
       "AVAIL_ORG_UNIT_NM         object\n",
       "STUDY_MODE_CD             object\n",
       "RETURNING_DEFERRAL        object\n",
       "CURR_AVAIL_YR              int64\n",
       "CURR_STUDY_PERIOD         object\n",
       "ORIG_AVAIL_YR              int64\n",
       "ORIG_STUDY_PERIOD         object\n",
       "SPK_CAT_TYPE_CD           object\n",
       "OFFER_RELEASED_FG         object\n",
       "OFFER_OUTCOME_CD          object\n",
       "OFFER_CONDITIONS          object\n",
       "dtype: object"
      ]
     },
     "execution_count": 6,
     "metadata": {},
     "output_type": "execute_result"
    }
   ],
   "source": [
    "segment3.dtypes"
   ]
  },
  {
   "cell_type": "code",
   "execution_count": 22,
   "metadata": {},
   "outputs": [
    {
     "data": {
      "text/html": [
       "<div>\n",
       "<style scoped>\n",
       "    .dataframe tbody tr th:only-of-type {\n",
       "        vertical-align: middle;\n",
       "    }\n",
       "\n",
       "    .dataframe tbody tr th {\n",
       "        vertical-align: top;\n",
       "    }\n",
       "\n",
       "    .dataframe thead th {\n",
       "        text-align: right;\n",
       "    }\n",
       "</style>\n",
       "<table border=\"1\" class=\"dataframe\">\n",
       "  <thead>\n",
       "    <tr style=\"text-align: right;\">\n",
       "      <th></th>\n",
       "      <th>CASE_ID</th>\n",
       "      <th>STU_CITIZEN_NM</th>\n",
       "      <th>STU_ABOR_TSI_NM</th>\n",
       "      <th>SUBMISSION_METHOD</th>\n",
       "      <th>ENTRY_TYPE</th>\n",
       "      <th>ASSESSMENT_DECISION_NM</th>\n",
       "      <th>ASSESSMENT_OUTCOME_NM</th>\n",
       "      <th>LAST_COUNTRY_EDUCATION</th>\n",
       "      <th>PREFERENCE_NO</th>\n",
       "      <th>AVAIL_ORG_UNIT_NM</th>\n",
       "      <th>STUDY_MODE_CD</th>\n",
       "      <th>RETURNING_DEFERRAL</th>\n",
       "      <th>CURR_AVAIL_YR</th>\n",
       "      <th>CURR_STUDY_PERIOD</th>\n",
       "      <th>ORIG_AVAIL_YR</th>\n",
       "      <th>ORIG_STUDY_PERIOD</th>\n",
       "      <th>SPK_CAT_TYPE_CD</th>\n",
       "      <th>OFFER_RELEASED_FG</th>\n",
       "      <th>OFFER_OUTCOME_CD</th>\n",
       "      <th>OFFER_CONDITIONS</th>\n",
       "    </tr>\n",
       "  </thead>\n",
       "  <tbody>\n",
       "    <tr>\n",
       "      <th>0</th>\n",
       "      <td>502030|95557|149167</td>\n",
       "      <td>Australian</td>\n",
       "      <td>No</td>\n",
       "      <td>Online Application</td>\n",
       "      <td>NaN</td>\n",
       "      <td>Qualified</td>\n",
       "      <td>Successful</td>\n",
       "      <td>Australia</td>\n",
       "      <td>1</td>\n",
       "      <td>Engineering</td>\n",
       "      <td>STD</td>\n",
       "      <td>Y</td>\n",
       "      <td>2019</td>\n",
       "      <td>Start Year Intake</td>\n",
       "      <td>2017</td>\n",
       "      <td>Start Year Intake</td>\n",
       "      <td>MCW</td>\n",
       "      <td>Y</td>\n",
       "      <td>$ACC</td>\n",
       "      <td>N</td>\n",
       "    </tr>\n",
       "    <tr>\n",
       "      <th>1</th>\n",
       "      <td>846123|104356|320614</td>\n",
       "      <td>Permanent Resident (excl Humanitarian)</td>\n",
       "      <td>No</td>\n",
       "      <td>Online Application</td>\n",
       "      <td>NaN</td>\n",
       "      <td>Qualified</td>\n",
       "      <td>Successful</td>\n",
       "      <td>Nigeria</td>\n",
       "      <td>3</td>\n",
       "      <td>Engineering</td>\n",
       "      <td>STD</td>\n",
       "      <td>Y</td>\n",
       "      <td>2019</td>\n",
       "      <td>Start Year Intake</td>\n",
       "      <td>2017</td>\n",
       "      <td>Start Year Intake</td>\n",
       "      <td>MCW</td>\n",
       "      <td>Y</td>\n",
       "      <td>$DEF</td>\n",
       "      <td>N</td>\n",
       "    </tr>\n",
       "    <tr>\n",
       "      <th>2</th>\n",
       "      <td>940176|243843|388437</td>\n",
       "      <td>Permanent Resident (excl Humanitarian)</td>\n",
       "      <td>No</td>\n",
       "      <td>Online Application</td>\n",
       "      <td>Bachelor (equiv Aust 3yr deg)</td>\n",
       "      <td>Not Qualified</td>\n",
       "      <td>Not Successful</td>\n",
       "      <td>Australia</td>\n",
       "      <td>1</td>\n",
       "      <td>Engineering</td>\n",
       "      <td>STD</td>\n",
       "      <td>N</td>\n",
       "      <td>2019</td>\n",
       "      <td>Mid Year Intake</td>\n",
       "      <td>2019</td>\n",
       "      <td>Mid Year Intake</td>\n",
       "      <td>MCW</td>\n",
       "      <td>NaN</td>\n",
       "      <td>NaN</td>\n",
       "      <td>N</td>\n",
       "    </tr>\n",
       "    <tr>\n",
       "      <th>3</th>\n",
       "      <td>758639|264769|421918</td>\n",
       "      <td>Australian</td>\n",
       "      <td>No</td>\n",
       "      <td>Online Application</td>\n",
       "      <td>Bachelor (equiv Aust 3yr deg)</td>\n",
       "      <td>Qualified</td>\n",
       "      <td>Successful</td>\n",
       "      <td>Australia</td>\n",
       "      <td>1</td>\n",
       "      <td>Engineering</td>\n",
       "      <td>STD</td>\n",
       "      <td>Y</td>\n",
       "      <td>2020</td>\n",
       "      <td>Start Year Intake</td>\n",
       "      <td>2018</td>\n",
       "      <td>Start Year Intake</td>\n",
       "      <td>MCW</td>\n",
       "      <td>Y</td>\n",
       "      <td>$DEF</td>\n",
       "      <td>N</td>\n",
       "    </tr>\n",
       "    <tr>\n",
       "      <th>4</th>\n",
       "      <td>958145|268178|427378</td>\n",
       "      <td>Australian</td>\n",
       "      <td>No</td>\n",
       "      <td>Online Application</td>\n",
       "      <td>NaN</td>\n",
       "      <td>Qualified</td>\n",
       "      <td>Successful</td>\n",
       "      <td>Australia</td>\n",
       "      <td>1</td>\n",
       "      <td>Engineering</td>\n",
       "      <td>STD</td>\n",
       "      <td>Y</td>\n",
       "      <td>2019</td>\n",
       "      <td>Start Year Intake</td>\n",
       "      <td>2018</td>\n",
       "      <td>Start Year Intake</td>\n",
       "      <td>MCW</td>\n",
       "      <td>Y</td>\n",
       "      <td>$DEF</td>\n",
       "      <td>Y</td>\n",
       "    </tr>\n",
       "  </tbody>\n",
       "</table>\n",
       "</div>"
      ],
      "text/plain": [
       "                CASE_ID                          STU_CITIZEN_NM  \\\n",
       "0   502030|95557|149167                              Australian   \n",
       "1  846123|104356|320614  Permanent Resident (excl Humanitarian)   \n",
       "2  940176|243843|388437  Permanent Resident (excl Humanitarian)   \n",
       "3  758639|264769|421918                              Australian   \n",
       "4  958145|268178|427378                              Australian   \n",
       "\n",
       "  STU_ABOR_TSI_NM   SUBMISSION_METHOD                     ENTRY_TYPE  \\\n",
       "0              No  Online Application                            NaN   \n",
       "1              No  Online Application                            NaN   \n",
       "2              No  Online Application  Bachelor (equiv Aust 3yr deg)   \n",
       "3              No  Online Application  Bachelor (equiv Aust 3yr deg)   \n",
       "4              No  Online Application                            NaN   \n",
       "\n",
       "  ASSESSMENT_DECISION_NM ASSESSMENT_OUTCOME_NM LAST_COUNTRY_EDUCATION  \\\n",
       "0              Qualified            Successful              Australia   \n",
       "1              Qualified            Successful                Nigeria   \n",
       "2          Not Qualified        Not Successful              Australia   \n",
       "3              Qualified            Successful              Australia   \n",
       "4              Qualified            Successful              Australia   \n",
       "\n",
       "   PREFERENCE_NO AVAIL_ORG_UNIT_NM STUDY_MODE_CD RETURNING_DEFERRAL  \\\n",
       "0              1       Engineering           STD                  Y   \n",
       "1              3       Engineering           STD                  Y   \n",
       "2              1       Engineering           STD                  N   \n",
       "3              1       Engineering           STD                  Y   \n",
       "4              1       Engineering           STD                  Y   \n",
       "\n",
       "   CURR_AVAIL_YR  CURR_STUDY_PERIOD  ORIG_AVAIL_YR  ORIG_STUDY_PERIOD  \\\n",
       "0           2019  Start Year Intake           2017  Start Year Intake   \n",
       "1           2019  Start Year Intake           2017  Start Year Intake   \n",
       "2           2019    Mid Year Intake           2019    Mid Year Intake   \n",
       "3           2020  Start Year Intake           2018  Start Year Intake   \n",
       "4           2019  Start Year Intake           2018  Start Year Intake   \n",
       "\n",
       "  SPK_CAT_TYPE_CD OFFER_RELEASED_FG OFFER_OUTCOME_CD OFFER_CONDITIONS  \n",
       "0             MCW                 Y             $ACC                N  \n",
       "1             MCW                 Y             $DEF                N  \n",
       "2             MCW               NaN              NaN                N  \n",
       "3             MCW                 Y             $DEF                N  \n",
       "4             MCW                 Y             $DEF                Y  "
      ]
     },
     "execution_count": 22,
     "metadata": {},
     "output_type": "execute_result"
    }
   ],
   "source": [
    "segment3.head()"
   ]
  },
  {
   "cell_type": "code",
   "execution_count": 8,
   "metadata": {},
   "outputs": [],
   "source": [
    "seg3=segment3[['CASE_ID','STU_CITIZEN_NM','STU_ABOR_TSI_NM','SUBMISSION_METHOD','ENTRY_TYPE','LAST_COUNTRY_EDUCATION',\n",
    "          'PREFERENCE_NO','AVAIL_ORG_UNIT_NM','STUDY_MODE_CD','ORIG_AVAIL_YR','ORIG_STUDY_PERIOD','SPK_CAT_TYPE_CD',\n",
    "          'OFFER_RELEASED_FG']]"
   ]
  },
  {
   "cell_type": "code",
   "execution_count": 9,
   "metadata": {},
   "outputs": [
    {
     "data": {
      "text/plain": [
       "CASE_ID                   object\n",
       "STU_CITIZEN_NM            object\n",
       "STU_ABOR_TSI_NM           object\n",
       "SUBMISSION_METHOD         object\n",
       "ENTRY_TYPE                object\n",
       "LAST_COUNTRY_EDUCATION    object\n",
       "PREFERENCE_NO              int64\n",
       "AVAIL_ORG_UNIT_NM         object\n",
       "STUDY_MODE_CD             object\n",
       "ORIG_AVAIL_YR              int64\n",
       "ORIG_STUDY_PERIOD         object\n",
       "SPK_CAT_TYPE_CD           object\n",
       "OFFER_RELEASED_FG         object\n",
       "dtype: object"
      ]
     },
     "execution_count": 9,
     "metadata": {},
     "output_type": "execute_result"
    }
   ],
   "source": [
    "seg3.dtypes"
   ]
  },
  {
   "cell_type": "markdown",
   "metadata": {},
   "source": [
    "#### Labelling the categorical variables"
   ]
  },
  {
   "cell_type": "code",
   "execution_count": 10,
   "metadata": {},
   "outputs": [
    {
     "name": "stderr",
     "output_type": "stream",
     "text": [
      "/Users/ab0707/opt/anaconda3/lib/python3.8/site-packages/pandas/core/indexing.py:966: SettingWithCopyWarning: \n",
      "A value is trying to be set on a copy of a slice from a DataFrame.\n",
      "Try using .loc[row_indexer,col_indexer] = value instead\n",
      "\n",
      "See the caveats in the documentation: https://pandas.pydata.org/pandas-docs/stable/user_guide/indexing.html#returning-a-view-versus-a-copy\n",
      "  self.obj[item] = s\n"
     ]
    }
   ],
   "source": [
    "seg3.iloc[:,3] = LE.fit_transform(seg3.iloc[:,3].astype(str))\n",
    "\n",
    "seg3.iloc[:,4] = LE.fit_transform(seg3.iloc[:,4].astype(str))\n",
    "\n",
    "seg3.iloc[:,5] = LE.fit_transform(seg3.iloc[:,5].astype(str))\n",
    "\n",
    "seg3.iloc[:,12] = LE.fit_transform(seg3.iloc[:,12].astype(str))"
   ]
  },
  {
   "cell_type": "code",
   "execution_count": 11,
   "metadata": {},
   "outputs": [],
   "source": [
    "seg3.iloc[:,1] = LE.fit_transform(seg3.iloc[:, 1].values)\n",
    "\n",
    "seg3.iloc[:,2] = LE.fit_transform(seg3.iloc[:, 2].values)\n",
    "\n",
    "seg3.iloc[:,7] = LE.fit_transform(seg3.iloc[:, 7].values)\n",
    "\n",
    "seg3.iloc[:,8] = LE.fit_transform(seg3.iloc[:, 8].values)\n",
    "\n",
    "seg3.iloc[:,10] = LE.fit_transform(seg3.iloc[:, 10].values)\n",
    "\n",
    "seg3.iloc[:,11] = LE.fit_transform(seg3.iloc[:, 11].values)"
   ]
  },
  {
   "cell_type": "code",
   "execution_count": 12,
   "metadata": {},
   "outputs": [
    {
     "data": {
      "text/plain": [
       "CASE_ID                   object\n",
       "STU_CITIZEN_NM             int64\n",
       "STU_ABOR_TSI_NM            int64\n",
       "SUBMISSION_METHOD          int64\n",
       "ENTRY_TYPE                 int64\n",
       "LAST_COUNTRY_EDUCATION     int64\n",
       "PREFERENCE_NO              int64\n",
       "AVAIL_ORG_UNIT_NM          int64\n",
       "STUDY_MODE_CD              int64\n",
       "ORIG_AVAIL_YR              int64\n",
       "ORIG_STUDY_PERIOD          int64\n",
       "SPK_CAT_TYPE_CD            int64\n",
       "OFFER_RELEASED_FG          int64\n",
       "dtype: object"
      ]
     },
     "execution_count": 12,
     "metadata": {},
     "output_type": "execute_result"
    }
   ],
   "source": [
    "seg3.dtypes"
   ]
  },
  {
   "cell_type": "markdown",
   "metadata": {},
   "source": [
    "#### For Response Variable 1 (OFFER_RELEASED_FG())"
   ]
  },
  {
   "cell_type": "code",
   "execution_count": 13,
   "metadata": {},
   "outputs": [],
   "source": [
    "X=seg3.iloc[:,1:12].values\n",
    "Y=seg3.iloc[:,12].values "
   ]
  },
  {
   "cell_type": "code",
   "execution_count": 14,
   "metadata": {},
   "outputs": [],
   "source": [
    "#spliting dataset\n",
    "x_train,x_test,y_train,y_test=train_test_split(X,Y,test_size = 0.3,random_state=0)"
   ]
  },
  {
   "cell_type": "code",
   "execution_count": 15,
   "metadata": {},
   "outputs": [],
   "source": [
    "# Logistic Regression\n",
    "lr = LogisticRegression()"
   ]
  },
  {
   "cell_type": "code",
   "execution_count": 16,
   "metadata": {},
   "outputs": [
    {
     "name": "stderr",
     "output_type": "stream",
     "text": [
      "/Users/ab0707/opt/anaconda3/lib/python3.8/site-packages/sklearn/linear_model/_logistic.py:762: ConvergenceWarning: lbfgs failed to converge (status=1):\n",
      "STOP: TOTAL NO. of ITERATIONS REACHED LIMIT.\n",
      "\n",
      "Increase the number of iterations (max_iter) or scale the data as shown in:\n",
      "    https://scikit-learn.org/stable/modules/preprocessing.html\n",
      "Please also refer to the documentation for alternative solver options:\n",
      "    https://scikit-learn.org/stable/modules/linear_model.html#logistic-regression\n",
      "  n_iter_i = _check_optimize_result(\n"
     ]
    },
    {
     "data": {
      "text/plain": [
       "LogisticRegression()"
      ]
     },
     "execution_count": 16,
     "metadata": {},
     "output_type": "execute_result"
    }
   ],
   "source": [
    "lr.fit(x_train,y_train)"
   ]
  },
  {
   "cell_type": "code",
   "execution_count": 17,
   "metadata": {},
   "outputs": [
    {
     "name": "stdout",
     "output_type": "stream",
     "text": [
      "accuracy: 72.37%\n"
     ]
    }
   ],
   "source": [
    "lr_predict=lr.predict(x_test)\n",
    "print(\"accuracy: {}%\".format(round(accuracy_score(y_test, lr_predict)*100,2)))"
   ]
  },
  {
   "cell_type": "code",
   "execution_count": 18,
   "metadata": {},
   "outputs": [
    {
     "name": "stderr",
     "output_type": "stream",
     "text": [
      "/Users/ab0707/opt/anaconda3/lib/python3.8/site-packages/sklearn/svm/_base.py:976: ConvergenceWarning: Liblinear failed to converge, increase the number of iterations.\n",
      "  warnings.warn(\"Liblinear failed to converge, increase \"\n"
     ]
    },
    {
     "data": {
      "text/plain": [
       "LinearSVC()"
      ]
     },
     "execution_count": 18,
     "metadata": {},
     "output_type": "execute_result"
    }
   ],
   "source": [
    "# Linear SVM\n",
    "svm = LinearSVC()\n",
    "svm.fit(x_train, y_train)"
   ]
  },
  {
   "cell_type": "code",
   "execution_count": 19,
   "metadata": {},
   "outputs": [
    {
     "name": "stdout",
     "output_type": "stream",
     "text": [
      "accuracy: 68.42%\n"
     ]
    }
   ],
   "source": [
    "svm_predict = svm.predict(x_test)\n",
    "print(\"accuracy: {}%\".format(round(accuracy_score(y_test, svm_predict)*100,2)))"
   ]
  },
  {
   "cell_type": "code",
   "execution_count": 20,
   "metadata": {},
   "outputs": [
    {
     "data": {
      "text/plain": [
       "KNeighborsClassifier()"
      ]
     },
     "execution_count": 20,
     "metadata": {},
     "output_type": "execute_result"
    }
   ],
   "source": [
    "# K Nearest Neighbors\n",
    "Knn = KNeighborsClassifier()\n",
    "Knn.fit(x_train,y_train)"
   ]
  },
  {
   "cell_type": "code",
   "execution_count": 21,
   "metadata": {},
   "outputs": [
    {
     "name": "stdout",
     "output_type": "stream",
     "text": [
      "accuracy: 78.51%\n"
     ]
    }
   ],
   "source": [
    "knn_predict=Knn.predict(x_test)\n",
    "print(\"accuracy: {}%\".format(round(accuracy_score(y_test, knn_predict)*100,2)))"
   ]
  },
  {
   "cell_type": "code",
   "execution_count": null,
   "metadata": {},
   "outputs": [],
   "source": []
  }
 ],
 "metadata": {
  "kernelspec": {
   "display_name": "Python 3",
   "language": "python",
   "name": "python3"
  },
  "language_info": {
   "codemirror_mode": {
    "name": "ipython",
    "version": 3
   },
   "file_extension": ".py",
   "mimetype": "text/x-python",
   "name": "python",
   "nbconvert_exporter": "python",
   "pygments_lexer": "ipython3",
   "version": "3.8.3"
  }
 },
 "nbformat": 4,
 "nbformat_minor": 4
}
