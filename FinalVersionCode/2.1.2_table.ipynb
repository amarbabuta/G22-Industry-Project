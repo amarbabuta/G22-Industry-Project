{
 "cells": [
  {
   "cell_type": "code",
   "execution_count": 1,
   "metadata": {
    "collapsed": true
   },
   "outputs": [],
   "source": [
    "import pandas as pd\n",
    "import numpy\n",
    "from __future__ import division"
   ]
  },
  {
   "cell_type": "code",
   "execution_count": 2,
   "outputs": [],
   "source": [
    "df1_WS2T = pd.read_csv(\"/Users/asteriag/Desktop/DATASCIENCEPROJECT_WORKFLOW/TimeStamp_Engineering/engineering_OF_segment1_workflowS2_has_duration.csv\",engine='python')"
   ],
   "metadata": {
    "collapsed": false,
    "pycharm": {
     "name": "#%%\n"
    }
   }
  },
  {
   "cell_type": "code",
   "execution_count": 3,
   "outputs": [
    {
     "data": {
      "text/plain": "                CASE_ID WRKFLW_TSK_MAP_GROUPED WRKFLW_TSK_MAP_DETAILED  \\\n0  715808|405750|629365    Send for Assessment     Send for Assessment   \n\n      PATH_CRDATETIME                          time_used_str  time_used_second  \n0  24/10/2018 9:36:47  14 days 5 hours 50 minutes 45 seconds         1230645.0  ",
      "text/html": "<div>\n<style scoped>\n    .dataframe tbody tr th:only-of-type {\n        vertical-align: middle;\n    }\n\n    .dataframe tbody tr th {\n        vertical-align: top;\n    }\n\n    .dataframe thead th {\n        text-align: right;\n    }\n</style>\n<table border=\"1\" class=\"dataframe\">\n  <thead>\n    <tr style=\"text-align: right;\">\n      <th></th>\n      <th>CASE_ID</th>\n      <th>WRKFLW_TSK_MAP_GROUPED</th>\n      <th>WRKFLW_TSK_MAP_DETAILED</th>\n      <th>PATH_CRDATETIME</th>\n      <th>time_used_str</th>\n      <th>time_used_second</th>\n    </tr>\n  </thead>\n  <tbody>\n    <tr>\n      <th>0</th>\n      <td>715808|405750|629365</td>\n      <td>Send for Assessment</td>\n      <td>Send for Assessment</td>\n      <td>24/10/2018 9:36:47</td>\n      <td>14 days 5 hours 50 minutes 45 seconds</td>\n      <td>1230645.0</td>\n    </tr>\n  </tbody>\n</table>\n</div>"
     },
     "execution_count": 3,
     "metadata": {},
     "output_type": "execute_result"
    }
   ],
   "source": [
    "df1_WS2T.head(n=1)"
   ],
   "metadata": {
    "collapsed": false,
    "pycharm": {
     "name": "#%%\n"
    }
   }
  },
  {
   "cell_type": "code",
   "execution_count": 4,
   "outputs": [
    {
     "data": {
      "text/plain": "91"
     },
     "execution_count": 4,
     "metadata": {},
     "output_type": "execute_result"
    }
   ],
   "source": [
    "df1_WS2T['WRKFLW_TSK_MAP_GROUPED'].nunique()"
   ],
   "metadata": {
    "collapsed": false,
    "pycharm": {
     "name": "#%%\n"
    }
   }
  },
  {
   "cell_type": "code",
   "execution_count": 5,
   "outputs": [
    {
     "data": {
      "text/plain": "184"
     },
     "execution_count": 5,
     "metadata": {},
     "output_type": "execute_result"
    }
   ],
   "source": [
    "df1_WS2T['WRKFLW_TSK_MAP_DETAILED'].nunique()"
   ],
   "metadata": {
    "collapsed": false,
    "pycharm": {
     "name": "#%%\n"
    }
   }
  },
  {
   "cell_type": "code",
   "execution_count": 6,
   "outputs": [
    {
     "name": "stdout",
     "output_type": "stream",
     "text": [
      "[('Send for Assessment', 10814), ('Assessment Decision - Qualified', 7257), ('Assessment Outcome - Successful', 6335), ('Acacdemic - Assessment Decision - Qualified', 2735), ('End My Assessment', 2088), ('Assessment Outcome - Not Successful', 1941), ('Assessment Decision - No Decision', 1773), ('OC - Created - Evidence of course completion', 1573), ('Assessment Decision - Not Qualified', 1112), ('Back to Triage', 611), ('Acacdemic - Assessment Decision - Not Qualified', 583), ('Assessment Outcome - Higher Preference Successful', 558), ('AR - Satisfied - Academic results for prior tertiary studies', 541), ('Put Assessment On-Hold', 528), ('Release Assessment Hold', 432), ('AR - Created - Assessment information (Coursework) (1)', 374), ('Put Triage On-Hold', 332), ('AR - Satisfied - Appointment of authorised representative', 298), ('Release Triage Hold', 277), ('AR - Satisfied - English language proficiency', 271), ('AR - Satisfied - Overseas Student Health Cover details', 241), ('AR - Satisfied - Assessment information (Coursework) (1)', 210), ('OC - Satisfied - English language requirements', 189), ('OC - Created - English language requirements', 176), ('AR - Satisfied - Further information (1)', 167), ('Acacdemic - Assessment Decision - No Decision', 163), ('AR - Satisfied - Credit for previous study', 156), ('AR - Created - Further information (1)', 153), ('AR - Satisfied - Current enrolment at the University of Melbourne', 130), ('AR - Not Satisfied - English language proficiency', 116), ('AR - Satisfied - Official syllabus or subject descriptions (in English)', 112), ('AR - Satisfied - Sponsorship arrangements', 90), ('AR - Satisfied - Specialisation (Master of Information Technology)', 80), ('OC - Reviewed - English language requirements', 75), ('AR - Satisfied - Advanced Standing', 74), ('AR - Satisfied - Specialisation (Master of Information Systems)', 72), ('AR - Satisfied - Entry points (Master of Information Systems)', 66), ('Assessment Outcome - Ineligible / Withdrawn', 66), ('OC - Satisfied - Evidence of course completion', 63), ('AR - Satisfied - Entry points (Master of Information Technology)', 59), ('AR - Created - University of Melbourne Statement of Results / transcript', 53), ('AR - Satisfied - Further information (2)', 52), ('AR - Satisfied - University of Melbourne Statement of Results / transcript', 52), ('AR - Created - Further information (2)', 50), ('AR - Requested - Further information (1)', 38), ('AR - Created - Acceptance agreement (International)', 34), ('Assessment Decision - System Assessed', 32), ('AR - Created - Assessment information (Coursework) (2)', 30), ('OC - Created - CHESICC transcript authentication for international students', 22), ('AR - Created - Specialisation (Master of Engineering)', 20), ('AR - Satisfied - Full application for Coursework program (1)', 20), ('AR - Created - Payment of international application fee', 19), ('AR - Created - CONDITIONAL Acceptance agreement (International)', 18), ('AR - Created - Overseas Student Health Cover details', 18), ('AR - Requested - Official syllabus or subject descriptions (in English)', 18), ('AR - Satisfied - Specialisation (Master of Engineering)', 18), ('AR - Satisfied - Transcript � My eQuals', 16), ('AR - Satisfied - Payment of international application fee', 15), ('OC - Created - UMELBP (H3)', 14), ('AR - Satisfied - Acceptance agreement (International)', 13), ('OC - Satisfied - CHESICC transcript authentication for international students', 13), ('WITHDRAW & LOCK', 13), ('AR - Requested - Academic results for prior tertiary studies', 12), ('AR - Satisfied - Assessment information (Coursework) (2)', 11), ('AR - Satisfied - CONDITIONAL Acceptance agreement (International)', 11), ('AR - Satisfied - Curriculum Vitae and professional experience', 11), ('AR - Requested - Further information (2)', 10), ('AR - Reviewed - English language proficiency', 10), ('AR - Created - Further information (3)', 9), ('AR - Created - Syllabus (Melbourne School of Engineering)', 9), ('AR - Satisfied - Grading scale', 9), ('AR - Satisfied - Further information � Preference order required as submitted multiple 1st prefer applications', 8), ('AR - Created - Evidence of course completion', 7), ('AR - Created - Further information � Preference order required as submitted multiple 1st prefer applications', 7), ('Create Offer', 7), ('OC - Created - CDGDC transcript authentication for international students', 7), ('OC - Created - Further information (1)', 7), ('OC - Reviewed - CHESICC transcript authentication for international students', 7), ('AR - Created - Grading scale', 6), ('AR - Reviewed - Appointment of authorised representative', 6), ('AR - Satisfied - Curriculum Vitae', 6), ('AR - Satisfied - Details of authorised representative', 6), ('AR - Satisfied - Syllabus (Melbourne School of Engineering)', 6), ('Acacdemic - Assessment Outcome - Successful', 6), ('OC - Requested - English language requirements', 6), ('AR - Created - Official syllabus or subject descriptions (in English)', 5), ('AR - Requested - Appointment of authorised representative', 5), ('AR - Requested - Credit for previous study', 5), ('Acacdemic - Assessment Outcome - Not Successful', 5), ('OC - Created - Further information (2)', 5), ('AR - Created - Advanced standing application', 4), ('AR - Reviewed - Entry points (Master of Information Systems)', 4), ('AR - Satisfied - Advanced standing application', 4), ('AR - Satisfied - Evidence of course completion', 4), ('AR - Satisfied - Further information (3)', 4), ('AR - Satisfied - Transcript � CHESICC', 4), ('OC - Satisfied - UMELBP (H3)', 4), ('AR - Created - Full application for Coursework program (1)', 3), ('AR - Created - Specialisation (Master of Information Systems)', 3), ('AR - Not Satisfied - Academic results for prior tertiary studies', 3), ('AR - Requested - Further information (3)', 3), ('AR - Reviewed - Academic results for prior tertiary studies', 3), ('Assessment Decision - Not Assessed', 3), ('Close Referral', 3), ('OC - Not Satisfied - Evidence of course completion', 3), ('Provide Response', 3), ('Send Referral', 3), ('AR - Created - Credit for previous study - non-University of Melbourne students', 2), ('AR - Created - Curriculum Vitae', 2), ('AR - Created - Entry points (Master of Information Systems)', 2), ('AR - Created - Further information - Transcript translation and original language', 2), ('AR - Requested - Assessment information (Coursework) (1)', 2), ('AR - Requested - Entry points (Master of Information Systems)', 2), ('AR - Requested - Further information � Preference order required as submitted multiple 1st prefer applications', 2), ('AR - Requested - Grading scale', 2), ('AR - Requested - Payment of international application fee', 2), ('AR - Reviewed - Advanced Standing', 2), ('AR - Reviewed - Assessment information (Coursework) (1)', 2), ('AR - Reviewed - Current enrolment at the University of Melbourne', 2), ('AR - Reviewed - Official syllabus or subject descriptions (in English)', 2), ('AR - Reviewed - Specialisation (Master of Information Systems)', 2), ('AR - Satisfied - Academic transcripts for prior tertiary studies', 2), ('AR - Satisfied - English language requirements', 2), ('AR - Satisfied - Further information (4)', 2), ('AR - Satisfied - Further information - Syllabus required for Engineering Advanced Standing', 2), ('AR - Satisfied - Requirements for Biomedical / Biomedical with Business specialisations', 2), ('OC - Satisfied - CDGDC transcript authentication for international students', 2), ('PREPARE TO LOCK', 2), ('AR - Created - Credit for previous study', 1), ('AR - Created - Further information (4)', 1), ('AR - Created - Further information - Agent nomination form', 1), ('AR - Created - Further information - Pakistan Applicants require an Agent', 1), ('AR - Created - Further information - Syllabus required for Engineering Advanced Standing', 1), ('AR - Created - Further information 6 semesters worth of results required', 1), ('AR - Created - Is your undergraduate degree from a recognised institution and in the same stream as your intended Master of Engineering program?', 1), ('AR - Created - Passport details', 1), ('AR - Created - Personal statement', 1), ('AR - Created - Requirements for Biomedical / Biomedical with Business specialisations', 1), ('AR - Created - Syllabus requirements', 1), ('AR - Not Satisfied - Appointment of authorised representative', 1), ('AR - Not Satisfied - Credit for previous study', 1), ('AR - Not Satisfied - Curriculum Vitae and professional experience', 1), ('AR - Not Satisfied - Further information (1)', 1), ('AR - Not Satisfied - Official syllabus or subject descriptions (in English)', 1), ('AR - Not Satisfied - Requirements for Biomedical / Biomedical with Business specialisations', 1), ('AR - Requested - Acceptance agreement (International)', 1), ('AR - Requested - English language proficiency', 1), ('AR - Requested - Further information - Pakistan Applicants require an Agent', 1), ('AR - Requested - Further information - Syllabus required for Engineering Advanced Standing', 1), ('AR - Requested - Further information 6 semesters worth of results required', 1), ('AR - Requested - Specialisation (Master of Engineering)', 1), ('AR - Reviewed - Credit for previous study', 1), ('AR - Reviewed - Details of authorised representative', 1), ('AR - Reviewed - Entry points (Master of Information Technology)', 1), ('AR - Reviewed - Full application for Coursework program (1)', 1), ('AR - Reviewed - Further information (1)', 1), ('AR - Reviewed - Further information (2)', 1), ('AR - Reviewed - Overseas Student Health Cover details', 1), ('AR - Reviewed - Requirements for Materials specialisation', 1), ('AR - Reviewed - Specialisation (Master of Information Technology)', 1), ('AR - Reviewed - Sponsorship arrangements', 1), ('AR - Satisfied - Duration of previous degree', 1), ('AR - Satisfied - Employer reference letter', 1), ('AR - Satisfied - Further information (5)', 1), ('AR - Satisfied - Further information - Agent nomination form', 1), ('AR - Satisfied - Further information - Genuine Student Checklist', 1), ('AR - Satisfied - Further information - Transcript translation and original language', 1), ('AR - Satisfied - Personal statement', 1), ('AR - Satisfied - Syllabus requirements for Electrical / Electrical with Business:;;Is your undergraduate degree a 4 year Engineering degree from a Washington Accord Accredited program and in the same stream as your intended Master of Engineering program?', 1), ('Acacdemic - Assessment Decision - Interview Required', 1), ('Acacdemic - Assessment Outcome - Higher Preference Successful', 1), ('Acacdemic - Assessment Outcome - No Outcome Set', 1), ('Assessment Outcome - DO NOT USE', 1), ('Back to Perform Assessment', 1), ('Cancel Referral', 1), ('OC - Awaiting External Response - Evidence of course completion', 1), ('OC - Created - Evidence of work experience', 1), ('OC - Created - Further information (3)', 1), ('OC - Created - Further information - Official Transcripts', 1), ('OC - Created - Payment of international application fee', 1), ('OC - Not Satisfied - English language requirements', 1), ('OC - Requested - CHESICC transcript authentication for international students', 1), ('OC - Requested - Evidence of course completion', 1), ('OC - Reviewed - Evidence of course completion', 1)]\n"
     ]
    }
   ],
   "source": [
    "wd_count = df1_WS2T.groupby('WRKFLW_TSK_MAP_DETAILED').WRKFLW_TSK_MAP_DETAILED.count()\n",
    "wd_dict = dict()\n",
    "for i, v in wd_count.items():\n",
    "    wd_dict[i] = v\n",
    "sorted_wd_dict = sorted(wd_dict.items(), key = lambda x: x[1], reverse = True)\n",
    "print(sorted_wd_dict)"
   ],
   "metadata": {
    "collapsed": false,
    "pycharm": {
     "name": "#%%\n"
    }
   }
  },
  {
   "cell_type": "code",
   "execution_count": 7,
   "outputs": [
    {
     "name": "stdout",
     "output_type": "stream",
     "text": [
      "[('AR - Reviewed - English language proficiency', 7077756.0), ('AR - Created - Syllabus requirements', 6558623.0), ('AR - Reviewed - Details of authorised representative', 5356897.0), ('AR - Satisfied - Further information (5)', 5328823.0), ('AR - Not Satisfied - Credit for previous study', 4149801.0), ('AR - Satisfied - Syllabus requirements for Electrical / Electrical with Business:;;Is your undergraduate degree a 4 year Engineering degree from a Washington Accord Accredited program and in the same stream as your intended Master of Engineering program?', 3655445.0), ('AR - Created - Overseas Student Health Cover details', 3351209.0), ('OC - Requested - CHESICC transcript authentication for international students', 3198443.0), ('Acacdemic - Assessment Decision - Interview Required', 3171533.0), ('AR - Satisfied - CONDITIONAL Acceptance agreement (International)', 3034653.0), ('OC - Not Satisfied - English language requirements', 3020235.0), ('AR - Satisfied - Academic transcripts for prior tertiary studies', 2986777.0), ('Assessment Outcome - Higher Preference Successful', 2967292.0), ('AR - Satisfied - Full application for Coursework program (1)', 2947605.0), ('OC - Created - Payment of international application fee', 2593683.0), ('OC - Satisfied - CHESICC transcript authentication for international students', 2539864.0), ('Cancel Referral', 2185569.0), ('AR - Satisfied - Details of authorised representative', 1936849.0), ('Put Assessment On-Hold', 1611187.0), ('Send for Assessment', 1555690.0), ('AR - Created - Passport details', 1436497.0), ('AR - Satisfied - Payment of international application fee', 1422101.0), ('AR - Satisfied - Specialisation (Master of Information Technology)', 1395119.0), ('AR - Satisfied - Duration of previous degree', 1388190.0), ('AR - Satisfied - Academic results for prior tertiary studies', 1322902.0), ('End My Assessment', 1309645.0), ('AR - Satisfied - Appointment of authorised representative', 1308349.0), ('OC - Satisfied - Evidence of course completion', 1301563.0), ('AR - Created - Syllabus (Melbourne School of Engineering)', 1275248.0), ('OC - Requested - English language requirements', 1222387.0), ('AR - Requested - English language proficiency', 1217295.0), ('AR - Reviewed - Credit for previous study', 1217197.0), ('AR - Created - Acceptance agreement (International)', 1213016.0), ('AR - Created - CONDITIONAL Acceptance agreement (International)', 1212760.0), ('Put Triage On-Hold', 1178167.0), ('AR - Satisfied - Credit for previous study', 1096773.0), ('AR - Satisfied - University of Melbourne Statement of Results / transcript', 1090878.0), ('AR - Created - Evidence of course completion', 1065159.0), ('OC - Satisfied - English language requirements', 991401.0), ('AR - Satisfied - English language proficiency', 942064.0), ('OC - Created - Further information (2)', 913757.0), ('AR - Reviewed - Further information (1)', 862617.0), ('OC - Created - UMELBP (H3)', 846970.0), ('Acacdemic - Assessment Decision - No Decision', 844456.0), ('OC - Reviewed - English language requirements', 835607.0), ('AR - Satisfied - English language requirements', 815029.0), ('OC - Created - English language requirements', 808555.0), ('AR - Satisfied - Assessment information (Coursework) (1)', 788605.0), ('Assessment Outcome - Ineligible / Withdrawn', 763774.0), ('AR - Not Satisfied - Appointment of authorised representative', 736263.0), ('Release Assessment Hold', 697704.0), ('AR - Satisfied - Assessment information (Coursework) (2)', 693224.0), ('AR - Satisfied - Overseas Student Health Cover details', 681215.0), ('AR - Satisfied - Official syllabus or subject descriptions (in English)', 670169.0), ('Assessment Decision - Qualified', 638661.0), ('AR - Satisfied - Advanced Standing', 634626.0), ('Assessment Decision - System Assessed', 633345.0), ('AR - Created - Assessment information (Coursework) (1)', 622920.0), ('AR - Created - Payment of international application fee', 605104.0), ('AR - Satisfied - Entry points (Master of Information Technology)', 594776.0), ('Assessment Decision - No Decision', 585622.0), ('AR - Satisfied - Transcript � My eQuals', 577799.0), ('AR - Reviewed - Appointment of authorised representative', 554404.0), ('Acacdemic - Assessment Decision - Not Qualified', 553136.0), ('AR - Not Satisfied - English language proficiency', 535347.0), ('OC - Satisfied - CDGDC transcript authentication for international students', 522495.0), ('AR - Satisfied - Requirements for Biomedical / Biomedical with Business specialisations', 492239.0), ('AR - Satisfied - Curriculum Vitae', 463284.0), ('OC - Created - CDGDC transcript authentication for international students', 451938.0), ('OC - Created - Further information - Official Transcripts', 442368.0), ('Acacdemic - Assessment Outcome - No Outcome Set', 432408.0), ('Acacdemic - Assessment Decision - Qualified', 414986.0), ('AR - Satisfied - Current enrolment at the University of Melbourne', 385719.0), ('Provide Response', 376303.0), ('AR - Created - Assessment information (Coursework) (2)', 372888.0), ('AR - Created - Further information (1)', 350549.0), ('AR - Satisfied - Specialisation (Master of Engineering)', 349513.0), ('AR - Satisfied - Sponsorship arrangements', 344236.0), ('OC - Created - Further information (1)', 328189.0), ('Back to Triage', 321460.0), ('AR - Created - Grading scale', 304039.0), ('AR - Satisfied - Further information (3)', 301477.0), ('OC - Not Satisfied - Evidence of course completion', 289696.0), ('AR - Satisfied - Entry points (Master of Information Systems)', 284515.0), ('AR - Satisfied - Further information (1)', 282986.0), ('AR - Satisfied - Grading scale', 259008.0), ('AR - Created - Further information - Agent nomination form', 252668.0), ('OC - Reviewed - CHESICC transcript authentication for international students', 246080.0), ('AR - Requested - Assessment information (Coursework) (1)', 218589.0), ('AR - Created - Further information (2)', 213637.0), ('AR - Created - Further information (3)', 210191.0), ('OC - Created - Evidence of course completion', 205967.0), ('Create Offer', 204283.0), ('AR - Satisfied - Acceptance agreement (International)', 202728.0), ('OC - Created - CHESICC transcript authentication for international students', 198239.0), ('AR - Created - Specialisation (Master of Engineering)', 189772.0), ('AR - Satisfied - Specialisation (Master of Information Systems)', 172994.0), ('Assessment Decision - Not Qualified', 145404.0), ('AR - Requested - Further information (1)', 145082.0), ('AR - Requested - Official syllabus or subject descriptions (in English)', 139251.0), ('Send Referral', 135393.0), ('AR - Created - University of Melbourne Statement of Results / transcript', 131118.0), ('AR - Satisfied - Curriculum Vitae and professional experience', 118697.0), ('AR - Not Satisfied - Academic results for prior tertiary studies', 115043.0), ('Assessment Decision - Not Assessed', 108734.0), ('AR - Satisfied - Advanced standing application', 93632.0), ('AR - Satisfied - Further information (2)', 91727.0), ('Close Referral', 78767.0), ('AR - Satisfied - Further information � Preference order required as submitted multiple 1st prefer applications', 76456.0), ('AR - Created - Further information � Preference order required as submitted multiple 1st prefer applications', 72829.0), ('AR - Satisfied - Syllabus (Melbourne School of Engineering)', 65587.0), ('AR - Created - Specialisation (Master of Information Systems)', 63057.0), ('AR - Created - Advanced standing application', 47325.0), ('AR - Reviewed - Advanced Standing', 41279.0), ('AR - Requested - Academic results for prior tertiary studies', 38145.0), ('AR - Satisfied - Further information (4)', 37624.0), ('AR - Reviewed - Academic results for prior tertiary studies', 36649.0), ('Release Triage Hold', 26249.0), ('AR - Not Satisfied - Official syllabus or subject descriptions (in English)', 20226.0), ('AR - Satisfied - Employer reference letter', 5886.0), ('AR - Reviewed - Requirements for Materials specialisation', 1180.0), ('AR - Reviewed - Entry points (Master of Information Systems)', 970.0), ('AR - Reviewed - Current enrolment at the University of Melbourne', 631.0), ('AR - Requested - Further information - Pakistan Applicants require an Agent', 518.0), ('AR - Created - Full application for Coursework program (1)', 296.0), ('AR - Satisfied - Transcript � CHESICC', 266.0), ('AR - Reviewed - Entry points (Master of Information Technology)', 266.0), ('AR - Created - Further information 6 semesters worth of results required', 259.0), ('OC - Created - Evidence of work experience', 151.0), ('AR - Not Satisfied - Curriculum Vitae and professional experience', 135.0), ('AR - Not Satisfied - Requirements for Biomedical / Biomedical with Business specialisations', 124.0), ('OC - Created - Further information (3)', 103.0), ('OC - Awaiting External Response - Evidence of course completion', 93.0), ('AR - Reviewed - Official syllabus or subject descriptions (in English)', 92.0), ('AR - Created - Requirements for Biomedical / Biomedical with Business specialisations', 81.0), ('AR - Created - Official syllabus or subject descriptions (in English)', 79.0), ('AR - Satisfied - Personal statement', 72.0), ('AR - Requested - Entry points (Master of Information Systems)', 65.0), ('AR - Created - Personal statement', 65.0), ('AR - Created - Further information (4)', 49.0), ('Acacdemic - Assessment Outcome - Not Successful', 48.0), ('AR - Requested - Credit for previous study', 46.0), ('AR - Reviewed - Specialisation (Master of Information Systems)', 45.0), ('AR - Requested - Appointment of authorised representative', 44.0), ('AR - Created - Further information - Transcript translation and original language', 40.0), ('AR - Requested - Payment of international application fee', 37.0), ('AR - Requested - Further information (3)', 30.0), ('Back to Perform Assessment', 27.0), ('AR - Created - Credit for previous study - non-University of Melbourne students', 26.0), ('AR - Reviewed - Specialisation (Master of Information Technology)', 25.0), ('AR - Satisfied - Further information - Syllabus required for Engineering Advanced Standing', 22.0), ('AR - Reviewed - Assessment information (Coursework) (1)', 21.0), ('AR - Requested - Specialisation (Master of Engineering)', 19.0), ('AR - Requested - Further information (2)', 19.0), ('AR - Requested - Further information � Preference order required as submitted multiple 1st prefer applications', 19.0), ('AR - Reviewed - Sponsorship arrangements', 18.0), ('AR - Created - Entry points (Master of Information Systems)', 16.0), ('AR - Created - Is your undergraduate degree from a recognised institution and in the same stream as your intended Master of Engineering program?', 14.0), ('AR - Created - Curriculum Vitae', 12.0), ('AR - Created - Credit for previous study', 12.0), ('Acacdemic - Assessment Outcome - Successful', 11.0), ('AR - Satisfied - Evidence of course completion', 11.0), ('PREPARE TO LOCK', 10.0), ('AR - Created - Further information - Syllabus required for Engineering Advanced Standing', 9.0), ('Assessment Outcome - DO NOT USE', 9.0), ('AR - Created - Further information - Pakistan Applicants require an Agent', 9.0), ('AR - Satisfied - Further information - Transcript translation and original language', 6.0), ('AR - Satisfied - Further information - Genuine Student Checklist', 5.0), ('Assessment Outcome - Successful', 0.0), ('Assessment Outcome - Not Successful', 0.0), ('OC - Requested - Evidence of course completion', 0.0), ('OC - Satisfied - UMELBP (H3)', 0.0), ('WITHDRAW & LOCK', 0.0), ('AR - Not Satisfied - Further information (1)', 0.0), ('AR - Requested - Further information - Syllabus required for Engineering Advanced Standing', 0.0), ('AR - Reviewed - Overseas Student Health Cover details', 0.0), ('AR - Reviewed - Full application for Coursework program (1)', 0.0), ('AR - Requested - Further information 6 semesters worth of results required', 0.0), ('AR - Requested - Grading scale', 0.0), ('OC - Reviewed - Evidence of course completion', 0.0), ('AR - Satisfied - Further information - Agent nomination form', 0.0), ('Acacdemic - Assessment Outcome - Higher Preference Successful', 0.0), ('AR - Requested - Acceptance agreement (International)', 0.0), ('AR - Reviewed - Further information (2)', 0.0)]\n"
     ]
    }
   ],
   "source": [
    "list = df1_WS2T.WRKFLW_TSK_MAP_DETAILED.unique()\n",
    "avg_time_dict = dict()\n",
    "for key in list :\n",
    "    df_slides = df1_WS2T[df1_WS2T['WRKFLW_TSK_MAP_DETAILED'] == key]\n",
    "    sum = df_slides['time_used_second'].sum()\n",
    "    c = len(df_slides)\n",
    "    avg = sum//c\n",
    "    avg_time_dict[key] = avg\n",
    "\n",
    "sorted_avg_time_dict = sorted(avg_time_dict.items(),key = lambda x: x[1], reverse = True)\n",
    "print(sorted_avg_time_dict)"
   ],
   "metadata": {
    "collapsed": false,
    "pycharm": {
     "name": "#%%\n"
    }
   }
  },
  {
   "cell_type": "code",
   "execution_count": 8,
   "outputs": [],
   "source": [
    "numOfWorkflowProcesses = df1_WS2T.groupby('CASE_ID').CASE_ID.count()\n",
    "\n",
    "count_dic=dict()\n",
    "for i,v in numOfWorkflowProcesses.items():\n",
    "    if count_dic.get(v) is None:\n",
    "        count_dic[v]=[]\n",
    "        count_dic[v].append(i)\n",
    "    else:\n",
    "        count_dic[v].append(i)\n",
    "#count_dic\n",
    "count_dic = dict(sorted(count_dic.items()))"
   ],
   "metadata": {
    "collapsed": false,
    "pycharm": {
     "name": "#%%\n"
    }
   }
  },
  {
   "cell_type": "code",
   "execution_count": 9,
   "outputs": [],
   "source": [
    "len_list=[]\n",
    "for key in count_dic.keys():\n",
    "    len_list.append(len(count_dic[key]))"
   ],
   "metadata": {
    "collapsed": false,
    "pycharm": {
     "name": "#%%\n"
    }
   }
  },
  {
   "cell_type": "code",
   "execution_count": 10,
   "outputs": [],
   "source": [
    "def strfdelta(tdelta, fmt):\n",
    "    d=dict()\n",
    "    d[\"days\"],rem1 = divmod(tdelta,60*60*24)\n",
    "    d[\"hours\"], rem2 = divmod(rem1, 3600)\n",
    "    d[\"minutes\"], d[\"seconds\"] = divmod(rem2, 60)\n",
    "    return fmt.format(**d)"
   ],
   "metadata": {
    "collapsed": false,
    "pycharm": {
     "name": "#%%\n"
    }
   }
  },
  {
   "cell_type": "code",
   "execution_count": 11,
   "outputs": [],
   "source": [
    "list_avgtime_per_key =[]\n",
    "list_sumtime_row = []\n",
    "for key in count_dic.keys():\n",
    "    id_list = count_dic[key]\n",
    "    list_sumtime_person = 0\n",
    "    for id in id_list:\n",
    "        df = df1_WS2T[df1_WS2T['CASE_ID']== id]\n",
    "        tsum = df['time_used_second'].sum()\n",
    "        list_sumtime_person+=tsum\n",
    "    list_avgtime_per_key.append(int((list_sumtime_person/len(count_dic[key]))))\n",
    "    list_sumtime_row.append(list_sumtime_person)\n",
    "list_avgtime_per_key_str = []\n",
    "for i in list_avgtime_per_key:\n",
    "    list_avgtime_per_key_str.append(strfdelta(i,\"{days} days {hours} hours {minutes} minutes {seconds} seconds\"))"
   ],
   "metadata": {
    "collapsed": false,
    "pycharm": {
     "name": "#%%\n"
    }
   }
  },
  {
   "cell_type": "code",
   "execution_count": 12,
   "outputs": [],
   "source": [
    "list_mediantime_per_key = []\n",
    "for key in count_dic.keys():\n",
    "    id_list = count_dic[key]\n",
    "    list_sumtime_per_person = []\n",
    "    for id in id_list:\n",
    "        df = df1_WS2T[df1_WS2T['CASE_ID']== id]\n",
    "        tsum = df['time_used_second'].sum()\n",
    "        list_sumtime_per_person.append(tsum)\n",
    "    list_mediantime_per_key.append(numpy.median(list_sumtime_per_person))\n",
    "\n",
    "list_mediantime_per_key_str = []\n",
    "for i in list_mediantime_per_key:\n",
    "    list_mediantime_per_key_str.append(strfdelta(i,\"{days} days {hours} hours {minutes} minutes {seconds} seconds\"))"
   ],
   "metadata": {
    "collapsed": false,
    "pycharm": {
     "name": "#%%\n"
    }
   }
  },
  {
   "cell_type": "code",
   "execution_count": 13,
   "outputs": [],
   "source": [
    "list_percent_reach_end = []\n",
    "for key in count_dic.keys():\n",
    "    id_list = count_dic[key]\n",
    "    count_df_end_step = 0\n",
    "    count_df_id = 0\n",
    "    for id in id_list:\n",
    "        df_id = df1_WS2T[df1_WS2T['CASE_ID']== id]\n",
    "        df_end_step = df_id[df_id['WRKFLW_TSK_MAP_GROUPED'].isin(['Assessment Outcome - Successful','Assessment Outcome - Not Successful']) ]\n",
    "        count_df_id += df_id['CASE_ID'].nunique()\n",
    "        count_df_end_step += df_end_step['CASE_ID'].nunique()\n",
    "    list_percent_reach_end.append(str(round((count_df_end_step/count_df_id)*100,2))+ \"%\")"
   ],
   "metadata": {
    "collapsed": false,
    "pycharm": {
     "name": "#%%\n"
    }
   }
  },
  {
   "cell_type": "code",
   "execution_count": 14,
   "outputs": [],
   "source": [
    "list_step_per_key = []\n",
    "for key in count_dic.keys():\n",
    "    id_list = count_dic[key]\n",
    "    list_step = set()\n",
    "    for id in id_list:\n",
    "        df = df1_WS2T[df1_WS2T['CASE_ID']== id]\n",
    "        for index, row in df.iterrows():\n",
    "            list_step.add(row['WRKFLW_TSK_MAP_GROUPED'])\n",
    "    list_step_per_key.append(list_step)"
   ],
   "metadata": {
    "collapsed": false,
    "pycharm": {
     "name": "#%%\n"
    }
   }
  },
  {
   "cell_type": "code",
   "execution_count": 15,
   "outputs": [],
   "source": [
    "from collections import Counter\n",
    "import collections, functools, operator\n",
    "list_step_sum_time_per_key = []\n",
    "list_step_count_per_key = []\n",
    "list_step_ave_time_per_key = []\n",
    "for key in count_dic.keys():\n",
    "    id_list = count_dic[key]\n",
    "    list_step = []\n",
    "    step_time_list = []\n",
    "    for id in id_list:\n",
    "        df = df1_WS2T[df1_WS2T['CASE_ID']== id]\n",
    "        step_time = dict(zip(df.WRKFLW_TSK_MAP_GROUPED, df.time_used_second))\n",
    "        step_time_list.append(step_time)\n",
    "        for index, row in df.iterrows():\n",
    "            list_step.append(row['WRKFLW_TSK_MAP_GROUPED'])\n",
    "\n",
    "    step_sum_time = dict(functools.reduce(operator.add,\n",
    "         map(collections.Counter, step_time_list)))\n",
    "\n",
    "    dict_list_step=dict(Counter(list_step))\n",
    "\n",
    "    step_ave_time = {key: strfdelta(step_sum_time[key] // dict_list_step.get(key, 0),\"{days} days {hours} hours {minutes} minutes {seconds} seconds\")\n",
    "                        for key in step_sum_time.keys()}\n",
    "\n",
    "    sort_step_sum_time = sorted(step_sum_time.items(),key = lambda x: x[1], reverse = True)\n",
    "    list_step_sum_time_per_key.append(sort_step_sum_time)\n",
    "\n",
    "    sort_dict_list_step = sorted(dict_list_step.items(),key = lambda x: x[1], reverse = True)\n",
    "    list_step_count_per_key.append(sort_dict_list_step[:6])\n",
    "\n",
    "    sort_step_ave_time = sorted(step_ave_time.items(),key = lambda x: x[1], reverse = True)\n",
    "    list_step_ave_time_per_key.append(sort_step_ave_time)"
   ],
   "metadata": {
    "collapsed": false,
    "pycharm": {
     "name": "#%%\n"
    }
   }
  },
  {
   "cell_type": "code",
   "execution_count": 16,
   "outputs": [
    {
     "data": {
      "text/plain": "   Number of Workflow processes in this Workflow Segment  Number of cases  \\\n0                                                  1                  835   \n1                                                  2                  854   \n2                                                  3                 2807   \n3                                                  4                 2170   \n4                                                  5                 1568   \n5                                                  6                  779   \n6                                                  7                  431   \n7                                                  8                  231   \n8                                                  9                  158   \n9                                                 10                  125   \n\n        average time for workflow segment  \\\n0      0 days 0 hours 0 minutes 0 seconds   \n1   26 days 15 hours 4 minutes 24 seconds   \n2   30 days 13 hours 9 minutes 23 seconds   \n3   39 days 22 hours 5 minutes 52 seconds   \n4  45 days 20 hours 41 minutes 49 seconds   \n5   53 days 4 hours 43 minutes 27 seconds   \n6   67 days 8 hours 50 minutes 12 seconds   \n7   62 days 20 hours 36 minutes 2 seconds   \n8   60 days 2 hours 59 minutes 49 seconds   \n9   85 days 19 hours 49 minutes 3 seconds   \n\n                 median time for workflow segment  \\\n0      0.0 days 0.0 hours 0.0 minutes 0.0 seconds   \n1   15.0 days 18.0 hours 21.0 minutes 6.0 seconds   \n2  18.0 days 22.0 hours 25.0 minutes 54.0 seconds   \n3   27.0 days 9.0 hours 52.0 minutes 17.5 seconds   \n4   30.0 days 2.0 hours 15.0 minutes 11.5 seconds   \n5  36.0 days 22.0 hours 52.0 minutes 12.0 seconds   \n6   45.0 days 2.0 hours 35.0 minutes 44.0 seconds   \n7  41.0 days 21.0 hours 58.0 minutes 37.0 seconds   \n8  42.0 days 10.0 hours 59.0 minutes 46.5 seconds   \n9   48.0 days 6.0 hours 12.0 minutes 16.0 seconds   \n\n  percentage of cases reaching to end of workflow segment  \\\n0                                               0.0%        \n1                                             62.65%        \n2                                             91.09%        \n3                                             92.07%        \n4                                             91.33%        \n5                                             90.12%        \n6                                             80.74%        \n7                                             87.01%        \n8                                             87.34%        \n9                                              86.4%        \n\n             Num of Occurrences per step(descending)  \\\n0                       [(Send for Assessment, 835)]   \n1  [(Send for Assessment, 855), (Assessment Outco...   \n2  [(Send for Assessment, 2809), (Assessment Outc...   \n3  [(Send for Assessment, 2180), (Assessment Deci...   \n4  [(Send for Assessment, 1594), (Assessment Deci...   \n5  [(Assessment Decision - Qualified, 865), (Send...   \n6  [(Assessment Decision - Qualified, 509), (Send...   \n7  [(Send for Assessment, 298), (Assessment Decis...   \n8  [(Assessment Decision - Qualified, 223), (Send...   \n9  [(Assessment Decision - Qualified, 187), (Send...   \n\n            Average time spends per step(descending)  \\\n0                                                 []   \n1  [(Send for Assessment, 26.0 days 14.0 hours 19...   \n2  [(AR - Satisfied - specialisation, 94.0 days 2...   \n3  [(AR - Created - further information, 8.0 days...   \n4  [(AR - Reviewed - further information, 9.0 day...   \n5  [(AR - Satisfied - work experience, 8.0 days 7...   \n6  [(Assessment Outcome - Ineligible / Withdrawn,...   \n7  [(Send for Assessment, 9.0 days 14.0 hours 59....   \n8  [(Release Assessment Hold, 8.0 days 4.0 hours ...   \n9  [(Acacdemic - Assessment Decision - No Decisio...   \n\n   average time for workflow segment(seconds)  \\\n0                                           0   \n1                                     2300664   \n2                                     2639363   \n3                                     3449152   \n4                                     3962509   \n5                                     4596207   \n6                                     5820612   \n7                                     5430962   \n8                                     5194789   \n9                                     7415343   \n\n   sum time for workflow segment(seconds)  \n0                            0.000000e+00  \n1                            1.964768e+09  \n2                            7.408693e+09  \n3                            7.484660e+09  \n4                            6.213215e+09  \n5                            3.580446e+09  \n6                            2.508684e+09  \n7                            1.254552e+09  \n8                            8.207768e+08  \n9                            9.269179e+08  ",
      "text/html": "<div>\n<style scoped>\n    .dataframe tbody tr th:only-of-type {\n        vertical-align: middle;\n    }\n\n    .dataframe tbody tr th {\n        vertical-align: top;\n    }\n\n    .dataframe thead th {\n        text-align: right;\n    }\n</style>\n<table border=\"1\" class=\"dataframe\">\n  <thead>\n    <tr style=\"text-align: right;\">\n      <th></th>\n      <th>Number of Workflow processes in this Workflow Segment</th>\n      <th>Number of cases</th>\n      <th>average time for workflow segment</th>\n      <th>median time for workflow segment</th>\n      <th>percentage of cases reaching to end of workflow segment</th>\n      <th>Num of Occurrences per step(descending)</th>\n      <th>Average time spends per step(descending)</th>\n      <th>average time for workflow segment(seconds)</th>\n      <th>sum time for workflow segment(seconds)</th>\n    </tr>\n  </thead>\n  <tbody>\n    <tr>\n      <th>0</th>\n      <td>1</td>\n      <td>835</td>\n      <td>0 days 0 hours 0 minutes 0 seconds</td>\n      <td>0.0 days 0.0 hours 0.0 minutes 0.0 seconds</td>\n      <td>0.0%</td>\n      <td>[(Send for Assessment, 835)]</td>\n      <td>[]</td>\n      <td>0</td>\n      <td>0.000000e+00</td>\n    </tr>\n    <tr>\n      <th>1</th>\n      <td>2</td>\n      <td>854</td>\n      <td>26 days 15 hours 4 minutes 24 seconds</td>\n      <td>15.0 days 18.0 hours 21.0 minutes 6.0 seconds</td>\n      <td>62.65%</td>\n      <td>[(Send for Assessment, 855), (Assessment Outco...</td>\n      <td>[(Send for Assessment, 26.0 days 14.0 hours 19...</td>\n      <td>2300664</td>\n      <td>1.964768e+09</td>\n    </tr>\n    <tr>\n      <th>2</th>\n      <td>3</td>\n      <td>2807</td>\n      <td>30 days 13 hours 9 minutes 23 seconds</td>\n      <td>18.0 days 22.0 hours 25.0 minutes 54.0 seconds</td>\n      <td>91.09%</td>\n      <td>[(Send for Assessment, 2809), (Assessment Outc...</td>\n      <td>[(AR - Satisfied - specialisation, 94.0 days 2...</td>\n      <td>2639363</td>\n      <td>7.408693e+09</td>\n    </tr>\n    <tr>\n      <th>3</th>\n      <td>4</td>\n      <td>2170</td>\n      <td>39 days 22 hours 5 minutes 52 seconds</td>\n      <td>27.0 days 9.0 hours 52.0 minutes 17.5 seconds</td>\n      <td>92.07%</td>\n      <td>[(Send for Assessment, 2180), (Assessment Deci...</td>\n      <td>[(AR - Created - further information, 8.0 days...</td>\n      <td>3449152</td>\n      <td>7.484660e+09</td>\n    </tr>\n    <tr>\n      <th>4</th>\n      <td>5</td>\n      <td>1568</td>\n      <td>45 days 20 hours 41 minutes 49 seconds</td>\n      <td>30.0 days 2.0 hours 15.0 minutes 11.5 seconds</td>\n      <td>91.33%</td>\n      <td>[(Send for Assessment, 1594), (Assessment Deci...</td>\n      <td>[(AR - Reviewed - further information, 9.0 day...</td>\n      <td>3962509</td>\n      <td>6.213215e+09</td>\n    </tr>\n    <tr>\n      <th>5</th>\n      <td>6</td>\n      <td>779</td>\n      <td>53 days 4 hours 43 minutes 27 seconds</td>\n      <td>36.0 days 22.0 hours 52.0 minutes 12.0 seconds</td>\n      <td>90.12%</td>\n      <td>[(Assessment Decision - Qualified, 865), (Send...</td>\n      <td>[(AR - Satisfied - work experience, 8.0 days 7...</td>\n      <td>4596207</td>\n      <td>3.580446e+09</td>\n    </tr>\n    <tr>\n      <th>6</th>\n      <td>7</td>\n      <td>431</td>\n      <td>67 days 8 hours 50 minutes 12 seconds</td>\n      <td>45.0 days 2.0 hours 35.0 minutes 44.0 seconds</td>\n      <td>80.74%</td>\n      <td>[(Assessment Decision - Qualified, 509), (Send...</td>\n      <td>[(Assessment Outcome - Ineligible / Withdrawn,...</td>\n      <td>5820612</td>\n      <td>2.508684e+09</td>\n    </tr>\n    <tr>\n      <th>7</th>\n      <td>8</td>\n      <td>231</td>\n      <td>62 days 20 hours 36 minutes 2 seconds</td>\n      <td>41.0 days 21.0 hours 58.0 minutes 37.0 seconds</td>\n      <td>87.01%</td>\n      <td>[(Send for Assessment, 298), (Assessment Decis...</td>\n      <td>[(Send for Assessment, 9.0 days 14.0 hours 59....</td>\n      <td>5430962</td>\n      <td>1.254552e+09</td>\n    </tr>\n    <tr>\n      <th>8</th>\n      <td>9</td>\n      <td>158</td>\n      <td>60 days 2 hours 59 minutes 49 seconds</td>\n      <td>42.0 days 10.0 hours 59.0 minutes 46.5 seconds</td>\n      <td>87.34%</td>\n      <td>[(Assessment Decision - Qualified, 223), (Send...</td>\n      <td>[(Release Assessment Hold, 8.0 days 4.0 hours ...</td>\n      <td>5194789</td>\n      <td>8.207768e+08</td>\n    </tr>\n    <tr>\n      <th>9</th>\n      <td>10</td>\n      <td>125</td>\n      <td>85 days 19 hours 49 minutes 3 seconds</td>\n      <td>48.0 days 6.0 hours 12.0 minutes 16.0 seconds</td>\n      <td>86.4%</td>\n      <td>[(Assessment Decision - Qualified, 187), (Send...</td>\n      <td>[(Acacdemic - Assessment Decision - No Decisio...</td>\n      <td>7415343</td>\n      <td>9.269179e+08</td>\n    </tr>\n  </tbody>\n</table>\n</div>"
     },
     "execution_count": 16,
     "metadata": {},
     "output_type": "execute_result"
    }
   ],
   "source": [
    "s1_t2=pd.DataFrame({'Number of Workflow processes in this Workflow Segment':count_dic.keys(),'Number of cases':len_list, 'average time for workflow segment':list_avgtime_per_key_str,'median time for workflow segment':list_mediantime_per_key_str,'percentage of cases reaching to end of workflow segment':list_percent_reach_end})\n",
    "s1_t2['Num of Occurrences per step(descending)'] = list_step_count_per_key\n",
    "s1_t2['Average time spends per step(descending)'] = list_step_ave_time_per_key\n",
    "s1_t2['average time for workflow segment(seconds)'] = list_avgtime_per_key\n",
    "s1_t2['sum time for workflow segment(seconds)'] = list_sumtime_row\n",
    "s1_t2.head(n=10)\n"
   ],
   "metadata": {
    "collapsed": false,
    "pycharm": {
     "name": "#%%\n"
    }
   }
  },
  {
   "cell_type": "code",
   "execution_count": 17,
   "outputs": [],
   "source": [
    "s1_t2.to_csv('engineering_OF_segment1_workflowS2_table.csv', index=False)\n",
    "\n",
    "\n",
    "\n",
    "\n",
    "\n",
    "\n",
    "\n",
    "\n",
    "\n"
   ],
   "metadata": {
    "collapsed": false,
    "pycharm": {
     "name": "#%%\n"
    }
   }
  }
 ],
 "metadata": {
  "kernelspec": {
   "name": "python3",
   "language": "python",
   "display_name": "Python 3"
  },
  "language_info": {
   "codemirror_mode": {
    "name": "ipython",
    "version": 2
   },
   "file_extension": ".py",
   "mimetype": "text/x-python",
   "name": "python",
   "nbconvert_exporter": "python",
   "pygments_lexer": "ipython2",
   "version": "2.7.6"
  }
 },
 "nbformat": 4,
 "nbformat_minor": 0
}