{
 "cells": [
  {
   "cell_type": "code",
   "execution_count": 1,
   "metadata": {
    "collapsed": true
   },
   "outputs": [],
   "source": [
    "import pandas as pd\n",
    "import numpy\n",
    "from __future__ import division"
   ]
  },
  {
   "cell_type": "code",
   "execution_count": 2,
   "outputs": [
    {
     "name": "stderr",
     "output_type": "stream",
     "text": [
      "/Users/asteriag/opt/anaconda3/envs/pythonProject/lib/python2.7/site-packages/IPython/core/interactiveshell.py:2714: DtypeWarning: Columns (37) have mixed types. Specify dtype option on import or set low_memory=False.\n",
      "  interactivity=interactivity, compiler=compiler, result=result)\n"
     ]
    }
   ],
   "source": [
    "df1_WS4T = pd.read_csv(\"/Users/asteriag/Desktop/DATASCIENCEPROJECT_WORKFLOW/pythonProject/segment1_WS4_has_duration.csv\")"
   ],
   "metadata": {
    "collapsed": false,
    "pycharm": {
     "name": "#%%\n"
    }
   }
  },
  {
   "cell_type": "code",
   "execution_count": 3,
   "outputs": [
    {
     "data": {
      "text/plain": "                 CASE_ID WRKFLW_TSK_MAP_GROUPED WRKFLW_TSK_MAP_DETAILED  \\\n0  1079339|441319|682219          Release Offer           Release Offer   \n\n      PATH_CRDATETIME ITEM_CRUSER WRKFLW_ORG_TYPE_CRUSER  STATUS_ORDER  \\\n0  11/5/2019 14:07:56   ATKINSONM                Faculty            16   \n\n  LATEST_STATUS   WRKFLW_PROCESS                             QUERY_PART  ...  \\\n0             N  3b. Offer stage  Part 2 - Application Line ID Workflow  ...   \n\n  SPK_CAT_TYPE_CD  BROAD_COURSE_LEVEL   DEGREETYPE  \\\n0             MCW                HDCW  Full Degree   \n\n   LIABILITY_CATEGORY_CD_RECODE  ORIG_LIABILITY_CATEGORY_CD_RECODE  \\\n0                            OF                                 OF   \n\n  OFFER_RELEASED_FG OFFER_OUTCOME_CD OFFER_CONDITIONS  \\\n0                 Y             $DEF                Y   \n\n                           time_used_str  time_used_second  \n0  46 days 23 hours 34 minutes 3 seconds         4059243.0  \n\n[1 rows x 58 columns]",
      "text/html": "<div>\n<style scoped>\n    .dataframe tbody tr th:only-of-type {\n        vertical-align: middle;\n    }\n\n    .dataframe tbody tr th {\n        vertical-align: top;\n    }\n\n    .dataframe thead th {\n        text-align: right;\n    }\n</style>\n<table border=\"1\" class=\"dataframe\">\n  <thead>\n    <tr style=\"text-align: right;\">\n      <th></th>\n      <th>CASE_ID</th>\n      <th>WRKFLW_TSK_MAP_GROUPED</th>\n      <th>WRKFLW_TSK_MAP_DETAILED</th>\n      <th>PATH_CRDATETIME</th>\n      <th>ITEM_CRUSER</th>\n      <th>WRKFLW_ORG_TYPE_CRUSER</th>\n      <th>STATUS_ORDER</th>\n      <th>LATEST_STATUS</th>\n      <th>WRKFLW_PROCESS</th>\n      <th>QUERY_PART</th>\n      <th>...</th>\n      <th>SPK_CAT_TYPE_CD</th>\n      <th>BROAD_COURSE_LEVEL</th>\n      <th>DEGREETYPE</th>\n      <th>LIABILITY_CATEGORY_CD_RECODE</th>\n      <th>ORIG_LIABILITY_CATEGORY_CD_RECODE</th>\n      <th>OFFER_RELEASED_FG</th>\n      <th>OFFER_OUTCOME_CD</th>\n      <th>OFFER_CONDITIONS</th>\n      <th>time_used_str</th>\n      <th>time_used_second</th>\n    </tr>\n  </thead>\n  <tbody>\n    <tr>\n      <th>0</th>\n      <td>1079339|441319|682219</td>\n      <td>Release Offer</td>\n      <td>Release Offer</td>\n      <td>11/5/2019 14:07:56</td>\n      <td>ATKINSONM</td>\n      <td>Faculty</td>\n      <td>16</td>\n      <td>N</td>\n      <td>3b. Offer stage</td>\n      <td>Part 2 - Application Line ID Workflow</td>\n      <td>...</td>\n      <td>MCW</td>\n      <td>HDCW</td>\n      <td>Full Degree</td>\n      <td>OF</td>\n      <td>OF</td>\n      <td>Y</td>\n      <td>$DEF</td>\n      <td>Y</td>\n      <td>46 days 23 hours 34 minutes 3 seconds</td>\n      <td>4059243.0</td>\n    </tr>\n  </tbody>\n</table>\n<p>1 rows × 58 columns</p>\n</div>"
     },
     "execution_count": 3,
     "metadata": {},
     "output_type": "execute_result"
    }
   ],
   "source": [
    "df1_WS4T.head(n=1)"
   ],
   "metadata": {
    "collapsed": false,
    "pycharm": {
     "name": "#%%\n"
    }
   }
  },
  {
   "cell_type": "code",
   "execution_count": 4,
   "outputs": [],
   "source": [
    "numOfWorkflowProcesses = df1_WS4T.groupby('CASE_ID').CASE_ID.count()\n",
    "\n",
    "count_dic=dict()\n",
    "for i,v in numOfWorkflowProcesses.items():\n",
    "    if count_dic.get(v) is None:\n",
    "        count_dic[v]=[]\n",
    "        count_dic[v].append(i)\n",
    "    else:\n",
    "        count_dic[v].append(i)\n",
    "#count_dic\n"
   ],
   "metadata": {
    "collapsed": false,
    "pycharm": {
     "name": "#%%\n"
    }
   }
  },
  {
   "cell_type": "code",
   "execution_count": 5,
   "outputs": [],
   "source": [
    "len_list=[]\n",
    "for key in count_dic.keys():\n",
    "    len_list.append(len(count_dic[key]))"
   ],
   "metadata": {
    "collapsed": false,
    "pycharm": {
     "name": "#%%\n"
    }
   }
  },
  {
   "cell_type": "code",
   "execution_count": 6,
   "outputs": [],
   "source": [
    "def strfdelta(tdelta, fmt):\n",
    "    d=dict()\n",
    "    d[\"days\"],rem1 = divmod(tdelta,60*60*24)\n",
    "    d[\"hours\"], rem2 = divmod(rem1, 3600)\n",
    "    d[\"minutes\"], d[\"seconds\"] = divmod(rem2, 60)\n",
    "    return fmt.format(**d)"
   ],
   "metadata": {
    "collapsed": false,
    "pycharm": {
     "name": "#%%\n"
    }
   }
  },
  {
   "cell_type": "code",
   "execution_count": 7,
   "outputs": [],
   "source": [
    "list_avgtime_per_key =[]\n",
    "for key in count_dic.keys():\n",
    "    id_list = count_dic[key]\n",
    "    list_sumtime_person = 0\n",
    "    for id in id_list:\n",
    "        df = df1_WS4T[df1_WS4T['CASE_ID']== id]\n",
    "        tsum = df['time_used_second'].sum()\n",
    "        list_sumtime_person+=tsum\n",
    "    list_avgtime_per_key.append(int((list_sumtime_person/len(count_dic[key]))))\n",
    "\n",
    "list_avgtime_per_key_str = []\n",
    "for i in list_avgtime_per_key:\n",
    "    list_avgtime_per_key_str.append(strfdelta(i,\"{days} days {hours} hours {minutes} minutes {seconds} seconds\"))"
   ],
   "metadata": {
    "collapsed": false,
    "pycharm": {
     "name": "#%%\n"
    }
   }
  },
  {
   "cell_type": "code",
   "execution_count": 8,
   "outputs": [],
   "source": [
    "list_mediantime_per_key = []\n",
    "for key in count_dic.keys():\n",
    "    id_list = count_dic[key]\n",
    "    list_sumtime_per_person = []\n",
    "    for id in id_list:\n",
    "        df = df1_WS4T[df1_WS4T['CASE_ID']== id]\n",
    "        tsum = df['time_used_second'].sum()\n",
    "        list_sumtime_per_person.append(tsum)\n",
    "    list_mediantime_per_key.append(numpy.median(list_sumtime_per_person))\n",
    "\n",
    "list_mediantime_per_key_str = []\n",
    "for i in list_mediantime_per_key:\n",
    "    list_mediantime_per_key_str.append(strfdelta(i,\"{days} days {hours} hours {minutes} minutes {seconds} seconds\"))"
   ],
   "metadata": {
    "collapsed": false,
    "pycharm": {
     "name": "#%%\n"
    }
   }
  },
  {
   "cell_type": "code",
   "execution_count": 9,
   "outputs": [],
   "source": [
    "list_percent_reach_end = []\n",
    "for key in count_dic.keys():\n",
    "    id_list = count_dic[key]\n",
    "    count_df_end_step = 0\n",
    "    count_df_id = 0\n",
    "    for id in id_list:\n",
    "        df_id = df1_WS4T[df1_WS4T['CASE_ID']== id]\n",
    "        df_end_step = df_id[df_id['WRKFLW_TSK_MAP_GROUPED'].isin(['Accept','Defer'])]\n",
    "        count_df_id += df_id['CASE_ID'].count()\n",
    "        count_df_end_step += df_end_step['CASE_ID'].count()\n",
    "    list_percent_reach_end.append(str(round((count_df_end_step/count_df_id)*100,2))+ \"%\")"
   ],
   "metadata": {
    "collapsed": false,
    "pycharm": {
     "name": "#%%\n"
    }
   }
  },
  {
   "cell_type": "code",
   "execution_count": 10,
   "outputs": [],
   "source": [
    "list_step_per_key = []\n",
    "for key in count_dic.keys():\n",
    "    id_list = count_dic[key]\n",
    "    list_step = set()\n",
    "    for id in id_list:\n",
    "        df = df1_WS4T[df1_WS4T['CASE_ID']== id]\n",
    "        for index, row in df.iterrows():\n",
    "            list_step.add(row['WRKFLW_TSK_MAP_GROUPED'])\n",
    "    list_step_per_key.append(list_step)"
   ],
   "metadata": {
    "collapsed": false,
    "pycharm": {
     "name": "#%%\n"
    }
   }
  },
  {
   "cell_type": "code",
   "execution_count": 11,
   "outputs": [
    {
     "data": {
      "text/plain": "   Number of Workflow processes in this Workflow Segment  Number of cases  \\\n0                                                  1                 1698   \n1                                                  2                 2183   \n2                                                  3                 1108   \n3                                                  4                  608   \n4                                                  5                  385   \n5                                                  6                  202   \n6                                                  7                  126   \n7                                                  8                   72   \n8                                                  9                   36   \n9                                                 10                   11   \n\n         average time for workflow segment  \\\n0       0 days 0 hours 0 minutes 0 seconds   \n1    63 days 6 hours 38 minutes 47 seconds   \n2   73 days 23 hours 29 minutes 16 seconds   \n3   83 days 21 hours 14 minutes 28 seconds   \n4   104 days 10 hours 6 minutes 16 seconds   \n5   109 days 6 hours 59 minutes 52 seconds   \n6    120 days 6 hours 32 minutes 2 seconds   \n7  124 days 11 hours 16 minutes 41 seconds   \n8   121 days 9 hours 45 minutes 36 seconds   \n9   241 days 8 hours 21 minutes 46 seconds   \n\n                  median time for workflow segment  \\\n0       0.0 days 0.0 hours 0.0 minutes 0.0 seconds   \n1    33.0 days 3.0 hours 22.0 minutes 13.0 seconds   \n2     47.0 days 1.0 hours 43.0 minutes 8.0 seconds   \n3   64.0 days 11.0 hours 34.0 minutes 57.0 seconds   \n4    86.0 days 1.0 hours 59.0 minutes 42.0 seconds   \n5    89.0 days 23.0 hours 3.0 minutes 43.0 seconds   \n6   104.0 days 16.0 hours 22.0 minutes 7.0 seconds   \n7  120.0 days 12.0 hours 11.0 minutes 27.5 seconds   \n8    99.0 days 8.0 hours 50.0 minutes 33.0 seconds   \n9    246.0 days 4.0 hours 58.0 minutes 4.0 seconds   \n\n  percentage of cases reaching to end of workflow segment  \\\n0                                               0.0%        \n1                                              36.6%        \n2                                              25.3%        \n3                                             20.11%        \n4                                             17.56%        \n5                                             14.36%        \n6                                             12.59%        \n7                                             11.81%        \n8                                              9.88%        \n9                                              9.09%        \n\n                                                step  \n0                                    {Release Offer}  \n1  {OC - Reviewed - Other, Decline, Assessment De...  \n2  {OC - Reviewed - Other, Decline, AR - Reviewed...  \n3  {OC - Reviewed - Other, Decline, AR - Reviewed...  \n4  {OC - Reviewed - Other, Decline, Acacdemic - A...  \n5  {OC - Reviewed - Other, Decline, AR - Reviewed...  \n6  {OC - Reviewed - Other, Decline, Back to Triag...  \n7  {OC - Reviewed - Other, Decline, AR - Reviewed...  \n8  {OC - Reviewed - Other, Decline, Manage Accept...  \n9  {Manage Acceptance, AR - Satisfied - Other, OC...  ",
      "text/html": "<div>\n<style scoped>\n    .dataframe tbody tr th:only-of-type {\n        vertical-align: middle;\n    }\n\n    .dataframe tbody tr th {\n        vertical-align: top;\n    }\n\n    .dataframe thead th {\n        text-align: right;\n    }\n</style>\n<table border=\"1\" class=\"dataframe\">\n  <thead>\n    <tr style=\"text-align: right;\">\n      <th></th>\n      <th>Number of Workflow processes in this Workflow Segment</th>\n      <th>Number of cases</th>\n      <th>average time for workflow segment</th>\n      <th>median time for workflow segment</th>\n      <th>percentage of cases reaching to end of workflow segment</th>\n      <th>step</th>\n    </tr>\n  </thead>\n  <tbody>\n    <tr>\n      <th>0</th>\n      <td>1</td>\n      <td>1698</td>\n      <td>0 days 0 hours 0 minutes 0 seconds</td>\n      <td>0.0 days 0.0 hours 0.0 minutes 0.0 seconds</td>\n      <td>0.0%</td>\n      <td>{Release Offer}</td>\n    </tr>\n    <tr>\n      <th>1</th>\n      <td>2</td>\n      <td>2183</td>\n      <td>63 days 6 hours 38 minutes 47 seconds</td>\n      <td>33.0 days 3.0 hours 22.0 minutes 13.0 seconds</td>\n      <td>36.6%</td>\n      <td>{OC - Reviewed - Other, Decline, Assessment De...</td>\n    </tr>\n    <tr>\n      <th>2</th>\n      <td>3</td>\n      <td>1108</td>\n      <td>73 days 23 hours 29 minutes 16 seconds</td>\n      <td>47.0 days 1.0 hours 43.0 minutes 8.0 seconds</td>\n      <td>25.3%</td>\n      <td>{OC - Reviewed - Other, Decline, AR - Reviewed...</td>\n    </tr>\n    <tr>\n      <th>3</th>\n      <td>4</td>\n      <td>608</td>\n      <td>83 days 21 hours 14 minutes 28 seconds</td>\n      <td>64.0 days 11.0 hours 34.0 minutes 57.0 seconds</td>\n      <td>20.11%</td>\n      <td>{OC - Reviewed - Other, Decline, AR - Reviewed...</td>\n    </tr>\n    <tr>\n      <th>4</th>\n      <td>5</td>\n      <td>385</td>\n      <td>104 days 10 hours 6 minutes 16 seconds</td>\n      <td>86.0 days 1.0 hours 59.0 minutes 42.0 seconds</td>\n      <td>17.56%</td>\n      <td>{OC - Reviewed - Other, Decline, Acacdemic - A...</td>\n    </tr>\n    <tr>\n      <th>5</th>\n      <td>6</td>\n      <td>202</td>\n      <td>109 days 6 hours 59 minutes 52 seconds</td>\n      <td>89.0 days 23.0 hours 3.0 minutes 43.0 seconds</td>\n      <td>14.36%</td>\n      <td>{OC - Reviewed - Other, Decline, AR - Reviewed...</td>\n    </tr>\n    <tr>\n      <th>6</th>\n      <td>7</td>\n      <td>126</td>\n      <td>120 days 6 hours 32 minutes 2 seconds</td>\n      <td>104.0 days 16.0 hours 22.0 minutes 7.0 seconds</td>\n      <td>12.59%</td>\n      <td>{OC - Reviewed - Other, Decline, Back to Triag...</td>\n    </tr>\n    <tr>\n      <th>7</th>\n      <td>8</td>\n      <td>72</td>\n      <td>124 days 11 hours 16 minutes 41 seconds</td>\n      <td>120.0 days 12.0 hours 11.0 minutes 27.5 seconds</td>\n      <td>11.81%</td>\n      <td>{OC - Reviewed - Other, Decline, AR - Reviewed...</td>\n    </tr>\n    <tr>\n      <th>8</th>\n      <td>9</td>\n      <td>36</td>\n      <td>121 days 9 hours 45 minutes 36 seconds</td>\n      <td>99.0 days 8.0 hours 50.0 minutes 33.0 seconds</td>\n      <td>9.88%</td>\n      <td>{OC - Reviewed - Other, Decline, Manage Accept...</td>\n    </tr>\n    <tr>\n      <th>9</th>\n      <td>10</td>\n      <td>11</td>\n      <td>241 days 8 hours 21 minutes 46 seconds</td>\n      <td>246.0 days 4.0 hours 58.0 minutes 4.0 seconds</td>\n      <td>9.09%</td>\n      <td>{Manage Acceptance, AR - Satisfied - Other, OC...</td>\n    </tr>\n  </tbody>\n</table>\n</div>"
     },
     "execution_count": 11,
     "metadata": {},
     "output_type": "execute_result"
    }
   ],
   "source": [
    "s1_t4=pd.DataFrame({'Number of Workflow processes in this Workflow Segment':count_dic.keys(),'Number of cases':len_list, 'average time for workflow segment':list_avgtime_per_key_str,'median time for workflow segment':list_mediantime_per_key_str,'percentage of cases reaching to end of workflow segment':list_percent_reach_end,'step':list_step_per_key})\n",
    "s1_t4.head(n=10)\n"
   ],
   "metadata": {
    "collapsed": false,
    "pycharm": {
     "name": "#%%\n"
    }
   }
  },
  {
   "cell_type": "code",
   "execution_count": 12,
   "outputs": [],
   "source": [
    "s1_t4.to_csv('segment1_WS4_table.csv', index=False)\n",
    "\n",
    "\n",
    "\n",
    "\n",
    "\n"
   ],
   "metadata": {
    "collapsed": false,
    "pycharm": {
     "name": "#%%\n"
    }
   }
  }
 ],
 "metadata": {
  "kernelspec": {
   "name": "pycharm-78f37aff",
   "language": "python",
   "display_name": "PyCharm (pythonProject)"
  },
  "language_info": {
   "codemirror_mode": {
    "name": "ipython",
    "version": 2
   },
   "file_extension": ".py",
   "mimetype": "text/x-python",
   "name": "python",
   "nbconvert_exporter": "python",
   "pygments_lexer": "ipython2",
   "version": "2.7.6"
  }
 },
 "nbformat": 4,
 "nbformat_minor": 0
}