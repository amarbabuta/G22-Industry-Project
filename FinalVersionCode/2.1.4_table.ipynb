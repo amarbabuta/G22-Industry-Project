{
 "cells": [
  {
   "cell_type": "code",
   "execution_count": 1,
   "metadata": {
    "collapsed": true
   },
   "outputs": [],
   "source": [
    "import pandas as pd\n",
    "import numpy\n",
    "from __future__ import division"
   ]
  },
  {
   "cell_type": "code",
   "execution_count": 2,
   "outputs": [],
   "source": [
    "df1_WS4T = pd.read_csv(\"/Users/asteriag/Desktop/DATASCIENCEPROJECT_WORKFLOW/TimeStamp_Engineering/engineering_OF_segment1_workflowS4_has_duration.csv\",engine='python')"
   ],
   "metadata": {
    "collapsed": false,
    "pycharm": {
     "name": "#%%\n"
    }
   }
  },
  {
   "cell_type": "code",
   "execution_count": 3,
   "outputs": [
    {
     "data": {
      "text/plain": "                CASE_ID WRKFLW_TSK_MAP_GROUPED WRKFLW_TSK_MAP_DETAILED  \\\n0  715808|405750|629365          Release Offer           Release Offer   \n\n      PATH_CRDATETIME time_used_str  time_used_second  \n0  8/12/2018 12:48:43           NaN               0.0  ",
      "text/html": "<div>\n<style scoped>\n    .dataframe tbody tr th:only-of-type {\n        vertical-align: middle;\n    }\n\n    .dataframe tbody tr th {\n        vertical-align: top;\n    }\n\n    .dataframe thead th {\n        text-align: right;\n    }\n</style>\n<table border=\"1\" class=\"dataframe\">\n  <thead>\n    <tr style=\"text-align: right;\">\n      <th></th>\n      <th>CASE_ID</th>\n      <th>WRKFLW_TSK_MAP_GROUPED</th>\n      <th>WRKFLW_TSK_MAP_DETAILED</th>\n      <th>PATH_CRDATETIME</th>\n      <th>time_used_str</th>\n      <th>time_used_second</th>\n    </tr>\n  </thead>\n  <tbody>\n    <tr>\n      <th>0</th>\n      <td>715808|405750|629365</td>\n      <td>Release Offer</td>\n      <td>Release Offer</td>\n      <td>8/12/2018 12:48:43</td>\n      <td>NaN</td>\n      <td>0.0</td>\n    </tr>\n  </tbody>\n</table>\n</div>"
     },
     "execution_count": 3,
     "metadata": {},
     "output_type": "execute_result"
    }
   ],
   "source": [
    "df1_WS4T.head(n=1)"
   ],
   "metadata": {
    "collapsed": false,
    "pycharm": {
     "name": "#%%\n"
    }
   }
  },
  {
   "cell_type": "code",
   "execution_count": 4,
   "outputs": [
    {
     "data": {
      "text/plain": "68"
     },
     "execution_count": 4,
     "metadata": {},
     "output_type": "execute_result"
    }
   ],
   "source": [
    "df1_WS4T['WRKFLW_TSK_MAP_GROUPED'].nunique()"
   ],
   "metadata": {
    "collapsed": false,
    "pycharm": {
     "name": "#%%\n"
    }
   }
  },
  {
   "cell_type": "code",
   "execution_count": 5,
   "outputs": [
    {
     "data": {
      "text/plain": "129"
     },
     "execution_count": 5,
     "metadata": {},
     "output_type": "execute_result"
    }
   ],
   "source": [
    "df1_WS4T['WRKFLW_TSK_MAP_DETAILED'].nunique()\n"
   ],
   "metadata": {
    "collapsed": false,
    "pycharm": {
     "name": "#%%\n"
    }
   }
  },
  {
   "cell_type": "code",
   "execution_count": 6,
   "outputs": [
    {
     "name": "stdout",
     "output_type": "stream",
     "text": [
      "[('Release Offer', 6293), ('Accept', 2354), ('Defer', 1200), ('OC - Satisfied - Evidence of course completion', 1154), ('AR - Satisfied - Overseas Student Health Cover details', 674), ('AR - Satisfied - Academic results for prior tertiary studies', 558), ('OC - Satisfied - English language requirements', 510), ('Manage Acceptance', 503), ('OC - Created - Evidence of course completion', 345), ('AR - Created - CONDITIONAL Acceptance agreement (International)', 293), ('AR - Satisfied - English language proficiency', 208), ('AR - Satisfied - Appointment of authorised representative', 128), ('Decline', 126), ('OC - Created - UMELBP (H3)', 123), ('OC - Satisfied - Overseas Student Health Cover details', 120), ('OC - Created - Overseas Student Health Cover details', 119), ('AR - Created - Overseas Student Health Cover details', 110), ('AR - Satisfied - Further information (1)', 109), ('AR - Satisfied - Current enrolment at the University of Melbourne', 105), ('AR - Created - Acceptance agreement (International)', 94), ('OC - Created - English language requirements', 93), ('AR - Satisfied - CONDITIONAL Acceptance agreement (International)', 92), ('AR - Satisfied - Sponsorship arrangements', 86), ('OC - Reviewed - English language requirements', 77), ('AR - Satisfied - Advanced Standing', 72), ('AR - Created - Assessment information (Coursework) (1)', 66), ('Assessment Decision - Qualified', 60), ('AR - Satisfied - Credit for previous study', 57), ('OC - Not Satisfied - Evidence of course completion', 44), ('Withdraw', 42), ('AR - Satisfied - Official syllabus or subject descriptions (in English)', 40), ('OC - Reviewed - Evidence of course completion', 40), ('AR - Not Satisfied - English language proficiency', 39), ('End My Assessment', 39), ('Release Assessment Hold', 35), ('Assessment Decision - No Decision', 33), ('Put Assessment On-Hold', 26), ('AR - Satisfied - Acceptance agreement (International)', 25), ('OC - Satisfied - CHESICC transcript authentication for international students', 25), ('OC - Requested - Evidence of course completion', 21), ('Acacdemic - Assessment Decision - Qualified', 18), ('Restart Offer Workflow', 16), ('AR - Satisfied - Assessment information (Coursework) (1)', 15), ('AR - Satisfied - Full application for Coursework program (1)', 15), ('AR - Created - Further information (1)', 14), ('OC - Requested - English language requirements', 13), ('AR - Reviewed - English language proficiency', 11), ('OC - Satisfied - CDGDC transcript authentication for international students', 11), ('OC - Satisfied - UMELBP (H3)', 11), ('AR - Satisfied - Curriculum Vitae and professional experience', 10), ('OC - Created - CHESICC transcript authentication for international students', 8), ('Assessment Decision - Not Qualified', 7), ('Put Triage On-Hold', 7), ('AR - Created - Payment of international application fee', 6), ('AR - Requested - Appointment of authorised representative', 6), ('AR - Satisfied - Further information (2)', 6), ('AR - Satisfied - Specialisation (Master of Information Technology)', 6), ('OC - Awaiting External Response - Evidence of course completion', 6), ('OC - Created - CONDITIONAL Acceptance agreement (International)', 6), ('OC - Requested - CHESICC transcript authentication for international students', 6), ('AR - Created - Further information (2)', 5), ('AR - Created - Passport details', 5), ('AR - Satisfied - Syllabus (Melbourne School of Engineering)', 5), ('Acacdemic - Assessment Decision - Not Qualified', 5), ('Back to Triage', 5), ('AR - Reviewed - Academic results for prior tertiary studies', 4), ('AR - Satisfied - Further information (3)', 4), ('OC - Created - Further information (1)', 4), ('OC - Created - Offer condition (English language requirements)', 4), ('Release Triage Hold', 4), ('AR - Created - Entry Requirement Waiver Outcome', 3), ('AR - Created - Further information (3)', 3), ('AR - Reviewed - Official syllabus or subject descriptions (in English)', 3), ('AR - Satisfied - Entry Requirement Waiver Outcome', 3), ('AR - Satisfied - Entry points (Master of Information Systems)', 3), ('AR - Satisfied - Passport details', 3), ('AR - Satisfied - Payment of international application fee', 3), ('AR - Satisfied - University of Melbourne Statement of Results / transcript', 3), ('OC - Created - CDGDC transcript authentication for international students', 3), ('PREPARE TO LOCK', 3), ('Send for Assessment', 3), ('AR - Requested - Payment of international application fee', 2), ('AR - Reviewed - Credit for previous study', 2), ('AR - Satisfied - Curriculum Vitae', 2), ('AR - Satisfied - Entry points (Master of Information Technology)', 2), ('AR - Satisfied - Further information - Agent nomination form', 2), ('AR - Satisfied - Further information � Preference order required as submitted multiple 1st prefer applications', 2), ('AR - Satisfied - Specialisation (Master of Information Systems)', 2), ('AR - Satisfied - Transcript � CHESICC', 2), ('AR - Satisfied - Transcript � My eQuals', 2), ('Assessment Outcome - Successful', 2), ('OC - Created - Acceptance agreement (International)', 2), ('OC - Reviewed - CDGDC transcript authentication for international students', 2), ('OC - Satisfied - Acceptance agreement (International)', 2), ('OC - Satisfied - Further information (1)', 2), ('OC - Satisfied - Further information (2)', 2), ('AR - Created - Academic transcript Grading Scheme', 1), ('AR - Created - Appointment of authorised representative', 1), ('AR - Created - Assessment information (Coursework) (2)', 1), ('AR - Created - Details of authorised representative', 1), ('AR - Created - English language requirements', 1), ('AR - Created - Full application for Coursework program (1)', 1), ('AR - Created - Personal statement (500 words)', 1), ('AR - Created - University of Melbourne Statement of Results / transcript', 1), ('AR - Requested - Academic results for prior tertiary studies', 1), ('AR - Requested - Acceptance agreement (International)', 1), ('AR - Requested - Further information (2)', 1), ('AR - Reviewed - Appointment of authorised representative', 1), ('AR - Reviewed - Current enrolment at the University of Melbourne', 1), ('AR - Reviewed - Curriculum Vitae and professional experience', 1), ('AR - Reviewed - Further information (3)', 1), ('AR - Satisfied - Details of authorised representative', 1), ('AR - Satisfied - Duration of previous degree', 1), ('AR - Satisfied - English language testing result', 1), ('AR - Satisfied - Evidence of course completion', 1), ('AR - Satisfied - Further information - Official Transcripts', 1), ('AR - Satisfied - Further information - Transcripts for subject credited from previous study', 1), ('AR - Satisfied - Is your undergraduate degree from a recognised institution and in the same stream as your intended Master of Engineering program?', 1), ('AR - Satisfied - Personal statement (500 words)', 1), ('Lapse', 1), ('OC - Created - English language proficiency', 1), ('OC - Created - Further information (2)', 1), ('OC - Created - Further information (3)', 1), ('OC - Reviewed - CHESICC transcript authentication for international students', 1), ('OC - Satisfied - CONDITIONAL Acceptance agreement (International)', 1), ('OC - Satisfied - English language proficiency', 1), ('OC - Satisfied - Further information (3)', 1), ('OC - Satisfied - Further information - Official Transcripts', 1), ('OC - Satisfied - Offer condition (English language requirements)', 1)]\n"
     ]
    }
   ],
   "source": [
    "wd_count = df1_WS4T.groupby('WRKFLW_TSK_MAP_DETAILED').WRKFLW_TSK_MAP_DETAILED.count()\n",
    "wd_dict = dict()\n",
    "for i, v in wd_count.items():\n",
    "    wd_dict[i] = v\n",
    "sorted_wd_dict = sorted(wd_dict.items(), key = lambda x: x[1], reverse = True)\n",
    "print(sorted_wd_dict)"
   ],
   "metadata": {
    "collapsed": false,
    "pycharm": {
     "name": "#%%\n"
    }
   }
  },
  {
   "cell_type": "code",
   "execution_count": 7,
   "outputs": [
    {
     "name": "stdout",
     "output_type": "stream",
     "text": [
      "[('OC - Created - Offer condition (English language requirements)', 9006618.0), ('Send for Assessment', 8504475.0), ('AR - Satisfied - Syllabus (Melbourne School of Engineering)', 6010631.0), ('End My Assessment', 5915627.0), ('OC - Satisfied - Further information (1)', 5615932.0), ('AR - Reviewed - Further information (3)', 4730320.0), ('AR - Reviewed - Current enrolment at the University of Melbourne', 4575077.0), ('OC - Created - Evidence of course completion', 4427953.0), ('OC - Created - Further information (3)', 4293974.0), ('Release Offer', 3561079.0), ('AR - Reviewed - Official syllabus or subject descriptions (in English)', 3456300.0), ('Put Assessment On-Hold', 3427932.0), ('OC - Created - English language requirements', 3165166.0), ('OC - Reviewed - CDGDC transcript authentication for international students', 2813358.0), ('AR - Satisfied - Further information - Agent nomination form', 2701005.0), ('AR - Requested - Appointment of authorised representative', 2624146.0), ('AR - Reviewed - Curriculum Vitae and professional experience', 2499239.0), ('Assessment Decision - Qualified', 2483345.0), ('Assessment Decision - Not Qualified', 2471839.0), ('AR - Satisfied - Curriculum Vitae and professional experience', 2464877.0), ('OC - Created - CHESICC transcript authentication for international students', 2398751.0), ('AR - Created - Assessment information (Coursework) (1)', 2351628.0), ('Release Assessment Hold', 2259485.0), ('AR - Satisfied - Full application for Coursework program (1)', 2245539.0), ('AR - Satisfied - Academic results for prior tertiary studies', 2244376.0), ('AR - Satisfied - Official syllabus or subject descriptions (in English)', 2122595.0), ('AR - Satisfied - Further information (3)', 2069198.0), ('AR - Satisfied - Credit for previous study', 1979300.0), ('AR - Satisfied - Assessment information (Coursework) (1)', 1965087.0), ('AR - Created - Acceptance agreement (International)', 1872109.0), ('AR - Satisfied - Specialisation (Master of Information Technology)', 1759288.0), ('AR - Created - Payment of international application fee', 1697469.0), ('Put Triage On-Hold', 1690501.0), ('OC - Awaiting External Response - Evidence of course completion', 1669019.0), ('AR - Created - Assessment information (Coursework) (2)', 1660838.0), ('AR - Satisfied - Appointment of authorised representative', 1649115.0), ('AR - Satisfied - Further information (1)', 1586040.0), ('AR - Created - CONDITIONAL Acceptance agreement (International)', 1532291.0), ('Assessment Outcome - Successful', 1482410.0), ('AR - Created - Academic transcript Grading Scheme', 1471219.0), ('OC - Satisfied - English language requirements', 1435808.0), ('Assessment Decision - No Decision', 1386567.0), ('AR - Satisfied - Passport details', 1273389.0), ('OC - Satisfied - Evidence of course completion', 1263612.0), ('AR - Satisfied - University of Melbourne Statement of Results / transcript', 1258344.0), ('OC - Requested - CHESICC transcript authentication for international students', 1247230.0), ('AR - Satisfied - Acceptance agreement (International)', 1113516.0), ('AR - Satisfied - English language proficiency', 973830.0), ('AR - Satisfied - Advanced Standing', 945776.0), ('AR - Reviewed - English language proficiency', 903300.0), ('OC - Created - English language proficiency', 870204.0), ('AR - Satisfied - Further information (2)', 796378.0), ('AR - Satisfied - Payment of international application fee', 792080.0), ('OC - Satisfied - CDGDC transcript authentication for international students', 696497.0), ('OC - Satisfied - CHESICC transcript authentication for international students', 637177.0), ('AR - Satisfied - Is your undergraduate degree from a recognised institution and in the same stream as your intended Master of Engineering program?', 604800.0), ('OC - Created - UMELBP (H3)', 597278.0), ('OC - Satisfied - English language proficiency', 575606.0), ('OC - Created - CONDITIONAL Acceptance agreement (International)', 571153.0), ('Acacdemic - Assessment Decision - Qualified', 519620.0), ('AR - Satisfied - Entry Requirement Waiver Outcome', 498354.0), ('OC - Requested - Evidence of course completion', 485724.0), ('OC - Reviewed - English language requirements', 473182.0), ('AR - Satisfied - Current enrolment at the University of Melbourne', 466835.0), ('AR - Not Satisfied - English language proficiency', 460687.0), ('AR - Satisfied - Entry points (Master of Information Systems)', 453422.0), ('AR - Created - Further information (1)', 444068.0), ('AR - Satisfied - CONDITIONAL Acceptance agreement (International)', 441665.0), ('OC - Requested - English language requirements', 437572.0), ('AR - Satisfied - Sponsorship arrangements', 388897.0), ('AR - Created - Passport details', 362652.0), ('Withdraw', 359997.0), ('OC - Created - Further information (1)', 354413.0), ('AR - Satisfied - Transcript � My eQuals', 353057.0), ('AR - Satisfied - Curriculum Vitae', 313263.0), ('OC - Created - Acceptance agreement (International)', 301359.0), ('OC - Reviewed - Evidence of course completion', 290424.0), ('OC - Satisfied - Offer condition (English language requirements)', 268759.0), ('Acacdemic - Assessment Decision - Not Qualified', 267666.0), ('AR - Created - Entry Requirement Waiver Outcome', 260676.0), ('AR - Reviewed - Academic results for prior tertiary studies', 260110.0), ('OC - Satisfied - UMELBP (H3)', 249334.0), ('OC - Satisfied - Overseas Student Health Cover details', 237295.0), ('OC - Created - CDGDC transcript authentication for international students', 225350.0), ('AR - Satisfied - Overseas Student Health Cover details', 180855.0), ('Decline', 119417.0), ('AR - Created - Overseas Student Health Cover details', 56403.0), ('Back to Triage', 50632.0), ('AR - Created - Further information (2)', 49785.0), ('OC - Satisfied - Further information (3)', 47241.0), ('Release Triage Hold', 31974.0), ('PREPARE TO LOCK', 25015.0), ('OC - Satisfied - Further information (2)', 9033.0), ('OC - Not Satisfied - Evidence of course completion', 6027.0), ('AR - Satisfied - Further information � Preference order required as submitted multiple 1st prefer applications', 559.0), ('AR - Satisfied - Evidence of course completion', 272.0), ('AR - Reviewed - Credit for previous study', 170.0), ('AR - Satisfied - Further information - Transcripts for subject credited from previous study', 111.0), ('AR - Created - Personal statement (500 words)', 110.0), ('OC - Satisfied - CONDITIONAL Acceptance agreement (International)', 109.0), ('AR - Requested - Academic results for prior tertiary studies', 97.0), ('OC - Created - Overseas Student Health Cover details', 88.0), ('Restart Offer Workflow', 84.0), ('AR - Created - Further information (3)', 51.0), ('OC - Satisfied - Acceptance agreement (International)', 35.0), ('OC - Created - Further information (2)', 30.0), ('AR - Reviewed - Appointment of authorised representative', 29.0), ('AR - Created - Details of authorised representative', 28.0), ('AR - Created - University of Melbourne Statement of Results / transcript', 26.0), ('Lapse', 25.0), ('AR - Satisfied - Specialisation (Master of Information Systems)', 16.0), ('AR - Satisfied - Entry points (Master of Information Technology)', 16.0), ('AR - Satisfied - Further information - Official Transcripts', 15.0), ('AR - Satisfied - Duration of previous degree', 12.0), ('AR - Created - Full application for Coursework program (1)', 11.0), ('AR - Satisfied - Transcript � CHESICC', 10.0), ('OC - Satisfied - Further information - Official Transcripts', 9.0), ('AR - Created - Appointment of authorised representative', 7.0), ('AR - Satisfied - Personal statement (500 words)', 7.0), ('AR - Satisfied - English language testing result', 7.0), ('Accept', 0.0), ('Defer', 0.0), ('Manage Acceptance', 0.0), ('AR - Requested - Payment of international application fee', 0.0), ('AR - Satisfied - Details of authorised representative', 0.0), ('OC - Reviewed - CHESICC transcript authentication for international students', 0.0), ('AR - Created - English language requirements', 0.0), ('AR - Requested - Acceptance agreement (International)', 0.0), ('AR - Requested - Further information (2)', 0.0)]\n"
     ]
    }
   ],
   "source": [
    "list = df1_WS4T.WRKFLW_TSK_MAP_DETAILED.unique()\n",
    "avg_time_dict = dict()\n",
    "for key in list :\n",
    "    df_slides = df1_WS4T[df1_WS4T['WRKFLW_TSK_MAP_DETAILED'] == key]\n",
    "    sum = df_slides['time_used_second'].sum()\n",
    "    c = len(df_slides)\n",
    "    avg = sum//c\n",
    "    avg_time_dict[key] = avg\n",
    "\n",
    "sorted_avg_time_dict = sorted(avg_time_dict.items(),key = lambda x: x[1], reverse = True)\n",
    "print(sorted_avg_time_dict)"
   ],
   "metadata": {
    "collapsed": false,
    "pycharm": {
     "name": "#%%\n"
    }
   }
  },
  {
   "cell_type": "code",
   "execution_count": 8,
   "outputs": [],
   "source": [
    "numOfWorkflowProcesses = df1_WS4T.groupby('CASE_ID').CASE_ID.count()\n",
    "\n",
    "count_dic=dict()\n",
    "for i,v in numOfWorkflowProcesses.items():\n",
    "    if count_dic.get(v) is None:\n",
    "        count_dic[v]=[]\n",
    "        count_dic[v].append(i)\n",
    "    else:\n",
    "        count_dic[v].append(i)\n",
    "#count_dic\n",
    "count_dic = dict(sorted(count_dic.items()))"
   ],
   "metadata": {
    "collapsed": false,
    "pycharm": {
     "name": "#%%\n"
    }
   }
  },
  {
   "cell_type": "code",
   "execution_count": 9,
   "outputs": [],
   "source": [
    "len_list=[]\n",
    "for key in count_dic.keys():\n",
    "    len_list.append(len(count_dic[key]))"
   ],
   "metadata": {
    "collapsed": false,
    "pycharm": {
     "name": "#%%\n"
    }
   }
  },
  {
   "cell_type": "code",
   "execution_count": 10,
   "outputs": [],
   "source": [
    "def strfdelta(tdelta, fmt):\n",
    "    d=dict()\n",
    "    d[\"days\"],rem1 = divmod(tdelta,60*60*24)\n",
    "    d[\"hours\"], rem2 = divmod(rem1, 3600)\n",
    "    d[\"minutes\"], d[\"seconds\"] = divmod(rem2, 60)\n",
    "    return fmt.format(**d)"
   ],
   "metadata": {
    "collapsed": false,
    "pycharm": {
     "name": "#%%\n"
    }
   }
  },
  {
   "cell_type": "code",
   "execution_count": 11,
   "outputs": [],
   "source": [
    "list_avgtime_per_key =[]\n",
    "list_sumtime_row = []\n",
    "for key in count_dic.keys():\n",
    "    id_list = count_dic[key]\n",
    "    list_sumtime_person = 0\n",
    "    for id in id_list:\n",
    "        df = df1_WS4T[df1_WS4T['CASE_ID']== id]\n",
    "        tsum = df['time_used_second'].sum()\n",
    "        list_sumtime_person+=tsum\n",
    "    list_avgtime_per_key.append(int((list_sumtime_person/len(count_dic[key]))))\n",
    "    list_sumtime_row.append(list_sumtime_person)\n",
    "list_avgtime_per_key_str = []\n",
    "for i in list_avgtime_per_key:\n",
    "    list_avgtime_per_key_str.append(strfdelta(i,\"{days} days {hours} hours {minutes} minutes {seconds} seconds\"))"
   ],
   "metadata": {
    "collapsed": false,
    "pycharm": {
     "name": "#%%\n"
    }
   }
  },
  {
   "cell_type": "code",
   "execution_count": 12,
   "outputs": [],
   "source": [
    "list_mediantime_per_key = []\n",
    "for key in count_dic.keys():\n",
    "    id_list = count_dic[key]\n",
    "    list_sumtime_per_person = []\n",
    "    for id in id_list:\n",
    "        df = df1_WS4T[df1_WS4T['CASE_ID']== id]\n",
    "        tsum = df['time_used_second'].sum()\n",
    "        list_sumtime_per_person.append(tsum)\n",
    "    list_mediantime_per_key.append(numpy.median(list_sumtime_per_person))\n",
    "\n",
    "list_mediantime_per_key_str = []\n",
    "for i in list_mediantime_per_key:\n",
    "    list_mediantime_per_key_str.append(strfdelta(i,\"{days} days {hours} hours {minutes} minutes {seconds} seconds\"))"
   ],
   "metadata": {
    "collapsed": false,
    "pycharm": {
     "name": "#%%\n"
    }
   }
  },
  {
   "cell_type": "code",
   "execution_count": 13,
   "outputs": [],
   "source": [
    "list_percent_reach_end = []\n",
    "for key in count_dic.keys():\n",
    "    id_list = count_dic[key]\n",
    "    count_df_end_step = 0\n",
    "    count_df_id = 0\n",
    "    for id in id_list:\n",
    "        df_id = df1_WS4T[df1_WS4T['CASE_ID']== id]\n",
    "        df_end_step = df_id[df_id['WRKFLW_TSK_MAP_GROUPED'].isin(['Accept','Defer'])]\n",
    "        count_df_id += df_id['CASE_ID'].nunique()\n",
    "        count_df_end_step += df_end_step['CASE_ID'].nunique()\n",
    "    list_percent_reach_end.append(str(round((count_df_end_step/count_df_id)*100,2))+ \"%\")"
   ],
   "metadata": {
    "collapsed": false,
    "pycharm": {
     "name": "#%%\n"
    }
   }
  },
  {
   "cell_type": "code",
   "execution_count": 14,
   "outputs": [],
   "source": [
    "list_step_per_key = []\n",
    "for key in count_dic.keys():\n",
    "    id_list = count_dic[key]\n",
    "    list_step = set()\n",
    "    for id in id_list:\n",
    "        df = df1_WS4T[df1_WS4T['CASE_ID']== id]\n",
    "        for index, row in df.iterrows():\n",
    "            list_step.add(row['WRKFLW_TSK_MAP_GROUPED'])\n",
    "    list_step_per_key.append(list_step)"
   ],
   "metadata": {
    "collapsed": false,
    "pycharm": {
     "name": "#%%\n"
    }
   }
  },
  {
   "cell_type": "code",
   "execution_count": 15,
   "outputs": [],
   "source": [
    "from collections import Counter\n",
    "import collections, functools, operator\n",
    "list_step_sum_time_per_key = []\n",
    "list_step_count_per_key = []\n",
    "list_step_ave_time_per_key = []\n",
    "for key in count_dic.keys():\n",
    "    id_list = count_dic[key]\n",
    "    list_step = []\n",
    "    step_time_list = []\n",
    "    for id in id_list:\n",
    "        df = df1_WS4T[df1_WS4T['CASE_ID']== id]\n",
    "        step_time = dict(zip(df.WRKFLW_TSK_MAP_GROUPED, df.time_used_second))\n",
    "        step_time_list.append(step_time)\n",
    "        for index, row in df.iterrows():\n",
    "            list_step.append(row['WRKFLW_TSK_MAP_GROUPED'])\n",
    "\n",
    "    step_sum_time = dict(functools.reduce(operator.add,\n",
    "         map(collections.Counter, step_time_list)))\n",
    "\n",
    "    dict_list_step=dict(Counter(list_step))\n",
    "\n",
    "    step_ave_time = {key: strfdelta(step_sum_time[key] // dict_list_step.get(key, 0),\"{days} days {hours} hours {minutes} minutes {seconds} seconds\")\n",
    "                        for key in step_sum_time.keys()}\n",
    "\n",
    "    sort_step_sum_time = sorted(step_sum_time.items(),key = lambda x: x[1], reverse = True)\n",
    "    list_step_sum_time_per_key.append(sort_step_sum_time)\n",
    "\n",
    "    sort_dict_list_step = sorted(dict_list_step.items(),key = lambda x: x[1], reverse = True)\n",
    "    list_step_count_per_key.append(sort_dict_list_step[:6])\n",
    "\n",
    "    sort_step_ave_time = sorted(step_ave_time.items(),key = lambda x: x[1], reverse = True)\n",
    "    list_step_ave_time_per_key.append(sort_step_ave_time)"
   ],
   "metadata": {
    "collapsed": false,
    "pycharm": {
     "name": "#%%\n"
    }
   }
  },
  {
   "cell_type": "code",
   "execution_count": 16,
   "outputs": [
    {
     "data": {
      "text/plain": "   Number of Workflow processes in this Workflow Segment  Number of cases  \\\n0                                                  1                 1664   \n1                                                  2                 2114   \n2                                                  3                 1078   \n3                                                  4                  590   \n4                                                  5                  379   \n5                                                  6                  199   \n6                                                  7                  118   \n7                                                  8                   68   \n8                                                  9                   36   \n9                                                 10                   10   \n\n         average time for workflow segment  \\\n0       0 days 0 hours 0 minutes 0 seconds   \n1   63 days 16 hours 41 minutes 22 seconds   \n2     74 days 4 hours 42 minutes 6 seconds   \n3    83 days 2 hours 36 minutes 36 seconds   \n4  104 days 13 hours 15 minutes 22 seconds   \n5   107 days 22 hours 50 minutes 0 seconds   \n6  123 days 11 hours 58 minutes 47 seconds   \n7  129 days 12 hours 56 minutes 12 seconds   \n8   121 days 9 hours 45 minutes 36 seconds   \n9   248 days 9 hours 23 minutes 17 seconds   \n\n                  median time for workflow segment  \\\n0       0.0 days 0.0 hours 0.0 minutes 0.0 seconds   \n1    33.0 days 5.0 hours 25.0 minutes 43.0 seconds   \n2     47.0 days 1.0 hours 43.0 minutes 8.0 seconds   \n3    64.0 days 1.0 hours 38.0 minutes 13.0 seconds   \n4    86.0 days 16.0 hours 18.0 minutes 6.0 seconds   \n5   89.0 days 17.0 hours 28.0 minutes 11.0 seconds   \n6   108.0 days 2.0 hours 28.0 minutes 16.0 seconds   \n7  124.0 days 14.0 hours 33.0 minutes 19.5 seconds   \n8    99.0 days 8.0 hours 50.0 minutes 33.0 seconds   \n9    264.0 days 6.0 hours 28.0 minutes 3.5 seconds   \n\n  percentage of cases reaching to end of workflow segment  \\\n0                                               0.0%        \n1                                             73.08%        \n2                                              75.6%        \n3                                             80.51%        \n4                                             87.86%        \n5                                             85.93%        \n6                                             88.14%        \n7                                             94.12%        \n8                                             88.89%        \n9                                              90.0%        \n\n             Num of Occurrences per step(descending)  \\\n0                            [(Release Offer, 1664)]   \n1  [(Release Offer, 2117), (Defer, 815), (Accept,...   \n2  [(Release Offer, 1082), (Accept, 598), (OC - S...   \n3  [(Release Offer, 592), (Accept, 391), (OC - Sa...   \n4  [(Release Offer, 381), (OC - Satisfied - Other...   \n5  [(OC - Satisfied - Other, 222), (Release Offer...   \n6  [(OC - Satisfied - Other, 141), (Release Offer...   \n7  [(OC - Satisfied - Other, 92), (AR - Satisfied...   \n8  [(OC - Satisfied - Other, 58), (Release Offer,...   \n9  [(OC - Satisfied - Other, 19), (Release Offer,...   \n\n            Average time spends per step(descending)  \\\n0                                                 []   \n1  [(Release Offer, 63.0 days 14.0 hours 31.0 min...   \n2  [(Assessment Decision - No Decision, 9.0 days ...   \n3  [(End My Assessment, 92.0 days 15.0 hours 40.0...   \n4  [(AR - Satisfied - ELR, 9.0 days 13.0 hours 34...   \n5  [(AR - Created - Other, 9.0 days 22.0 hours 49...   \n6  [(AR - Satisfied - financial (sponsorship, sch...   \n7  [(OC - Created - further information, 8.0 days...   \n8  [(AR - Created - further information, 8.0 days...   \n9  [(OC - Satisfied - Other, 7.0 days 2.0 hours 4...   \n\n   average time for workflow segment(seconds)  \\\n0                                           0   \n1                                     5503282   \n2                                     6410526   \n3                                     7180596   \n4                                     9033322   \n5                                     9327000   \n6                                    10670327   \n7                                    11192172   \n8                                    10489536   \n9                                    21460997   \n\n   sum time for workflow segment(seconds)  \n0                            0.000000e+00  \n1                            1.163394e+10  \n2                            6.910547e+09  \n3                            4.236552e+09  \n4                            3.423629e+09  \n5                            1.856073e+09  \n6                            1.259099e+09  \n7                            7.610677e+08  \n8                            3.776233e+08  \n9                            2.146100e+08  ",
      "text/html": "<div>\n<style scoped>\n    .dataframe tbody tr th:only-of-type {\n        vertical-align: middle;\n    }\n\n    .dataframe tbody tr th {\n        vertical-align: top;\n    }\n\n    .dataframe thead th {\n        text-align: right;\n    }\n</style>\n<table border=\"1\" class=\"dataframe\">\n  <thead>\n    <tr style=\"text-align: right;\">\n      <th></th>\n      <th>Number of Workflow processes in this Workflow Segment</th>\n      <th>Number of cases</th>\n      <th>average time for workflow segment</th>\n      <th>median time for workflow segment</th>\n      <th>percentage of cases reaching to end of workflow segment</th>\n      <th>Num of Occurrences per step(descending)</th>\n      <th>Average time spends per step(descending)</th>\n      <th>average time for workflow segment(seconds)</th>\n      <th>sum time for workflow segment(seconds)</th>\n    </tr>\n  </thead>\n  <tbody>\n    <tr>\n      <th>0</th>\n      <td>1</td>\n      <td>1664</td>\n      <td>0 days 0 hours 0 minutes 0 seconds</td>\n      <td>0.0 days 0.0 hours 0.0 minutes 0.0 seconds</td>\n      <td>0.0%</td>\n      <td>[(Release Offer, 1664)]</td>\n      <td>[]</td>\n      <td>0</td>\n      <td>0.000000e+00</td>\n    </tr>\n    <tr>\n      <th>1</th>\n      <td>2</td>\n      <td>2114</td>\n      <td>63 days 16 hours 41 minutes 22 seconds</td>\n      <td>33.0 days 5.0 hours 25.0 minutes 43.0 seconds</td>\n      <td>73.08%</td>\n      <td>[(Release Offer, 2117), (Defer, 815), (Accept,...</td>\n      <td>[(Release Offer, 63.0 days 14.0 hours 31.0 min...</td>\n      <td>5503282</td>\n      <td>1.163394e+10</td>\n    </tr>\n    <tr>\n      <th>2</th>\n      <td>3</td>\n      <td>1078</td>\n      <td>74 days 4 hours 42 minutes 6 seconds</td>\n      <td>47.0 days 1.0 hours 43.0 minutes 8.0 seconds</td>\n      <td>75.6%</td>\n      <td>[(Release Offer, 1082), (Accept, 598), (OC - S...</td>\n      <td>[(Assessment Decision - No Decision, 9.0 days ...</td>\n      <td>6410526</td>\n      <td>6.910547e+09</td>\n    </tr>\n    <tr>\n      <th>3</th>\n      <td>4</td>\n      <td>590</td>\n      <td>83 days 2 hours 36 minutes 36 seconds</td>\n      <td>64.0 days 1.0 hours 38.0 minutes 13.0 seconds</td>\n      <td>80.51%</td>\n      <td>[(Release Offer, 592), (Accept, 391), (OC - Sa...</td>\n      <td>[(End My Assessment, 92.0 days 15.0 hours 40.0...</td>\n      <td>7180596</td>\n      <td>4.236552e+09</td>\n    </tr>\n    <tr>\n      <th>4</th>\n      <td>5</td>\n      <td>379</td>\n      <td>104 days 13 hours 15 minutes 22 seconds</td>\n      <td>86.0 days 16.0 hours 18.0 minutes 6.0 seconds</td>\n      <td>87.86%</td>\n      <td>[(Release Offer, 381), (OC - Satisfied - Other...</td>\n      <td>[(AR - Satisfied - ELR, 9.0 days 13.0 hours 34...</td>\n      <td>9033322</td>\n      <td>3.423629e+09</td>\n    </tr>\n    <tr>\n      <th>5</th>\n      <td>6</td>\n      <td>199</td>\n      <td>107 days 22 hours 50 minutes 0 seconds</td>\n      <td>89.0 days 17.0 hours 28.0 minutes 11.0 seconds</td>\n      <td>85.93%</td>\n      <td>[(OC - Satisfied - Other, 222), (Release Offer...</td>\n      <td>[(AR - Created - Other, 9.0 days 22.0 hours 49...</td>\n      <td>9327000</td>\n      <td>1.856073e+09</td>\n    </tr>\n    <tr>\n      <th>6</th>\n      <td>7</td>\n      <td>118</td>\n      <td>123 days 11 hours 58 minutes 47 seconds</td>\n      <td>108.0 days 2.0 hours 28.0 minutes 16.0 seconds</td>\n      <td>88.14%</td>\n      <td>[(OC - Satisfied - Other, 141), (Release Offer...</td>\n      <td>[(AR - Satisfied - financial (sponsorship, sch...</td>\n      <td>10670327</td>\n      <td>1.259099e+09</td>\n    </tr>\n    <tr>\n      <th>7</th>\n      <td>8</td>\n      <td>68</td>\n      <td>129 days 12 hours 56 minutes 12 seconds</td>\n      <td>124.0 days 14.0 hours 33.0 minutes 19.5 seconds</td>\n      <td>94.12%</td>\n      <td>[(OC - Satisfied - Other, 92), (AR - Satisfied...</td>\n      <td>[(OC - Created - further information, 8.0 days...</td>\n      <td>11192172</td>\n      <td>7.610677e+08</td>\n    </tr>\n    <tr>\n      <th>8</th>\n      <td>9</td>\n      <td>36</td>\n      <td>121 days 9 hours 45 minutes 36 seconds</td>\n      <td>99.0 days 8.0 hours 50.0 minutes 33.0 seconds</td>\n      <td>88.89%</td>\n      <td>[(OC - Satisfied - Other, 58), (Release Offer,...</td>\n      <td>[(AR - Created - further information, 8.0 days...</td>\n      <td>10489536</td>\n      <td>3.776233e+08</td>\n    </tr>\n    <tr>\n      <th>9</th>\n      <td>10</td>\n      <td>10</td>\n      <td>248 days 9 hours 23 minutes 17 seconds</td>\n      <td>264.0 days 6.0 hours 28.0 minutes 3.5 seconds</td>\n      <td>90.0%</td>\n      <td>[(OC - Satisfied - Other, 19), (Release Offer,...</td>\n      <td>[(OC - Satisfied - Other, 7.0 days 2.0 hours 4...</td>\n      <td>21460997</td>\n      <td>2.146100e+08</td>\n    </tr>\n  </tbody>\n</table>\n</div>"
     },
     "execution_count": 16,
     "metadata": {},
     "output_type": "execute_result"
    }
   ],
   "source": [
    "s1_t4=pd.DataFrame({'Number of Workflow processes in this Workflow Segment':count_dic.keys(),'Number of cases':len_list, 'average time for workflow segment':list_avgtime_per_key_str,'median time for workflow segment':list_mediantime_per_key_str,'percentage of cases reaching to end of workflow segment':list_percent_reach_end})\n",
    "s1_t4['Num of Occurrences per step(descending)'] = list_step_count_per_key\n",
    "s1_t4['Average time spends per step(descending)'] = list_step_ave_time_per_key\n",
    "s1_t4['average time for workflow segment(seconds)'] = list_avgtime_per_key\n",
    "s1_t4['sum time for workflow segment(seconds)'] = list_sumtime_row\n",
    "s1_t4.head(n=10)\n"
   ],
   "metadata": {
    "collapsed": false,
    "pycharm": {
     "name": "#%%\n"
    }
   }
  },
  {
   "cell_type": "code",
   "execution_count": 17,
   "outputs": [],
   "source": [
    "s1_t4.to_csv('engineering_OF_segment1_workflowS4_table.csv', index=False)\n",
    "\n",
    "\n",
    "\n",
    "\n",
    "\n"
   ],
   "metadata": {
    "collapsed": false,
    "pycharm": {
     "name": "#%%\n"
    }
   }
  }
 ],
 "metadata": {
  "kernelspec": {
   "name": "python3",
   "language": "python",
   "display_name": "Python 3"
  },
  "language_info": {
   "codemirror_mode": {
    "name": "ipython",
    "version": 2
   },
   "file_extension": ".py",
   "mimetype": "text/x-python",
   "name": "python",
   "nbconvert_exporter": "python",
   "pygments_lexer": "ipython2",
   "version": "2.7.6"
  }
 },
 "nbformat": 4,
 "nbformat_minor": 0
}