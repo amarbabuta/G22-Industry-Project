{
 "cells": [
  {
   "cell_type": "code",
   "execution_count": 1,
   "metadata": {
    "collapsed": true
   },
   "outputs": [],
   "source": [
    "import pandas as pd\n",
    "import csv\n",
    "import numpy as np\n",
    "from datetime import datetime\n"
   ]
  },
  {
   "cell_type": "code",
   "execution_count": 2,
   "outputs": [
    {
     "name": "stderr",
     "output_type": "stream",
     "text": [
      "/Users/asteriag/Desktop/DATASCIENCEPROJECT_WORKFLOW/Workflow/venv/lib/python2.7/site-packages/IPython/core/interactiveshell.py:2714: DtypeWarning: Columns (19,31) have mixed types. Specify dtype option on import or set low_memory=False.\n",
      "  interactivity=interactivity, compiler=compiler, result=result)\n"
     ]
    }
   ],
   "source": [
    "df = pd.read_csv(\"/Users/asteriag/Desktop/DATASCIENCEPROJECT_WORKFLOW/PG_Apps_Workflow_v17.csv\")\n",
    "\n",
    "\n",
    "\n"
   ],
   "metadata": {
    "collapsed": false,
    "pycharm": {
     "name": "#%%\n"
    }
   }
  },
  {
   "cell_type": "code",
   "execution_count": 3,
   "outputs": [
    {
     "data": {
      "text/plain": "                CASE_ID  WRKFLW_TSK_MAP_GROUPED WRKFLW_TSK_MAP_DETAILED  \\\n48  838396|92416|142450                  Submit                  Submit   \n49  838396|92416|142450                  Submit                  Submit   \n50  838396|92416|142450  Allow Workflow Restart  Allow Workflow Restart   \n51  838396|92416|142450                Finalise                Finalise   \n52  838396|92416|142450       Manage Acceptance       Manage Acceptance   \n53  838396|92416|142450                  Accept                  Accept   \n54  838396|92416|142450           Release Offer           Release Offer   \n55  838396|92416|142450  Restart Offer Workflow  Restart Offer Workflow   \n56  838396|92416|142450  Allow Workflow Restart  Allow Workflow Restart   \n57  838396|92416|142450                Finalise                Finalise   \n\n       PATH_CRDATETIME ITEM_CRUSER WRKFLW_ORG_TYPE_CRUSER  STATUS_ORDER  \\\n48    4/7/2019 9:49:26      654385                    NaN             1   \n49    4/7/2019 9:49:23  $TB.DPUSER                    NaN             2   \n50  18/2/2019 12:17:24   MAHARJANS      Academic Services             3   \n51  18/2/2019 12:17:13   MAHARJANS      Academic Services             4   \n52  18/2/2019 12:16:18   MAHARJANS      Academic Services             5   \n53  18/2/2019 12:16:11   MAHARJANS      Academic Services             6   \n54  18/2/2019 12:14:52   MAHARJANS      Academic Services             7   \n55  18/2/2019 12:14:08       ELLAO      Academic Services             8   \n56  18/2/2019 11:56:33       ELLAO      Academic Services             9   \n57  18/2/2019 11:56:27       ELLAO      Academic Services            10   \n\n   LATEST_STATUS        WRKFLW_PROCESS                             QUERY_PART  \\\n48             Y  1. App to Assessment       Part 1 - Application ID Workflow   \n49             N  1. App to Assessment       Part 1 - Application ID Workflow   \n50             N         4. Post offer  Part 2 - Application Line ID Workflow   \n51             N         4. Post offer  Part 2 - Application Line ID Workflow   \n52             N         4. Post offer  Part 2 - Application Line ID Workflow   \n53             N         4. Post offer  Part 2 - Application Line ID Workflow   \n54             N         4. Post offer  Part 2 - Application Line ID Workflow   \n55             N         4. Post offer  Part 2 - Application Line ID Workflow   \n56             N         4. Post offer  Part 2 - Application Line ID Workflow   \n57             N         4. Post offer  Part 2 - Application Line ID Workflow   \n\n    ... ORIG_SPRD_CD       ORIG_SPRD_NM  SPK_CAT_TYPE_CD  BROAD_COURSE_LEVEL  \\\n48  ...         STYI  Start Year Intake              MCW                HDCW   \n49  ...         STYI  Start Year Intake              MCW                HDCW   \n50  ...         STYI  Start Year Intake              MCW                HDCW   \n51  ...         STYI  Start Year Intake              MCW                HDCW   \n52  ...         STYI  Start Year Intake              MCW                HDCW   \n53  ...         STYI  Start Year Intake              MCW                HDCW   \n54  ...         STYI  Start Year Intake              MCW                HDCW   \n55  ...         STYI  Start Year Intake              MCW                HDCW   \n56  ...         STYI  Start Year Intake              MCW                HDCW   \n57  ...         STYI  Start Year Intake              MCW                HDCW   \n\n     DEGREETYPE LIABILITY_CATEGORY_CD_RECODE  \\\n48  Full Degree                           OF   \n49  Full Degree                           OF   \n50  Full Degree                           OF   \n51  Full Degree                           OF   \n52  Full Degree                           OF   \n53  Full Degree                           OF   \n54  Full Degree                           OF   \n55  Full Degree                           OF   \n56  Full Degree                           OF   \n57  Full Degree                           OF   \n\n   ORIG_LIABILITY_CATEGORY_CD_RECODE OFFER_RELEASED_FG OFFER_OUTCOME_CD  \\\n48                                OF                 Y             $ACC   \n49                                OF                 Y             $ACC   \n50                                OF                 Y             $ACC   \n51                                OF                 Y             $ACC   \n52                                OF                 Y             $ACC   \n53                                OF                 Y             $ACC   \n54                                OF                 Y             $ACC   \n55                                OF                 Y             $ACC   \n56                                OF                 Y             $ACC   \n57                                OF                 Y             $ACC   \n\n   OFFER_CONDITIONS  \n48                N  \n49                N  \n50                N  \n51                N  \n52                N  \n53                N  \n54                N  \n55                N  \n56                N  \n57                N  \n\n[10 rows x 56 columns]",
      "text/html": "<div>\n<style scoped>\n    .dataframe tbody tr th:only-of-type {\n        vertical-align: middle;\n    }\n\n    .dataframe tbody tr th {\n        vertical-align: top;\n    }\n\n    .dataframe thead th {\n        text-align: right;\n    }\n</style>\n<table border=\"1\" class=\"dataframe\">\n  <thead>\n    <tr style=\"text-align: right;\">\n      <th></th>\n      <th>CASE_ID</th>\n      <th>WRKFLW_TSK_MAP_GROUPED</th>\n      <th>WRKFLW_TSK_MAP_DETAILED</th>\n      <th>PATH_CRDATETIME</th>\n      <th>ITEM_CRUSER</th>\n      <th>WRKFLW_ORG_TYPE_CRUSER</th>\n      <th>STATUS_ORDER</th>\n      <th>LATEST_STATUS</th>\n      <th>WRKFLW_PROCESS</th>\n      <th>QUERY_PART</th>\n      <th>...</th>\n      <th>ORIG_SPRD_CD</th>\n      <th>ORIG_SPRD_NM</th>\n      <th>SPK_CAT_TYPE_CD</th>\n      <th>BROAD_COURSE_LEVEL</th>\n      <th>DEGREETYPE</th>\n      <th>LIABILITY_CATEGORY_CD_RECODE</th>\n      <th>ORIG_LIABILITY_CATEGORY_CD_RECODE</th>\n      <th>OFFER_RELEASED_FG</th>\n      <th>OFFER_OUTCOME_CD</th>\n      <th>OFFER_CONDITIONS</th>\n    </tr>\n  </thead>\n  <tbody>\n    <tr>\n      <th>48</th>\n      <td>838396|92416|142450</td>\n      <td>Submit</td>\n      <td>Submit</td>\n      <td>4/7/2019 9:49:26</td>\n      <td>654385</td>\n      <td>NaN</td>\n      <td>1</td>\n      <td>Y</td>\n      <td>1. App to Assessment</td>\n      <td>Part 1 - Application ID Workflow</td>\n      <td>...</td>\n      <td>STYI</td>\n      <td>Start Year Intake</td>\n      <td>MCW</td>\n      <td>HDCW</td>\n      <td>Full Degree</td>\n      <td>OF</td>\n      <td>OF</td>\n      <td>Y</td>\n      <td>$ACC</td>\n      <td>N</td>\n    </tr>\n    <tr>\n      <th>49</th>\n      <td>838396|92416|142450</td>\n      <td>Submit</td>\n      <td>Submit</td>\n      <td>4/7/2019 9:49:23</td>\n      <td>$TB.DPUSER</td>\n      <td>NaN</td>\n      <td>2</td>\n      <td>N</td>\n      <td>1. App to Assessment</td>\n      <td>Part 1 - Application ID Workflow</td>\n      <td>...</td>\n      <td>STYI</td>\n      <td>Start Year Intake</td>\n      <td>MCW</td>\n      <td>HDCW</td>\n      <td>Full Degree</td>\n      <td>OF</td>\n      <td>OF</td>\n      <td>Y</td>\n      <td>$ACC</td>\n      <td>N</td>\n    </tr>\n    <tr>\n      <th>50</th>\n      <td>838396|92416|142450</td>\n      <td>Allow Workflow Restart</td>\n      <td>Allow Workflow Restart</td>\n      <td>18/2/2019 12:17:24</td>\n      <td>MAHARJANS</td>\n      <td>Academic Services</td>\n      <td>3</td>\n      <td>N</td>\n      <td>4. Post offer</td>\n      <td>Part 2 - Application Line ID Workflow</td>\n      <td>...</td>\n      <td>STYI</td>\n      <td>Start Year Intake</td>\n      <td>MCW</td>\n      <td>HDCW</td>\n      <td>Full Degree</td>\n      <td>OF</td>\n      <td>OF</td>\n      <td>Y</td>\n      <td>$ACC</td>\n      <td>N</td>\n    </tr>\n    <tr>\n      <th>51</th>\n      <td>838396|92416|142450</td>\n      <td>Finalise</td>\n      <td>Finalise</td>\n      <td>18/2/2019 12:17:13</td>\n      <td>MAHARJANS</td>\n      <td>Academic Services</td>\n      <td>4</td>\n      <td>N</td>\n      <td>4. Post offer</td>\n      <td>Part 2 - Application Line ID Workflow</td>\n      <td>...</td>\n      <td>STYI</td>\n      <td>Start Year Intake</td>\n      <td>MCW</td>\n      <td>HDCW</td>\n      <td>Full Degree</td>\n      <td>OF</td>\n      <td>OF</td>\n      <td>Y</td>\n      <td>$ACC</td>\n      <td>N</td>\n    </tr>\n    <tr>\n      <th>52</th>\n      <td>838396|92416|142450</td>\n      <td>Manage Acceptance</td>\n      <td>Manage Acceptance</td>\n      <td>18/2/2019 12:16:18</td>\n      <td>MAHARJANS</td>\n      <td>Academic Services</td>\n      <td>5</td>\n      <td>N</td>\n      <td>4. Post offer</td>\n      <td>Part 2 - Application Line ID Workflow</td>\n      <td>...</td>\n      <td>STYI</td>\n      <td>Start Year Intake</td>\n      <td>MCW</td>\n      <td>HDCW</td>\n      <td>Full Degree</td>\n      <td>OF</td>\n      <td>OF</td>\n      <td>Y</td>\n      <td>$ACC</td>\n      <td>N</td>\n    </tr>\n    <tr>\n      <th>53</th>\n      <td>838396|92416|142450</td>\n      <td>Accept</td>\n      <td>Accept</td>\n      <td>18/2/2019 12:16:11</td>\n      <td>MAHARJANS</td>\n      <td>Academic Services</td>\n      <td>6</td>\n      <td>N</td>\n      <td>4. Post offer</td>\n      <td>Part 2 - Application Line ID Workflow</td>\n      <td>...</td>\n      <td>STYI</td>\n      <td>Start Year Intake</td>\n      <td>MCW</td>\n      <td>HDCW</td>\n      <td>Full Degree</td>\n      <td>OF</td>\n      <td>OF</td>\n      <td>Y</td>\n      <td>$ACC</td>\n      <td>N</td>\n    </tr>\n    <tr>\n      <th>54</th>\n      <td>838396|92416|142450</td>\n      <td>Release Offer</td>\n      <td>Release Offer</td>\n      <td>18/2/2019 12:14:52</td>\n      <td>MAHARJANS</td>\n      <td>Academic Services</td>\n      <td>7</td>\n      <td>N</td>\n      <td>4. Post offer</td>\n      <td>Part 2 - Application Line ID Workflow</td>\n      <td>...</td>\n      <td>STYI</td>\n      <td>Start Year Intake</td>\n      <td>MCW</td>\n      <td>HDCW</td>\n      <td>Full Degree</td>\n      <td>OF</td>\n      <td>OF</td>\n      <td>Y</td>\n      <td>$ACC</td>\n      <td>N</td>\n    </tr>\n    <tr>\n      <th>55</th>\n      <td>838396|92416|142450</td>\n      <td>Restart Offer Workflow</td>\n      <td>Restart Offer Workflow</td>\n      <td>18/2/2019 12:14:08</td>\n      <td>ELLAO</td>\n      <td>Academic Services</td>\n      <td>8</td>\n      <td>N</td>\n      <td>4. Post offer</td>\n      <td>Part 2 - Application Line ID Workflow</td>\n      <td>...</td>\n      <td>STYI</td>\n      <td>Start Year Intake</td>\n      <td>MCW</td>\n      <td>HDCW</td>\n      <td>Full Degree</td>\n      <td>OF</td>\n      <td>OF</td>\n      <td>Y</td>\n      <td>$ACC</td>\n      <td>N</td>\n    </tr>\n    <tr>\n      <th>56</th>\n      <td>838396|92416|142450</td>\n      <td>Allow Workflow Restart</td>\n      <td>Allow Workflow Restart</td>\n      <td>18/2/2019 11:56:33</td>\n      <td>ELLAO</td>\n      <td>Academic Services</td>\n      <td>9</td>\n      <td>N</td>\n      <td>4. Post offer</td>\n      <td>Part 2 - Application Line ID Workflow</td>\n      <td>...</td>\n      <td>STYI</td>\n      <td>Start Year Intake</td>\n      <td>MCW</td>\n      <td>HDCW</td>\n      <td>Full Degree</td>\n      <td>OF</td>\n      <td>OF</td>\n      <td>Y</td>\n      <td>$ACC</td>\n      <td>N</td>\n    </tr>\n    <tr>\n      <th>57</th>\n      <td>838396|92416|142450</td>\n      <td>Finalise</td>\n      <td>Finalise</td>\n      <td>18/2/2019 11:56:27</td>\n      <td>ELLAO</td>\n      <td>Academic Services</td>\n      <td>10</td>\n      <td>N</td>\n      <td>4. Post offer</td>\n      <td>Part 2 - Application Line ID Workflow</td>\n      <td>...</td>\n      <td>STYI</td>\n      <td>Start Year Intake</td>\n      <td>MCW</td>\n      <td>HDCW</td>\n      <td>Full Degree</td>\n      <td>OF</td>\n      <td>OF</td>\n      <td>Y</td>\n      <td>$ACC</td>\n      <td>N</td>\n    </tr>\n  </tbody>\n</table>\n<p>10 rows × 56 columns</p>\n</div>"
     },
     "execution_count": 3,
     "metadata": {},
     "output_type": "execute_result"
    }
   ],
   "source": [
    "segment1 = df[(df['BROAD_COURSE_LEVEL'] == 'HDCW') &\n",
    "(df['AVAIL_ORG_UNIT_NM'] == 'Engineering') &\n",
    "(df['LIABILITY_CATEGORY_CD_RECODE'] == 'OF')&\n",
    "(df['DEGREETYPE'] == 'Full Degree')]\n",
    "\n",
    "segment1.head(n=10)"
   ],
   "metadata": {
    "collapsed": false,
    "pycharm": {
     "name": "#%%\n"
    }
   }
  },
  {
   "cell_type": "code",
   "execution_count": 4,
   "outputs": [],
   "source": [
    "segment1.to_csv(\"workflow_segment1.csv\",index=False)"
   ],
   "metadata": {
    "collapsed": false,
    "pycharm": {
     "name": "#%%\n"
    }
   }
  },
  {
   "cell_type": "code",
   "execution_count": 5,
   "outputs": [],
   "source": [
    "segment2 = df[(df['BROAD_COURSE_LEVEL'] == 'HDCW') &\n",
    "(df['AVAIL_ORG_UNIT_NM'] == 'Engineering') &\n",
    "(df['LIABILITY_CATEGORY_CD_RECODE'] == 'AS')&\n",
    "(df['DEGREETYPE'] == 'Full Degree')]"
   ],
   "metadata": {
    "collapsed": false,
    "pycharm": {
     "name": "#%%\n"
    }
   }
  },
  {
   "cell_type": "code",
   "execution_count": 6,
   "outputs": [],
   "source": [
    "segment2.to_csv(\"workflow_segment2.csv\",index=False)\n"
   ],
   "metadata": {
    "collapsed": false,
    "pycharm": {
     "name": "#%%\n"
    }
   }
  },
  {
   "cell_type": "code",
   "execution_count": 7,
   "outputs": [],
   "source": [
    "segment3 = df[(df['BROAD_COURSE_LEVEL'] == 'HDCW') &\n",
    "(df['AVAIL_ORG_UNIT_NM'] == 'Engineering') &\n",
    "(df['LIABILITY_CATEGORY_CD_RECODE'] == 'AF')&\n",
    "(df['DEGREETYPE'] == 'Full Degree')]"
   ],
   "metadata": {
    "collapsed": false,
    "pycharm": {
     "name": "#%%\n"
    }
   }
  },
  {
   "cell_type": "code",
   "execution_count": 8,
   "outputs": [],
   "source": [
    "segment3.to_csv(\"workflow_segment3.csv\",index=False)\n",
    "\n"
   ],
   "metadata": {
    "collapsed": false,
    "pycharm": {
     "name": "#%%\n"
    }
   }
  }
 ],
 "metadata": {
  "kernelspec": {
   "display_name": "Python 2",
   "language": "python",
   "name": "python2"
  },
  "language_info": {
   "codemirror_mode": {
    "name": "ipython",
    "version": 2
   },
   "file_extension": ".py",
   "mimetype": "text/x-python",
   "name": "python",
   "nbconvert_exporter": "python",
   "pygments_lexer": "ipython2",
   "version": "2.7.6"
  }
 },
 "nbformat": 4,
 "nbformat_minor": 0
}