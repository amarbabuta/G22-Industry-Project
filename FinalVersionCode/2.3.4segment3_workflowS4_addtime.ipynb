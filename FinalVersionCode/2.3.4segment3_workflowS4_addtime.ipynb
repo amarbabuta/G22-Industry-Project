{
 "cells": [
  {
   "cell_type": "code",
   "execution_count": 6,
   "outputs": [],
   "source": [
    "import pandas as pd\n",
    "from datetime import datetime"
   ],
   "metadata": {
    "collapsed": false,
    "pycharm": {
     "name": "#%%\n"
    }
   }
  },
  {
   "cell_type": "code",
   "execution_count": 7,
   "outputs": [],
   "source": [
    "df3_WS4 = pd.read_csv(\"/Users/asteriag/Desktop/DATASCIENCEPROJECT_WORKFLOW/TimeStamp_Engineering/engineering_AF_segment3_workflowS4.csv\",engine='python')\n"
   ],
   "metadata": {
    "collapsed": false,
    "pycharm": {
     "name": "#%%\n"
    }
   }
  },
  {
   "cell_type": "code",
   "execution_count": 8,
   "outputs": [
    {
     "data": {
      "text/plain": "                 CASE_ID WRKFLW_TSK_MAP_GROUPED WRKFLW_TSK_MAP_DETAILED  \\\n0  1076747|438001|677047          Release Offer           Release Offer   \n1  1076747|438001|677047                 Accept                  Accept   \n\n      PATH_CRDATETIME  \n0  15/1/2019 17:25:38  \n1  16/1/2019 18:38:41  ",
      "text/html": "<div>\n<style scoped>\n    .dataframe tbody tr th:only-of-type {\n        vertical-align: middle;\n    }\n\n    .dataframe tbody tr th {\n        vertical-align: top;\n    }\n\n    .dataframe thead th {\n        text-align: right;\n    }\n</style>\n<table border=\"1\" class=\"dataframe\">\n  <thead>\n    <tr style=\"text-align: right;\">\n      <th></th>\n      <th>CASE_ID</th>\n      <th>WRKFLW_TSK_MAP_GROUPED</th>\n      <th>WRKFLW_TSK_MAP_DETAILED</th>\n      <th>PATH_CRDATETIME</th>\n    </tr>\n  </thead>\n  <tbody>\n    <tr>\n      <th>0</th>\n      <td>1076747|438001|677047</td>\n      <td>Release Offer</td>\n      <td>Release Offer</td>\n      <td>15/1/2019 17:25:38</td>\n    </tr>\n    <tr>\n      <th>1</th>\n      <td>1076747|438001|677047</td>\n      <td>Accept</td>\n      <td>Accept</td>\n      <td>16/1/2019 18:38:41</td>\n    </tr>\n  </tbody>\n</table>\n</div>"
     },
     "execution_count": 8,
     "metadata": {},
     "output_type": "execute_result"
    }
   ],
   "source": [
    "df3_WS4.head(n=2)"
   ],
   "metadata": {
    "collapsed": false,
    "pycharm": {
     "name": "#%%\n"
    }
   }
  },
  {
   "cell_type": "code",
   "execution_count": 9,
   "outputs": [],
   "source": [
    "def strfdelta(tdelta, fmt):\n",
    "    d = {\"days\": tdelta.days}\n",
    "    d[\"hours\"], rem = divmod(tdelta.seconds, 3600)\n",
    "    d[\"minutes\"], d[\"seconds\"] = divmod(rem, 60)\n",
    "    return fmt.format(**d)\n",
    "def calculate_time_duration_str(str1,str2):\n",
    "    t1=datetime.strptime(str1,'%d/%m/%Y %H:%M:%S')\n",
    "    t2=datetime.strptime(str2,'%d/%m/%Y %H:%M:%S')\n",
    "    s=strfdelta(t1-t2,\"{days} days {hours} hours {minutes} minutes {seconds} seconds\")\n",
    "    return s\n",
    "def calculate_time_duration_second(str1,str2):\n",
    "    t1=datetime.strptime(str1,'%d/%m/%Y %H:%M:%S')\n",
    "    t2=datetime.strptime(str2,'%d/%m/%Y %H:%M:%S')\n",
    "    diff = t1-t2\n",
    "    return diff.total_seconds()\n"
   ],
   "metadata": {
    "collapsed": false,
    "pycharm": {
     "name": "#%%\n"
    }
   }
  },
  {
   "cell_type": "code",
   "execution_count": 10,
   "outputs": [],
   "source": [
    "for i in range(len(df3_WS4)-1):\n",
    "    id=df3_WS4.loc[i,'CASE_ID']\n",
    "    next_id=df3_WS4.loc[i+1,'CASE_ID']\n",
    "    if next_id == id:\n",
    "        df3_WS4.loc[i,'time_used_str']=calculate_time_duration_str(df3_WS4.loc[i+1,'PATH_CRDATETIME'],df3_WS4.loc[i,'PATH_CRDATETIME'])\n",
    "        df3_WS4.loc[i,'time_used_second']=calculate_time_duration_second(df3_WS4.loc[i+1,'PATH_CRDATETIME'],df3_WS4.loc[i,'PATH_CRDATETIME'])\n",
    "    elif next_id != id:\n",
    "        df3_WS4.loc[i,'time_used_str']= 'NA'\n",
    "        df3_WS4.loc[i,'time_used_second']= 0\n",
    "\n",
    "df3_WS4.loc[len(df3_WS4)-1,'time_used_str']= 'NA'\n",
    "df3_WS4.loc[len(df3_WS4)-1,'time_used_second']= 0\n",
    "\n",
    "df3_WS4.to_csv('engineering_AF_segment3_workflowS4_has_duration.csv',index=False)\n",
    "\n",
    "\n",
    "\n"
   ],
   "metadata": {
    "collapsed": false,
    "pycharm": {
     "name": "#%%\n"
    }
   }
  }
 ],
 "metadata": {
  "kernelspec": {
   "name": "pycharm-3f427a6c",
   "language": "python",
   "display_name": "PyCharm (pythonProject)"
  },
  "language_info": {
   "codemirror_mode": {
    "name": "ipython",
    "version": 2
   },
   "file_extension": ".py",
   "mimetype": "text/x-python",
   "name": "python",
   "nbconvert_exporter": "python",
   "pygments_lexer": "ipython2",
   "version": "2.7.6"
  }
 },
 "nbformat": 4,
 "nbformat_minor": 0
}