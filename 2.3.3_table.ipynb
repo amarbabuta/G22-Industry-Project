{
 "cells": [
  {
   "cell_type": "code",
   "execution_count": 122,
   "metadata": {
    "collapsed": true
   },
   "outputs": [],
   "source": [
    "import pandas as pd\n",
    "import numpy\n",
    "from __future__ import division"
   ]
  },
  {
   "cell_type": "code",
   "execution_count": 123,
   "outputs": [],
   "source": [
    "df3_WS3T = pd.read_csv(\"/Users/asteriag/Desktop/DATASCIENCEPROJECT_WORKFLOW/TimeStamp_Engineering/engineering_AF_segment3_workflowS3_has_duration.csv\",engine='python')"
   ],
   "metadata": {
    "collapsed": false,
    "pycharm": {
     "name": "#%%\n"
    }
   }
  },
  {
   "cell_type": "code",
   "execution_count": 124,
   "outputs": [
    {
     "data": {
      "text/plain": "               CASE_ID           WRKFLW_TSK_MAP_GROUPED  \\\n0  70289|574074|874352  Assessment Outcome - Successful   \n\n           WRKFLW_TSK_MAP_DETAILED     PATH_CRDATETIME ITEM_CRUSER  \\\n0  Assessment Outcome - Successful  24/1/2020 16:07:03    CORDELLE   \n\n  WRKFLW_ORG_TYPE_CRUSER  STATUS_ORDER LATEST_STATUS         WRKFLW_PROCESS  \\\n0      Academic Services             6             N  2. Perform Assessment   \n\n                    QUERY_PART  ... SPK_CAT_TYPE_CD  BROAD_COURSE_LEVEL  \\\n0  Part 3 - Assessment Outcome  ...             MCW                HDCW   \n\n    DEGREETYPE  LIABILITY_CATEGORY_CD_RECODE  \\\n0  Full Degree                            AF   \n\n   ORIG_LIABILITY_CATEGORY_CD_RECODE OFFER_RELEASED_FG OFFER_OUTCOME_CD  \\\n0                                 AF                 Y             $ACC   \n\n  OFFER_CONDITIONS                       time_used_str  time_used_second  \n0                N  0 days 0 hours 0 minutes 0 seconds               0.0  \n\n[1 rows x 58 columns]",
      "text/html": "<div>\n<style scoped>\n    .dataframe tbody tr th:only-of-type {\n        vertical-align: middle;\n    }\n\n    .dataframe tbody tr th {\n        vertical-align: top;\n    }\n\n    .dataframe thead th {\n        text-align: right;\n    }\n</style>\n<table border=\"1\" class=\"dataframe\">\n  <thead>\n    <tr style=\"text-align: right;\">\n      <th></th>\n      <th>CASE_ID</th>\n      <th>WRKFLW_TSK_MAP_GROUPED</th>\n      <th>WRKFLW_TSK_MAP_DETAILED</th>\n      <th>PATH_CRDATETIME</th>\n      <th>ITEM_CRUSER</th>\n      <th>WRKFLW_ORG_TYPE_CRUSER</th>\n      <th>STATUS_ORDER</th>\n      <th>LATEST_STATUS</th>\n      <th>WRKFLW_PROCESS</th>\n      <th>QUERY_PART</th>\n      <th>...</th>\n      <th>SPK_CAT_TYPE_CD</th>\n      <th>BROAD_COURSE_LEVEL</th>\n      <th>DEGREETYPE</th>\n      <th>LIABILITY_CATEGORY_CD_RECODE</th>\n      <th>ORIG_LIABILITY_CATEGORY_CD_RECODE</th>\n      <th>OFFER_RELEASED_FG</th>\n      <th>OFFER_OUTCOME_CD</th>\n      <th>OFFER_CONDITIONS</th>\n      <th>time_used_str</th>\n      <th>time_used_second</th>\n    </tr>\n  </thead>\n  <tbody>\n    <tr>\n      <th>0</th>\n      <td>70289|574074|874352</td>\n      <td>Assessment Outcome - Successful</td>\n      <td>Assessment Outcome - Successful</td>\n      <td>24/1/2020 16:07:03</td>\n      <td>CORDELLE</td>\n      <td>Academic Services</td>\n      <td>6</td>\n      <td>N</td>\n      <td>2. Perform Assessment</td>\n      <td>Part 3 - Assessment Outcome</td>\n      <td>...</td>\n      <td>MCW</td>\n      <td>HDCW</td>\n      <td>Full Degree</td>\n      <td>AF</td>\n      <td>AF</td>\n      <td>Y</td>\n      <td>$ACC</td>\n      <td>N</td>\n      <td>0 days 0 hours 0 minutes 0 seconds</td>\n      <td>0.0</td>\n    </tr>\n  </tbody>\n</table>\n<p>1 rows × 58 columns</p>\n</div>"
     },
     "execution_count": 124,
     "metadata": {},
     "output_type": "execute_result"
    }
   ],
   "source": [
    "df3_WS3T.head(n=1)"
   ],
   "metadata": {
    "collapsed": false,
    "pycharm": {
     "name": "#%%\n"
    }
   }
  },
  {
   "cell_type": "code",
   "execution_count": 125,
   "outputs": [],
   "source": [
    "numOfWorkflowProcesses = df3_WS3T.groupby('CASE_ID').CASE_ID.count()\n",
    "\n",
    "count_dic=dict()\n",
    "for i,v in numOfWorkflowProcesses.items():\n",
    "    if count_dic.get(v) is None:\n",
    "        count_dic[v]=[]\n",
    "        count_dic[v].append(i)\n",
    "    else:\n",
    "        count_dic[v].append(i)\n",
    "#count_dic\n",
    "count_dic = dict(sorted(count_dic.items()))"
   ],
   "metadata": {
    "collapsed": false,
    "pycharm": {
     "name": "#%%\n"
    }
   }
  },
  {
   "cell_type": "code",
   "execution_count": 126,
   "outputs": [],
   "source": [
    "len_list=[]\n",
    "for key in count_dic.keys():\n",
    "    len_list.append(len(count_dic[key]))"
   ],
   "metadata": {
    "collapsed": false,
    "pycharm": {
     "name": "#%%\n"
    }
   }
  },
  {
   "cell_type": "code",
   "execution_count": 127,
   "outputs": [],
   "source": [
    "def strfdelta(tdelta, fmt):\n",
    "    d=dict()\n",
    "    d[\"days\"],rem1 = divmod(tdelta,60*60*24)\n",
    "    d[\"hours\"], rem2 = divmod(rem1, 3600)\n",
    "    d[\"minutes\"], d[\"seconds\"] = divmod(rem2, 60)\n",
    "    return fmt.format(**d)"
   ],
   "metadata": {
    "collapsed": false,
    "pycharm": {
     "name": "#%%\n"
    }
   }
  },
  {
   "cell_type": "code",
   "execution_count": 128,
   "outputs": [],
   "source": [
    "list_avgtime_per_key =[]\n",
    "for key in count_dic.keys():\n",
    "    id_list = count_dic[key]\n",
    "    list_sumtime_person = 0\n",
    "    for id in id_list:\n",
    "        df = df3_WS3T[df3_WS3T['CASE_ID']== id]\n",
    "        tsum = df['time_used_second'].sum()\n",
    "        list_sumtime_person+=tsum\n",
    "    list_avgtime_per_key.append(int((list_sumtime_person/len(count_dic[key]))))\n",
    "\n",
    "list_avgtime_per_key_str = []\n",
    "for i in list_avgtime_per_key:\n",
    "    list_avgtime_per_key_str.append(strfdelta(i,\"{days} days {hours} hours {minutes} minutes {seconds} seconds\"))"
   ],
   "metadata": {
    "collapsed": false,
    "pycharm": {
     "name": "#%%\n"
    }
   }
  },
  {
   "cell_type": "code",
   "execution_count": 129,
   "outputs": [],
   "source": [
    "list_mediantime_per_key = []\n",
    "for key in count_dic.keys():\n",
    "    id_list = count_dic[key]\n",
    "    list_sumtime_per_person = []\n",
    "    for id in id_list:\n",
    "        df = df3_WS3T[df3_WS3T['CASE_ID']== id]\n",
    "        tsum = df['time_used_second'].sum()\n",
    "        list_sumtime_per_person.append(tsum)\n",
    "    list_mediantime_per_key.append(numpy.median(list_sumtime_per_person))\n",
    "\n",
    "list_mediantime_per_key_str = []\n",
    "for i in list_mediantime_per_key:\n",
    "    list_mediantime_per_key_str.append(strfdelta(i,\"{days} days {hours} hours {minutes} minutes {seconds} seconds\"))"
   ],
   "metadata": {
    "collapsed": false,
    "pycharm": {
     "name": "#%%\n"
    }
   }
  },
  {
   "cell_type": "code",
   "execution_count": 130,
   "outputs": [],
   "source": [
    "list_percent_reach_end = []\n",
    "for key in count_dic.keys():\n",
    "    id_list = count_dic[key]\n",
    "    count_df_end_step = 0\n",
    "    count_df_id = 0\n",
    "    for id in id_list:\n",
    "        df_id = df3_WS3T[df3_WS3T['CASE_ID']== id]\n",
    "        df_end_step = df_id[df_id['WRKFLW_TSK_MAP_GROUPED']=='Release Offer']\n",
    "        count_df_id += df_id['CASE_ID'].nunique()\n",
    "        count_df_end_step += df_end_step['CASE_ID'].nunique()\n",
    "    list_percent_reach_end.append(str(round((count_df_end_step/count_df_id)*100,2))+ \"%\")"
   ],
   "metadata": {
    "collapsed": false,
    "pycharm": {
     "name": "#%%\n"
    }
   }
  },
  {
   "cell_type": "code",
   "execution_count": 131,
   "outputs": [],
   "source": [
    "list_step_per_key = []\n",
    "for key in count_dic.keys():\n",
    "    id_list = count_dic[key]\n",
    "    list_step = set()\n",
    "    for id in id_list:\n",
    "        df = df3_WS3T[df3_WS3T['CASE_ID']== id]\n",
    "        for index, row in df.iterrows():\n",
    "            list_step.add(row['WRKFLW_TSK_MAP_GROUPED'])\n",
    "    list_step_per_key.append(list_step)"
   ],
   "metadata": {
    "collapsed": false,
    "pycharm": {
     "name": "#%%\n"
    }
   }
  },
  {
   "cell_type": "code",
   "execution_count": 132,
   "outputs": [],
   "source": [
    "from collections import Counter\n",
    "import collections, functools, operator\n",
    "list_step_sum_time_per_key = []\n",
    "list_step_count_per_key = []\n",
    "list_step_ave_time_per_key = []\n",
    "for key in count_dic.keys():\n",
    "    id_list = count_dic[key]\n",
    "    list_step = []\n",
    "    step_time_list = []\n",
    "    for id in id_list:\n",
    "        df = df3_WS3T[df3_WS3T['CASE_ID']== id]\n",
    "        step_time = dict(zip(df.WRKFLW_TSK_MAP_GROUPED, df.time_used_second))\n",
    "        step_time_list.append(step_time)\n",
    "        for index, row in df.iterrows():\n",
    "            list_step.append(row['WRKFLW_TSK_MAP_GROUPED'])\n",
    "\n",
    "    step_sum_time = dict(functools.reduce(operator.add,\n",
    "         map(collections.Counter, step_time_list)))\n",
    "\n",
    "    dict_list_step=dict(Counter(list_step))\n",
    "\n",
    "    step_ave_time = {key: strfdelta(step_sum_time[key] // dict_list_step.get(key, 0),\"{days} days {hours} hours {minutes} minutes {seconds} seconds\")\n",
    "                        for key in step_sum_time.keys()}\n",
    "\n",
    "    sort_step_sum_time = sorted(step_sum_time.items(),key = lambda x: x[1], reverse = True)\n",
    "    list_step_sum_time_per_key.append(sort_step_sum_time)\n",
    "\n",
    "    sort_dict_list_step = sorted(dict_list_step.items(),key = lambda x: x[1], reverse = True)\n",
    "    list_step_count_per_key.append(sort_dict_list_step)\n",
    "\n",
    "    sort_step_ave_time = sorted(step_ave_time.items(),key = lambda x: x[1], reverse = True)\n",
    "    list_step_ave_time_per_key.append(sort_step_ave_time)"
   ],
   "metadata": {
    "collapsed": false,
    "pycharm": {
     "name": "#%%\n"
    }
   }
  },
  {
   "cell_type": "code",
   "execution_count": 133,
   "outputs": [
    {
     "data": {
      "text/plain": "   Number of Workflow processes in this Workflow Segment  Number of cases  \\\n0                                                  2                    2   \n1                                                  3                    5   \n2                                                  4                    1   \n3                                                  5                    1   \n4                                                  9                    2   \n\n       average time for workflow segment  \\\n0    0 days 0 hours 2 minutes 48 seconds   \n1   1 days 0 hours 45 minutes 25 seconds   \n2    0 days 0 hours 4 minutes 49 seconds   \n3    0 days 0 hours 6 minutes 40 seconds   \n4  0 days 10 hours 24 minutes 31 seconds   \n\n                median time for workflow segment  \\\n0    0.0 days 0.0 hours 2.0 minutes 48.5 seconds   \n1    0.0 days 0.0 hours 9.0 minutes 27.0 seconds   \n2    0.0 days 0.0 hours 4.0 minutes 49.0 seconds   \n3    0.0 days 0.0 hours 6.0 minutes 40.0 seconds   \n4  0.0 days 10.0 hours 24.0 minutes 31.5 seconds   \n\n  percentage of cases reaching to end of workflow segment  \\\n0                                             100.0%        \n1                                             100.0%        \n2                                             100.0%        \n3                                             100.0%        \n4                                             100.0%        \n\n                                                step  \\\n0   {Assessment Outcome - Successful, Release Offer}   \n1  {Assessment Decision - Qualified, Assessment O...   \n2  {Assessment Outcome - Successful, Create Offer...   \n3  {OC - Created - Other, Assessment Decision - N...   \n4  {Assessment Decision - Qualified, OC - Created...   \n\n             Num of Occurrences per step(descending)  \\\n0  [(Assessment Outcome - Successful, 2), (Releas...   \n1  [(Assessment Outcome - Successful, 5), (Releas...   \n2  [(Assessment Outcome - Successful, 1), (Create...   \n3  [(Assessment Outcome - Successful, 1), (Create...   \n4  [(Assessment Outcome - Successful, 3), (Assess...   \n\n            Average time spends per step(descending)  \n0  [(Assessment Outcome - Successful, 0.0 days 0....  \n1  [(Create Offer, 1.0 days 6.0 hours 56.0 minute...  \n2  [(OC - Created - Other, 0.0 days 0.0 hours 3.0...  \n3  [(OC - Created - Other, 0.0 days 0.0 hours 4.0...  \n4  [(Put Assessment On-Hold, 0.0 days 20.0 hours ...  ",
      "text/html": "<div>\n<style scoped>\n    .dataframe tbody tr th:only-of-type {\n        vertical-align: middle;\n    }\n\n    .dataframe tbody tr th {\n        vertical-align: top;\n    }\n\n    .dataframe thead th {\n        text-align: right;\n    }\n</style>\n<table border=\"1\" class=\"dataframe\">\n  <thead>\n    <tr style=\"text-align: right;\">\n      <th></th>\n      <th>Number of Workflow processes in this Workflow Segment</th>\n      <th>Number of cases</th>\n      <th>average time for workflow segment</th>\n      <th>median time for workflow segment</th>\n      <th>percentage of cases reaching to end of workflow segment</th>\n      <th>step</th>\n      <th>Num of Occurrences per step(descending)</th>\n      <th>Average time spends per step(descending)</th>\n    </tr>\n  </thead>\n  <tbody>\n    <tr>\n      <th>0</th>\n      <td>2</td>\n      <td>2</td>\n      <td>0 days 0 hours 2 minutes 48 seconds</td>\n      <td>0.0 days 0.0 hours 2.0 minutes 48.5 seconds</td>\n      <td>100.0%</td>\n      <td>{Assessment Outcome - Successful, Release Offer}</td>\n      <td>[(Assessment Outcome - Successful, 2), (Releas...</td>\n      <td>[(Assessment Outcome - Successful, 0.0 days 0....</td>\n    </tr>\n    <tr>\n      <th>1</th>\n      <td>3</td>\n      <td>5</td>\n      <td>1 days 0 hours 45 minutes 25 seconds</td>\n      <td>0.0 days 0.0 hours 9.0 minutes 27.0 seconds</td>\n      <td>100.0%</td>\n      <td>{Assessment Decision - Qualified, Assessment O...</td>\n      <td>[(Assessment Outcome - Successful, 5), (Releas...</td>\n      <td>[(Create Offer, 1.0 days 6.0 hours 56.0 minute...</td>\n    </tr>\n    <tr>\n      <th>2</th>\n      <td>4</td>\n      <td>1</td>\n      <td>0 days 0 hours 4 minutes 49 seconds</td>\n      <td>0.0 days 0.0 hours 4.0 minutes 49.0 seconds</td>\n      <td>100.0%</td>\n      <td>{Assessment Outcome - Successful, Create Offer...</td>\n      <td>[(Assessment Outcome - Successful, 1), (Create...</td>\n      <td>[(OC - Created - Other, 0.0 days 0.0 hours 3.0...</td>\n    </tr>\n    <tr>\n      <th>3</th>\n      <td>5</td>\n      <td>1</td>\n      <td>0 days 0 hours 6 minutes 40 seconds</td>\n      <td>0.0 days 0.0 hours 6.0 minutes 40.0 seconds</td>\n      <td>100.0%</td>\n      <td>{OC - Created - Other, Assessment Decision - N...</td>\n      <td>[(Assessment Outcome - Successful, 1), (Create...</td>\n      <td>[(OC - Created - Other, 0.0 days 0.0 hours 4.0...</td>\n    </tr>\n    <tr>\n      <th>4</th>\n      <td>9</td>\n      <td>2</td>\n      <td>0 days 10 hours 24 minutes 31 seconds</td>\n      <td>0.0 days 10.0 hours 24.0 minutes 31.5 seconds</td>\n      <td>100.0%</td>\n      <td>{Assessment Decision - Qualified, OC - Created...</td>\n      <td>[(Assessment Outcome - Successful, 3), (Assess...</td>\n      <td>[(Put Assessment On-Hold, 0.0 days 20.0 hours ...</td>\n    </tr>\n  </tbody>\n</table>\n</div>"
     },
     "execution_count": 133,
     "metadata": {},
     "output_type": "execute_result"
    }
   ],
   "source": [
    "s3_t3=pd.DataFrame({'Number of Workflow processes in this Workflow Segment':count_dic.keys(),'Number of cases':len_list, 'average time for workflow segment':list_avgtime_per_key_str,'median time for workflow segment':list_mediantime_per_key_str,'percentage of cases reaching to end of workflow segment':list_percent_reach_end,'step':list_step_per_key})\n",
    "s3_t3['Num of Occurrences per step(descending)'] = list_step_count_per_key\n",
    "s3_t3['Average time spends per step(descending)'] = list_step_ave_time_per_key\n",
    "s3_t3.head(n=10)\n"
   ],
   "metadata": {
    "collapsed": false,
    "pycharm": {
     "name": "#%%\n"
    }
   }
  },
  {
   "cell_type": "code",
   "execution_count": 134,
   "outputs": [],
   "source": [
    "s3_t3.to_csv('engineering_AF_segment3_workflowS3_table.csv', index=False)\n",
    "\n",
    "\n",
    "\n"
   ],
   "metadata": {
    "collapsed": false,
    "pycharm": {
     "name": "#%%\n"
    }
   }
  }
 ],
 "metadata": {
  "kernelspec": {
   "name": "pycharm-3f427a6c",
   "language": "python",
   "display_name": "PyCharm (pythonProject)"
  },
  "language_info": {
   "codemirror_mode": {
    "name": "ipython",
    "version": 2
   },
   "file_extension": ".py",
   "mimetype": "text/x-python",
   "name": "python",
   "nbconvert_exporter": "python",
   "pygments_lexer": "ipython2",
   "version": "2.7.6"
  }
 },
 "nbformat": 4,
 "nbformat_minor": 0
}