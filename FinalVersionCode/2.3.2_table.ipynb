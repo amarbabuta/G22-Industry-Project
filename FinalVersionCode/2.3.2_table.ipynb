{
 "cells": [
  {
   "cell_type": "code",
   "execution_count": 1,
   "metadata": {
    "collapsed": true
   },
   "outputs": [],
   "source": [
    "import pandas as pd\n",
    "import numpy\n",
    "from __future__ import division"
   ]
  },
  {
   "cell_type": "code",
   "execution_count": 2,
   "outputs": [],
   "source": [
    "df3_WS2T = pd.read_csv(\"/Users/asteriag/Desktop/DATASCIENCEPROJECT_WORKFLOW/TimeStamp_Engineering/engineering_AF_segment3_workflowS2_has_duration.csv\",engine='python')"
   ],
   "metadata": {
    "collapsed": false,
    "pycharm": {
     "name": "#%%\n"
    }
   }
  },
  {
   "cell_type": "code",
   "execution_count": 3,
   "outputs": [
    {
     "data": {
      "text/plain": "                 CASE_ID WRKFLW_TSK_MAP_GROUPED WRKFLW_TSK_MAP_DETAILED  \\\n0  1076747|438001|677047    Send for Assessment     Send for Assessment   \n\n      PATH_CRDATETIME                         time_used_str  time_used_second  \n0  11/1/2019 14:46:32  0 days 2 hours 18 minutes 51 seconds            8331.0  ",
      "text/html": "<div>\n<style scoped>\n    .dataframe tbody tr th:only-of-type {\n        vertical-align: middle;\n    }\n\n    .dataframe tbody tr th {\n        vertical-align: top;\n    }\n\n    .dataframe thead th {\n        text-align: right;\n    }\n</style>\n<table border=\"1\" class=\"dataframe\">\n  <thead>\n    <tr style=\"text-align: right;\">\n      <th></th>\n      <th>CASE_ID</th>\n      <th>WRKFLW_TSK_MAP_GROUPED</th>\n      <th>WRKFLW_TSK_MAP_DETAILED</th>\n      <th>PATH_CRDATETIME</th>\n      <th>time_used_str</th>\n      <th>time_used_second</th>\n    </tr>\n  </thead>\n  <tbody>\n    <tr>\n      <th>0</th>\n      <td>1076747|438001|677047</td>\n      <td>Send for Assessment</td>\n      <td>Send for Assessment</td>\n      <td>11/1/2019 14:46:32</td>\n      <td>0 days 2 hours 18 minutes 51 seconds</td>\n      <td>8331.0</td>\n    </tr>\n  </tbody>\n</table>\n</div>"
     },
     "execution_count": 3,
     "metadata": {},
     "output_type": "execute_result"
    }
   ],
   "source": [
    "df3_WS2T.head(n=1)"
   ],
   "metadata": {
    "collapsed": false,
    "pycharm": {
     "name": "#%%\n"
    }
   }
  },
  {
   "cell_type": "code",
   "execution_count": 4,
   "outputs": [
    {
     "data": {
      "text/plain": "55"
     },
     "execution_count": 4,
     "metadata": {},
     "output_type": "execute_result"
    }
   ],
   "source": [
    "df3_WS2T['WRKFLW_TSK_MAP_GROUPED'].nunique()"
   ],
   "metadata": {
    "collapsed": false,
    "pycharm": {
     "name": "#%%\n"
    }
   }
  },
  {
   "cell_type": "code",
   "execution_count": 5,
   "outputs": [
    {
     "data": {
      "text/plain": "67"
     },
     "execution_count": 5,
     "metadata": {},
     "output_type": "execute_result"
    }
   ],
   "source": [
    "df3_WS2T['WRKFLW_TSK_MAP_DETAILED'].nunique()"
   ],
   "metadata": {
    "collapsed": false,
    "pycharm": {
     "name": "#%%\n"
    }
   }
  },
  {
   "cell_type": "code",
   "execution_count": 6,
   "outputs": [
    {
     "name": "stdout",
     "output_type": "stream",
     "text": [
      "[('Send for Assessment', 638), ('Assessment Decision - Qualified', 312), ('Assessment Outcome - Successful', 242), ('Assessment Outcome - Higher Preference Successful', 146), ('Assessment Decision - No Decision', 125), ('Assessment Outcome - Not Successful', 120), ('Acacdemic - Assessment Decision - Qualified', 116), ('Put Assessment On-Hold', 100), ('Assessment Decision - Not Qualified', 89), ('Release Assessment Hold', 88), ('End My Assessment', 72), ('OC - Created - Evidence of course completion', 39), ('AR - Satisfied - Academic results for prior tertiary studies', 37), ('AR - Satisfied - English language proficiency', 34), ('Back to Triage', 26), ('Assessment Outcome - Ineligible / Withdrawn', 25), ('Acacdemic - Assessment Decision - Not Qualified', 23), ('AR - Created - Assessment information (Coursework) (1)', 17), ('OC - Satisfied - Evidence of course completion', 16), ('Put Triage On-Hold', 13), ('Release Triage Hold', 12), ('AR - Created - Further information (1)', 10), ('AR - Satisfied - Further information (1)', 10), ('Acacdemic - Assessment Decision - No Decision', 9), ('OC - Created - English language requirements', 9), ('AR - Not Satisfied - English language proficiency', 8), ('AR - Satisfied - Official syllabus or subject descriptions (in English)', 8), ('AR - Satisfied - Credit for previous study', 7), ('OC - Satisfied - English language requirements', 7), ('AR - Created - University of Melbourne Statement of Results / transcript', 6), ('AR - Satisfied - Assessment information (Coursework) (1)', 6), ('AR - Satisfied - University of Melbourne Statement of Results / transcript', 6), ('Provide Response', 6), ('AR - Created - Further information (2)', 5), ('Send Referral', 5), ('AR - Satisfied - Current enrolment at the University of Melbourne', 4), ('AR - Satisfied - Entry points (Master of Information Technology)', 4), ('AR - Satisfied - Graduate Access Melbourne', 4), ('AR - Satisfied - Specialisation (Master of Information Technology)', 4), ('AR - Satisfied - Transcript � My eQuals', 4), ('OC - Reviewed - English language requirements', 4), ('AR - Satisfied - Advanced Standing', 3), ('AR - Satisfied - Curriculum Vitae', 3), ('AR - Satisfied - Further information (2)', 3), ('AR - Created - Assessment information (Coursework) (2)', 2), ('AR - Requested - Further information (1)', 2), ('AR - Reviewed - English language proficiency', 2), ('AR - Reviewed - Graduate Access Melbourne', 2), ('AR - Satisfied - Specialisation (Master of Information Systems)', 2), ('Assessment Decision - Not Assessed', 2), ('Assessment Decision - System Assessed', 2), ('OC - Requested - English language requirements', 2), ('PREPARE TO LOCK', 2), ('AR - Created - Payment of international application fee', 1), ('AR - Created - Specialisation (Master of Engineering)', 1), ('AR - Requested - Academic results for prior tertiary studies', 1), ('AR - Requested - English language proficiency', 1), ('AR - Requested - Official syllabus or subject descriptions (in English)', 1), ('AR - Requested - Payment of international application fee', 1), ('AR - Satisfied - Curriculum Vitae and professional experience', 1), ('AR - Satisfied - Employer reference letter', 1), ('AR - Satisfied - Entry points (Master of Information Systems)', 1), ('Acacdemic - Assessment Outcome - Successful', 1), ('Back to Perform Assessment', 1), ('Close Referral', 1), ('Create Offer', 1), ('WITHDRAW & LOCK', 1)]\n"
     ]
    }
   ],
   "source": [
    "wd_count = df3_WS2T.groupby('WRKFLW_TSK_MAP_DETAILED').WRKFLW_TSK_MAP_DETAILED.count()\n",
    "wd_dict = dict()\n",
    "for i, v in wd_count.items():\n",
    "    wd_dict[i] = v\n",
    "sorted_wd_dict = sorted(wd_dict.items(), key = lambda x: x[1], reverse = True)\n",
    "print(sorted_wd_dict)"
   ],
   "metadata": {
    "collapsed": false,
    "pycharm": {
     "name": "#%%\n"
    }
   }
  },
  {
   "cell_type": "code",
   "execution_count": 7,
   "outputs": [
    {
     "name": "stdout",
     "output_type": "stream",
     "text": [
      "[('Back to Perform Assessment', 22305657.0), ('AR - Satisfied - Graduate Access Melbourne', 3974422.0), ('AR - Created - Specialisation (Master of Engineering)', 2428683.0), ('OC - Created - Evidence of course completion', 2203604.0), ('AR - Requested - Further information (1)', 2109580.0), ('Put Triage On-Hold', 2015347.0), ('End My Assessment', 1524571.0), ('AR - Satisfied - Credit for previous study', 1448148.0), ('AR - Created - Assessment information (Coursework) (2)', 1430959.0), ('AR - Satisfied - University of Melbourne Statement of Results / transcript', 1321161.0), ('AR - Created - Further information (2)', 1105686.0), ('Send for Assessment', 1099679.0), ('AR - Satisfied - Official syllabus or subject descriptions (in English)', 1059978.0), ('AR - Satisfied - Current enrolment at the University of Melbourne', 1036606.0), ('Assessment Outcome - Higher Preference Successful', 965724.0), ('Put Assessment On-Hold', 921397.0), ('Release Assessment Hold', 882701.0), ('AR - Satisfied - Further information (1)', 843170.0), ('AR - Satisfied - English language proficiency', 651217.0), ('AR - Satisfied - Advanced Standing', 639400.0), ('OC - Created - English language requirements', 622572.0), ('AR - Satisfied - Academic results for prior tertiary studies', 612603.0), ('AR - Satisfied - Specialisation (Master of Information Systems)', 594480.0), ('AR - Created - Assessment information (Coursework) (1)', 575179.0), ('AR - Satisfied - Assessment information (Coursework) (1)', 486213.0), ('Assessment Decision - No Decision', 468467.0), ('Assessment Decision - Qualified', 448170.0), ('Assessment Decision - Not Assessed', 391034.0), ('Assessment Outcome - Ineligible / Withdrawn', 365144.0), ('Acacdemic - Assessment Decision - Qualified', 356387.0), ('AR - Not Satisfied - English language proficiency', 342469.0), ('Acacdemic - Assessment Decision - Not Qualified', 333249.0), ('Acacdemic - Assessment Decision - No Decision', 323158.0), ('Assessment Decision - System Assessed', 262353.0), ('AR - Created - Further information (1)', 225682.0), ('Assessment Decision - Not Qualified', 223985.0), ('AR - Created - University of Melbourne Statement of Results / transcript', 213459.0), ('Back to Triage', 186991.0), ('AR - Satisfied - Transcript � My eQuals', 66031.0), ('Create Offer', 63856.0), ('AR - Satisfied - Curriculum Vitae', 27635.0), ('OC - Reviewed - English language requirements', 21398.0), ('Provide Response', 11001.0), ('AR - Satisfied - Curriculum Vitae and professional experience', 5012.0), ('AR - Reviewed - English language proficiency', 2065.0), ('AR - Requested - English language proficiency', 691.0), ('OC - Satisfied - English language requirements', 412.0), ('PREPARE TO LOCK', 337.0), ('AR - Satisfied - Entry points (Master of Information Technology)', 288.0), ('AR - Satisfied - Specialisation (Master of Information Technology)', 274.0), ('AR - Requested - Payment of international application fee', 267.0), ('Close Referral', 248.0), ('AR - Requested - Official syllabus or subject descriptions (in English)', 157.0), ('AR - Satisfied - Further information (2)', 119.0), ('AR - Requested - Academic results for prior tertiary studies', 35.0), ('Send Referral', 31.0), ('AR - Satisfied - Entry points (Master of Information Systems)', 25.0), ('AR - Satisfied - Employer reference letter', 22.0), ('AR - Created - Payment of international application fee', 15.0), ('Release Triage Hold', 13.0), ('Acacdemic - Assessment Outcome - Successful', 10.0), ('Assessment Outcome - Successful', 0.0), ('Assessment Outcome - Not Successful', 0.0), ('OC - Satisfied - Evidence of course completion', 0.0), ('WITHDRAW & LOCK', 0.0), ('OC - Requested - English language requirements', 0.0), ('AR - Reviewed - Graduate Access Melbourne', 0.0)]\n"
     ]
    }
   ],
   "source": [
    "list = df3_WS2T.WRKFLW_TSK_MAP_DETAILED.unique()\n",
    "avg_time_dict = dict()\n",
    "for key in list :\n",
    "    df_slides = df3_WS2T[df3_WS2T['WRKFLW_TSK_MAP_DETAILED'] == key]\n",
    "    sum = df_slides['time_used_second'].sum()\n",
    "    c = len(df_slides)\n",
    "    avg = sum//c\n",
    "    avg_time_dict[key] = avg\n",
    "\n",
    "sorted_avg_time_dict = sorted(avg_time_dict.items(),key = lambda x: x[1], reverse = True)\n",
    "print(sorted_avg_time_dict)"
   ],
   "metadata": {
    "collapsed": false,
    "pycharm": {
     "name": "#%%\n"
    }
   }
  },
  {
   "cell_type": "code",
   "execution_count": 8,
   "outputs": [],
   "source": [
    "numOfWorkflowProcesses = df3_WS2T.groupby('CASE_ID').CASE_ID.count()\n",
    "\n",
    "count_dic=dict()\n",
    "for i,v in numOfWorkflowProcesses.items():\n",
    "    if count_dic.get(v) is None:\n",
    "        count_dic[v]=[]\n",
    "        count_dic[v].append(i)\n",
    "    else:\n",
    "        count_dic[v].append(i)\n",
    "#count_dic\n",
    "count_dic = dict(sorted(count_dic.items()))"
   ],
   "metadata": {
    "collapsed": false,
    "pycharm": {
     "name": "#%%\n"
    }
   }
  },
  {
   "cell_type": "code",
   "execution_count": 9,
   "outputs": [],
   "source": [
    "len_list=[]\n",
    "for key in count_dic.keys():\n",
    "    len_list.append(len(count_dic[key]))"
   ],
   "metadata": {
    "collapsed": false,
    "pycharm": {
     "name": "#%%\n"
    }
   }
  },
  {
   "cell_type": "code",
   "execution_count": 10,
   "outputs": [],
   "source": [
    "def strfdelta(tdelta, fmt):\n",
    "    d=dict()\n",
    "    d[\"days\"],rem1 = divmod(tdelta,60*60*24)\n",
    "    d[\"hours\"], rem2 = divmod(rem1, 3600)\n",
    "    d[\"minutes\"], d[\"seconds\"] = divmod(rem2, 60)\n",
    "    return fmt.format(**d)"
   ],
   "metadata": {
    "collapsed": false,
    "pycharm": {
     "name": "#%%\n"
    }
   }
  },
  {
   "cell_type": "code",
   "execution_count": 11,
   "outputs": [],
   "source": [
    "list_avgtime_per_key =[]\n",
    "list_sumtime_row = []\n",
    "for key in count_dic.keys():\n",
    "    id_list = count_dic[key]\n",
    "    list_sumtime_person = 0\n",
    "    for id in id_list:\n",
    "        df = df3_WS2T[df3_WS2T['CASE_ID']== id]\n",
    "        tsum = df['time_used_second'].sum()\n",
    "        list_sumtime_person+=tsum\n",
    "    list_avgtime_per_key.append(int((list_sumtime_person/len(count_dic[key]))))\n",
    "    list_sumtime_row.append(list_sumtime_person)\n",
    "list_avgtime_per_key_str = []\n",
    "for i in list_avgtime_per_key:\n",
    "    list_avgtime_per_key_str.append(strfdelta(i,\"{days} days {hours} hours {minutes} minutes {seconds} seconds\"))"
   ],
   "metadata": {
    "collapsed": false,
    "pycharm": {
     "name": "#%%\n"
    }
   }
  },
  {
   "cell_type": "code",
   "execution_count": 12,
   "outputs": [],
   "source": [
    "list_mediantime_per_key = []\n",
    "for key in count_dic.keys():\n",
    "    id_list = count_dic[key]\n",
    "    list_sumtime_per_person = []\n",
    "    for id in id_list:\n",
    "        df = df3_WS2T[df3_WS2T['CASE_ID']== id]\n",
    "        tsum = df['time_used_second'].sum()\n",
    "        list_sumtime_per_person.append(tsum)\n",
    "    list_mediantime_per_key.append(numpy.median(list_sumtime_per_person))\n",
    "\n",
    "list_mediantime_per_key_str = []\n",
    "for i in list_mediantime_per_key:\n",
    "    list_mediantime_per_key_str.append(strfdelta(i,\"{days} days {hours} hours {minutes} minutes {seconds} seconds\"))"
   ],
   "metadata": {
    "collapsed": false,
    "pycharm": {
     "name": "#%%\n"
    }
   }
  },
  {
   "cell_type": "code",
   "execution_count": 13,
   "outputs": [],
   "source": [
    "list_percent_reach_end = []\n",
    "for key in count_dic.keys():\n",
    "    id_list = count_dic[key]\n",
    "    count_df_end_step = 0\n",
    "    count_df_id = 0\n",
    "    for id in id_list:\n",
    "        df_id = df3_WS2T[df3_WS2T['CASE_ID']== id]\n",
    "        df_end_step = df_id[df_id['WRKFLW_TSK_MAP_GROUPED'].isin(['Assessment Outcome - Successful','Assessment Outcome - Not Successful']) ]\n",
    "        count_df_id += df_id['CASE_ID'].nunique()\n",
    "        count_df_end_step += df_end_step['CASE_ID'].nunique()\n",
    "    list_percent_reach_end.append(str(round((count_df_end_step/count_df_id)*100,2))+ \"%\")"
   ],
   "metadata": {
    "collapsed": false,
    "pycharm": {
     "name": "#%%\n"
    }
   }
  },
  {
   "cell_type": "code",
   "execution_count": 14,
   "outputs": [],
   "source": [
    "list_step_per_key = []\n",
    "for key in count_dic.keys():\n",
    "    id_list = count_dic[key]\n",
    "    list_step = set()\n",
    "    for id in id_list:\n",
    "        df = df3_WS2T[df3_WS2T['CASE_ID']== id]\n",
    "        for index, row in df.iterrows():\n",
    "            list_step.add(row['WRKFLW_TSK_MAP_GROUPED'])\n",
    "    list_step_per_key.append(list_step)"
   ],
   "metadata": {
    "collapsed": false,
    "pycharm": {
     "name": "#%%\n"
    }
   }
  },
  {
   "cell_type": "code",
   "execution_count": 15,
   "outputs": [],
   "source": [
    "from collections import Counter\n",
    "import collections, functools, operator\n",
    "list_step_sum_time_per_key = []\n",
    "list_step_count_per_key = []\n",
    "list_step_ave_time_per_key = []\n",
    "for key in count_dic.keys():\n",
    "    id_list = count_dic[key]\n",
    "    list_step = []\n",
    "    step_time_list = []\n",
    "    for id in id_list:\n",
    "        df = df3_WS2T[df3_WS2T['CASE_ID']== id]\n",
    "        step_time = dict(zip(df.WRKFLW_TSK_MAP_DETAILED, df.time_used_second))\n",
    "        step_time_list.append(step_time)\n",
    "        for index, row in df.iterrows():\n",
    "            list_step.append(row['WRKFLW_TSK_MAP_DETAILED'])\n",
    "\n",
    "    step_sum_time = dict(functools.reduce(operator.add,\n",
    "         map(collections.Counter, step_time_list)))\n",
    "\n",
    "    dict_list_step=dict(Counter(list_step))\n",
    "\n",
    "    step_ave_time = {key: step_sum_time[key] // dict_list_step.get(key, 0)\n",
    "                        for key in step_sum_time.keys()}\n",
    "\n",
    "    sort_step_sum_time = sorted(step_sum_time.items(),key = lambda x: x[1], reverse = True)\n",
    "    list_step_sum_time_per_key.append(sort_step_sum_time)\n",
    "\n",
    "    sort_dict_list_step = sorted(dict_list_step.items(),key = lambda x: x[1], reverse = True)\n",
    "    list_step_count_per_key.append(sort_dict_list_step[:6])\n",
    "\n",
    "    sort_step_ave_time = sorted(step_ave_time.items(),key = lambda x: x[1], reverse = True)\n",
    "    list_step_ave_time_per_key.append(sort_step_ave_time)"
   ],
   "metadata": {
    "collapsed": false,
    "pycharm": {
     "name": "#%%\n"
    }
   }
  },
  {
   "cell_type": "code",
   "execution_count": 16,
   "outputs": [
    {
     "data": {
      "text/plain": "   Number of Workflow processes in this Workflow Segment  Number of cases  \\\n0                                                  1                   46   \n1                                                  2                  133   \n2                                                  3                  141   \n3                                                  4                  116   \n4                                                  5                   67   \n5                                                  6                   34   \n6                                                  7                   22   \n7                                                  8                   18   \n8                                                  9                   17   \n9                                                 10                    7   \n\n        average time for workflow segment  \\\n0      0 days 0 hours 0 minutes 0 seconds   \n1  16 days 20 hours 26 minutes 30 seconds   \n2   27 days 6 hours 49 minutes 34 seconds   \n3    48 days 8 hours 9 minutes 46 seconds   \n4  39 days 13 hours 22 minutes 35 seconds   \n5  38 days 14 hours 19 minutes 54 seconds   \n6   61 days 4 hours 58 minutes 31 seconds   \n7   33 days 12 hours 8 minutes 45 seconds   \n8  38 days 18 hours 32 minutes 37 seconds   \n9   40 days 3 hours 29 minutes 45 seconds   \n\n                median time for workflow segment  \\\n0     0.0 days 0.0 hours 0.0 minutes 0.0 seconds   \n1    9.0 days 22.0 hours 5.0 minutes 1.0 seconds   \n2  12.0 days 5.0 hours 57.0 minutes 23.0 seconds   \n3  24.0 days 23.0 hours 55.0 minutes 7.0 seconds   \n4   28.0 days 2.0 hours 7.0 minutes 24.0 seconds   \n5   35.0 days 3.0 hours 9.0 minutes 20.0 seconds   \n6  22.0 days 2.0 hours 30.0 minutes 23.0 seconds   \n7   23.0 days 15.0 hours 2.0 minutes 9.0 seconds   \n8  34.0 days 20.0 hours 2.0 minutes 21.0 seconds   \n9   19.0 days 0.0 hours 35.0 minutes 4.0 seconds   \n\n  percentage of cases reaching to end of workflow segment  \\\n0                                               0.0%        \n1                                             32.33%        \n2                                             68.79%        \n3                                             68.97%        \n4                                             74.63%        \n5                                             79.41%        \n6                                             68.18%        \n7                                             83.33%        \n8                                             94.12%        \n9                                             85.71%        \n\n             Num of Occurrences per step(descending)  \\\n0                        [(Send for Assessment, 46)]   \n1  [(Send for Assessment, 133), (Assessment Outco...   \n2  [(Send for Assessment, 142), (Assessment Outco...   \n3  [(Send for Assessment, 116), (Assessment Decis...   \n4  [(Send for Assessment, 67), (Assessment Decisi...   \n5  [(Assessment Decision - Qualified, 40), (Send ...   \n6  [(Assessment Decision - Qualified, 25), (Send ...   \n7  [(Assessment Decision - Qualified, 21), (Send ...   \n8  [(Assessment Decision - Qualified, 30), (Send ...   \n9  [(Assessment Decision - No Decision, 14), (Ass...   \n\n            Average time spends per step(descending)  \\\n0                                                 []   \n1                 [(Send for Assessment, 1455990.0)]   \n2  [(OC - Created - Evidence of course completion...   \n3  [(OC - Created - Evidence of course completion...   \n4  [(AR - Satisfied - Graduate Access Melbourne, ...   \n5  [(Put Triage On-Hold, 4166412.0), (AR - Not Sa...   \n6  [(Back to Perform Assessment, 22305657.0), (AR...   \n7  [(AR - Created - Further information (2), 3626...   \n8  [(AR - Satisfied - Further information (1), 17...   \n9  [(Put Triage On-Hold, 15573013.0), (AR - Satis...   \n\n   average time for workflow segment(seconds)  \\\n0                                           0   \n1                                     1455990   \n2                                     2357374   \n3                                     4176586   \n4                                     3417755   \n5                                     3334794   \n6                                     5288311   \n7                                     2894925   \n8                                     3349957   \n9                                     3468585   \n\n   sum time for workflow segment(seconds)  \n0                                     0.0  \n1                             193646731.0  \n2                             332389795.0  \n3                             484484005.0  \n4                             228989628.0  \n5                             113383029.0  \n6                             116342852.0  \n7                              52108666.0  \n8                              56949275.0  \n9                              24280100.0  ",
      "text/html": "<div>\n<style scoped>\n    .dataframe tbody tr th:only-of-type {\n        vertical-align: middle;\n    }\n\n    .dataframe tbody tr th {\n        vertical-align: top;\n    }\n\n    .dataframe thead th {\n        text-align: right;\n    }\n</style>\n<table border=\"1\" class=\"dataframe\">\n  <thead>\n    <tr style=\"text-align: right;\">\n      <th></th>\n      <th>Number of Workflow processes in this Workflow Segment</th>\n      <th>Number of cases</th>\n      <th>average time for workflow segment</th>\n      <th>median time for workflow segment</th>\n      <th>percentage of cases reaching to end of workflow segment</th>\n      <th>Num of Occurrences per step(descending)</th>\n      <th>Average time spends per step(descending)</th>\n      <th>average time for workflow segment(seconds)</th>\n      <th>sum time for workflow segment(seconds)</th>\n    </tr>\n  </thead>\n  <tbody>\n    <tr>\n      <th>0</th>\n      <td>1</td>\n      <td>46</td>\n      <td>0 days 0 hours 0 minutes 0 seconds</td>\n      <td>0.0 days 0.0 hours 0.0 minutes 0.0 seconds</td>\n      <td>0.0%</td>\n      <td>[(Send for Assessment, 46)]</td>\n      <td>[]</td>\n      <td>0</td>\n      <td>0.0</td>\n    </tr>\n    <tr>\n      <th>1</th>\n      <td>2</td>\n      <td>133</td>\n      <td>16 days 20 hours 26 minutes 30 seconds</td>\n      <td>9.0 days 22.0 hours 5.0 minutes 1.0 seconds</td>\n      <td>32.33%</td>\n      <td>[(Send for Assessment, 133), (Assessment Outco...</td>\n      <td>[(Send for Assessment, 1455990.0)]</td>\n      <td>1455990</td>\n      <td>193646731.0</td>\n    </tr>\n    <tr>\n      <th>2</th>\n      <td>3</td>\n      <td>141</td>\n      <td>27 days 6 hours 49 minutes 34 seconds</td>\n      <td>12.0 days 5.0 hours 57.0 minutes 23.0 seconds</td>\n      <td>68.79%</td>\n      <td>[(Send for Assessment, 142), (Assessment Outco...</td>\n      <td>[(OC - Created - Evidence of course completion...</td>\n      <td>2357374</td>\n      <td>332389795.0</td>\n    </tr>\n    <tr>\n      <th>3</th>\n      <td>4</td>\n      <td>116</td>\n      <td>48 days 8 hours 9 minutes 46 seconds</td>\n      <td>24.0 days 23.0 hours 55.0 minutes 7.0 seconds</td>\n      <td>68.97%</td>\n      <td>[(Send for Assessment, 116), (Assessment Decis...</td>\n      <td>[(OC - Created - Evidence of course completion...</td>\n      <td>4176586</td>\n      <td>484484005.0</td>\n    </tr>\n    <tr>\n      <th>4</th>\n      <td>5</td>\n      <td>67</td>\n      <td>39 days 13 hours 22 minutes 35 seconds</td>\n      <td>28.0 days 2.0 hours 7.0 minutes 24.0 seconds</td>\n      <td>74.63%</td>\n      <td>[(Send for Assessment, 67), (Assessment Decisi...</td>\n      <td>[(AR - Satisfied - Graduate Access Melbourne, ...</td>\n      <td>3417755</td>\n      <td>228989628.0</td>\n    </tr>\n    <tr>\n      <th>5</th>\n      <td>6</td>\n      <td>34</td>\n      <td>38 days 14 hours 19 minutes 54 seconds</td>\n      <td>35.0 days 3.0 hours 9.0 minutes 20.0 seconds</td>\n      <td>79.41%</td>\n      <td>[(Assessment Decision - Qualified, 40), (Send ...</td>\n      <td>[(Put Triage On-Hold, 4166412.0), (AR - Not Sa...</td>\n      <td>3334794</td>\n      <td>113383029.0</td>\n    </tr>\n    <tr>\n      <th>6</th>\n      <td>7</td>\n      <td>22</td>\n      <td>61 days 4 hours 58 minutes 31 seconds</td>\n      <td>22.0 days 2.0 hours 30.0 minutes 23.0 seconds</td>\n      <td>68.18%</td>\n      <td>[(Assessment Decision - Qualified, 25), (Send ...</td>\n      <td>[(Back to Perform Assessment, 22305657.0), (AR...</td>\n      <td>5288311</td>\n      <td>116342852.0</td>\n    </tr>\n    <tr>\n      <th>7</th>\n      <td>8</td>\n      <td>18</td>\n      <td>33 days 12 hours 8 minutes 45 seconds</td>\n      <td>23.0 days 15.0 hours 2.0 minutes 9.0 seconds</td>\n      <td>83.33%</td>\n      <td>[(Assessment Decision - Qualified, 21), (Send ...</td>\n      <td>[(AR - Created - Further information (2), 3626...</td>\n      <td>2894925</td>\n      <td>52108666.0</td>\n    </tr>\n    <tr>\n      <th>8</th>\n      <td>9</td>\n      <td>17</td>\n      <td>38 days 18 hours 32 minutes 37 seconds</td>\n      <td>34.0 days 20.0 hours 2.0 minutes 21.0 seconds</td>\n      <td>94.12%</td>\n      <td>[(Assessment Decision - Qualified, 30), (Send ...</td>\n      <td>[(AR - Satisfied - Further information (1), 17...</td>\n      <td>3349957</td>\n      <td>56949275.0</td>\n    </tr>\n    <tr>\n      <th>9</th>\n      <td>10</td>\n      <td>7</td>\n      <td>40 days 3 hours 29 minutes 45 seconds</td>\n      <td>19.0 days 0.0 hours 35.0 minutes 4.0 seconds</td>\n      <td>85.71%</td>\n      <td>[(Assessment Decision - No Decision, 14), (Ass...</td>\n      <td>[(Put Triage On-Hold, 15573013.0), (AR - Satis...</td>\n      <td>3468585</td>\n      <td>24280100.0</td>\n    </tr>\n  </tbody>\n</table>\n</div>"
     },
     "execution_count": 16,
     "metadata": {},
     "output_type": "execute_result"
    }
   ],
   "source": [
    "s3_t2=pd.DataFrame({'Number of Workflow processes in this Workflow Segment':count_dic.keys(),'Number of cases':len_list, 'average time for workflow segment':list_avgtime_per_key_str,'median time for workflow segment':list_mediantime_per_key_str,'percentage of cases reaching to end of workflow segment':list_percent_reach_end})\n",
    "s3_t2['Num of Occurrences per step(descending)'] = list_step_count_per_key\n",
    "s3_t2['Average time spends per step(descending)'] = list_step_ave_time_per_key\n",
    "s3_t2['average time for workflow segment(seconds)'] = list_avgtime_per_key\n",
    "s3_t2['sum time for workflow segment(seconds)'] = list_sumtime_row\n",
    "s3_t2.head(n=10)\n"
   ],
   "metadata": {
    "collapsed": false,
    "pycharm": {
     "name": "#%%\n"
    }
   }
  },
  {
   "cell_type": "code",
   "execution_count": 17,
   "outputs": [],
   "source": [
    "s3_t2.to_csv('engineering_AF_segment3_workflowS2_table.csv', index=False)\n",
    "\n",
    "\n",
    "\n"
   ],
   "metadata": {
    "collapsed": false,
    "pycharm": {
     "name": "#%%\n"
    }
   }
  }
 ],
 "metadata": {
  "kernelspec": {
   "name": "pycharm-3f427a6c",
   "language": "python",
   "display_name": "PyCharm (pythonProject)"
  },
  "language_info": {
   "codemirror_mode": {
    "name": "ipython",
    "version": 2
   },
   "file_extension": ".py",
   "mimetype": "text/x-python",
   "name": "python",
   "nbconvert_exporter": "python",
   "pygments_lexer": "ipython2",
   "version": "2.7.6"
  }
 },
 "nbformat": 4,
 "nbformat_minor": 0
}