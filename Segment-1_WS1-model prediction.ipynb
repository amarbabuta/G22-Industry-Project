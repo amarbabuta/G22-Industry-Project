{
 "cells": [
  {
   "cell_type": "code",
   "execution_count": 1,
   "metadata": {},
   "outputs": [],
   "source": [
    "import csv\n",
    "import pandas as pd\n",
    "from sklearn.linear_model import LogisticRegression \n",
    "from sklearn.preprocessing import LabelEncoder\n",
    "LE=LabelEncoder()\n",
    "from sklearn.model_selection import train_test_split\n",
    "from sklearn.metrics import accuracy_score, confusion_matrix\n",
    "from sklearn.metrics import precision_recall_fscore_support\n",
    "from sklearn.svm import LinearSVC\n",
    "from sklearn.svm import SVC\n",
    "from sklearn.linear_model import LogisticRegression\n",
    "from sklearn.neighbors import KNeighborsClassifier"
   ]
  },
  {
   "cell_type": "code",
   "execution_count": 2,
   "metadata": {},
   "outputs": [
    {
     "data": {
      "text/plain": [
       "0    1033160|376360|586590\n",
       "dtype: object"
      ]
     },
     "execution_count": 2,
     "metadata": {},
     "output_type": "execute_result"
    }
   ],
   "source": [
    "segment1_workflow1=pd.read_csv('segment1_workflowS1.csv')\n",
    "segment1_workflow1.CASE_ID.mode()"
   ]
  },
  {
   "cell_type": "code",
   "execution_count": 3,
   "metadata": {},
   "outputs": [
    {
     "data": {
      "text/html": [
       "<div>\n",
       "<style scoped>\n",
       "    .dataframe tbody tr th:only-of-type {\n",
       "        vertical-align: middle;\n",
       "    }\n",
       "\n",
       "    .dataframe tbody tr th {\n",
       "        vertical-align: top;\n",
       "    }\n",
       "\n",
       "    .dataframe thead th {\n",
       "        text-align: right;\n",
       "    }\n",
       "</style>\n",
       "<table border=\"1\" class=\"dataframe\">\n",
       "  <thead>\n",
       "    <tr style=\"text-align: right;\">\n",
       "      <th></th>\n",
       "      <th>CASE_ID</th>\n",
       "      <th>WRKFLW_TSK_MAP_GROUPED</th>\n",
       "      <th>WRKFLW_TSK_MAP_DETAILED</th>\n",
       "      <th>PATH_CRDATETIME</th>\n",
       "      <th>ITEM_CRUSER</th>\n",
       "      <th>WRKFLW_ORG_TYPE_CRUSER</th>\n",
       "      <th>STATUS_ORDER</th>\n",
       "      <th>LATEST_STATUS</th>\n",
       "      <th>WRKFLW_PROCESS</th>\n",
       "      <th>QUERY_PART</th>\n",
       "      <th>...</th>\n",
       "      <th>ORIG_SPRD_CD</th>\n",
       "      <th>ORIG_SPRD_NM</th>\n",
       "      <th>SPK_CAT_TYPE_CD</th>\n",
       "      <th>BROAD_COURSE_LEVEL</th>\n",
       "      <th>DEGREETYPE</th>\n",
       "      <th>LIABILITY_CATEGORY_CD_RECODE</th>\n",
       "      <th>ORIG_LIABILITY_CATEGORY_CD_RECODE</th>\n",
       "      <th>OFFER_RELEASED_FG</th>\n",
       "      <th>OFFER_OUTCOME_CD</th>\n",
       "      <th>OFFER_CONDITIONS</th>\n",
       "    </tr>\n",
       "  </thead>\n",
       "  <tbody>\n",
       "    <tr>\n",
       "      <th>0</th>\n",
       "      <td>804599|387970|604118</td>\n",
       "      <td>Submit</td>\n",
       "      <td>Submit</td>\n",
       "      <td>2/9/2018 17:37:07</td>\n",
       "      <td>804599</td>\n",
       "      <td>NaN</td>\n",
       "      <td>23</td>\n",
       "      <td>N</td>\n",
       "      <td>1. App to Assessment</td>\n",
       "      <td>Part 1 - Application ID Workflow</td>\n",
       "      <td>...</td>\n",
       "      <td>MDYI</td>\n",
       "      <td>Mid Year Intake</td>\n",
       "      <td>MCW</td>\n",
       "      <td>HDCW</td>\n",
       "      <td>Full Degree</td>\n",
       "      <td>OF</td>\n",
       "      <td>OF</td>\n",
       "      <td>Y</td>\n",
       "      <td>$DEF</td>\n",
       "      <td>Y</td>\n",
       "    </tr>\n",
       "    <tr>\n",
       "      <th>1</th>\n",
       "      <td>804599|387970|604118</td>\n",
       "      <td>AR - Created - previous or current study</td>\n",
       "      <td>AR - Created - University of Melbourne Stateme...</td>\n",
       "      <td>3/9/2018 8:20:05</td>\n",
       "      <td>SHIVNESHC</td>\n",
       "      <td>Academic Services</td>\n",
       "      <td>22</td>\n",
       "      <td>N</td>\n",
       "      <td>1. App to Assessment</td>\n",
       "      <td>Part 5 - Requirement Create</td>\n",
       "      <td>...</td>\n",
       "      <td>MDYI</td>\n",
       "      <td>Mid Year Intake</td>\n",
       "      <td>MCW</td>\n",
       "      <td>HDCW</td>\n",
       "      <td>Full Degree</td>\n",
       "      <td>OF</td>\n",
       "      <td>OF</td>\n",
       "      <td>Y</td>\n",
       "      <td>$DEF</td>\n",
       "      <td>Y</td>\n",
       "    </tr>\n",
       "    <tr>\n",
       "      <th>2</th>\n",
       "      <td>804599|387970|604118</td>\n",
       "      <td>AR - Satisfied - previous or current study</td>\n",
       "      <td>AR - Satisfied - University of Melbourne State...</td>\n",
       "      <td>3/9/2018 8:20:36</td>\n",
       "      <td>SHIVNESHC</td>\n",
       "      <td>Academic Services</td>\n",
       "      <td>21</td>\n",
       "      <td>N</td>\n",
       "      <td>1. App to Assessment</td>\n",
       "      <td>Part 6 - Requirement Verify</td>\n",
       "      <td>...</td>\n",
       "      <td>MDYI</td>\n",
       "      <td>Mid Year Intake</td>\n",
       "      <td>MCW</td>\n",
       "      <td>HDCW</td>\n",
       "      <td>Full Degree</td>\n",
       "      <td>OF</td>\n",
       "      <td>OF</td>\n",
       "      <td>Y</td>\n",
       "      <td>$DEF</td>\n",
       "      <td>Y</td>\n",
       "    </tr>\n",
       "    <tr>\n",
       "      <th>3</th>\n",
       "      <td>804599|387970|604118</td>\n",
       "      <td>AR - Satisfied - entry points</td>\n",
       "      <td>AR - Satisfied - Entry points (Master of Infor...</td>\n",
       "      <td>7/9/2018 13:39:48</td>\n",
       "      <td>MTSC</td>\n",
       "      <td>Academic Services</td>\n",
       "      <td>20</td>\n",
       "      <td>N</td>\n",
       "      <td>1. App to Assessment</td>\n",
       "      <td>Part 6 - Requirement Verify</td>\n",
       "      <td>...</td>\n",
       "      <td>MDYI</td>\n",
       "      <td>Mid Year Intake</td>\n",
       "      <td>MCW</td>\n",
       "      <td>HDCW</td>\n",
       "      <td>Full Degree</td>\n",
       "      <td>OF</td>\n",
       "      <td>OF</td>\n",
       "      <td>Y</td>\n",
       "      <td>$DEF</td>\n",
       "      <td>Y</td>\n",
       "    </tr>\n",
       "    <tr>\n",
       "      <th>4</th>\n",
       "      <td>804599|387970|604118</td>\n",
       "      <td>AR - Satisfied - application details</td>\n",
       "      <td>AR - Satisfied - Current enrolment at the Univ...</td>\n",
       "      <td>7/9/2018 13:39:54</td>\n",
       "      <td>MTSC</td>\n",
       "      <td>Academic Services</td>\n",
       "      <td>19</td>\n",
       "      <td>N</td>\n",
       "      <td>1. App to Assessment</td>\n",
       "      <td>Part 6 - Requirement Verify</td>\n",
       "      <td>...</td>\n",
       "      <td>MDYI</td>\n",
       "      <td>Mid Year Intake</td>\n",
       "      <td>MCW</td>\n",
       "      <td>HDCW</td>\n",
       "      <td>Full Degree</td>\n",
       "      <td>OF</td>\n",
       "      <td>OF</td>\n",
       "      <td>Y</td>\n",
       "      <td>$DEF</td>\n",
       "      <td>Y</td>\n",
       "    </tr>\n",
       "  </tbody>\n",
       "</table>\n",
       "<p>5 rows × 56 columns</p>\n",
       "</div>"
      ],
      "text/plain": [
       "                CASE_ID                      WRKFLW_TSK_MAP_GROUPED  \\\n",
       "0  804599|387970|604118                                      Submit   \n",
       "1  804599|387970|604118    AR - Created - previous or current study   \n",
       "2  804599|387970|604118  AR - Satisfied - previous or current study   \n",
       "3  804599|387970|604118               AR - Satisfied - entry points   \n",
       "4  804599|387970|604118        AR - Satisfied - application details   \n",
       "\n",
       "                             WRKFLW_TSK_MAP_DETAILED    PATH_CRDATETIME  \\\n",
       "0                                             Submit  2/9/2018 17:37:07   \n",
       "1  AR - Created - University of Melbourne Stateme...   3/9/2018 8:20:05   \n",
       "2  AR - Satisfied - University of Melbourne State...   3/9/2018 8:20:36   \n",
       "3  AR - Satisfied - Entry points (Master of Infor...  7/9/2018 13:39:48   \n",
       "4  AR - Satisfied - Current enrolment at the Univ...  7/9/2018 13:39:54   \n",
       "\n",
       "  ITEM_CRUSER WRKFLW_ORG_TYPE_CRUSER  STATUS_ORDER LATEST_STATUS  \\\n",
       "0      804599                    NaN            23             N   \n",
       "1   SHIVNESHC      Academic Services            22             N   \n",
       "2   SHIVNESHC      Academic Services            21             N   \n",
       "3        MTSC      Academic Services            20             N   \n",
       "4        MTSC      Academic Services            19             N   \n",
       "\n",
       "         WRKFLW_PROCESS                        QUERY_PART  ... ORIG_SPRD_CD  \\\n",
       "0  1. App to Assessment  Part 1 - Application ID Workflow  ...         MDYI   \n",
       "1  1. App to Assessment       Part 5 - Requirement Create  ...         MDYI   \n",
       "2  1. App to Assessment       Part 6 - Requirement Verify  ...         MDYI   \n",
       "3  1. App to Assessment       Part 6 - Requirement Verify  ...         MDYI   \n",
       "4  1. App to Assessment       Part 6 - Requirement Verify  ...         MDYI   \n",
       "\n",
       "      ORIG_SPRD_NM  SPK_CAT_TYPE_CD  BROAD_COURSE_LEVEL   DEGREETYPE  \\\n",
       "0  Mid Year Intake              MCW                HDCW  Full Degree   \n",
       "1  Mid Year Intake              MCW                HDCW  Full Degree   \n",
       "2  Mid Year Intake              MCW                HDCW  Full Degree   \n",
       "3  Mid Year Intake              MCW                HDCW  Full Degree   \n",
       "4  Mid Year Intake              MCW                HDCW  Full Degree   \n",
       "\n",
       "  LIABILITY_CATEGORY_CD_RECODE ORIG_LIABILITY_CATEGORY_CD_RECODE  \\\n",
       "0                           OF                                OF   \n",
       "1                           OF                                OF   \n",
       "2                           OF                                OF   \n",
       "3                           OF                                OF   \n",
       "4                           OF                                OF   \n",
       "\n",
       "  OFFER_RELEASED_FG OFFER_OUTCOME_CD  OFFER_CONDITIONS  \n",
       "0                 Y             $DEF                 Y  \n",
       "1                 Y             $DEF                 Y  \n",
       "2                 Y             $DEF                 Y  \n",
       "3                 Y             $DEF                 Y  \n",
       "4                 Y             $DEF                 Y  \n",
       "\n",
       "[5 rows x 56 columns]"
      ]
     },
     "execution_count": 3,
     "metadata": {},
     "output_type": "execute_result"
    }
   ],
   "source": [
    "segment1_workflow1.head()"
   ]
  },
  {
   "cell_type": "code",
   "execution_count": 4,
   "metadata": {},
   "outputs": [
    {
     "data": {
      "text/plain": [
       "287"
      ]
     },
     "execution_count": 4,
     "metadata": {},
     "output_type": "execute_result"
    }
   ],
   "source": [
    "segment1_workflow1['WRKFLW_TSK_MAP_DETAILED'].nunique()"
   ]
  },
  {
   "cell_type": "code",
   "execution_count": 6,
   "metadata": {},
   "outputs": [
    {
     "data": {
      "text/html": [
       "<div>\n",
       "<style scoped>\n",
       "    .dataframe tbody tr th:only-of-type {\n",
       "        vertical-align: middle;\n",
       "    }\n",
       "\n",
       "    .dataframe tbody tr th {\n",
       "        vertical-align: top;\n",
       "    }\n",
       "\n",
       "    .dataframe thead th {\n",
       "        text-align: right;\n",
       "    }\n",
       "</style>\n",
       "<table border=\"1\" class=\"dataframe\">\n",
       "  <thead>\n",
       "    <tr style=\"text-align: right;\">\n",
       "      <th></th>\n",
       "      <th>CASE_ID</th>\n",
       "      <th>WRKFLW_TSK_MAP_DETAILED</th>\n",
       "    </tr>\n",
       "  </thead>\n",
       "  <tbody>\n",
       "    <tr>\n",
       "      <th>0</th>\n",
       "      <td>804599|387970|604118</td>\n",
       "      <td>Submit</td>\n",
       "    </tr>\n",
       "    <tr>\n",
       "      <th>1</th>\n",
       "      <td>804599|387970|604118</td>\n",
       "      <td>AR - Created - University of Melbourne Stateme...</td>\n",
       "    </tr>\n",
       "    <tr>\n",
       "      <th>2</th>\n",
       "      <td>804599|387970|604118</td>\n",
       "      <td>AR - Satisfied - University of Melbourne State...</td>\n",
       "    </tr>\n",
       "    <tr>\n",
       "      <th>3</th>\n",
       "      <td>804599|387970|604118</td>\n",
       "      <td>AR - Satisfied - Entry points (Master of Infor...</td>\n",
       "    </tr>\n",
       "    <tr>\n",
       "      <th>4</th>\n",
       "      <td>804599|387970|604118</td>\n",
       "      <td>AR - Satisfied - Current enrolment at the Univ...</td>\n",
       "    </tr>\n",
       "  </tbody>\n",
       "</table>\n",
       "</div>"
      ],
      "text/plain": [
       "                CASE_ID                            WRKFLW_TSK_MAP_DETAILED\n",
       "0  804599|387970|604118                                             Submit\n",
       "1  804599|387970|604118  AR - Created - University of Melbourne Stateme...\n",
       "2  804599|387970|604118  AR - Satisfied - University of Melbourne State...\n",
       "3  804599|387970|604118  AR - Satisfied - Entry points (Master of Infor...\n",
       "4  804599|387970|604118  AR - Satisfied - Current enrolment at the Univ..."
      ]
     },
     "execution_count": 6,
     "metadata": {},
     "output_type": "execute_result"
    }
   ],
   "source": [
    "segment1_workflow1=segment1_workflow1.drop(['WRKFLW_TSK_MAP_GROUPED', 'PATH_CRDATETIME','ITEM_CRUSER','WRKFLW_ORG_TYPE_CRUSER',\n",
    "                         'STATUS_ORDER','LATEST_STATUS','WRKFLW_PROCESS','QUERY_PART','REFERRAL_ID',\n",
    "                         'APPLICATION_ID','STU_ID','STU_CITIZEN_CD','STU_CITIZEN_NM','STU_BIRTH_DT',\n",
    "                         'STU_ABOR_TSI_CD','STU_ABOR_TSI_NM','STU_BIRTH_CNTRY_CD','STU_BIRTH_CNTRY_NM',\n",
    "                         'STU_CTZN_CNTRY_CD','STU_CTZN_CNTRY_NM','SUBMISSION_METHOD','ENTRY_TYPE',\n",
    "                         'ASSESSMENT_DECISION_SCORE','ASSESSMENT_DECISION_NM','ASSESSMENT_OUTCOME_NM',\n",
    "                         'LAST_COUNTRY_EDUCATION','PREV_INST_NM_MAIN','PREV_INST_NM_ALT1','PREV_INST_NM_ALT2',\n",
    "                        'PREFERENCE_NO','SPK_CD','SPK_FULL_TITLE','ORG_UNIT_CD','AVAIL_ORG_UNIT_NM','SUPPORTING_ORG',\n",
    "                        'STUDY_MODE_CD','RETURNING_DEFERRAL','CURR_AVAIL_YR','CURR_STUDY_PERIOD','CURR_SPRD_CD',\n",
    "                        'CURR_SPRD_NM','ORIG_AVAIL_YR','ORIG_STUDY_PERIOD','ORIG_SPRD_CD','ORIG_SPRD_NM',\n",
    "                         'SPK_CAT_TYPE_CD','BROAD_COURSE_LEVEL','DEGREETYPE','LIABILITY_CATEGORY_CD_RECODE',\n",
    "                        'ORIG_LIABILITY_CATEGORY_CD_RECODE','OFFER_RELEASED_FG','OFFER_OUTCOME_CD','OFFER_CONDITIONS',\n",
    "                        'APPLICATION_LINE_ID'], axis=1)\n",
    "segment1_workflow1.head()"
   ]
  },
  {
   "cell_type": "code",
   "execution_count": 7,
   "metadata": {},
   "outputs": [
    {
     "data": {
      "text/plain": [
       "CASE_ID\n",
       "1000124|358605|558960    3\n",
       "1000151|334421|523525    5\n",
       "1000151|334421|523527    5\n",
       "1000236|334503|523645    5\n",
       "1000455|387482|603354    8\n",
       "Name: CASE_ID, dtype: int64"
      ]
     },
     "execution_count": 7,
     "metadata": {},
     "output_type": "execute_result"
    }
   ],
   "source": [
    "numOfWorkflowProcesses=segment1_workflow1.groupby('CASE_ID').CASE_ID.count()\n",
    "numOfWorkflowProcesses.head()"
   ]
  },
  {
   "cell_type": "code",
   "execution_count": 8,
   "metadata": {},
   "outputs": [],
   "source": [
    "counts = segment1_workflow1['CASE_ID'].value_counts()"
   ]
  },
  {
   "cell_type": "code",
   "execution_count": 9,
   "metadata": {},
   "outputs": [
    {
     "data": {
      "text/plain": [
       "1033160|376360|586590    26\n",
       "1089859|533232|815894    25\n",
       "1136991|513138|787130    25\n",
       "1066031|422858|654894    24\n",
       "1118110|488522|750155    24\n",
       "Name: CASE_ID, dtype: int64"
      ]
     },
     "execution_count": 9,
     "metadata": {},
     "output_type": "execute_result"
    }
   ],
   "source": [
    "counts.head()"
   ]
  },
  {
   "cell_type": "code",
   "execution_count": 919,
   "metadata": {},
   "outputs": [],
   "source": [
    "filtered = counts[counts == 26]\n",
    "seg1_count1=segment1_workflow1[segment1_workflow1['CASE_ID'].isin(filtered.index)]"
   ]
  },
  {
   "cell_type": "code",
   "execution_count": 920,
   "metadata": {},
   "outputs": [
    {
     "data": {
      "text/plain": [
       "1"
      ]
     },
     "execution_count": 920,
     "metadata": {},
     "output_type": "execute_result"
    }
   ],
   "source": [
    "seg1_count1['CASE_ID'].nunique()"
   ]
  },
  {
   "cell_type": "code",
   "execution_count": 921,
   "metadata": {},
   "outputs": [
    {
     "data": {
      "text/html": [
       "<div>\n",
       "<style scoped>\n",
       "    .dataframe tbody tr th:only-of-type {\n",
       "        vertical-align: middle;\n",
       "    }\n",
       "\n",
       "    .dataframe tbody tr th {\n",
       "        vertical-align: top;\n",
       "    }\n",
       "\n",
       "    .dataframe thead th {\n",
       "        text-align: right;\n",
       "    }\n",
       "</style>\n",
       "<table border=\"1\" class=\"dataframe\">\n",
       "  <thead>\n",
       "    <tr style=\"text-align: right;\">\n",
       "      <th></th>\n",
       "      <th>CASE_ID</th>\n",
       "      <th>WRKFLW_TSK_MAP_DETAILED</th>\n",
       "    </tr>\n",
       "  </thead>\n",
       "  <tbody>\n",
       "    <tr>\n",
       "      <th>30450</th>\n",
       "      <td>1033160|376360|586590</td>\n",
       "      <td>Submit</td>\n",
       "    </tr>\n",
       "    <tr>\n",
       "      <th>30451</th>\n",
       "      <td>1033160|376360|586590</td>\n",
       "      <td>Assessment Decision - No Decision</td>\n",
       "    </tr>\n",
       "    <tr>\n",
       "      <th>30452</th>\n",
       "      <td>1033160|376360|586590</td>\n",
       "      <td>AR - Satisfied - Advanced Standing</td>\n",
       "    </tr>\n",
       "    <tr>\n",
       "      <th>30453</th>\n",
       "      <td>1033160|376360|586590</td>\n",
       "      <td>AR - Created - Advanced standing application</td>\n",
       "    </tr>\n",
       "    <tr>\n",
       "      <th>30454</th>\n",
       "      <td>1033160|376360|586590</td>\n",
       "      <td>AR - Satisfied - Advanced standing application</td>\n",
       "    </tr>\n",
       "  </tbody>\n",
       "</table>\n",
       "</div>"
      ],
      "text/plain": [
       "                     CASE_ID                         WRKFLW_TSK_MAP_DETAILED\n",
       "30450  1033160|376360|586590                                          Submit\n",
       "30451  1033160|376360|586590               Assessment Decision - No Decision\n",
       "30452  1033160|376360|586590              AR - Satisfied - Advanced Standing\n",
       "30453  1033160|376360|586590    AR - Created - Advanced standing application\n",
       "30454  1033160|376360|586590  AR - Satisfied - Advanced standing application"
      ]
     },
     "execution_count": 921,
     "metadata": {},
     "output_type": "execute_result"
    }
   ],
   "source": [
    "seg1_count1.head()"
   ]
  },
  {
   "cell_type": "code",
   "execution_count": 950,
   "metadata": {},
   "outputs": [],
   "source": [
    "y = pd.get_dummies(seg1_count1.WRKFLW_TSK_MAP_DETAILED)\n",
    "y=y[:0]"
   ]
  },
  {
   "cell_type": "code",
   "execution_count": 951,
   "metadata": {},
   "outputs": [
    {
     "data": {
      "text/html": [
       "<div>\n",
       "<style scoped>\n",
       "    .dataframe tbody tr th:only-of-type {\n",
       "        vertical-align: middle;\n",
       "    }\n",
       "\n",
       "    .dataframe tbody tr th {\n",
       "        vertical-align: top;\n",
       "    }\n",
       "\n",
       "    .dataframe thead th {\n",
       "        text-align: right;\n",
       "    }\n",
       "</style>\n",
       "<table border=\"1\" class=\"dataframe\">\n",
       "  <thead>\n",
       "    <tr style=\"text-align: right;\">\n",
       "      <th></th>\n",
       "      <th>AR - Created - Advanced standing application</th>\n",
       "      <th>AR - Created - Assessment information (Coursework) (1)</th>\n",
       "      <th>AR - Created - Further information (1)</th>\n",
       "      <th>AR - Created - Further information (2)</th>\n",
       "      <th>AR - Created - Further information (3)</th>\n",
       "      <th>AR - Not Satisfied - English language proficiency</th>\n",
       "      <th>AR - Requested - Official syllabus or subject descriptions (in English)</th>\n",
       "      <th>AR - Satisfied - Academic results for prior tertiary studies</th>\n",
       "      <th>AR - Satisfied - Advanced Standing</th>\n",
       "      <th>AR - Satisfied - Advanced standing application</th>\n",
       "      <th>AR - Satisfied - Appointment of authorised representative</th>\n",
       "      <th>AR - Satisfied - Assessment information (Coursework) (1)</th>\n",
       "      <th>AR - Satisfied - Entry points (Master of Information Technology)</th>\n",
       "      <th>AR - Satisfied - Further information (1)</th>\n",
       "      <th>AR - Satisfied - Further information (2)</th>\n",
       "      <th>AR - Satisfied - Further information (3)</th>\n",
       "      <th>AR - Satisfied - Specialisation (Master of Information Technology)</th>\n",
       "      <th>Assessment Decision - No Decision</th>\n",
       "      <th>Assessment Decision - Qualified</th>\n",
       "      <th>OC - Created - English language requirements</th>\n",
       "      <th>Put Triage On-Hold</th>\n",
       "      <th>Release Triage Hold</th>\n",
       "      <th>Send for Assessment</th>\n",
       "      <th>Submit</th>\n",
       "    </tr>\n",
       "  </thead>\n",
       "  <tbody>\n",
       "  </tbody>\n",
       "</table>\n",
       "</div>"
      ],
      "text/plain": [
       "Empty DataFrame\n",
       "Columns: [AR - Created - Advanced standing application, AR - Created - Assessment information (Coursework) (1), AR - Created - Further information (1), AR - Created - Further information (2), AR - Created - Further information (3), AR - Not Satisfied - English language proficiency, AR - Requested - Official syllabus or subject descriptions (in English), AR - Satisfied - Academic results for prior tertiary studies, AR - Satisfied - Advanced Standing, AR - Satisfied - Advanced standing application, AR - Satisfied - Appointment of authorised representative, AR - Satisfied - Assessment information (Coursework) (1), AR - Satisfied - Entry points (Master of Information Technology), AR - Satisfied - Further information (1), AR - Satisfied - Further information (2), AR - Satisfied - Further information (3), AR - Satisfied - Specialisation (Master of Information Technology), Assessment Decision - No Decision, Assessment Decision - Qualified, OC - Created - English language requirements, Put Triage On-Hold, Release Triage Hold, Send for Assessment, Submit]\n",
       "Index: []"
      ]
     },
     "execution_count": 951,
     "metadata": {},
     "output_type": "execute_result"
    }
   ],
   "source": [
    "y"
   ]
  },
  {
   "cell_type": "code",
   "execution_count": 952,
   "metadata": {},
   "outputs": [],
   "source": [
    "y[\"CASE_ID\"]=\"\""
   ]
  },
  {
   "cell_type": "code",
   "execution_count": 953,
   "metadata": {},
   "outputs": [],
   "source": [
    "col_name=\"CASE_ID\"\n",
    "first_col = y.pop(col_name)"
   ]
  },
  {
   "cell_type": "code",
   "execution_count": 954,
   "metadata": {},
   "outputs": [],
   "source": [
    "y.insert(0, col_name, first_col)"
   ]
  },
  {
   "cell_type": "code",
   "execution_count": 955,
   "metadata": {},
   "outputs": [],
   "source": [
    "y['CASE_ID']=seg1_count1['CASE_ID'].unique()"
   ]
  },
  {
   "cell_type": "code",
   "execution_count": 956,
   "metadata": {},
   "outputs": [
    {
     "data": {
      "text/html": [
       "<div>\n",
       "<style scoped>\n",
       "    .dataframe tbody tr th:only-of-type {\n",
       "        vertical-align: middle;\n",
       "    }\n",
       "\n",
       "    .dataframe tbody tr th {\n",
       "        vertical-align: top;\n",
       "    }\n",
       "\n",
       "    .dataframe thead th {\n",
       "        text-align: right;\n",
       "    }\n",
       "</style>\n",
       "<table border=\"1\" class=\"dataframe\">\n",
       "  <thead>\n",
       "    <tr style=\"text-align: right;\">\n",
       "      <th></th>\n",
       "      <th>CASE_ID</th>\n",
       "      <th>AR - Created - Advanced standing application</th>\n",
       "      <th>AR - Created - Assessment information (Coursework) (1)</th>\n",
       "      <th>AR - Created - Further information (1)</th>\n",
       "      <th>AR - Created - Further information (2)</th>\n",
       "      <th>AR - Created - Further information (3)</th>\n",
       "      <th>AR - Not Satisfied - English language proficiency</th>\n",
       "      <th>AR - Requested - Official syllabus or subject descriptions (in English)</th>\n",
       "      <th>AR - Satisfied - Academic results for prior tertiary studies</th>\n",
       "      <th>AR - Satisfied - Advanced Standing</th>\n",
       "      <th>AR - Satisfied - Advanced standing application</th>\n",
       "      <th>AR - Satisfied - Appointment of authorised representative</th>\n",
       "      <th>AR - Satisfied - Assessment information (Coursework) (1)</th>\n",
       "      <th>AR - Satisfied - Entry points (Master of Information Technology)</th>\n",
       "      <th>AR - Satisfied - Further information (1)</th>\n",
       "      <th>AR - Satisfied - Further information (2)</th>\n",
       "      <th>AR - Satisfied - Further information (3)</th>\n",
       "      <th>AR - Satisfied - Specialisation (Master of Information Technology)</th>\n",
       "      <th>Assessment Decision - No Decision</th>\n",
       "      <th>Assessment Decision - Qualified</th>\n",
       "      <th>OC - Created - English language requirements</th>\n",
       "      <th>Put Triage On-Hold</th>\n",
       "      <th>Release Triage Hold</th>\n",
       "      <th>Send for Assessment</th>\n",
       "      <th>Submit</th>\n",
       "    </tr>\n",
       "  </thead>\n",
       "  <tbody>\n",
       "    <tr>\n",
       "      <th>0</th>\n",
       "      <td>1033160|376360|586590</td>\n",
       "      <td>0.0</td>\n",
       "      <td>0.0</td>\n",
       "      <td>0.0</td>\n",
       "      <td>0.0</td>\n",
       "      <td>0.0</td>\n",
       "      <td>0.0</td>\n",
       "      <td>0.0</td>\n",
       "      <td>0.0</td>\n",
       "      <td>0.0</td>\n",
       "      <td>0.0</td>\n",
       "      <td>0.0</td>\n",
       "      <td>0.0</td>\n",
       "      <td>0.0</td>\n",
       "      <td>0.0</td>\n",
       "      <td>0.0</td>\n",
       "      <td>0.0</td>\n",
       "      <td>0.0</td>\n",
       "      <td>0.0</td>\n",
       "      <td>0.0</td>\n",
       "      <td>0.0</td>\n",
       "      <td>0.0</td>\n",
       "      <td>0.0</td>\n",
       "      <td>0.0</td>\n",
       "      <td>0.0</td>\n",
       "    </tr>\n",
       "  </tbody>\n",
       "</table>\n",
       "</div>"
      ],
      "text/plain": [
       "                 CASE_ID  AR - Created - Advanced standing application  \\\n",
       "0  1033160|376360|586590                                           0.0   \n",
       "\n",
       "   AR - Created - Assessment information (Coursework) (1)  \\\n",
       "0                                                0.0        \n",
       "\n",
       "   AR - Created - Further information (1)  \\\n",
       "0                                     0.0   \n",
       "\n",
       "   AR - Created - Further information (2)  \\\n",
       "0                                     0.0   \n",
       "\n",
       "   AR - Created - Further information (3)  \\\n",
       "0                                     0.0   \n",
       "\n",
       "   AR - Not Satisfied - English language proficiency  \\\n",
       "0                                                0.0   \n",
       "\n",
       "   AR - Requested - Official syllabus or subject descriptions (in English)  \\\n",
       "0                                                0.0                         \n",
       "\n",
       "   AR - Satisfied - Academic results for prior tertiary studies  \\\n",
       "0                                                0.0              \n",
       "\n",
       "   AR - Satisfied - Advanced Standing  \\\n",
       "0                                 0.0   \n",
       "\n",
       "   AR - Satisfied - Advanced standing application  \\\n",
       "0                                             0.0   \n",
       "\n",
       "   AR - Satisfied - Appointment of authorised representative  \\\n",
       "0                                                0.0           \n",
       "\n",
       "   AR - Satisfied - Assessment information (Coursework) (1)  \\\n",
       "0                                                0.0          \n",
       "\n",
       "   AR - Satisfied - Entry points (Master of Information Technology)  \\\n",
       "0                                                0.0                  \n",
       "\n",
       "   AR - Satisfied - Further information (1)  \\\n",
       "0                                       0.0   \n",
       "\n",
       "   AR - Satisfied - Further information (2)  \\\n",
       "0                                       0.0   \n",
       "\n",
       "   AR - Satisfied - Further information (3)  \\\n",
       "0                                       0.0   \n",
       "\n",
       "   AR - Satisfied - Specialisation (Master of Information Technology)  \\\n",
       "0                                                0.0                    \n",
       "\n",
       "   Assessment Decision - No Decision  Assessment Decision - Qualified  \\\n",
       "0                                0.0                              0.0   \n",
       "\n",
       "   OC - Created - English language requirements  Put Triage On-Hold  \\\n",
       "0                                           0.0                 0.0   \n",
       "\n",
       "   Release Triage Hold  Send for Assessment  Submit  \n",
       "0                  0.0                  0.0     0.0  "
      ]
     },
     "execution_count": 956,
     "metadata": {},
     "output_type": "execute_result"
    }
   ],
   "source": [
    "import numpy as np\n",
    "y = y.replace(np.nan,0, regex=True)\n",
    "y.head()"
   ]
  },
  {
   "cell_type": "code",
   "execution_count": 957,
   "metadata": {},
   "outputs": [],
   "source": [
    "dict_1=seg1_count1.to_dict(orient='list')"
   ]
  },
  {
   "cell_type": "code",
   "execution_count": 958,
   "metadata": {},
   "outputs": [],
   "source": [
    "case_id = dict_1['CASE_ID']"
   ]
  },
  {
   "cell_type": "code",
   "execution_count": 959,
   "metadata": {},
   "outputs": [],
   "source": [
    "workflow = dict_1['WRKFLW_TSK_MAP_DETAILED']"
   ]
  },
  {
   "cell_type": "code",
   "execution_count": 960,
   "metadata": {},
   "outputs": [
    {
     "name": "stdout",
     "output_type": "stream",
     "text": [
      "<class 'list'>\n",
      "26\n"
     ]
    }
   ],
   "source": [
    "print(type(workflow))\n",
    "print(len(workflow))"
   ]
  },
  {
   "cell_type": "code",
   "execution_count": 961,
   "metadata": {},
   "outputs": [
    {
     "name": "stdout",
     "output_type": "stream",
     "text": [
      "1\n"
     ]
    }
   ],
   "source": [
    "from collections import defaultdict\n",
    "\n",
    "case_wf_dict = defaultdict(list)\n",
    "\n",
    "for i in range(len(case_id)):\n",
    "    item = case_id[i]\n",
    "    case_wf_dict[item].append(workflow[i])\n",
    "print(len(case_wf_dict))"
   ]
  },
  {
   "cell_type": "code",
   "execution_count": 962,
   "metadata": {},
   "outputs": [],
   "source": [
    "y = y.set_index('CASE_ID')"
   ]
  },
  {
   "cell_type": "code",
   "execution_count": 963,
   "metadata": {},
   "outputs": [
    {
     "data": {
      "text/html": [
       "<div>\n",
       "<style scoped>\n",
       "    .dataframe tbody tr th:only-of-type {\n",
       "        vertical-align: middle;\n",
       "    }\n",
       "\n",
       "    .dataframe tbody tr th {\n",
       "        vertical-align: top;\n",
       "    }\n",
       "\n",
       "    .dataframe thead th {\n",
       "        text-align: right;\n",
       "    }\n",
       "</style>\n",
       "<table border=\"1\" class=\"dataframe\">\n",
       "  <thead>\n",
       "    <tr style=\"text-align: right;\">\n",
       "      <th></th>\n",
       "      <th>AR - Created - Advanced standing application</th>\n",
       "      <th>AR - Created - Assessment information (Coursework) (1)</th>\n",
       "      <th>AR - Created - Further information (1)</th>\n",
       "      <th>AR - Created - Further information (2)</th>\n",
       "      <th>AR - Created - Further information (3)</th>\n",
       "      <th>AR - Not Satisfied - English language proficiency</th>\n",
       "      <th>AR - Requested - Official syllabus or subject descriptions (in English)</th>\n",
       "      <th>AR - Satisfied - Academic results for prior tertiary studies</th>\n",
       "      <th>AR - Satisfied - Advanced Standing</th>\n",
       "      <th>AR - Satisfied - Advanced standing application</th>\n",
       "      <th>AR - Satisfied - Appointment of authorised representative</th>\n",
       "      <th>AR - Satisfied - Assessment information (Coursework) (1)</th>\n",
       "      <th>AR - Satisfied - Entry points (Master of Information Technology)</th>\n",
       "      <th>AR - Satisfied - Further information (1)</th>\n",
       "      <th>AR - Satisfied - Further information (2)</th>\n",
       "      <th>AR - Satisfied - Further information (3)</th>\n",
       "      <th>AR - Satisfied - Specialisation (Master of Information Technology)</th>\n",
       "      <th>Assessment Decision - No Decision</th>\n",
       "      <th>Assessment Decision - Qualified</th>\n",
       "      <th>OC - Created - English language requirements</th>\n",
       "      <th>Put Triage On-Hold</th>\n",
       "      <th>Release Triage Hold</th>\n",
       "      <th>Send for Assessment</th>\n",
       "      <th>Submit</th>\n",
       "    </tr>\n",
       "    <tr>\n",
       "      <th>CASE_ID</th>\n",
       "      <th></th>\n",
       "      <th></th>\n",
       "      <th></th>\n",
       "      <th></th>\n",
       "      <th></th>\n",
       "      <th></th>\n",
       "      <th></th>\n",
       "      <th></th>\n",
       "      <th></th>\n",
       "      <th></th>\n",
       "      <th></th>\n",
       "      <th></th>\n",
       "      <th></th>\n",
       "      <th></th>\n",
       "      <th></th>\n",
       "      <th></th>\n",
       "      <th></th>\n",
       "      <th></th>\n",
       "      <th></th>\n",
       "      <th></th>\n",
       "      <th></th>\n",
       "      <th></th>\n",
       "      <th></th>\n",
       "      <th></th>\n",
       "    </tr>\n",
       "  </thead>\n",
       "  <tbody>\n",
       "    <tr>\n",
       "      <th>1033160|376360|586590</th>\n",
       "      <td>0.0</td>\n",
       "      <td>0.0</td>\n",
       "      <td>0.0</td>\n",
       "      <td>0.0</td>\n",
       "      <td>0.0</td>\n",
       "      <td>0.0</td>\n",
       "      <td>0.0</td>\n",
       "      <td>0.0</td>\n",
       "      <td>0.0</td>\n",
       "      <td>0.0</td>\n",
       "      <td>0.0</td>\n",
       "      <td>0.0</td>\n",
       "      <td>0.0</td>\n",
       "      <td>0.0</td>\n",
       "      <td>0.0</td>\n",
       "      <td>0.0</td>\n",
       "      <td>0.0</td>\n",
       "      <td>0.0</td>\n",
       "      <td>0.0</td>\n",
       "      <td>0.0</td>\n",
       "      <td>0.0</td>\n",
       "      <td>0.0</td>\n",
       "      <td>0.0</td>\n",
       "      <td>0.0</td>\n",
       "    </tr>\n",
       "  </tbody>\n",
       "</table>\n",
       "</div>"
      ],
      "text/plain": [
       "                       AR - Created - Advanced standing application  \\\n",
       "CASE_ID                                                               \n",
       "1033160|376360|586590                                           0.0   \n",
       "\n",
       "                       AR - Created - Assessment information (Coursework) (1)  \\\n",
       "CASE_ID                                                                         \n",
       "1033160|376360|586590                                                0.0        \n",
       "\n",
       "                       AR - Created - Further information (1)  \\\n",
       "CASE_ID                                                         \n",
       "1033160|376360|586590                                     0.0   \n",
       "\n",
       "                       AR - Created - Further information (2)  \\\n",
       "CASE_ID                                                         \n",
       "1033160|376360|586590                                     0.0   \n",
       "\n",
       "                       AR - Created - Further information (3)  \\\n",
       "CASE_ID                                                         \n",
       "1033160|376360|586590                                     0.0   \n",
       "\n",
       "                       AR - Not Satisfied - English language proficiency  \\\n",
       "CASE_ID                                                                    \n",
       "1033160|376360|586590                                                0.0   \n",
       "\n",
       "                       AR - Requested - Official syllabus or subject descriptions (in English)  \\\n",
       "CASE_ID                                                                                          \n",
       "1033160|376360|586590                                                0.0                         \n",
       "\n",
       "                       AR - Satisfied - Academic results for prior tertiary studies  \\\n",
       "CASE_ID                                                                               \n",
       "1033160|376360|586590                                                0.0              \n",
       "\n",
       "                       AR - Satisfied - Advanced Standing  \\\n",
       "CASE_ID                                                     \n",
       "1033160|376360|586590                                 0.0   \n",
       "\n",
       "                       AR - Satisfied - Advanced standing application  \\\n",
       "CASE_ID                                                                 \n",
       "1033160|376360|586590                                             0.0   \n",
       "\n",
       "                       AR - Satisfied - Appointment of authorised representative  \\\n",
       "CASE_ID                                                                            \n",
       "1033160|376360|586590                                                0.0           \n",
       "\n",
       "                       AR - Satisfied - Assessment information (Coursework) (1)  \\\n",
       "CASE_ID                                                                           \n",
       "1033160|376360|586590                                                0.0          \n",
       "\n",
       "                       AR - Satisfied - Entry points (Master of Information Technology)  \\\n",
       "CASE_ID                                                                                   \n",
       "1033160|376360|586590                                                0.0                  \n",
       "\n",
       "                       AR - Satisfied - Further information (1)  \\\n",
       "CASE_ID                                                           \n",
       "1033160|376360|586590                                       0.0   \n",
       "\n",
       "                       AR - Satisfied - Further information (2)  \\\n",
       "CASE_ID                                                           \n",
       "1033160|376360|586590                                       0.0   \n",
       "\n",
       "                       AR - Satisfied - Further information (3)  \\\n",
       "CASE_ID                                                           \n",
       "1033160|376360|586590                                       0.0   \n",
       "\n",
       "                       AR - Satisfied - Specialisation (Master of Information Technology)  \\\n",
       "CASE_ID                                                                                     \n",
       "1033160|376360|586590                                                0.0                    \n",
       "\n",
       "                       Assessment Decision - No Decision  \\\n",
       "CASE_ID                                                    \n",
       "1033160|376360|586590                                0.0   \n",
       "\n",
       "                       Assessment Decision - Qualified  \\\n",
       "CASE_ID                                                  \n",
       "1033160|376360|586590                              0.0   \n",
       "\n",
       "                       OC - Created - English language requirements  \\\n",
       "CASE_ID                                                               \n",
       "1033160|376360|586590                                           0.0   \n",
       "\n",
       "                       Put Triage On-Hold  Release Triage Hold  \\\n",
       "CASE_ID                                                          \n",
       "1033160|376360|586590                 0.0                  0.0   \n",
       "\n",
       "                       Send for Assessment  Submit  \n",
       "CASE_ID                                             \n",
       "1033160|376360|586590                  0.0     0.0  "
      ]
     },
     "execution_count": 963,
     "metadata": {},
     "output_type": "execute_result"
    }
   ],
   "source": [
    "y.head()"
   ]
  },
  {
   "cell_type": "code",
   "execution_count": 964,
   "metadata": {},
   "outputs": [
    {
     "name": "stdout",
     "output_type": "stream",
     "text": [
      "['AR - Created - Advanced standing application', 'AR - Created - Assessment information (Coursework) (1)', 'AR - Created - Further information (1)', 'AR - Created - Further information (2)', 'AR - Created - Further information (3)', 'AR - Not Satisfied - English language proficiency', 'AR - Requested - Official syllabus or subject descriptions (in English)', 'AR - Satisfied - Academic results for prior tertiary studies', 'AR - Satisfied - Advanced Standing', 'AR - Satisfied - Advanced standing application', 'AR - Satisfied - Appointment of authorised representative', 'AR - Satisfied - Assessment information (Coursework) (1)', 'AR - Satisfied - Entry points (Master of Information Technology)', 'AR - Satisfied - Further information (1)', 'AR - Satisfied - Further information (2)', 'AR - Satisfied - Further information (3)', 'AR - Satisfied - Specialisation (Master of Information Technology)', 'Assessment Decision - No Decision', 'Assessment Decision - Qualified', 'OC - Created - English language requirements', 'Put Triage On-Hold', 'Release Triage Hold', 'Send for Assessment', 'Submit']\n"
     ]
    }
   ],
   "source": [
    "y_col_name = y.columns.values.tolist()\n",
    "print(y_col_name)"
   ]
  },
  {
   "cell_type": "code",
   "execution_count": 965,
   "metadata": {},
   "outputs": [],
   "source": [
    "for key in case_wf_dict.keys():\n",
    "    for process in case_wf_dict[key]:\n",
    "        if process in y_col_name:\n",
    "            y.loc[key, process] = 1\n",
    "        else:\n",
    "            continue"
   ]
  },
  {
   "cell_type": "code",
   "execution_count": 966,
   "metadata": {},
   "outputs": [],
   "source": [
    "pd.set_option('display.max_rows', None)"
   ]
  },
  {
   "cell_type": "code",
   "execution_count": 967,
   "metadata": {},
   "outputs": [],
   "source": [
    "def movecol(df, cols_to_move=[], ref_col='', place='After'):\n",
    "    \n",
    "    cols = df.columns.tolist()\n",
    "    if place == 'After':\n",
    "        seg1 = cols[:list(cols).index(ref_col) + 1]\n",
    "        seg2 = cols_to_move\n",
    "    if place == 'Before':\n",
    "        seg1 = cols[:list(cols).index(ref_col)]\n",
    "        seg2 = cols_to_move + [ref_col]\n",
    "    \n",
    "    seg1 = [i for i in seg1 if i not in seg2]\n",
    "    seg3 = [i for i in cols if i not in seg1 + seg2]\n",
    "    \n",
    "    return(df[seg1 + seg2 + seg3])"
   ]
  },
  {
   "cell_type": "code",
   "execution_count": 968,
   "metadata": {},
   "outputs": [
    {
     "data": {
      "text/html": [
       "<div>\n",
       "<style scoped>\n",
       "    .dataframe tbody tr th:only-of-type {\n",
       "        vertical-align: middle;\n",
       "    }\n",
       "\n",
       "    .dataframe tbody tr th {\n",
       "        vertical-align: top;\n",
       "    }\n",
       "\n",
       "    .dataframe thead th {\n",
       "        text-align: right;\n",
       "    }\n",
       "</style>\n",
       "<table border=\"1\" class=\"dataframe\">\n",
       "  <thead>\n",
       "    <tr style=\"text-align: right;\">\n",
       "      <th></th>\n",
       "      <th>AR - Created - Advanced standing application</th>\n",
       "      <th>AR - Created - Assessment information (Coursework) (1)</th>\n",
       "      <th>AR - Created - Further information (1)</th>\n",
       "      <th>AR - Created - Further information (2)</th>\n",
       "      <th>AR - Created - Further information (3)</th>\n",
       "      <th>AR - Not Satisfied - English language proficiency</th>\n",
       "      <th>AR - Requested - Official syllabus or subject descriptions (in English)</th>\n",
       "      <th>AR - Satisfied - Academic results for prior tertiary studies</th>\n",
       "      <th>AR - Satisfied - Advanced Standing</th>\n",
       "      <th>AR - Satisfied - Advanced standing application</th>\n",
       "      <th>AR - Satisfied - Appointment of authorised representative</th>\n",
       "      <th>AR - Satisfied - Assessment information (Coursework) (1)</th>\n",
       "      <th>AR - Satisfied - Entry points (Master of Information Technology)</th>\n",
       "      <th>AR - Satisfied - Further information (1)</th>\n",
       "      <th>AR - Satisfied - Further information (2)</th>\n",
       "      <th>AR - Satisfied - Further information (3)</th>\n",
       "      <th>AR - Satisfied - Specialisation (Master of Information Technology)</th>\n",
       "      <th>Assessment Decision - No Decision</th>\n",
       "      <th>Assessment Decision - Qualified</th>\n",
       "      <th>OC - Created - English language requirements</th>\n",
       "      <th>Put Triage On-Hold</th>\n",
       "      <th>Release Triage Hold</th>\n",
       "      <th>Send for Assessment</th>\n",
       "      <th>Submit</th>\n",
       "    </tr>\n",
       "    <tr>\n",
       "      <th>CASE_ID</th>\n",
       "      <th></th>\n",
       "      <th></th>\n",
       "      <th></th>\n",
       "      <th></th>\n",
       "      <th></th>\n",
       "      <th></th>\n",
       "      <th></th>\n",
       "      <th></th>\n",
       "      <th></th>\n",
       "      <th></th>\n",
       "      <th></th>\n",
       "      <th></th>\n",
       "      <th></th>\n",
       "      <th></th>\n",
       "      <th></th>\n",
       "      <th></th>\n",
       "      <th></th>\n",
       "      <th></th>\n",
       "      <th></th>\n",
       "      <th></th>\n",
       "      <th></th>\n",
       "      <th></th>\n",
       "      <th></th>\n",
       "      <th></th>\n",
       "    </tr>\n",
       "  </thead>\n",
       "  <tbody>\n",
       "    <tr>\n",
       "      <th>1033160|376360|586590</th>\n",
       "      <td>1.0</td>\n",
       "      <td>1.0</td>\n",
       "      <td>1.0</td>\n",
       "      <td>1.0</td>\n",
       "      <td>1.0</td>\n",
       "      <td>1.0</td>\n",
       "      <td>1.0</td>\n",
       "      <td>1.0</td>\n",
       "      <td>1.0</td>\n",
       "      <td>1.0</td>\n",
       "      <td>1.0</td>\n",
       "      <td>1.0</td>\n",
       "      <td>1.0</td>\n",
       "      <td>1.0</td>\n",
       "      <td>1.0</td>\n",
       "      <td>1.0</td>\n",
       "      <td>1.0</td>\n",
       "      <td>1.0</td>\n",
       "      <td>1.0</td>\n",
       "      <td>1.0</td>\n",
       "      <td>1.0</td>\n",
       "      <td>1.0</td>\n",
       "      <td>1.0</td>\n",
       "      <td>1.0</td>\n",
       "    </tr>\n",
       "  </tbody>\n",
       "</table>\n",
       "</div>"
      ],
      "text/plain": [
       "                       AR - Created - Advanced standing application  \\\n",
       "CASE_ID                                                               \n",
       "1033160|376360|586590                                           1.0   \n",
       "\n",
       "                       AR - Created - Assessment information (Coursework) (1)  \\\n",
       "CASE_ID                                                                         \n",
       "1033160|376360|586590                                                1.0        \n",
       "\n",
       "                       AR - Created - Further information (1)  \\\n",
       "CASE_ID                                                         \n",
       "1033160|376360|586590                                     1.0   \n",
       "\n",
       "                       AR - Created - Further information (2)  \\\n",
       "CASE_ID                                                         \n",
       "1033160|376360|586590                                     1.0   \n",
       "\n",
       "                       AR - Created - Further information (3)  \\\n",
       "CASE_ID                                                         \n",
       "1033160|376360|586590                                     1.0   \n",
       "\n",
       "                       AR - Not Satisfied - English language proficiency  \\\n",
       "CASE_ID                                                                    \n",
       "1033160|376360|586590                                                1.0   \n",
       "\n",
       "                       AR - Requested - Official syllabus or subject descriptions (in English)  \\\n",
       "CASE_ID                                                                                          \n",
       "1033160|376360|586590                                                1.0                         \n",
       "\n",
       "                       AR - Satisfied - Academic results for prior tertiary studies  \\\n",
       "CASE_ID                                                                               \n",
       "1033160|376360|586590                                                1.0              \n",
       "\n",
       "                       AR - Satisfied - Advanced Standing  \\\n",
       "CASE_ID                                                     \n",
       "1033160|376360|586590                                 1.0   \n",
       "\n",
       "                       AR - Satisfied - Advanced standing application  \\\n",
       "CASE_ID                                                                 \n",
       "1033160|376360|586590                                             1.0   \n",
       "\n",
       "                       AR - Satisfied - Appointment of authorised representative  \\\n",
       "CASE_ID                                                                            \n",
       "1033160|376360|586590                                                1.0           \n",
       "\n",
       "                       AR - Satisfied - Assessment information (Coursework) (1)  \\\n",
       "CASE_ID                                                                           \n",
       "1033160|376360|586590                                                1.0          \n",
       "\n",
       "                       AR - Satisfied - Entry points (Master of Information Technology)  \\\n",
       "CASE_ID                                                                                   \n",
       "1033160|376360|586590                                                1.0                  \n",
       "\n",
       "                       AR - Satisfied - Further information (1)  \\\n",
       "CASE_ID                                                           \n",
       "1033160|376360|586590                                       1.0   \n",
       "\n",
       "                       AR - Satisfied - Further information (2)  \\\n",
       "CASE_ID                                                           \n",
       "1033160|376360|586590                                       1.0   \n",
       "\n",
       "                       AR - Satisfied - Further information (3)  \\\n",
       "CASE_ID                                                           \n",
       "1033160|376360|586590                                       1.0   \n",
       "\n",
       "                       AR - Satisfied - Specialisation (Master of Information Technology)  \\\n",
       "CASE_ID                                                                                     \n",
       "1033160|376360|586590                                                1.0                    \n",
       "\n",
       "                       Assessment Decision - No Decision  \\\n",
       "CASE_ID                                                    \n",
       "1033160|376360|586590                                1.0   \n",
       "\n",
       "                       Assessment Decision - Qualified  \\\n",
       "CASE_ID                                                  \n",
       "1033160|376360|586590                              1.0   \n",
       "\n",
       "                       OC - Created - English language requirements  \\\n",
       "CASE_ID                                                               \n",
       "1033160|376360|586590                                           1.0   \n",
       "\n",
       "                       Put Triage On-Hold  Release Triage Hold  \\\n",
       "CASE_ID                                                          \n",
       "1033160|376360|586590                 1.0                  1.0   \n",
       "\n",
       "                       Send for Assessment  Submit  \n",
       "CASE_ID                                             \n",
       "1033160|376360|586590                  1.0     1.0  "
      ]
     },
     "execution_count": 968,
     "metadata": {},
     "output_type": "execute_result"
    }
   ],
   "source": [
    "y.head()"
   ]
  },
  {
   "cell_type": "code",
   "execution_count": 969,
   "metadata": {},
   "outputs": [],
   "source": [
    "y = movecol(y, \n",
    "             cols_to_move=['Submit'], \n",
    "             ref_col='AR - Created - Advanced standing application',\n",
    "             place='Before')"
   ]
  },
  {
   "cell_type": "code",
   "execution_count": 942,
   "metadata": {},
   "outputs": [
    {
     "ename": "ValueError",
     "evalue": "'WITHDRAW & LOCK' is not in list",
     "output_type": "error",
     "traceback": [
      "\u001b[0;31m---------------------------------------------------------------------------\u001b[0m",
      "\u001b[0;31mValueError\u001b[0m                                Traceback (most recent call last)",
      "\u001b[0;32m<ipython-input-942-265cbc4217ea>\u001b[0m in \u001b[0;36m<module>\u001b[0;34m\u001b[0m\n\u001b[0;32m----> 1\u001b[0;31m y = movecol(y, \n\u001b[0m\u001b[1;32m      2\u001b[0m              \u001b[0mcols_to_move\u001b[0m\u001b[0;34m=\u001b[0m\u001b[0;34m[\u001b[0m\u001b[0;34m'Send for Assessment'\u001b[0m\u001b[0;34m]\u001b[0m\u001b[0;34m,\u001b[0m\u001b[0;34m\u001b[0m\u001b[0;34m\u001b[0m\u001b[0m\n\u001b[1;32m      3\u001b[0m              \u001b[0mref_col\u001b[0m\u001b[0;34m=\u001b[0m\u001b[0;34m'WITHDRAW & LOCK'\u001b[0m\u001b[0;34m,\u001b[0m\u001b[0;34m\u001b[0m\u001b[0;34m\u001b[0m\u001b[0m\n\u001b[1;32m      4\u001b[0m              place='After')\n",
      "\u001b[0;32m<ipython-input-939-ea99c8464622>\u001b[0m in \u001b[0;36mmovecol\u001b[0;34m(df, cols_to_move, ref_col, place)\u001b[0m\n\u001b[1;32m      3\u001b[0m     \u001b[0mcols\u001b[0m \u001b[0;34m=\u001b[0m \u001b[0mdf\u001b[0m\u001b[0;34m.\u001b[0m\u001b[0mcolumns\u001b[0m\u001b[0;34m.\u001b[0m\u001b[0mtolist\u001b[0m\u001b[0;34m(\u001b[0m\u001b[0;34m)\u001b[0m\u001b[0;34m\u001b[0m\u001b[0;34m\u001b[0m\u001b[0m\n\u001b[1;32m      4\u001b[0m     \u001b[0;32mif\u001b[0m \u001b[0mplace\u001b[0m \u001b[0;34m==\u001b[0m \u001b[0;34m'After'\u001b[0m\u001b[0;34m:\u001b[0m\u001b[0;34m\u001b[0m\u001b[0;34m\u001b[0m\u001b[0m\n\u001b[0;32m----> 5\u001b[0;31m         \u001b[0mseg1\u001b[0m \u001b[0;34m=\u001b[0m \u001b[0mcols\u001b[0m\u001b[0;34m[\u001b[0m\u001b[0;34m:\u001b[0m\u001b[0mlist\u001b[0m\u001b[0;34m(\u001b[0m\u001b[0mcols\u001b[0m\u001b[0;34m)\u001b[0m\u001b[0;34m.\u001b[0m\u001b[0mindex\u001b[0m\u001b[0;34m(\u001b[0m\u001b[0mref_col\u001b[0m\u001b[0;34m)\u001b[0m \u001b[0;34m+\u001b[0m \u001b[0;36m1\u001b[0m\u001b[0;34m]\u001b[0m\u001b[0;34m\u001b[0m\u001b[0;34m\u001b[0m\u001b[0m\n\u001b[0m\u001b[1;32m      6\u001b[0m         \u001b[0mseg2\u001b[0m \u001b[0;34m=\u001b[0m \u001b[0mcols_to_move\u001b[0m\u001b[0;34m\u001b[0m\u001b[0;34m\u001b[0m\u001b[0m\n\u001b[1;32m      7\u001b[0m     \u001b[0;32mif\u001b[0m \u001b[0mplace\u001b[0m \u001b[0;34m==\u001b[0m \u001b[0;34m'Before'\u001b[0m\u001b[0;34m:\u001b[0m\u001b[0;34m\u001b[0m\u001b[0;34m\u001b[0m\u001b[0m\n",
      "\u001b[0;31mValueError\u001b[0m: 'WITHDRAW & LOCK' is not in list"
     ]
    }
   ],
   "source": [
    "y = movecol(y, \n",
    "             cols_to_move=['Send for Assessment'], \n",
    "             ref_col='WITHDRAW & LOCK',\n",
    "             place='After')"
   ]
  },
  {
   "cell_type": "code",
   "execution_count": null,
   "metadata": {},
   "outputs": [],
   "source": []
  },
  {
   "cell_type": "code",
   "execution_count": 970,
   "metadata": {},
   "outputs": [],
   "source": [
    "pd.set_option('display.max_columns',None)"
   ]
  },
  {
   "cell_type": "code",
   "execution_count": 971,
   "metadata": {},
   "outputs": [
    {
     "data": {
      "text/html": [
       "<div>\n",
       "<style scoped>\n",
       "    .dataframe tbody tr th:only-of-type {\n",
       "        vertical-align: middle;\n",
       "    }\n",
       "\n",
       "    .dataframe tbody tr th {\n",
       "        vertical-align: top;\n",
       "    }\n",
       "\n",
       "    .dataframe thead th {\n",
       "        text-align: right;\n",
       "    }\n",
       "</style>\n",
       "<table border=\"1\" class=\"dataframe\">\n",
       "  <thead>\n",
       "    <tr style=\"text-align: right;\">\n",
       "      <th></th>\n",
       "      <th>Submit</th>\n",
       "      <th>AR - Created - Advanced standing application</th>\n",
       "      <th>AR - Created - Assessment information (Coursework) (1)</th>\n",
       "      <th>AR - Created - Further information (1)</th>\n",
       "      <th>AR - Created - Further information (2)</th>\n",
       "      <th>AR - Created - Further information (3)</th>\n",
       "      <th>AR - Not Satisfied - English language proficiency</th>\n",
       "      <th>AR - Requested - Official syllabus or subject descriptions (in English)</th>\n",
       "      <th>AR - Satisfied - Academic results for prior tertiary studies</th>\n",
       "      <th>AR - Satisfied - Advanced Standing</th>\n",
       "      <th>AR - Satisfied - Advanced standing application</th>\n",
       "      <th>AR - Satisfied - Appointment of authorised representative</th>\n",
       "      <th>AR - Satisfied - Assessment information (Coursework) (1)</th>\n",
       "      <th>AR - Satisfied - Entry points (Master of Information Technology)</th>\n",
       "      <th>AR - Satisfied - Further information (1)</th>\n",
       "      <th>AR - Satisfied - Further information (2)</th>\n",
       "      <th>AR - Satisfied - Further information (3)</th>\n",
       "      <th>AR - Satisfied - Specialisation (Master of Information Technology)</th>\n",
       "      <th>Assessment Decision - No Decision</th>\n",
       "      <th>Assessment Decision - Qualified</th>\n",
       "      <th>OC - Created - English language requirements</th>\n",
       "      <th>Put Triage On-Hold</th>\n",
       "      <th>Release Triage Hold</th>\n",
       "      <th>Send for Assessment</th>\n",
       "    </tr>\n",
       "    <tr>\n",
       "      <th>CASE_ID</th>\n",
       "      <th></th>\n",
       "      <th></th>\n",
       "      <th></th>\n",
       "      <th></th>\n",
       "      <th></th>\n",
       "      <th></th>\n",
       "      <th></th>\n",
       "      <th></th>\n",
       "      <th></th>\n",
       "      <th></th>\n",
       "      <th></th>\n",
       "      <th></th>\n",
       "      <th></th>\n",
       "      <th></th>\n",
       "      <th></th>\n",
       "      <th></th>\n",
       "      <th></th>\n",
       "      <th></th>\n",
       "      <th></th>\n",
       "      <th></th>\n",
       "      <th></th>\n",
       "      <th></th>\n",
       "      <th></th>\n",
       "      <th></th>\n",
       "    </tr>\n",
       "  </thead>\n",
       "  <tbody>\n",
       "    <tr>\n",
       "      <th>1033160|376360|586590</th>\n",
       "      <td>1.0</td>\n",
       "      <td>1.0</td>\n",
       "      <td>1.0</td>\n",
       "      <td>1.0</td>\n",
       "      <td>1.0</td>\n",
       "      <td>1.0</td>\n",
       "      <td>1.0</td>\n",
       "      <td>1.0</td>\n",
       "      <td>1.0</td>\n",
       "      <td>1.0</td>\n",
       "      <td>1.0</td>\n",
       "      <td>1.0</td>\n",
       "      <td>1.0</td>\n",
       "      <td>1.0</td>\n",
       "      <td>1.0</td>\n",
       "      <td>1.0</td>\n",
       "      <td>1.0</td>\n",
       "      <td>1.0</td>\n",
       "      <td>1.0</td>\n",
       "      <td>1.0</td>\n",
       "      <td>1.0</td>\n",
       "      <td>1.0</td>\n",
       "      <td>1.0</td>\n",
       "      <td>1.0</td>\n",
       "    </tr>\n",
       "  </tbody>\n",
       "</table>\n",
       "</div>"
      ],
      "text/plain": [
       "                       Submit  AR - Created - Advanced standing application  \\\n",
       "CASE_ID                                                                       \n",
       "1033160|376360|586590     1.0                                           1.0   \n",
       "\n",
       "                       AR - Created - Assessment information (Coursework) (1)  \\\n",
       "CASE_ID                                                                         \n",
       "1033160|376360|586590                                                1.0        \n",
       "\n",
       "                       AR - Created - Further information (1)  \\\n",
       "CASE_ID                                                         \n",
       "1033160|376360|586590                                     1.0   \n",
       "\n",
       "                       AR - Created - Further information (2)  \\\n",
       "CASE_ID                                                         \n",
       "1033160|376360|586590                                     1.0   \n",
       "\n",
       "                       AR - Created - Further information (3)  \\\n",
       "CASE_ID                                                         \n",
       "1033160|376360|586590                                     1.0   \n",
       "\n",
       "                       AR - Not Satisfied - English language proficiency  \\\n",
       "CASE_ID                                                                    \n",
       "1033160|376360|586590                                                1.0   \n",
       "\n",
       "                       AR - Requested - Official syllabus or subject descriptions (in English)  \\\n",
       "CASE_ID                                                                                          \n",
       "1033160|376360|586590                                                1.0                         \n",
       "\n",
       "                       AR - Satisfied - Academic results for prior tertiary studies  \\\n",
       "CASE_ID                                                                               \n",
       "1033160|376360|586590                                                1.0              \n",
       "\n",
       "                       AR - Satisfied - Advanced Standing  \\\n",
       "CASE_ID                                                     \n",
       "1033160|376360|586590                                 1.0   \n",
       "\n",
       "                       AR - Satisfied - Advanced standing application  \\\n",
       "CASE_ID                                                                 \n",
       "1033160|376360|586590                                             1.0   \n",
       "\n",
       "                       AR - Satisfied - Appointment of authorised representative  \\\n",
       "CASE_ID                                                                            \n",
       "1033160|376360|586590                                                1.0           \n",
       "\n",
       "                       AR - Satisfied - Assessment information (Coursework) (1)  \\\n",
       "CASE_ID                                                                           \n",
       "1033160|376360|586590                                                1.0          \n",
       "\n",
       "                       AR - Satisfied - Entry points (Master of Information Technology)  \\\n",
       "CASE_ID                                                                                   \n",
       "1033160|376360|586590                                                1.0                  \n",
       "\n",
       "                       AR - Satisfied - Further information (1)  \\\n",
       "CASE_ID                                                           \n",
       "1033160|376360|586590                                       1.0   \n",
       "\n",
       "                       AR - Satisfied - Further information (2)  \\\n",
       "CASE_ID                                                           \n",
       "1033160|376360|586590                                       1.0   \n",
       "\n",
       "                       AR - Satisfied - Further information (3)  \\\n",
       "CASE_ID                                                           \n",
       "1033160|376360|586590                                       1.0   \n",
       "\n",
       "                       AR - Satisfied - Specialisation (Master of Information Technology)  \\\n",
       "CASE_ID                                                                                     \n",
       "1033160|376360|586590                                                1.0                    \n",
       "\n",
       "                       Assessment Decision - No Decision  \\\n",
       "CASE_ID                                                    \n",
       "1033160|376360|586590                                1.0   \n",
       "\n",
       "                       Assessment Decision - Qualified  \\\n",
       "CASE_ID                                                  \n",
       "1033160|376360|586590                              1.0   \n",
       "\n",
       "                       OC - Created - English language requirements  \\\n",
       "CASE_ID                                                               \n",
       "1033160|376360|586590                                           1.0   \n",
       "\n",
       "                       Put Triage On-Hold  Release Triage Hold  \\\n",
       "CASE_ID                                                          \n",
       "1033160|376360|586590                 1.0                  1.0   \n",
       "\n",
       "                       Send for Assessment  \n",
       "CASE_ID                                     \n",
       "1033160|376360|586590                  1.0  "
      ]
     },
     "execution_count": 971,
     "metadata": {},
     "output_type": "execute_result"
    }
   ],
   "source": [
    "y.head()"
   ]
  },
  {
   "cell_type": "code",
   "execution_count": 972,
   "metadata": {},
   "outputs": [
    {
     "data": {
      "text/plain": [
       "(1, 24)"
      ]
     },
     "execution_count": 972,
     "metadata": {},
     "output_type": "execute_result"
    }
   ],
   "source": [
    "y.shape"
   ]
  },
  {
   "cell_type": "code",
   "execution_count": 973,
   "metadata": {},
   "outputs": [],
   "source": [
    "y=y.fillna(0.0)"
   ]
  },
  {
   "cell_type": "code",
   "execution_count": 975,
   "metadata": {},
   "outputs": [],
   "source": [
    "X=y.iloc[:,0:23].values\n",
    "Y=y.iloc[:,23].values"
   ]
  },
  {
   "cell_type": "code",
   "execution_count": 976,
   "metadata": {},
   "outputs": [
    {
     "ename": "ValueError",
     "evalue": "With n_samples=1, test_size=0.3 and train_size=None, the resulting train set will be empty. Adjust any of the aforementioned parameters.",
     "output_type": "error",
     "traceback": [
      "\u001b[0;31m---------------------------------------------------------------------------\u001b[0m",
      "\u001b[0;31mValueError\u001b[0m                                Traceback (most recent call last)",
      "\u001b[0;32m<ipython-input-976-3fb6da1a5beb>\u001b[0m in \u001b[0;36m<module>\u001b[0;34m\u001b[0m\n\u001b[1;32m      1\u001b[0m \u001b[0;31m#spliting dataset\u001b[0m\u001b[0;34m\u001b[0m\u001b[0;34m\u001b[0m\u001b[0;34m\u001b[0m\u001b[0m\n\u001b[0;32m----> 2\u001b[0;31m \u001b[0mx_train\u001b[0m\u001b[0;34m,\u001b[0m\u001b[0mx_test\u001b[0m\u001b[0;34m,\u001b[0m\u001b[0my_train\u001b[0m\u001b[0;34m,\u001b[0m\u001b[0my_test\u001b[0m\u001b[0;34m=\u001b[0m\u001b[0mtrain_test_split\u001b[0m\u001b[0;34m(\u001b[0m\u001b[0mX\u001b[0m\u001b[0;34m,\u001b[0m\u001b[0mY\u001b[0m\u001b[0;34m,\u001b[0m\u001b[0mtest_size\u001b[0m \u001b[0;34m=\u001b[0m \u001b[0;36m0.3\u001b[0m\u001b[0;34m,\u001b[0m\u001b[0mrandom_state\u001b[0m\u001b[0;34m=\u001b[0m\u001b[0;36m0\u001b[0m\u001b[0;34m)\u001b[0m\u001b[0;34m\u001b[0m\u001b[0;34m\u001b[0m\u001b[0m\n\u001b[0m",
      "\u001b[0;32m~/opt/anaconda3/lib/python3.8/site-packages/sklearn/model_selection/_split.py\u001b[0m in \u001b[0;36mtrain_test_split\u001b[0;34m(*arrays, **options)\u001b[0m\n\u001b[1;32m   2128\u001b[0m \u001b[0;34m\u001b[0m\u001b[0m\n\u001b[1;32m   2129\u001b[0m     \u001b[0mn_samples\u001b[0m \u001b[0;34m=\u001b[0m \u001b[0m_num_samples\u001b[0m\u001b[0;34m(\u001b[0m\u001b[0marrays\u001b[0m\u001b[0;34m[\u001b[0m\u001b[0;36m0\u001b[0m\u001b[0;34m]\u001b[0m\u001b[0;34m)\u001b[0m\u001b[0;34m\u001b[0m\u001b[0;34m\u001b[0m\u001b[0m\n\u001b[0;32m-> 2130\u001b[0;31m     n_train, n_test = _validate_shuffle_split(n_samples, test_size, train_size,\n\u001b[0m\u001b[1;32m   2131\u001b[0m                                               default_test_size=0.25)\n\u001b[1;32m   2132\u001b[0m \u001b[0;34m\u001b[0m\u001b[0m\n",
      "\u001b[0;32m~/opt/anaconda3/lib/python3.8/site-packages/sklearn/model_selection/_split.py\u001b[0m in \u001b[0;36m_validate_shuffle_split\u001b[0;34m(n_samples, test_size, train_size, default_test_size)\u001b[0m\n\u001b[1;32m   1808\u001b[0m \u001b[0;34m\u001b[0m\u001b[0m\n\u001b[1;32m   1809\u001b[0m     \u001b[0;32mif\u001b[0m \u001b[0mn_train\u001b[0m \u001b[0;34m==\u001b[0m \u001b[0;36m0\u001b[0m\u001b[0;34m:\u001b[0m\u001b[0;34m\u001b[0m\u001b[0;34m\u001b[0m\u001b[0m\n\u001b[0;32m-> 1810\u001b[0;31m         raise ValueError(\n\u001b[0m\u001b[1;32m   1811\u001b[0m             \u001b[0;34m'With n_samples={}, test_size={} and train_size={}, the '\u001b[0m\u001b[0;34m\u001b[0m\u001b[0;34m\u001b[0m\u001b[0m\n\u001b[1;32m   1812\u001b[0m             \u001b[0;34m'resulting train set will be empty. Adjust any of the '\u001b[0m\u001b[0;34m\u001b[0m\u001b[0;34m\u001b[0m\u001b[0m\n",
      "\u001b[0;31mValueError\u001b[0m: With n_samples=1, test_size=0.3 and train_size=None, the resulting train set will be empty. Adjust any of the aforementioned parameters."
     ]
    }
   ],
   "source": [
    "#spliting dataset\n",
    "x_train,x_test,y_train,y_test=train_test_split(X,Y,test_size = 0.3,random_state=0)"
   ]
  },
  {
   "cell_type": "code",
   "execution_count": 977,
   "metadata": {},
   "outputs": [
    {
     "ename": "ValueError",
     "evalue": "This solver needs samples of at least 2 classes in the data, but the data contains only one class: 1.0",
     "output_type": "error",
     "traceback": [
      "\u001b[0;31m---------------------------------------------------------------------------\u001b[0m",
      "\u001b[0;31mValueError\u001b[0m                                Traceback (most recent call last)",
      "\u001b[0;32m<ipython-input-977-0890370c4bf8>\u001b[0m in \u001b[0;36m<module>\u001b[0;34m\u001b[0m\n\u001b[1;32m      1\u001b[0m \u001b[0;31m# Linear SVM\u001b[0m\u001b[0;34m\u001b[0m\u001b[0;34m\u001b[0m\u001b[0;34m\u001b[0m\u001b[0m\n\u001b[1;32m      2\u001b[0m \u001b[0msvm\u001b[0m \u001b[0;34m=\u001b[0m \u001b[0mLinearSVC\u001b[0m\u001b[0;34m(\u001b[0m\u001b[0;34m)\u001b[0m\u001b[0;34m\u001b[0m\u001b[0;34m\u001b[0m\u001b[0m\n\u001b[0;32m----> 3\u001b[0;31m \u001b[0msvm\u001b[0m\u001b[0;34m.\u001b[0m\u001b[0mfit\u001b[0m\u001b[0;34m(\u001b[0m\u001b[0mx_train\u001b[0m\u001b[0;34m,\u001b[0m \u001b[0my_train\u001b[0m\u001b[0;34m)\u001b[0m\u001b[0;34m\u001b[0m\u001b[0;34m\u001b[0m\u001b[0m\n\u001b[0m",
      "\u001b[0;32m~/opt/anaconda3/lib/python3.8/site-packages/sklearn/svm/_classes.py\u001b[0m in \u001b[0;36mfit\u001b[0;34m(self, X, y, sample_weight)\u001b[0m\n\u001b[1;32m    231\u001b[0m         \u001b[0mself\u001b[0m\u001b[0;34m.\u001b[0m\u001b[0mclasses_\u001b[0m \u001b[0;34m=\u001b[0m \u001b[0mnp\u001b[0m\u001b[0;34m.\u001b[0m\u001b[0munique\u001b[0m\u001b[0;34m(\u001b[0m\u001b[0my\u001b[0m\u001b[0;34m)\u001b[0m\u001b[0;34m\u001b[0m\u001b[0;34m\u001b[0m\u001b[0m\n\u001b[1;32m    232\u001b[0m \u001b[0;34m\u001b[0m\u001b[0m\n\u001b[0;32m--> 233\u001b[0;31m         self.coef_, self.intercept_, self.n_iter_ = _fit_liblinear(\n\u001b[0m\u001b[1;32m    234\u001b[0m             \u001b[0mX\u001b[0m\u001b[0;34m,\u001b[0m \u001b[0my\u001b[0m\u001b[0;34m,\u001b[0m \u001b[0mself\u001b[0m\u001b[0;34m.\u001b[0m\u001b[0mC\u001b[0m\u001b[0;34m,\u001b[0m \u001b[0mself\u001b[0m\u001b[0;34m.\u001b[0m\u001b[0mfit_intercept\u001b[0m\u001b[0;34m,\u001b[0m \u001b[0mself\u001b[0m\u001b[0;34m.\u001b[0m\u001b[0mintercept_scaling\u001b[0m\u001b[0;34m,\u001b[0m\u001b[0;34m\u001b[0m\u001b[0;34m\u001b[0m\u001b[0m\n\u001b[1;32m    235\u001b[0m             \u001b[0mself\u001b[0m\u001b[0;34m.\u001b[0m\u001b[0mclass_weight\u001b[0m\u001b[0;34m,\u001b[0m \u001b[0mself\u001b[0m\u001b[0;34m.\u001b[0m\u001b[0mpenalty\u001b[0m\u001b[0;34m,\u001b[0m \u001b[0mself\u001b[0m\u001b[0;34m.\u001b[0m\u001b[0mdual\u001b[0m\u001b[0;34m,\u001b[0m \u001b[0mself\u001b[0m\u001b[0;34m.\u001b[0m\u001b[0mverbose\u001b[0m\u001b[0;34m,\u001b[0m\u001b[0;34m\u001b[0m\u001b[0;34m\u001b[0m\u001b[0m\n",
      "\u001b[0;32m~/opt/anaconda3/lib/python3.8/site-packages/sklearn/svm/_base.py\u001b[0m in \u001b[0;36m_fit_liblinear\u001b[0;34m(X, y, C, fit_intercept, intercept_scaling, class_weight, penalty, dual, verbose, max_iter, tol, random_state, multi_class, loss, epsilon, sample_weight)\u001b[0m\n\u001b[1;32m    924\u001b[0m         \u001b[0mclasses_\u001b[0m \u001b[0;34m=\u001b[0m \u001b[0menc\u001b[0m\u001b[0;34m.\u001b[0m\u001b[0mclasses_\u001b[0m\u001b[0;34m\u001b[0m\u001b[0;34m\u001b[0m\u001b[0m\n\u001b[1;32m    925\u001b[0m         \u001b[0;32mif\u001b[0m \u001b[0mlen\u001b[0m\u001b[0;34m(\u001b[0m\u001b[0mclasses_\u001b[0m\u001b[0;34m)\u001b[0m \u001b[0;34m<\u001b[0m \u001b[0;36m2\u001b[0m\u001b[0;34m:\u001b[0m\u001b[0;34m\u001b[0m\u001b[0;34m\u001b[0m\u001b[0m\n\u001b[0;32m--> 926\u001b[0;31m             raise ValueError(\"This solver needs samples of at least 2 classes\"\n\u001b[0m\u001b[1;32m    927\u001b[0m                              \u001b[0;34m\" in the data, but the data contains only one\"\u001b[0m\u001b[0;34m\u001b[0m\u001b[0;34m\u001b[0m\u001b[0m\n\u001b[1;32m    928\u001b[0m                              \" class: %r\" % classes_[0])\n",
      "\u001b[0;31mValueError\u001b[0m: This solver needs samples of at least 2 classes in the data, but the data contains only one class: 1.0"
     ]
    }
   ],
   "source": [
    "# Linear SVM\n",
    "svm = LinearSVC()\n",
    "svm.fit(x_train, y_train)"
   ]
  },
  {
   "cell_type": "code",
   "execution_count": 978,
   "metadata": {},
   "outputs": [
    {
     "ename": "AttributeError",
     "evalue": "'LinearSVC' object has no attribute 'coef_'",
     "output_type": "error",
     "traceback": [
      "\u001b[0;31m---------------------------------------------------------------------------\u001b[0m",
      "\u001b[0;31mAttributeError\u001b[0m                            Traceback (most recent call last)",
      "\u001b[0;32m<ipython-input-978-46c2c5250c11>\u001b[0m in \u001b[0;36m<module>\u001b[0;34m\u001b[0m\n\u001b[0;32m----> 1\u001b[0;31m \u001b[0msvm_predict\u001b[0m \u001b[0;34m=\u001b[0m \u001b[0msvm\u001b[0m\u001b[0;34m.\u001b[0m\u001b[0mpredict\u001b[0m\u001b[0;34m(\u001b[0m\u001b[0mx_test\u001b[0m\u001b[0;34m)\u001b[0m\u001b[0;34m\u001b[0m\u001b[0;34m\u001b[0m\u001b[0m\n\u001b[0m\u001b[1;32m      2\u001b[0m \u001b[0mprint\u001b[0m\u001b[0;34m(\u001b[0m\u001b[0;34m\"accuracy: {}%\"\u001b[0m\u001b[0;34m.\u001b[0m\u001b[0mformat\u001b[0m\u001b[0;34m(\u001b[0m\u001b[0mround\u001b[0m\u001b[0;34m(\u001b[0m\u001b[0maccuracy_score\u001b[0m\u001b[0;34m(\u001b[0m\u001b[0my_test\u001b[0m\u001b[0;34m,\u001b[0m \u001b[0msvm_predict\u001b[0m\u001b[0;34m)\u001b[0m\u001b[0;34m*\u001b[0m\u001b[0;36m100\u001b[0m\u001b[0;34m,\u001b[0m\u001b[0;36m2\u001b[0m\u001b[0;34m)\u001b[0m\u001b[0;34m)\u001b[0m\u001b[0;34m)\u001b[0m\u001b[0;34m\u001b[0m\u001b[0;34m\u001b[0m\u001b[0m\n",
      "\u001b[0;32m~/opt/anaconda3/lib/python3.8/site-packages/sklearn/linear_model/_base.py\u001b[0m in \u001b[0;36mpredict\u001b[0;34m(self, X)\u001b[0m\n\u001b[1;32m    305\u001b[0m             \u001b[0mPredicted\u001b[0m \u001b[0;32mclass\u001b[0m \u001b[0mlabel\u001b[0m \u001b[0mper\u001b[0m \u001b[0msample\u001b[0m\u001b[0;34m.\u001b[0m\u001b[0;34m\u001b[0m\u001b[0;34m\u001b[0m\u001b[0m\n\u001b[1;32m    306\u001b[0m         \"\"\"\n\u001b[0;32m--> 307\u001b[0;31m         \u001b[0mscores\u001b[0m \u001b[0;34m=\u001b[0m \u001b[0mself\u001b[0m\u001b[0;34m.\u001b[0m\u001b[0mdecision_function\u001b[0m\u001b[0;34m(\u001b[0m\u001b[0mX\u001b[0m\u001b[0;34m)\u001b[0m\u001b[0;34m\u001b[0m\u001b[0;34m\u001b[0m\u001b[0m\n\u001b[0m\u001b[1;32m    308\u001b[0m         \u001b[0;32mif\u001b[0m \u001b[0mlen\u001b[0m\u001b[0;34m(\u001b[0m\u001b[0mscores\u001b[0m\u001b[0;34m.\u001b[0m\u001b[0mshape\u001b[0m\u001b[0;34m)\u001b[0m \u001b[0;34m==\u001b[0m \u001b[0;36m1\u001b[0m\u001b[0;34m:\u001b[0m\u001b[0;34m\u001b[0m\u001b[0;34m\u001b[0m\u001b[0m\n\u001b[1;32m    309\u001b[0m             \u001b[0mindices\u001b[0m \u001b[0;34m=\u001b[0m \u001b[0;34m(\u001b[0m\u001b[0mscores\u001b[0m \u001b[0;34m>\u001b[0m \u001b[0;36m0\u001b[0m\u001b[0;34m)\u001b[0m\u001b[0;34m.\u001b[0m\u001b[0mastype\u001b[0m\u001b[0;34m(\u001b[0m\u001b[0mnp\u001b[0m\u001b[0;34m.\u001b[0m\u001b[0mint\u001b[0m\u001b[0;34m)\u001b[0m\u001b[0;34m\u001b[0m\u001b[0;34m\u001b[0m\u001b[0m\n",
      "\u001b[0;32m~/opt/anaconda3/lib/python3.8/site-packages/sklearn/linear_model/_base.py\u001b[0m in \u001b[0;36mdecision_function\u001b[0;34m(self, X)\u001b[0m\n\u001b[1;32m    282\u001b[0m         \u001b[0mX\u001b[0m \u001b[0;34m=\u001b[0m \u001b[0mcheck_array\u001b[0m\u001b[0;34m(\u001b[0m\u001b[0mX\u001b[0m\u001b[0;34m,\u001b[0m \u001b[0maccept_sparse\u001b[0m\u001b[0;34m=\u001b[0m\u001b[0;34m'csr'\u001b[0m\u001b[0;34m)\u001b[0m\u001b[0;34m\u001b[0m\u001b[0;34m\u001b[0m\u001b[0m\n\u001b[1;32m    283\u001b[0m \u001b[0;34m\u001b[0m\u001b[0m\n\u001b[0;32m--> 284\u001b[0;31m         \u001b[0mn_features\u001b[0m \u001b[0;34m=\u001b[0m \u001b[0mself\u001b[0m\u001b[0;34m.\u001b[0m\u001b[0mcoef_\u001b[0m\u001b[0;34m.\u001b[0m\u001b[0mshape\u001b[0m\u001b[0;34m[\u001b[0m\u001b[0;36m1\u001b[0m\u001b[0;34m]\u001b[0m\u001b[0;34m\u001b[0m\u001b[0;34m\u001b[0m\u001b[0m\n\u001b[0m\u001b[1;32m    285\u001b[0m         \u001b[0;32mif\u001b[0m \u001b[0mX\u001b[0m\u001b[0;34m.\u001b[0m\u001b[0mshape\u001b[0m\u001b[0;34m[\u001b[0m\u001b[0;36m1\u001b[0m\u001b[0;34m]\u001b[0m \u001b[0;34m!=\u001b[0m \u001b[0mn_features\u001b[0m\u001b[0;34m:\u001b[0m\u001b[0;34m\u001b[0m\u001b[0;34m\u001b[0m\u001b[0m\n\u001b[1;32m    286\u001b[0m             raise ValueError(\"X has %d features per sample; expecting %d\"\n",
      "\u001b[0;31mAttributeError\u001b[0m: 'LinearSVC' object has no attribute 'coef_'"
     ]
    }
   ],
   "source": [
    "svm_predict = svm.predict(x_test)\n",
    "print(\"accuracy: {}%\".format(round(accuracy_score(y_test, svm_predict)*100,2)))"
   ]
  },
  {
   "cell_type": "code",
   "execution_count": 979,
   "metadata": {},
   "outputs": [
    {
     "ename": "ValueError",
     "evalue": "This solver needs samples of at least 2 classes in the data, but the data contains only one class: 1.0",
     "output_type": "error",
     "traceback": [
      "\u001b[0;31m---------------------------------------------------------------------------\u001b[0m",
      "\u001b[0;31mValueError\u001b[0m                                Traceback (most recent call last)",
      "\u001b[0;32m<ipython-input-979-6bd0523631a6>\u001b[0m in \u001b[0;36m<module>\u001b[0;34m\u001b[0m\n\u001b[1;32m      1\u001b[0m \u001b[0;31m# Logistic Regression\u001b[0m\u001b[0;34m\u001b[0m\u001b[0;34m\u001b[0m\u001b[0;34m\u001b[0m\u001b[0m\n\u001b[1;32m      2\u001b[0m \u001b[0mlr\u001b[0m \u001b[0;34m=\u001b[0m \u001b[0mLogisticRegression\u001b[0m\u001b[0;34m(\u001b[0m\u001b[0;34m)\u001b[0m\u001b[0;34m\u001b[0m\u001b[0;34m\u001b[0m\u001b[0m\n\u001b[0;32m----> 3\u001b[0;31m \u001b[0mlr\u001b[0m\u001b[0;34m.\u001b[0m\u001b[0mfit\u001b[0m\u001b[0;34m(\u001b[0m\u001b[0mx_train\u001b[0m\u001b[0;34m,\u001b[0m\u001b[0my_train\u001b[0m\u001b[0;34m)\u001b[0m\u001b[0;34m\u001b[0m\u001b[0;34m\u001b[0m\u001b[0m\n\u001b[0m",
      "\u001b[0;32m~/opt/anaconda3/lib/python3.8/site-packages/sklearn/linear_model/_logistic.py\u001b[0m in \u001b[0;36mfit\u001b[0;34m(self, X, y, sample_weight)\u001b[0m\n\u001b[1;32m   1370\u001b[0m         \u001b[0mclasses_\u001b[0m \u001b[0;34m=\u001b[0m \u001b[0mself\u001b[0m\u001b[0;34m.\u001b[0m\u001b[0mclasses_\u001b[0m\u001b[0;34m\u001b[0m\u001b[0;34m\u001b[0m\u001b[0m\n\u001b[1;32m   1371\u001b[0m         \u001b[0;32mif\u001b[0m \u001b[0mn_classes\u001b[0m \u001b[0;34m<\u001b[0m \u001b[0;36m2\u001b[0m\u001b[0;34m:\u001b[0m\u001b[0;34m\u001b[0m\u001b[0;34m\u001b[0m\u001b[0m\n\u001b[0;32m-> 1372\u001b[0;31m             raise ValueError(\"This solver needs samples of at least 2 classes\"\n\u001b[0m\u001b[1;32m   1373\u001b[0m                              \u001b[0;34m\" in the data, but the data contains only one\"\u001b[0m\u001b[0;34m\u001b[0m\u001b[0;34m\u001b[0m\u001b[0m\n\u001b[1;32m   1374\u001b[0m                              \" class: %r\" % classes_[0])\n",
      "\u001b[0;31mValueError\u001b[0m: This solver needs samples of at least 2 classes in the data, but the data contains only one class: 1.0"
     ]
    }
   ],
   "source": [
    "# Logistic Regression\n",
    "lr = LogisticRegression()\n",
    "lr.fit(x_train,y_train)"
   ]
  },
  {
   "cell_type": "code",
   "execution_count": 980,
   "metadata": {},
   "outputs": [
    {
     "ename": "AttributeError",
     "evalue": "'LogisticRegression' object has no attribute 'coef_'",
     "output_type": "error",
     "traceback": [
      "\u001b[0;31m---------------------------------------------------------------------------\u001b[0m",
      "\u001b[0;31mAttributeError\u001b[0m                            Traceback (most recent call last)",
      "\u001b[0;32m<ipython-input-980-4a93302d23bf>\u001b[0m in \u001b[0;36m<module>\u001b[0;34m\u001b[0m\n\u001b[0;32m----> 1\u001b[0;31m \u001b[0mlr_predict\u001b[0m\u001b[0;34m=\u001b[0m\u001b[0mlr\u001b[0m\u001b[0;34m.\u001b[0m\u001b[0mpredict\u001b[0m\u001b[0;34m(\u001b[0m\u001b[0mx_test\u001b[0m\u001b[0;34m)\u001b[0m\u001b[0;34m\u001b[0m\u001b[0;34m\u001b[0m\u001b[0m\n\u001b[0m\u001b[1;32m      2\u001b[0m \u001b[0mprint\u001b[0m\u001b[0;34m(\u001b[0m\u001b[0;34m\"accuracy: {}%\"\u001b[0m\u001b[0;34m.\u001b[0m\u001b[0mformat\u001b[0m\u001b[0;34m(\u001b[0m\u001b[0mround\u001b[0m\u001b[0;34m(\u001b[0m\u001b[0maccuracy_score\u001b[0m\u001b[0;34m(\u001b[0m\u001b[0my_test\u001b[0m\u001b[0;34m,\u001b[0m \u001b[0mlr_predict\u001b[0m\u001b[0;34m)\u001b[0m\u001b[0;34m*\u001b[0m\u001b[0;36m100\u001b[0m\u001b[0;34m,\u001b[0m\u001b[0;36m2\u001b[0m\u001b[0;34m)\u001b[0m\u001b[0;34m)\u001b[0m\u001b[0;34m)\u001b[0m\u001b[0;34m\u001b[0m\u001b[0;34m\u001b[0m\u001b[0m\n",
      "\u001b[0;32m~/opt/anaconda3/lib/python3.8/site-packages/sklearn/linear_model/_base.py\u001b[0m in \u001b[0;36mpredict\u001b[0;34m(self, X)\u001b[0m\n\u001b[1;32m    305\u001b[0m             \u001b[0mPredicted\u001b[0m \u001b[0;32mclass\u001b[0m \u001b[0mlabel\u001b[0m \u001b[0mper\u001b[0m \u001b[0msample\u001b[0m\u001b[0;34m.\u001b[0m\u001b[0;34m\u001b[0m\u001b[0;34m\u001b[0m\u001b[0m\n\u001b[1;32m    306\u001b[0m         \"\"\"\n\u001b[0;32m--> 307\u001b[0;31m         \u001b[0mscores\u001b[0m \u001b[0;34m=\u001b[0m \u001b[0mself\u001b[0m\u001b[0;34m.\u001b[0m\u001b[0mdecision_function\u001b[0m\u001b[0;34m(\u001b[0m\u001b[0mX\u001b[0m\u001b[0;34m)\u001b[0m\u001b[0;34m\u001b[0m\u001b[0;34m\u001b[0m\u001b[0m\n\u001b[0m\u001b[1;32m    308\u001b[0m         \u001b[0;32mif\u001b[0m \u001b[0mlen\u001b[0m\u001b[0;34m(\u001b[0m\u001b[0mscores\u001b[0m\u001b[0;34m.\u001b[0m\u001b[0mshape\u001b[0m\u001b[0;34m)\u001b[0m \u001b[0;34m==\u001b[0m \u001b[0;36m1\u001b[0m\u001b[0;34m:\u001b[0m\u001b[0;34m\u001b[0m\u001b[0;34m\u001b[0m\u001b[0m\n\u001b[1;32m    309\u001b[0m             \u001b[0mindices\u001b[0m \u001b[0;34m=\u001b[0m \u001b[0;34m(\u001b[0m\u001b[0mscores\u001b[0m \u001b[0;34m>\u001b[0m \u001b[0;36m0\u001b[0m\u001b[0;34m)\u001b[0m\u001b[0;34m.\u001b[0m\u001b[0mastype\u001b[0m\u001b[0;34m(\u001b[0m\u001b[0mnp\u001b[0m\u001b[0;34m.\u001b[0m\u001b[0mint\u001b[0m\u001b[0;34m)\u001b[0m\u001b[0;34m\u001b[0m\u001b[0;34m\u001b[0m\u001b[0m\n",
      "\u001b[0;32m~/opt/anaconda3/lib/python3.8/site-packages/sklearn/linear_model/_base.py\u001b[0m in \u001b[0;36mdecision_function\u001b[0;34m(self, X)\u001b[0m\n\u001b[1;32m    282\u001b[0m         \u001b[0mX\u001b[0m \u001b[0;34m=\u001b[0m \u001b[0mcheck_array\u001b[0m\u001b[0;34m(\u001b[0m\u001b[0mX\u001b[0m\u001b[0;34m,\u001b[0m \u001b[0maccept_sparse\u001b[0m\u001b[0;34m=\u001b[0m\u001b[0;34m'csr'\u001b[0m\u001b[0;34m)\u001b[0m\u001b[0;34m\u001b[0m\u001b[0;34m\u001b[0m\u001b[0m\n\u001b[1;32m    283\u001b[0m \u001b[0;34m\u001b[0m\u001b[0m\n\u001b[0;32m--> 284\u001b[0;31m         \u001b[0mn_features\u001b[0m \u001b[0;34m=\u001b[0m \u001b[0mself\u001b[0m\u001b[0;34m.\u001b[0m\u001b[0mcoef_\u001b[0m\u001b[0;34m.\u001b[0m\u001b[0mshape\u001b[0m\u001b[0;34m[\u001b[0m\u001b[0;36m1\u001b[0m\u001b[0;34m]\u001b[0m\u001b[0;34m\u001b[0m\u001b[0;34m\u001b[0m\u001b[0m\n\u001b[0m\u001b[1;32m    285\u001b[0m         \u001b[0;32mif\u001b[0m \u001b[0mX\u001b[0m\u001b[0;34m.\u001b[0m\u001b[0mshape\u001b[0m\u001b[0;34m[\u001b[0m\u001b[0;36m1\u001b[0m\u001b[0;34m]\u001b[0m \u001b[0;34m!=\u001b[0m \u001b[0mn_features\u001b[0m\u001b[0;34m:\u001b[0m\u001b[0;34m\u001b[0m\u001b[0;34m\u001b[0m\u001b[0m\n\u001b[1;32m    286\u001b[0m             raise ValueError(\"X has %d features per sample; expecting %d\"\n",
      "\u001b[0;31mAttributeError\u001b[0m: 'LogisticRegression' object has no attribute 'coef_'"
     ]
    }
   ],
   "source": [
    "lr_predict=lr.predict(x_test)\n",
    "print(\"accuracy: {}%\".format(round(accuracy_score(y_test, lr_predict)*100,2)))"
   ]
  },
  {
   "cell_type": "code",
   "execution_count": 983,
   "metadata": {},
   "outputs": [
    {
     "data": {
      "text/plain": [
       "KNeighborsClassifier(n_neighbors=1)"
      ]
     },
     "execution_count": 983,
     "metadata": {},
     "output_type": "execute_result"
    }
   ],
   "source": [
    "# K Nearest Neighbors\n",
    "Knn = KNeighborsClassifier(n_neighbors=1)\n",
    "Knn.fit(x_train,y_train)"
   ]
  },
  {
   "cell_type": "code",
   "execution_count": 984,
   "metadata": {},
   "outputs": [
    {
     "name": "stdout",
     "output_type": "stream",
     "text": [
      "accuracy: 100.0%\n"
     ]
    }
   ],
   "source": [
    "knn_predict=Knn.predict(x_test)\n",
    "print(\"accuracy: {}%\".format(round(accuracy_score(y_test, knn_predict)*100,2)))"
   ]
  },
  {
   "cell_type": "code",
   "execution_count": null,
   "metadata": {},
   "outputs": [],
   "source": []
  },
  {
   "cell_type": "code",
   "execution_count": null,
   "metadata": {},
   "outputs": [],
   "source": []
  }
 ],
 "metadata": {
  "kernelspec": {
   "display_name": "Python 3",
   "language": "python",
   "name": "python3"
  },
  "language_info": {
   "codemirror_mode": {
    "name": "ipython",
    "version": 3
   },
   "file_extension": ".py",
   "mimetype": "text/x-python",
   "name": "python",
   "nbconvert_exporter": "python",
   "pygments_lexer": "ipython3",
   "version": "3.8.3"
  }
 },
 "nbformat": 4,
 "nbformat_minor": 4
}
