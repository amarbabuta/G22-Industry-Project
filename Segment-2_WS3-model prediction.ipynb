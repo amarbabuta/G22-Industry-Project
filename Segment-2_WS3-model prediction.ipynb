{
 "cells": [
  {
   "cell_type": "code",
   "execution_count": 1,
   "metadata": {},
   "outputs": [],
   "source": [
    "import csv\n",
    "import pandas as pd\n",
    "from sklearn.linear_model import LogisticRegression \n",
    "from sklearn.preprocessing import LabelEncoder\n",
    "LE=LabelEncoder()\n",
    "from sklearn.model_selection import train_test_split\n",
    "from sklearn.metrics import accuracy_score, confusion_matrix\n",
    "from sklearn.metrics import precision_recall_fscore_support\n",
    "from sklearn.svm import LinearSVC\n",
    "from sklearn.svm import SVC\n",
    "from sklearn.linear_model import LogisticRegression\n",
    "from sklearn.neighbors import KNeighborsClassifier"
   ]
  },
  {
   "cell_type": "code",
   "execution_count": 7,
   "metadata": {},
   "outputs": [
    {
     "data": {
      "text/plain": [
       "0    1180405|574868|875432\n",
       "dtype: object"
      ]
     },
     "execution_count": 7,
     "metadata": {},
     "output_type": "execute_result"
    }
   ],
   "source": [
    "segment2_workflow3=pd.read_csv('segment2_workflowS3.csv')\n",
    "segment2_workflow3.CASE_ID.mode()"
   ]
  },
  {
   "cell_type": "code",
   "execution_count": 8,
   "metadata": {},
   "outputs": [
    {
     "data": {
      "text/html": [
       "<div>\n",
       "<style scoped>\n",
       "    .dataframe tbody tr th:only-of-type {\n",
       "        vertical-align: middle;\n",
       "    }\n",
       "\n",
       "    .dataframe tbody tr th {\n",
       "        vertical-align: top;\n",
       "    }\n",
       "\n",
       "    .dataframe thead th {\n",
       "        text-align: right;\n",
       "    }\n",
       "</style>\n",
       "<table border=\"1\" class=\"dataframe\">\n",
       "  <thead>\n",
       "    <tr style=\"text-align: right;\">\n",
       "      <th></th>\n",
       "      <th>CASE_ID</th>\n",
       "      <th>WRKFLW_TSK_MAP_GROUPED</th>\n",
       "      <th>WRKFLW_TSK_MAP_DETAILED</th>\n",
       "      <th>PATH_CRDATETIME</th>\n",
       "      <th>ITEM_CRUSER</th>\n",
       "      <th>WRKFLW_ORG_TYPE_CRUSER</th>\n",
       "      <th>STATUS_ORDER</th>\n",
       "      <th>LATEST_STATUS</th>\n",
       "      <th>WRKFLW_PROCESS</th>\n",
       "      <th>QUERY_PART</th>\n",
       "      <th>...</th>\n",
       "      <th>ORIG_SPRD_CD</th>\n",
       "      <th>ORIG_SPRD_NM</th>\n",
       "      <th>SPK_CAT_TYPE_CD</th>\n",
       "      <th>BROAD_COURSE_LEVEL</th>\n",
       "      <th>DEGREETYPE</th>\n",
       "      <th>LIABILITY_CATEGORY_CD_RECODE</th>\n",
       "      <th>ORIG_LIABILITY_CATEGORY_CD_RECODE</th>\n",
       "      <th>OFFER_RELEASED_FG</th>\n",
       "      <th>OFFER_OUTCOME_CD</th>\n",
       "      <th>OFFER_CONDITIONS</th>\n",
       "    </tr>\n",
       "  </thead>\n",
       "  <tbody>\n",
       "    <tr>\n",
       "      <th>0</th>\n",
       "      <td>1139423|516709|792465</td>\n",
       "      <td>Assessment Outcome - Successful</td>\n",
       "      <td>Assessment Outcome - Successful</td>\n",
       "      <td>27/11/2019 10:32:37</td>\n",
       "      <td>CHRISTINAA</td>\n",
       "      <td>Faculty</td>\n",
       "      <td>9</td>\n",
       "      <td>N</td>\n",
       "      <td>2. Perform Assessment</td>\n",
       "      <td>Part 3 - Assessment Outcome</td>\n",
       "      <td>...</td>\n",
       "      <td>STYI</td>\n",
       "      <td>Start Year Intake</td>\n",
       "      <td>MCW</td>\n",
       "      <td>HDCW</td>\n",
       "      <td>Full Degree</td>\n",
       "      <td>AS</td>\n",
       "      <td>AS</td>\n",
       "      <td>Y</td>\n",
       "      <td>$ACC</td>\n",
       "      <td>Y</td>\n",
       "    </tr>\n",
       "    <tr>\n",
       "      <th>1</th>\n",
       "      <td>1139423|516709|792465</td>\n",
       "      <td>Create Offer</td>\n",
       "      <td>Create Offer</td>\n",
       "      <td>27/11/2019 10:32:55</td>\n",
       "      <td>CHRISTINAA</td>\n",
       "      <td>Faculty</td>\n",
       "      <td>8</td>\n",
       "      <td>N</td>\n",
       "      <td>3b. Offer stage</td>\n",
       "      <td>Part 2 - Application Line ID Workflow</td>\n",
       "      <td>...</td>\n",
       "      <td>STYI</td>\n",
       "      <td>Start Year Intake</td>\n",
       "      <td>MCW</td>\n",
       "      <td>HDCW</td>\n",
       "      <td>Full Degree</td>\n",
       "      <td>AS</td>\n",
       "      <td>AS</td>\n",
       "      <td>Y</td>\n",
       "      <td>$ACC</td>\n",
       "      <td>Y</td>\n",
       "    </tr>\n",
       "    <tr>\n",
       "      <th>2</th>\n",
       "      <td>1139423|516709|792465</td>\n",
       "      <td>Release Offer</td>\n",
       "      <td>Release Offer</td>\n",
       "      <td>27/11/2019 10:36:49</td>\n",
       "      <td>CHRISTINAA</td>\n",
       "      <td>Faculty</td>\n",
       "      <td>7</td>\n",
       "      <td>N</td>\n",
       "      <td>3b. Offer stage</td>\n",
       "      <td>Part 2 - Application Line ID Workflow</td>\n",
       "      <td>...</td>\n",
       "      <td>STYI</td>\n",
       "      <td>Start Year Intake</td>\n",
       "      <td>MCW</td>\n",
       "      <td>HDCW</td>\n",
       "      <td>Full Degree</td>\n",
       "      <td>AS</td>\n",
       "      <td>AS</td>\n",
       "      <td>Y</td>\n",
       "      <td>$ACC</td>\n",
       "      <td>Y</td>\n",
       "    </tr>\n",
       "    <tr>\n",
       "      <th>3</th>\n",
       "      <td>836673|527943|808557</td>\n",
       "      <td>Assessment Outcome - Successful</td>\n",
       "      <td>Assessment Outcome - Successful</td>\n",
       "      <td>30/10/2019 16:07:05</td>\n",
       "      <td>ATKINSONM</td>\n",
       "      <td>Faculty</td>\n",
       "      <td>6</td>\n",
       "      <td>N</td>\n",
       "      <td>2. Perform Assessment</td>\n",
       "      <td>Part 3 - Assessment Outcome</td>\n",
       "      <td>...</td>\n",
       "      <td>STYI</td>\n",
       "      <td>Start Year Intake</td>\n",
       "      <td>MCW</td>\n",
       "      <td>HDCW</td>\n",
       "      <td>Full Degree</td>\n",
       "      <td>AS</td>\n",
       "      <td>AS</td>\n",
       "      <td>Y</td>\n",
       "      <td>$DEF</td>\n",
       "      <td>Y</td>\n",
       "    </tr>\n",
       "    <tr>\n",
       "      <th>4</th>\n",
       "      <td>836673|527943|808557</td>\n",
       "      <td>Create Offer</td>\n",
       "      <td>Create Offer</td>\n",
       "      <td>30/10/2019 16:07:25</td>\n",
       "      <td>ATKINSONM</td>\n",
       "      <td>Faculty</td>\n",
       "      <td>5</td>\n",
       "      <td>N</td>\n",
       "      <td>3b. Offer stage</td>\n",
       "      <td>Part 2 - Application Line ID Workflow</td>\n",
       "      <td>...</td>\n",
       "      <td>STYI</td>\n",
       "      <td>Start Year Intake</td>\n",
       "      <td>MCW</td>\n",
       "      <td>HDCW</td>\n",
       "      <td>Full Degree</td>\n",
       "      <td>AS</td>\n",
       "      <td>AS</td>\n",
       "      <td>Y</td>\n",
       "      <td>$DEF</td>\n",
       "      <td>Y</td>\n",
       "    </tr>\n",
       "  </tbody>\n",
       "</table>\n",
       "<p>5 rows × 56 columns</p>\n",
       "</div>"
      ],
      "text/plain": [
       "                 CASE_ID           WRKFLW_TSK_MAP_GROUPED  \\\n",
       "0  1139423|516709|792465  Assessment Outcome - Successful   \n",
       "1  1139423|516709|792465                     Create Offer   \n",
       "2  1139423|516709|792465                    Release Offer   \n",
       "3   836673|527943|808557  Assessment Outcome - Successful   \n",
       "4   836673|527943|808557                     Create Offer   \n",
       "\n",
       "           WRKFLW_TSK_MAP_DETAILED      PATH_CRDATETIME ITEM_CRUSER  \\\n",
       "0  Assessment Outcome - Successful  27/11/2019 10:32:37  CHRISTINAA   \n",
       "1                     Create Offer  27/11/2019 10:32:55  CHRISTINAA   \n",
       "2                    Release Offer  27/11/2019 10:36:49  CHRISTINAA   \n",
       "3  Assessment Outcome - Successful  30/10/2019 16:07:05   ATKINSONM   \n",
       "4                     Create Offer  30/10/2019 16:07:25   ATKINSONM   \n",
       "\n",
       "  WRKFLW_ORG_TYPE_CRUSER  STATUS_ORDER LATEST_STATUS         WRKFLW_PROCESS  \\\n",
       "0                Faculty             9             N  2. Perform Assessment   \n",
       "1                Faculty             8             N        3b. Offer stage   \n",
       "2                Faculty             7             N        3b. Offer stage   \n",
       "3                Faculty             6             N  2. Perform Assessment   \n",
       "4                Faculty             5             N        3b. Offer stage   \n",
       "\n",
       "                              QUERY_PART  ... ORIG_SPRD_CD       ORIG_SPRD_NM  \\\n",
       "0            Part 3 - Assessment Outcome  ...         STYI  Start Year Intake   \n",
       "1  Part 2 - Application Line ID Workflow  ...         STYI  Start Year Intake   \n",
       "2  Part 2 - Application Line ID Workflow  ...         STYI  Start Year Intake   \n",
       "3            Part 3 - Assessment Outcome  ...         STYI  Start Year Intake   \n",
       "4  Part 2 - Application Line ID Workflow  ...         STYI  Start Year Intake   \n",
       "\n",
       "   SPK_CAT_TYPE_CD  BROAD_COURSE_LEVEL   DEGREETYPE  \\\n",
       "0              MCW                HDCW  Full Degree   \n",
       "1              MCW                HDCW  Full Degree   \n",
       "2              MCW                HDCW  Full Degree   \n",
       "3              MCW                HDCW  Full Degree   \n",
       "4              MCW                HDCW  Full Degree   \n",
       "\n",
       "  LIABILITY_CATEGORY_CD_RECODE ORIG_LIABILITY_CATEGORY_CD_RECODE  \\\n",
       "0                           AS                                AS   \n",
       "1                           AS                                AS   \n",
       "2                           AS                                AS   \n",
       "3                           AS                                AS   \n",
       "4                           AS                                AS   \n",
       "\n",
       "  OFFER_RELEASED_FG OFFER_OUTCOME_CD  OFFER_CONDITIONS  \n",
       "0                 Y             $ACC                 Y  \n",
       "1                 Y             $ACC                 Y  \n",
       "2                 Y             $ACC                 Y  \n",
       "3                 Y             $DEF                 Y  \n",
       "4                 Y             $DEF                 Y  \n",
       "\n",
       "[5 rows x 56 columns]"
      ]
     },
     "execution_count": 8,
     "metadata": {},
     "output_type": "execute_result"
    }
   ],
   "source": [
    "segment2_workflow3.head()"
   ]
  },
  {
   "cell_type": "code",
   "execution_count": 9,
   "metadata": {},
   "outputs": [
    {
     "data": {
      "text/plain": [
       "41"
      ]
     },
     "execution_count": 9,
     "metadata": {},
     "output_type": "execute_result"
    }
   ],
   "source": [
    "segment2_workflow3['WRKFLW_TSK_MAP_DETAILED'].nunique()"
   ]
  },
  {
   "cell_type": "code",
   "execution_count": 10,
   "metadata": {},
   "outputs": [
    {
     "data": {
      "text/html": [
       "<div>\n",
       "<style scoped>\n",
       "    .dataframe tbody tr th:only-of-type {\n",
       "        vertical-align: middle;\n",
       "    }\n",
       "\n",
       "    .dataframe tbody tr th {\n",
       "        vertical-align: top;\n",
       "    }\n",
       "\n",
       "    .dataframe thead th {\n",
       "        text-align: right;\n",
       "    }\n",
       "</style>\n",
       "<table border=\"1\" class=\"dataframe\">\n",
       "  <thead>\n",
       "    <tr style=\"text-align: right;\">\n",
       "      <th></th>\n",
       "      <th>CASE_ID</th>\n",
       "      <th>WRKFLW_TSK_MAP_DETAILED</th>\n",
       "    </tr>\n",
       "  </thead>\n",
       "  <tbody>\n",
       "    <tr>\n",
       "      <th>0</th>\n",
       "      <td>1139423|516709|792465</td>\n",
       "      <td>Assessment Outcome - Successful</td>\n",
       "    </tr>\n",
       "    <tr>\n",
       "      <th>1</th>\n",
       "      <td>1139423|516709|792465</td>\n",
       "      <td>Create Offer</td>\n",
       "    </tr>\n",
       "    <tr>\n",
       "      <th>2</th>\n",
       "      <td>1139423|516709|792465</td>\n",
       "      <td>Release Offer</td>\n",
       "    </tr>\n",
       "    <tr>\n",
       "      <th>3</th>\n",
       "      <td>836673|527943|808557</td>\n",
       "      <td>Assessment Outcome - Successful</td>\n",
       "    </tr>\n",
       "    <tr>\n",
       "      <th>4</th>\n",
       "      <td>836673|527943|808557</td>\n",
       "      <td>Create Offer</td>\n",
       "    </tr>\n",
       "  </tbody>\n",
       "</table>\n",
       "</div>"
      ],
      "text/plain": [
       "                 CASE_ID          WRKFLW_TSK_MAP_DETAILED\n",
       "0  1139423|516709|792465  Assessment Outcome - Successful\n",
       "1  1139423|516709|792465                     Create Offer\n",
       "2  1139423|516709|792465                    Release Offer\n",
       "3   836673|527943|808557  Assessment Outcome - Successful\n",
       "4   836673|527943|808557                     Create Offer"
      ]
     },
     "execution_count": 10,
     "metadata": {},
     "output_type": "execute_result"
    }
   ],
   "source": [
    "segment2_workflow3=segment2_workflow3.drop(['WRKFLW_TSK_MAP_GROUPED', 'PATH_CRDATETIME','ITEM_CRUSER','WRKFLW_ORG_TYPE_CRUSER',\n",
    "                         'STATUS_ORDER','LATEST_STATUS','WRKFLW_PROCESS','QUERY_PART','REFERRAL_ID',\n",
    "                         'APPLICATION_ID','STU_ID','STU_CITIZEN_CD','STU_CITIZEN_NM','STU_BIRTH_DT',\n",
    "                         'STU_ABOR_TSI_CD','STU_ABOR_TSI_NM','STU_BIRTH_CNTRY_CD','STU_BIRTH_CNTRY_NM',\n",
    "                         'STU_CTZN_CNTRY_CD','STU_CTZN_CNTRY_NM','SUBMISSION_METHOD','ENTRY_TYPE',\n",
    "                         'ASSESSMENT_DECISION_SCORE','ASSESSMENT_DECISION_NM','ASSESSMENT_OUTCOME_NM',\n",
    "                         'LAST_COUNTRY_EDUCATION','PREV_INST_NM_MAIN','PREV_INST_NM_ALT1','PREV_INST_NM_ALT2',\n",
    "                        'PREFERENCE_NO','SPK_CD','SPK_FULL_TITLE','ORG_UNIT_CD','AVAIL_ORG_UNIT_NM','SUPPORTING_ORG',\n",
    "                        'STUDY_MODE_CD','RETURNING_DEFERRAL','CURR_AVAIL_YR','CURR_STUDY_PERIOD','CURR_SPRD_CD',\n",
    "                        'CURR_SPRD_NM','ORIG_AVAIL_YR','ORIG_STUDY_PERIOD','ORIG_SPRD_CD','ORIG_SPRD_NM',\n",
    "                         'SPK_CAT_TYPE_CD','BROAD_COURSE_LEVEL','DEGREETYPE','LIABILITY_CATEGORY_CD_RECODE',\n",
    "                        'ORIG_LIABILITY_CATEGORY_CD_RECODE','OFFER_RELEASED_FG','OFFER_OUTCOME_CD','OFFER_CONDITIONS',\n",
    "                        'APPLICATION_LINE_ID'], axis=1)\n",
    "segment2_workflow3.head()"
   ]
  },
  {
   "cell_type": "code",
   "execution_count": 11,
   "metadata": {},
   "outputs": [
    {
     "data": {
      "text/plain": [
       "CASE_ID\n",
       "1000870|335395|524947    6\n",
       "1001146|382147|595222    3\n",
       "1003741|551868|844300    3\n",
       "1006581|343740|536884    1\n",
       "1006581|343740|536885    3\n",
       "Name: CASE_ID, dtype: int64"
      ]
     },
     "execution_count": 11,
     "metadata": {},
     "output_type": "execute_result"
    }
   ],
   "source": [
    "numOfWorkflowProcesses=segment2_workflow3.groupby('CASE_ID').CASE_ID.count()\n",
    "numOfWorkflowProcesses.head()"
   ]
  },
  {
   "cell_type": "code",
   "execution_count": 12,
   "metadata": {},
   "outputs": [],
   "source": [
    "counts = segment2_workflow3['CASE_ID'].value_counts()"
   ]
  },
  {
   "cell_type": "code",
   "execution_count": 13,
   "metadata": {},
   "outputs": [
    {
     "data": {
      "text/plain": [
       "1180405|574868|875432    12\n",
       "695378|427086|661822     10\n",
       "990545|323544|511318     10\n",
       "1026644|367739|573803    10\n",
       "540204|473640|726804      9\n",
       "Name: CASE_ID, dtype: int64"
      ]
     },
     "execution_count": 13,
     "metadata": {},
     "output_type": "execute_result"
    }
   ],
   "source": [
    "counts.head()"
   ]
  },
  {
   "cell_type": "code",
   "execution_count": 230,
   "metadata": {},
   "outputs": [],
   "source": [
    "filtered = counts[counts == 10]\n",
    "seg1_count1=segment2_workflow3[segment2_workflow3['CASE_ID'].isin(filtered.index)]"
   ]
  },
  {
   "cell_type": "code",
   "execution_count": 231,
   "metadata": {},
   "outputs": [
    {
     "data": {
      "text/plain": [
       "3"
      ]
     },
     "execution_count": 231,
     "metadata": {},
     "output_type": "execute_result"
    }
   ],
   "source": [
    "seg1_count1['CASE_ID'].nunique()"
   ]
  },
  {
   "cell_type": "code",
   "execution_count": 232,
   "metadata": {},
   "outputs": [
    {
     "data": {
      "text/html": [
       "<div>\n",
       "<style scoped>\n",
       "    .dataframe tbody tr th:only-of-type {\n",
       "        vertical-align: middle;\n",
       "    }\n",
       "\n",
       "    .dataframe tbody tr th {\n",
       "        vertical-align: top;\n",
       "    }\n",
       "\n",
       "    .dataframe thead th {\n",
       "        text-align: right;\n",
       "    }\n",
       "</style>\n",
       "<table border=\"1\" class=\"dataframe\">\n",
       "  <thead>\n",
       "    <tr style=\"text-align: right;\">\n",
       "      <th></th>\n",
       "      <th>CASE_ID</th>\n",
       "      <th>WRKFLW_TSK_MAP_DETAILED</th>\n",
       "    </tr>\n",
       "  </thead>\n",
       "  <tbody>\n",
       "    <tr>\n",
       "      <th>989</th>\n",
       "      <td>990545|323544|511318</td>\n",
       "      <td>Assessment Outcome - Not Successful</td>\n",
       "    </tr>\n",
       "    <tr>\n",
       "      <th>990</th>\n",
       "      <td>990545|323544|511318</td>\n",
       "      <td>Assessment Decision - Qualified</td>\n",
       "    </tr>\n",
       "    <tr>\n",
       "      <th>991</th>\n",
       "      <td>990545|323544|511318</td>\n",
       "      <td>Assessment Decision - Qualified</td>\n",
       "    </tr>\n",
       "    <tr>\n",
       "      <th>992</th>\n",
       "      <td>990545|323544|511318</td>\n",
       "      <td>Assessment Decision - Qualified</td>\n",
       "    </tr>\n",
       "    <tr>\n",
       "      <th>993</th>\n",
       "      <td>990545|323544|511318</td>\n",
       "      <td>Assessment Decision - Qualified</td>\n",
       "    </tr>\n",
       "  </tbody>\n",
       "</table>\n",
       "</div>"
      ],
      "text/plain": [
       "                  CASE_ID              WRKFLW_TSK_MAP_DETAILED\n",
       "989  990545|323544|511318  Assessment Outcome - Not Successful\n",
       "990  990545|323544|511318      Assessment Decision - Qualified\n",
       "991  990545|323544|511318      Assessment Decision - Qualified\n",
       "992  990545|323544|511318      Assessment Decision - Qualified\n",
       "993  990545|323544|511318      Assessment Decision - Qualified"
      ]
     },
     "execution_count": 232,
     "metadata": {},
     "output_type": "execute_result"
    }
   ],
   "source": [
    "seg1_count1.head()"
   ]
  },
  {
   "cell_type": "code",
   "execution_count": 233,
   "metadata": {},
   "outputs": [],
   "source": [
    "y = pd.get_dummies(seg1_count1.WRKFLW_TSK_MAP_DETAILED)\n",
    "y=y[:0]"
   ]
  },
  {
   "cell_type": "code",
   "execution_count": 234,
   "metadata": {},
   "outputs": [
    {
     "data": {
      "text/html": [
       "<div>\n",
       "<style scoped>\n",
       "    .dataframe tbody tr th:only-of-type {\n",
       "        vertical-align: middle;\n",
       "    }\n",
       "\n",
       "    .dataframe tbody tr th {\n",
       "        vertical-align: top;\n",
       "    }\n",
       "\n",
       "    .dataframe thead th {\n",
       "        text-align: right;\n",
       "    }\n",
       "</style>\n",
       "<table border=\"1\" class=\"dataframe\">\n",
       "  <thead>\n",
       "    <tr style=\"text-align: right;\">\n",
       "      <th></th>\n",
       "      <th>AR - Satisfied - Academic results for prior tertiary studies</th>\n",
       "      <th>AR - Satisfied - English language proficiency</th>\n",
       "      <th>Assessment Decision - No Decision</th>\n",
       "      <th>Assessment Decision - Not Qualified</th>\n",
       "      <th>Assessment Decision - Qualified</th>\n",
       "      <th>Assessment Outcome - Not Successful</th>\n",
       "      <th>Assessment Outcome - Successful</th>\n",
       "      <th>Create Offer</th>\n",
       "      <th>End My Assessment</th>\n",
       "      <th>OC - Created - Evidence of course completion</th>\n",
       "      <th>Put Assessment On-Hold</th>\n",
       "      <th>Release Assessment Hold</th>\n",
       "      <th>Release Offer</th>\n",
       "      <th>Send for Assessment</th>\n",
       "    </tr>\n",
       "  </thead>\n",
       "  <tbody>\n",
       "  </tbody>\n",
       "</table>\n",
       "</div>"
      ],
      "text/plain": [
       "Empty DataFrame\n",
       "Columns: [AR - Satisfied - Academic results for prior tertiary studies, AR - Satisfied - English language proficiency, Assessment Decision - No Decision, Assessment Decision - Not Qualified, Assessment Decision - Qualified, Assessment Outcome - Not Successful, Assessment Outcome - Successful, Create Offer, End My Assessment, OC - Created - Evidence of course completion, Put Assessment On-Hold, Release Assessment Hold, Release Offer, Send for Assessment]\n",
       "Index: []"
      ]
     },
     "execution_count": 234,
     "metadata": {},
     "output_type": "execute_result"
    }
   ],
   "source": [
    "y"
   ]
  },
  {
   "cell_type": "code",
   "execution_count": 235,
   "metadata": {},
   "outputs": [],
   "source": [
    "y[\"CASE_ID\"]=\"\""
   ]
  },
  {
   "cell_type": "code",
   "execution_count": 236,
   "metadata": {},
   "outputs": [],
   "source": [
    "col_name=\"CASE_ID\"\n",
    "first_col = y.pop(col_name)"
   ]
  },
  {
   "cell_type": "code",
   "execution_count": 237,
   "metadata": {},
   "outputs": [],
   "source": [
    "y.insert(0, col_name, first_col)"
   ]
  },
  {
   "cell_type": "code",
   "execution_count": 238,
   "metadata": {},
   "outputs": [],
   "source": [
    "y['CASE_ID']=seg1_count1['CASE_ID'].unique()"
   ]
  },
  {
   "cell_type": "code",
   "execution_count": 239,
   "metadata": {},
   "outputs": [
    {
     "data": {
      "text/html": [
       "<div>\n",
       "<style scoped>\n",
       "    .dataframe tbody tr th:only-of-type {\n",
       "        vertical-align: middle;\n",
       "    }\n",
       "\n",
       "    .dataframe tbody tr th {\n",
       "        vertical-align: top;\n",
       "    }\n",
       "\n",
       "    .dataframe thead th {\n",
       "        text-align: right;\n",
       "    }\n",
       "</style>\n",
       "<table border=\"1\" class=\"dataframe\">\n",
       "  <thead>\n",
       "    <tr style=\"text-align: right;\">\n",
       "      <th></th>\n",
       "      <th>CASE_ID</th>\n",
       "      <th>AR - Satisfied - Academic results for prior tertiary studies</th>\n",
       "      <th>AR - Satisfied - English language proficiency</th>\n",
       "      <th>Assessment Decision - No Decision</th>\n",
       "      <th>Assessment Decision - Not Qualified</th>\n",
       "      <th>Assessment Decision - Qualified</th>\n",
       "      <th>Assessment Outcome - Not Successful</th>\n",
       "      <th>Assessment Outcome - Successful</th>\n",
       "      <th>Create Offer</th>\n",
       "      <th>End My Assessment</th>\n",
       "      <th>OC - Created - Evidence of course completion</th>\n",
       "      <th>Put Assessment On-Hold</th>\n",
       "      <th>Release Assessment Hold</th>\n",
       "      <th>Release Offer</th>\n",
       "      <th>Send for Assessment</th>\n",
       "    </tr>\n",
       "  </thead>\n",
       "  <tbody>\n",
       "    <tr>\n",
       "      <th>0</th>\n",
       "      <td>990545|323544|511318</td>\n",
       "      <td>0.0</td>\n",
       "      <td>0.0</td>\n",
       "      <td>0.0</td>\n",
       "      <td>0.0</td>\n",
       "      <td>0.0</td>\n",
       "      <td>0.0</td>\n",
       "      <td>0.0</td>\n",
       "      <td>0.0</td>\n",
       "      <td>0.0</td>\n",
       "      <td>0.0</td>\n",
       "      <td>0.0</td>\n",
       "      <td>0.0</td>\n",
       "      <td>0.0</td>\n",
       "      <td>0.0</td>\n",
       "    </tr>\n",
       "    <tr>\n",
       "      <th>1</th>\n",
       "      <td>1026644|367739|573803</td>\n",
       "      <td>0.0</td>\n",
       "      <td>0.0</td>\n",
       "      <td>0.0</td>\n",
       "      <td>0.0</td>\n",
       "      <td>0.0</td>\n",
       "      <td>0.0</td>\n",
       "      <td>0.0</td>\n",
       "      <td>0.0</td>\n",
       "      <td>0.0</td>\n",
       "      <td>0.0</td>\n",
       "      <td>0.0</td>\n",
       "      <td>0.0</td>\n",
       "      <td>0.0</td>\n",
       "      <td>0.0</td>\n",
       "    </tr>\n",
       "    <tr>\n",
       "      <th>2</th>\n",
       "      <td>695378|427086|661822</td>\n",
       "      <td>0.0</td>\n",
       "      <td>0.0</td>\n",
       "      <td>0.0</td>\n",
       "      <td>0.0</td>\n",
       "      <td>0.0</td>\n",
       "      <td>0.0</td>\n",
       "      <td>0.0</td>\n",
       "      <td>0.0</td>\n",
       "      <td>0.0</td>\n",
       "      <td>0.0</td>\n",
       "      <td>0.0</td>\n",
       "      <td>0.0</td>\n",
       "      <td>0.0</td>\n",
       "      <td>0.0</td>\n",
       "    </tr>\n",
       "  </tbody>\n",
       "</table>\n",
       "</div>"
      ],
      "text/plain": [
       "                 CASE_ID  \\\n",
       "0   990545|323544|511318   \n",
       "1  1026644|367739|573803   \n",
       "2   695378|427086|661822   \n",
       "\n",
       "   AR - Satisfied - Academic results for prior tertiary studies  \\\n",
       "0                                                0.0              \n",
       "1                                                0.0              \n",
       "2                                                0.0              \n",
       "\n",
       "   AR - Satisfied - English language proficiency  \\\n",
       "0                                            0.0   \n",
       "1                                            0.0   \n",
       "2                                            0.0   \n",
       "\n",
       "   Assessment Decision - No Decision  Assessment Decision - Not Qualified  \\\n",
       "0                                0.0                                  0.0   \n",
       "1                                0.0                                  0.0   \n",
       "2                                0.0                                  0.0   \n",
       "\n",
       "   Assessment Decision - Qualified  Assessment Outcome - Not Successful  \\\n",
       "0                              0.0                                  0.0   \n",
       "1                              0.0                                  0.0   \n",
       "2                              0.0                                  0.0   \n",
       "\n",
       "   Assessment Outcome - Successful  Create Offer  End My Assessment  \\\n",
       "0                              0.0           0.0                0.0   \n",
       "1                              0.0           0.0                0.0   \n",
       "2                              0.0           0.0                0.0   \n",
       "\n",
       "   OC - Created - Evidence of course completion  Put Assessment On-Hold  \\\n",
       "0                                           0.0                     0.0   \n",
       "1                                           0.0                     0.0   \n",
       "2                                           0.0                     0.0   \n",
       "\n",
       "   Release Assessment Hold  Release Offer  Send for Assessment  \n",
       "0                      0.0            0.0                  0.0  \n",
       "1                      0.0            0.0                  0.0  \n",
       "2                      0.0            0.0                  0.0  "
      ]
     },
     "execution_count": 239,
     "metadata": {},
     "output_type": "execute_result"
    }
   ],
   "source": [
    "import numpy as np\n",
    "y = y.replace(np.nan,0, regex=True)\n",
    "y.head()"
   ]
  },
  {
   "cell_type": "code",
   "execution_count": 240,
   "metadata": {},
   "outputs": [],
   "source": [
    "dict_1=seg1_count1.to_dict(orient='list')"
   ]
  },
  {
   "cell_type": "code",
   "execution_count": 241,
   "metadata": {},
   "outputs": [],
   "source": [
    "case_id = dict_1['CASE_ID']"
   ]
  },
  {
   "cell_type": "code",
   "execution_count": 242,
   "metadata": {},
   "outputs": [],
   "source": [
    "workflow = dict_1['WRKFLW_TSK_MAP_DETAILED']"
   ]
  },
  {
   "cell_type": "code",
   "execution_count": 243,
   "metadata": {},
   "outputs": [
    {
     "name": "stdout",
     "output_type": "stream",
     "text": [
      "<class 'list'>\n",
      "30\n"
     ]
    }
   ],
   "source": [
    "print(type(workflow))\n",
    "print(len(workflow))"
   ]
  },
  {
   "cell_type": "code",
   "execution_count": 244,
   "metadata": {},
   "outputs": [
    {
     "name": "stdout",
     "output_type": "stream",
     "text": [
      "3\n"
     ]
    }
   ],
   "source": [
    "from collections import defaultdict\n",
    "\n",
    "case_wf_dict = defaultdict(list)\n",
    "\n",
    "for i in range(len(case_id)):\n",
    "    item = case_id[i]\n",
    "    case_wf_dict[item].append(workflow[i])\n",
    "print(len(case_wf_dict))"
   ]
  },
  {
   "cell_type": "code",
   "execution_count": 245,
   "metadata": {},
   "outputs": [],
   "source": [
    "y = y.set_index('CASE_ID')"
   ]
  },
  {
   "cell_type": "code",
   "execution_count": 246,
   "metadata": {},
   "outputs": [
    {
     "data": {
      "text/html": [
       "<div>\n",
       "<style scoped>\n",
       "    .dataframe tbody tr th:only-of-type {\n",
       "        vertical-align: middle;\n",
       "    }\n",
       "\n",
       "    .dataframe tbody tr th {\n",
       "        vertical-align: top;\n",
       "    }\n",
       "\n",
       "    .dataframe thead th {\n",
       "        text-align: right;\n",
       "    }\n",
       "</style>\n",
       "<table border=\"1\" class=\"dataframe\">\n",
       "  <thead>\n",
       "    <tr style=\"text-align: right;\">\n",
       "      <th></th>\n",
       "      <th>AR - Satisfied - Academic results for prior tertiary studies</th>\n",
       "      <th>AR - Satisfied - English language proficiency</th>\n",
       "      <th>Assessment Decision - No Decision</th>\n",
       "      <th>Assessment Decision - Not Qualified</th>\n",
       "      <th>Assessment Decision - Qualified</th>\n",
       "      <th>Assessment Outcome - Not Successful</th>\n",
       "      <th>Assessment Outcome - Successful</th>\n",
       "      <th>Create Offer</th>\n",
       "      <th>End My Assessment</th>\n",
       "      <th>OC - Created - Evidence of course completion</th>\n",
       "      <th>Put Assessment On-Hold</th>\n",
       "      <th>Release Assessment Hold</th>\n",
       "      <th>Release Offer</th>\n",
       "      <th>Send for Assessment</th>\n",
       "    </tr>\n",
       "    <tr>\n",
       "      <th>CASE_ID</th>\n",
       "      <th></th>\n",
       "      <th></th>\n",
       "      <th></th>\n",
       "      <th></th>\n",
       "      <th></th>\n",
       "      <th></th>\n",
       "      <th></th>\n",
       "      <th></th>\n",
       "      <th></th>\n",
       "      <th></th>\n",
       "      <th></th>\n",
       "      <th></th>\n",
       "      <th></th>\n",
       "      <th></th>\n",
       "    </tr>\n",
       "  </thead>\n",
       "  <tbody>\n",
       "    <tr>\n",
       "      <th>990545|323544|511318</th>\n",
       "      <td>0.0</td>\n",
       "      <td>0.0</td>\n",
       "      <td>0.0</td>\n",
       "      <td>0.0</td>\n",
       "      <td>0.0</td>\n",
       "      <td>0.0</td>\n",
       "      <td>0.0</td>\n",
       "      <td>0.0</td>\n",
       "      <td>0.0</td>\n",
       "      <td>0.0</td>\n",
       "      <td>0.0</td>\n",
       "      <td>0.0</td>\n",
       "      <td>0.0</td>\n",
       "      <td>0.0</td>\n",
       "    </tr>\n",
       "    <tr>\n",
       "      <th>1026644|367739|573803</th>\n",
       "      <td>0.0</td>\n",
       "      <td>0.0</td>\n",
       "      <td>0.0</td>\n",
       "      <td>0.0</td>\n",
       "      <td>0.0</td>\n",
       "      <td>0.0</td>\n",
       "      <td>0.0</td>\n",
       "      <td>0.0</td>\n",
       "      <td>0.0</td>\n",
       "      <td>0.0</td>\n",
       "      <td>0.0</td>\n",
       "      <td>0.0</td>\n",
       "      <td>0.0</td>\n",
       "      <td>0.0</td>\n",
       "    </tr>\n",
       "    <tr>\n",
       "      <th>695378|427086|661822</th>\n",
       "      <td>0.0</td>\n",
       "      <td>0.0</td>\n",
       "      <td>0.0</td>\n",
       "      <td>0.0</td>\n",
       "      <td>0.0</td>\n",
       "      <td>0.0</td>\n",
       "      <td>0.0</td>\n",
       "      <td>0.0</td>\n",
       "      <td>0.0</td>\n",
       "      <td>0.0</td>\n",
       "      <td>0.0</td>\n",
       "      <td>0.0</td>\n",
       "      <td>0.0</td>\n",
       "      <td>0.0</td>\n",
       "    </tr>\n",
       "  </tbody>\n",
       "</table>\n",
       "</div>"
      ],
      "text/plain": [
       "                       AR - Satisfied - Academic results for prior tertiary studies  \\\n",
       "CASE_ID                                                                               \n",
       "990545|323544|511318                                                 0.0              \n",
       "1026644|367739|573803                                                0.0              \n",
       "695378|427086|661822                                                 0.0              \n",
       "\n",
       "                       AR - Satisfied - English language proficiency  \\\n",
       "CASE_ID                                                                \n",
       "990545|323544|511318                                             0.0   \n",
       "1026644|367739|573803                                            0.0   \n",
       "695378|427086|661822                                             0.0   \n",
       "\n",
       "                       Assessment Decision - No Decision  \\\n",
       "CASE_ID                                                    \n",
       "990545|323544|511318                                 0.0   \n",
       "1026644|367739|573803                                0.0   \n",
       "695378|427086|661822                                 0.0   \n",
       "\n",
       "                       Assessment Decision - Not Qualified  \\\n",
       "CASE_ID                                                      \n",
       "990545|323544|511318                                   0.0   \n",
       "1026644|367739|573803                                  0.0   \n",
       "695378|427086|661822                                   0.0   \n",
       "\n",
       "                       Assessment Decision - Qualified  \\\n",
       "CASE_ID                                                  \n",
       "990545|323544|511318                               0.0   \n",
       "1026644|367739|573803                              0.0   \n",
       "695378|427086|661822                               0.0   \n",
       "\n",
       "                       Assessment Outcome - Not Successful  \\\n",
       "CASE_ID                                                      \n",
       "990545|323544|511318                                   0.0   \n",
       "1026644|367739|573803                                  0.0   \n",
       "695378|427086|661822                                   0.0   \n",
       "\n",
       "                       Assessment Outcome - Successful  Create Offer  \\\n",
       "CASE_ID                                                                \n",
       "990545|323544|511318                               0.0           0.0   \n",
       "1026644|367739|573803                              0.0           0.0   \n",
       "695378|427086|661822                               0.0           0.0   \n",
       "\n",
       "                       End My Assessment  \\\n",
       "CASE_ID                                    \n",
       "990545|323544|511318                 0.0   \n",
       "1026644|367739|573803                0.0   \n",
       "695378|427086|661822                 0.0   \n",
       "\n",
       "                       OC - Created - Evidence of course completion  \\\n",
       "CASE_ID                                                               \n",
       "990545|323544|511318                                            0.0   \n",
       "1026644|367739|573803                                           0.0   \n",
       "695378|427086|661822                                            0.0   \n",
       "\n",
       "                       Put Assessment On-Hold  Release Assessment Hold  \\\n",
       "CASE_ID                                                                  \n",
       "990545|323544|511318                      0.0                      0.0   \n",
       "1026644|367739|573803                     0.0                      0.0   \n",
       "695378|427086|661822                      0.0                      0.0   \n",
       "\n",
       "                       Release Offer  Send for Assessment  \n",
       "CASE_ID                                                    \n",
       "990545|323544|511318             0.0                  0.0  \n",
       "1026644|367739|573803            0.0                  0.0  \n",
       "695378|427086|661822             0.0                  0.0  "
      ]
     },
     "execution_count": 246,
     "metadata": {},
     "output_type": "execute_result"
    }
   ],
   "source": [
    "y.head()"
   ]
  },
  {
   "cell_type": "code",
   "execution_count": 247,
   "metadata": {},
   "outputs": [
    {
     "name": "stdout",
     "output_type": "stream",
     "text": [
      "['AR - Satisfied - Academic results for prior tertiary studies', 'AR - Satisfied - English language proficiency', 'Assessment Decision - No Decision', 'Assessment Decision - Not Qualified', 'Assessment Decision - Qualified', 'Assessment Outcome - Not Successful', 'Assessment Outcome - Successful', 'Create Offer', 'End My Assessment', 'OC - Created - Evidence of course completion', 'Put Assessment On-Hold', 'Release Assessment Hold', 'Release Offer', 'Send for Assessment']\n"
     ]
    }
   ],
   "source": [
    "y_col_name = y.columns.values.tolist()\n",
    "print(y_col_name)"
   ]
  },
  {
   "cell_type": "code",
   "execution_count": 248,
   "metadata": {},
   "outputs": [],
   "source": [
    "for key in case_wf_dict.keys():\n",
    "    for process in case_wf_dict[key]:\n",
    "        if process in y_col_name:\n",
    "            y.loc[key, process] = 1\n",
    "        else:\n",
    "            continue"
   ]
  },
  {
   "cell_type": "code",
   "execution_count": 249,
   "metadata": {},
   "outputs": [],
   "source": [
    "pd.set_option('display.max_rows', None)"
   ]
  },
  {
   "cell_type": "code",
   "execution_count": 250,
   "metadata": {},
   "outputs": [],
   "source": [
    "def movecol(df, cols_to_move=[], ref_col='', place='After'):\n",
    "    \n",
    "    cols = df.columns.tolist()\n",
    "    if place == 'After':\n",
    "        seg1 = cols[:list(cols).index(ref_col) + 1]\n",
    "        seg2 = cols_to_move\n",
    "    if place == 'Before':\n",
    "        seg1 = cols[:list(cols).index(ref_col)]\n",
    "        seg2 = cols_to_move + [ref_col]\n",
    "    \n",
    "    seg1 = [i for i in seg1 if i not in seg2]\n",
    "    seg3 = [i for i in cols if i not in seg1 + seg2]\n",
    "    \n",
    "    return(df[seg1 + seg2 + seg3])"
   ]
  },
  {
   "cell_type": "code",
   "execution_count": 251,
   "metadata": {},
   "outputs": [
    {
     "data": {
      "text/html": [
       "<div>\n",
       "<style scoped>\n",
       "    .dataframe tbody tr th:only-of-type {\n",
       "        vertical-align: middle;\n",
       "    }\n",
       "\n",
       "    .dataframe tbody tr th {\n",
       "        vertical-align: top;\n",
       "    }\n",
       "\n",
       "    .dataframe thead th {\n",
       "        text-align: right;\n",
       "    }\n",
       "</style>\n",
       "<table border=\"1\" class=\"dataframe\">\n",
       "  <thead>\n",
       "    <tr style=\"text-align: right;\">\n",
       "      <th></th>\n",
       "      <th>AR - Satisfied - Academic results for prior tertiary studies</th>\n",
       "      <th>AR - Satisfied - English language proficiency</th>\n",
       "      <th>Assessment Decision - No Decision</th>\n",
       "      <th>Assessment Decision - Not Qualified</th>\n",
       "      <th>Assessment Decision - Qualified</th>\n",
       "      <th>Assessment Outcome - Not Successful</th>\n",
       "      <th>Assessment Outcome - Successful</th>\n",
       "      <th>Create Offer</th>\n",
       "      <th>End My Assessment</th>\n",
       "      <th>OC - Created - Evidence of course completion</th>\n",
       "      <th>Put Assessment On-Hold</th>\n",
       "      <th>Release Assessment Hold</th>\n",
       "      <th>Release Offer</th>\n",
       "      <th>Send for Assessment</th>\n",
       "    </tr>\n",
       "    <tr>\n",
       "      <th>CASE_ID</th>\n",
       "      <th></th>\n",
       "      <th></th>\n",
       "      <th></th>\n",
       "      <th></th>\n",
       "      <th></th>\n",
       "      <th></th>\n",
       "      <th></th>\n",
       "      <th></th>\n",
       "      <th></th>\n",
       "      <th></th>\n",
       "      <th></th>\n",
       "      <th></th>\n",
       "      <th></th>\n",
       "      <th></th>\n",
       "    </tr>\n",
       "  </thead>\n",
       "  <tbody>\n",
       "    <tr>\n",
       "      <th>990545|323544|511318</th>\n",
       "      <td>0.0</td>\n",
       "      <td>0.0</td>\n",
       "      <td>1.0</td>\n",
       "      <td>0.0</td>\n",
       "      <td>1.0</td>\n",
       "      <td>1.0</td>\n",
       "      <td>1.0</td>\n",
       "      <td>1.0</td>\n",
       "      <td>0.0</td>\n",
       "      <td>1.0</td>\n",
       "      <td>0.0</td>\n",
       "      <td>0.0</td>\n",
       "      <td>1.0</td>\n",
       "      <td>0.0</td>\n",
       "    </tr>\n",
       "    <tr>\n",
       "      <th>1026644|367739|573803</th>\n",
       "      <td>1.0</td>\n",
       "      <td>1.0</td>\n",
       "      <td>0.0</td>\n",
       "      <td>1.0</td>\n",
       "      <td>0.0</td>\n",
       "      <td>1.0</td>\n",
       "      <td>0.0</td>\n",
       "      <td>0.0</td>\n",
       "      <td>1.0</td>\n",
       "      <td>0.0</td>\n",
       "      <td>1.0</td>\n",
       "      <td>1.0</td>\n",
       "      <td>0.0</td>\n",
       "      <td>1.0</td>\n",
       "    </tr>\n",
       "    <tr>\n",
       "      <th>695378|427086|661822</th>\n",
       "      <td>0.0</td>\n",
       "      <td>0.0</td>\n",
       "      <td>1.0</td>\n",
       "      <td>0.0</td>\n",
       "      <td>1.0</td>\n",
       "      <td>0.0</td>\n",
       "      <td>1.0</td>\n",
       "      <td>1.0</td>\n",
       "      <td>0.0</td>\n",
       "      <td>0.0</td>\n",
       "      <td>1.0</td>\n",
       "      <td>1.0</td>\n",
       "      <td>1.0</td>\n",
       "      <td>0.0</td>\n",
       "    </tr>\n",
       "  </tbody>\n",
       "</table>\n",
       "</div>"
      ],
      "text/plain": [
       "                       AR - Satisfied - Academic results for prior tertiary studies  \\\n",
       "CASE_ID                                                                               \n",
       "990545|323544|511318                                                 0.0              \n",
       "1026644|367739|573803                                                1.0              \n",
       "695378|427086|661822                                                 0.0              \n",
       "\n",
       "                       AR - Satisfied - English language proficiency  \\\n",
       "CASE_ID                                                                \n",
       "990545|323544|511318                                             0.0   \n",
       "1026644|367739|573803                                            1.0   \n",
       "695378|427086|661822                                             0.0   \n",
       "\n",
       "                       Assessment Decision - No Decision  \\\n",
       "CASE_ID                                                    \n",
       "990545|323544|511318                                 1.0   \n",
       "1026644|367739|573803                                0.0   \n",
       "695378|427086|661822                                 1.0   \n",
       "\n",
       "                       Assessment Decision - Not Qualified  \\\n",
       "CASE_ID                                                      \n",
       "990545|323544|511318                                   0.0   \n",
       "1026644|367739|573803                                  1.0   \n",
       "695378|427086|661822                                   0.0   \n",
       "\n",
       "                       Assessment Decision - Qualified  \\\n",
       "CASE_ID                                                  \n",
       "990545|323544|511318                               1.0   \n",
       "1026644|367739|573803                              0.0   \n",
       "695378|427086|661822                               1.0   \n",
       "\n",
       "                       Assessment Outcome - Not Successful  \\\n",
       "CASE_ID                                                      \n",
       "990545|323544|511318                                   1.0   \n",
       "1026644|367739|573803                                  1.0   \n",
       "695378|427086|661822                                   0.0   \n",
       "\n",
       "                       Assessment Outcome - Successful  Create Offer  \\\n",
       "CASE_ID                                                                \n",
       "990545|323544|511318                               1.0           1.0   \n",
       "1026644|367739|573803                              0.0           0.0   \n",
       "695378|427086|661822                               1.0           1.0   \n",
       "\n",
       "                       End My Assessment  \\\n",
       "CASE_ID                                    \n",
       "990545|323544|511318                 0.0   \n",
       "1026644|367739|573803                1.0   \n",
       "695378|427086|661822                 0.0   \n",
       "\n",
       "                       OC - Created - Evidence of course completion  \\\n",
       "CASE_ID                                                               \n",
       "990545|323544|511318                                            1.0   \n",
       "1026644|367739|573803                                           0.0   \n",
       "695378|427086|661822                                            0.0   \n",
       "\n",
       "                       Put Assessment On-Hold  Release Assessment Hold  \\\n",
       "CASE_ID                                                                  \n",
       "990545|323544|511318                      0.0                      0.0   \n",
       "1026644|367739|573803                     1.0                      1.0   \n",
       "695378|427086|661822                      1.0                      1.0   \n",
       "\n",
       "                       Release Offer  Send for Assessment  \n",
       "CASE_ID                                                    \n",
       "990545|323544|511318             1.0                  0.0  \n",
       "1026644|367739|573803            0.0                  1.0  \n",
       "695378|427086|661822             1.0                  0.0  "
      ]
     },
     "execution_count": 251,
     "metadata": {},
     "output_type": "execute_result"
    }
   ],
   "source": [
    "y.head()"
   ]
  },
  {
   "cell_type": "code",
   "execution_count": 252,
   "metadata": {},
   "outputs": [],
   "source": [
    "y = movecol(y, \n",
    "             cols_to_move=['Assessment Outcome - Successful'], \n",
    "             ref_col='AR - Satisfied - Academic results for prior tertiary studies',\n",
    "             place='Before')"
   ]
  },
  {
   "cell_type": "code",
   "execution_count": 253,
   "metadata": {},
   "outputs": [],
   "source": [
    "y = movecol(y, \n",
    "             cols_to_move=['Release Offer'], \n",
    "             ref_col='Send for Assessment',\n",
    "             place='After')"
   ]
  },
  {
   "cell_type": "code",
   "execution_count": 254,
   "metadata": {},
   "outputs": [],
   "source": [
    "pd.set_option('display.max_columns',None)"
   ]
  },
  {
   "cell_type": "code",
   "execution_count": 255,
   "metadata": {},
   "outputs": [
    {
     "data": {
      "text/plain": [
       "(3, 14)"
      ]
     },
     "execution_count": 255,
     "metadata": {},
     "output_type": "execute_result"
    }
   ],
   "source": [
    "y.shape"
   ]
  },
  {
   "cell_type": "code",
   "execution_count": 256,
   "metadata": {},
   "outputs": [],
   "source": [
    "y=y.fillna(0.0)"
   ]
  },
  {
   "cell_type": "code",
   "execution_count": 257,
   "metadata": {},
   "outputs": [],
   "source": [
    "X=y.iloc[:,0:13].values\n",
    "Y=y.iloc[:,13].values"
   ]
  },
  {
   "cell_type": "code",
   "execution_count": 258,
   "metadata": {},
   "outputs": [],
   "source": [
    "#spliting dataset\n",
    "x_train,x_test,y_train,y_test=train_test_split(X,Y,test_size = 0.3,random_state=0)"
   ]
  },
  {
   "cell_type": "code",
   "execution_count": 259,
   "metadata": {},
   "outputs": [
    {
     "data": {
      "text/plain": [
       "LinearSVC()"
      ]
     },
     "execution_count": 259,
     "metadata": {},
     "output_type": "execute_result"
    }
   ],
   "source": [
    "# Linear SVM\n",
    "svm = LinearSVC()\n",
    "svm.fit(x_train, y_train)"
   ]
  },
  {
   "cell_type": "code",
   "execution_count": 260,
   "metadata": {},
   "outputs": [
    {
     "name": "stdout",
     "output_type": "stream",
     "text": [
      "accuracy: 100.0%\n"
     ]
    }
   ],
   "source": [
    "svm_predict = svm.predict(x_test)\n",
    "print(\"accuracy: {}%\".format(round(accuracy_score(y_test, svm_predict)*100,2)))"
   ]
  },
  {
   "cell_type": "code",
   "execution_count": 261,
   "metadata": {},
   "outputs": [
    {
     "data": {
      "text/plain": [
       "LogisticRegression()"
      ]
     },
     "execution_count": 261,
     "metadata": {},
     "output_type": "execute_result"
    }
   ],
   "source": [
    "# Logistic Regression\n",
    "lr = LogisticRegression()\n",
    "lr.fit(x_train,y_train)"
   ]
  },
  {
   "cell_type": "code",
   "execution_count": 262,
   "metadata": {},
   "outputs": [
    {
     "name": "stdout",
     "output_type": "stream",
     "text": [
      "accuracy: 100.0%\n"
     ]
    }
   ],
   "source": [
    "lr_predict=lr.predict(x_test)\n",
    "print(\"accuracy: {}%\".format(round(accuracy_score(y_test, lr_predict)*100,2)))"
   ]
  },
  {
   "cell_type": "code",
   "execution_count": 267,
   "metadata": {},
   "outputs": [
    {
     "data": {
      "text/plain": [
       "KNeighborsClassifier(n_neighbors=1)"
      ]
     },
     "execution_count": 267,
     "metadata": {},
     "output_type": "execute_result"
    }
   ],
   "source": [
    "# K Nearest Neighbors\n",
    "Knn = KNeighborsClassifier(n_neighbors=1)\n",
    "Knn.fit(x_train,y_train)"
   ]
  },
  {
   "cell_type": "code",
   "execution_count": 268,
   "metadata": {},
   "outputs": [
    {
     "name": "stdout",
     "output_type": "stream",
     "text": [
      "accuracy: 100.0%\n"
     ]
    }
   ],
   "source": [
    "knn_predict=Knn.predict(x_test)\n",
    "print(\"accuracy: {}%\".format(round(accuracy_score(y_test, knn_predict)*100,2)))"
   ]
  },
  {
   "cell_type": "code",
   "execution_count": null,
   "metadata": {},
   "outputs": [],
   "source": []
  },
  {
   "cell_type": "code",
   "execution_count": null,
   "metadata": {},
   "outputs": [],
   "source": []
  }
 ],
 "metadata": {
  "kernelspec": {
   "display_name": "Python 3",
   "language": "python",
   "name": "python3"
  },
  "language_info": {
   "codemirror_mode": {
    "name": "ipython",
    "version": 3
   },
   "file_extension": ".py",
   "mimetype": "text/x-python",
   "name": "python",
   "nbconvert_exporter": "python",
   "pygments_lexer": "ipython3",
   "version": "3.8.3"
  }
 },
 "nbformat": 4,
 "nbformat_minor": 4
}
