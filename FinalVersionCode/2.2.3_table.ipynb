{
 "cells": [
  {
   "cell_type": "code",
   "execution_count": 1,
   "metadata": {
    "collapsed": true
   },
   "outputs": [],
   "source": [
    "import pandas as pd\n",
    "import numpy\n",
    "from __future__ import division"
   ]
  },
  {
   "cell_type": "code",
   "execution_count": 2,
   "outputs": [],
   "source": [
    "df2_WS3T = pd.read_csv(\"/Users/asteriag/Desktop/DATASCIENCEPROJECT_WORKFLOW/TimeStamp_Engineering/engineering_AS_segment2_workflowS3_has_duration.csv\",engine='python')"
   ],
   "metadata": {
    "collapsed": false,
    "pycharm": {
     "name": "#%%\n"
    }
   }
  },
  {
   "cell_type": "code",
   "execution_count": 3,
   "outputs": [
    {
     "data": {
      "text/plain": "                CASE_ID           WRKFLW_TSK_MAP_GROUPED  \\\n0  722111|418134|648088  Assessment Outcome - Successful   \n\n           WRKFLW_TSK_MAP_DETAILED     PATH_CRDATETIME  \\\n0  Assessment Outcome - Successful  8/12/2018 13:57:55   \n\n                         time_used_str  time_used_second  \n0  0 days 0 hours 0 minutes 12 seconds              12.0  ",
      "text/html": "<div>\n<style scoped>\n    .dataframe tbody tr th:only-of-type {\n        vertical-align: middle;\n    }\n\n    .dataframe tbody tr th {\n        vertical-align: top;\n    }\n\n    .dataframe thead th {\n        text-align: right;\n    }\n</style>\n<table border=\"1\" class=\"dataframe\">\n  <thead>\n    <tr style=\"text-align: right;\">\n      <th></th>\n      <th>CASE_ID</th>\n      <th>WRKFLW_TSK_MAP_GROUPED</th>\n      <th>WRKFLW_TSK_MAP_DETAILED</th>\n      <th>PATH_CRDATETIME</th>\n      <th>time_used_str</th>\n      <th>time_used_second</th>\n    </tr>\n  </thead>\n  <tbody>\n    <tr>\n      <th>0</th>\n      <td>722111|418134|648088</td>\n      <td>Assessment Outcome - Successful</td>\n      <td>Assessment Outcome - Successful</td>\n      <td>8/12/2018 13:57:55</td>\n      <td>0 days 0 hours 0 minutes 12 seconds</td>\n      <td>12.0</td>\n    </tr>\n  </tbody>\n</table>\n</div>"
     },
     "execution_count": 3,
     "metadata": {},
     "output_type": "execute_result"
    }
   ],
   "source": [
    "df2_WS3T.head(n=1)"
   ],
   "metadata": {
    "collapsed": false,
    "pycharm": {
     "name": "#%%\n"
    }
   }
  },
  {
   "cell_type": "code",
   "execution_count": 4,
   "outputs": [
    {
     "data": {
      "text/plain": "14"
     },
     "execution_count": 4,
     "metadata": {},
     "output_type": "execute_result"
    }
   ],
   "source": [
    "df2_WS3T['WRKFLW_TSK_MAP_GROUPED'].nunique()"
   ],
   "metadata": {
    "collapsed": false,
    "pycharm": {
     "name": "#%%\n"
    }
   }
  },
  {
   "cell_type": "code",
   "execution_count": 5,
   "outputs": [
    {
     "data": {
      "text/plain": "15"
     },
     "execution_count": 5,
     "metadata": {},
     "output_type": "execute_result"
    }
   ],
   "source": [
    "df2_WS3T['WRKFLW_TSK_MAP_DETAILED'].nunique()"
   ],
   "metadata": {
    "collapsed": false,
    "pycharm": {
     "name": "#%%\n"
    }
   }
  },
  {
   "cell_type": "code",
   "execution_count": 6,
   "outputs": [
    {
     "name": "stdout",
     "output_type": "stream",
     "text": [
      "[('Assessment Outcome - Successful', 1116), ('Create Offer', 1113), ('Release Offer', 1105), ('OC - Created - Evidence of course completion', 326), ('Assessment Decision - Qualified', 37), ('Assessment Decision - No Decision', 6), ('OC - Created - English language requirements', 6), ('Put Assessment On-Hold', 6), ('Release Assessment Hold', 6), ('AR - Satisfied - English language proficiency', 3), ('OC - Satisfied - Evidence of course completion', 3), ('Unsuccessful', 3), ('Assessment Outcome - Higher Preference Successful', 1), ('Assessment Outcome - Ineligible / Withdrawn', 1), ('OC - Not Satisfied - Evidence of course completion', 1)]\n"
     ]
    }
   ],
   "source": [
    "wd_count = df2_WS3T.groupby('WRKFLW_TSK_MAP_DETAILED').WRKFLW_TSK_MAP_DETAILED.count()\n",
    "wd_dict = dict()\n",
    "for i, v in wd_count.items():\n",
    "    wd_dict[i] = v\n",
    "sorted_wd_dict = sorted(wd_dict.items(), key = lambda x: x[1], reverse = True)\n",
    "print(sorted_wd_dict)"
   ],
   "metadata": {
    "collapsed": false,
    "pycharm": {
     "name": "#%%\n"
    }
   }
  },
  {
   "cell_type": "code",
   "execution_count": 7,
   "outputs": [
    {
     "name": "stdout",
     "output_type": "stream",
     "text": [
      "[('Unsuccessful', 1705029.0), ('Put Assessment On-Hold', 414526.0), ('OC - Satisfied - Evidence of course completion', 282084.0), ('Assessment Decision - No Decision', 140440.0), ('AR - Satisfied - English language proficiency', 85991.0), ('Create Offer', 16885.0), ('OC - Not Satisfied - Evidence of course completion', 8436.0), ('OC - Created - Evidence of course completion', 7673.0), ('Assessment Decision - Qualified', 1911.0), ('OC - Created - English language requirements', 1905.0), ('Release Assessment Hold', 261.0), ('Assessment Outcome - Successful', 14.0), ('Assessment Outcome - Higher Preference Successful', 9.0), ('Assessment Outcome - Ineligible / Withdrawn', 7.0), ('Release Offer', 0.0)]\n"
     ]
    }
   ],
   "source": [
    "list = df2_WS3T.WRKFLW_TSK_MAP_DETAILED.unique()\n",
    "avg_time_dict = dict()\n",
    "for key in list :\n",
    "    df_slides = df2_WS3T[df2_WS3T['WRKFLW_TSK_MAP_DETAILED'] == key]\n",
    "    sum = df_slides['time_used_second'].sum()\n",
    "    c = len(df_slides)\n",
    "    avg = sum//c\n",
    "    avg_time_dict[key] = avg\n",
    "\n",
    "sorted_avg_time_dict = sorted(avg_time_dict.items(),key = lambda x: x[1], reverse = True)\n",
    "print(sorted_avg_time_dict)"
   ],
   "metadata": {
    "collapsed": false,
    "pycharm": {
     "name": "#%%\n"
    }
   }
  },
  {
   "cell_type": "code",
   "execution_count": 8,
   "outputs": [],
   "source": [
    "numOfWorkflowProcesses = df2_WS3T.groupby('CASE_ID').CASE_ID.count()\n",
    "\n",
    "count_dic=dict()\n",
    "for i,v in numOfWorkflowProcesses.items():\n",
    "    if count_dic.get(v) is None:\n",
    "        count_dic[v]=[]\n",
    "        count_dic[v].append(i)\n",
    "    else:\n",
    "        count_dic[v].append(i)\n",
    "#count_dic\n",
    "count_dic = dict(sorted(count_dic.items()))"
   ],
   "metadata": {
    "collapsed": false,
    "pycharm": {
     "name": "#%%\n"
    }
   }
  },
  {
   "cell_type": "code",
   "execution_count": 9,
   "outputs": [],
   "source": [
    "len_list=[]\n",
    "for key in count_dic.keys():\n",
    "    len_list.append(len(count_dic[key]))"
   ],
   "metadata": {
    "collapsed": false,
    "pycharm": {
     "name": "#%%\n"
    }
   }
  },
  {
   "cell_type": "code",
   "execution_count": 10,
   "outputs": [],
   "source": [
    "def strfdelta(tdelta, fmt):\n",
    "    d=dict()\n",
    "    d[\"days\"],rem1 = divmod(tdelta,60*60*24)\n",
    "    d[\"hours\"], rem2 = divmod(rem1, 3600)\n",
    "    d[\"minutes\"], d[\"seconds\"] = divmod(rem2, 60)\n",
    "    return fmt.format(**d)"
   ],
   "metadata": {
    "collapsed": false,
    "pycharm": {
     "name": "#%%\n"
    }
   }
  },
  {
   "cell_type": "code",
   "execution_count": 11,
   "outputs": [],
   "source": [
    "list_avgtime_per_key =[]\n",
    "list_sumtime_row = []\n",
    "for key in count_dic.keys():\n",
    "    id_list = count_dic[key]\n",
    "    list_sumtime_person = 0\n",
    "    for id in id_list:\n",
    "        df = df2_WS3T[df2_WS3T['CASE_ID']== id]\n",
    "        tsum = df['time_used_second'].sum()\n",
    "        list_sumtime_person+=tsum\n",
    "    list_avgtime_per_key.append(int((list_sumtime_person/len(count_dic[key]))))\n",
    "    list_sumtime_row.append(list_sumtime_person)\n",
    "list_avgtime_per_key_str = []\n",
    "for i in list_avgtime_per_key:\n",
    "    list_avgtime_per_key_str.append(strfdelta(i,\"{days} days {hours} hours {minutes} minutes {seconds} seconds\"))"
   ],
   "metadata": {
    "collapsed": false,
    "pycharm": {
     "name": "#%%\n"
    }
   }
  },
  {
   "cell_type": "code",
   "execution_count": 12,
   "outputs": [],
   "source": [
    "list_mediantime_per_key = []\n",
    "for key in count_dic.keys():\n",
    "    id_list = count_dic[key]\n",
    "    list_sumtime_per_person = []\n",
    "    for id in id_list:\n",
    "        df = df2_WS3T[df2_WS3T['CASE_ID']== id]\n",
    "        tsum = df['time_used_second'].sum()\n",
    "        list_sumtime_per_person.append(tsum)\n",
    "    list_mediantime_per_key.append(numpy.median(list_sumtime_per_person))\n",
    "\n",
    "list_mediantime_per_key_str = []\n",
    "for i in list_mediantime_per_key:\n",
    "    list_mediantime_per_key_str.append(strfdelta(i,\"{days} days {hours} hours {minutes} minutes {seconds} seconds\"))"
   ],
   "metadata": {
    "collapsed": false,
    "pycharm": {
     "name": "#%%\n"
    }
   }
  },
  {
   "cell_type": "code",
   "execution_count": 13,
   "outputs": [],
   "source": [
    "list_percent_reach_end = []\n",
    "for key in count_dic.keys():\n",
    "    id_list = count_dic[key]\n",
    "    count_df_end_step = 0\n",
    "    count_df_id = 0\n",
    "    for id in id_list:\n",
    "        df_id = df2_WS3T[df2_WS3T['CASE_ID']== id]\n",
    "        df_end_step = df_id[df_id['WRKFLW_TSK_MAP_GROUPED']=='Release Offer']\n",
    "        count_df_id += df_id['CASE_ID'].nunique()\n",
    "        count_df_end_step += df_end_step['CASE_ID'].nunique()\n",
    "    list_percent_reach_end.append(str(round((count_df_end_step/count_df_id)*100,2))+ \"%\")"
   ],
   "metadata": {
    "collapsed": false,
    "pycharm": {
     "name": "#%%\n"
    }
   }
  },
  {
   "cell_type": "code",
   "execution_count": 14,
   "outputs": [],
   "source": [
    "list_step_per_key = []\n",
    "for key in count_dic.keys():\n",
    "    id_list = count_dic[key]\n",
    "    list_step = set()\n",
    "    for id in id_list:\n",
    "        df = df2_WS3T[df2_WS3T['CASE_ID']== id]\n",
    "        for index, row in df.iterrows():\n",
    "            list_step.add(row['WRKFLW_TSK_MAP_GROUPED'])\n",
    "    list_step_per_key.append(list_step)"
   ],
   "metadata": {
    "collapsed": false,
    "pycharm": {
     "name": "#%%\n"
    }
   }
  },
  {
   "cell_type": "code",
   "execution_count": 15,
   "outputs": [],
   "source": [
    "from collections import Counter\n",
    "import collections, functools, operator\n",
    "list_step_sum_time_per_key = []\n",
    "list_step_count_per_key = []\n",
    "list_step_ave_time_per_key = []\n",
    "for key in count_dic.keys():\n",
    "    id_list = count_dic[key]\n",
    "    list_step = []\n",
    "    step_time_list = []\n",
    "    for id in id_list:\n",
    "        df = df2_WS3T[df2_WS3T['CASE_ID']== id]\n",
    "        step_time = dict(zip(df.WRKFLW_TSK_MAP_GROUPED, df.time_used_second))\n",
    "        step_time_list.append(step_time)\n",
    "        for index, row in df.iterrows():\n",
    "            list_step.append(row['WRKFLW_TSK_MAP_GROUPED'])\n",
    "\n",
    "    step_sum_time = dict(functools.reduce(operator.add,\n",
    "         map(collections.Counter, step_time_list)))\n",
    "\n",
    "    dict_list_step=dict(Counter(list_step))\n",
    "\n",
    "    step_ave_time = {key: strfdelta(step_sum_time[key] // dict_list_step.get(key, 0),\"{days} days {hours} hours {minutes} minutes {seconds} seconds\")\n",
    "                        for key in step_sum_time.keys()}\n",
    "\n",
    "    sort_step_sum_time = sorted(step_sum_time.items(),key = lambda x: x[1], reverse = True)\n",
    "    list_step_sum_time_per_key.append(sort_step_sum_time)\n",
    "\n",
    "    sort_dict_list_step = sorted(dict_list_step.items(),key = lambda x: x[1], reverse = True)\n",
    "    list_step_count_per_key.append(sort_dict_list_step[:6])\n",
    "\n",
    "    sort_step_ave_time = sorted(step_ave_time.items(),key = lambda x: x[1], reverse = True)\n",
    "    list_step_ave_time_per_key.append(sort_step_ave_time)\n",
    "\n"
   ],
   "metadata": {
    "collapsed": false,
    "pycharm": {
     "name": "#%%\n"
    }
   }
  },
  {
   "cell_type": "code",
   "execution_count": 16,
   "outputs": [
    {
     "data": {
      "text/plain": "   Number of Workflow processes in this Workflow Segment  Number of cases  \\\n0                                                  2                    2   \n1                                                  3                  753   \n2                                                  4                  322   \n3                                                  5                   24   \n4                                                  6                    6   \n5                                                  7                    1   \n6                                                  9                    1   \n7                                                 10                    1   \n\n       average time for workflow segment  \\\n0    0 days 0 hours 0 minutes 12 seconds   \n1    0 days 2 hours 52 minutes 4 seconds   \n2   0 days 8 hours 33 minutes 39 seconds   \n3  2 days 10 hours 25 minutes 16 seconds   \n4  13 days 7 hours 51 minutes 37 seconds   \n5    0 days 0 hours 2 minutes 42 seconds   \n6   5 days 5 hours 11 minutes 43 seconds   \n7  9 days 19 hours 20 minutes 19 seconds   \n\n                median time for workflow segment  \\\n0    0.0 days 0.0 hours 0.0 minutes 12.5 seconds   \n1    0.0 days 0.0 hours 2.0 minutes 14.0 seconds   \n2    0.0 days 0.0 hours 2.0 minutes 21.5 seconds   \n3    0.0 days 0.0 hours 2.0 minutes 48.0 seconds   \n4   0.0 days 0.0 hours 47.0 minutes 39.0 seconds   \n5    0.0 days 0.0 hours 2.0 minutes 42.0 seconds   \n6   5.0 days 5.0 hours 11.0 minutes 43.0 seconds   \n7  9.0 days 19.0 hours 20.0 minutes 19.0 seconds   \n\n  percentage of cases reaching to end of workflow segment  \\\n0                                               0.0%        \n1                                             100.0%        \n2                                             99.69%        \n3                                             95.83%        \n4                                             83.33%        \n5                                             100.0%        \n6                                             100.0%        \n7                                             100.0%        \n\n             Num of Occurrences per step(descending)  \\\n0  [(Assessment Outcome - Successful, 2), (Create...   \n1  [(Assessment Outcome - Successful, 753), (Crea...   \n2  [(Assessment Outcome - Successful, 325), (Crea...   \n3  [(Assessment Outcome - Successful, 27), (Creat...   \n4  [(Assessment Outcome - Successful, 6), (Create...   \n5  [(OC - Created - Other, 2), (Assessment Outcom...   \n6  [(Put Assessment On-Hold, 2), (Release Assessm...   \n7  [(Assessment Decision - Qualified, 3), (Assess...   \n\n            Average time spends per step(descending)  \\\n0  [(Assessment Outcome - Successful, 0.0 days 0....   \n1  [(Create Offer, 0.0 days 2.0 hours 51.0 minute...   \n2  [(Create Offer, 0.0 days 6.0 hours 53.0 minute...   \n3  [(Put Assessment On-Hold, 5.0 days 21.0 hours ...   \n4  [(Put Assessment On-Hold, 8.0 days 9.0 hours 2...   \n5  [(Assessment Decision - Qualified, 0.0 days 0....   \n6  [(Create Offer, 0.0 days 0.0 hours 9.0 minutes...   \n7  [(Assessment Decision - No Decision, 4.0 days ...   \n\n   average time for workflow segment(seconds)  \\\n0                                          12   \n1                                       10324   \n2                                       30819   \n3                                      210316   \n4                                     1151497   \n5                                         162   \n6                                      450703   \n7                                      847219   \n\n   sum time for workflow segment(seconds)  \n0                                    25.0  \n1                               7774016.0  \n2                               9923843.0  \n3                               5047597.0  \n4                               6908986.0  \n5                                   162.0  \n6                                450703.0  \n7                                847219.0  ",
      "text/html": "<div>\n<style scoped>\n    .dataframe tbody tr th:only-of-type {\n        vertical-align: middle;\n    }\n\n    .dataframe tbody tr th {\n        vertical-align: top;\n    }\n\n    .dataframe thead th {\n        text-align: right;\n    }\n</style>\n<table border=\"1\" class=\"dataframe\">\n  <thead>\n    <tr style=\"text-align: right;\">\n      <th></th>\n      <th>Number of Workflow processes in this Workflow Segment</th>\n      <th>Number of cases</th>\n      <th>average time for workflow segment</th>\n      <th>median time for workflow segment</th>\n      <th>percentage of cases reaching to end of workflow segment</th>\n      <th>Num of Occurrences per step(descending)</th>\n      <th>Average time spends per step(descending)</th>\n      <th>average time for workflow segment(seconds)</th>\n      <th>sum time for workflow segment(seconds)</th>\n    </tr>\n  </thead>\n  <tbody>\n    <tr>\n      <th>0</th>\n      <td>2</td>\n      <td>2</td>\n      <td>0 days 0 hours 0 minutes 12 seconds</td>\n      <td>0.0 days 0.0 hours 0.0 minutes 12.5 seconds</td>\n      <td>0.0%</td>\n      <td>[(Assessment Outcome - Successful, 2), (Create...</td>\n      <td>[(Assessment Outcome - Successful, 0.0 days 0....</td>\n      <td>12</td>\n      <td>25.0</td>\n    </tr>\n    <tr>\n      <th>1</th>\n      <td>3</td>\n      <td>753</td>\n      <td>0 days 2 hours 52 minutes 4 seconds</td>\n      <td>0.0 days 0.0 hours 2.0 minutes 14.0 seconds</td>\n      <td>100.0%</td>\n      <td>[(Assessment Outcome - Successful, 753), (Crea...</td>\n      <td>[(Create Offer, 0.0 days 2.0 hours 51.0 minute...</td>\n      <td>10324</td>\n      <td>7774016.0</td>\n    </tr>\n    <tr>\n      <th>2</th>\n      <td>4</td>\n      <td>322</td>\n      <td>0 days 8 hours 33 minutes 39 seconds</td>\n      <td>0.0 days 0.0 hours 2.0 minutes 21.5 seconds</td>\n      <td>99.69%</td>\n      <td>[(Assessment Outcome - Successful, 325), (Crea...</td>\n      <td>[(Create Offer, 0.0 days 6.0 hours 53.0 minute...</td>\n      <td>30819</td>\n      <td>9923843.0</td>\n    </tr>\n    <tr>\n      <th>3</th>\n      <td>5</td>\n      <td>24</td>\n      <td>2 days 10 hours 25 minutes 16 seconds</td>\n      <td>0.0 days 0.0 hours 2.0 minutes 48.0 seconds</td>\n      <td>95.83%</td>\n      <td>[(Assessment Outcome - Successful, 27), (Creat...</td>\n      <td>[(Put Assessment On-Hold, 5.0 days 21.0 hours ...</td>\n      <td>210316</td>\n      <td>5047597.0</td>\n    </tr>\n    <tr>\n      <th>4</th>\n      <td>6</td>\n      <td>6</td>\n      <td>13 days 7 hours 51 minutes 37 seconds</td>\n      <td>0.0 days 0.0 hours 47.0 minutes 39.0 seconds</td>\n      <td>83.33%</td>\n      <td>[(Assessment Outcome - Successful, 6), (Create...</td>\n      <td>[(Put Assessment On-Hold, 8.0 days 9.0 hours 2...</td>\n      <td>1151497</td>\n      <td>6908986.0</td>\n    </tr>\n    <tr>\n      <th>5</th>\n      <td>7</td>\n      <td>1</td>\n      <td>0 days 0 hours 2 minutes 42 seconds</td>\n      <td>0.0 days 0.0 hours 2.0 minutes 42.0 seconds</td>\n      <td>100.0%</td>\n      <td>[(OC - Created - Other, 2), (Assessment Outcom...</td>\n      <td>[(Assessment Decision - Qualified, 0.0 days 0....</td>\n      <td>162</td>\n      <td>162.0</td>\n    </tr>\n    <tr>\n      <th>6</th>\n      <td>9</td>\n      <td>1</td>\n      <td>5 days 5 hours 11 minutes 43 seconds</td>\n      <td>5.0 days 5.0 hours 11.0 minutes 43.0 seconds</td>\n      <td>100.0%</td>\n      <td>[(Put Assessment On-Hold, 2), (Release Assessm...</td>\n      <td>[(Create Offer, 0.0 days 0.0 hours 9.0 minutes...</td>\n      <td>450703</td>\n      <td>450703.0</td>\n    </tr>\n    <tr>\n      <th>7</th>\n      <td>10</td>\n      <td>1</td>\n      <td>9 days 19 hours 20 minutes 19 seconds</td>\n      <td>9.0 days 19.0 hours 20.0 minutes 19.0 seconds</td>\n      <td>100.0%</td>\n      <td>[(Assessment Decision - Qualified, 3), (Assess...</td>\n      <td>[(Assessment Decision - No Decision, 4.0 days ...</td>\n      <td>847219</td>\n      <td>847219.0</td>\n    </tr>\n  </tbody>\n</table>\n</div>"
     },
     "execution_count": 16,
     "metadata": {},
     "output_type": "execute_result"
    }
   ],
   "source": [
    "s2_t3=pd.DataFrame({'Number of Workflow processes in this Workflow Segment':count_dic.keys(),'Number of cases':len_list, 'average time for workflow segment':list_avgtime_per_key_str,'median time for workflow segment':list_mediantime_per_key_str,'percentage of cases reaching to end of workflow segment':list_percent_reach_end})\n",
    "s2_t3['Num of Occurrences per step(descending)'] = list_step_count_per_key\n",
    "s2_t3['Average time spends per step(descending)'] = list_step_ave_time_per_key\n",
    "s2_t3['average time for workflow segment(seconds)'] = list_avgtime_per_key\n",
    "\n",
    "s2_t3['sum time for workflow segment(seconds)'] = list_sumtime_row\n",
    "s2_t3.head(n=10)\n"
   ],
   "metadata": {
    "collapsed": false,
    "pycharm": {
     "name": "#%%\n"
    }
   }
  },
  {
   "cell_type": "code",
   "execution_count": 17,
   "outputs": [],
   "source": [
    "s2_t3.to_csv('engineering_AS_segment2_workflowS3_table.csv', index=False)\n",
    "\n",
    "\n",
    "\n",
    "\n",
    "\n",
    "\n"
   ],
   "metadata": {
    "collapsed": false,
    "pycharm": {
     "name": "#%%\n"
    }
   }
  }
 ],
 "metadata": {
  "kernelspec": {
   "name": "pycharm-3f427a6c",
   "language": "python",
   "display_name": "PyCharm (pythonProject)"
  },
  "language_info": {
   "codemirror_mode": {
    "name": "ipython",
    "version": 2
   },
   "file_extension": ".py",
   "mimetype": "text/x-python",
   "name": "python",
   "nbconvert_exporter": "python",
   "pygments_lexer": "ipython2",
   "version": "2.7.6"
  }
 },
 "nbformat": 4,
 "nbformat_minor": 0
}