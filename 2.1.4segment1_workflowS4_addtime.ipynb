{
 "cells": [
  {
   "cell_type": "code",
   "execution_count": 1,
   "outputs": [],
   "source": [
    "import pandas as pd\n",
    "from datetime import datetime"
   ],
   "metadata": {
    "collapsed": false,
    "pycharm": {
     "name": "#%%\n"
    }
   }
  },
  {
   "cell_type": "code",
   "execution_count": 2,
   "outputs": [],
   "source": [
    "df1_WS4 = pd.read_csv(\"/Users/asteriag/Desktop/DATASCIENCEPROJECT_WORKFLOW/TimeStamp_Engineering/engineering_OF_segment1_workflowS4.csv\",engine='python')"
   ],
   "metadata": {
    "collapsed": false,
    "pycharm": {
     "name": "#%%\n"
    }
   }
  },
  {
   "cell_type": "code",
   "execution_count": 3,
   "outputs": [
    {
     "data": {
      "text/plain": "                 CASE_ID WRKFLW_TSK_MAP_GROUPED  \\\n0  1140679|518493|795102          Release Offer   \n1  1140679|518493|795102   OC - Created - Other   \n\n                        WRKFLW_TSK_MAP_DETAILED      PATH_CRDATETIME  \\\n0                                 Release Offer  25/10/2019 11:48:16   \n1  OC - Created - Evidence of course completion  25/10/2019 11:48:53   \n\n  ITEM_CRUSER WRKFLW_ORG_TYPE_CRUSER  STATUS_ORDER LATEST_STATUS  \\\n0        KRIT                Faculty             4             N   \n1        KRIT                Faculty             3             N   \n\n         WRKFLW_PROCESS                             QUERY_PART  ...  \\\n0       3b. Offer stage  Part 2 - Application Line ID Workflow  ...   \n1  1. App to Assessment            Part 5 - Requirement Create  ...   \n\n  ORIG_SPRD_CD     ORIG_SPRD_NM  SPK_CAT_TYPE_CD  BROAD_COURSE_LEVEL  \\\n0         MDYI  Mid Year Intake              MCW                HDCW   \n1         MDYI  Mid Year Intake              MCW                HDCW   \n\n    DEGREETYPE LIABILITY_CATEGORY_CD_RECODE ORIG_LIABILITY_CATEGORY_CD_RECODE  \\\n0  Full Degree                           OF                                OF   \n1  Full Degree                           OF                                OF   \n\n  OFFER_RELEASED_FG OFFER_OUTCOME_CD  OFFER_CONDITIONS  \n0                 Y              NaN                 Y  \n1                 Y              NaN                 Y  \n\n[2 rows x 56 columns]",
      "text/html": "<div>\n<style scoped>\n    .dataframe tbody tr th:only-of-type {\n        vertical-align: middle;\n    }\n\n    .dataframe tbody tr th {\n        vertical-align: top;\n    }\n\n    .dataframe thead th {\n        text-align: right;\n    }\n</style>\n<table border=\"1\" class=\"dataframe\">\n  <thead>\n    <tr style=\"text-align: right;\">\n      <th></th>\n      <th>CASE_ID</th>\n      <th>WRKFLW_TSK_MAP_GROUPED</th>\n      <th>WRKFLW_TSK_MAP_DETAILED</th>\n      <th>PATH_CRDATETIME</th>\n      <th>ITEM_CRUSER</th>\n      <th>WRKFLW_ORG_TYPE_CRUSER</th>\n      <th>STATUS_ORDER</th>\n      <th>LATEST_STATUS</th>\n      <th>WRKFLW_PROCESS</th>\n      <th>QUERY_PART</th>\n      <th>...</th>\n      <th>ORIG_SPRD_CD</th>\n      <th>ORIG_SPRD_NM</th>\n      <th>SPK_CAT_TYPE_CD</th>\n      <th>BROAD_COURSE_LEVEL</th>\n      <th>DEGREETYPE</th>\n      <th>LIABILITY_CATEGORY_CD_RECODE</th>\n      <th>ORIG_LIABILITY_CATEGORY_CD_RECODE</th>\n      <th>OFFER_RELEASED_FG</th>\n      <th>OFFER_OUTCOME_CD</th>\n      <th>OFFER_CONDITIONS</th>\n    </tr>\n  </thead>\n  <tbody>\n    <tr>\n      <th>0</th>\n      <td>1140679|518493|795102</td>\n      <td>Release Offer</td>\n      <td>Release Offer</td>\n      <td>25/10/2019 11:48:16</td>\n      <td>KRIT</td>\n      <td>Faculty</td>\n      <td>4</td>\n      <td>N</td>\n      <td>3b. Offer stage</td>\n      <td>Part 2 - Application Line ID Workflow</td>\n      <td>...</td>\n      <td>MDYI</td>\n      <td>Mid Year Intake</td>\n      <td>MCW</td>\n      <td>HDCW</td>\n      <td>Full Degree</td>\n      <td>OF</td>\n      <td>OF</td>\n      <td>Y</td>\n      <td>NaN</td>\n      <td>Y</td>\n    </tr>\n    <tr>\n      <th>1</th>\n      <td>1140679|518493|795102</td>\n      <td>OC - Created - Other</td>\n      <td>OC - Created - Evidence of course completion</td>\n      <td>25/10/2019 11:48:53</td>\n      <td>KRIT</td>\n      <td>Faculty</td>\n      <td>3</td>\n      <td>N</td>\n      <td>1. App to Assessment</td>\n      <td>Part 5 - Requirement Create</td>\n      <td>...</td>\n      <td>MDYI</td>\n      <td>Mid Year Intake</td>\n      <td>MCW</td>\n      <td>HDCW</td>\n      <td>Full Degree</td>\n      <td>OF</td>\n      <td>OF</td>\n      <td>Y</td>\n      <td>NaN</td>\n      <td>Y</td>\n    </tr>\n  </tbody>\n</table>\n<p>2 rows × 56 columns</p>\n</div>"
     },
     "execution_count": 3,
     "metadata": {},
     "output_type": "execute_result"
    }
   ],
   "source": [
    "df1_WS4.head(n=2)"
   ],
   "metadata": {
    "collapsed": false,
    "pycharm": {
     "name": "#%%\n"
    }
   }
  },
  {
   "cell_type": "code",
   "execution_count": 4,
   "outputs": [],
   "source": [
    "def strfdelta(tdelta, fmt):\n",
    "    d = {\"days\": tdelta.days}\n",
    "    d[\"hours\"], rem = divmod(tdelta.seconds, 3600)\n",
    "    d[\"minutes\"], d[\"seconds\"] = divmod(rem, 60)\n",
    "    return fmt.format(**d)\n",
    "def calculate_time_duration_str(str1,str2):\n",
    "    t1=datetime.strptime(str1,'%d/%m/%Y %H:%M:%S')\n",
    "    t2=datetime.strptime(str2,'%d/%m/%Y %H:%M:%S')\n",
    "    s=strfdelta(t1-t2,\"{days} days {hours} hours {minutes} minutes {seconds} seconds\")\n",
    "    return s\n",
    "def calculate_time_duration_second(str1,str2):\n",
    "    t1=datetime.strptime(str1,'%d/%m/%Y %H:%M:%S')\n",
    "    t2=datetime.strptime(str2,'%d/%m/%Y %H:%M:%S')\n",
    "    diff = t1-t2\n",
    "    return diff.total_seconds()\n"
   ],
   "metadata": {
    "collapsed": false,
    "pycharm": {
     "name": "#%%\n"
    }
   }
  },
  {
   "cell_type": "code",
   "execution_count": 5,
   "outputs": [],
   "source": [
    "for i in range(len(df1_WS4)-1):\n",
    "    id=df1_WS4.loc[i,'CASE_ID']\n",
    "    next_id=df1_WS4.loc[i+1,'CASE_ID']\n",
    "    if next_id == id:\n",
    "        df1_WS4.loc[i,'time_used_str']=calculate_time_duration_str(df1_WS4.loc[i+1,'PATH_CRDATETIME'],df1_WS4.loc[i,'PATH_CRDATETIME'])\n",
    "        df1_WS4.loc[i,'time_used_second']=calculate_time_duration_second(df1_WS4.loc[i+1,'PATH_CRDATETIME'],df1_WS4.loc[i,'PATH_CRDATETIME'])\n",
    "    elif next_id != id:\n",
    "        df1_WS4.loc[i,'time_used_str']= 'NA'\n",
    "        df1_WS4.loc[i,'time_used_second']= 0\n",
    "\n",
    "df1_WS4.loc[len(df1_WS4)-1,'time_used_str']= 'NA'\n",
    "df1_WS4.loc[len(df1_WS4)-1,'time_used_second']= 0\n",
    "df1_WS4.to_csv('engineering_OF_segment1_workflowS4_has_duration.csv',index=False)\n",
    "\n",
    "\n",
    "\n",
    "\n",
    "\n",
    "\n",
    "\n",
    "\n",
    "\n",
    "\n",
    "\n",
    "\n"
   ],
   "metadata": {
    "collapsed": false,
    "pycharm": {
     "name": "#%%\n"
    }
   }
  }
 ],
 "metadata": {
  "kernelspec": {
   "name": "pycharm-3f427a6c",
   "language": "python",
   "display_name": "PyCharm (pythonProject)"
  },
  "language_info": {
   "codemirror_mode": {
    "name": "ipython",
    "version": 2
   },
   "file_extension": ".py",
   "mimetype": "text/x-python",
   "name": "python",
   "nbconvert_exporter": "python",
   "pygments_lexer": "ipython2",
   "version": "2.7.6"
  }
 },
 "nbformat": 4,
 "nbformat_minor": 0
}