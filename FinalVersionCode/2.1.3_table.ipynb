{
 "cells": [
  {
   "cell_type": "code",
   "execution_count": 1,
   "metadata": {
    "collapsed": true
   },
   "outputs": [],
   "source": [
    "import pandas as pd\n",
    "import numpy\n",
    "from __future__ import division"
   ]
  },
  {
   "cell_type": "code",
   "execution_count": 2,
   "outputs": [],
   "source": [
    "df1_WS3T = pd.read_csv(\"/Users/asteriag/Desktop/DATASCIENCEPROJECT_WORKFLOW/TimeStamp_Engineering/engineering_OF_segment1_workflowS3_has_duration.csv\",engine='python')"
   ],
   "metadata": {
    "collapsed": false,
    "pycharm": {
     "name": "#%%\n"
    }
   }
  },
  {
   "cell_type": "code",
   "execution_count": 3,
   "outputs": [
    {
     "data": {
      "text/plain": "                CASE_ID           WRKFLW_TSK_MAP_GROUPED  \\\n0  715808|405750|629365  Assessment Outcome - Successful   \n\n           WRKFLW_TSK_MAP_DETAILED     PATH_CRDATETIME  \\\n0  Assessment Outcome - Successful  8/12/2018 12:39:09   \n\n                         time_used_str  time_used_second  \n0  0 days 0 hours 0 minutes 12 seconds              12.0  ",
      "text/html": "<div>\n<style scoped>\n    .dataframe tbody tr th:only-of-type {\n        vertical-align: middle;\n    }\n\n    .dataframe tbody tr th {\n        vertical-align: top;\n    }\n\n    .dataframe thead th {\n        text-align: right;\n    }\n</style>\n<table border=\"1\" class=\"dataframe\">\n  <thead>\n    <tr style=\"text-align: right;\">\n      <th></th>\n      <th>CASE_ID</th>\n      <th>WRKFLW_TSK_MAP_GROUPED</th>\n      <th>WRKFLW_TSK_MAP_DETAILED</th>\n      <th>PATH_CRDATETIME</th>\n      <th>time_used_str</th>\n      <th>time_used_second</th>\n    </tr>\n  </thead>\n  <tbody>\n    <tr>\n      <th>0</th>\n      <td>715808|405750|629365</td>\n      <td>Assessment Outcome - Successful</td>\n      <td>Assessment Outcome - Successful</td>\n      <td>8/12/2018 12:39:09</td>\n      <td>0 days 0 hours 0 minutes 12 seconds</td>\n      <td>12.0</td>\n    </tr>\n  </tbody>\n</table>\n</div>"
     },
     "execution_count": 3,
     "metadata": {},
     "output_type": "execute_result"
    }
   ],
   "source": [
    "df1_WS3T.head(n=1)"
   ],
   "metadata": {
    "collapsed": false,
    "pycharm": {
     "name": "#%%\n"
    }
   }
  },
  {
   "cell_type": "code",
   "execution_count": 4,
   "outputs": [
    {
     "data": {
      "text/plain": "37"
     },
     "execution_count": 4,
     "metadata": {},
     "output_type": "execute_result"
    }
   ],
   "source": [
    "df1_WS3T['WRKFLW_TSK_MAP_GROUPED'].nunique()"
   ],
   "metadata": {
    "collapsed": false,
    "pycharm": {
     "name": "#%%\n"
    }
   }
  },
  {
   "cell_type": "code",
   "execution_count": 5,
   "outputs": [
    {
     "data": {
      "text/plain": "54"
     },
     "execution_count": 5,
     "metadata": {},
     "output_type": "execute_result"
    }
   ],
   "source": [
    "df1_WS3T['WRKFLW_TSK_MAP_DETAILED'].nunique()"
   ],
   "metadata": {
    "collapsed": false,
    "pycharm": {
     "name": "#%%\n"
    }
   }
  },
  {
   "cell_type": "code",
   "execution_count": 6,
   "outputs": [
    {
     "name": "stdout",
     "output_type": "stream",
     "text": [
      "[('Assessment Outcome - Successful', 6349), ('Create Offer', 6330), ('Release Offer', 6266), ('OC - Created - Evidence of course completion', 2071), ('Assessment Decision - Qualified', 95), ('OC - Created - English language requirements', 83), ('Assessment Decision - No Decision', 45), ('Release Assessment Hold', 26), ('AR - Satisfied - English language proficiency', 25), ('Put Assessment On-Hold', 23), ('AR - Satisfied - Academic results for prior tertiary studies', 14), ('AR - Satisfied - Payment of international application fee', 14), ('OC - Satisfied - English language requirements', 11), ('OC - Created - CHESICC transcript authentication for international students', 8), ('OC - Satisfied - Evidence of course completion', 8), ('Acacdemic - Assessment Decision - Qualified', 7), ('Back to Triage', 6), ('OC - Created - UMELBP (H3)', 6), ('AR - Not Satisfied - English language proficiency', 5), ('Send for Assessment', 5), ('AR - Created - CONDITIONAL Acceptance agreement (International)', 4), ('AR - Satisfied - Further information (1)', 4), ('End My Assessment', 4), ('Unsuccessful', 4), ('AR - Created - Assessment information (Coursework) (1)', 3), ('AR - Created - Evidence of course completion', 3), ('AR - Satisfied - Appointment of authorised representative', 3), ('AR - Satisfied - Current enrolment at the University of Melbourne', 3), ('AR - Satisfied - Overseas Student Health Cover details', 3), ('Assessment Decision - Not Qualified', 3), ('Assessment Outcome - Ineligible / Withdrawn', 3), ('OC - Created - CDGDC transcript authentication for international students', 3), ('AR - Satisfied - Advanced Standing', 2), ('AR - Satisfied - Sponsorship arrangements', 2), ('Put Triage On-Hold', 2), ('AR - Created - Full application for Coursework program (1)', 1), ('AR - Created - Further information (3)', 1), ('AR - Created - Payment of international application fee', 1), ('AR - Reviewed - Academic results for prior tertiary studies', 1), ('AR - Satisfied - Credit for previous study', 1), ('AR - Satisfied - Entry points (Master of Information Systems)', 1), ('AR - Satisfied - Full application for Coursework program (1)', 1), ('AR - Satisfied - Further information (2)', 1), ('AR - Satisfied - Further information (3)', 1), ('OC - Created - CONDITIONAL Acceptance agreement (International)', 1), ('OC - Created - English language proficiency', 1), ('OC - Created - Further information (1)', 1), ('OC - Created - Overseas Student Health Cover details', 1), ('OC - Not Satisfied - Evidence of course completion', 1), ('OC - Reviewed - English language requirements', 1), ('OC - Satisfied - CDGDC transcript authentication for international students', 1), ('OC - Satisfied - CONDITIONAL Acceptance agreement (International)', 1), ('OC - Satisfied - Overseas Student Health Cover details', 1), ('Release Triage Hold', 1)]\n"
     ]
    }
   ],
   "source": [
    "wd_count = df1_WS3T.groupby('WRKFLW_TSK_MAP_DETAILED').WRKFLW_TSK_MAP_DETAILED.count()\n",
    "wd_dict = dict()\n",
    "for i, v in wd_count.items():\n",
    "    wd_dict[i] = v\n",
    "sorted_wd_dict = sorted(wd_dict.items(), key = lambda x: x[1], reverse = True)\n",
    "print(sorted_wd_dict)"
   ],
   "metadata": {
    "collapsed": false,
    "pycharm": {
     "name": "#%%\n"
    }
   }
  },
  {
   "cell_type": "code",
   "execution_count": 7,
   "outputs": [
    {
     "name": "stdout",
     "output_type": "stream",
     "text": [
      "[('Unsuccessful', 3932046.0), ('OC - Satisfied - CDGDC transcript authentication for international students', 3786480.0), ('AR - Satisfied - Full application for Coursework program (1)', 3635369.0), ('Acacdemic - Assessment Decision - Qualified', 1662521.0), ('AR - Satisfied - Overseas Student Health Cover details', 1205675.0), ('AR - Reviewed - Academic results for prior tertiary studies', 1052944.0), ('Assessment Decision - No Decision', 405605.0), ('OC - Satisfied - Evidence of course completion', 367635.0), ('AR - Satisfied - Academic results for prior tertiary studies', 359746.0), ('AR - Created - Assessment information (Coursework) (1)', 336287.0), ('Put Assessment On-Hold', 238153.0), ('OC - Created - English language proficiency', 235544.0), ('OC - Satisfied - English language requirements', 234401.0), ('AR - Satisfied - Appointment of authorised representative', 205558.0), ('OC - Created - English language requirements', 200872.0), ('AR - Satisfied - Payment of international application fee', 169137.0), ('AR - Satisfied - Advanced Standing', 133178.0), ('AR - Satisfied - English language proficiency', 124409.0), ('OC - Created - UMELBP (H3)', 100895.0), ('OC - Not Satisfied - Evidence of course completion', 88416.0), ('OC - Created - Evidence of course completion', 44767.0), ('Put Triage On-Hold', 38692.0), ('Send for Assessment', 33137.0), ('Create Offer', 31051.0), ('Back to Triage', 29094.0), ('End My Assessment', 15164.0), ('Assessment Decision - Qualified', 12526.0), ('Release Assessment Hold', 6996.0), ('OC - Created - CHESICC transcript authentication for international students', 5822.0), ('AR - Satisfied - Entry points (Master of Information Systems)', 4652.0), ('AR - Satisfied - Further information (1)', 1691.0), ('AR - Not Satisfied - English language proficiency', 559.0), ('AR - Created - CONDITIONAL Acceptance agreement (International)', 362.0), ('Assessment Decision - Not Qualified', 95.0), ('OC - Reviewed - English language requirements', 83.0), ('Assessment Outcome - Successful', 82.0), ('AR - Created - Payment of international application fee', 77.0), ('OC - Satisfied - CONDITIONAL Acceptance agreement (International)', 58.0), ('OC - Created - Further information (1)', 54.0), ('AR - Created - Evidence of course completion', 34.0), ('AR - Satisfied - Current enrolment at the University of Melbourne', 32.0), ('OC - Created - CONDITIONAL Acceptance agreement (International)', 32.0), ('AR - Created - Further information (3)', 22.0), ('OC - Created - CDGDC transcript authentication for international students', 22.0), ('OC - Created - Overseas Student Health Cover details', 22.0), ('AR - Created - Full application for Coursework program (1)', 22.0), ('OC - Satisfied - Overseas Student Health Cover details', 15.0), ('AR - Satisfied - Further information (2)', 8.0), ('AR - Satisfied - Sponsorship arrangements', 6.0), ('Assessment Outcome - Ineligible / Withdrawn', 5.0), ('Release Triage Hold', 4.0), ('Release Offer', 0.0), ('AR - Satisfied - Further information (3)', 0.0), ('AR - Satisfied - Credit for previous study', 0.0)]\n"
     ]
    }
   ],
   "source": [
    "list = df1_WS3T.WRKFLW_TSK_MAP_DETAILED.unique()\n",
    "avg_time_dict = dict()\n",
    "for key in list :\n",
    "    df_slides = df1_WS3T[df1_WS3T['WRKFLW_TSK_MAP_DETAILED'] == key]\n",
    "    sum = df_slides['time_used_second'].sum()\n",
    "    c = len(df_slides)\n",
    "    avg = sum//c\n",
    "    avg_time_dict[key] = avg\n",
    "\n",
    "sorted_avg_time_dict = sorted(avg_time_dict.items(),key = lambda x: x[1], reverse = True)\n",
    "print(sorted_avg_time_dict)"
   ],
   "metadata": {
    "collapsed": false,
    "pycharm": {
     "name": "#%%\n"
    }
   }
  },
  {
   "cell_type": "code",
   "execution_count": 8,
   "outputs": [],
   "source": [
    "numOfWorkflowProcesses = df1_WS3T.groupby('CASE_ID').CASE_ID.count()\n",
    "\n",
    "count_dic=dict()\n",
    "for i,v in numOfWorkflowProcesses.items():\n",
    "    if count_dic.get(v) is None:\n",
    "        count_dic[v]=[]\n",
    "        count_dic[v].append(i)\n",
    "    else:\n",
    "        count_dic[v].append(i)\n",
    "#count_dic\n",
    "\n",
    "count_dic = dict(sorted(count_dic.items()))"
   ],
   "metadata": {
    "collapsed": false,
    "pycharm": {
     "name": "#%%\n"
    }
   }
  },
  {
   "cell_type": "code",
   "execution_count": 9,
   "outputs": [],
   "source": [
    "len_list=[]\n",
    "for key in count_dic.keys():\n",
    "    len_list.append(len(count_dic[key]))"
   ],
   "metadata": {
    "collapsed": false,
    "pycharm": {
     "name": "#%%\n"
    }
   }
  },
  {
   "cell_type": "code",
   "execution_count": 10,
   "outputs": [],
   "source": [
    "def strfdelta(tdelta, fmt):\n",
    "    d=dict()\n",
    "    d[\"days\"],rem1 = divmod(tdelta,60*60*24)\n",
    "    d[\"hours\"], rem2 = divmod(rem1, 3600)\n",
    "    d[\"minutes\"], d[\"seconds\"] = divmod(rem2, 60)\n",
    "    return fmt.format(**d)"
   ],
   "metadata": {
    "collapsed": false,
    "pycharm": {
     "name": "#%%\n"
    }
   }
  },
  {
   "cell_type": "code",
   "execution_count": 11,
   "outputs": [],
   "source": [
    "list_avgtime_per_key =[]\n",
    "list_sumtime_row = []\n",
    "for key in count_dic.keys():\n",
    "    id_list = count_dic[key]\n",
    "    list_sumtime_person = 0\n",
    "    for id in id_list:\n",
    "        df = df1_WS3T[df1_WS3T['CASE_ID']== id]\n",
    "        tsum = df['time_used_second'].sum()\n",
    "        list_sumtime_person+=tsum\n",
    "    list_avgtime_per_key.append(int((list_sumtime_person/len(count_dic[key]))))\n",
    "    list_sumtime_row.append(list_sumtime_person)\n",
    "list_avgtime_per_key_str = []\n",
    "for i in list_avgtime_per_key:\n",
    "    list_avgtime_per_key_str.append(strfdelta(i,\"{days} days {hours} hours {minutes} minutes {seconds} seconds\"))"
   ],
   "metadata": {
    "collapsed": false,
    "pycharm": {
     "name": "#%%\n"
    }
   }
  },
  {
   "cell_type": "code",
   "execution_count": 12,
   "outputs": [],
   "source": [
    "list_mediantime_per_key = []\n",
    "for key in count_dic.keys():\n",
    "    id_list = count_dic[key]\n",
    "    list_sumtime_per_person = []\n",
    "    for id in id_list:\n",
    "        df = df1_WS3T[df1_WS3T['CASE_ID']== id]\n",
    "        tsum = df['time_used_second'].sum()\n",
    "        list_sumtime_per_person.append(tsum)\n",
    "    list_mediantime_per_key.append(numpy.median(list_sumtime_per_person))\n",
    "\n",
    "list_mediantime_per_key_str = []\n",
    "for i in list_mediantime_per_key:\n",
    "    list_mediantime_per_key_str.append(strfdelta(i,\"{days} days {hours} hours {minutes} minutes {seconds} seconds\"))"
   ],
   "metadata": {
    "collapsed": false,
    "pycharm": {
     "name": "#%%\n"
    }
   }
  },
  {
   "cell_type": "code",
   "execution_count": 13,
   "outputs": [],
   "source": [
    "list_percent_reach_end = []\n",
    "for key in count_dic.keys():\n",
    "    id_list = count_dic[key]\n",
    "    count_df_end_step = 0\n",
    "    count_df_id = 0\n",
    "    for id in id_list:\n",
    "        df_id = df1_WS3T[df1_WS3T['CASE_ID']== id]\n",
    "        df_end_step = df_id[df_id['WRKFLW_TSK_MAP_GROUPED']=='Release Offer']\n",
    "        count_df_id += df_id['CASE_ID'].nunique()\n",
    "        count_df_end_step += df_end_step['CASE_ID'].nunique()\n",
    "    list_percent_reach_end.append(str(round((count_df_end_step/count_df_id)*100,2))+ \"%\")"
   ],
   "metadata": {
    "collapsed": false,
    "pycharm": {
     "name": "#%%\n"
    }
   }
  },
  {
   "cell_type": "code",
   "execution_count": 14,
   "outputs": [],
   "source": [
    "list_step_per_key = []\n",
    "for key in count_dic.keys():\n",
    "    id_list = count_dic[key]\n",
    "    list_step = set()\n",
    "    for id in id_list:\n",
    "        df = df1_WS3T[df1_WS3T['CASE_ID']== id]\n",
    "        for index, row in df.iterrows():\n",
    "            list_step.add(row['WRKFLW_TSK_MAP_GROUPED'])\n",
    "    list_step_per_key.append(list_step)"
   ],
   "metadata": {
    "collapsed": false,
    "pycharm": {
     "name": "#%%\n"
    }
   }
  },
  {
   "cell_type": "code",
   "execution_count": 15,
   "outputs": [],
   "source": [
    "from collections import Counter\n",
    "import collections, functools, operator\n",
    "list_step_sum_time_per_key = []\n",
    "list_step_count_per_key = []\n",
    "list_step_ave_time_per_key = []\n",
    "for key in count_dic.keys():\n",
    "    id_list = count_dic[key]\n",
    "    list_step = []\n",
    "    step_time_list = []\n",
    "    for id in id_list:\n",
    "        df = df1_WS3T[df1_WS3T['CASE_ID']== id]\n",
    "        step_time = dict(zip(df.WRKFLW_TSK_MAP_GROUPED, df.time_used_second))\n",
    "        step_time_list.append(step_time)\n",
    "        for index, row in df.iterrows():\n",
    "            list_step.append(row['WRKFLW_TSK_MAP_GROUPED'])\n",
    "\n",
    "    step_sum_time = dict(functools.reduce(operator.add,\n",
    "         map(collections.Counter, step_time_list)))\n",
    "\n",
    "    dict_list_step=dict(Counter(list_step))\n",
    "\n",
    "    step_ave_time = {key: strfdelta(step_sum_time[key] // dict_list_step.get(key, 0),\"{days} days {hours} hours {minutes} minutes {seconds} seconds\")\n",
    "                        for key in step_sum_time.keys()}\n",
    "\n",
    "    sort_step_sum_time = sorted(step_sum_time.items(),key = lambda x: x[1], reverse = True)\n",
    "    list_step_sum_time_per_key.append(sort_step_sum_time)\n",
    "\n",
    "    sort_dict_list_step = sorted(dict_list_step.items(),key = lambda x: x[1], reverse = True)\n",
    "    list_step_count_per_key.append(sort_dict_list_step[:6])\n",
    "\n",
    "    sort_step_ave_time = sorted(step_ave_time.items(),key = lambda x: x[1], reverse = True)\n",
    "    list_step_ave_time_per_key.append(sort_step_ave_time)"
   ],
   "metadata": {
    "collapsed": false,
    "pycharm": {
     "name": "#%%\n"
    }
   }
  },
  {
   "cell_type": "code",
   "execution_count": 16,
   "outputs": [
    {
     "data": {
      "text/plain": "   Number of Workflow processes in this Workflow Segment  Number of cases  \\\n0                                                  2                   27   \n1                                                  3                 4029   \n2                                                  4                 2097   \n3                                                  5                  125   \n4                                                  6                   24   \n5                                                  7                    8   \n6                                                  8                    5   \n7                                                  9                    4   \n8                                                 10                    2   \n9                                                 12                    1   \n\n        average time for workflow segment  \\\n0      0 days 0 hours 3 minutes 8 seconds   \n1    0 days 7 hours 29 minutes 16 seconds   \n2    0 days 11 hours 19 minutes 1 seconds   \n3    6 days 9 hours 18 minutes 42 seconds   \n4   26 days 2 hours 52 minutes 15 seconds   \n5  38 days 20 hours 17 minutes 45 seconds   \n6   41 days 0 hours 52 minutes 32 seconds   \n7    75 days 3 hours 17 minutes 8 seconds   \n8    11 days 12 hours 6 minutes 7 seconds   \n9   7 days 22 hours 58 minutes 35 seconds   \n\n                median time for workflow segment  \\\n0    0.0 days 0.0 hours 0.0 minutes 11.0 seconds   \n1    0.0 days 0.0 hours 2.0 minutes 12.0 seconds   \n2    0.0 days 0.0 hours 2.0 minutes 39.0 seconds   \n3    0.0 days 0.0 hours 6.0 minutes 22.0 seconds   \n4   0.0 days 22.0 hours 13.0 minutes 0.0 seconds   \n5  6.0 days 19.0 hours 30.0 minutes 41.5 seconds   \n6   58.0 days 2.0 hours 7.0 minutes 55.0 seconds   \n7   73.0 days 9.0 hours 2.0 minutes 14.5 seconds   \n8   11.0 days 12.0 hours 6.0 minutes 7.5 seconds   \n9  7.0 days 22.0 hours 58.0 minutes 35.0 seconds   \n\n  percentage of cases reaching to end of workflow segment  \\\n0                                             11.11%        \n1                                              99.5%        \n2                                             99.81%        \n3                                              98.4%        \n4                                             91.67%        \n5                                              87.5%        \n6                                              80.0%        \n7                                              50.0%        \n8                                             100.0%        \n9                                             100.0%        \n\n             Num of Occurrences per step(descending)  \\\n0  [(Assessment Outcome - Successful, 27), (Creat...   \n1  [(Assessment Outcome - Successful, 4029), (Cre...   \n2  [(Assessment Outcome - Successful, 2114), (Cre...   \n3  [(Assessment Outcome - Successful, 134), (Crea...   \n4  [(Assessment Outcome - Successful, 25), (Creat...   \n5  [(OC - Created - Other, 9), (Assessment Outcom...   \n6  [(Assessment Outcome - Successful, 5), (Create...   \n7  [(OC - Created - Other, 8), (OC - Satisfied - ...   \n8  [(Assessment Outcome - Successful, 2), (Create...   \n9  [(Assessment Outcome - Successful, 1), (Create...   \n\n            Average time spends per step(descending)  \\\n0  [(Assessment Outcome - Successful, 0.0 days 0....   \n1  [(Create Offer, 0.0 days 7.0 hours 29.0 minute...   \n2  [(AR - Satisfied - previous or current study, ...   \n3  [(OC - Satisfied - Other, 8.0 days 13.0 hours ...   \n4  [(OC - Satisfied - Other, 8.0 days 22.0 hours ...   \n5  [(OC - Created - Other, 32.0 days 5.0 hours 59...   \n6  [(OC - Satisfied - Other, 8.0 days 20.0 hours ...   \n7  [(Create Offer, 4.0 days 5.0 hours 36.0 minute...   \n8  [(Put Assessment On-Hold, 3.0 days 14.0 hours ...   \n9  [(Create Offer, 3.0 days 23.0 hours 3.0 minute...   \n\n   average time for workflow segment(seconds)  \\\n0                                         188   \n1                                       26956   \n2                                       40741   \n3                                      551922   \n4                                     2256735   \n5                                     3356265   \n6                                     3545552   \n7                                     6491828   \n8                                      993967   \n9                                      687515   \n\n   sum time for workflow segment(seconds)  \n0                                  5078.0  \n1                             108608373.0  \n2                              85434748.0  \n3                              68990357.0  \n4                              54161658.0  \n5                              26850121.0  \n6                              17727760.0  \n7                              25967313.0  \n8                               1987935.0  \n9                                687515.0  ",
      "text/html": "<div>\n<style scoped>\n    .dataframe tbody tr th:only-of-type {\n        vertical-align: middle;\n    }\n\n    .dataframe tbody tr th {\n        vertical-align: top;\n    }\n\n    .dataframe thead th {\n        text-align: right;\n    }\n</style>\n<table border=\"1\" class=\"dataframe\">\n  <thead>\n    <tr style=\"text-align: right;\">\n      <th></th>\n      <th>Number of Workflow processes in this Workflow Segment</th>\n      <th>Number of cases</th>\n      <th>average time for workflow segment</th>\n      <th>median time for workflow segment</th>\n      <th>percentage of cases reaching to end of workflow segment</th>\n      <th>Num of Occurrences per step(descending)</th>\n      <th>Average time spends per step(descending)</th>\n      <th>average time for workflow segment(seconds)</th>\n      <th>sum time for workflow segment(seconds)</th>\n    </tr>\n  </thead>\n  <tbody>\n    <tr>\n      <th>0</th>\n      <td>2</td>\n      <td>27</td>\n      <td>0 days 0 hours 3 minutes 8 seconds</td>\n      <td>0.0 days 0.0 hours 0.0 minutes 11.0 seconds</td>\n      <td>11.11%</td>\n      <td>[(Assessment Outcome - Successful, 27), (Creat...</td>\n      <td>[(Assessment Outcome - Successful, 0.0 days 0....</td>\n      <td>188</td>\n      <td>5078.0</td>\n    </tr>\n    <tr>\n      <th>1</th>\n      <td>3</td>\n      <td>4029</td>\n      <td>0 days 7 hours 29 minutes 16 seconds</td>\n      <td>0.0 days 0.0 hours 2.0 minutes 12.0 seconds</td>\n      <td>99.5%</td>\n      <td>[(Assessment Outcome - Successful, 4029), (Cre...</td>\n      <td>[(Create Offer, 0.0 days 7.0 hours 29.0 minute...</td>\n      <td>26956</td>\n      <td>108608373.0</td>\n    </tr>\n    <tr>\n      <th>2</th>\n      <td>4</td>\n      <td>2097</td>\n      <td>0 days 11 hours 19 minutes 1 seconds</td>\n      <td>0.0 days 0.0 hours 2.0 minutes 39.0 seconds</td>\n      <td>99.81%</td>\n      <td>[(Assessment Outcome - Successful, 2114), (Cre...</td>\n      <td>[(AR - Satisfied - previous or current study, ...</td>\n      <td>40741</td>\n      <td>85434748.0</td>\n    </tr>\n    <tr>\n      <th>3</th>\n      <td>5</td>\n      <td>125</td>\n      <td>6 days 9 hours 18 minutes 42 seconds</td>\n      <td>0.0 days 0.0 hours 6.0 minutes 22.0 seconds</td>\n      <td>98.4%</td>\n      <td>[(Assessment Outcome - Successful, 134), (Crea...</td>\n      <td>[(OC - Satisfied - Other, 8.0 days 13.0 hours ...</td>\n      <td>551922</td>\n      <td>68990357.0</td>\n    </tr>\n    <tr>\n      <th>4</th>\n      <td>6</td>\n      <td>24</td>\n      <td>26 days 2 hours 52 minutes 15 seconds</td>\n      <td>0.0 days 22.0 hours 13.0 minutes 0.0 seconds</td>\n      <td>91.67%</td>\n      <td>[(Assessment Outcome - Successful, 25), (Creat...</td>\n      <td>[(OC - Satisfied - Other, 8.0 days 22.0 hours ...</td>\n      <td>2256735</td>\n      <td>54161658.0</td>\n    </tr>\n    <tr>\n      <th>5</th>\n      <td>7</td>\n      <td>8</td>\n      <td>38 days 20 hours 17 minutes 45 seconds</td>\n      <td>6.0 days 19.0 hours 30.0 minutes 41.5 seconds</td>\n      <td>87.5%</td>\n      <td>[(OC - Created - Other, 9), (Assessment Outcom...</td>\n      <td>[(OC - Created - Other, 32.0 days 5.0 hours 59...</td>\n      <td>3356265</td>\n      <td>26850121.0</td>\n    </tr>\n    <tr>\n      <th>6</th>\n      <td>8</td>\n      <td>5</td>\n      <td>41 days 0 hours 52 minutes 32 seconds</td>\n      <td>58.0 days 2.0 hours 7.0 minutes 55.0 seconds</td>\n      <td>80.0%</td>\n      <td>[(Assessment Outcome - Successful, 5), (Create...</td>\n      <td>[(OC - Satisfied - Other, 8.0 days 20.0 hours ...</td>\n      <td>3545552</td>\n      <td>17727760.0</td>\n    </tr>\n    <tr>\n      <th>7</th>\n      <td>9</td>\n      <td>4</td>\n      <td>75 days 3 hours 17 minutes 8 seconds</td>\n      <td>73.0 days 9.0 hours 2.0 minutes 14.5 seconds</td>\n      <td>50.0%</td>\n      <td>[(OC - Created - Other, 8), (OC - Satisfied - ...</td>\n      <td>[(Create Offer, 4.0 days 5.0 hours 36.0 minute...</td>\n      <td>6491828</td>\n      <td>25967313.0</td>\n    </tr>\n    <tr>\n      <th>8</th>\n      <td>10</td>\n      <td>2</td>\n      <td>11 days 12 hours 6 minutes 7 seconds</td>\n      <td>11.0 days 12.0 hours 6.0 minutes 7.5 seconds</td>\n      <td>100.0%</td>\n      <td>[(Assessment Outcome - Successful, 2), (Create...</td>\n      <td>[(Put Assessment On-Hold, 3.0 days 14.0 hours ...</td>\n      <td>993967</td>\n      <td>1987935.0</td>\n    </tr>\n    <tr>\n      <th>9</th>\n      <td>12</td>\n      <td>1</td>\n      <td>7 days 22 hours 58 minutes 35 seconds</td>\n      <td>7.0 days 22.0 hours 58.0 minutes 35.0 seconds</td>\n      <td>100.0%</td>\n      <td>[(Assessment Outcome - Successful, 1), (Create...</td>\n      <td>[(Create Offer, 3.0 days 23.0 hours 3.0 minute...</td>\n      <td>687515</td>\n      <td>687515.0</td>\n    </tr>\n  </tbody>\n</table>\n</div>"
     },
     "execution_count": 16,
     "metadata": {},
     "output_type": "execute_result"
    }
   ],
   "source": [
    "s1_t3=pd.DataFrame({'Number of Workflow processes in this Workflow Segment':count_dic.keys(),'Number of cases':len_list, 'average time for workflow segment':list_avgtime_per_key_str,'median time for workflow segment':list_mediantime_per_key_str,'percentage of cases reaching to end of workflow segment':list_percent_reach_end})\n",
    "s1_t3['Num of Occurrences per step(descending)'] = list_step_count_per_key\n",
    "s1_t3['Average time spends per step(descending)'] = list_step_ave_time_per_key\n",
    "s1_t3['average time for workflow segment(seconds)'] = list_avgtime_per_key\n",
    "s1_t3['sum time for workflow segment(seconds)'] = list_sumtime_row\n",
    "s1_t3.head(n=10)\n"
   ],
   "metadata": {
    "collapsed": false,
    "pycharm": {
     "name": "#%%\n"
    }
   }
  },
  {
   "cell_type": "code",
   "execution_count": 17,
   "outputs": [],
   "source": [
    "s1_t3.to_csv('engineering_OF_segment1_workflowS3_table.csv', index=False)\n",
    "\n",
    "\n",
    "\n",
    "\n",
    "\n",
    "\n",
    "\n",
    "\n",
    "\n"
   ],
   "metadata": {
    "collapsed": false,
    "pycharm": {
     "name": "#%%\n"
    }
   }
  }
 ],
 "metadata": {
  "kernelspec": {
   "name": "python3",
   "language": "python",
   "display_name": "Python 3"
  },
  "language_info": {
   "codemirror_mode": {
    "name": "ipython",
    "version": 2
   },
   "file_extension": ".py",
   "mimetype": "text/x-python",
   "name": "python",
   "nbconvert_exporter": "python",
   "pygments_lexer": "ipython2",
   "version": "2.7.6"
  }
 },
 "nbformat": 4,
 "nbformat_minor": 0
}