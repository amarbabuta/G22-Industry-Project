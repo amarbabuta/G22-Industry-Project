{
 "cells": [
  {
   "cell_type": "code",
   "execution_count": 1,
   "metadata": {},
   "outputs": [],
   "source": [
    "import pandas as pd"
   ]
  },
  {
   "cell_type": "code",
   "execution_count": 2,
   "metadata": {
    "pycharm": {
     "name": "#%%\n"
    }
   },
   "outputs": [],
   "source": [
    "df3_WS1T = pd.read_csv(\"engineering_OF_segment1_workflowS3_has_duration.csv\",engine='python')"
   ]
  },
  {
   "cell_type": "code",
   "execution_count": 3,
   "metadata": {
    "pycharm": {
     "name": "#%%\n"
    }
   },
   "outputs": [
    {
     "data": {
      "text/html": [
       "<div>\n",
       "<style scoped>\n",
       "    .dataframe tbody tr th:only-of-type {\n",
       "        vertical-align: middle;\n",
       "    }\n",
       "\n",
       "    .dataframe tbody tr th {\n",
       "        vertical-align: top;\n",
       "    }\n",
       "\n",
       "    .dataframe thead th {\n",
       "        text-align: right;\n",
       "    }\n",
       "</style>\n",
       "<table border=\"1\" class=\"dataframe\">\n",
       "  <thead>\n",
       "    <tr style=\"text-align: right;\">\n",
       "      <th></th>\n",
       "      <th>CASE_ID</th>\n",
       "      <th>WRKFLW_TSK_MAP_GROUPED</th>\n",
       "      <th>WRKFLW_TSK_MAP_DETAILED</th>\n",
       "      <th>PATH_CRDATETIME</th>\n",
       "      <th>ITEM_CRUSER</th>\n",
       "      <th>WRKFLW_ORG_TYPE_CRUSER</th>\n",
       "      <th>STATUS_ORDER</th>\n",
       "      <th>LATEST_STATUS</th>\n",
       "      <th>WRKFLW_PROCESS</th>\n",
       "      <th>QUERY_PART</th>\n",
       "      <th>...</th>\n",
       "      <th>SPK_CAT_TYPE_CD</th>\n",
       "      <th>BROAD_COURSE_LEVEL</th>\n",
       "      <th>DEGREETYPE</th>\n",
       "      <th>LIABILITY_CATEGORY_CD_RECODE</th>\n",
       "      <th>ORIG_LIABILITY_CATEGORY_CD_RECODE</th>\n",
       "      <th>OFFER_RELEASED_FG</th>\n",
       "      <th>OFFER_OUTCOME_CD</th>\n",
       "      <th>OFFER_CONDITIONS</th>\n",
       "      <th>time_used_str</th>\n",
       "      <th>time_used_second</th>\n",
       "    </tr>\n",
       "  </thead>\n",
       "  <tbody>\n",
       "    <tr>\n",
       "      <th>0</th>\n",
       "      <td>1140679|518493|795102</td>\n",
       "      <td>Assessment Outcome - Successful</td>\n",
       "      <td>Assessment Outcome - Successful</td>\n",
       "      <td>25/10/2019 11:48:05</td>\n",
       "      <td>KRIT</td>\n",
       "      <td>Faculty</td>\n",
       "      <td>5</td>\n",
       "      <td>N</td>\n",
       "      <td>2. Perform Assessment</td>\n",
       "      <td>Part 3 - Assessment Outcome</td>\n",
       "      <td>...</td>\n",
       "      <td>MCW</td>\n",
       "      <td>HDCW</td>\n",
       "      <td>Full Degree</td>\n",
       "      <td>OF</td>\n",
       "      <td>OF</td>\n",
       "      <td>Y</td>\n",
       "      <td>NaN</td>\n",
       "      <td>Y</td>\n",
       "      <td>0 days 0 hours 0 minutes 11 seconds</td>\n",
       "      <td>11.0</td>\n",
       "    </tr>\n",
       "  </tbody>\n",
       "</table>\n",
       "<p>1 rows × 58 columns</p>\n",
       "</div>"
      ],
      "text/plain": [
       "                 CASE_ID           WRKFLW_TSK_MAP_GROUPED  \\\n",
       "0  1140679|518493|795102  Assessment Outcome - Successful   \n",
       "\n",
       "           WRKFLW_TSK_MAP_DETAILED      PATH_CRDATETIME ITEM_CRUSER  \\\n",
       "0  Assessment Outcome - Successful  25/10/2019 11:48:05        KRIT   \n",
       "\n",
       "  WRKFLW_ORG_TYPE_CRUSER  STATUS_ORDER LATEST_STATUS         WRKFLW_PROCESS  \\\n",
       "0                Faculty             5             N  2. Perform Assessment   \n",
       "\n",
       "                    QUERY_PART  ... SPK_CAT_TYPE_CD  BROAD_COURSE_LEVEL  \\\n",
       "0  Part 3 - Assessment Outcome  ...             MCW                HDCW   \n",
       "\n",
       "    DEGREETYPE  LIABILITY_CATEGORY_CD_RECODE  \\\n",
       "0  Full Degree                            OF   \n",
       "\n",
       "   ORIG_LIABILITY_CATEGORY_CD_RECODE OFFER_RELEASED_FG OFFER_OUTCOME_CD  \\\n",
       "0                                 OF                 Y              NaN   \n",
       "\n",
       "  OFFER_CONDITIONS                        time_used_str  time_used_second  \n",
       "0                Y  0 days 0 hours 0 minutes 11 seconds              11.0  \n",
       "\n",
       "[1 rows x 58 columns]"
      ]
     },
     "execution_count": 3,
     "metadata": {},
     "output_type": "execute_result"
    }
   ],
   "source": [
    "df3_WS1T.head(n=1)"
   ]
  },
  {
   "cell_type": "code",
   "execution_count": 4,
   "metadata": {
    "pycharm": {
     "name": "#%%\n"
    }
   },
   "outputs": [
    {
     "data": {
      "text/plain": [
       "{'AR - Satisfied - Academic results for prior tertiary studies',\n",
       " 'AR - Satisfied - Credit for previous study',\n",
       " 'AR - Satisfied - Further information (1)',\n",
       " 'Assessment Decision - No Decision',\n",
       " 'Assessment Decision - Qualified',\n",
       " 'Assessment Outcome - Successful',\n",
       " 'Create Offer',\n",
       " 'OC - Created - English language requirements',\n",
       " 'OC - Created - Evidence of course completion',\n",
       " 'Release Offer',\n",
       " 'Send for Assessment'}"
      ]
     },
     "execution_count": 4,
     "metadata": {},
     "output_type": "execute_result"
    }
   ],
   "source": [
    "#store unique WRKFLW_TSK_MAP_DETAILED\n",
    "WRKFLW_TSK_MAP_DETAILED_list = df3_WS1T['WRKFLW_TSK_MAP_DETAILED'].tolist()\n",
    "unique_WRKFLW_TSK_MAP_DETAILED_list = set(WRKFLW_TSK_MAP_DETAILED_list)\n",
    "len(unique_WRKFLW_TSK_MAP_DETAILED_list)\n",
    "unique_WRKFLW_TSK_MAP_DETAILED_list"
   ]
  },
  {
   "cell_type": "code",
   "execution_count": 5,
   "metadata": {
    "pycharm": {
     "name": "#%%\n"
    }
   },
   "outputs": [
    {
     "data": {
      "text/plain": [
       "73"
      ]
     },
     "execution_count": 5,
     "metadata": {},
     "output_type": "execute_result"
    }
   ],
   "source": [
    "#store unique CASE_ID\n",
    "ID_list = df3_WS1T['CASE_ID'].tolist()\n",
    "unique_ID_list = set(ID_list)\n",
    "len(unique_ID_list)"
   ]
  },
  {
   "cell_type": "code",
   "execution_count": 6,
   "metadata": {
    "pycharm": {
     "name": "#%%\n"
    }
   },
   "outputs": [
    {
     "data": {
      "text/html": [
       "<div>\n",
       "<style scoped>\n",
       "    .dataframe tbody tr th:only-of-type {\n",
       "        vertical-align: middle;\n",
       "    }\n",
       "\n",
       "    .dataframe tbody tr th {\n",
       "        vertical-align: top;\n",
       "    }\n",
       "\n",
       "    .dataframe thead th {\n",
       "        text-align: right;\n",
       "    }\n",
       "</style>\n",
       "<table border=\"1\" class=\"dataframe\">\n",
       "  <thead>\n",
       "    <tr style=\"text-align: right;\">\n",
       "      <th></th>\n",
       "      <th>Assessment Decision - Qualified</th>\n",
       "      <th>Release Offer</th>\n",
       "      <th>AR - Satisfied - Further information (1)</th>\n",
       "      <th>Assessment Decision - No Decision</th>\n",
       "      <th>AR - Satisfied - Academic results for prior tertiary studies</th>\n",
       "      <th>OC - Created - Evidence of course completion</th>\n",
       "      <th>Send for Assessment</th>\n",
       "      <th>AR - Satisfied - Credit for previous study</th>\n",
       "      <th>Create Offer</th>\n",
       "      <th>OC - Created - English language requirements</th>\n",
       "      <th>Assessment Outcome - Successful</th>\n",
       "    </tr>\n",
       "  </thead>\n",
       "  <tbody>\n",
       "    <tr>\n",
       "      <th>786367|405984|629695</th>\n",
       "      <td>NaN</td>\n",
       "      <td>NaN</td>\n",
       "      <td>NaN</td>\n",
       "      <td>NaN</td>\n",
       "      <td>NaN</td>\n",
       "      <td>NaN</td>\n",
       "      <td>NaN</td>\n",
       "      <td>NaN</td>\n",
       "      <td>NaN</td>\n",
       "      <td>NaN</td>\n",
       "      <td>NaN</td>\n",
       "    </tr>\n",
       "    <tr>\n",
       "      <th>1006948|421760|653240</th>\n",
       "      <td>NaN</td>\n",
       "      <td>NaN</td>\n",
       "      <td>NaN</td>\n",
       "      <td>NaN</td>\n",
       "      <td>NaN</td>\n",
       "      <td>NaN</td>\n",
       "      <td>NaN</td>\n",
       "      <td>NaN</td>\n",
       "      <td>NaN</td>\n",
       "      <td>NaN</td>\n",
       "      <td>NaN</td>\n",
       "    </tr>\n",
       "    <tr>\n",
       "      <th>1056808|409506|733846</th>\n",
       "      <td>NaN</td>\n",
       "      <td>NaN</td>\n",
       "      <td>NaN</td>\n",
       "      <td>NaN</td>\n",
       "      <td>NaN</td>\n",
       "      <td>NaN</td>\n",
       "      <td>NaN</td>\n",
       "      <td>NaN</td>\n",
       "      <td>NaN</td>\n",
       "      <td>NaN</td>\n",
       "      <td>NaN</td>\n",
       "    </tr>\n",
       "    <tr>\n",
       "      <th>1024762|559237|855622</th>\n",
       "      <td>NaN</td>\n",
       "      <td>NaN</td>\n",
       "      <td>NaN</td>\n",
       "      <td>NaN</td>\n",
       "      <td>NaN</td>\n",
       "      <td>NaN</td>\n",
       "      <td>NaN</td>\n",
       "      <td>NaN</td>\n",
       "      <td>NaN</td>\n",
       "      <td>NaN</td>\n",
       "      <td>NaN</td>\n",
       "    </tr>\n",
       "    <tr>\n",
       "      <th>999931|334099|523071</th>\n",
       "      <td>NaN</td>\n",
       "      <td>NaN</td>\n",
       "      <td>NaN</td>\n",
       "      <td>NaN</td>\n",
       "      <td>NaN</td>\n",
       "      <td>NaN</td>\n",
       "      <td>NaN</td>\n",
       "      <td>NaN</td>\n",
       "      <td>NaN</td>\n",
       "      <td>NaN</td>\n",
       "      <td>NaN</td>\n",
       "    </tr>\n",
       "    <tr>\n",
       "      <th>...</th>\n",
       "      <td>...</td>\n",
       "      <td>...</td>\n",
       "      <td>...</td>\n",
       "      <td>...</td>\n",
       "      <td>...</td>\n",
       "      <td>...</td>\n",
       "      <td>...</td>\n",
       "      <td>...</td>\n",
       "      <td>...</td>\n",
       "      <td>...</td>\n",
       "      <td>...</td>\n",
       "    </tr>\n",
       "    <tr>\n",
       "      <th>1073871|519536|796634</th>\n",
       "      <td>NaN</td>\n",
       "      <td>NaN</td>\n",
       "      <td>NaN</td>\n",
       "      <td>NaN</td>\n",
       "      <td>NaN</td>\n",
       "      <td>NaN</td>\n",
       "      <td>NaN</td>\n",
       "      <td>NaN</td>\n",
       "      <td>NaN</td>\n",
       "      <td>NaN</td>\n",
       "      <td>NaN</td>\n",
       "    </tr>\n",
       "    <tr>\n",
       "      <th>1140297|517940|794266</th>\n",
       "      <td>NaN</td>\n",
       "      <td>NaN</td>\n",
       "      <td>NaN</td>\n",
       "      <td>NaN</td>\n",
       "      <td>NaN</td>\n",
       "      <td>NaN</td>\n",
       "      <td>NaN</td>\n",
       "      <td>NaN</td>\n",
       "      <td>NaN</td>\n",
       "      <td>NaN</td>\n",
       "      <td>NaN</td>\n",
       "    </tr>\n",
       "    <tr>\n",
       "      <th>804963|417846|665702</th>\n",
       "      <td>NaN</td>\n",
       "      <td>NaN</td>\n",
       "      <td>NaN</td>\n",
       "      <td>NaN</td>\n",
       "      <td>NaN</td>\n",
       "      <td>NaN</td>\n",
       "      <td>NaN</td>\n",
       "      <td>NaN</td>\n",
       "      <td>NaN</td>\n",
       "      <td>NaN</td>\n",
       "      <td>NaN</td>\n",
       "    </tr>\n",
       "    <tr>\n",
       "      <th>1011845|497324|763723</th>\n",
       "      <td>NaN</td>\n",
       "      <td>NaN</td>\n",
       "      <td>NaN</td>\n",
       "      <td>NaN</td>\n",
       "      <td>NaN</td>\n",
       "      <td>NaN</td>\n",
       "      <td>NaN</td>\n",
       "      <td>NaN</td>\n",
       "      <td>NaN</td>\n",
       "      <td>NaN</td>\n",
       "      <td>NaN</td>\n",
       "    </tr>\n",
       "    <tr>\n",
       "      <th>960264|465422|714996</th>\n",
       "      <td>NaN</td>\n",
       "      <td>NaN</td>\n",
       "      <td>NaN</td>\n",
       "      <td>NaN</td>\n",
       "      <td>NaN</td>\n",
       "      <td>NaN</td>\n",
       "      <td>NaN</td>\n",
       "      <td>NaN</td>\n",
       "      <td>NaN</td>\n",
       "      <td>NaN</td>\n",
       "      <td>NaN</td>\n",
       "    </tr>\n",
       "  </tbody>\n",
       "</table>\n",
       "<p>73 rows × 11 columns</p>\n",
       "</div>"
      ],
      "text/plain": [
       "                      Assessment Decision - Qualified Release Offer  \\\n",
       "786367|405984|629695                              NaN           NaN   \n",
       "1006948|421760|653240                             NaN           NaN   \n",
       "1056808|409506|733846                             NaN           NaN   \n",
       "1024762|559237|855622                             NaN           NaN   \n",
       "999931|334099|523071                              NaN           NaN   \n",
       "...                                               ...           ...   \n",
       "1073871|519536|796634                             NaN           NaN   \n",
       "1140297|517940|794266                             NaN           NaN   \n",
       "804963|417846|665702                              NaN           NaN   \n",
       "1011845|497324|763723                             NaN           NaN   \n",
       "960264|465422|714996                              NaN           NaN   \n",
       "\n",
       "                      AR - Satisfied - Further information (1)  \\\n",
       "786367|405984|629695                                       NaN   \n",
       "1006948|421760|653240                                      NaN   \n",
       "1056808|409506|733846                                      NaN   \n",
       "1024762|559237|855622                                      NaN   \n",
       "999931|334099|523071                                       NaN   \n",
       "...                                                        ...   \n",
       "1073871|519536|796634                                      NaN   \n",
       "1140297|517940|794266                                      NaN   \n",
       "804963|417846|665702                                       NaN   \n",
       "1011845|497324|763723                                      NaN   \n",
       "960264|465422|714996                                       NaN   \n",
       "\n",
       "                      Assessment Decision - No Decision  \\\n",
       "786367|405984|629695                                NaN   \n",
       "1006948|421760|653240                               NaN   \n",
       "1056808|409506|733846                               NaN   \n",
       "1024762|559237|855622                               NaN   \n",
       "999931|334099|523071                                NaN   \n",
       "...                                                 ...   \n",
       "1073871|519536|796634                               NaN   \n",
       "1140297|517940|794266                               NaN   \n",
       "804963|417846|665702                                NaN   \n",
       "1011845|497324|763723                               NaN   \n",
       "960264|465422|714996                                NaN   \n",
       "\n",
       "                      AR - Satisfied - Academic results for prior tertiary studies  \\\n",
       "786367|405984|629695                                                 NaN             \n",
       "1006948|421760|653240                                                NaN             \n",
       "1056808|409506|733846                                                NaN             \n",
       "1024762|559237|855622                                                NaN             \n",
       "999931|334099|523071                                                 NaN             \n",
       "...                                                                  ...             \n",
       "1073871|519536|796634                                                NaN             \n",
       "1140297|517940|794266                                                NaN             \n",
       "804963|417846|665702                                                 NaN             \n",
       "1011845|497324|763723                                                NaN             \n",
       "960264|465422|714996                                                 NaN             \n",
       "\n",
       "                      OC - Created - Evidence of course completion  \\\n",
       "786367|405984|629695                                           NaN   \n",
       "1006948|421760|653240                                          NaN   \n",
       "1056808|409506|733846                                          NaN   \n",
       "1024762|559237|855622                                          NaN   \n",
       "999931|334099|523071                                           NaN   \n",
       "...                                                            ...   \n",
       "1073871|519536|796634                                          NaN   \n",
       "1140297|517940|794266                                          NaN   \n",
       "804963|417846|665702                                           NaN   \n",
       "1011845|497324|763723                                          NaN   \n",
       "960264|465422|714996                                           NaN   \n",
       "\n",
       "                      Send for Assessment  \\\n",
       "786367|405984|629695                  NaN   \n",
       "1006948|421760|653240                 NaN   \n",
       "1056808|409506|733846                 NaN   \n",
       "1024762|559237|855622                 NaN   \n",
       "999931|334099|523071                  NaN   \n",
       "...                                   ...   \n",
       "1073871|519536|796634                 NaN   \n",
       "1140297|517940|794266                 NaN   \n",
       "804963|417846|665702                  NaN   \n",
       "1011845|497324|763723                 NaN   \n",
       "960264|465422|714996                  NaN   \n",
       "\n",
       "                      AR - Satisfied - Credit for previous study Create Offer  \\\n",
       "786367|405984|629695                                         NaN          NaN   \n",
       "1006948|421760|653240                                        NaN          NaN   \n",
       "1056808|409506|733846                                        NaN          NaN   \n",
       "1024762|559237|855622                                        NaN          NaN   \n",
       "999931|334099|523071                                         NaN          NaN   \n",
       "...                                                          ...          ...   \n",
       "1073871|519536|796634                                        NaN          NaN   \n",
       "1140297|517940|794266                                        NaN          NaN   \n",
       "804963|417846|665702                                         NaN          NaN   \n",
       "1011845|497324|763723                                        NaN          NaN   \n",
       "960264|465422|714996                                         NaN          NaN   \n",
       "\n",
       "                      OC - Created - English language requirements  \\\n",
       "786367|405984|629695                                           NaN   \n",
       "1006948|421760|653240                                          NaN   \n",
       "1056808|409506|733846                                          NaN   \n",
       "1024762|559237|855622                                          NaN   \n",
       "999931|334099|523071                                           NaN   \n",
       "...                                                            ...   \n",
       "1073871|519536|796634                                          NaN   \n",
       "1140297|517940|794266                                          NaN   \n",
       "804963|417846|665702                                           NaN   \n",
       "1011845|497324|763723                                          NaN   \n",
       "960264|465422|714996                                           NaN   \n",
       "\n",
       "                      Assessment Outcome - Successful  \n",
       "786367|405984|629695                              NaN  \n",
       "1006948|421760|653240                             NaN  \n",
       "1056808|409506|733846                             NaN  \n",
       "1024762|559237|855622                             NaN  \n",
       "999931|334099|523071                              NaN  \n",
       "...                                               ...  \n",
       "1073871|519536|796634                             NaN  \n",
       "1140297|517940|794266                             NaN  \n",
       "804963|417846|665702                              NaN  \n",
       "1011845|497324|763723                             NaN  \n",
       "960264|465422|714996                              NaN  \n",
       "\n",
       "[73 rows x 11 columns]"
      ]
     },
     "execution_count": 6,
     "metadata": {},
     "output_type": "execute_result"
    }
   ],
   "source": [
    "#create dataframe columns->unique_WRKFLW_TSK_MAP_DETAILED row->unique_ID\n",
    "df = pd.DataFrame(columns = unique_WRKFLW_TSK_MAP_DETAILED_list, index = unique_ID_list )\n",
    "df"
   ]
  },
  {
   "cell_type": "code",
   "execution_count": 7,
   "metadata": {
    "pycharm": {
     "name": "#%%\n"
    }
   },
   "outputs": [
    {
     "data": {
      "text/plain": [
       "73"
      ]
     },
     "execution_count": 7,
     "metadata": {},
     "output_type": "execute_result"
    }
   ],
   "source": [
    "#sotre id as key and workflow detail of the id as value into dictionary\n",
    "from collections import defaultdict\n",
    "ID_WRKFLW_dict = defaultdict(list)\n",
    "for i, j in zip(df3_WS1T.CASE_ID,df3_WS1T.WRKFLW_TSK_MAP_DETAILED):\n",
    "    ID_WRKFLW_dict[i].append(j)\n",
    "len(ID_WRKFLW_dict)"
   ]
  },
  {
   "cell_type": "code",
   "execution_count": 8,
   "metadata": {
    "pycharm": {
     "name": "#%%\n"
    }
   },
   "outputs": [
    {
     "data": {
      "text/html": [
       "<div>\n",
       "<style scoped>\n",
       "    .dataframe tbody tr th:only-of-type {\n",
       "        vertical-align: middle;\n",
       "    }\n",
       "\n",
       "    .dataframe tbody tr th {\n",
       "        vertical-align: top;\n",
       "    }\n",
       "\n",
       "    .dataframe thead th {\n",
       "        text-align: right;\n",
       "    }\n",
       "</style>\n",
       "<table border=\"1\" class=\"dataframe\">\n",
       "  <thead>\n",
       "    <tr style=\"text-align: right;\">\n",
       "      <th></th>\n",
       "      <th>Assessment Decision - Qualified</th>\n",
       "      <th>Release Offer</th>\n",
       "      <th>AR - Satisfied - Further information (1)</th>\n",
       "      <th>Assessment Decision - No Decision</th>\n",
       "      <th>AR - Satisfied - Academic results for prior tertiary studies</th>\n",
       "      <th>OC - Created - Evidence of course completion</th>\n",
       "      <th>Send for Assessment</th>\n",
       "      <th>AR - Satisfied - Credit for previous study</th>\n",
       "      <th>Create Offer</th>\n",
       "      <th>OC - Created - English language requirements</th>\n",
       "      <th>Assessment Outcome - Successful</th>\n",
       "    </tr>\n",
       "  </thead>\n",
       "  <tbody>\n",
       "    <tr>\n",
       "      <th>786367|405984|629695</th>\n",
       "      <td>0</td>\n",
       "      <td>1</td>\n",
       "      <td>0</td>\n",
       "      <td>0</td>\n",
       "      <td>0</td>\n",
       "      <td>0</td>\n",
       "      <td>0</td>\n",
       "      <td>0</td>\n",
       "      <td>0</td>\n",
       "      <td>0</td>\n",
       "      <td>1</td>\n",
       "    </tr>\n",
       "    <tr>\n",
       "      <th>1006948|421760|653240</th>\n",
       "      <td>0</td>\n",
       "      <td>1</td>\n",
       "      <td>0</td>\n",
       "      <td>0</td>\n",
       "      <td>0</td>\n",
       "      <td>0</td>\n",
       "      <td>0</td>\n",
       "      <td>0</td>\n",
       "      <td>0</td>\n",
       "      <td>0</td>\n",
       "      <td>1</td>\n",
       "    </tr>\n",
       "    <tr>\n",
       "      <th>1056808|409506|733846</th>\n",
       "      <td>0</td>\n",
       "      <td>1</td>\n",
       "      <td>0</td>\n",
       "      <td>0</td>\n",
       "      <td>0</td>\n",
       "      <td>0</td>\n",
       "      <td>0</td>\n",
       "      <td>0</td>\n",
       "      <td>0</td>\n",
       "      <td>0</td>\n",
       "      <td>1</td>\n",
       "    </tr>\n",
       "    <tr>\n",
       "      <th>1024762|559237|855622</th>\n",
       "      <td>0</td>\n",
       "      <td>1</td>\n",
       "      <td>0</td>\n",
       "      <td>0</td>\n",
       "      <td>0</td>\n",
       "      <td>0</td>\n",
       "      <td>0</td>\n",
       "      <td>0</td>\n",
       "      <td>1</td>\n",
       "      <td>0</td>\n",
       "      <td>1</td>\n",
       "    </tr>\n",
       "    <tr>\n",
       "      <th>999931|334099|523071</th>\n",
       "      <td>0</td>\n",
       "      <td>1</td>\n",
       "      <td>0</td>\n",
       "      <td>0</td>\n",
       "      <td>0</td>\n",
       "      <td>0</td>\n",
       "      <td>0</td>\n",
       "      <td>0</td>\n",
       "      <td>1</td>\n",
       "      <td>0</td>\n",
       "      <td>1</td>\n",
       "    </tr>\n",
       "    <tr>\n",
       "      <th>...</th>\n",
       "      <td>...</td>\n",
       "      <td>...</td>\n",
       "      <td>...</td>\n",
       "      <td>...</td>\n",
       "      <td>...</td>\n",
       "      <td>...</td>\n",
       "      <td>...</td>\n",
       "      <td>...</td>\n",
       "      <td>...</td>\n",
       "      <td>...</td>\n",
       "      <td>...</td>\n",
       "    </tr>\n",
       "    <tr>\n",
       "      <th>1073871|519536|796634</th>\n",
       "      <td>0</td>\n",
       "      <td>1</td>\n",
       "      <td>0</td>\n",
       "      <td>0</td>\n",
       "      <td>0</td>\n",
       "      <td>0</td>\n",
       "      <td>0</td>\n",
       "      <td>0</td>\n",
       "      <td>1</td>\n",
       "      <td>0</td>\n",
       "      <td>1</td>\n",
       "    </tr>\n",
       "    <tr>\n",
       "      <th>1140297|517940|794266</th>\n",
       "      <td>0</td>\n",
       "      <td>1</td>\n",
       "      <td>0</td>\n",
       "      <td>0</td>\n",
       "      <td>0</td>\n",
       "      <td>0</td>\n",
       "      <td>0</td>\n",
       "      <td>0</td>\n",
       "      <td>0</td>\n",
       "      <td>0</td>\n",
       "      <td>1</td>\n",
       "    </tr>\n",
       "    <tr>\n",
       "      <th>804963|417846|665702</th>\n",
       "      <td>0</td>\n",
       "      <td>1</td>\n",
       "      <td>0</td>\n",
       "      <td>0</td>\n",
       "      <td>0</td>\n",
       "      <td>0</td>\n",
       "      <td>0</td>\n",
       "      <td>0</td>\n",
       "      <td>0</td>\n",
       "      <td>0</td>\n",
       "      <td>1</td>\n",
       "    </tr>\n",
       "    <tr>\n",
       "      <th>1011845|497324|763723</th>\n",
       "      <td>0</td>\n",
       "      <td>1</td>\n",
       "      <td>0</td>\n",
       "      <td>0</td>\n",
       "      <td>0</td>\n",
       "      <td>0</td>\n",
       "      <td>0</td>\n",
       "      <td>0</td>\n",
       "      <td>1</td>\n",
       "      <td>0</td>\n",
       "      <td>1</td>\n",
       "    </tr>\n",
       "    <tr>\n",
       "      <th>960264|465422|714996</th>\n",
       "      <td>0</td>\n",
       "      <td>1</td>\n",
       "      <td>0</td>\n",
       "      <td>1</td>\n",
       "      <td>0</td>\n",
       "      <td>1</td>\n",
       "      <td>0</td>\n",
       "      <td>0</td>\n",
       "      <td>1</td>\n",
       "      <td>0</td>\n",
       "      <td>1</td>\n",
       "    </tr>\n",
       "  </tbody>\n",
       "</table>\n",
       "<p>73 rows × 11 columns</p>\n",
       "</div>"
      ],
      "text/plain": [
       "                       Assessment Decision - Qualified  Release Offer  \\\n",
       "786367|405984|629695                                 0              1   \n",
       "1006948|421760|653240                                0              1   \n",
       "1056808|409506|733846                                0              1   \n",
       "1024762|559237|855622                                0              1   \n",
       "999931|334099|523071                                 0              1   \n",
       "...                                                ...            ...   \n",
       "1073871|519536|796634                                0              1   \n",
       "1140297|517940|794266                                0              1   \n",
       "804963|417846|665702                                 0              1   \n",
       "1011845|497324|763723                                0              1   \n",
       "960264|465422|714996                                 0              1   \n",
       "\n",
       "                       AR - Satisfied - Further information (1)  \\\n",
       "786367|405984|629695                                          0   \n",
       "1006948|421760|653240                                         0   \n",
       "1056808|409506|733846                                         0   \n",
       "1024762|559237|855622                                         0   \n",
       "999931|334099|523071                                          0   \n",
       "...                                                         ...   \n",
       "1073871|519536|796634                                         0   \n",
       "1140297|517940|794266                                         0   \n",
       "804963|417846|665702                                          0   \n",
       "1011845|497324|763723                                         0   \n",
       "960264|465422|714996                                          0   \n",
       "\n",
       "                       Assessment Decision - No Decision  \\\n",
       "786367|405984|629695                                   0   \n",
       "1006948|421760|653240                                  0   \n",
       "1056808|409506|733846                                  0   \n",
       "1024762|559237|855622                                  0   \n",
       "999931|334099|523071                                   0   \n",
       "...                                                  ...   \n",
       "1073871|519536|796634                                  0   \n",
       "1140297|517940|794266                                  0   \n",
       "804963|417846|665702                                   0   \n",
       "1011845|497324|763723                                  0   \n",
       "960264|465422|714996                                   1   \n",
       "\n",
       "                       AR - Satisfied - Academic results for prior tertiary studies  \\\n",
       "786367|405984|629695                                                   0              \n",
       "1006948|421760|653240                                                  0              \n",
       "1056808|409506|733846                                                  0              \n",
       "1024762|559237|855622                                                  0              \n",
       "999931|334099|523071                                                   0              \n",
       "...                                                                  ...              \n",
       "1073871|519536|796634                                                  0              \n",
       "1140297|517940|794266                                                  0              \n",
       "804963|417846|665702                                                   0              \n",
       "1011845|497324|763723                                                  0              \n",
       "960264|465422|714996                                                   0              \n",
       "\n",
       "                       OC - Created - Evidence of course completion  \\\n",
       "786367|405984|629695                                              0   \n",
       "1006948|421760|653240                                             0   \n",
       "1056808|409506|733846                                             0   \n",
       "1024762|559237|855622                                             0   \n",
       "999931|334099|523071                                              0   \n",
       "...                                                             ...   \n",
       "1073871|519536|796634                                             0   \n",
       "1140297|517940|794266                                             0   \n",
       "804963|417846|665702                                              0   \n",
       "1011845|497324|763723                                             0   \n",
       "960264|465422|714996                                              1   \n",
       "\n",
       "                       Send for Assessment  \\\n",
       "786367|405984|629695                     0   \n",
       "1006948|421760|653240                    0   \n",
       "1056808|409506|733846                    0   \n",
       "1024762|559237|855622                    0   \n",
       "999931|334099|523071                     0   \n",
       "...                                    ...   \n",
       "1073871|519536|796634                    0   \n",
       "1140297|517940|794266                    0   \n",
       "804963|417846|665702                     0   \n",
       "1011845|497324|763723                    0   \n",
       "960264|465422|714996                     0   \n",
       "\n",
       "                       AR - Satisfied - Credit for previous study  \\\n",
       "786367|405984|629695                                            0   \n",
       "1006948|421760|653240                                           0   \n",
       "1056808|409506|733846                                           0   \n",
       "1024762|559237|855622                                           0   \n",
       "999931|334099|523071                                            0   \n",
       "...                                                           ...   \n",
       "1073871|519536|796634                                           0   \n",
       "1140297|517940|794266                                           0   \n",
       "804963|417846|665702                                            0   \n",
       "1011845|497324|763723                                           0   \n",
       "960264|465422|714996                                            0   \n",
       "\n",
       "                       Create Offer  \\\n",
       "786367|405984|629695              0   \n",
       "1006948|421760|653240             0   \n",
       "1056808|409506|733846             0   \n",
       "1024762|559237|855622             1   \n",
       "999931|334099|523071              1   \n",
       "...                             ...   \n",
       "1073871|519536|796634             1   \n",
       "1140297|517940|794266             0   \n",
       "804963|417846|665702              0   \n",
       "1011845|497324|763723             1   \n",
       "960264|465422|714996              1   \n",
       "\n",
       "                       OC - Created - English language requirements  \\\n",
       "786367|405984|629695                                              0   \n",
       "1006948|421760|653240                                             0   \n",
       "1056808|409506|733846                                             0   \n",
       "1024762|559237|855622                                             0   \n",
       "999931|334099|523071                                              0   \n",
       "...                                                             ...   \n",
       "1073871|519536|796634                                             0   \n",
       "1140297|517940|794266                                             0   \n",
       "804963|417846|665702                                              0   \n",
       "1011845|497324|763723                                             0   \n",
       "960264|465422|714996                                              0   \n",
       "\n",
       "                       Assessment Outcome - Successful  \n",
       "786367|405984|629695                                 1  \n",
       "1006948|421760|653240                                1  \n",
       "1056808|409506|733846                                1  \n",
       "1024762|559237|855622                                1  \n",
       "999931|334099|523071                                 1  \n",
       "...                                                ...  \n",
       "1073871|519536|796634                                1  \n",
       "1140297|517940|794266                                1  \n",
       "804963|417846|665702                                 1  \n",
       "1011845|497324|763723                                1  \n",
       "960264|465422|714996                                 1  \n",
       "\n",
       "[73 rows x 11 columns]"
      ]
     },
     "execution_count": 8,
     "metadata": {},
     "output_type": "execute_result"
    }
   ],
   "source": [
    "#change the value\n",
    "for key in ID_WRKFLW_dict.keys():\n",
    "    for process in ID_WRKFLW_dict[key]:\n",
    "            df.loc[key, process] = 1\n",
    "zero_one_table = df.fillna(0)\n",
    "zero_one_table"
   ]
  },
  {
   "cell_type": "code",
   "execution_count": 9,
   "metadata": {
    "pycharm": {
     "name": "#%%\n"
    }
   },
   "outputs": [
    {
     "name": "stdout",
     "output_type": "stream",
     "text": [
      "11\n",
      "10\n"
     ]
    }
   ],
   "source": [
    "# Import train_test_split function\n",
    "from sklearn.model_selection import train_test_split\n",
    "\n",
    "features= list(unique_WRKFLW_TSK_MAP_DETAILED_list)\n",
    "print(len(features))\n",
    "features.remove('Release Offer')\n",
    "print(len(features))\n",
    "\n",
    "X=zero_one_table[features]\n",
    "y=zero_one_table ['Release Offer'] # Labels\n",
    "# Split dataset into training set and test set\n",
    "X_train, X_test, y_train, y_test = train_test_split(X, y, random_state=0) # 70% training and 30% test"
   ]
  },
  {
   "cell_type": "code",
   "execution_count": 10,
   "metadata": {
    "pycharm": {
     "name": "#%%\n"
    }
   },
   "outputs": [],
   "source": [
    "from sklearn.tree import DecisionTreeClassifier\n",
    "clf = DecisionTreeClassifier(max_depth = 5,\n",
    "                             random_state = 0)\n",
    "clf.fit(X_train, y_train)\n",
    "clf_pred = clf.predict(X_test)"
   ]
  },
  {
   "cell_type": "code",
   "execution_count": 11,
   "metadata": {},
   "outputs": [],
   "source": [
    "from sklearn import metrics\n",
    "from sklearn.metrics import classification_report\n",
    "from sklearn.metrics import confusion_matrix"
   ]
  },
  {
   "cell_type": "code",
   "execution_count": 12,
   "metadata": {},
   "outputs": [
    {
     "name": "stdout",
     "output_type": "stream",
     "text": [
      "[[ 1  0]\n",
      " [ 1 17]]\n",
      "              precision    recall  f1-score   support\n",
      "\n",
      "           0       0.50      1.00      0.67         1\n",
      "           1       1.00      0.94      0.97        18\n",
      "\n",
      "    accuracy                           0.95        19\n",
      "   macro avg       0.75      0.97      0.82        19\n",
      "weighted avg       0.97      0.95      0.96        19\n",
      "\n"
     ]
    }
   ],
   "source": [
    "print(confusion_matrix(y_test, clf_pred))\n",
    "print(classification_report(y_test, clf_pred))"
   ]
  },
  {
   "cell_type": "code",
   "execution_count": 13,
   "metadata": {
    "pycharm": {
     "name": "#%%\n"
    }
   },
   "outputs": [],
   "source": [
    "# DOT data\n",
    "from IPython.display import Image\n",
    "from sklearn import tree\n",
    "import pydotplus\n",
    "fn=features\n",
    "cn=['0', '1']\n",
    "# Create DOT data\n",
    "dot_data = tree.export_graphviz(clf, out_file=None,\n",
    "                                feature_names=fn,\n",
    "                                class_names=cn,filled = True)\n",
    "\n",
    "# Draw graph\n",
    "graph = pydotplus.graph_from_dot_data(dot_data)"
   ]
  },
  {
   "cell_type": "code",
   "execution_count": 14,
   "metadata": {
    "pycharm": {
     "name": "#%%\n"
    }
   },
   "outputs": [
    {
     "data": {
      "image/png": "[encoded data removed]",
      "text/plain": [
       "<IPython.core.display.Image object>"
      ]
     },
     "execution_count": 14,
     "metadata": {},
     "output_type": "execute_result"
    }
   ],
   "source": [
    "# Show graph\n",
    "Image(graph.create_png())"
   ]
  },
  {
   "cell_type": "code",
   "execution_count": 15,
   "metadata": {
    "pycharm": {
     "name": "#%%\n"
    }
   },
   "outputs": [
    {
     "data": {
      "text/plain": [
       "True"
      ]
     },
     "execution_count": 15,
     "metadata": {},
     "output_type": "execute_result"
    }
   ],
   "source": [
    "# Create PNG\n",
    "graph.write_png(\"engineering_OF_segment1_workflowS3_decisiontree.png\")\n",
    "\n",
    "\n",
    "\n",
    "\n",
    "\n"
   ]
  },
  {
   "cell_type": "code",
   "execution_count": 16,
   "metadata": {},
   "outputs": [
    {
     "data": {
      "text/plain": [
       "1    71\n",
       "0     2\n",
       "Name: Release Offer, dtype: int64"
      ]
     },
     "execution_count": 16,
     "metadata": {},
     "output_type": "execute_result"
    }
   ],
   "source": [
    "zero_one_table['Release Offer'].value_counts()"
   ]
  },
  {
   "cell_type": "code",
   "execution_count": 17,
   "metadata": {},
   "outputs": [
    {
     "data": {
      "text/plain": [
       "1    2\n",
       "0    2\n",
       "Name: Release Offer, dtype: int64"
      ]
     },
     "execution_count": 17,
     "metadata": {},
     "output_type": "execute_result"
    }
   ],
   "source": [
    "from sklearn.utils import resample\n",
    "\n",
    "# Separate majority and minority classes\n",
    "zero_one_table_majority = df[zero_one_table['Release Offer']==1]\n",
    "zero_one_table_minority = df[zero_one_table['Release Offer']==0]\n",
    "\n",
    "# Upsample minority class\n",
    "df_majority_downsampled = resample(zero_one_table_majority,\n",
    "                                 replace=False,     # sample with replacement\n",
    "                                 n_samples=2,    # to match majority class\n",
    "                                 random_state=123) # reproducible results\n",
    "\n",
    "# Combine majority class with upsampled minority class\n",
    "df_downsampled = pd.concat([zero_one_table_minority, df_majority_downsampled])\n",
    "\n",
    "# Display new class counts\n",
    "df_downsampled = df_downsampled.fillna(0)\n",
    "df_downsampled['Release Offer'].value_counts()"
   ]
  },
  {
   "cell_type": "code",
   "execution_count": 18,
   "metadata": {},
   "outputs": [],
   "source": [
    "# Import train_test_split function\n",
    "from sklearn.model_selection import train_test_split\n",
    "\n",
    "X=df_downsampled[features]\n",
    "y=df_downsampled ['Release Offer'] # Labels\n",
    "# Split dataset into training set and test set\n",
    "X_train, X_test, y_train, y_test = train_test_split(X, y, random_state=0) # 70% training and 30% test"
   ]
  },
  {
   "cell_type": "code",
   "execution_count": 19,
   "metadata": {},
   "outputs": [
    {
     "name": "stdout",
     "output_type": "stream",
     "text": [
      "Accuracy: 1.0\n"
     ]
    }
   ],
   "source": [
    "from sklearn.tree import DecisionTreeClassifier\n",
    "clf = DecisionTreeClassifier(max_depth = 8,\n",
    "                             random_state = 0)\n",
    "clf.fit(X_train, y_train)\n",
    "y_pred=clf.predict(X_test)\n",
    "print(\"Accuracy:\",metrics.accuracy_score(y_test, y_pred))"
   ]
  },
  {
   "cell_type": "code",
   "execution_count": 20,
   "metadata": {},
   "outputs": [
    {
     "name": "stdout",
     "output_type": "stream",
     "text": [
      "[[1]]\n",
      "              precision    recall  f1-score   support\n",
      "\n",
      "           1       1.00      1.00      1.00         1\n",
      "\n",
      "    accuracy                           1.00         1\n",
      "   macro avg       1.00      1.00      1.00         1\n",
      "weighted avg       1.00      1.00      1.00         1\n",
      "\n"
     ]
    }
   ],
   "source": [
    "print(confusion_matrix(y_test, y_pred))\n",
    "print(classification_report(y_test, y_pred))"
   ]
  },
  {
   "cell_type": "code",
   "execution_count": 21,
   "metadata": {},
   "outputs": [],
   "source": [
    "# DOT data\n",
    "from IPython.display import Image\n",
    "from sklearn import tree\n",
    "import pydotplus\n",
    "fn=features\n",
    "cn=['0', '1']\n",
    "# Create DOT data\n",
    "dot_data = tree.export_graphviz(clf, out_file=None,\n",
    "                                feature_names=fn,\n",
    "                                class_names=cn,filled = True)\n",
    "\n",
    "# Draw graph\n",
    "graph = pydotplus.graph_from_dot_data(dot_data)"
   ]
  },
  {
   "cell_type": "code",
   "execution_count": 22,
   "metadata": {},
   "outputs": [
    {
     "data": {
      "image/png": "[encoded data removed]",
      "text/plain": [
       "<IPython.core.display.Image object>"
      ]
     },
     "execution_count": 22,
     "metadata": {},
     "output_type": "execute_result"
    }
   ],
   "source": [
    "# Show graph\n",
    "Image(graph.create_png())"
   ]
  },
  {
   "cell_type": "code",
   "execution_count": 23,
   "metadata": {},
   "outputs": [
    {
     "data": {
      "text/plain": [
       "True"
      ]
     },
     "execution_count": 23,
     "metadata": {},
     "output_type": "execute_result"
    }
   ],
   "source": [
    "# Create PNG\n",
    "graph.write_png(\"engineering_OF_segment1_workflowS3_decisiontree_downsampled.png\")"
   ]
  },
  {
   "cell_type": "code",
   "execution_count": null,
   "metadata": {},
   "outputs": [],
   "source": []
  }
 ],
 "metadata": {
  "kernelspec": {
   "display_name": "Python 3",
   "language": "python",
   "name": "python3"
  },
  "language_info": {
   "codemirror_mode": {
    "name": "ipython",
    "version": 3
   },
   "file_extension": ".py",
   "mimetype": "text/x-python",
   "name": "python",
   "nbconvert_exporter": "python",
   "pygments_lexer": "ipython3",
   "version": "3.8.3"
  }
 },
 "nbformat": 4,
 "nbformat_minor": 1
}
