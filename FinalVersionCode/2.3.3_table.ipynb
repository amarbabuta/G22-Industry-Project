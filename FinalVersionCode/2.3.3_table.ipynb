{
 "cells": [
  {
   "cell_type": "code",
   "execution_count": 1,
   "metadata": {
    "collapsed": true
   },
   "outputs": [],
   "source": [
    "import pandas as pd\n",
    "import numpy\n",
    "from __future__ import division"
   ]
  },
  {
   "cell_type": "code",
   "execution_count": 2,
   "outputs": [],
   "source": [
    "df3_WS3T = pd.read_csv(\"/Users/asteriag/Desktop/DATASCIENCEPROJECT_WORKFLOW/TimeStamp_Engineering/engineering_AF_segment3_workflowS3_has_duration.csv\",engine='python')"
   ],
   "metadata": {
    "collapsed": false,
    "pycharm": {
     "name": "#%%\n"
    }
   }
  },
  {
   "cell_type": "code",
   "execution_count": 3,
   "outputs": [
    {
     "data": {
      "text/plain": "                 CASE_ID           WRKFLW_TSK_MAP_GROUPED  \\\n0  1076747|438001|677047  Assessment Outcome - Successful   \n\n           WRKFLW_TSK_MAP_DETAILED     PATH_CRDATETIME  \\\n0  Assessment Outcome - Successful  15/1/2019 16:46:30   \n\n                         time_used_str  time_used_second  \n0  0 days 0 hours 0 minutes 13 seconds              13.0  ",
      "text/html": "<div>\n<style scoped>\n    .dataframe tbody tr th:only-of-type {\n        vertical-align: middle;\n    }\n\n    .dataframe tbody tr th {\n        vertical-align: top;\n    }\n\n    .dataframe thead th {\n        text-align: right;\n    }\n</style>\n<table border=\"1\" class=\"dataframe\">\n  <thead>\n    <tr style=\"text-align: right;\">\n      <th></th>\n      <th>CASE_ID</th>\n      <th>WRKFLW_TSK_MAP_GROUPED</th>\n      <th>WRKFLW_TSK_MAP_DETAILED</th>\n      <th>PATH_CRDATETIME</th>\n      <th>time_used_str</th>\n      <th>time_used_second</th>\n    </tr>\n  </thead>\n  <tbody>\n    <tr>\n      <th>0</th>\n      <td>1076747|438001|677047</td>\n      <td>Assessment Outcome - Successful</td>\n      <td>Assessment Outcome - Successful</td>\n      <td>15/1/2019 16:46:30</td>\n      <td>0 days 0 hours 0 minutes 13 seconds</td>\n      <td>13.0</td>\n    </tr>\n  </tbody>\n</table>\n</div>"
     },
     "execution_count": 3,
     "metadata": {},
     "output_type": "execute_result"
    }
   ],
   "source": [
    "df3_WS3T.head(n=1)"
   ],
   "metadata": {
    "collapsed": false,
    "pycharm": {
     "name": "#%%\n"
    }
   }
  },
  {
   "cell_type": "code",
   "execution_count": 4,
   "outputs": [
    {
     "data": {
      "text/plain": "15"
     },
     "execution_count": 4,
     "metadata": {},
     "output_type": "execute_result"
    }
   ],
   "source": [
    "df3_WS3T['WRKFLW_TSK_MAP_GROUPED'].nunique()"
   ],
   "metadata": {
    "collapsed": false,
    "pycharm": {
     "name": "#%%\n"
    }
   }
  },
  {
   "cell_type": "code",
   "execution_count": 5,
   "outputs": [
    {
     "data": {
      "text/plain": "16"
     },
     "execution_count": 5,
     "metadata": {},
     "output_type": "execute_result"
    }
   ],
   "source": [
    "df3_WS3T['WRKFLW_TSK_MAP_DETAILED'].nunique()"
   ],
   "metadata": {
    "collapsed": false,
    "pycharm": {
     "name": "#%%\n"
    }
   }
  },
  {
   "cell_type": "code",
   "execution_count": 6,
   "outputs": [
    {
     "name": "stdout",
     "output_type": "stream",
     "text": [
      "[('Assessment Outcome - Successful', 245), ('Create Offer', 241), ('Release Offer', 240), ('OC - Created - Evidence of course completion', 22), ('Assessment Decision - Qualified', 8), ('OC - Created - English language requirements', 6), ('AR - Satisfied - English language proficiency', 2), ('Release Assessment Hold', 2), ('AR - Satisfied - Curriculum Vitae', 1), ('AR - Satisfied - English language requirements', 1), ('AR - Satisfied - Further information (1)', 1), ('Assessment Outcome - Higher Preference Successful', 1), ('OC - Created - Further information (1)', 1), ('OC - Satisfied - English language requirements', 1), ('Put Assessment On-Hold', 1), ('Unsuccessful', 1)]\n"
     ]
    }
   ],
   "source": [
    "wd_count = df3_WS3T.groupby('WRKFLW_TSK_MAP_DETAILED').WRKFLW_TSK_MAP_DETAILED.count()\n",
    "wd_dict = dict()\n",
    "for i, v in wd_count.items():\n",
    "    wd_dict[i] = v\n",
    "sorted_wd_dict = sorted(wd_dict.items(), key = lambda x: x[1], reverse = True)\n",
    "print(sorted_wd_dict)"
   ],
   "metadata": {
    "collapsed": false,
    "pycharm": {
     "name": "#%%\n"
    }
   }
  },
  {
   "cell_type": "code",
   "execution_count": 7,
   "outputs": [
    {
     "name": "stdout",
     "output_type": "stream",
     "text": [
      "[('Put Assessment On-Hold', 324858.0), ('OC - Satisfied - English language requirements', 278803.0), ('Assessment Decision - Qualified', 117937.0), ('OC - Created - English language requirements', 88137.0), ('Create Offer', 31693.0), ('OC - Created - Further information (1)', 6158.0), ('AR - Satisfied - English language proficiency', 260.0), ('Release Assessment Hold', 158.0), ('OC - Created - Evidence of course completion', 104.0), ('AR - Satisfied - Further information (1)', 39.0), ('Assessment Outcome - Successful', 15.0), ('AR - Satisfied - English language requirements', 13.0), ('Assessment Outcome - Higher Preference Successful', 8.0), ('AR - Satisfied - Curriculum Vitae', 6.0), ('Release Offer', 0.0), ('Unsuccessful', 0.0)]\n"
     ]
    }
   ],
   "source": [
    "list = df3_WS3T.WRKFLW_TSK_MAP_DETAILED.unique()\n",
    "avg_time_dict = dict()\n",
    "for key in list :\n",
    "    df_slides = df3_WS3T[df3_WS3T['WRKFLW_TSK_MAP_DETAILED'] == key]\n",
    "    sum = df_slides['time_used_second'].sum()\n",
    "    c = len(df_slides)\n",
    "    avg = sum//c\n",
    "    avg_time_dict[key] = avg\n",
    "\n",
    "sorted_avg_time_dict = sorted(avg_time_dict.items(),key = lambda x: x[1], reverse = True)\n",
    "print(sorted_avg_time_dict)"
   ],
   "metadata": {
    "collapsed": false,
    "pycharm": {
     "name": "#%%\n"
    }
   }
  },
  {
   "cell_type": "code",
   "execution_count": 8,
   "outputs": [],
   "source": [
    "numOfWorkflowProcesses = df3_WS3T.groupby('CASE_ID').CASE_ID.count()\n",
    "\n",
    "count_dic=dict()\n",
    "for i,v in numOfWorkflowProcesses.items():\n",
    "    if count_dic.get(v) is None:\n",
    "        count_dic[v]=[]\n",
    "        count_dic[v].append(i)\n",
    "    else:\n",
    "        count_dic[v].append(i)\n",
    "#count_dic\n",
    "count_dic = dict(sorted(count_dic.items()))"
   ],
   "metadata": {
    "collapsed": false,
    "pycharm": {
     "name": "#%%\n"
    }
   }
  },
  {
   "cell_type": "code",
   "execution_count": 9,
   "outputs": [],
   "source": [
    "len_list=[]\n",
    "for key in count_dic.keys():\n",
    "    len_list.append(len(count_dic[key]))"
   ],
   "metadata": {
    "collapsed": false,
    "pycharm": {
     "name": "#%%\n"
    }
   }
  },
  {
   "cell_type": "code",
   "execution_count": 10,
   "outputs": [],
   "source": [
    "def strfdelta(tdelta, fmt):\n",
    "    d=dict()\n",
    "    d[\"days\"],rem1 = divmod(tdelta,60*60*24)\n",
    "    d[\"hours\"], rem2 = divmod(rem1, 3600)\n",
    "    d[\"minutes\"], d[\"seconds\"] = divmod(rem2, 60)\n",
    "    return fmt.format(**d)"
   ],
   "metadata": {
    "collapsed": false,
    "pycharm": {
     "name": "#%%\n"
    }
   }
  },
  {
   "cell_type": "code",
   "execution_count": 11,
   "outputs": [],
   "source": [
    "list_avgtime_per_key =[]\n",
    "list_sumtime_row = []\n",
    "for key in count_dic.keys():\n",
    "    id_list = count_dic[key]\n",
    "    list_sumtime_person = 0\n",
    "    for id in id_list:\n",
    "        df = df3_WS3T[df3_WS3T['CASE_ID']== id]\n",
    "        tsum = df['time_used_second'].sum()\n",
    "        list_sumtime_person+=tsum\n",
    "    list_avgtime_per_key.append(int((list_sumtime_person/len(count_dic[key]))))\n",
    "    list_sumtime_row.append(list_sumtime_person)\n",
    "list_avgtime_per_key_str = []\n",
    "for i in list_avgtime_per_key:\n",
    "    list_avgtime_per_key_str.append(strfdelta(i,\"{days} days {hours} hours {minutes} minutes {seconds} seconds\"))"
   ],
   "metadata": {
    "collapsed": false,
    "pycharm": {
     "name": "#%%\n"
    }
   }
  },
  {
   "cell_type": "code",
   "execution_count": 12,
   "outputs": [],
   "source": [
    "list_mediantime_per_key = []\n",
    "for key in count_dic.keys():\n",
    "    id_list = count_dic[key]\n",
    "    list_sumtime_per_person = []\n",
    "    for id in id_list:\n",
    "        df = df3_WS3T[df3_WS3T['CASE_ID']== id]\n",
    "        tsum = df['time_used_second'].sum()\n",
    "        list_sumtime_per_person.append(tsum)\n",
    "    list_mediantime_per_key.append(numpy.median(list_sumtime_per_person))\n",
    "\n",
    "list_mediantime_per_key_str = []\n",
    "for i in list_mediantime_per_key:\n",
    "    list_mediantime_per_key_str.append(strfdelta(i,\"{days} days {hours} hours {minutes} minutes {seconds} seconds\"))"
   ],
   "metadata": {
    "collapsed": false,
    "pycharm": {
     "name": "#%%\n"
    }
   }
  },
  {
   "cell_type": "code",
   "execution_count": 13,
   "outputs": [],
   "source": [
    "list_percent_reach_end = []\n",
    "for key in count_dic.keys():\n",
    "    id_list = count_dic[key]\n",
    "    count_df_end_step = 0\n",
    "    count_df_id = 0\n",
    "    for id in id_list:\n",
    "        df_id = df3_WS3T[df3_WS3T['CASE_ID']== id]\n",
    "        df_end_step = df_id[df_id['WRKFLW_TSK_MAP_GROUPED']=='Release Offer']\n",
    "        count_df_id += df_id['CASE_ID'].nunique()\n",
    "        count_df_end_step += df_end_step['CASE_ID'].nunique()\n",
    "    list_percent_reach_end.append(str(round((count_df_end_step/count_df_id)*100,2))+ \"%\")"
   ],
   "metadata": {
    "collapsed": false,
    "pycharm": {
     "name": "#%%\n"
    }
   }
  },
  {
   "cell_type": "code",
   "execution_count": 14,
   "outputs": [],
   "source": [
    "list_step_per_key = []\n",
    "for key in count_dic.keys():\n",
    "    id_list = count_dic[key]\n",
    "    list_step = set()\n",
    "    for id in id_list:\n",
    "        df = df3_WS3T[df3_WS3T['CASE_ID']== id]\n",
    "        for index, row in df.iterrows():\n",
    "            list_step.add(row['WRKFLW_TSK_MAP_GROUPED'])\n",
    "    list_step_per_key.append(list_step)"
   ],
   "metadata": {
    "collapsed": false,
    "pycharm": {
     "name": "#%%\n"
    }
   }
  },
  {
   "cell_type": "code",
   "execution_count": 15,
   "outputs": [],
   "source": [
    "from collections import Counter\n",
    "import collections, functools, operator\n",
    "list_step_sum_time_per_key = []\n",
    "list_step_count_per_key = []\n",
    "list_step_ave_time_per_key = []\n",
    "for key in count_dic.keys():\n",
    "    id_list = count_dic[key]\n",
    "    list_step = []\n",
    "    step_time_list = []\n",
    "    for id in id_list:\n",
    "        df = df3_WS3T[df3_WS3T['CASE_ID']== id]\n",
    "        step_time = dict(zip(df.WRKFLW_TSK_MAP_DETAILED, df.time_used_second))\n",
    "        step_time_list.append(step_time)\n",
    "        for index, row in df.iterrows():\n",
    "            list_step.append(row['WRKFLW_TSK_MAP_DETAILED'])\n",
    "\n",
    "    step_sum_time = dict(functools.reduce(operator.add,\n",
    "         map(collections.Counter, step_time_list)))\n",
    "\n",
    "    dict_list_step=dict(Counter(list_step))\n",
    "\n",
    "    step_ave_time = {key: step_sum_time[key] // dict_list_step.get(key, 0)\n",
    "                        for key in step_sum_time.keys()}\n",
    "\n",
    "    sort_step_sum_time = sorted(step_sum_time.items(),key = lambda x: x[1], reverse = True)\n",
    "    list_step_sum_time_per_key.append(sort_step_sum_time)\n",
    "\n",
    "    sort_dict_list_step = sorted(dict_list_step.items(),key = lambda x: x[1], reverse = True)\n",
    "    list_step_count_per_key.append(sort_dict_list_step[:6])\n",
    "\n",
    "    sort_step_ave_time = sorted(step_ave_time.items(),key = lambda x: x[1], reverse = True)\n",
    "    list_step_ave_time_per_key.append(sort_step_ave_time)"
   ],
   "metadata": {
    "collapsed": false,
    "pycharm": {
     "name": "#%%\n"
    }
   }
  },
  {
   "cell_type": "code",
   "execution_count": 16,
   "outputs": [
    {
     "data": {
      "text/plain": "   Number of Workflow processes in this Workflow Segment  Number of cases  \\\n0                                                  2                    1   \n1                                                  3                  203   \n2                                                  4                   32   \n3                                                  5                    3   \n4                                                  6                    1   \n5                                                  7                    2   \n\n       average time for workflow segment  \\\n0    0 days 0 hours 0 minutes 16 seconds   \n1   0 days 2 hours 58 minutes 14 seconds   \n2   1 days 9 hours 14 minutes 46 seconds   \n3   4 days 0 hours 13 minutes 16 seconds   \n4  13 days 5 hours 41 minutes 52 seconds   \n5  8 days 22 hours 22 minutes 34 seconds   \n\n                median time for workflow segment  \\\n0    0.0 days 0.0 hours 0.0 minutes 16.0 seconds   \n1    0.0 days 0.0 hours 2.0 minutes 36.0 seconds   \n2     0.0 days 0.0 hours 3.0 minutes 0.5 seconds   \n3    0.0 days 0.0 hours 2.0 minutes 31.0 seconds   \n4  13.0 days 5.0 hours 41.0 minutes 52.0 seconds   \n5  8.0 days 22.0 hours 22.0 minutes 34.5 seconds   \n\n  percentage of cases reaching to end of workflow segment  \\\n0                                               0.0%        \n1                                             100.0%        \n2                                             96.88%        \n3                                             100.0%        \n4                                             100.0%        \n5                                             100.0%        \n\n             Num of Occurrences per step(descending)  \\\n0  [(Assessment Outcome - Successful, 1), (Create...   \n1  [(Assessment Outcome - Successful, 203), (Rele...   \n2  [(Assessment Outcome - Successful, 33), (Creat...   \n3  [(Assessment Outcome - Successful, 5), (Create...   \n4  [(Assessment Outcome - Successful, 1), (Create...   \n5  [(Assessment Outcome - Successful, 2), (Create...   \n\n            Average time spends per step(descending)  \\\n0  [(Assessment Outcome - Successful, 16.0), (Cre...   \n1  [(Create Offer, 10731.0), (OC - Created - Evid...   \n2  [(Create Offer, 119373.0), (OC - Created - Fur...   \n3  [(OC - Created - English language requirements...   \n4  [(Create Offer, 1143159.0), (AR - Satisfied - ...   \n5  [(Put Assessment On-Hold, 324858.0), (OC - Sat...   \n\n   average time for workflow segment(seconds)  \\\n0                                          16   \n1                                       10694   \n2                                      119686   \n3                                      346396   \n4                                     1143712   \n5                                      771754   \n\n   sum time for workflow segment(seconds)  \n0                                    16.0  \n1                               2171025.0  \n2                               3829980.0  \n3                               1039189.0  \n4                               1143712.0  \n5                               1543509.0  ",
      "text/html": "<div>\n<style scoped>\n    .dataframe tbody tr th:only-of-type {\n        vertical-align: middle;\n    }\n\n    .dataframe tbody tr th {\n        vertical-align: top;\n    }\n\n    .dataframe thead th {\n        text-align: right;\n    }\n</style>\n<table border=\"1\" class=\"dataframe\">\n  <thead>\n    <tr style=\"text-align: right;\">\n      <th></th>\n      <th>Number of Workflow processes in this Workflow Segment</th>\n      <th>Number of cases</th>\n      <th>average time for workflow segment</th>\n      <th>median time for workflow segment</th>\n      <th>percentage of cases reaching to end of workflow segment</th>\n      <th>Num of Occurrences per step(descending)</th>\n      <th>Average time spends per step(descending)</th>\n      <th>average time for workflow segment(seconds)</th>\n      <th>sum time for workflow segment(seconds)</th>\n    </tr>\n  </thead>\n  <tbody>\n    <tr>\n      <th>0</th>\n      <td>2</td>\n      <td>1</td>\n      <td>0 days 0 hours 0 minutes 16 seconds</td>\n      <td>0.0 days 0.0 hours 0.0 minutes 16.0 seconds</td>\n      <td>0.0%</td>\n      <td>[(Assessment Outcome - Successful, 1), (Create...</td>\n      <td>[(Assessment Outcome - Successful, 16.0), (Cre...</td>\n      <td>16</td>\n      <td>16.0</td>\n    </tr>\n    <tr>\n      <th>1</th>\n      <td>3</td>\n      <td>203</td>\n      <td>0 days 2 hours 58 minutes 14 seconds</td>\n      <td>0.0 days 0.0 hours 2.0 minutes 36.0 seconds</td>\n      <td>100.0%</td>\n      <td>[(Assessment Outcome - Successful, 203), (Rele...</td>\n      <td>[(Create Offer, 10731.0), (OC - Created - Evid...</td>\n      <td>10694</td>\n      <td>2171025.0</td>\n    </tr>\n    <tr>\n      <th>2</th>\n      <td>4</td>\n      <td>32</td>\n      <td>1 days 9 hours 14 minutes 46 seconds</td>\n      <td>0.0 days 0.0 hours 3.0 minutes 0.5 seconds</td>\n      <td>96.88%</td>\n      <td>[(Assessment Outcome - Successful, 33), (Creat...</td>\n      <td>[(Create Offer, 119373.0), (OC - Created - Fur...</td>\n      <td>119686</td>\n      <td>3829980.0</td>\n    </tr>\n    <tr>\n      <th>3</th>\n      <td>5</td>\n      <td>3</td>\n      <td>4 days 0 hours 13 minutes 16 seconds</td>\n      <td>0.0 days 0.0 hours 2.0 minutes 31.0 seconds</td>\n      <td>100.0%</td>\n      <td>[(Assessment Outcome - Successful, 5), (Create...</td>\n      <td>[(OC - Created - English language requirements...</td>\n      <td>346396</td>\n      <td>1039189.0</td>\n    </tr>\n    <tr>\n      <th>4</th>\n      <td>6</td>\n      <td>1</td>\n      <td>13 days 5 hours 41 minutes 52 seconds</td>\n      <td>13.0 days 5.0 hours 41.0 minutes 52.0 seconds</td>\n      <td>100.0%</td>\n      <td>[(Assessment Outcome - Successful, 1), (Create...</td>\n      <td>[(Create Offer, 1143159.0), (AR - Satisfied - ...</td>\n      <td>1143712</td>\n      <td>1143712.0</td>\n    </tr>\n    <tr>\n      <th>5</th>\n      <td>7</td>\n      <td>2</td>\n      <td>8 days 22 hours 22 minutes 34 seconds</td>\n      <td>8.0 days 22.0 hours 22.0 minutes 34.5 seconds</td>\n      <td>100.0%</td>\n      <td>[(Assessment Outcome - Successful, 2), (Create...</td>\n      <td>[(Put Assessment On-Hold, 324858.0), (OC - Sat...</td>\n      <td>771754</td>\n      <td>1543509.0</td>\n    </tr>\n  </tbody>\n</table>\n</div>"
     },
     "execution_count": 16,
     "metadata": {},
     "output_type": "execute_result"
    }
   ],
   "source": [
    "s3_t3=pd.DataFrame({'Number of Workflow processes in this Workflow Segment':count_dic.keys(),'Number of cases':len_list, 'average time for workflow segment':list_avgtime_per_key_str,'median time for workflow segment':list_mediantime_per_key_str,'percentage of cases reaching to end of workflow segment':list_percent_reach_end})\n",
    "s3_t3['Num of Occurrences per step(descending)'] = list_step_count_per_key\n",
    "s3_t3['Average time spends per step(descending)'] = list_step_ave_time_per_key\n",
    "s3_t3['average time for workflow segment(seconds)'] = list_avgtime_per_key\n",
    "\n",
    "s3_t3['sum time for workflow segment(seconds)'] = list_sumtime_row\n",
    "s3_t3.head(n=10)\n"
   ],
   "metadata": {
    "collapsed": false,
    "pycharm": {
     "name": "#%%\n"
    }
   }
  },
  {
   "cell_type": "code",
   "execution_count": 17,
   "outputs": [],
   "source": [
    "s3_t3.to_csv('engineering_AF_segment3_workflowS3_table.csv', index=False)\n",
    "\n",
    "\n",
    "\n"
   ],
   "metadata": {
    "collapsed": false,
    "pycharm": {
     "name": "#%%\n"
    }
   }
  }
 ],
 "metadata": {
  "kernelspec": {
   "name": "pycharm-3f427a6c",
   "language": "python",
   "display_name": "PyCharm (pythonProject)"
  },
  "language_info": {
   "codemirror_mode": {
    "name": "ipython",
    "version": 2
   },
   "file_extension": ".py",
   "mimetype": "text/x-python",
   "name": "python",
   "nbconvert_exporter": "python",
   "pygments_lexer": "ipython2",
   "version": "2.7.6"
  }
 },
 "nbformat": 4,
 "nbformat_minor": 0
}