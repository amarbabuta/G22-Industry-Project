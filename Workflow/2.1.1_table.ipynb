{
 "cells": [
  {
   "cell_type": "code",
   "execution_count": 1,
   "metadata": {
    "collapsed": true
   },
   "outputs": [],
   "source": [
    "import pandas as pd\n",
    "import numpy\n",
    "from __future__ import division"
   ]
  },
  {
   "cell_type": "code",
   "execution_count": 2,
   "outputs": [
    {
     "name": "stderr",
     "output_type": "stream",
     "text": [
      "/Users/asteriag/opt/anaconda3/envs/pythonProject/lib/python2.7/site-packages/IPython/core/interactiveshell.py:2714: DtypeWarning: Columns (37) have mixed types. Specify dtype option on import or set low_memory=False.\n",
      "  interactivity=interactivity, compiler=compiler, result=result)\n"
     ]
    }
   ],
   "source": [
    "df1_WS1T = pd.read_csv(\"/Users/asteriag/Desktop/DATASCIENCEPROJECT_WORKFLOW/pythonProject/segment1_WS1_has_duration.csv\")"
   ],
   "metadata": {
    "collapsed": false,
    "pycharm": {
     "name": "#%%\n"
    }
   }
  },
  {
   "cell_type": "code",
   "execution_count": 3,
   "outputs": [
    {
     "data": {
      "text/plain": "                 CASE_ID WRKFLW_TSK_MAP_GROUPED WRKFLW_TSK_MAP_DETAILED  \\\n0  1172679|570743|869833                 Submit                  Submit   \n\n      PATH_CRDATETIME ITEM_CRUSER WRKFLW_ORG_TYPE_CRUSER  STATUS_ORDER  \\\n0  10/1/2020 11:15:28     1172679                    NaN             6   \n\n  LATEST_STATUS        WRKFLW_PROCESS                        QUERY_PART  ...  \\\n0             N  1. App to Assessment  Part 1 - Application ID Workflow  ...   \n\n  SPK_CAT_TYPE_CD  BROAD_COURSE_LEVEL   DEGREETYPE  \\\n0             MCW                HDCW  Full Degree   \n\n   LIABILITY_CATEGORY_CD_RECODE  ORIG_LIABILITY_CATEGORY_CD_RECODE  \\\n0                            OF                                 OF   \n\n  OFFER_RELEASED_FG OFFER_OUTCOME_CD OFFER_CONDITIONS  \\\n0               NaN              NaN                Y   \n\n                           time_used_str  time_used_second  \n0  14 days 3 hours 51 minutes 11 seconds         1223471.0  \n\n[1 rows x 58 columns]",
      "text/html": "<div>\n<style scoped>\n    .dataframe tbody tr th:only-of-type {\n        vertical-align: middle;\n    }\n\n    .dataframe tbody tr th {\n        vertical-align: top;\n    }\n\n    .dataframe thead th {\n        text-align: right;\n    }\n</style>\n<table border=\"1\" class=\"dataframe\">\n  <thead>\n    <tr style=\"text-align: right;\">\n      <th></th>\n      <th>CASE_ID</th>\n      <th>WRKFLW_TSK_MAP_GROUPED</th>\n      <th>WRKFLW_TSK_MAP_DETAILED</th>\n      <th>PATH_CRDATETIME</th>\n      <th>ITEM_CRUSER</th>\n      <th>WRKFLW_ORG_TYPE_CRUSER</th>\n      <th>STATUS_ORDER</th>\n      <th>LATEST_STATUS</th>\n      <th>WRKFLW_PROCESS</th>\n      <th>QUERY_PART</th>\n      <th>...</th>\n      <th>SPK_CAT_TYPE_CD</th>\n      <th>BROAD_COURSE_LEVEL</th>\n      <th>DEGREETYPE</th>\n      <th>LIABILITY_CATEGORY_CD_RECODE</th>\n      <th>ORIG_LIABILITY_CATEGORY_CD_RECODE</th>\n      <th>OFFER_RELEASED_FG</th>\n      <th>OFFER_OUTCOME_CD</th>\n      <th>OFFER_CONDITIONS</th>\n      <th>time_used_str</th>\n      <th>time_used_second</th>\n    </tr>\n  </thead>\n  <tbody>\n    <tr>\n      <th>0</th>\n      <td>1172679|570743|869833</td>\n      <td>Submit</td>\n      <td>Submit</td>\n      <td>10/1/2020 11:15:28</td>\n      <td>1172679</td>\n      <td>NaN</td>\n      <td>6</td>\n      <td>N</td>\n      <td>1. App to Assessment</td>\n      <td>Part 1 - Application ID Workflow</td>\n      <td>...</td>\n      <td>MCW</td>\n      <td>HDCW</td>\n      <td>Full Degree</td>\n      <td>OF</td>\n      <td>OF</td>\n      <td>NaN</td>\n      <td>NaN</td>\n      <td>Y</td>\n      <td>14 days 3 hours 51 minutes 11 seconds</td>\n      <td>1223471.0</td>\n    </tr>\n  </tbody>\n</table>\n<p>1 rows × 58 columns</p>\n</div>"
     },
     "execution_count": 3,
     "metadata": {},
     "output_type": "execute_result"
    }
   ],
   "source": [
    "df1_WS1T.head(n=1)"
   ],
   "metadata": {
    "collapsed": false,
    "pycharm": {
     "name": "#%%\n"
    }
   }
  },
  {
   "cell_type": "code",
   "execution_count": 4,
   "outputs": [],
   "source": [
    "numOfWorkflowProcesses = df1_WS1T.groupby('CASE_ID').CASE_ID.count()\n",
    "\n",
    "count_dic=dict()\n",
    "for i,v in numOfWorkflowProcesses.items():\n",
    "    if count_dic.get(v) is None:\n",
    "        count_dic[v]=[]\n",
    "        count_dic[v].append(i)\n",
    "    else:\n",
    "        count_dic[v].append(i)\n",
    "#count_dic\n"
   ],
   "metadata": {
    "collapsed": false,
    "pycharm": {
     "name": "#%%\n"
    }
   }
  },
  {
   "cell_type": "code",
   "execution_count": 5,
   "outputs": [],
   "source": [
    "len_list=[]\n",
    "for key in count_dic.keys():\n",
    "    len_list.append(len(count_dic[key]))"
   ],
   "metadata": {
    "collapsed": false,
    "pycharm": {
     "name": "#%%\n"
    }
   }
  },
  {
   "cell_type": "code",
   "execution_count": 6,
   "outputs": [],
   "source": [
    "def strfdelta(tdelta, fmt):\n",
    "    d=dict()\n",
    "    d[\"days\"],rem1 = divmod(tdelta,60*60*24)\n",
    "    d[\"hours\"], rem2 = divmod(rem1, 3600)\n",
    "    d[\"minutes\"], d[\"seconds\"] = divmod(rem2, 60)\n",
    "    return fmt.format(**d)"
   ],
   "metadata": {
    "collapsed": false,
    "pycharm": {
     "name": "#%%\n"
    }
   }
  },
  {
   "cell_type": "code",
   "execution_count": 7,
   "outputs": [],
   "source": [
    "list_avgtime_per_key =[]\n",
    "for key in count_dic.keys():\n",
    "    id_list = count_dic[key]\n",
    "    list_sumtime_person = 0\n",
    "    for id in id_list:\n",
    "        df = df1_WS1T[df1_WS1T['CASE_ID']== id]\n",
    "        tsum = df['time_used_second'].sum()\n",
    "        list_sumtime_person+=tsum\n",
    "    list_avgtime_per_key.append(int((list_sumtime_person/len(count_dic[key]))))\n",
    "\n",
    "list_avgtime_per_key_str = []\n",
    "for i in list_avgtime_per_key:\n",
    "    list_avgtime_per_key_str.append(strfdelta(i,\"{days} days {hours} hours {minutes} minutes {seconds} seconds\"))"
   ],
   "metadata": {
    "collapsed": false,
    "pycharm": {
     "name": "#%%\n"
    }
   }
  },
  {
   "cell_type": "code",
   "execution_count": 8,
   "outputs": [],
   "source": [
    "list_mediantime_per_key = []\n",
    "for key in count_dic.keys():\n",
    "    id_list = count_dic[key]\n",
    "    list_sumtime_per_person = []\n",
    "    for id in id_list:\n",
    "        df = df1_WS1T[df1_WS1T['CASE_ID']== id]\n",
    "        tsum = df['time_used_second'].sum()\n",
    "        list_sumtime_per_person.append(tsum)\n",
    "    list_mediantime_per_key.append(numpy.median(list_sumtime_per_person))\n",
    "\n",
    "list_mediantime_per_key_str = []\n",
    "for i in list_mediantime_per_key:\n",
    "    list_mediantime_per_key_str.append(strfdelta(i,\"{days} days {hours} hours {minutes} minutes {seconds} seconds\"))"
   ],
   "metadata": {
    "collapsed": false,
    "pycharm": {
     "name": "#%%\n"
    }
   }
  },
  {
   "cell_type": "code",
   "execution_count": 9,
   "outputs": [],
   "source": [
    "list_percent_reach_end = []\n",
    "for key in count_dic.keys():\n",
    "    id_list = count_dic[key]\n",
    "    count_df_end_step = 0\n",
    "    count_df_id = 0\n",
    "    for id in id_list:\n",
    "        df_id = df1_WS1T[df1_WS1T['CASE_ID']== id]\n",
    "        df_end_step = df_id[df_id['WRKFLW_TSK_MAP_GROUPED']=='Send for Assessment']\n",
    "        count_df_id += df_id['CASE_ID'].count()\n",
    "        count_df_end_step += df_end_step['CASE_ID'].count()\n",
    "    list_percent_reach_end.append(str(round((count_df_end_step/count_df_id)*100,2))+ \"%\")"
   ],
   "metadata": {
    "collapsed": false,
    "pycharm": {
     "name": "#%%\n"
    }
   }
  },
  {
   "cell_type": "code",
   "execution_count": 10,
   "outputs": [
    {
     "data": {
      "text/plain": "   Number of Workflow processes in this Workflow Segment  Number of cases  \\\n0                                                  1                  537   \n1                                                  2                  177   \n2                                                  3                  178   \n3                                                  4                  550   \n4                                                  5                  928   \n5                                                  6                 1132   \n6                                                  7                 1470   \n7                                                  8                 1479   \n8                                                  9                 1329   \n9                                                 10                 1116   \n\n        average time for workflow segment  \\\n0      0 days 0 hours 0 minutes 0 seconds   \n1  17 days 17 hours 53 minutes 27 seconds   \n2  16 days 10 hours 55 minutes 13 seconds   \n3   15 days 13 hours 3 minutes 14 seconds   \n4   16 days 7 hours 45 minutes 46 seconds   \n5    20 days 5 hours 0 minutes 43 seconds   \n6   20 days 7 hours 38 minutes 30 seconds   \n7  21 days 12 hours 38 minutes 35 seconds   \n8   24 days 22 hours 58 minutes 2 seconds   \n9  27 days 13 hours 50 minutes 44 seconds   \n\n                 median time for workflow segment  \\\n0      0.0 days 0.0 hours 0.0 minutes 0.0 seconds   \n1   9.0 days 22.0 hours 36.0 minutes 34.0 seconds   \n2   9.0 days 13.0 hours 35.0 minutes 11.0 seconds   \n3  10.0 days 21.0 hours 40.0 minutes 55.5 seconds   \n4  11.0 days 15.0 hours 24.0 minutes 20.5 seconds   \n5   13.0 days 5.0 hours 54.0 minutes 39.5 seconds   \n6  13.0 days 23.0 hours 35.0 minutes 49.5 seconds   \n7  14.0 days 23.0 hours 33.0 minutes 27.0 seconds   \n8   17.0 days 11.0 hours 3.0 minutes 38.0 seconds   \n9  19.0 days 16.0 hours 53.0 minutes 45.5 seconds   \n\n  percentage of cases reaching to end of workflow segment  \n0                                               0.0%       \n1                                             38.42%       \n2                                             24.91%       \n3                                             22.64%       \n4                                             19.03%       \n5                                             15.56%       \n6                                             13.29%       \n7                                             11.55%       \n8                                             10.34%       \n9                                              9.14%       ",
      "text/html": "<div>\n<style scoped>\n    .dataframe tbody tr th:only-of-type {\n        vertical-align: middle;\n    }\n\n    .dataframe tbody tr th {\n        vertical-align: top;\n    }\n\n    .dataframe thead th {\n        text-align: right;\n    }\n</style>\n<table border=\"1\" class=\"dataframe\">\n  <thead>\n    <tr style=\"text-align: right;\">\n      <th></th>\n      <th>Number of Workflow processes in this Workflow Segment</th>\n      <th>Number of cases</th>\n      <th>average time for workflow segment</th>\n      <th>median time for workflow segment</th>\n      <th>percentage of cases reaching to end of workflow segment</th>\n    </tr>\n  </thead>\n  <tbody>\n    <tr>\n      <th>0</th>\n      <td>1</td>\n      <td>537</td>\n      <td>0 days 0 hours 0 minutes 0 seconds</td>\n      <td>0.0 days 0.0 hours 0.0 minutes 0.0 seconds</td>\n      <td>0.0%</td>\n    </tr>\n    <tr>\n      <th>1</th>\n      <td>2</td>\n      <td>177</td>\n      <td>17 days 17 hours 53 minutes 27 seconds</td>\n      <td>9.0 days 22.0 hours 36.0 minutes 34.0 seconds</td>\n      <td>38.42%</td>\n    </tr>\n    <tr>\n      <th>2</th>\n      <td>3</td>\n      <td>178</td>\n      <td>16 days 10 hours 55 minutes 13 seconds</td>\n      <td>9.0 days 13.0 hours 35.0 minutes 11.0 seconds</td>\n      <td>24.91%</td>\n    </tr>\n    <tr>\n      <th>3</th>\n      <td>4</td>\n      <td>550</td>\n      <td>15 days 13 hours 3 minutes 14 seconds</td>\n      <td>10.0 days 21.0 hours 40.0 minutes 55.5 seconds</td>\n      <td>22.64%</td>\n    </tr>\n    <tr>\n      <th>4</th>\n      <td>5</td>\n      <td>928</td>\n      <td>16 days 7 hours 45 minutes 46 seconds</td>\n      <td>11.0 days 15.0 hours 24.0 minutes 20.5 seconds</td>\n      <td>19.03%</td>\n    </tr>\n    <tr>\n      <th>5</th>\n      <td>6</td>\n      <td>1132</td>\n      <td>20 days 5 hours 0 minutes 43 seconds</td>\n      <td>13.0 days 5.0 hours 54.0 minutes 39.5 seconds</td>\n      <td>15.56%</td>\n    </tr>\n    <tr>\n      <th>6</th>\n      <td>7</td>\n      <td>1470</td>\n      <td>20 days 7 hours 38 minutes 30 seconds</td>\n      <td>13.0 days 23.0 hours 35.0 minutes 49.5 seconds</td>\n      <td>13.29%</td>\n    </tr>\n    <tr>\n      <th>7</th>\n      <td>8</td>\n      <td>1479</td>\n      <td>21 days 12 hours 38 minutes 35 seconds</td>\n      <td>14.0 days 23.0 hours 33.0 minutes 27.0 seconds</td>\n      <td>11.55%</td>\n    </tr>\n    <tr>\n      <th>8</th>\n      <td>9</td>\n      <td>1329</td>\n      <td>24 days 22 hours 58 minutes 2 seconds</td>\n      <td>17.0 days 11.0 hours 3.0 minutes 38.0 seconds</td>\n      <td>10.34%</td>\n    </tr>\n    <tr>\n      <th>9</th>\n      <td>10</td>\n      <td>1116</td>\n      <td>27 days 13 hours 50 minutes 44 seconds</td>\n      <td>19.0 days 16.0 hours 53.0 minutes 45.5 seconds</td>\n      <td>9.14%</td>\n    </tr>\n  </tbody>\n</table>\n</div>"
     },
     "execution_count": 10,
     "metadata": {},
     "output_type": "execute_result"
    }
   ],
   "source": [
    "s1_t1=pd.DataFrame({'Number of Workflow processes in this Workflow Segment':count_dic.keys(),'Number of cases':len_list, 'average time for workflow segment':list_avgtime_per_key_str,'median time for workflow segment':list_mediantime_per_key_str,'percentage of cases reaching to end of workflow segment':list_percent_reach_end})\n",
    "s1_t1.head(n=10)\n"
   ],
   "metadata": {
    "collapsed": false,
    "pycharm": {
     "name": "#%%\n"
    }
   }
  },
  {
   "cell_type": "code",
   "execution_count": 11,
   "outputs": [],
   "source": [
    "s1_t1.to_csv('segment1_WS1_table.csv', index=False)\n",
    "\n",
    "\n",
    "\n",
    "\n",
    "\n",
    "\n"
   ],
   "metadata": {
    "collapsed": false,
    "pycharm": {
     "name": "#%%\n"
    }
   }
  }
 ],
 "metadata": {
  "kernelspec": {
   "name": "pycharm-78f37aff",
   "language": "python",
   "display_name": "PyCharm (pythonProject)"
  },
  "language_info": {
   "codemirror_mode": {
    "name": "ipython",
    "version": 2
   },
   "file_extension": ".py",
   "mimetype": "text/x-python",
   "name": "python",
   "nbconvert_exporter": "python",
   "pygments_lexer": "ipython2",
   "version": "2.7.6"
  }
 },
 "nbformat": 4,
 "nbformat_minor": 0
}