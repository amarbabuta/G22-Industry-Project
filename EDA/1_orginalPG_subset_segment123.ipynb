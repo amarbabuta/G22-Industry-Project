{
 "cells": [
  {
   "cell_type": "code",
   "execution_count": 18,
   "metadata": {
    "collapsed": true
   },
   "outputs": [],
   "source": [
    "import pandas as pd\n",
    "import csv\n",
    "import numpy as np\n",
    "from datetime import datetime\n",
    "import sys\n",
    "\n"
   ]
  },
  {
   "cell_type": "code",
   "execution_count": 19,
   "outputs": [
    {
     "data": {
      "text/plain": "(1369204, 56)"
     },
     "execution_count": 19,
     "metadata": {},
     "output_type": "execute_result"
    }
   ],
   "source": [
    "df = pd.read_csv(\"/Users/asteriag/Desktop/DATASCIENCEPROJECT_WORKFLOW/PG_Apps_Workflow_v17.csv\",engine='python')\n",
    "df.shape"
   ],
   "metadata": {
    "collapsed": false,
    "pycharm": {
     "name": "#%%\n"
    }
   }
  },
  {
   "cell_type": "code",
   "execution_count": 20,
   "outputs": [
    {
     "data": {
      "text/plain": "112011"
     },
     "execution_count": 20,
     "metadata": {},
     "output_type": "execute_result"
    }
   ],
   "source": [
    "df['CASE_ID'].nunique()"
   ],
   "metadata": {
    "collapsed": false,
    "pycharm": {
     "name": "#%%\n"
    }
   }
  },
  {
   "cell_type": "code",
   "execution_count": 30,
   "outputs": [
    {
     "name": "stdout",
     "output_type": "stream",
     "text": [
      "<class 'pandas.core.frame.DataFrame'>\n",
      "RangeIndex: 1369204 entries, 0 to 1369203\n",
      "Data columns (total 56 columns):\n",
      " #   Column                             Non-Null Count    Dtype  \n",
      "---  ------                             --------------    -----  \n",
      " 0   CASE_ID                            1369204 non-null  object \n",
      " 1   WRKFLW_TSK_MAP_GROUPED             1369204 non-null  object \n",
      " 2   WRKFLW_TSK_MAP_DETAILED            1369204 non-null  object \n",
      " 3   PATH_CRDATETIME                    1369204 non-null  object \n",
      " 4   ITEM_CRUSER                        1369204 non-null  object \n",
      " 5   WRKFLW_ORG_TYPE_CRUSER             1203301 non-null  object \n",
      " 6   STATUS_ORDER                       1369204 non-null  int64  \n",
      " 7   LATEST_STATUS                      1369204 non-null  object \n",
      " 8   WRKFLW_PROCESS                     1369204 non-null  object \n",
      " 9   QUERY_PART                         1369204 non-null  object \n",
      " 10  REFERRAL_ID                        634203 non-null   object \n",
      " 11  APPLICATION_ID                     1369204 non-null  int64  \n",
      " 12  APPLICATION_LINE_ID                1369204 non-null  int64  \n",
      " 13  STU_ID                             1369204 non-null  int64  \n",
      " 14  STU_CITIZEN_CD                     1369204 non-null  int64  \n",
      " 15  STU_CITIZEN_NM                     1369204 non-null  object \n",
      " 16  STU_BIRTH_DT                       1369204 non-null  object \n",
      " 17  STU_ABOR_TSI_CD                    1361139 non-null  object \n",
      " 18  STU_ABOR_TSI_NM                    1369204 non-null  object \n",
      " 19  STU_BIRTH_CNTRY_CD                 1369087 non-null  object \n",
      " 20  STU_BIRTH_CNTRY_NM                 1369204 non-null  object \n",
      " 21  STU_CTZN_CNTRY_CD                  1355546 non-null  float64\n",
      " 22  STU_CTZN_CNTRY_NM                  1367373 non-null  object \n",
      " 23  SUBMISSION_METHOD                  1368879 non-null  object \n",
      " 24  ENTRY_TYPE                         859010 non-null   object \n",
      " 25  ASSESSMENT_DECISION_SCORE          1291918 non-null  float64\n",
      " 26  ASSESSMENT_DECISION_NM             1291918 non-null  object \n",
      " 27  ASSESSMENT_OUTCOME_NM              1282833 non-null  object \n",
      " 28  LAST_COUNTRY_EDUCATION             1082820 non-null  object \n",
      " 29  PREV_INST_NM_MAIN                  1039588 non-null  object \n",
      " 30  PREV_INST_NM_ALT1                  769020 non-null   object \n",
      " 31  PREV_INST_NM_ALT2                  1997 non-null     object \n",
      " 32  PREFERENCE_NO                      1369204 non-null  int64  \n",
      " 33  SPK_CD                             1369204 non-null  object \n",
      " 34  SPK_FULL_TITLE                     1369204 non-null  object \n",
      " 35  ORG_UNIT_CD                        1369204 non-null  int64  \n",
      " 36  AVAIL_ORG_UNIT_NM                  1369204 non-null  object \n",
      " 37  SUPPORTING_ORG                     91296 non-null    object \n",
      " 38  STUDY_MODE_CD                      1369204 non-null  object \n",
      " 39  RETURNING_DEFERRAL                 1369204 non-null  object \n",
      " 40  CURR_AVAIL_YR                      1369204 non-null  int64  \n",
      " 41  CURR_STUDY_PERIOD                  1369204 non-null  object \n",
      " 42  CURR_SPRD_CD                       1369204 non-null  object \n",
      " 43  CURR_SPRD_NM                       1369204 non-null  object \n",
      " 44  ORIG_AVAIL_YR                      1369204 non-null  int64  \n",
      " 45  ORIG_STUDY_PERIOD                  1369204 non-null  object \n",
      " 46  ORIG_SPRD_CD                       1369204 non-null  object \n",
      " 47  ORIG_SPRD_NM                       1369204 non-null  object \n",
      " 48  SPK_CAT_TYPE_CD                    1369204 non-null  object \n",
      " 49  BROAD_COURSE_LEVEL                 1369204 non-null  object \n",
      " 50  DEGREETYPE                         1369204 non-null  object \n",
      " 51  LIABILITY_CATEGORY_CD_RECODE       1369204 non-null  object \n",
      " 52  ORIG_LIABILITY_CATEGORY_CD_RECODE  1369204 non-null  object \n",
      " 53  OFFER_RELEASED_FG                  884043 non-null   object \n",
      " 54  OFFER_OUTCOME_CD                   615563 non-null   object \n",
      " 55  OFFER_CONDITIONS                   1198668 non-null  object \n",
      "dtypes: float64(2), int64(9), object(45)\n",
      "memory usage: 585.0+ MB\n"
     ]
    }
   ],
   "source": [
    "df.info()\n"
   ],
   "metadata": {
    "collapsed": false,
    "pycharm": {
     "name": "#%%\n"
    }
   }
  },
  {
   "cell_type": "code",
   "execution_count": 35,
   "outputs": [
    {
     "name": "stdout",
     "output_type": "stream",
     "text": [
      "<class 'pandas.core.series.Series'>\n"
     ]
    }
   ],
   "source": [
    "print(type(df['WRKFLW_TSK_MAP_GROUPED']))"
   ],
   "metadata": {
    "collapsed": false,
    "pycharm": {
     "name": "#%%\n"
    }
   }
  },
  {
   "cell_type": "code",
   "execution_count": 21,
   "outputs": [
    {
     "data": {
      "text/plain": "(195564, 56)"
     },
     "execution_count": 21,
     "metadata": {},
     "output_type": "execute_result"
    }
   ],
   "source": [
    "segment1 = df[(df['BROAD_COURSE_LEVEL'] == 'HDCW') &\n",
    "(df['AVAIL_ORG_UNIT_NM'] == 'Engineering') &\n",
    "(df['LIABILITY_CATEGORY_CD_RECODE'] == 'OF')&\n",
    "(df['DEGREETYPE'] == 'Full Degree')]\n",
    "segment1.shape"
   ],
   "metadata": {
    "collapsed": false,
    "pycharm": {
     "name": "#%%\n"
    }
   }
  },
  {
   "cell_type": "code",
   "execution_count": 22,
   "outputs": [
    {
     "data": {
      "text/plain": "12957"
     },
     "execution_count": 22,
     "metadata": {},
     "output_type": "execute_result"
    }
   ],
   "source": [
    "segment1['CASE_ID'].nunique()"
   ],
   "metadata": {
    "collapsed": false,
    "pycharm": {
     "name": "#%%\n"
    }
   }
  },
  {
   "cell_type": "code",
   "execution_count": 23,
   "outputs": [],
   "source": [
    "segment1.to_csv(\"engineering_OF_segment1.csv\",index=False)"
   ],
   "metadata": {
    "collapsed": false,
    "pycharm": {
     "name": "#%%\n"
    }
   }
  },
  {
   "cell_type": "code",
   "execution_count": 24,
   "outputs": [
    {
     "data": {
      "text/plain": "(29623, 56)"
     },
     "execution_count": 24,
     "metadata": {},
     "output_type": "execute_result"
    }
   ],
   "source": [
    "segment2 = df[(df['BROAD_COURSE_LEVEL'] == 'HDCW') &\n",
    "(df['AVAIL_ORG_UNIT_NM'] == 'Engineering') &\n",
    "(df['LIABILITY_CATEGORY_CD_RECODE'] == 'AS')&\n",
    "(df['DEGREETYPE'] == 'Full Degree')]\n",
    "segment2.shape"
   ],
   "metadata": {
    "collapsed": false,
    "pycharm": {
     "name": "#%%\n"
    }
   }
  },
  {
   "cell_type": "code",
   "execution_count": 25,
   "outputs": [
    {
     "data": {
      "text/plain": "2133"
     },
     "execution_count": 25,
     "metadata": {},
     "output_type": "execute_result"
    }
   ],
   "source": [
    "segment2['CASE_ID'].nunique()"
   ],
   "metadata": {
    "collapsed": false,
    "pycharm": {
     "name": "#%%\n"
    }
   }
  },
  {
   "cell_type": "code",
   "execution_count": 26,
   "outputs": [],
   "source": [
    "segment2.to_csv(\"engineering_AS_segment2.csv\",index=False)\n"
   ],
   "metadata": {
    "collapsed": false,
    "pycharm": {
     "name": "#%%\n"
    }
   }
  },
  {
   "cell_type": "code",
   "execution_count": 27,
   "outputs": [
    {
     "data": {
      "text/plain": "(8505, 56)"
     },
     "execution_count": 27,
     "metadata": {},
     "output_type": "execute_result"
    }
   ],
   "source": [
    "segment3 = df[(df['BROAD_COURSE_LEVEL'] == 'HDCW') &\n",
    "(df['AVAIL_ORG_UNIT_NM'] == 'Engineering') &\n",
    "(df['LIABILITY_CATEGORY_CD_RECODE'] == 'AF')&\n",
    "(df['DEGREETYPE'] == 'Full Degree')]\n",
    "segment3.shape"
   ],
   "metadata": {
    "collapsed": false,
    "pycharm": {
     "name": "#%%\n"
    }
   }
  },
  {
   "cell_type": "code",
   "execution_count": 28,
   "outputs": [
    {
     "data": {
      "text/plain": "758"
     },
     "execution_count": 28,
     "metadata": {},
     "output_type": "execute_result"
    }
   ],
   "source": [
    "segment3['CASE_ID'].nunique()"
   ],
   "metadata": {
    "collapsed": false,
    "pycharm": {
     "name": "#%%\n"
    }
   }
  },
  {
   "cell_type": "code",
   "execution_count": 29,
   "outputs": [],
   "source": [
    "segment3.to_csv(\"engineering_AF_segment3.csv\",index=False)\n",
    "\n"
   ],
   "metadata": {
    "collapsed": false,
    "pycharm": {
     "name": "#%%\n"
    }
   }
  }
 ],
 "metadata": {
  "kernelspec": {
   "name": "pycharm-3f427a6c",
   "language": "python",
   "display_name": "PyCharm (pythonProject)"
  },
  "language_info": {
   "codemirror_mode": {
    "name": "ipython",
    "version": 2
   },
   "file_extension": ".py",
   "mimetype": "text/x-python",
   "name": "python",
   "nbconvert_exporter": "python",
   "pygments_lexer": "ipython2",
   "version": "2.7.6"
  }
 },
 "nbformat": 4,
 "nbformat_minor": 0
}