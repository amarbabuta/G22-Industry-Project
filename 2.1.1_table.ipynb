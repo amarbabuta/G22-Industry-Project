{
 "cells": [
  {
   "cell_type": "code",
   "execution_count": 1,
   "metadata": {
    "collapsed": true
   },
   "outputs": [],
   "source": [
    "from __future__ import division\n",
    "import pandas as pd\n",
    "import numpy\n"
   ]
  },
  {
   "cell_type": "code",
   "execution_count": 2,
   "outputs": [],
   "source": [
    "df1_WS1T = pd.read_csv(\"/Users/asteriag/Desktop/DATASCIENCEPROJECT_WORKFLOW/TimeStamp_Engineering/engineering_OF_segment1_workflowS1_has_duration.csv\",engine='python')"
   ],
   "metadata": {
    "collapsed": false,
    "pycharm": {
     "name": "#%%\n"
    }
   }
  },
  {
   "cell_type": "code",
   "execution_count": 3,
   "outputs": [
    {
     "data": {
      "text/plain": "                 CASE_ID WRKFLW_TSK_MAP_GROUPED WRKFLW_TSK_MAP_DETAILED  \\\n0  1126888|499828|767443                 Submit                  Submit   \n\n     PATH_CRDATETIME ITEM_CRUSER WRKFLW_ORG_TYPE_CRUSER  STATUS_ORDER  \\\n0  17/7/2019 1:01:31     PADWYER      Academic Services            24   \n\n  LATEST_STATUS        WRKFLW_PROCESS                        QUERY_PART  ...  \\\n0             N  1. App to Assessment  Part 1 - Application ID Workflow  ...   \n\n  SPK_CAT_TYPE_CD  BROAD_COURSE_LEVEL   DEGREETYPE  \\\n0             MCW                HDCW  Full Degree   \n\n   LIABILITY_CATEGORY_CD_RECODE  ORIG_LIABILITY_CATEGORY_CD_RECODE  \\\n0                            OF                                 OF   \n\n  OFFER_RELEASED_FG OFFER_OUTCOME_CD OFFER_CONDITIONS  \\\n0                 Y              NaN                Y   \n\n                            time_used_str  time_used_second  \n0  29 days 12 hours 51 minutes 40 seconds         2551900.0  \n\n[1 rows x 58 columns]",
      "text/html": "<div>\n<style scoped>\n    .dataframe tbody tr th:only-of-type {\n        vertical-align: middle;\n    }\n\n    .dataframe tbody tr th {\n        vertical-align: top;\n    }\n\n    .dataframe thead th {\n        text-align: right;\n    }\n</style>\n<table border=\"1\" class=\"dataframe\">\n  <thead>\n    <tr style=\"text-align: right;\">\n      <th></th>\n      <th>CASE_ID</th>\n      <th>WRKFLW_TSK_MAP_GROUPED</th>\n      <th>WRKFLW_TSK_MAP_DETAILED</th>\n      <th>PATH_CRDATETIME</th>\n      <th>ITEM_CRUSER</th>\n      <th>WRKFLW_ORG_TYPE_CRUSER</th>\n      <th>STATUS_ORDER</th>\n      <th>LATEST_STATUS</th>\n      <th>WRKFLW_PROCESS</th>\n      <th>QUERY_PART</th>\n      <th>...</th>\n      <th>SPK_CAT_TYPE_CD</th>\n      <th>BROAD_COURSE_LEVEL</th>\n      <th>DEGREETYPE</th>\n      <th>LIABILITY_CATEGORY_CD_RECODE</th>\n      <th>ORIG_LIABILITY_CATEGORY_CD_RECODE</th>\n      <th>OFFER_RELEASED_FG</th>\n      <th>OFFER_OUTCOME_CD</th>\n      <th>OFFER_CONDITIONS</th>\n      <th>time_used_str</th>\n      <th>time_used_second</th>\n    </tr>\n  </thead>\n  <tbody>\n    <tr>\n      <th>0</th>\n      <td>1126888|499828|767443</td>\n      <td>Submit</td>\n      <td>Submit</td>\n      <td>17/7/2019 1:01:31</td>\n      <td>PADWYER</td>\n      <td>Academic Services</td>\n      <td>24</td>\n      <td>N</td>\n      <td>1. App to Assessment</td>\n      <td>Part 1 - Application ID Workflow</td>\n      <td>...</td>\n      <td>MCW</td>\n      <td>HDCW</td>\n      <td>Full Degree</td>\n      <td>OF</td>\n      <td>OF</td>\n      <td>Y</td>\n      <td>NaN</td>\n      <td>Y</td>\n      <td>29 days 12 hours 51 minutes 40 seconds</td>\n      <td>2551900.0</td>\n    </tr>\n  </tbody>\n</table>\n<p>1 rows × 58 columns</p>\n</div>"
     },
     "execution_count": 3,
     "metadata": {},
     "output_type": "execute_result"
    }
   ],
   "source": [
    "df1_WS1T.head(n=1)"
   ],
   "metadata": {
    "collapsed": false,
    "pycharm": {
     "name": "#%%\n"
    }
   }
  },
  {
   "cell_type": "code",
   "execution_count": 4,
   "outputs": [],
   "source": [
    "numOfWorkflowProcesses = df1_WS1T.groupby('CASE_ID').CASE_ID.count()\n",
    "\n",
    "count_dic=dict()\n",
    "for i,v in numOfWorkflowProcesses.items():\n",
    "    if count_dic.get(v) is None:\n",
    "        count_dic[v]=[]\n",
    "        count_dic[v].append(i)\n",
    "    else:\n",
    "        count_dic[v].append(i)\n",
    "#count_dic\n",
    "count_dic = dict(sorted(count_dic.items()))"
   ],
   "metadata": {
    "collapsed": false,
    "pycharm": {
     "name": "#%%\n"
    }
   }
  },
  {
   "cell_type": "code",
   "execution_count": 5,
   "outputs": [],
   "source": [
    "len_list=[]\n",
    "for key in count_dic.keys():\n",
    "    len_list.append(len(count_dic[key]))"
   ],
   "metadata": {
    "collapsed": false,
    "pycharm": {
     "name": "#%%\n"
    }
   }
  },
  {
   "cell_type": "code",
   "execution_count": 6,
   "outputs": [],
   "source": [
    "def strfdelta(tdelta, fmt):\n",
    "    d=dict()\n",
    "    d[\"days\"],rem1 = divmod(tdelta,60*60*24)\n",
    "    d[\"hours\"], rem2 = divmod(rem1, 3600)\n",
    "    d[\"minutes\"], d[\"seconds\"] = divmod(rem2, 60)\n",
    "    return fmt.format(**d)"
   ],
   "metadata": {
    "collapsed": false,
    "pycharm": {
     "name": "#%%\n"
    }
   }
  },
  {
   "cell_type": "code",
   "execution_count": 7,
   "outputs": [],
   "source": [
    "list_avgtime_per_key =[]\n",
    "for key in count_dic.keys():\n",
    "    id_list = count_dic[key]\n",
    "    list_sumtime_person = 0\n",
    "    for id in id_list:\n",
    "        df = df1_WS1T[df1_WS1T['CASE_ID']== id]\n",
    "        tsum = df['time_used_second'].sum()\n",
    "        list_sumtime_person+=tsum\n",
    "    list_avgtime_per_key.append(int((list_sumtime_person/len(count_dic[key]))))\n",
    "\n",
    "list_avgtime_per_key_str = []\n",
    "for i in list_avgtime_per_key:\n",
    "    list_avgtime_per_key_str.append(strfdelta(i,\"{days} days {hours} hours {minutes} minutes {seconds} seconds\"))"
   ],
   "metadata": {
    "collapsed": false,
    "pycharm": {
     "name": "#%%\n"
    }
   }
  },
  {
   "cell_type": "code",
   "execution_count": 8,
   "outputs": [],
   "source": [
    "list_mediantime_per_key = []\n",
    "for key in count_dic.keys():\n",
    "    id_list = count_dic[key]\n",
    "    list_sumtime_per_person = []\n",
    "    for id in id_list:\n",
    "        df = df1_WS1T[df1_WS1T['CASE_ID']== id]\n",
    "        tsum = df['time_used_second'].sum()\n",
    "        list_sumtime_per_person.append(tsum)\n",
    "    list_mediantime_per_key.append(numpy.median(list_sumtime_per_person))\n",
    "\n",
    "list_mediantime_per_key_str = []\n",
    "for i in list_mediantime_per_key:\n",
    "    list_mediantime_per_key_str.append(strfdelta(i,\"{days} days {hours} hours {minutes} minutes {seconds} seconds\"))"
   ],
   "metadata": {
    "collapsed": false,
    "pycharm": {
     "name": "#%%\n"
    }
   }
  },
  {
   "cell_type": "code",
   "execution_count": 9,
   "outputs": [],
   "source": [
    "list_percent_reach_end = []\n",
    "for key in count_dic.keys():\n",
    "    id_list = count_dic[key]\n",
    "    count_df_end_step = 0\n",
    "    count_df_id = 0\n",
    "    for id in id_list:\n",
    "        df_id = df1_WS1T[df1_WS1T['CASE_ID']== id]\n",
    "        df_end_step = df_id[df_id['WRKFLW_TSK_MAP_GROUPED']=='Send for Assessment']\n",
    "        count_df_id += df_id['CASE_ID'].nunique()\n",
    "        count_df_end_step += df_end_step['CASE_ID'].nunique()\n",
    "    list_percent_reach_end.append(str(round((count_df_end_step/count_df_id)*100,2))+ \"%\")"
   ],
   "metadata": {
    "collapsed": false,
    "pycharm": {
     "name": "#%%\n"
    }
   }
  },
  {
   "cell_type": "code",
   "execution_count": 10,
   "outputs": [],
   "source": [
    "list_step_per_key = []\n",
    "for key in count_dic.keys():\n",
    "    id_list = count_dic[key]\n",
    "    list_step = set()\n",
    "    for id in id_list:\n",
    "        df = df1_WS1T[df1_WS1T['CASE_ID']== id]\n",
    "        for index, row in df.iterrows():\n",
    "            list_step.add(row['WRKFLW_TSK_MAP_GROUPED'])\n",
    "    list_step_per_key.append(list_step)\n"
   ],
   "metadata": {
    "collapsed": false,
    "pycharm": {
     "name": "#%%\n"
    }
   }
  },
  {
   "cell_type": "code",
   "execution_count": 11,
   "outputs": [],
   "source": [
    "from collections import Counter\n",
    "import collections, functools, operator\n",
    "list_step_sum_time_per_key = []\n",
    "list_step_count_per_key = []\n",
    "list_step_ave_time_per_key = []\n",
    "for key in count_dic.keys():\n",
    "    id_list = count_dic[key]\n",
    "    list_step = []\n",
    "    step_time_list = []\n",
    "    for id in id_list:\n",
    "        df = df1_WS1T[df1_WS1T['CASE_ID']== id]\n",
    "        step_time = dict(zip(df.WRKFLW_TSK_MAP_GROUPED, df.time_used_second))\n",
    "        step_time_list.append(step_time)\n",
    "        for index, row in df.iterrows():\n",
    "            list_step.append(row['WRKFLW_TSK_MAP_GROUPED'])\n",
    "\n",
    "    step_sum_time = dict(functools.reduce(operator.add,\n",
    "         map(collections.Counter, step_time_list)))\n",
    "\n",
    "    dict_list_step=dict(Counter(list_step))\n",
    "\n",
    "    step_ave_time = {key: strfdelta(step_sum_time[key] // dict_list_step.get(key, 0),\"{days} days {hours} hours {minutes} minutes {seconds} seconds\")\n",
    "                        for key in step_sum_time.keys()}\n",
    "\n",
    "    sort_step_sum_time = sorted(step_sum_time.items(),key = lambda x: x[1], reverse = True)\n",
    "    list_step_sum_time_per_key.append(sort_step_sum_time)\n",
    "\n",
    "    sort_dict_list_step = sorted(dict_list_step.items(),key = lambda x: x[1], reverse = True)\n",
    "    list_step_count_per_key.append(sort_dict_list_step)\n",
    "\n",
    "    sort_step_ave_time = sorted(step_ave_time.items(),key = lambda x: x[1], reverse = True)\n",
    "    list_step_ave_time_per_key.append(sort_step_ave_time)"
   ],
   "metadata": {
    "collapsed": false,
    "pycharm": {
     "name": "#%%\n"
    }
   }
  },
  {
   "cell_type": "code",
   "execution_count": 12,
   "outputs": [
    {
     "data": {
      "text/plain": "   Number of Workflow processes in this Workflow Segment  Number of cases  \\\n0                                                  1                  537   \n1                                                  2                  177   \n2                                                  3                  178   \n3                                                  4                  550   \n4                                                  5                  928   \n5                                                  6                 1132   \n6                                                  7                 1470   \n7                                                  8                 1479   \n8                                                  9                 1329   \n9                                                 10                 1116   \n\n        average time for workflow segment  \\\n0      0 days 0 hours 0 minutes 0 seconds   \n1  17 days 17 hours 53 minutes 27 seconds   \n2  16 days 10 hours 55 minutes 13 seconds   \n3   15 days 13 hours 3 minutes 14 seconds   \n4   16 days 7 hours 45 minutes 46 seconds   \n5    20 days 5 hours 0 minutes 43 seconds   \n6   20 days 7 hours 38 minutes 30 seconds   \n7  21 days 12 hours 38 minutes 35 seconds   \n8   24 days 22 hours 58 minutes 2 seconds   \n9  27 days 13 hours 50 minutes 44 seconds   \n\n                 median time for workflow segment  \\\n0      0.0 days 0.0 hours 0.0 minutes 0.0 seconds   \n1   9.0 days 22.0 hours 36.0 minutes 34.0 seconds   \n2   9.0 days 13.0 hours 35.0 minutes 11.0 seconds   \n3  10.0 days 21.0 hours 40.0 minutes 55.5 seconds   \n4  11.0 days 15.0 hours 24.0 minutes 20.5 seconds   \n5   13.0 days 5.0 hours 54.0 minutes 39.5 seconds   \n6  13.0 days 23.0 hours 35.0 minutes 49.5 seconds   \n7  14.0 days 23.0 hours 33.0 minutes 27.0 seconds   \n8   17.0 days 11.0 hours 3.0 minutes 38.0 seconds   \n9  19.0 days 16.0 hours 53.0 minutes 45.5 seconds   \n\n  percentage of cases reaching to end of workflow segment  \\\n0                                               0.0%        \n1                                             76.84%        \n2                                             74.72%        \n3                                             90.55%        \n4                                             95.15%        \n5                                             93.37%        \n6                                             93.06%        \n7                                             92.43%        \n8                                             93.08%        \n9                                              91.4%        \n\n                                                step  \\\n0                                           {Submit}   \n1  {WITHDRAW & LOCK, AR - Reviewed - previous or ...   \n2  {AR - Created - Other, AR - Created - previous...   \n3  {AR - Not Satisfied - previous or current stud...   \n4  {AR - Not Satisfied - previous or current stud...   \n5  {AR - Not Satisfied - previous or current stud...   \n6  {AR - Not Satisfied - previous or current stud...   \n7  {AR - Not Satisfied - previous or current stud...   \n8  {AR - Not Satisfied - previous or current stud...   \n9  {AR - Not Satisfied - previous or current stud...   \n\n                                          step count  \\\n0                                    [(Submit, 537)]   \n1  [(Submit, 177), (Send for Assessment, 136), (W...   \n2  [(Submit, 181), (Send for Assessment, 133), (A...   \n3  [(Submit, 553), (Send for Assessment, 498), (A...   \n4  [(Submit, 933), (Send for Assessment, 883), (A...   \n5  [(Submit, 1135), (Send for Assessment, 1057), ...   \n6  [(Submit, 1477), (AR - Satisfied - previous or...   \n7  [(AR - Satisfied - previous or current study, ...   \n8  [(AR - Satisfied - previous or current study, ...   \n9  [(Submit, 1120), (AR - Satisfied - previous or...   \n\n             Num of Occurrences per step(descending)  \\\n0                                    [(Submit, 537)]   \n1  [(Submit, 177), (Send for Assessment, 136), (W...   \n2  [(Submit, 181), (Send for Assessment, 133), (A...   \n3  [(Submit, 553), (Send for Assessment, 498), (A...   \n4  [(Submit, 933), (Send for Assessment, 883), (A...   \n5  [(Submit, 1135), (Send for Assessment, 1057), ...   \n6  [(Submit, 1477), (AR - Satisfied - previous or...   \n7  [(AR - Satisfied - previous or current study, ...   \n8  [(AR - Satisfied - previous or current study, ...   \n9  [(Submit, 1120), (AR - Satisfied - previous or...   \n\n            Average time spends per step(descending)  \n0                                                 []  \n1  [(AR - Created - applicant demographics, 4.0 d...  \n2  [(Put Triage On-Hold, 5.0 days 13.0 hours 5.0 ...  \n3  [(Put Triage On-Hold, 5.0 days 4.0 hours 54.0 ...  \n4  [(AR - Created - further information, 8.0 days...  \n5  [(AR - Requested - previous or current study, ...  \n6  [(AR - Requested - previous or current study, ...  \n7  [(AR - Created - applicant demographics, 5.0 d...  \n8  [(AR - Satisfied - applicant demographics, 7.0...  \n9  [(AR - Created - syllabus, 6.0 days 23.0 hours...  ",
      "text/html": "<div>\n<style scoped>\n    .dataframe tbody tr th:only-of-type {\n        vertical-align: middle;\n    }\n\n    .dataframe tbody tr th {\n        vertical-align: top;\n    }\n\n    .dataframe thead th {\n        text-align: right;\n    }\n</style>\n<table border=\"1\" class=\"dataframe\">\n  <thead>\n    <tr style=\"text-align: right;\">\n      <th></th>\n      <th>Number of Workflow processes in this Workflow Segment</th>\n      <th>Number of cases</th>\n      <th>average time for workflow segment</th>\n      <th>median time for workflow segment</th>\n      <th>percentage of cases reaching to end of workflow segment</th>\n      <th>step</th>\n      <th>step count</th>\n      <th>Num of Occurrences per step(descending)</th>\n      <th>Average time spends per step(descending)</th>\n    </tr>\n  </thead>\n  <tbody>\n    <tr>\n      <th>0</th>\n      <td>1</td>\n      <td>537</td>\n      <td>0 days 0 hours 0 minutes 0 seconds</td>\n      <td>0.0 days 0.0 hours 0.0 minutes 0.0 seconds</td>\n      <td>0.0%</td>\n      <td>{Submit}</td>\n      <td>[(Submit, 537)]</td>\n      <td>[(Submit, 537)]</td>\n      <td>[]</td>\n    </tr>\n    <tr>\n      <th>1</th>\n      <td>2</td>\n      <td>177</td>\n      <td>17 days 17 hours 53 minutes 27 seconds</td>\n      <td>9.0 days 22.0 hours 36.0 minutes 34.0 seconds</td>\n      <td>76.84%</td>\n      <td>{WITHDRAW &amp; LOCK, AR - Reviewed - previous or ...</td>\n      <td>[(Submit, 177), (Send for Assessment, 136), (W...</td>\n      <td>[(Submit, 177), (Send for Assessment, 136), (W...</td>\n      <td>[(AR - Created - applicant demographics, 4.0 d...</td>\n    </tr>\n    <tr>\n      <th>2</th>\n      <td>3</td>\n      <td>178</td>\n      <td>16 days 10 hours 55 minutes 13 seconds</td>\n      <td>9.0 days 13.0 hours 35.0 minutes 11.0 seconds</td>\n      <td>74.72%</td>\n      <td>{AR - Created - Other, AR - Created - previous...</td>\n      <td>[(Submit, 181), (Send for Assessment, 133), (A...</td>\n      <td>[(Submit, 181), (Send for Assessment, 133), (A...</td>\n      <td>[(Put Triage On-Hold, 5.0 days 13.0 hours 5.0 ...</td>\n    </tr>\n    <tr>\n      <th>3</th>\n      <td>4</td>\n      <td>550</td>\n      <td>15 days 13 hours 3 minutes 14 seconds</td>\n      <td>10.0 days 21.0 hours 40.0 minutes 55.5 seconds</td>\n      <td>90.55%</td>\n      <td>{AR - Not Satisfied - previous or current stud...</td>\n      <td>[(Submit, 553), (Send for Assessment, 498), (A...</td>\n      <td>[(Submit, 553), (Send for Assessment, 498), (A...</td>\n      <td>[(Put Triage On-Hold, 5.0 days 4.0 hours 54.0 ...</td>\n    </tr>\n    <tr>\n      <th>4</th>\n      <td>5</td>\n      <td>928</td>\n      <td>16 days 7 hours 45 minutes 46 seconds</td>\n      <td>11.0 days 15.0 hours 24.0 minutes 20.5 seconds</td>\n      <td>95.15%</td>\n      <td>{AR - Not Satisfied - previous or current stud...</td>\n      <td>[(Submit, 933), (Send for Assessment, 883), (A...</td>\n      <td>[(Submit, 933), (Send for Assessment, 883), (A...</td>\n      <td>[(AR - Created - further information, 8.0 days...</td>\n    </tr>\n    <tr>\n      <th>5</th>\n      <td>6</td>\n      <td>1132</td>\n      <td>20 days 5 hours 0 minutes 43 seconds</td>\n      <td>13.0 days 5.0 hours 54.0 minutes 39.5 seconds</td>\n      <td>93.37%</td>\n      <td>{AR - Not Satisfied - previous or current stud...</td>\n      <td>[(Submit, 1135), (Send for Assessment, 1057), ...</td>\n      <td>[(Submit, 1135), (Send for Assessment, 1057), ...</td>\n      <td>[(AR - Requested - previous or current study, ...</td>\n    </tr>\n    <tr>\n      <th>6</th>\n      <td>7</td>\n      <td>1470</td>\n      <td>20 days 7 hours 38 minutes 30 seconds</td>\n      <td>13.0 days 23.0 hours 35.0 minutes 49.5 seconds</td>\n      <td>93.06%</td>\n      <td>{AR - Not Satisfied - previous or current stud...</td>\n      <td>[(Submit, 1477), (AR - Satisfied - previous or...</td>\n      <td>[(Submit, 1477), (AR - Satisfied - previous or...</td>\n      <td>[(AR - Requested - previous or current study, ...</td>\n    </tr>\n    <tr>\n      <th>7</th>\n      <td>8</td>\n      <td>1479</td>\n      <td>21 days 12 hours 38 minutes 35 seconds</td>\n      <td>14.0 days 23.0 hours 33.0 minutes 27.0 seconds</td>\n      <td>92.43%</td>\n      <td>{AR - Not Satisfied - previous or current stud...</td>\n      <td>[(AR - Satisfied - previous or current study, ...</td>\n      <td>[(AR - Satisfied - previous or current study, ...</td>\n      <td>[(AR - Created - applicant demographics, 5.0 d...</td>\n    </tr>\n    <tr>\n      <th>8</th>\n      <td>9</td>\n      <td>1329</td>\n      <td>24 days 22 hours 58 minutes 2 seconds</td>\n      <td>17.0 days 11.0 hours 3.0 minutes 38.0 seconds</td>\n      <td>93.08%</td>\n      <td>{AR - Not Satisfied - previous or current stud...</td>\n      <td>[(AR - Satisfied - previous or current study, ...</td>\n      <td>[(AR - Satisfied - previous or current study, ...</td>\n      <td>[(AR - Satisfied - applicant demographics, 7.0...</td>\n    </tr>\n    <tr>\n      <th>9</th>\n      <td>10</td>\n      <td>1116</td>\n      <td>27 days 13 hours 50 minutes 44 seconds</td>\n      <td>19.0 days 16.0 hours 53.0 minutes 45.5 seconds</td>\n      <td>91.4%</td>\n      <td>{AR - Not Satisfied - previous or current stud...</td>\n      <td>[(Submit, 1120), (AR - Satisfied - previous or...</td>\n      <td>[(Submit, 1120), (AR - Satisfied - previous or...</td>\n      <td>[(AR - Created - syllabus, 6.0 days 23.0 hours...</td>\n    </tr>\n  </tbody>\n</table>\n</div>"
     },
     "execution_count": 12,
     "metadata": {},
     "output_type": "execute_result"
    }
   ],
   "source": [
    "s1_t1=pd.DataFrame({'Number of Workflow processes in this Workflow Segment':count_dic.keys(),'Number of cases':len_list, 'average time for workflow segment':list_avgtime_per_key_str,'median time for workflow segment':list_mediantime_per_key_str,'percentage of cases reaching to end of workflow segment':list_percent_reach_end,'step':list_step_per_key,'step count':list_step_count_per_key})\n",
    "s1_t1['Num of Occurrences per step(descending)'] = list_step_count_per_key\n",
    "s1_t1['Average time spends per step(descending)'] = list_step_ave_time_per_key\n",
    "s1_t1.head(n=10)\n"
   ],
   "metadata": {
    "collapsed": false,
    "pycharm": {
     "name": "#%%\n"
    }
   }
  },
  {
   "cell_type": "code",
   "execution_count": 13,
   "outputs": [],
   "source": [
    "s1_t1.to_csv('engineering_OF_segment1_workflowS1_table.csv', index=False)\n",
    "\n",
    "\n",
    "\n",
    "\n",
    "\n",
    "\n"
   ],
   "metadata": {
    "collapsed": false,
    "pycharm": {
     "name": "#%%\n"
    }
   }
  }
 ],
 "metadata": {
  "kernelspec": {
   "name": "pycharm-3f427a6c",
   "language": "python",
   "display_name": "PyCharm (pythonProject)"
  },
  "language_info": {
   "codemirror_mode": {
    "name": "ipython",
    "version": 2
   },
   "file_extension": ".py",
   "mimetype": "text/x-python",
   "name": "python",
   "nbconvert_exporter": "python",
   "pygments_lexer": "ipython2",
   "version": "2.7.6"
  }
 },
 "nbformat": 4,
 "nbformat_minor": 0
}