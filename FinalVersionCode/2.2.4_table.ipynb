{
 "cells": [
  {
   "cell_type": "code",
   "execution_count": 1,
   "metadata": {
    "collapsed": true
   },
   "outputs": [],
   "source": [
    "import pandas as pd\n",
    "import numpy\n",
    "from __future__ import division"
   ]
  },
  {
   "cell_type": "code",
   "execution_count": 2,
   "outputs": [],
   "source": [
    "df2_WS4T = pd.read_csv(\"/Users/asteriag/Desktop/DATASCIENCEPROJECT_WORKFLOW/TimeStamp_Engineering/engineering_AS_segment2_workflowS4_has_duration.csv\",engine='python')"
   ],
   "metadata": {
    "collapsed": false,
    "pycharm": {
     "name": "#%%\n"
    }
   }
  },
  {
   "cell_type": "code",
   "execution_count": 3,
   "outputs": [
    {
     "data": {
      "text/plain": "                CASE_ID WRKFLW_TSK_MAP_GROUPED WRKFLW_TSK_MAP_DETAILED  \\\n0  722111|418134|648088          Release Offer           Release Offer   \n\n      PATH_CRDATETIME                          time_used_str  time_used_second  \n0  8/12/2018 14:00:19  67 days 0 hours 15 minutes 20 seconds         5789720.0  ",
      "text/html": "<div>\n<style scoped>\n    .dataframe tbody tr th:only-of-type {\n        vertical-align: middle;\n    }\n\n    .dataframe tbody tr th {\n        vertical-align: top;\n    }\n\n    .dataframe thead th {\n        text-align: right;\n    }\n</style>\n<table border=\"1\" class=\"dataframe\">\n  <thead>\n    <tr style=\"text-align: right;\">\n      <th></th>\n      <th>CASE_ID</th>\n      <th>WRKFLW_TSK_MAP_GROUPED</th>\n      <th>WRKFLW_TSK_MAP_DETAILED</th>\n      <th>PATH_CRDATETIME</th>\n      <th>time_used_str</th>\n      <th>time_used_second</th>\n    </tr>\n  </thead>\n  <tbody>\n    <tr>\n      <th>0</th>\n      <td>722111|418134|648088</td>\n      <td>Release Offer</td>\n      <td>Release Offer</td>\n      <td>8/12/2018 14:00:19</td>\n      <td>67 days 0 hours 15 minutes 20 seconds</td>\n      <td>5789720.0</td>\n    </tr>\n  </tbody>\n</table>\n</div>"
     },
     "execution_count": 3,
     "metadata": {},
     "output_type": "execute_result"
    }
   ],
   "source": [
    "df2_WS4T.head(n=1)"
   ],
   "metadata": {
    "collapsed": false,
    "pycharm": {
     "name": "#%%\n"
    }
   }
  },
  {
   "cell_type": "code",
   "execution_count": 4,
   "outputs": [
    {
     "data": {
      "text/plain": "35"
     },
     "execution_count": 4,
     "metadata": {},
     "output_type": "execute_result"
    }
   ],
   "source": [
    "df2_WS4T['WRKFLW_TSK_MAP_GROUPED'].nunique()"
   ],
   "metadata": {
    "collapsed": false,
    "pycharm": {
     "name": "#%%\n"
    }
   }
  },
  {
   "cell_type": "code",
   "execution_count": 5,
   "outputs": [
    {
     "data": {
      "text/plain": "43"
     },
     "execution_count": 5,
     "metadata": {},
     "output_type": "execute_result"
    }
   ],
   "source": [
    "df2_WS4T['WRKFLW_TSK_MAP_DETAILED'].nunique()"
   ],
   "metadata": {
    "collapsed": false,
    "pycharm": {
     "name": "#%%\n"
    }
   }
  },
  {
   "cell_type": "code",
   "execution_count": 6,
   "outputs": [
    {
     "name": "stdout",
     "output_type": "stream",
     "text": [
      "[('Release Offer', 1109), ('Accept', 799), ('OC - Satisfied - Evidence of course completion', 227), ('Manage Acceptance', 114), ('Defer', 83), ('OC - Created - Evidence of course completion', 40), ('Decline', 35), ('Assessment Decision - Qualified', 33), ('AR - Satisfied - Academic results for prior tertiary studies', 18), ('OC - Satisfied - English language requirements', 17), ('Assessment Decision - No Decision', 13), ('AR - Satisfied - Further information (1)', 10), ('AR - Satisfied - Credit for previous study', 8), ('AR - Satisfied - English language proficiency', 8), ('OC - Not Satisfied - Evidence of course completion', 7), ('OC - Requested - Evidence of course completion', 7), ('Release Assessment Hold', 6), ('Withdraw', 5), ('Put Assessment On-Hold', 4), ('AR - Satisfied - Graduate Access Melbourne', 3), ('End My Assessment', 3), ('OC - Created - English language requirements', 3), ('OC - Reviewed - Evidence of course completion', 3), ('AR - Reviewed - Credit for previous study', 2), ('AR - Satisfied - Advanced Standing', 2), ('AR - Satisfied - Current enrolment at the University of Melbourne', 2), ('AR - Satisfied - Official syllabus or subject descriptions (in English)', 2), ('AR - Satisfied - University of Melbourne Statement of Results / transcript', 2), ('Assessment Decision - Not Qualified', 2), ('OC - Requested - English language requirements', 2), ('AR - Created - Assessment information (Coursework) (1)', 1), ('AR - Created - Further information (1)', 1), ('AR - Created - University of Melbourne Statement of Results / transcript', 1), ('AR - Not Satisfied - English language proficiency', 1), ('AR - Reviewed - English language proficiency', 1), ('AR - Reviewed - Graduate Access Melbourne', 1), ('AR - Reviewed - Official syllabus or subject descriptions (in English)', 1), ('AR - Satisfied - Assessment information (Coursework) (1)', 1), ('AR - Satisfied - Further information � Preference order required as submitted multiple 1st prefer applications', 1), ('Acacdemic - Assessment Decision - Qualified', 1), ('OC - Created - CHESICC transcript authentication for international students', 1), ('OC - Reviewed - English language requirements', 1), ('Restart Offer Workflow', 1)]\n"
     ]
    }
   ],
   "source": [
    "wd_count = df2_WS4T.groupby('WRKFLW_TSK_MAP_DETAILED').WRKFLW_TSK_MAP_DETAILED.count()\n",
    "wd_dict = dict()\n",
    "for i, v in wd_count.items():\n",
    "    wd_dict[i] = v\n",
    "sorted_wd_dict = sorted(wd_dict.items(), key = lambda x: x[1], reverse = True)\n",
    "print(sorted_wd_dict)"
   ],
   "metadata": {
    "collapsed": false,
    "pycharm": {
     "name": "#%%\n"
    }
   }
  },
  {
   "cell_type": "code",
   "execution_count": 7,
   "outputs": [
    {
     "name": "stdout",
     "output_type": "stream",
     "text": [
      "[('Release Assessment Hold', 5331729.0), ('OC - Created - Evidence of course completion', 3843409.0), ('OC - Reviewed - Evidence of course completion', 3741198.0), ('AR - Satisfied - Official syllabus or subject descriptions (in English)', 2972607.0), ('Release Offer', 2818026.0), ('AR - Satisfied - Further information � Preference order required as submitted multiple 1st prefer applications', 2406651.0), ('OC - Created - CHESICC transcript authentication for international students', 2164642.0), ('Assessment Decision - Qualified', 1860143.0), ('AR - Satisfied - Academic results for prior tertiary studies', 1751416.0), ('AR - Satisfied - Credit for previous study', 1658817.0), ('AR - Reviewed - Credit for previous study', 1335121.0), ('AR - Reviewed - Graduate Access Melbourne', 1305685.0), ('AR - Satisfied - Graduate Access Melbourne', 1260915.0), ('OC - Created - English language requirements', 1160933.0), ('OC - Satisfied - English language requirements', 1103938.0), ('AR - Satisfied - Assessment information (Coursework) (1)', 1098465.0), ('AR - Satisfied - Further information (1)', 945531.0), ('OC - Satisfied - Evidence of course completion', 834929.0), ('End My Assessment', 738364.0), ('Assessment Decision - No Decision', 594996.0), ('AR - Not Satisfied - English language proficiency', 542182.0), ('AR - Created - Assessment information (Coursework) (1)', 498132.0), ('AR - Satisfied - English language proficiency', 465664.0), ('AR - Satisfied - Advanced Standing', 229626.0), ('AR - Satisfied - University of Melbourne Statement of Results / transcript', 172172.0), ('OC - Requested - Evidence of course completion', 162698.0), ('AR - Created - Further information (1)', 115935.0), ('Put Assessment On-Hold', 85976.0), ('OC - Reviewed - English language requirements', 85595.0), ('AR - Reviewed - Official syllabus or subject descriptions (in English)', 72742.0), ('Decline', 21731.0), ('Assessment Decision - Not Qualified', 1302.0), ('AR - Created - University of Melbourne Statement of Results / transcript', 225.0), ('Acacdemic - Assessment Decision - Qualified', 116.0), ('AR - Reviewed - English language proficiency', 96.0), ('Withdraw', 86.0), ('OC - Not Satisfied - Evidence of course completion', 85.0), ('Restart Offer Workflow', 26.0), ('AR - Satisfied - Current enrolment at the University of Melbourne', 6.0), ('Accept', 0.0), ('Defer', 0.0), ('Manage Acceptance', 0.0), ('OC - Requested - English language requirements', 0.0)]\n"
     ]
    }
   ],
   "source": [
    "list = df2_WS4T.WRKFLW_TSK_MAP_DETAILED.unique()\n",
    "avg_time_dict = dict()\n",
    "for key in list :\n",
    "    df_slides = df2_WS4T[df2_WS4T['WRKFLW_TSK_MAP_DETAILED'] == key]\n",
    "    sum = df_slides['time_used_second'].sum()\n",
    "    c = len(df_slides)\n",
    "    avg = sum//c\n",
    "    avg_time_dict[key] = avg\n",
    "\n",
    "sorted_avg_time_dict = sorted(avg_time_dict.items(),key = lambda x: x[1], reverse = True)\n",
    "print(sorted_avg_time_dict)"
   ],
   "metadata": {
    "collapsed": false,
    "pycharm": {
     "name": "#%%\n"
    }
   }
  },
  {
   "cell_type": "code",
   "execution_count": 8,
   "outputs": [],
   "source": [
    "numOfWorkflowProcesses = df2_WS4T.groupby('CASE_ID').CASE_ID.count()\n",
    "\n",
    "count_dic=dict()\n",
    "for i,v in numOfWorkflowProcesses.items():\n",
    "    if count_dic.get(v) is None:\n",
    "        count_dic[v]=[]\n",
    "        count_dic[v].append(i)\n",
    "    else:\n",
    "        count_dic[v].append(i)\n",
    "#count_dic\n",
    "\n",
    "count_dic = dict(sorted(count_dic.items()))"
   ],
   "metadata": {
    "collapsed": false,
    "pycharm": {
     "name": "#%%\n"
    }
   }
  },
  {
   "cell_type": "code",
   "execution_count": 9,
   "outputs": [],
   "source": [
    "len_list=[]\n",
    "for key in count_dic.keys():\n",
    "    len_list.append(len(count_dic[key]))"
   ],
   "metadata": {
    "collapsed": false,
    "pycharm": {
     "name": "#%%\n"
    }
   }
  },
  {
   "cell_type": "code",
   "execution_count": 10,
   "outputs": [],
   "source": [
    "def strfdelta(tdelta, fmt):\n",
    "    d=dict()\n",
    "    d[\"days\"],rem1 = divmod(tdelta,60*60*24)\n",
    "    d[\"hours\"], rem2 = divmod(rem1, 3600)\n",
    "    d[\"minutes\"], d[\"seconds\"] = divmod(rem2, 60)\n",
    "    return fmt.format(**d)"
   ],
   "metadata": {
    "collapsed": false,
    "pycharm": {
     "name": "#%%\n"
    }
   }
  },
  {
   "cell_type": "code",
   "execution_count": 11,
   "outputs": [],
   "source": [
    "list_avgtime_per_key =[]\n",
    "list_sumtime_row = []\n",
    "for key in count_dic.keys():\n",
    "    id_list = count_dic[key]\n",
    "    list_sumtime_person = 0\n",
    "    for id in id_list:\n",
    "        df = df2_WS4T[df2_WS4T['CASE_ID']== id]\n",
    "        tsum = df['time_used_second'].sum()\n",
    "        list_sumtime_person+=tsum\n",
    "    list_avgtime_per_key.append(int((list_sumtime_person/len(count_dic[key]))))\n",
    "    list_sumtime_row.append(list_sumtime_person)\n",
    "list_avgtime_per_key_str = []\n",
    "for i in list_avgtime_per_key:\n",
    "    list_avgtime_per_key_str.append(strfdelta(i,\"{days} days {hours} hours {minutes} minutes {seconds} seconds\"))"
   ],
   "metadata": {
    "collapsed": false,
    "pycharm": {
     "name": "#%%\n"
    }
   }
  },
  {
   "cell_type": "code",
   "execution_count": 12,
   "outputs": [],
   "source": [
    "list_mediantime_per_key = []\n",
    "for key in count_dic.keys():\n",
    "    id_list = count_dic[key]\n",
    "    list_sumtime_per_person = []\n",
    "    for id in id_list:\n",
    "        df = df2_WS4T[df2_WS4T['CASE_ID']== id]\n",
    "        tsum = df['time_used_second'].sum()\n",
    "        list_sumtime_per_person.append(tsum)\n",
    "    list_mediantime_per_key.append(numpy.median(list_sumtime_per_person))\n",
    "\n",
    "list_mediantime_per_key_str = []\n",
    "for i in list_mediantime_per_key:\n",
    "    list_mediantime_per_key_str.append(strfdelta(i,\"{days} days {hours} hours {minutes} minutes {seconds} seconds\"))"
   ],
   "metadata": {
    "collapsed": false,
    "pycharm": {
     "name": "#%%\n"
    }
   }
  },
  {
   "cell_type": "code",
   "execution_count": 13,
   "outputs": [],
   "source": [
    "list_percent_reach_end = []\n",
    "for key in count_dic.keys():\n",
    "    id_list = count_dic[key]\n",
    "    count_df_end_step = 0\n",
    "    count_df_id = 0\n",
    "    for id in id_list:\n",
    "        df_id = df2_WS4T[df2_WS4T['CASE_ID']== id]\n",
    "        df_end_step = df_id[df_id['WRKFLW_TSK_MAP_GROUPED'].isin(['Accept','Defer'])]\n",
    "        count_df_id += df_id['CASE_ID'].count()\n",
    "        count_df_end_step += df_end_step['CASE_ID'].count()\n",
    "    list_percent_reach_end.append(str(round((count_df_end_step/count_df_id)*100,2))+ \"%\")"
   ],
   "metadata": {
    "collapsed": false,
    "pycharm": {
     "name": "#%%\n"
    }
   }
  },
  {
   "cell_type": "code",
   "execution_count": 14,
   "outputs": [],
   "source": [
    "list_step_per_key = []\n",
    "for key in count_dic.keys():\n",
    "    id_list = count_dic[key]\n",
    "    list_step = set()\n",
    "    for id in id_list:\n",
    "        df = df2_WS4T[df2_WS4T['CASE_ID']== id]\n",
    "        for index, row in df.iterrows():\n",
    "            list_step.add(row['WRKFLW_TSK_MAP_GROUPED'])\n",
    "    list_step_per_key.append(list_step)"
   ],
   "metadata": {
    "collapsed": false,
    "pycharm": {
     "name": "#%%\n"
    }
   }
  },
  {
   "cell_type": "code",
   "execution_count": 15,
   "outputs": [],
   "source": [
    "from collections import Counter\n",
    "import collections, functools, operator\n",
    "list_step_sum_time_per_key = []\n",
    "list_step_count_per_key = []\n",
    "list_step_ave_time_per_key = []\n",
    "for key in count_dic.keys():\n",
    "    id_list = count_dic[key]\n",
    "    list_step = []\n",
    "    step_time_list = []\n",
    "    for id in id_list:\n",
    "        df = df2_WS4T[df2_WS4T['CASE_ID']== id]\n",
    "        step_time = dict(zip(df.WRKFLW_TSK_MAP_GROUPED, df.time_used_second))\n",
    "        step_time_list.append(step_time)\n",
    "        for index, row in df.iterrows():\n",
    "            list_step.append(row['WRKFLW_TSK_MAP_GROUPED'])\n",
    "\n",
    "    step_sum_time = dict(functools.reduce(operator.add,\n",
    "         map(collections.Counter, step_time_list)))\n",
    "\n",
    "    dict_list_step=dict(Counter(list_step))\n",
    "\n",
    "    step_ave_time = {key: strfdelta(step_sum_time[key] // dict_list_step.get(key, 0),\"{days} days {hours} hours {minutes} minutes {seconds} seconds\")\n",
    "                        for key in step_sum_time.keys()}\n",
    "\n",
    "    sort_step_sum_time = sorted(step_sum_time.items(),key = lambda x: x[1], reverse = True)\n",
    "    list_step_sum_time_per_key.append(sort_step_sum_time)\n",
    "\n",
    "    sort_dict_list_step = sorted(dict_list_step.items(),key = lambda x: x[1], reverse = True)\n",
    "    list_step_count_per_key.append(sort_dict_list_step[:6])\n",
    "\n",
    "    sort_step_ave_time = sorted(step_ave_time.items(),key = lambda x: x[1], reverse = True)\n",
    "    list_step_ave_time_per_key.append(sort_step_ave_time)\n"
   ],
   "metadata": {
    "collapsed": false,
    "pycharm": {
     "name": "#%%\n"
    }
   }
  },
  {
   "cell_type": "code",
   "execution_count": 16,
   "outputs": [
    {
     "data": {
      "text/plain": "   Number of Workflow processes in this Workflow Segment  Number of cases  \\\n0                                                  1                  126   \n1                                                  2                  601   \n2                                                  3                  301   \n3                                                  4                   53   \n4                                                  5                   14   \n5                                                  6                    6   \n6                                                  7                    2   \n7                                                  8                    1   \n8                                                 11                    1   \n\n        average time for workflow segment  \\\n0      0 days 0 hours 0 minutes 0 seconds   \n1   31 days 9 hours 25 minutes 56 seconds   \n2  63 days 12 hours 49 minutes 11 seconds   \n3  57 days 23 hours 57 minutes 14 seconds   \n4  75 days 10 hours 12 minutes 26 seconds   \n5   36 days 18 hours 2 minutes 35 seconds   \n6   108 days 9 hours 26 minutes 9 seconds   \n7    77 days 0 hours 46 minutes 4 seconds   \n8   38 days 2 hours 31 minutes 19 seconds   \n\n                 median time for workflow segment  \\\n0      0.0 days 0.0 hours 0.0 minutes 0.0 seconds   \n1    15.0 days 7.0 hours 9.0 minutes 42.0 seconds   \n2    49.0 days 14.0 hours 3.0 minutes 4.0 seconds   \n3   49.0 days 8.0 hours 13.0 minutes 48.0 seconds   \n4  46.0 days 20.0 hours 47.0 minutes 21.0 seconds   \n5  24.0 days 16.0 hours 41.0 minutes 58.5 seconds   \n6   108.0 days 9.0 hours 26.0 minutes 9.0 seconds   \n7    77.0 days 0.0 hours 46.0 minutes 4.0 seconds   \n8   38.0 days 2.0 hours 31.0 minutes 19.0 seconds   \n\n  percentage of cases reaching to end of workflow segment  \\\n0                                               0.0%        \n1                                             45.01%        \n2                                             30.56%        \n3                                              21.7%        \n4                                             15.71%        \n5                                             13.89%        \n6                                             14.29%        \n7                                               0.0%        \n8                                              9.09%        \n\n             Num of Occurrences per step(descending)  \\\n0                             [(Release Offer, 126)]   \n1  [(Release Offer, 602), (Accept, 482), (Defer, ...   \n2  [(Release Offer, 302), (Accept, 257), (OC - Sa...   \n3  [(Release Offer, 54), (Accept, 42), (OC - Sati...   \n4  [(Release Offer, 15), (Accept, 10), (OC - Sati...   \n5  [(Release Offer, 6), (OC - Satisfied - Other, ...   \n6  [(Assessment Decision - Qualified, 3), (Releas...   \n7  [(Assessment Decision - Not Qualified, 2), (OC...   \n8  [(Assessment Decision - Qualified, 3), (Put As...   \n\n            Average time spends per step(descending)  \\\n0                                                 []   \n1  [(Release Offer, 31.0 days 8.0 hours 10.0 minu...   \n2  [(AR - Satisfied - further information, 8.0 da...   \n3  [(OC - Reviewed - Other, 43.0 days 8.0 hours 4...   \n4  [(Assessment Decision - Qualified, 86.0 days 1...   \n5  [(AR - Satisfied - advanced standing, 4.0 days...   \n6  [(OC - Reviewed - Other, 43.0 days 4.0 hours 1...   \n7  [(Assessment Decision - No Decision, 6.0 days ...   \n8  [(OC - Satisfied - Other, 6.0 days 3.0 hours 3...   \n\n   average time for workflow segment(seconds)  \\\n0                                           0   \n1                                     2712356   \n2                                     5489351   \n3                                     5011034   \n4                                     6516746   \n5                                     3175355   \n6                                     9365169   \n7                                     6655564   \n8                                     3292279   \n\n   sum time for workflow segment(seconds)  \n0                            0.000000e+00  \n1                            1.630126e+09  \n2                            1.652295e+09  \n3                            2.655848e+08  \n4                            9.123445e+07  \n5                            1.905213e+07  \n6                            1.873034e+07  \n7                            6.655564e+06  \n8                            3.292279e+06  ",
      "text/html": "<div>\n<style scoped>\n    .dataframe tbody tr th:only-of-type {\n        vertical-align: middle;\n    }\n\n    .dataframe tbody tr th {\n        vertical-align: top;\n    }\n\n    .dataframe thead th {\n        text-align: right;\n    }\n</style>\n<table border=\"1\" class=\"dataframe\">\n  <thead>\n    <tr style=\"text-align: right;\">\n      <th></th>\n      <th>Number of Workflow processes in this Workflow Segment</th>\n      <th>Number of cases</th>\n      <th>average time for workflow segment</th>\n      <th>median time for workflow segment</th>\n      <th>percentage of cases reaching to end of workflow segment</th>\n      <th>Num of Occurrences per step(descending)</th>\n      <th>Average time spends per step(descending)</th>\n      <th>average time for workflow segment(seconds)</th>\n      <th>sum time for workflow segment(seconds)</th>\n    </tr>\n  </thead>\n  <tbody>\n    <tr>\n      <th>0</th>\n      <td>1</td>\n      <td>126</td>\n      <td>0 days 0 hours 0 minutes 0 seconds</td>\n      <td>0.0 days 0.0 hours 0.0 minutes 0.0 seconds</td>\n      <td>0.0%</td>\n      <td>[(Release Offer, 126)]</td>\n      <td>[]</td>\n      <td>0</td>\n      <td>0.000000e+00</td>\n    </tr>\n    <tr>\n      <th>1</th>\n      <td>2</td>\n      <td>601</td>\n      <td>31 days 9 hours 25 minutes 56 seconds</td>\n      <td>15.0 days 7.0 hours 9.0 minutes 42.0 seconds</td>\n      <td>45.01%</td>\n      <td>[(Release Offer, 602), (Accept, 482), (Defer, ...</td>\n      <td>[(Release Offer, 31.0 days 8.0 hours 10.0 minu...</td>\n      <td>2712356</td>\n      <td>1.630126e+09</td>\n    </tr>\n    <tr>\n      <th>2</th>\n      <td>3</td>\n      <td>301</td>\n      <td>63 days 12 hours 49 minutes 11 seconds</td>\n      <td>49.0 days 14.0 hours 3.0 minutes 4.0 seconds</td>\n      <td>30.56%</td>\n      <td>[(Release Offer, 302), (Accept, 257), (OC - Sa...</td>\n      <td>[(AR - Satisfied - further information, 8.0 da...</td>\n      <td>5489351</td>\n      <td>1.652295e+09</td>\n    </tr>\n    <tr>\n      <th>3</th>\n      <td>4</td>\n      <td>53</td>\n      <td>57 days 23 hours 57 minutes 14 seconds</td>\n      <td>49.0 days 8.0 hours 13.0 minutes 48.0 seconds</td>\n      <td>21.7%</td>\n      <td>[(Release Offer, 54), (Accept, 42), (OC - Sati...</td>\n      <td>[(OC - Reviewed - Other, 43.0 days 8.0 hours 4...</td>\n      <td>5011034</td>\n      <td>2.655848e+08</td>\n    </tr>\n    <tr>\n      <th>4</th>\n      <td>5</td>\n      <td>14</td>\n      <td>75 days 10 hours 12 minutes 26 seconds</td>\n      <td>46.0 days 20.0 hours 47.0 minutes 21.0 seconds</td>\n      <td>15.71%</td>\n      <td>[(Release Offer, 15), (Accept, 10), (OC - Sati...</td>\n      <td>[(Assessment Decision - Qualified, 86.0 days 1...</td>\n      <td>6516746</td>\n      <td>9.123445e+07</td>\n    </tr>\n    <tr>\n      <th>5</th>\n      <td>6</td>\n      <td>6</td>\n      <td>36 days 18 hours 2 minutes 35 seconds</td>\n      <td>24.0 days 16.0 hours 41.0 minutes 58.5 seconds</td>\n      <td>13.89%</td>\n      <td>[(Release Offer, 6), (OC - Satisfied - Other, ...</td>\n      <td>[(AR - Satisfied - advanced standing, 4.0 days...</td>\n      <td>3175355</td>\n      <td>1.905213e+07</td>\n    </tr>\n    <tr>\n      <th>6</th>\n      <td>7</td>\n      <td>2</td>\n      <td>108 days 9 hours 26 minutes 9 seconds</td>\n      <td>108.0 days 9.0 hours 26.0 minutes 9.0 seconds</td>\n      <td>14.29%</td>\n      <td>[(Assessment Decision - Qualified, 3), (Releas...</td>\n      <td>[(OC - Reviewed - Other, 43.0 days 4.0 hours 1...</td>\n      <td>9365169</td>\n      <td>1.873034e+07</td>\n    </tr>\n    <tr>\n      <th>7</th>\n      <td>8</td>\n      <td>1</td>\n      <td>77 days 0 hours 46 minutes 4 seconds</td>\n      <td>77.0 days 0.0 hours 46.0 minutes 4.0 seconds</td>\n      <td>0.0%</td>\n      <td>[(Assessment Decision - Not Qualified, 2), (OC...</td>\n      <td>[(Assessment Decision - No Decision, 6.0 days ...</td>\n      <td>6655564</td>\n      <td>6.655564e+06</td>\n    </tr>\n    <tr>\n      <th>8</th>\n      <td>11</td>\n      <td>1</td>\n      <td>38 days 2 hours 31 minutes 19 seconds</td>\n      <td>38.0 days 2.0 hours 31.0 minutes 19.0 seconds</td>\n      <td>9.09%</td>\n      <td>[(Assessment Decision - Qualified, 3), (Put As...</td>\n      <td>[(OC - Satisfied - Other, 6.0 days 3.0 hours 3...</td>\n      <td>3292279</td>\n      <td>3.292279e+06</td>\n    </tr>\n  </tbody>\n</table>\n</div>"
     },
     "execution_count": 16,
     "metadata": {},
     "output_type": "execute_result"
    }
   ],
   "source": [
    "s2_t4=pd.DataFrame({'Number of Workflow processes in this Workflow Segment':count_dic.keys(),'Number of cases':len_list, 'average time for workflow segment':list_avgtime_per_key_str,'median time for workflow segment':list_mediantime_per_key_str,'percentage of cases reaching to end of workflow segment':list_percent_reach_end})\n",
    "s2_t4['Num of Occurrences per step(descending)'] = list_step_count_per_key\n",
    "s2_t4['Average time spends per step(descending)'] = list_step_ave_time_per_key\n",
    "s2_t4['average time for workflow segment(seconds)'] = list_avgtime_per_key\n",
    "s2_t4['sum time for workflow segment(seconds)'] = list_sumtime_row\n",
    "s2_t4.head(n=10)\n"
   ],
   "metadata": {
    "collapsed": false,
    "pycharm": {
     "name": "#%%\n"
    }
   }
  },
  {
   "cell_type": "code",
   "execution_count": 17,
   "outputs": [],
   "source": [
    "s2_t4.to_csv('engineering_AS_segment2_workflowS4_table.csv', index=False)\n",
    "\n",
    "\n",
    "\n",
    "\n",
    "\n"
   ],
   "metadata": {
    "collapsed": false,
    "pycharm": {
     "name": "#%%\n"
    }
   }
  }
 ],
 "metadata": {
  "kernelspec": {
   "name": "pycharm-3f427a6c",
   "language": "python",
   "display_name": "PyCharm (pythonProject)"
  },
  "language_info": {
   "codemirror_mode": {
    "name": "ipython",
    "version": 2
   },
   "file_extension": ".py",
   "mimetype": "text/x-python",
   "name": "python",
   "nbconvert_exporter": "python",
   "pygments_lexer": "ipython2",
   "version": "2.7.6"
  }
 },
 "nbformat": 4,
 "nbformat_minor": 0
}