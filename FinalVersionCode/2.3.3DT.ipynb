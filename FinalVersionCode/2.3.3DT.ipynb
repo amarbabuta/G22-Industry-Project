{
 "cells": [
  {
   "cell_type": "code",
   "execution_count": 1,
   "metadata": {},
   "outputs": [],
   "source": [
    "import pandas as pd"
   ]
  },
  {
   "cell_type": "code",
   "execution_count": 2,
   "metadata": {},
   "outputs": [],
   "source": [
    "import numpy as np\n",
    "import matplotlib.pyplot as plt\n",
    "import seaborn as sn"
   ]
  },
  {
   "cell_type": "code",
   "execution_count": 3,
   "metadata": {
    "pycharm": {
     "name": "#%%\n"
    }
   },
   "outputs": [],
   "source": [
    "df3_WS1T = pd.read_csv(\"engineering_AF_segment3_workflowS3_has_duration.csv\",engine='python')"
   ]
  },
  {
   "cell_type": "code",
   "execution_count": 4,
   "metadata": {
    "pycharm": {
     "name": "#%%\n"
    }
   },
   "outputs": [
    {
     "data": {
      "text/html": [
       "<div>\n",
       "<style scoped>\n",
       "    .dataframe tbody tr th:only-of-type {\n",
       "        vertical-align: middle;\n",
       "    }\n",
       "\n",
       "    .dataframe tbody tr th {\n",
       "        vertical-align: top;\n",
       "    }\n",
       "\n",
       "    .dataframe thead th {\n",
       "        text-align: right;\n",
       "    }\n",
       "</style>\n",
       "<table border=\"1\" class=\"dataframe\">\n",
       "  <thead>\n",
       "    <tr style=\"text-align: right;\">\n",
       "      <th></th>\n",
       "      <th>CASE_ID</th>\n",
       "      <th>WRKFLW_TSK_MAP_GROUPED</th>\n",
       "      <th>WRKFLW_TSK_MAP_DETAILED</th>\n",
       "      <th>PATH_CRDATETIME</th>\n",
       "      <th>time_used_str</th>\n",
       "      <th>time_used_second</th>\n",
       "    </tr>\n",
       "  </thead>\n",
       "  <tbody>\n",
       "    <tr>\n",
       "      <th>0</th>\n",
       "      <td>1076747|438001|677047</td>\n",
       "      <td>Assessment Outcome - Successful</td>\n",
       "      <td>Assessment Outcome - Successful</td>\n",
       "      <td>15/1/2019 16:46:30</td>\n",
       "      <td>0 days 0 hours 0 minutes 13 seconds</td>\n",
       "      <td>13.0</td>\n",
       "    </tr>\n",
       "  </tbody>\n",
       "</table>\n",
       "</div>"
      ],
      "text/plain": [
       "                 CASE_ID           WRKFLW_TSK_MAP_GROUPED  \\\n",
       "0  1076747|438001|677047  Assessment Outcome - Successful   \n",
       "\n",
       "           WRKFLW_TSK_MAP_DETAILED     PATH_CRDATETIME  \\\n",
       "0  Assessment Outcome - Successful  15/1/2019 16:46:30   \n",
       "\n",
       "                         time_used_str  time_used_second  \n",
       "0  0 days 0 hours 0 minutes 13 seconds              13.0  "
      ]
     },
     "execution_count": 4,
     "metadata": {},
     "output_type": "execute_result"
    }
   ],
   "source": [
    "df3_WS1T.head(n=1)"
   ]
  },
  {
   "cell_type": "code",
   "execution_count": 5,
   "metadata": {
    "pycharm": {
     "name": "#%%\n"
    }
   },
   "outputs": [
    {
     "data": {
      "text/plain": [
       "{'AR - Satisfied - Curriculum Vitae',\n",
       " 'AR - Satisfied - English language proficiency',\n",
       " 'AR - Satisfied - English language requirements',\n",
       " 'AR - Satisfied - Further information (1)',\n",
       " 'Assessment Decision - Qualified',\n",
       " 'Assessment Outcome - Higher Preference Successful',\n",
       " 'Assessment Outcome - Successful',\n",
       " 'Create Offer',\n",
       " 'OC - Created - English language requirements',\n",
       " 'OC - Created - Evidence of course completion',\n",
       " 'OC - Created - Further information (1)',\n",
       " 'OC - Satisfied - English language requirements',\n",
       " 'Put Assessment On-Hold',\n",
       " 'Release Assessment Hold',\n",
       " 'Release Offer',\n",
       " 'Unsuccessful'}"
      ]
     },
     "execution_count": 5,
     "metadata": {},
     "output_type": "execute_result"
    }
   ],
   "source": [
    "#store unique WRKFLW_TSK_MAP_DETAILED\n",
    "WRKFLW_TSK_MAP_DETAILED_list = df3_WS1T['WRKFLW_TSK_MAP_DETAILED'].tolist()\n",
    "unique_WRKFLW_TSK_MAP_DETAILED_list = set(WRKFLW_TSK_MAP_DETAILED_list)\n",
    "len(unique_WRKFLW_TSK_MAP_DETAILED_list)\n",
    "unique_WRKFLW_TSK_MAP_DETAILED_list"
   ]
  },
  {
   "cell_type": "code",
   "execution_count": 6,
   "metadata": {
    "pycharm": {
     "name": "#%%\n"
    }
   },
   "outputs": [
    {
     "data": {
      "text/plain": [
       "242"
      ]
     },
     "execution_count": 6,
     "metadata": {},
     "output_type": "execute_result"
    }
   ],
   "source": [
    "#store unique CASE_ID\n",
    "ID_list = df3_WS1T['CASE_ID'].tolist()\n",
    "unique_ID_list = set(ID_list)\n",
    "len(unique_ID_list)"
   ]
  },
  {
   "cell_type": "code",
   "execution_count": 7,
   "metadata": {
    "pycharm": {
     "name": "#%%\n"
    }
   },
   "outputs": [
    {
     "data": {
      "text/html": [
       "<div>\n",
       "<style scoped>\n",
       "    .dataframe tbody tr th:only-of-type {\n",
       "        vertical-align: middle;\n",
       "    }\n",
       "\n",
       "    .dataframe tbody tr th {\n",
       "        vertical-align: top;\n",
       "    }\n",
       "\n",
       "    .dataframe thead th {\n",
       "        text-align: right;\n",
       "    }\n",
       "</style>\n",
       "<table border=\"1\" class=\"dataframe\">\n",
       "  <thead>\n",
       "    <tr style=\"text-align: right;\">\n",
       "      <th></th>\n",
       "      <th>OC - Created - Further information (1)</th>\n",
       "      <th>OC - Created - Evidence of course completion</th>\n",
       "      <th>Create Offer</th>\n",
       "      <th>AR - Satisfied - English language requirements</th>\n",
       "      <th>Assessment Outcome - Successful</th>\n",
       "      <th>Assessment Outcome - Higher Preference Successful</th>\n",
       "      <th>Release Assessment Hold</th>\n",
       "      <th>Put Assessment On-Hold</th>\n",
       "      <th>Unsuccessful</th>\n",
       "      <th>AR - Satisfied - Curriculum Vitae</th>\n",
       "      <th>OC - Satisfied - English language requirements</th>\n",
       "      <th>AR - Satisfied - English language proficiency</th>\n",
       "      <th>OC - Created - English language requirements</th>\n",
       "      <th>Release Offer</th>\n",
       "      <th>Assessment Decision - Qualified</th>\n",
       "      <th>AR - Satisfied - Further information (1)</th>\n",
       "    </tr>\n",
       "  </thead>\n",
       "  <tbody>\n",
       "    <tr>\n",
       "      <th>1037307|381476|594195</th>\n",
       "      <td>NaN</td>\n",
       "      <td>NaN</td>\n",
       "      <td>NaN</td>\n",
       "      <td>NaN</td>\n",
       "      <td>NaN</td>\n",
       "      <td>NaN</td>\n",
       "      <td>NaN</td>\n",
       "      <td>NaN</td>\n",
       "      <td>NaN</td>\n",
       "      <td>NaN</td>\n",
       "      <td>NaN</td>\n",
       "      <td>NaN</td>\n",
       "      <td>NaN</td>\n",
       "      <td>NaN</td>\n",
       "      <td>NaN</td>\n",
       "      <td>NaN</td>\n",
       "    </tr>\n",
       "    <tr>\n",
       "      <th>1098501|465601|715261</th>\n",
       "      <td>NaN</td>\n",
       "      <td>NaN</td>\n",
       "      <td>NaN</td>\n",
       "      <td>NaN</td>\n",
       "      <td>NaN</td>\n",
       "      <td>NaN</td>\n",
       "      <td>NaN</td>\n",
       "      <td>NaN</td>\n",
       "      <td>NaN</td>\n",
       "      <td>NaN</td>\n",
       "      <td>NaN</td>\n",
       "      <td>NaN</td>\n",
       "      <td>NaN</td>\n",
       "      <td>NaN</td>\n",
       "      <td>NaN</td>\n",
       "      <td>NaN</td>\n",
       "    </tr>\n",
       "    <tr>\n",
       "      <th>857028|429692|665643</th>\n",
       "      <td>NaN</td>\n",
       "      <td>NaN</td>\n",
       "      <td>NaN</td>\n",
       "      <td>NaN</td>\n",
       "      <td>NaN</td>\n",
       "      <td>NaN</td>\n",
       "      <td>NaN</td>\n",
       "      <td>NaN</td>\n",
       "      <td>NaN</td>\n",
       "      <td>NaN</td>\n",
       "      <td>NaN</td>\n",
       "      <td>NaN</td>\n",
       "      <td>NaN</td>\n",
       "      <td>NaN</td>\n",
       "      <td>NaN</td>\n",
       "      <td>NaN</td>\n",
       "    </tr>\n",
       "    <tr>\n",
       "      <th>1055577|407739|632403</th>\n",
       "      <td>NaN</td>\n",
       "      <td>NaN</td>\n",
       "      <td>NaN</td>\n",
       "      <td>NaN</td>\n",
       "      <td>NaN</td>\n",
       "      <td>NaN</td>\n",
       "      <td>NaN</td>\n",
       "      <td>NaN</td>\n",
       "      <td>NaN</td>\n",
       "      <td>NaN</td>\n",
       "      <td>NaN</td>\n",
       "      <td>NaN</td>\n",
       "      <td>NaN</td>\n",
       "      <td>NaN</td>\n",
       "      <td>NaN</td>\n",
       "      <td>NaN</td>\n",
       "    </tr>\n",
       "    <tr>\n",
       "      <th>1032525|388168|604452</th>\n",
       "      <td>NaN</td>\n",
       "      <td>NaN</td>\n",
       "      <td>NaN</td>\n",
       "      <td>NaN</td>\n",
       "      <td>NaN</td>\n",
       "      <td>NaN</td>\n",
       "      <td>NaN</td>\n",
       "      <td>NaN</td>\n",
       "      <td>NaN</td>\n",
       "      <td>NaN</td>\n",
       "      <td>NaN</td>\n",
       "      <td>NaN</td>\n",
       "      <td>NaN</td>\n",
       "      <td>NaN</td>\n",
       "      <td>NaN</td>\n",
       "      <td>NaN</td>\n",
       "    </tr>\n",
       "    <tr>\n",
       "      <th>...</th>\n",
       "      <td>...</td>\n",
       "      <td>...</td>\n",
       "      <td>...</td>\n",
       "      <td>...</td>\n",
       "      <td>...</td>\n",
       "      <td>...</td>\n",
       "      <td>...</td>\n",
       "      <td>...</td>\n",
       "      <td>...</td>\n",
       "      <td>...</td>\n",
       "      <td>...</td>\n",
       "      <td>...</td>\n",
       "      <td>...</td>\n",
       "      <td>...</td>\n",
       "      <td>...</td>\n",
       "      <td>...</td>\n",
       "    </tr>\n",
       "    <tr>\n",
       "      <th>1168534|560047|856798</th>\n",
       "      <td>NaN</td>\n",
       "      <td>NaN</td>\n",
       "      <td>NaN</td>\n",
       "      <td>NaN</td>\n",
       "      <td>NaN</td>\n",
       "      <td>NaN</td>\n",
       "      <td>NaN</td>\n",
       "      <td>NaN</td>\n",
       "      <td>NaN</td>\n",
       "      <td>NaN</td>\n",
       "      <td>NaN</td>\n",
       "      <td>NaN</td>\n",
       "      <td>NaN</td>\n",
       "      <td>NaN</td>\n",
       "      <td>NaN</td>\n",
       "      <td>NaN</td>\n",
       "    </tr>\n",
       "    <tr>\n",
       "      <th>834579|497265|763633</th>\n",
       "      <td>NaN</td>\n",
       "      <td>NaN</td>\n",
       "      <td>NaN</td>\n",
       "      <td>NaN</td>\n",
       "      <td>NaN</td>\n",
       "      <td>NaN</td>\n",
       "      <td>NaN</td>\n",
       "      <td>NaN</td>\n",
       "      <td>NaN</td>\n",
       "      <td>NaN</td>\n",
       "      <td>NaN</td>\n",
       "      <td>NaN</td>\n",
       "      <td>NaN</td>\n",
       "      <td>NaN</td>\n",
       "      <td>NaN</td>\n",
       "      <td>NaN</td>\n",
       "    </tr>\n",
       "    <tr>\n",
       "      <th>391484|440820|681505</th>\n",
       "      <td>NaN</td>\n",
       "      <td>NaN</td>\n",
       "      <td>NaN</td>\n",
       "      <td>NaN</td>\n",
       "      <td>NaN</td>\n",
       "      <td>NaN</td>\n",
       "      <td>NaN</td>\n",
       "      <td>NaN</td>\n",
       "      <td>NaN</td>\n",
       "      <td>NaN</td>\n",
       "      <td>NaN</td>\n",
       "      <td>NaN</td>\n",
       "      <td>NaN</td>\n",
       "      <td>NaN</td>\n",
       "      <td>NaN</td>\n",
       "      <td>NaN</td>\n",
       "    </tr>\n",
       "    <tr>\n",
       "      <th>1105143|473407|726500</th>\n",
       "      <td>NaN</td>\n",
       "      <td>NaN</td>\n",
       "      <td>NaN</td>\n",
       "      <td>NaN</td>\n",
       "      <td>NaN</td>\n",
       "      <td>NaN</td>\n",
       "      <td>NaN</td>\n",
       "      <td>NaN</td>\n",
       "      <td>NaN</td>\n",
       "      <td>NaN</td>\n",
       "      <td>NaN</td>\n",
       "      <td>NaN</td>\n",
       "      <td>NaN</td>\n",
       "      <td>NaN</td>\n",
       "      <td>NaN</td>\n",
       "      <td>NaN</td>\n",
       "    </tr>\n",
       "    <tr>\n",
       "      <th>1061850|416881|646276</th>\n",
       "      <td>NaN</td>\n",
       "      <td>NaN</td>\n",
       "      <td>NaN</td>\n",
       "      <td>NaN</td>\n",
       "      <td>NaN</td>\n",
       "      <td>NaN</td>\n",
       "      <td>NaN</td>\n",
       "      <td>NaN</td>\n",
       "      <td>NaN</td>\n",
       "      <td>NaN</td>\n",
       "      <td>NaN</td>\n",
       "      <td>NaN</td>\n",
       "      <td>NaN</td>\n",
       "      <td>NaN</td>\n",
       "      <td>NaN</td>\n",
       "      <td>NaN</td>\n",
       "    </tr>\n",
       "  </tbody>\n",
       "</table>\n",
       "<p>242 rows × 16 columns</p>\n",
       "</div>"
      ],
      "text/plain": [
       "                      OC - Created - Further information (1)  \\\n",
       "1037307|381476|594195                                    NaN   \n",
       "1098501|465601|715261                                    NaN   \n",
       "857028|429692|665643                                     NaN   \n",
       "1055577|407739|632403                                    NaN   \n",
       "1032525|388168|604452                                    NaN   \n",
       "...                                                      ...   \n",
       "1168534|560047|856798                                    NaN   \n",
       "834579|497265|763633                                     NaN   \n",
       "391484|440820|681505                                     NaN   \n",
       "1105143|473407|726500                                    NaN   \n",
       "1061850|416881|646276                                    NaN   \n",
       "\n",
       "                      OC - Created - Evidence of course completion  \\\n",
       "1037307|381476|594195                                          NaN   \n",
       "1098501|465601|715261                                          NaN   \n",
       "857028|429692|665643                                           NaN   \n",
       "1055577|407739|632403                                          NaN   \n",
       "1032525|388168|604452                                          NaN   \n",
       "...                                                            ...   \n",
       "1168534|560047|856798                                          NaN   \n",
       "834579|497265|763633                                           NaN   \n",
       "391484|440820|681505                                           NaN   \n",
       "1105143|473407|726500                                          NaN   \n",
       "1061850|416881|646276                                          NaN   \n",
       "\n",
       "                      Create Offer  \\\n",
       "1037307|381476|594195          NaN   \n",
       "1098501|465601|715261          NaN   \n",
       "857028|429692|665643           NaN   \n",
       "1055577|407739|632403          NaN   \n",
       "1032525|388168|604452          NaN   \n",
       "...                            ...   \n",
       "1168534|560047|856798          NaN   \n",
       "834579|497265|763633           NaN   \n",
       "391484|440820|681505           NaN   \n",
       "1105143|473407|726500          NaN   \n",
       "1061850|416881|646276          NaN   \n",
       "\n",
       "                      AR - Satisfied - English language requirements  \\\n",
       "1037307|381476|594195                                            NaN   \n",
       "1098501|465601|715261                                            NaN   \n",
       "857028|429692|665643                                             NaN   \n",
       "1055577|407739|632403                                            NaN   \n",
       "1032525|388168|604452                                            NaN   \n",
       "...                                                              ...   \n",
       "1168534|560047|856798                                            NaN   \n",
       "834579|497265|763633                                             NaN   \n",
       "391484|440820|681505                                             NaN   \n",
       "1105143|473407|726500                                            NaN   \n",
       "1061850|416881|646276                                            NaN   \n",
       "\n",
       "                      Assessment Outcome - Successful  \\\n",
       "1037307|381476|594195                             NaN   \n",
       "1098501|465601|715261                             NaN   \n",
       "857028|429692|665643                              NaN   \n",
       "1055577|407739|632403                             NaN   \n",
       "1032525|388168|604452                             NaN   \n",
       "...                                               ...   \n",
       "1168534|560047|856798                             NaN   \n",
       "834579|497265|763633                              NaN   \n",
       "391484|440820|681505                              NaN   \n",
       "1105143|473407|726500                             NaN   \n",
       "1061850|416881|646276                             NaN   \n",
       "\n",
       "                      Assessment Outcome - Higher Preference Successful  \\\n",
       "1037307|381476|594195                                               NaN   \n",
       "1098501|465601|715261                                               NaN   \n",
       "857028|429692|665643                                                NaN   \n",
       "1055577|407739|632403                                               NaN   \n",
       "1032525|388168|604452                                               NaN   \n",
       "...                                                                 ...   \n",
       "1168534|560047|856798                                               NaN   \n",
       "834579|497265|763633                                                NaN   \n",
       "391484|440820|681505                                                NaN   \n",
       "1105143|473407|726500                                               NaN   \n",
       "1061850|416881|646276                                               NaN   \n",
       "\n",
       "                      Release Assessment Hold Put Assessment On-Hold  \\\n",
       "1037307|381476|594195                     NaN                    NaN   \n",
       "1098501|465601|715261                     NaN                    NaN   \n",
       "857028|429692|665643                      NaN                    NaN   \n",
       "1055577|407739|632403                     NaN                    NaN   \n",
       "1032525|388168|604452                     NaN                    NaN   \n",
       "...                                       ...                    ...   \n",
       "1168534|560047|856798                     NaN                    NaN   \n",
       "834579|497265|763633                      NaN                    NaN   \n",
       "391484|440820|681505                      NaN                    NaN   \n",
       "1105143|473407|726500                     NaN                    NaN   \n",
       "1061850|416881|646276                     NaN                    NaN   \n",
       "\n",
       "                      Unsuccessful AR - Satisfied - Curriculum Vitae  \\\n",
       "1037307|381476|594195          NaN                               NaN   \n",
       "1098501|465601|715261          NaN                               NaN   \n",
       "857028|429692|665643           NaN                               NaN   \n",
       "1055577|407739|632403          NaN                               NaN   \n",
       "1032525|388168|604452          NaN                               NaN   \n",
       "...                            ...                               ...   \n",
       "1168534|560047|856798          NaN                               NaN   \n",
       "834579|497265|763633           NaN                               NaN   \n",
       "391484|440820|681505           NaN                               NaN   \n",
       "1105143|473407|726500          NaN                               NaN   \n",
       "1061850|416881|646276          NaN                               NaN   \n",
       "\n",
       "                      OC - Satisfied - English language requirements  \\\n",
       "1037307|381476|594195                                            NaN   \n",
       "1098501|465601|715261                                            NaN   \n",
       "857028|429692|665643                                             NaN   \n",
       "1055577|407739|632403                                            NaN   \n",
       "1032525|388168|604452                                            NaN   \n",
       "...                                                              ...   \n",
       "1168534|560047|856798                                            NaN   \n",
       "834579|497265|763633                                             NaN   \n",
       "391484|440820|681505                                             NaN   \n",
       "1105143|473407|726500                                            NaN   \n",
       "1061850|416881|646276                                            NaN   \n",
       "\n",
       "                      AR - Satisfied - English language proficiency  \\\n",
       "1037307|381476|594195                                           NaN   \n",
       "1098501|465601|715261                                           NaN   \n",
       "857028|429692|665643                                            NaN   \n",
       "1055577|407739|632403                                           NaN   \n",
       "1032525|388168|604452                                           NaN   \n",
       "...                                                             ...   \n",
       "1168534|560047|856798                                           NaN   \n",
       "834579|497265|763633                                            NaN   \n",
       "391484|440820|681505                                            NaN   \n",
       "1105143|473407|726500                                           NaN   \n",
       "1061850|416881|646276                                           NaN   \n",
       "\n",
       "                      OC - Created - English language requirements  \\\n",
       "1037307|381476|594195                                          NaN   \n",
       "1098501|465601|715261                                          NaN   \n",
       "857028|429692|665643                                           NaN   \n",
       "1055577|407739|632403                                          NaN   \n",
       "1032525|388168|604452                                          NaN   \n",
       "...                                                            ...   \n",
       "1168534|560047|856798                                          NaN   \n",
       "834579|497265|763633                                           NaN   \n",
       "391484|440820|681505                                           NaN   \n",
       "1105143|473407|726500                                          NaN   \n",
       "1061850|416881|646276                                          NaN   \n",
       "\n",
       "                      Release Offer Assessment Decision - Qualified  \\\n",
       "1037307|381476|594195           NaN                             NaN   \n",
       "1098501|465601|715261           NaN                             NaN   \n",
       "857028|429692|665643            NaN                             NaN   \n",
       "1055577|407739|632403           NaN                             NaN   \n",
       "1032525|388168|604452           NaN                             NaN   \n",
       "...                             ...                             ...   \n",
       "1168534|560047|856798           NaN                             NaN   \n",
       "834579|497265|763633            NaN                             NaN   \n",
       "391484|440820|681505            NaN                             NaN   \n",
       "1105143|473407|726500           NaN                             NaN   \n",
       "1061850|416881|646276           NaN                             NaN   \n",
       "\n",
       "                      AR - Satisfied - Further information (1)  \n",
       "1037307|381476|594195                                      NaN  \n",
       "1098501|465601|715261                                      NaN  \n",
       "857028|429692|665643                                       NaN  \n",
       "1055577|407739|632403                                      NaN  \n",
       "1032525|388168|604452                                      NaN  \n",
       "...                                                        ...  \n",
       "1168534|560047|856798                                      NaN  \n",
       "834579|497265|763633                                       NaN  \n",
       "391484|440820|681505                                       NaN  \n",
       "1105143|473407|726500                                      NaN  \n",
       "1061850|416881|646276                                      NaN  \n",
       "\n",
       "[242 rows x 16 columns]"
      ]
     },
     "execution_count": 7,
     "metadata": {},
     "output_type": "execute_result"
    }
   ],
   "source": [
    "#create dataframe columns->unique_WRKFLW_TSK_MAP_DETAILED row->unique_ID\n",
    "df = pd.DataFrame(columns = unique_WRKFLW_TSK_MAP_DETAILED_list, index = unique_ID_list )\n",
    "df"
   ]
  },
  {
   "cell_type": "code",
   "execution_count": 8,
   "metadata": {
    "pycharm": {
     "name": "#%%\n"
    }
   },
   "outputs": [
    {
     "data": {
      "text/plain": [
       "242"
      ]
     },
     "execution_count": 8,
     "metadata": {},
     "output_type": "execute_result"
    }
   ],
   "source": [
    "#sotre id as key and workflow detail of the id as value into dictionary\n",
    "from collections import defaultdict\n",
    "ID_WRKFLW_dict = defaultdict(list)\n",
    "for i, j in zip(df3_WS1T.CASE_ID,df3_WS1T.WRKFLW_TSK_MAP_DETAILED):\n",
    "    ID_WRKFLW_dict[i].append(j)\n",
    "len(ID_WRKFLW_dict)"
   ]
  },
  {
   "cell_type": "code",
   "execution_count": 9,
   "metadata": {
    "pycharm": {
     "name": "#%%\n"
    }
   },
   "outputs": [
    {
     "data": {
      "text/html": [
       "<div>\n",
       "<style scoped>\n",
       "    .dataframe tbody tr th:only-of-type {\n",
       "        vertical-align: middle;\n",
       "    }\n",
       "\n",
       "    .dataframe tbody tr th {\n",
       "        vertical-align: top;\n",
       "    }\n",
       "\n",
       "    .dataframe thead th {\n",
       "        text-align: right;\n",
       "    }\n",
       "</style>\n",
       "<table border=\"1\" class=\"dataframe\">\n",
       "  <thead>\n",
       "    <tr style=\"text-align: right;\">\n",
       "      <th></th>\n",
       "      <th>OC - Created - Further information (1)</th>\n",
       "      <th>OC - Created - Evidence of course completion</th>\n",
       "      <th>Create Offer</th>\n",
       "      <th>AR - Satisfied - English language requirements</th>\n",
       "      <th>Assessment Outcome - Successful</th>\n",
       "      <th>Assessment Outcome - Higher Preference Successful</th>\n",
       "      <th>Release Assessment Hold</th>\n",
       "      <th>Put Assessment On-Hold</th>\n",
       "      <th>Unsuccessful</th>\n",
       "      <th>AR - Satisfied - Curriculum Vitae</th>\n",
       "      <th>OC - Satisfied - English language requirements</th>\n",
       "      <th>AR - Satisfied - English language proficiency</th>\n",
       "      <th>OC - Created - English language requirements</th>\n",
       "      <th>Release Offer</th>\n",
       "      <th>Assessment Decision - Qualified</th>\n",
       "      <th>AR - Satisfied - Further information (1)</th>\n",
       "    </tr>\n",
       "  </thead>\n",
       "  <tbody>\n",
       "    <tr>\n",
       "      <th>1037307|381476|594195</th>\n",
       "      <td>0</td>\n",
       "      <td>0</td>\n",
       "      <td>1</td>\n",
       "      <td>0</td>\n",
       "      <td>1</td>\n",
       "      <td>0</td>\n",
       "      <td>0</td>\n",
       "      <td>0</td>\n",
       "      <td>0</td>\n",
       "      <td>0</td>\n",
       "      <td>0</td>\n",
       "      <td>0</td>\n",
       "      <td>0</td>\n",
       "      <td>1</td>\n",
       "      <td>0</td>\n",
       "      <td>0</td>\n",
       "    </tr>\n",
       "    <tr>\n",
       "      <th>1098501|465601|715261</th>\n",
       "      <td>0</td>\n",
       "      <td>0</td>\n",
       "      <td>1</td>\n",
       "      <td>0</td>\n",
       "      <td>1</td>\n",
       "      <td>0</td>\n",
       "      <td>0</td>\n",
       "      <td>0</td>\n",
       "      <td>0</td>\n",
       "      <td>0</td>\n",
       "      <td>0</td>\n",
       "      <td>0</td>\n",
       "      <td>0</td>\n",
       "      <td>1</td>\n",
       "      <td>0</td>\n",
       "      <td>0</td>\n",
       "    </tr>\n",
       "    <tr>\n",
       "      <th>857028|429692|665643</th>\n",
       "      <td>0</td>\n",
       "      <td>0</td>\n",
       "      <td>1</td>\n",
       "      <td>0</td>\n",
       "      <td>1</td>\n",
       "      <td>0</td>\n",
       "      <td>0</td>\n",
       "      <td>0</td>\n",
       "      <td>0</td>\n",
       "      <td>0</td>\n",
       "      <td>0</td>\n",
       "      <td>0</td>\n",
       "      <td>0</td>\n",
       "      <td>1</td>\n",
       "      <td>0</td>\n",
       "      <td>0</td>\n",
       "    </tr>\n",
       "    <tr>\n",
       "      <th>1055577|407739|632403</th>\n",
       "      <td>0</td>\n",
       "      <td>0</td>\n",
       "      <td>1</td>\n",
       "      <td>0</td>\n",
       "      <td>1</td>\n",
       "      <td>0</td>\n",
       "      <td>0</td>\n",
       "      <td>0</td>\n",
       "      <td>0</td>\n",
       "      <td>0</td>\n",
       "      <td>0</td>\n",
       "      <td>0</td>\n",
       "      <td>0</td>\n",
       "      <td>1</td>\n",
       "      <td>0</td>\n",
       "      <td>0</td>\n",
       "    </tr>\n",
       "    <tr>\n",
       "      <th>1032525|388168|604452</th>\n",
       "      <td>0</td>\n",
       "      <td>0</td>\n",
       "      <td>1</td>\n",
       "      <td>0</td>\n",
       "      <td>1</td>\n",
       "      <td>0</td>\n",
       "      <td>0</td>\n",
       "      <td>0</td>\n",
       "      <td>0</td>\n",
       "      <td>0</td>\n",
       "      <td>0</td>\n",
       "      <td>0</td>\n",
       "      <td>0</td>\n",
       "      <td>1</td>\n",
       "      <td>0</td>\n",
       "      <td>0</td>\n",
       "    </tr>\n",
       "    <tr>\n",
       "      <th>...</th>\n",
       "      <td>...</td>\n",
       "      <td>...</td>\n",
       "      <td>...</td>\n",
       "      <td>...</td>\n",
       "      <td>...</td>\n",
       "      <td>...</td>\n",
       "      <td>...</td>\n",
       "      <td>...</td>\n",
       "      <td>...</td>\n",
       "      <td>...</td>\n",
       "      <td>...</td>\n",
       "      <td>...</td>\n",
       "      <td>...</td>\n",
       "      <td>...</td>\n",
       "      <td>...</td>\n",
       "      <td>...</td>\n",
       "    </tr>\n",
       "    <tr>\n",
       "      <th>1168534|560047|856798</th>\n",
       "      <td>0</td>\n",
       "      <td>0</td>\n",
       "      <td>1</td>\n",
       "      <td>0</td>\n",
       "      <td>1</td>\n",
       "      <td>0</td>\n",
       "      <td>0</td>\n",
       "      <td>0</td>\n",
       "      <td>0</td>\n",
       "      <td>0</td>\n",
       "      <td>0</td>\n",
       "      <td>0</td>\n",
       "      <td>0</td>\n",
       "      <td>1</td>\n",
       "      <td>0</td>\n",
       "      <td>0</td>\n",
       "    </tr>\n",
       "    <tr>\n",
       "      <th>834579|497265|763633</th>\n",
       "      <td>0</td>\n",
       "      <td>1</td>\n",
       "      <td>1</td>\n",
       "      <td>0</td>\n",
       "      <td>1</td>\n",
       "      <td>0</td>\n",
       "      <td>0</td>\n",
       "      <td>0</td>\n",
       "      <td>0</td>\n",
       "      <td>0</td>\n",
       "      <td>0</td>\n",
       "      <td>0</td>\n",
       "      <td>0</td>\n",
       "      <td>1</td>\n",
       "      <td>0</td>\n",
       "      <td>0</td>\n",
       "    </tr>\n",
       "    <tr>\n",
       "      <th>391484|440820|681505</th>\n",
       "      <td>0</td>\n",
       "      <td>0</td>\n",
       "      <td>1</td>\n",
       "      <td>0</td>\n",
       "      <td>1</td>\n",
       "      <td>0</td>\n",
       "      <td>0</td>\n",
       "      <td>0</td>\n",
       "      <td>0</td>\n",
       "      <td>0</td>\n",
       "      <td>0</td>\n",
       "      <td>0</td>\n",
       "      <td>0</td>\n",
       "      <td>1</td>\n",
       "      <td>0</td>\n",
       "      <td>0</td>\n",
       "    </tr>\n",
       "    <tr>\n",
       "      <th>1105143|473407|726500</th>\n",
       "      <td>0</td>\n",
       "      <td>0</td>\n",
       "      <td>1</td>\n",
       "      <td>0</td>\n",
       "      <td>1</td>\n",
       "      <td>0</td>\n",
       "      <td>0</td>\n",
       "      <td>0</td>\n",
       "      <td>0</td>\n",
       "      <td>0</td>\n",
       "      <td>0</td>\n",
       "      <td>0</td>\n",
       "      <td>0</td>\n",
       "      <td>1</td>\n",
       "      <td>0</td>\n",
       "      <td>0</td>\n",
       "    </tr>\n",
       "    <tr>\n",
       "      <th>1061850|416881|646276</th>\n",
       "      <td>0</td>\n",
       "      <td>0</td>\n",
       "      <td>1</td>\n",
       "      <td>0</td>\n",
       "      <td>1</td>\n",
       "      <td>0</td>\n",
       "      <td>0</td>\n",
       "      <td>0</td>\n",
       "      <td>0</td>\n",
       "      <td>0</td>\n",
       "      <td>0</td>\n",
       "      <td>0</td>\n",
       "      <td>0</td>\n",
       "      <td>1</td>\n",
       "      <td>0</td>\n",
       "      <td>0</td>\n",
       "    </tr>\n",
       "  </tbody>\n",
       "</table>\n",
       "<p>242 rows × 16 columns</p>\n",
       "</div>"
      ],
      "text/plain": [
       "                       OC - Created - Further information (1)  \\\n",
       "1037307|381476|594195                                       0   \n",
       "1098501|465601|715261                                       0   \n",
       "857028|429692|665643                                        0   \n",
       "1055577|407739|632403                                       0   \n",
       "1032525|388168|604452                                       0   \n",
       "...                                                       ...   \n",
       "1168534|560047|856798                                       0   \n",
       "834579|497265|763633                                        0   \n",
       "391484|440820|681505                                        0   \n",
       "1105143|473407|726500                                       0   \n",
       "1061850|416881|646276                                       0   \n",
       "\n",
       "                       OC - Created - Evidence of course completion  \\\n",
       "1037307|381476|594195                                             0   \n",
       "1098501|465601|715261                                             0   \n",
       "857028|429692|665643                                              0   \n",
       "1055577|407739|632403                                             0   \n",
       "1032525|388168|604452                                             0   \n",
       "...                                                             ...   \n",
       "1168534|560047|856798                                             0   \n",
       "834579|497265|763633                                              1   \n",
       "391484|440820|681505                                              0   \n",
       "1105143|473407|726500                                             0   \n",
       "1061850|416881|646276                                             0   \n",
       "\n",
       "                       Create Offer  \\\n",
       "1037307|381476|594195             1   \n",
       "1098501|465601|715261             1   \n",
       "857028|429692|665643              1   \n",
       "1055577|407739|632403             1   \n",
       "1032525|388168|604452             1   \n",
       "...                             ...   \n",
       "1168534|560047|856798             1   \n",
       "834579|497265|763633              1   \n",
       "391484|440820|681505              1   \n",
       "1105143|473407|726500             1   \n",
       "1061850|416881|646276             1   \n",
       "\n",
       "                       AR - Satisfied - English language requirements  \\\n",
       "1037307|381476|594195                                               0   \n",
       "1098501|465601|715261                                               0   \n",
       "857028|429692|665643                                                0   \n",
       "1055577|407739|632403                                               0   \n",
       "1032525|388168|604452                                               0   \n",
       "...                                                               ...   \n",
       "1168534|560047|856798                                               0   \n",
       "834579|497265|763633                                                0   \n",
       "391484|440820|681505                                                0   \n",
       "1105143|473407|726500                                               0   \n",
       "1061850|416881|646276                                               0   \n",
       "\n",
       "                       Assessment Outcome - Successful  \\\n",
       "1037307|381476|594195                                1   \n",
       "1098501|465601|715261                                1   \n",
       "857028|429692|665643                                 1   \n",
       "1055577|407739|632403                                1   \n",
       "1032525|388168|604452                                1   \n",
       "...                                                ...   \n",
       "1168534|560047|856798                                1   \n",
       "834579|497265|763633                                 1   \n",
       "391484|440820|681505                                 1   \n",
       "1105143|473407|726500                                1   \n",
       "1061850|416881|646276                                1   \n",
       "\n",
       "                       Assessment Outcome - Higher Preference Successful  \\\n",
       "1037307|381476|594195                                                  0   \n",
       "1098501|465601|715261                                                  0   \n",
       "857028|429692|665643                                                   0   \n",
       "1055577|407739|632403                                                  0   \n",
       "1032525|388168|604452                                                  0   \n",
       "...                                                                  ...   \n",
       "1168534|560047|856798                                                  0   \n",
       "834579|497265|763633                                                   0   \n",
       "391484|440820|681505                                                   0   \n",
       "1105143|473407|726500                                                  0   \n",
       "1061850|416881|646276                                                  0   \n",
       "\n",
       "                       Release Assessment Hold  Put Assessment On-Hold  \\\n",
       "1037307|381476|594195                        0                       0   \n",
       "1098501|465601|715261                        0                       0   \n",
       "857028|429692|665643                         0                       0   \n",
       "1055577|407739|632403                        0                       0   \n",
       "1032525|388168|604452                        0                       0   \n",
       "...                                        ...                     ...   \n",
       "1168534|560047|856798                        0                       0   \n",
       "834579|497265|763633                         0                       0   \n",
       "391484|440820|681505                         0                       0   \n",
       "1105143|473407|726500                        0                       0   \n",
       "1061850|416881|646276                        0                       0   \n",
       "\n",
       "                       Unsuccessful  AR - Satisfied - Curriculum Vitae  \\\n",
       "1037307|381476|594195             0                                  0   \n",
       "1098501|465601|715261             0                                  0   \n",
       "857028|429692|665643              0                                  0   \n",
       "1055577|407739|632403             0                                  0   \n",
       "1032525|388168|604452             0                                  0   \n",
       "...                             ...                                ...   \n",
       "1168534|560047|856798             0                                  0   \n",
       "834579|497265|763633              0                                  0   \n",
       "391484|440820|681505              0                                  0   \n",
       "1105143|473407|726500             0                                  0   \n",
       "1061850|416881|646276             0                                  0   \n",
       "\n",
       "                       OC - Satisfied - English language requirements  \\\n",
       "1037307|381476|594195                                               0   \n",
       "1098501|465601|715261                                               0   \n",
       "857028|429692|665643                                                0   \n",
       "1055577|407739|632403                                               0   \n",
       "1032525|388168|604452                                               0   \n",
       "...                                                               ...   \n",
       "1168534|560047|856798                                               0   \n",
       "834579|497265|763633                                                0   \n",
       "391484|440820|681505                                                0   \n",
       "1105143|473407|726500                                               0   \n",
       "1061850|416881|646276                                               0   \n",
       "\n",
       "                       AR - Satisfied - English language proficiency  \\\n",
       "1037307|381476|594195                                              0   \n",
       "1098501|465601|715261                                              0   \n",
       "857028|429692|665643                                               0   \n",
       "1055577|407739|632403                                              0   \n",
       "1032525|388168|604452                                              0   \n",
       "...                                                              ...   \n",
       "1168534|560047|856798                                              0   \n",
       "834579|497265|763633                                               0   \n",
       "391484|440820|681505                                               0   \n",
       "1105143|473407|726500                                              0   \n",
       "1061850|416881|646276                                              0   \n",
       "\n",
       "                       OC - Created - English language requirements  \\\n",
       "1037307|381476|594195                                             0   \n",
       "1098501|465601|715261                                             0   \n",
       "857028|429692|665643                                              0   \n",
       "1055577|407739|632403                                             0   \n",
       "1032525|388168|604452                                             0   \n",
       "...                                                             ...   \n",
       "1168534|560047|856798                                             0   \n",
       "834579|497265|763633                                              0   \n",
       "391484|440820|681505                                              0   \n",
       "1105143|473407|726500                                             0   \n",
       "1061850|416881|646276                                             0   \n",
       "\n",
       "                       Release Offer  Assessment Decision - Qualified  \\\n",
       "1037307|381476|594195              1                                0   \n",
       "1098501|465601|715261              1                                0   \n",
       "857028|429692|665643               1                                0   \n",
       "1055577|407739|632403              1                                0   \n",
       "1032525|388168|604452              1                                0   \n",
       "...                              ...                              ...   \n",
       "1168534|560047|856798              1                                0   \n",
       "834579|497265|763633               1                                0   \n",
       "391484|440820|681505               1                                0   \n",
       "1105143|473407|726500              1                                0   \n",
       "1061850|416881|646276              1                                0   \n",
       "\n",
       "                       AR - Satisfied - Further information (1)  \n",
       "1037307|381476|594195                                         0  \n",
       "1098501|465601|715261                                         0  \n",
       "857028|429692|665643                                          0  \n",
       "1055577|407739|632403                                         0  \n",
       "1032525|388168|604452                                         0  \n",
       "...                                                         ...  \n",
       "1168534|560047|856798                                         0  \n",
       "834579|497265|763633                                          0  \n",
       "391484|440820|681505                                          0  \n",
       "1105143|473407|726500                                         0  \n",
       "1061850|416881|646276                                         0  \n",
       "\n",
       "[242 rows x 16 columns]"
      ]
     },
     "execution_count": 9,
     "metadata": {},
     "output_type": "execute_result"
    }
   ],
   "source": [
    "#change the value\n",
    "for key in ID_WRKFLW_dict.keys():\n",
    "    for process in ID_WRKFLW_dict[key]:\n",
    "            df.loc[key, process] = 1\n",
    "zero_one_table = df.fillna(0)\n",
    "zero_one_table"
   ]
  },
  {
   "cell_type": "code",
   "execution_count": 10,
   "metadata": {
    "pycharm": {
     "name": "#%%\n"
    }
   },
   "outputs": [
    {
     "name": "stdout",
     "output_type": "stream",
     "text": [
      "16\n",
      "15\n"
     ]
    }
   ],
   "source": [
    "# Import train_test_split function\n",
    "from sklearn.model_selection import train_test_split\n",
    "\n",
    "features= list(unique_WRKFLW_TSK_MAP_DETAILED_list)\n",
    "print(len(features))\n",
    "features.remove('Release Offer')\n",
    "print(len(features))\n",
    "\n",
    "X=zero_one_table[features]\n",
    "y=zero_one_table ['Release Offer'] # Labels\n",
    "# Split dataset into training set and test set\n",
    "X_train, X_test, y_train, y_test = train_test_split(X, y, random_state=0) # 70% training and 30% test"
   ]
  },
  {
   "cell_type": "code",
   "execution_count": 11,
   "metadata": {},
   "outputs": [],
   "source": [
    "from sklearn.tree import DecisionTreeClassifier\n",
    "dt = DecisionTreeClassifier()\n",
    "dt.fit(X_train, y_train)\n",
    "DecisionTreeClassifier(class_weight=None, criterion=\"gini\", max_depth=None,\n",
    "                       max_features=None, max_leaf_nodes=None, min_impurity_split=1e-07, min_samples_leaf=1,\n",
    "                       min_samples_split=2, min_weight_fraction_leaf=0.0, presort=False, \n",
    "                       random_state=None, splitter=\"best\")\n",
    "y_pred = dt.predict(X_test)"
   ]
  },
  {
   "cell_type": "code",
   "execution_count": 12,
   "metadata": {},
   "outputs": [
    {
     "data": {
      "text/plain": [
       "0.5"
      ]
     },
     "execution_count": 12,
     "metadata": {},
     "output_type": "execute_result"
    }
   ],
   "source": [
    "from sklearn.metrics import roc_curve, auc\n",
    "false_positive_rate, true_positive_rate, thresholds = roc_curve(y_test, y_pred)\n",
    "roc_auc = auc(false_positive_rate, true_positive_rate)\n",
    "roc_auc"
   ]
  },
  {
   "cell_type": "code",
   "execution_count": 13,
   "metadata": {},
   "outputs": [],
   "source": [
    "import numpy as np\n",
    "import matplotlib as mpl\n",
    "import matplotlib.pyplot as plt"
   ]
  },
  {
   "cell_type": "code",
   "execution_count": 14,
   "metadata": {},
   "outputs": [
    {
     "data": {
      "image/png": "[encoded data removed]",
      "text/plain": [
       "<Figure size 432x288 with 1 Axes>"
      ]
     },
     "metadata": {
      "needs_background": "light"
     },
     "output_type": "display_data"
    }
   ],
   "source": [
    "max_depths = np.linspace(1, 32, 32, endpoint=True)\n",
    "train_results = []\n",
    "test_results = []\n",
    "for max_depth in max_depths:\n",
    "    dt = DecisionTreeClassifier(max_depth=max_depth)\n",
    "    dt.fit(X_train, y_train)\n",
    "    train_pred = dt.predict(X_train)\n",
    "    false_positive_rate, true_positive_rate, thresholds = roc_curve(y_train, train_pred)\n",
    "    roc_auc = auc(false_positive_rate, true_positive_rate)\n",
    "    # Add auc score to previous train results\n",
    "    train_results.append(roc_auc)\n",
    "    y_pred = dt.predict(X_test)\n",
    "    false_positive_rate, true_positive_rate, thresholds = roc_curve(y_test, y_pred)\n",
    "    roc_auc = auc(false_positive_rate, true_positive_rate)\n",
    "    # Add auc score to previous test results\n",
    "    test_results.append(roc_auc)\n",
    "from matplotlib.legend_handler import HandlerLine2D\n",
    "line1, = plt.plot(max_depths, train_results, \"b\", label=\"Train AUC\")\n",
    "line2, = plt.plot(max_depths, test_results, \"r\", label=\"Test AUC\")\n",
    "plt.legend(handler_map={line1: HandlerLine2D(numpoints=2)})\n",
    "plt.ylabel(\"AUC score\")\n",
    "plt.xlabel(\"Tree depth\")\n",
    "plt.show()"
   ]
  },
  {
   "cell_type": "code",
   "execution_count": 11,
   "metadata": {
    "pycharm": {
     "name": "#%%\n"
    }
   },
   "outputs": [],
   "source": [
    "from sklearn.tree import DecisionTreeClassifier\n",
    "clf = DecisionTreeClassifier(max_depth = 5,\n",
    "                             random_state = 0)\n",
    "clf.fit(X_train, y_train)\n",
    "clf_pred = clf.predict(X_test)"
   ]
  },
  {
   "cell_type": "code",
   "execution_count": 12,
   "metadata": {},
   "outputs": [
    {
     "name": "stdout",
     "output_type": "stream",
     "text": [
      "[[61]]\n",
      "              precision    recall  f1-score   support\n",
      "\n",
      "           1       1.00      1.00      1.00        61\n",
      "\n",
      "    accuracy                           1.00        61\n",
      "   macro avg       1.00      1.00      1.00        61\n",
      "weighted avg       1.00      1.00      1.00        61\n",
      "\n"
     ]
    }
   ],
   "source": [
    "from sklearn.metrics import confusion_matrix\n",
    "from sklearn import metrics\n",
    "from sklearn.metrics import classification_report\n",
    "# Generate the confusion matrix and classification report\n",
    "print(confusion_matrix(y_test, clf_pred))\n",
    "print(classification_report(y_test, clf_pred))"
   ]
  },
  {
   "cell_type": "code",
   "execution_count": 13,
   "metadata": {
    "pycharm": {
     "name": "#%%\n"
    }
   },
   "outputs": [],
   "source": [
    "# DOT data\n",
    "from IPython.display import Image\n",
    "from sklearn import tree\n",
    "import pydotplus\n",
    "fn=features\n",
    "cn=['0', '1']\n",
    "# Create DOT data\n",
    "dot_data = tree.export_graphviz(clf, out_file=None,\n",
    "                                feature_names=fn,\n",
    "                                class_names=cn,filled = True)\n",
    "\n",
    "# Draw graph\n",
    "graph = pydotplus.graph_from_dot_data(dot_data)"
   ]
  },
  {
   "cell_type": "code",
   "execution_count": 14,
   "metadata": {
    "pycharm": {
     "name": "#%%\n"
    }
   },
   "outputs": [
    {
     "data": {
      "image/png": "[encoded data removed]",
      "text/plain": [
       "<IPython.core.display.Image object>"
      ]
     },
     "execution_count": 14,
     "metadata": {},
     "output_type": "execute_result"
    }
   ],
   "source": [
    "# Show graph\n",
    "Image(graph.create_png())"
   ]
  },
  {
   "cell_type": "code",
   "execution_count": 15,
   "metadata": {
    "pycharm": {
     "name": "#%%\n"
    }
   },
   "outputs": [
    {
     "data": {
      "text/plain": [
       "True"
      ]
     },
     "execution_count": 15,
     "metadata": {},
     "output_type": "execute_result"
    }
   ],
   "source": [
    "# Create PNG\n",
    "graph.write_png(\"engineering_AF_segment3_workflowS3_decisiontree.png\")\n",
    "\n",
    "\n"
   ]
  },
  {
   "cell_type": "code",
   "execution_count": 16,
   "metadata": {},
   "outputs": [
    {
     "data": {
      "text/plain": [
       "1    240\n",
       "0      2\n",
       "Name: Release Offer, dtype: int64"
      ]
     },
     "execution_count": 16,
     "metadata": {},
     "output_type": "execute_result"
    }
   ],
   "source": [
    "zero_one_table['Release Offer'].value_counts()"
   ]
  },
  {
   "cell_type": "code",
   "execution_count": 17,
   "metadata": {},
   "outputs": [
    {
     "data": {
      "text/plain": [
       "1    2\n",
       "0    2\n",
       "Name: Release Offer, dtype: int64"
      ]
     },
     "execution_count": 17,
     "metadata": {},
     "output_type": "execute_result"
    }
   ],
   "source": [
    "from sklearn.utils import resample\n",
    "\n",
    "# Separate majority and minority classes\n",
    "zero_one_table_majority = df[zero_one_table['Release Offer']==1]\n",
    "zero_one_table_minority = df[zero_one_table['Release Offer']==0]\n",
    "\n",
    "# Upsample minority class\n",
    "df_majority_downsampled = resample(zero_one_table_majority,\n",
    "                                 replace=False,     # sample with replacement\n",
    "                                 n_samples=2,    # to match majority class\n",
    "                                 random_state=123) # reproducible results\n",
    "\n",
    "# Combine majority class with upsampled minority class\n",
    "df_downsampled = pd.concat([zero_one_table_minority, df_majority_downsampled])\n",
    "\n",
    "# Display new class counts\n",
    "df_downsampled = df_downsampled.fillna(0)\n",
    "df_downsampled['Release Offer'].value_counts()"
   ]
  },
  {
   "cell_type": "code",
   "execution_count": 23,
   "metadata": {},
   "outputs": [],
   "source": [
    "# Import train_test_split function\n",
    "from sklearn.model_selection import train_test_split\n",
    "\n",
    "X=df_downsampled[features]\n",
    "y=df_downsampled ['Release Offer'] # Labels\n",
    "# Split dataset into training set and test set\n",
    "X_train, X_test, y_train, y_test = train_test_split(X, y, random_state=0) # 70% training and 30% test"
   ]
  },
  {
   "cell_type": "code",
   "execution_count": 24,
   "metadata": {},
   "outputs": [
    {
     "name": "stdout",
     "output_type": "stream",
     "text": [
      "Accuracy: 0.0\n"
     ]
    }
   ],
   "source": [
    "from sklearn.tree import DecisionTreeClassifier\n",
    "clf = DecisionTreeClassifier(max_depth = 5,\n",
    "                             random_state = 0)\n",
    "clf.fit(X_train, y_train)\n",
    "y_pred=clf.predict(X_test)\n",
    "print(\"Accuracy:\",metrics.accuracy_score(y_test, y_pred))"
   ]
  },
  {
   "cell_type": "code",
   "execution_count": 25,
   "metadata": {},
   "outputs": [
    {
     "name": "stdout",
     "output_type": "stream",
     "text": [
      "[[0 0]\n",
      " [1 0]]\n",
      "              precision    recall  f1-score   support\n",
      "\n",
      "           0       0.00      0.00      0.00       0.0\n",
      "           1       0.00      0.00      0.00       1.0\n",
      "\n",
      "    accuracy                           0.00       1.0\n",
      "   macro avg       0.00      0.00      0.00       1.0\n",
      "weighted avg       0.00      0.00      0.00       1.0\n",
      "\n"
     ]
    },
    {
     "name": "stderr",
     "output_type": "stream",
     "text": [
      "/Users/ab0707/opt/anaconda3/lib/python3.8/site-packages/sklearn/metrics/_classification.py:1221: UndefinedMetricWarning: Precision and F-score are ill-defined and being set to 0.0 in labels with no predicted samples. Use `zero_division` parameter to control this behavior.\n",
      "  _warn_prf(average, modifier, msg_start, len(result))\n",
      "/Users/ab0707/opt/anaconda3/lib/python3.8/site-packages/sklearn/metrics/_classification.py:1221: UndefinedMetricWarning: Recall and F-score are ill-defined and being set to 0.0 in labels with no true samples. Use `zero_division` parameter to control this behavior.\n",
      "  _warn_prf(average, modifier, msg_start, len(result))\n"
     ]
    }
   ],
   "source": [
    "# Generate the confusion matrix and classification report\n",
    "print(confusion_matrix(y_test, y_pred))\n",
    "print(classification_report(y_test, y_pred))"
   ]
  },
  {
   "cell_type": "code",
   "execution_count": 26,
   "metadata": {},
   "outputs": [],
   "source": [
    "# DOT data\n",
    "from IPython.display import Image\n",
    "from sklearn import tree\n",
    "import pydotplus\n",
    "fn=features\n",
    "cn=['0', '1']\n",
    "# Create DOT data\n",
    "dot_data = tree.export_graphviz(clf, out_file=None,\n",
    "                                feature_names=fn,\n",
    "                                class_names=cn,filled = True)\n",
    "\n",
    "# Draw graph\n",
    "graph = pydotplus.graph_from_dot_data(dot_data)"
   ]
  },
  {
   "cell_type": "code",
   "execution_count": 27,
   "metadata": {},
   "outputs": [
    {
     "data": {
      "image/png": "[encoded data removed]",
      "text/plain": [
       "<IPython.core.display.Image object>"
      ]
     },
     "execution_count": 27,
     "metadata": {},
     "output_type": "execute_result"
    }
   ],
   "source": [
    "# Show graph\n",
    "Image(graph.create_png())"
   ]
  },
  {
   "cell_type": "code",
   "execution_count": 28,
   "metadata": {},
   "outputs": [
    {
     "data": {
      "text/plain": [
       "True"
      ]
     },
     "execution_count": 28,
     "metadata": {},
     "output_type": "execute_result"
    }
   ],
   "source": [
    "# Create PNG\n",
    "graph.write_png(\"engineering_AF_segment3_workflowS3_decisiontree_downsampled.png\")"
   ]
  },
  {
   "cell_type": "code",
   "execution_count": null,
   "metadata": {},
   "outputs": [],
   "source": []
  }
 ],
 "metadata": {
  "kernelspec": {
   "display_name": "Python 3",
   "language": "python",
   "name": "python3"
  },
  "language_info": {
   "codemirror_mode": {
    "name": "ipython",
    "version": 3
   },
   "file_extension": ".py",
   "mimetype": "text/x-python",
   "name": "python",
   "nbconvert_exporter": "python",
   "pygments_lexer": "ipython3",
   "version": "3.8.3"
  }
 },
 "nbformat": 4,
 "nbformat_minor": 1
}
