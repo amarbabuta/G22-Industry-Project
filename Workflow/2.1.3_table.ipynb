{
 "cells": [
  {
   "cell_type": "code",
   "execution_count": 1,
   "metadata": {
    "collapsed": true
   },
   "outputs": [],
   "source": [
    "import pandas as pd\n",
    "import numpy\n",
    "from __future__ import division"
   ]
  },
  {
   "cell_type": "code",
   "execution_count": 2,
   "outputs": [],
   "source": [
    "df1_WS3T = pd.read_csv(\"/Users/asteriag/Desktop/DATASCIENCEPROJECT_WORKFLOW/pythonProject/segment1_WS3_has_duration.csv\")"
   ],
   "metadata": {
    "collapsed": false,
    "pycharm": {
     "name": "#%%\n"
    }
   }
  },
  {
   "cell_type": "code",
   "execution_count": 3,
   "outputs": [
    {
     "data": {
      "text/plain": "                 CASE_ID           WRKFLW_TSK_MAP_GROUPED  \\\n0  1079339|441319|682219  Assessment Outcome - Successful   \n\n           WRKFLW_TSK_MAP_DETAILED     PATH_CRDATETIME ITEM_CRUSER  \\\n0  Assessment Outcome - Successful  11/5/2019 14:06:25   ATKINSONM   \n\n  WRKFLW_ORG_TYPE_CRUSER  STATUS_ORDER LATEST_STATUS         WRKFLW_PROCESS  \\\n0                Faculty            18             N  2. Perform Assessment   \n\n                    QUERY_PART  ... SPK_CAT_TYPE_CD  BROAD_COURSE_LEVEL  \\\n0  Part 3 - Assessment Outcome  ...             MCW                HDCW   \n\n    DEGREETYPE  LIABILITY_CATEGORY_CD_RECODE  \\\n0  Full Degree                            OF   \n\n   ORIG_LIABILITY_CATEGORY_CD_RECODE OFFER_RELEASED_FG OFFER_OUTCOME_CD  \\\n0                                 OF                 Y             $DEF   \n\n  OFFER_CONDITIONS                       time_used_str  time_used_second  \n0                Y  0 days 0 hours 0 minutes 7 seconds               7.0  \n\n[1 rows x 58 columns]",
      "text/html": "<div>\n<style scoped>\n    .dataframe tbody tr th:only-of-type {\n        vertical-align: middle;\n    }\n\n    .dataframe tbody tr th {\n        vertical-align: top;\n    }\n\n    .dataframe thead th {\n        text-align: right;\n    }\n</style>\n<table border=\"1\" class=\"dataframe\">\n  <thead>\n    <tr style=\"text-align: right;\">\n      <th></th>\n      <th>CASE_ID</th>\n      <th>WRKFLW_TSK_MAP_GROUPED</th>\n      <th>WRKFLW_TSK_MAP_DETAILED</th>\n      <th>PATH_CRDATETIME</th>\n      <th>ITEM_CRUSER</th>\n      <th>WRKFLW_ORG_TYPE_CRUSER</th>\n      <th>STATUS_ORDER</th>\n      <th>LATEST_STATUS</th>\n      <th>WRKFLW_PROCESS</th>\n      <th>QUERY_PART</th>\n      <th>...</th>\n      <th>SPK_CAT_TYPE_CD</th>\n      <th>BROAD_COURSE_LEVEL</th>\n      <th>DEGREETYPE</th>\n      <th>LIABILITY_CATEGORY_CD_RECODE</th>\n      <th>ORIG_LIABILITY_CATEGORY_CD_RECODE</th>\n      <th>OFFER_RELEASED_FG</th>\n      <th>OFFER_OUTCOME_CD</th>\n      <th>OFFER_CONDITIONS</th>\n      <th>time_used_str</th>\n      <th>time_used_second</th>\n    </tr>\n  </thead>\n  <tbody>\n    <tr>\n      <th>0</th>\n      <td>1079339|441319|682219</td>\n      <td>Assessment Outcome - Successful</td>\n      <td>Assessment Outcome - Successful</td>\n      <td>11/5/2019 14:06:25</td>\n      <td>ATKINSONM</td>\n      <td>Faculty</td>\n      <td>18</td>\n      <td>N</td>\n      <td>2. Perform Assessment</td>\n      <td>Part 3 - Assessment Outcome</td>\n      <td>...</td>\n      <td>MCW</td>\n      <td>HDCW</td>\n      <td>Full Degree</td>\n      <td>OF</td>\n      <td>OF</td>\n      <td>Y</td>\n      <td>$DEF</td>\n      <td>Y</td>\n      <td>0 days 0 hours 0 minutes 7 seconds</td>\n      <td>7.0</td>\n    </tr>\n  </tbody>\n</table>\n<p>1 rows × 58 columns</p>\n</div>"
     },
     "execution_count": 3,
     "metadata": {},
     "output_type": "execute_result"
    }
   ],
   "source": [
    "df1_WS3T.head(n=1)"
   ],
   "metadata": {
    "collapsed": false,
    "pycharm": {
     "name": "#%%\n"
    }
   }
  },
  {
   "cell_type": "code",
   "execution_count": 4,
   "outputs": [],
   "source": [
    "numOfWorkflowProcesses = df1_WS3T.groupby('CASE_ID').CASE_ID.count()\n",
    "\n",
    "count_dic=dict()\n",
    "for i,v in numOfWorkflowProcesses.items():\n",
    "    if count_dic.get(v) is None:\n",
    "        count_dic[v]=[]\n",
    "        count_dic[v].append(i)\n",
    "    else:\n",
    "        count_dic[v].append(i)\n",
    "#count_dic\n"
   ],
   "metadata": {
    "collapsed": false,
    "pycharm": {
     "name": "#%%\n"
    }
   }
  },
  {
   "cell_type": "code",
   "execution_count": 5,
   "outputs": [],
   "source": [
    "len_list=[]\n",
    "for key in count_dic.keys():\n",
    "    len_list.append(len(count_dic[key]))"
   ],
   "metadata": {
    "collapsed": false,
    "pycharm": {
     "name": "#%%\n"
    }
   }
  },
  {
   "cell_type": "code",
   "execution_count": 6,
   "outputs": [],
   "source": [
    "def strfdelta(tdelta, fmt):\n",
    "    d=dict()\n",
    "    d[\"days\"],rem1 = divmod(tdelta,60*60*24)\n",
    "    d[\"hours\"], rem2 = divmod(rem1, 3600)\n",
    "    d[\"minutes\"], d[\"seconds\"] = divmod(rem2, 60)\n",
    "    return fmt.format(**d)"
   ],
   "metadata": {
    "collapsed": false,
    "pycharm": {
     "name": "#%%\n"
    }
   }
  },
  {
   "cell_type": "code",
   "execution_count": 7,
   "outputs": [],
   "source": [
    "list_avgtime_per_key =[]\n",
    "for key in count_dic.keys():\n",
    "    id_list = count_dic[key]\n",
    "    list_sumtime_person = 0\n",
    "    for id in id_list:\n",
    "        df = df1_WS3T[df1_WS3T['CASE_ID']== id]\n",
    "        tsum = df['time_used_second'].sum()\n",
    "        list_sumtime_person+=tsum\n",
    "    list_avgtime_per_key.append(int((list_sumtime_person/len(count_dic[key]))))\n",
    "\n",
    "list_avgtime_per_key_str = []\n",
    "for i in list_avgtime_per_key:\n",
    "    list_avgtime_per_key_str.append(strfdelta(i,\"{days} days {hours} hours {minutes} minutes {seconds} seconds\"))"
   ],
   "metadata": {
    "collapsed": false,
    "pycharm": {
     "name": "#%%\n"
    }
   }
  },
  {
   "cell_type": "code",
   "execution_count": 8,
   "outputs": [],
   "source": [
    "list_mediantime_per_key = []\n",
    "for key in count_dic.keys():\n",
    "    id_list = count_dic[key]\n",
    "    list_sumtime_per_person = []\n",
    "    for id in id_list:\n",
    "        df = df1_WS3T[df1_WS3T['CASE_ID']== id]\n",
    "        tsum = df['time_used_second'].sum()\n",
    "        list_sumtime_per_person.append(tsum)\n",
    "    list_mediantime_per_key.append(numpy.median(list_sumtime_per_person))\n",
    "\n",
    "list_mediantime_per_key_str = []\n",
    "for i in list_mediantime_per_key:\n",
    "    list_mediantime_per_key_str.append(strfdelta(i,\"{days} days {hours} hours {minutes} minutes {seconds} seconds\"))"
   ],
   "metadata": {
    "collapsed": false,
    "pycharm": {
     "name": "#%%\n"
    }
   }
  },
  {
   "cell_type": "code",
   "execution_count": 9,
   "outputs": [],
   "source": [
    "list_percent_reach_end = []\n",
    "for key in count_dic.keys():\n",
    "    id_list = count_dic[key]\n",
    "    count_df_end_step = 0\n",
    "    count_df_id = 0\n",
    "    for id in id_list:\n",
    "        df_id = df1_WS3T[df1_WS3T['CASE_ID']== id]\n",
    "        df_end_step = df_id[df_id['WRKFLW_TSK_MAP_GROUPED']=='Release Offer']\n",
    "        count_df_id += df_id['CASE_ID'].count()\n",
    "        count_df_end_step += df_end_step['CASE_ID'].count()\n",
    "    list_percent_reach_end.append(str(round((count_df_end_step/count_df_id)*100,2))+ \"%\")"
   ],
   "metadata": {
    "collapsed": false,
    "pycharm": {
     "name": "#%%\n"
    }
   }
  },
  {
   "cell_type": "code",
   "execution_count": 10,
   "outputs": [],
   "source": [
    "list_step_per_key = []\n",
    "for key in count_dic.keys():\n",
    "    id_list = count_dic[key]\n",
    "    list_step = set()\n",
    "    for id in id_list:\n",
    "        df = df1_WS3T[df1_WS3T['CASE_ID']== id]\n",
    "        for index, row in df.iterrows():\n",
    "            list_step.add(row['WRKFLW_TSK_MAP_GROUPED'])\n",
    "    list_step_per_key.append(list_step)"
   ],
   "metadata": {
    "collapsed": false,
    "pycharm": {
     "name": "#%%\n"
    }
   }
  },
  {
   "cell_type": "code",
   "execution_count": 11,
   "outputs": [
    {
     "data": {
      "text/plain": "   Number of Workflow processes in this Workflow Segment  Number of cases  \\\n0                                                  1                 1531   \n1                                                  2                  462   \n2                                                  3                 4500   \n3                                                  4                 2347   \n4                                                  5                  291   \n5                                                  6                  111   \n6                                                  7                   50   \n7                                                  8                   32   \n8                                                  9                   16   \n9                                                 10                    9   \n\n        average time for workflow segment  \\\n0      0 days 0 hours 0 minutes 0 seconds   \n1    14 days 7 hours 57 minutes 0 seconds   \n2   1 days 16 hours 11 minutes 45 seconds   \n3   2 days 17 hours 16 minutes 35 seconds   \n4    27 days 15 hours 2 minutes 7 seconds   \n5   38 days 16 hours 7 minutes 49 seconds   \n6  52 days 14 hours 49 minutes 22 seconds   \n7    70 days 0 hours 7 minutes 34 seconds   \n8  83 days 18 hours 55 minutes 54 seconds   \n9    76 days 7 hours 6 minutes 33 seconds   \n\n                 median time for workflow segment  \\\n0      0.0 days 0.0 hours 0.0 minutes 0.0 seconds   \n1     0.0 days 0.0 hours 1.0 minutes 55.5 seconds   \n2     0.0 days 0.0 hours 2.0 minutes 15.0 seconds   \n3     0.0 days 0.0 hours 2.0 minutes 43.0 seconds   \n4     0.0 days 0.0 hours 8.0 minutes 14.0 seconds   \n5     2.0 days 3.0 hours 49.0 minutes 6.0 seconds   \n6    19.0 days 5.0 hours 0.0 minutes 48.5 seconds   \n7   39.0 days 9.0 hours 19.0 minutes 13.0 seconds   \n8  71.0 days 11.0 hours 33.0 minutes 28.5 seconds   \n9     5.0 days 0.0 hours 57.0 minutes 6.0 seconds   \n\n  percentage of cases reaching to end of workflow segment  \\\n0                                               0.0%        \n1                                              0.32%        \n2                                             30.33%        \n3                                             22.48%        \n4                                              9.42%        \n5                                              6.31%        \n6                                               4.0%        \n7                                               4.3%        \n8                                              2.78%        \n9                                              3.33%        \n\n                                                step  \n0              {Assessment Outcome - Not Successful}  \n1  {OC - Reviewed - Other, Assessment Decision - ...  \n2  {OC - Reviewed - Other, AR - Satisfied - Other...  \n3  {OC - Reviewed - Other, AR - Reviewed - furthe...  \n4  {OC - Reviewed - Other, AR - Requested - sylla...  \n5  {OC - Reviewed - Other, AR - Satisfied - appli...  \n6  {OC - Reviewed - Other, AR - Satisfied - appli...  \n7  {Assessment Decision - No Decision, PREPARE TO...  \n8  {OC - Reviewed - Other, AR - Satisfied - Other...  \n9  {Assessment Decision - No Decision, OC - Creat...  ",
      "text/html": "<div>\n<style scoped>\n    .dataframe tbody tr th:only-of-type {\n        vertical-align: middle;\n    }\n\n    .dataframe tbody tr th {\n        vertical-align: top;\n    }\n\n    .dataframe thead th {\n        text-align: right;\n    }\n</style>\n<table border=\"1\" class=\"dataframe\">\n  <thead>\n    <tr style=\"text-align: right;\">\n      <th></th>\n      <th>Number of Workflow processes in this Workflow Segment</th>\n      <th>Number of cases</th>\n      <th>average time for workflow segment</th>\n      <th>median time for workflow segment</th>\n      <th>percentage of cases reaching to end of workflow segment</th>\n      <th>step</th>\n    </tr>\n  </thead>\n  <tbody>\n    <tr>\n      <th>0</th>\n      <td>1</td>\n      <td>1531</td>\n      <td>0 days 0 hours 0 minutes 0 seconds</td>\n      <td>0.0 days 0.0 hours 0.0 minutes 0.0 seconds</td>\n      <td>0.0%</td>\n      <td>{Assessment Outcome - Not Successful}</td>\n    </tr>\n    <tr>\n      <th>1</th>\n      <td>2</td>\n      <td>462</td>\n      <td>14 days 7 hours 57 minutes 0 seconds</td>\n      <td>0.0 days 0.0 hours 1.0 minutes 55.5 seconds</td>\n      <td>0.32%</td>\n      <td>{OC - Reviewed - Other, Assessment Decision - ...</td>\n    </tr>\n    <tr>\n      <th>2</th>\n      <td>3</td>\n      <td>4500</td>\n      <td>1 days 16 hours 11 minutes 45 seconds</td>\n      <td>0.0 days 0.0 hours 2.0 minutes 15.0 seconds</td>\n      <td>30.33%</td>\n      <td>{OC - Reviewed - Other, AR - Satisfied - Other...</td>\n    </tr>\n    <tr>\n      <th>3</th>\n      <td>4</td>\n      <td>2347</td>\n      <td>2 days 17 hours 16 minutes 35 seconds</td>\n      <td>0.0 days 0.0 hours 2.0 minutes 43.0 seconds</td>\n      <td>22.48%</td>\n      <td>{OC - Reviewed - Other, AR - Reviewed - furthe...</td>\n    </tr>\n    <tr>\n      <th>4</th>\n      <td>5</td>\n      <td>291</td>\n      <td>27 days 15 hours 2 minutes 7 seconds</td>\n      <td>0.0 days 0.0 hours 8.0 minutes 14.0 seconds</td>\n      <td>9.42%</td>\n      <td>{OC - Reviewed - Other, AR - Requested - sylla...</td>\n    </tr>\n    <tr>\n      <th>5</th>\n      <td>6</td>\n      <td>111</td>\n      <td>38 days 16 hours 7 minutes 49 seconds</td>\n      <td>2.0 days 3.0 hours 49.0 minutes 6.0 seconds</td>\n      <td>6.31%</td>\n      <td>{OC - Reviewed - Other, AR - Satisfied - appli...</td>\n    </tr>\n    <tr>\n      <th>6</th>\n      <td>7</td>\n      <td>50</td>\n      <td>52 days 14 hours 49 minutes 22 seconds</td>\n      <td>19.0 days 5.0 hours 0.0 minutes 48.5 seconds</td>\n      <td>4.0%</td>\n      <td>{OC - Reviewed - Other, AR - Satisfied - appli...</td>\n    </tr>\n    <tr>\n      <th>7</th>\n      <td>8</td>\n      <td>32</td>\n      <td>70 days 0 hours 7 minutes 34 seconds</td>\n      <td>39.0 days 9.0 hours 19.0 minutes 13.0 seconds</td>\n      <td>4.3%</td>\n      <td>{Assessment Decision - No Decision, PREPARE TO...</td>\n    </tr>\n    <tr>\n      <th>8</th>\n      <td>9</td>\n      <td>16</td>\n      <td>83 days 18 hours 55 minutes 54 seconds</td>\n      <td>71.0 days 11.0 hours 33.0 minutes 28.5 seconds</td>\n      <td>2.78%</td>\n      <td>{OC - Reviewed - Other, AR - Satisfied - Other...</td>\n    </tr>\n    <tr>\n      <th>9</th>\n      <td>10</td>\n      <td>9</td>\n      <td>76 days 7 hours 6 minutes 33 seconds</td>\n      <td>5.0 days 0.0 hours 57.0 minutes 6.0 seconds</td>\n      <td>3.33%</td>\n      <td>{Assessment Decision - No Decision, OC - Creat...</td>\n    </tr>\n  </tbody>\n</table>\n</div>"
     },
     "execution_count": 11,
     "metadata": {},
     "output_type": "execute_result"
    }
   ],
   "source": [
    "s1_t3=pd.DataFrame({'Number of Workflow processes in this Workflow Segment':count_dic.keys(),'Number of cases':len_list, 'average time for workflow segment':list_avgtime_per_key_str,'median time for workflow segment':list_mediantime_per_key_str,'percentage of cases reaching to end of workflow segment':list_percent_reach_end,'step':list_step_per_key})\n",
    "s1_t3.head(n=10)\n"
   ],
   "metadata": {
    "collapsed": false,
    "pycharm": {
     "name": "#%%\n"
    }
   }
  },
  {
   "cell_type": "code",
   "execution_count": 12,
   "outputs": [],
   "source": [
    "s1_t3.to_csv('segment1_WS3_table.csv', index=False)\n",
    "\n",
    "\n",
    "\n",
    "\n",
    "\n",
    "\n",
    "\n",
    "\n",
    "\n"
   ],
   "metadata": {
    "collapsed": false,
    "pycharm": {
     "name": "#%%\n"
    }
   }
  }
 ],
 "metadata": {
  "kernelspec": {
   "name": "pycharm-78f37aff",
   "language": "python",
   "display_name": "PyCharm (pythonProject)"
  },
  "language_info": {
   "codemirror_mode": {
    "name": "ipython",
    "version": 2
   },
   "file_extension": ".py",
   "mimetype": "text/x-python",
   "name": "python",
   "nbconvert_exporter": "python",
   "pygments_lexer": "ipython2",
   "version": "2.7.6"
  }
 },
 "nbformat": 4,
 "nbformat_minor": 0
}