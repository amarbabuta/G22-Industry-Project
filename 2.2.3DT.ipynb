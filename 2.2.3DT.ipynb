{
 "cells": [
  {
   "cell_type": "code",
   "execution_count": 1,
   "metadata": {},
   "outputs": [],
   "source": [
    "import pandas as pd"
   ]
  },
  {
   "cell_type": "code",
   "execution_count": 2,
   "metadata": {
    "pycharm": {
     "name": "#%%\n"
    }
   },
   "outputs": [],
   "source": [
    "df3_WS1T = pd.read_csv(\"engineering_AS_segment2_workflowS3_has_duration.csv\",engine='python')"
   ]
  },
  {
   "cell_type": "code",
   "execution_count": 3,
   "metadata": {
    "pycharm": {
     "name": "#%%\n"
    }
   },
   "outputs": [
    {
     "data": {
      "text/html": [
       "<div>\n",
       "<style scoped>\n",
       "    .dataframe tbody tr th:only-of-type {\n",
       "        vertical-align: middle;\n",
       "    }\n",
       "\n",
       "    .dataframe tbody tr th {\n",
       "        vertical-align: top;\n",
       "    }\n",
       "\n",
       "    .dataframe thead th {\n",
       "        text-align: right;\n",
       "    }\n",
       "</style>\n",
       "<table border=\"1\" class=\"dataframe\">\n",
       "  <thead>\n",
       "    <tr style=\"text-align: right;\">\n",
       "      <th></th>\n",
       "      <th>CASE_ID</th>\n",
       "      <th>WRKFLW_TSK_MAP_GROUPED</th>\n",
       "      <th>WRKFLW_TSK_MAP_DETAILED</th>\n",
       "      <th>PATH_CRDATETIME</th>\n",
       "      <th>ITEM_CRUSER</th>\n",
       "      <th>WRKFLW_ORG_TYPE_CRUSER</th>\n",
       "      <th>STATUS_ORDER</th>\n",
       "      <th>LATEST_STATUS</th>\n",
       "      <th>WRKFLW_PROCESS</th>\n",
       "      <th>QUERY_PART</th>\n",
       "      <th>...</th>\n",
       "      <th>SPK_CAT_TYPE_CD</th>\n",
       "      <th>BROAD_COURSE_LEVEL</th>\n",
       "      <th>DEGREETYPE</th>\n",
       "      <th>LIABILITY_CATEGORY_CD_RECODE</th>\n",
       "      <th>ORIG_LIABILITY_CATEGORY_CD_RECODE</th>\n",
       "      <th>OFFER_RELEASED_FG</th>\n",
       "      <th>OFFER_OUTCOME_CD</th>\n",
       "      <th>OFFER_CONDITIONS</th>\n",
       "      <th>time_used_str</th>\n",
       "      <th>time_used_second</th>\n",
       "    </tr>\n",
       "  </thead>\n",
       "  <tbody>\n",
       "    <tr>\n",
       "      <th>0</th>\n",
       "      <td>521428|372279|580506</td>\n",
       "      <td>Assessment Outcome - Successful</td>\n",
       "      <td>Assessment Outcome - Successful</td>\n",
       "      <td>2/8/2018 12:41:52</td>\n",
       "      <td>CHRISTINAA</td>\n",
       "      <td>Faculty</td>\n",
       "      <td>15</td>\n",
       "      <td>N</td>\n",
       "      <td>2. Perform Assessment</td>\n",
       "      <td>Part 3 - Assessment Outcome</td>\n",
       "      <td>...</td>\n",
       "      <td>MCW</td>\n",
       "      <td>HDCW</td>\n",
       "      <td>Full Degree</td>\n",
       "      <td>AS</td>\n",
       "      <td>AS</td>\n",
       "      <td>Y</td>\n",
       "      <td>$ACC</td>\n",
       "      <td>Y</td>\n",
       "      <td>0 days 0 hours 0 minutes 12 seconds</td>\n",
       "      <td>12.0</td>\n",
       "    </tr>\n",
       "  </tbody>\n",
       "</table>\n",
       "<p>1 rows × 58 columns</p>\n",
       "</div>"
      ],
      "text/plain": [
       "                CASE_ID           WRKFLW_TSK_MAP_GROUPED  \\\n",
       "0  521428|372279|580506  Assessment Outcome - Successful   \n",
       "\n",
       "           WRKFLW_TSK_MAP_DETAILED    PATH_CRDATETIME ITEM_CRUSER  \\\n",
       "0  Assessment Outcome - Successful  2/8/2018 12:41:52  CHRISTINAA   \n",
       "\n",
       "  WRKFLW_ORG_TYPE_CRUSER  STATUS_ORDER LATEST_STATUS         WRKFLW_PROCESS  \\\n",
       "0                Faculty            15             N  2. Perform Assessment   \n",
       "\n",
       "                    QUERY_PART  ... SPK_CAT_TYPE_CD  BROAD_COURSE_LEVEL  \\\n",
       "0  Part 3 - Assessment Outcome  ...             MCW                HDCW   \n",
       "\n",
       "    DEGREETYPE  LIABILITY_CATEGORY_CD_RECODE  \\\n",
       "0  Full Degree                            AS   \n",
       "\n",
       "   ORIG_LIABILITY_CATEGORY_CD_RECODE OFFER_RELEASED_FG OFFER_OUTCOME_CD  \\\n",
       "0                                 AS                 Y             $ACC   \n",
       "\n",
       "  OFFER_CONDITIONS                        time_used_str  time_used_second  \n",
       "0                Y  0 days 0 hours 0 minutes 12 seconds              12.0  \n",
       "\n",
       "[1 rows x 58 columns]"
      ]
     },
     "execution_count": 3,
     "metadata": {},
     "output_type": "execute_result"
    }
   ],
   "source": [
    "df3_WS1T.head(n=1)"
   ]
  },
  {
   "cell_type": "code",
   "execution_count": 4,
   "metadata": {
    "pycharm": {
     "name": "#%%\n"
    }
   },
   "outputs": [
    {
     "data": {
      "text/plain": [
       "{'Assessment Decision - No Decision',\n",
       " 'Assessment Decision - Qualified',\n",
       " 'Assessment Outcome - Successful',\n",
       " 'Create Offer',\n",
       " 'OC - Created - Evidence of course completion',\n",
       " 'Release Offer'}"
      ]
     },
     "execution_count": 4,
     "metadata": {},
     "output_type": "execute_result"
    }
   ],
   "source": [
    "#store unique WRKFLW_TSK_MAP_DETAILED\n",
    "WRKFLW_TSK_MAP_DETAILED_list = df3_WS1T['WRKFLW_TSK_MAP_DETAILED'].tolist()\n",
    "unique_WRKFLW_TSK_MAP_DETAILED_list = set(WRKFLW_TSK_MAP_DETAILED_list)\n",
    "len(unique_WRKFLW_TSK_MAP_DETAILED_list)\n",
    "unique_WRKFLW_TSK_MAP_DETAILED_list"
   ]
  },
  {
   "cell_type": "code",
   "execution_count": 5,
   "metadata": {
    "pycharm": {
     "name": "#%%\n"
    }
   },
   "outputs": [
    {
     "data": {
      "text/plain": [
       "23"
      ]
     },
     "execution_count": 5,
     "metadata": {},
     "output_type": "execute_result"
    }
   ],
   "source": [
    "#store unique CASE_ID\n",
    "ID_list = df3_WS1T['CASE_ID'].tolist()\n",
    "unique_ID_list = set(ID_list)\n",
    "len(unique_ID_list)"
   ]
  },
  {
   "cell_type": "code",
   "execution_count": 6,
   "metadata": {
    "pycharm": {
     "name": "#%%\n"
    }
   },
   "outputs": [
    {
     "data": {
      "text/html": [
       "<div>\n",
       "<style scoped>\n",
       "    .dataframe tbody tr th:only-of-type {\n",
       "        vertical-align: middle;\n",
       "    }\n",
       "\n",
       "    .dataframe tbody tr th {\n",
       "        vertical-align: top;\n",
       "    }\n",
       "\n",
       "    .dataframe thead th {\n",
       "        text-align: right;\n",
       "    }\n",
       "</style>\n",
       "<table border=\"1\" class=\"dataframe\">\n",
       "  <thead>\n",
       "    <tr style=\"text-align: right;\">\n",
       "      <th></th>\n",
       "      <th>OC - Created - Evidence of course completion</th>\n",
       "      <th>Assessment Outcome - Successful</th>\n",
       "      <th>Create Offer</th>\n",
       "      <th>Release Offer</th>\n",
       "      <th>Assessment Decision - Qualified</th>\n",
       "      <th>Assessment Decision - No Decision</th>\n",
       "    </tr>\n",
       "  </thead>\n",
       "  <tbody>\n",
       "    <tr>\n",
       "      <th>556092|418746|649064</th>\n",
       "      <td>NaN</td>\n",
       "      <td>NaN</td>\n",
       "      <td>NaN</td>\n",
       "      <td>NaN</td>\n",
       "      <td>NaN</td>\n",
       "      <td>NaN</td>\n",
       "    </tr>\n",
       "    <tr>\n",
       "      <th>1163793|555726|849921</th>\n",
       "      <td>NaN</td>\n",
       "      <td>NaN</td>\n",
       "      <td>NaN</td>\n",
       "      <td>NaN</td>\n",
       "      <td>NaN</td>\n",
       "      <td>NaN</td>\n",
       "    </tr>\n",
       "    <tr>\n",
       "      <th>1079286|506989|777934</th>\n",
       "      <td>NaN</td>\n",
       "      <td>NaN</td>\n",
       "      <td>NaN</td>\n",
       "      <td>NaN</td>\n",
       "      <td>NaN</td>\n",
       "      <td>NaN</td>\n",
       "    </tr>\n",
       "    <tr>\n",
       "      <th>883043|411872|667486</th>\n",
       "      <td>NaN</td>\n",
       "      <td>NaN</td>\n",
       "      <td>NaN</td>\n",
       "      <td>NaN</td>\n",
       "      <td>NaN</td>\n",
       "      <td>NaN</td>\n",
       "    </tr>\n",
       "    <tr>\n",
       "      <th>836435|552668|845455</th>\n",
       "      <td>NaN</td>\n",
       "      <td>NaN</td>\n",
       "      <td>NaN</td>\n",
       "      <td>NaN</td>\n",
       "      <td>NaN</td>\n",
       "      <td>NaN</td>\n",
       "    </tr>\n",
       "    <tr>\n",
       "      <th>1158188|545234|834728</th>\n",
       "      <td>NaN</td>\n",
       "      <td>NaN</td>\n",
       "      <td>NaN</td>\n",
       "      <td>NaN</td>\n",
       "      <td>NaN</td>\n",
       "      <td>NaN</td>\n",
       "    </tr>\n",
       "    <tr>\n",
       "      <th>521428|372279|580506</th>\n",
       "      <td>NaN</td>\n",
       "      <td>NaN</td>\n",
       "      <td>NaN</td>\n",
       "      <td>NaN</td>\n",
       "      <td>NaN</td>\n",
       "      <td>NaN</td>\n",
       "    </tr>\n",
       "    <tr>\n",
       "      <th>831209|419422|650060</th>\n",
       "      <td>NaN</td>\n",
       "      <td>NaN</td>\n",
       "      <td>NaN</td>\n",
       "      <td>NaN</td>\n",
       "      <td>NaN</td>\n",
       "      <td>NaN</td>\n",
       "    </tr>\n",
       "    <tr>\n",
       "      <th>1104975|473209|726228</th>\n",
       "      <td>NaN</td>\n",
       "      <td>NaN</td>\n",
       "      <td>NaN</td>\n",
       "      <td>NaN</td>\n",
       "      <td>NaN</td>\n",
       "      <td>NaN</td>\n",
       "    </tr>\n",
       "    <tr>\n",
       "      <th>1071012|541292|828351</th>\n",
       "      <td>NaN</td>\n",
       "      <td>NaN</td>\n",
       "      <td>NaN</td>\n",
       "      <td>NaN</td>\n",
       "      <td>NaN</td>\n",
       "      <td>NaN</td>\n",
       "    </tr>\n",
       "    <tr>\n",
       "      <th>1156222|542251|829832</th>\n",
       "      <td>NaN</td>\n",
       "      <td>NaN</td>\n",
       "      <td>NaN</td>\n",
       "      <td>NaN</td>\n",
       "      <td>NaN</td>\n",
       "      <td>NaN</td>\n",
       "    </tr>\n",
       "    <tr>\n",
       "      <th>1089677|479341|735255</th>\n",
       "      <td>NaN</td>\n",
       "      <td>NaN</td>\n",
       "      <td>NaN</td>\n",
       "      <td>NaN</td>\n",
       "      <td>NaN</td>\n",
       "      <td>NaN</td>\n",
       "    </tr>\n",
       "    <tr>\n",
       "      <th>759141|363501|566737</th>\n",
       "      <td>NaN</td>\n",
       "      <td>NaN</td>\n",
       "      <td>NaN</td>\n",
       "      <td>NaN</td>\n",
       "      <td>NaN</td>\n",
       "      <td>NaN</td>\n",
       "    </tr>\n",
       "    <tr>\n",
       "      <th>1068414|425956|660100</th>\n",
       "      <td>NaN</td>\n",
       "      <td>NaN</td>\n",
       "      <td>NaN</td>\n",
       "      <td>NaN</td>\n",
       "      <td>NaN</td>\n",
       "      <td>NaN</td>\n",
       "    </tr>\n",
       "    <tr>\n",
       "      <th>831339|546066|836047</th>\n",
       "      <td>NaN</td>\n",
       "      <td>NaN</td>\n",
       "      <td>NaN</td>\n",
       "      <td>NaN</td>\n",
       "      <td>NaN</td>\n",
       "      <td>NaN</td>\n",
       "    </tr>\n",
       "    <tr>\n",
       "      <th>834063|417186|646721</th>\n",
       "      <td>NaN</td>\n",
       "      <td>NaN</td>\n",
       "      <td>NaN</td>\n",
       "      <td>NaN</td>\n",
       "      <td>NaN</td>\n",
       "      <td>NaN</td>\n",
       "    </tr>\n",
       "    <tr>\n",
       "      <th>990545|323544|511318</th>\n",
       "      <td>NaN</td>\n",
       "      <td>NaN</td>\n",
       "      <td>NaN</td>\n",
       "      <td>NaN</td>\n",
       "      <td>NaN</td>\n",
       "      <td>NaN</td>\n",
       "    </tr>\n",
       "    <tr>\n",
       "      <th>1144647|523920|803104</th>\n",
       "      <td>NaN</td>\n",
       "      <td>NaN</td>\n",
       "      <td>NaN</td>\n",
       "      <td>NaN</td>\n",
       "      <td>NaN</td>\n",
       "      <td>NaN</td>\n",
       "    </tr>\n",
       "    <tr>\n",
       "      <th>1045755|441165|681992</th>\n",
       "      <td>NaN</td>\n",
       "      <td>NaN</td>\n",
       "      <td>NaN</td>\n",
       "      <td>NaN</td>\n",
       "      <td>NaN</td>\n",
       "      <td>NaN</td>\n",
       "    </tr>\n",
       "    <tr>\n",
       "      <th>841551|415834|644607</th>\n",
       "      <td>NaN</td>\n",
       "      <td>NaN</td>\n",
       "      <td>NaN</td>\n",
       "      <td>NaN</td>\n",
       "      <td>NaN</td>\n",
       "      <td>NaN</td>\n",
       "    </tr>\n",
       "    <tr>\n",
       "      <th>1102417|470238|722008</th>\n",
       "      <td>NaN</td>\n",
       "      <td>NaN</td>\n",
       "      <td>NaN</td>\n",
       "      <td>NaN</td>\n",
       "      <td>NaN</td>\n",
       "      <td>NaN</td>\n",
       "    </tr>\n",
       "    <tr>\n",
       "      <th>841583|393054|611843</th>\n",
       "      <td>NaN</td>\n",
       "      <td>NaN</td>\n",
       "      <td>NaN</td>\n",
       "      <td>NaN</td>\n",
       "      <td>NaN</td>\n",
       "      <td>NaN</td>\n",
       "    </tr>\n",
       "    <tr>\n",
       "      <th>339918|468523|719583</th>\n",
       "      <td>NaN</td>\n",
       "      <td>NaN</td>\n",
       "      <td>NaN</td>\n",
       "      <td>NaN</td>\n",
       "      <td>NaN</td>\n",
       "      <td>NaN</td>\n",
       "    </tr>\n",
       "  </tbody>\n",
       "</table>\n",
       "</div>"
      ],
      "text/plain": [
       "                      OC - Created - Evidence of course completion  \\\n",
       "556092|418746|649064                                           NaN   \n",
       "1163793|555726|849921                                          NaN   \n",
       "1079286|506989|777934                                          NaN   \n",
       "883043|411872|667486                                           NaN   \n",
       "836435|552668|845455                                           NaN   \n",
       "1158188|545234|834728                                          NaN   \n",
       "521428|372279|580506                                           NaN   \n",
       "831209|419422|650060                                           NaN   \n",
       "1104975|473209|726228                                          NaN   \n",
       "1071012|541292|828351                                          NaN   \n",
       "1156222|542251|829832                                          NaN   \n",
       "1089677|479341|735255                                          NaN   \n",
       "759141|363501|566737                                           NaN   \n",
       "1068414|425956|660100                                          NaN   \n",
       "831339|546066|836047                                           NaN   \n",
       "834063|417186|646721                                           NaN   \n",
       "990545|323544|511318                                           NaN   \n",
       "1144647|523920|803104                                          NaN   \n",
       "1045755|441165|681992                                          NaN   \n",
       "841551|415834|644607                                           NaN   \n",
       "1102417|470238|722008                                          NaN   \n",
       "841583|393054|611843                                           NaN   \n",
       "339918|468523|719583                                           NaN   \n",
       "\n",
       "                      Assessment Outcome - Successful Create Offer  \\\n",
       "556092|418746|649064                              NaN          NaN   \n",
       "1163793|555726|849921                             NaN          NaN   \n",
       "1079286|506989|777934                             NaN          NaN   \n",
       "883043|411872|667486                              NaN          NaN   \n",
       "836435|552668|845455                              NaN          NaN   \n",
       "1158188|545234|834728                             NaN          NaN   \n",
       "521428|372279|580506                              NaN          NaN   \n",
       "831209|419422|650060                              NaN          NaN   \n",
       "1104975|473209|726228                             NaN          NaN   \n",
       "1071012|541292|828351                             NaN          NaN   \n",
       "1156222|542251|829832                             NaN          NaN   \n",
       "1089677|479341|735255                             NaN          NaN   \n",
       "759141|363501|566737                              NaN          NaN   \n",
       "1068414|425956|660100                             NaN          NaN   \n",
       "831339|546066|836047                              NaN          NaN   \n",
       "834063|417186|646721                              NaN          NaN   \n",
       "990545|323544|511318                              NaN          NaN   \n",
       "1144647|523920|803104                             NaN          NaN   \n",
       "1045755|441165|681992                             NaN          NaN   \n",
       "841551|415834|644607                              NaN          NaN   \n",
       "1102417|470238|722008                             NaN          NaN   \n",
       "841583|393054|611843                              NaN          NaN   \n",
       "339918|468523|719583                              NaN          NaN   \n",
       "\n",
       "                      Release Offer Assessment Decision - Qualified  \\\n",
       "556092|418746|649064            NaN                             NaN   \n",
       "1163793|555726|849921           NaN                             NaN   \n",
       "1079286|506989|777934           NaN                             NaN   \n",
       "883043|411872|667486            NaN                             NaN   \n",
       "836435|552668|845455            NaN                             NaN   \n",
       "1158188|545234|834728           NaN                             NaN   \n",
       "521428|372279|580506            NaN                             NaN   \n",
       "831209|419422|650060            NaN                             NaN   \n",
       "1104975|473209|726228           NaN                             NaN   \n",
       "1071012|541292|828351           NaN                             NaN   \n",
       "1156222|542251|829832           NaN                             NaN   \n",
       "1089677|479341|735255           NaN                             NaN   \n",
       "759141|363501|566737            NaN                             NaN   \n",
       "1068414|425956|660100           NaN                             NaN   \n",
       "831339|546066|836047            NaN                             NaN   \n",
       "834063|417186|646721            NaN                             NaN   \n",
       "990545|323544|511318            NaN                             NaN   \n",
       "1144647|523920|803104           NaN                             NaN   \n",
       "1045755|441165|681992           NaN                             NaN   \n",
       "841551|415834|644607            NaN                             NaN   \n",
       "1102417|470238|722008           NaN                             NaN   \n",
       "841583|393054|611843            NaN                             NaN   \n",
       "339918|468523|719583            NaN                             NaN   \n",
       "\n",
       "                      Assessment Decision - No Decision  \n",
       "556092|418746|649064                                NaN  \n",
       "1163793|555726|849921                               NaN  \n",
       "1079286|506989|777934                               NaN  \n",
       "883043|411872|667486                                NaN  \n",
       "836435|552668|845455                                NaN  \n",
       "1158188|545234|834728                               NaN  \n",
       "521428|372279|580506                                NaN  \n",
       "831209|419422|650060                                NaN  \n",
       "1104975|473209|726228                               NaN  \n",
       "1071012|541292|828351                               NaN  \n",
       "1156222|542251|829832                               NaN  \n",
       "1089677|479341|735255                               NaN  \n",
       "759141|363501|566737                                NaN  \n",
       "1068414|425956|660100                               NaN  \n",
       "831339|546066|836047                                NaN  \n",
       "834063|417186|646721                                NaN  \n",
       "990545|323544|511318                                NaN  \n",
       "1144647|523920|803104                               NaN  \n",
       "1045755|441165|681992                               NaN  \n",
       "841551|415834|644607                                NaN  \n",
       "1102417|470238|722008                               NaN  \n",
       "841583|393054|611843                                NaN  \n",
       "339918|468523|719583                                NaN  "
      ]
     },
     "execution_count": 6,
     "metadata": {},
     "output_type": "execute_result"
    }
   ],
   "source": [
    "#create dataframe columns->unique_WRKFLW_TSK_MAP_DETAILED row->unique_ID\n",
    "df = pd.DataFrame(columns = unique_WRKFLW_TSK_MAP_DETAILED_list, index = unique_ID_list )\n",
    "df"
   ]
  },
  {
   "cell_type": "code",
   "execution_count": 7,
   "metadata": {
    "pycharm": {
     "name": "#%%\n"
    }
   },
   "outputs": [
    {
     "data": {
      "text/plain": [
       "23"
      ]
     },
     "execution_count": 7,
     "metadata": {},
     "output_type": "execute_result"
    }
   ],
   "source": [
    "#sotre id as key and workflow detail of the id as value into dictionary\n",
    "from collections import defaultdict\n",
    "ID_WRKFLW_dict = defaultdict(list)\n",
    "for i, j in zip(df3_WS1T.CASE_ID,df3_WS1T.WRKFLW_TSK_MAP_DETAILED):\n",
    "    ID_WRKFLW_dict[i].append(j)\n",
    "len(ID_WRKFLW_dict)"
   ]
  },
  {
   "cell_type": "code",
   "execution_count": 8,
   "metadata": {
    "pycharm": {
     "name": "#%%\n"
    }
   },
   "outputs": [
    {
     "data": {
      "text/html": [
       "<div>\n",
       "<style scoped>\n",
       "    .dataframe tbody tr th:only-of-type {\n",
       "        vertical-align: middle;\n",
       "    }\n",
       "\n",
       "    .dataframe tbody tr th {\n",
       "        vertical-align: top;\n",
       "    }\n",
       "\n",
       "    .dataframe thead th {\n",
       "        text-align: right;\n",
       "    }\n",
       "</style>\n",
       "<table border=\"1\" class=\"dataframe\">\n",
       "  <thead>\n",
       "    <tr style=\"text-align: right;\">\n",
       "      <th></th>\n",
       "      <th>OC - Created - Evidence of course completion</th>\n",
       "      <th>Assessment Outcome - Successful</th>\n",
       "      <th>Create Offer</th>\n",
       "      <th>Release Offer</th>\n",
       "      <th>Assessment Decision - Qualified</th>\n",
       "      <th>Assessment Decision - No Decision</th>\n",
       "    </tr>\n",
       "  </thead>\n",
       "  <tbody>\n",
       "    <tr>\n",
       "      <th>556092|418746|649064</th>\n",
       "      <td>0</td>\n",
       "      <td>1</td>\n",
       "      <td>1</td>\n",
       "      <td>1</td>\n",
       "      <td>0</td>\n",
       "      <td>0</td>\n",
       "    </tr>\n",
       "    <tr>\n",
       "      <th>1163793|555726|849921</th>\n",
       "      <td>0</td>\n",
       "      <td>1</td>\n",
       "      <td>1</td>\n",
       "      <td>1</td>\n",
       "      <td>0</td>\n",
       "      <td>0</td>\n",
       "    </tr>\n",
       "    <tr>\n",
       "      <th>1079286|506989|777934</th>\n",
       "      <td>0</td>\n",
       "      <td>1</td>\n",
       "      <td>1</td>\n",
       "      <td>1</td>\n",
       "      <td>0</td>\n",
       "      <td>0</td>\n",
       "    </tr>\n",
       "    <tr>\n",
       "      <th>883043|411872|667486</th>\n",
       "      <td>0</td>\n",
       "      <td>1</td>\n",
       "      <td>1</td>\n",
       "      <td>1</td>\n",
       "      <td>0</td>\n",
       "      <td>0</td>\n",
       "    </tr>\n",
       "    <tr>\n",
       "      <th>836435|552668|845455</th>\n",
       "      <td>0</td>\n",
       "      <td>1</td>\n",
       "      <td>1</td>\n",
       "      <td>1</td>\n",
       "      <td>1</td>\n",
       "      <td>0</td>\n",
       "    </tr>\n",
       "    <tr>\n",
       "      <th>1158188|545234|834728</th>\n",
       "      <td>1</td>\n",
       "      <td>1</td>\n",
       "      <td>1</td>\n",
       "      <td>1</td>\n",
       "      <td>0</td>\n",
       "      <td>0</td>\n",
       "    </tr>\n",
       "    <tr>\n",
       "      <th>521428|372279|580506</th>\n",
       "      <td>1</td>\n",
       "      <td>1</td>\n",
       "      <td>1</td>\n",
       "      <td>1</td>\n",
       "      <td>1</td>\n",
       "      <td>0</td>\n",
       "    </tr>\n",
       "    <tr>\n",
       "      <th>831209|419422|650060</th>\n",
       "      <td>0</td>\n",
       "      <td>1</td>\n",
       "      <td>1</td>\n",
       "      <td>1</td>\n",
       "      <td>0</td>\n",
       "      <td>0</td>\n",
       "    </tr>\n",
       "    <tr>\n",
       "      <th>1104975|473209|726228</th>\n",
       "      <td>0</td>\n",
       "      <td>1</td>\n",
       "      <td>1</td>\n",
       "      <td>1</td>\n",
       "      <td>0</td>\n",
       "      <td>0</td>\n",
       "    </tr>\n",
       "    <tr>\n",
       "      <th>1071012|541292|828351</th>\n",
       "      <td>0</td>\n",
       "      <td>1</td>\n",
       "      <td>0</td>\n",
       "      <td>1</td>\n",
       "      <td>0</td>\n",
       "      <td>0</td>\n",
       "    </tr>\n",
       "    <tr>\n",
       "      <th>1156222|542251|829832</th>\n",
       "      <td>0</td>\n",
       "      <td>1</td>\n",
       "      <td>1</td>\n",
       "      <td>1</td>\n",
       "      <td>0</td>\n",
       "      <td>0</td>\n",
       "    </tr>\n",
       "    <tr>\n",
       "      <th>1089677|479341|735255</th>\n",
       "      <td>0</td>\n",
       "      <td>1</td>\n",
       "      <td>1</td>\n",
       "      <td>1</td>\n",
       "      <td>0</td>\n",
       "      <td>0</td>\n",
       "    </tr>\n",
       "    <tr>\n",
       "      <th>759141|363501|566737</th>\n",
       "      <td>1</td>\n",
       "      <td>1</td>\n",
       "      <td>1</td>\n",
       "      <td>1</td>\n",
       "      <td>0</td>\n",
       "      <td>0</td>\n",
       "    </tr>\n",
       "    <tr>\n",
       "      <th>1068414|425956|660100</th>\n",
       "      <td>0</td>\n",
       "      <td>1</td>\n",
       "      <td>1</td>\n",
       "      <td>1</td>\n",
       "      <td>0</td>\n",
       "      <td>0</td>\n",
       "    </tr>\n",
       "    <tr>\n",
       "      <th>831339|546066|836047</th>\n",
       "      <td>0</td>\n",
       "      <td>1</td>\n",
       "      <td>0</td>\n",
       "      <td>1</td>\n",
       "      <td>1</td>\n",
       "      <td>0</td>\n",
       "    </tr>\n",
       "    <tr>\n",
       "      <th>834063|417186|646721</th>\n",
       "      <td>0</td>\n",
       "      <td>1</td>\n",
       "      <td>1</td>\n",
       "      <td>1</td>\n",
       "      <td>0</td>\n",
       "      <td>0</td>\n",
       "    </tr>\n",
       "    <tr>\n",
       "      <th>990545|323544|511318</th>\n",
       "      <td>0</td>\n",
       "      <td>1</td>\n",
       "      <td>1</td>\n",
       "      <td>1</td>\n",
       "      <td>0</td>\n",
       "      <td>1</td>\n",
       "    </tr>\n",
       "    <tr>\n",
       "      <th>1144647|523920|803104</th>\n",
       "      <td>0</td>\n",
       "      <td>1</td>\n",
       "      <td>0</td>\n",
       "      <td>1</td>\n",
       "      <td>0</td>\n",
       "      <td>0</td>\n",
       "    </tr>\n",
       "    <tr>\n",
       "      <th>1045755|441165|681992</th>\n",
       "      <td>0</td>\n",
       "      <td>1</td>\n",
       "      <td>0</td>\n",
       "      <td>1</td>\n",
       "      <td>0</td>\n",
       "      <td>0</td>\n",
       "    </tr>\n",
       "    <tr>\n",
       "      <th>841551|415834|644607</th>\n",
       "      <td>1</td>\n",
       "      <td>1</td>\n",
       "      <td>0</td>\n",
       "      <td>1</td>\n",
       "      <td>0</td>\n",
       "      <td>0</td>\n",
       "    </tr>\n",
       "    <tr>\n",
       "      <th>1102417|470238|722008</th>\n",
       "      <td>0</td>\n",
       "      <td>1</td>\n",
       "      <td>1</td>\n",
       "      <td>1</td>\n",
       "      <td>0</td>\n",
       "      <td>0</td>\n",
       "    </tr>\n",
       "    <tr>\n",
       "      <th>841583|393054|611843</th>\n",
       "      <td>1</td>\n",
       "      <td>1</td>\n",
       "      <td>0</td>\n",
       "      <td>1</td>\n",
       "      <td>0</td>\n",
       "      <td>0</td>\n",
       "    </tr>\n",
       "    <tr>\n",
       "      <th>339918|468523|719583</th>\n",
       "      <td>1</td>\n",
       "      <td>1</td>\n",
       "      <td>1</td>\n",
       "      <td>1</td>\n",
       "      <td>0</td>\n",
       "      <td>0</td>\n",
       "    </tr>\n",
       "  </tbody>\n",
       "</table>\n",
       "</div>"
      ],
      "text/plain": [
       "                       OC - Created - Evidence of course completion  \\\n",
       "556092|418746|649064                                              0   \n",
       "1163793|555726|849921                                             0   \n",
       "1079286|506989|777934                                             0   \n",
       "883043|411872|667486                                              0   \n",
       "836435|552668|845455                                              0   \n",
       "1158188|545234|834728                                             1   \n",
       "521428|372279|580506                                              1   \n",
       "831209|419422|650060                                              0   \n",
       "1104975|473209|726228                                             0   \n",
       "1071012|541292|828351                                             0   \n",
       "1156222|542251|829832                                             0   \n",
       "1089677|479341|735255                                             0   \n",
       "759141|363501|566737                                              1   \n",
       "1068414|425956|660100                                             0   \n",
       "831339|546066|836047                                              0   \n",
       "834063|417186|646721                                              0   \n",
       "990545|323544|511318                                              0   \n",
       "1144647|523920|803104                                             0   \n",
       "1045755|441165|681992                                             0   \n",
       "841551|415834|644607                                              1   \n",
       "1102417|470238|722008                                             0   \n",
       "841583|393054|611843                                              1   \n",
       "339918|468523|719583                                              1   \n",
       "\n",
       "                       Assessment Outcome - Successful  Create Offer  \\\n",
       "556092|418746|649064                                 1             1   \n",
       "1163793|555726|849921                                1             1   \n",
       "1079286|506989|777934                                1             1   \n",
       "883043|411872|667486                                 1             1   \n",
       "836435|552668|845455                                 1             1   \n",
       "1158188|545234|834728                                1             1   \n",
       "521428|372279|580506                                 1             1   \n",
       "831209|419422|650060                                 1             1   \n",
       "1104975|473209|726228                                1             1   \n",
       "1071012|541292|828351                                1             0   \n",
       "1156222|542251|829832                                1             1   \n",
       "1089677|479341|735255                                1             1   \n",
       "759141|363501|566737                                 1             1   \n",
       "1068414|425956|660100                                1             1   \n",
       "831339|546066|836047                                 1             0   \n",
       "834063|417186|646721                                 1             1   \n",
       "990545|323544|511318                                 1             1   \n",
       "1144647|523920|803104                                1             0   \n",
       "1045755|441165|681992                                1             0   \n",
       "841551|415834|644607                                 1             0   \n",
       "1102417|470238|722008                                1             1   \n",
       "841583|393054|611843                                 1             0   \n",
       "339918|468523|719583                                 1             1   \n",
       "\n",
       "                       Release Offer  Assessment Decision - Qualified  \\\n",
       "556092|418746|649064               1                                0   \n",
       "1163793|555726|849921              1                                0   \n",
       "1079286|506989|777934              1                                0   \n",
       "883043|411872|667486               1                                0   \n",
       "836435|552668|845455               1                                1   \n",
       "1158188|545234|834728              1                                0   \n",
       "521428|372279|580506               1                                1   \n",
       "831209|419422|650060               1                                0   \n",
       "1104975|473209|726228              1                                0   \n",
       "1071012|541292|828351              1                                0   \n",
       "1156222|542251|829832              1                                0   \n",
       "1089677|479341|735255              1                                0   \n",
       "759141|363501|566737               1                                0   \n",
       "1068414|425956|660100              1                                0   \n",
       "831339|546066|836047               1                                1   \n",
       "834063|417186|646721               1                                0   \n",
       "990545|323544|511318               1                                0   \n",
       "1144647|523920|803104              1                                0   \n",
       "1045755|441165|681992              1                                0   \n",
       "841551|415834|644607               1                                0   \n",
       "1102417|470238|722008              1                                0   \n",
       "841583|393054|611843               1                                0   \n",
       "339918|468523|719583               1                                0   \n",
       "\n",
       "                       Assessment Decision - No Decision  \n",
       "556092|418746|649064                                   0  \n",
       "1163793|555726|849921                                  0  \n",
       "1079286|506989|777934                                  0  \n",
       "883043|411872|667486                                   0  \n",
       "836435|552668|845455                                   0  \n",
       "1158188|545234|834728                                  0  \n",
       "521428|372279|580506                                   0  \n",
       "831209|419422|650060                                   0  \n",
       "1104975|473209|726228                                  0  \n",
       "1071012|541292|828351                                  0  \n",
       "1156222|542251|829832                                  0  \n",
       "1089677|479341|735255                                  0  \n",
       "759141|363501|566737                                   0  \n",
       "1068414|425956|660100                                  0  \n",
       "831339|546066|836047                                   0  \n",
       "834063|417186|646721                                   0  \n",
       "990545|323544|511318                                   1  \n",
       "1144647|523920|803104                                  0  \n",
       "1045755|441165|681992                                  0  \n",
       "841551|415834|644607                                   0  \n",
       "1102417|470238|722008                                  0  \n",
       "841583|393054|611843                                   0  \n",
       "339918|468523|719583                                   0  "
      ]
     },
     "execution_count": 8,
     "metadata": {},
     "output_type": "execute_result"
    }
   ],
   "source": [
    "#change the value\n",
    "for key in ID_WRKFLW_dict.keys():\n",
    "    for process in ID_WRKFLW_dict[key]:\n",
    "            df.loc[key, process] = 1\n",
    "zero_one_table = df.fillna(0)\n",
    "zero_one_table"
   ]
  },
  {
   "cell_type": "code",
   "execution_count": 9,
   "metadata": {
    "pycharm": {
     "name": "#%%\n"
    }
   },
   "outputs": [
    {
     "name": "stdout",
     "output_type": "stream",
     "text": [
      "6\n",
      "5\n"
     ]
    }
   ],
   "source": [
    "# Import train_test_split function\n",
    "from sklearn.model_selection import train_test_split\n",
    "\n",
    "features= list(unique_WRKFLW_TSK_MAP_DETAILED_list)\n",
    "print(len(features))\n",
    "features.remove('Release Offer')\n",
    "print(len(features))\n",
    "\n",
    "X=zero_one_table[features]\n",
    "y=zero_one_table ['Release Offer'] # Labels\n",
    "# Split dataset into training set and test set\n",
    "X_train, X_test, y_train, y_test = train_test_split(X, y, random_state=0) # 70% training and 30% test"
   ]
  },
  {
   "cell_type": "code",
   "execution_count": 10,
   "metadata": {
    "pycharm": {
     "name": "#%%\n"
    }
   },
   "outputs": [],
   "source": [
    "from sklearn.tree import DecisionTreeClassifier\n",
    "clf = DecisionTreeClassifier(max_depth = 5,\n",
    "                             random_state = 0)\n",
    "clf.fit(X_train, y_train)\n",
    "clf_pred = clf.predict(X_test)"
   ]
  },
  {
   "cell_type": "code",
   "execution_count": 11,
   "metadata": {},
   "outputs": [],
   "source": [
    "from sklearn import metrics\n",
    "from sklearn.metrics import classification_report\n",
    "from sklearn.metrics import confusion_matrix"
   ]
  },
  {
   "cell_type": "code",
   "execution_count": 12,
   "metadata": {},
   "outputs": [
    {
     "name": "stdout",
     "output_type": "stream",
     "text": [
      "[[6]]\n",
      "              precision    recall  f1-score   support\n",
      "\n",
      "           1       1.00      1.00      1.00         6\n",
      "\n",
      "    accuracy                           1.00         6\n",
      "   macro avg       1.00      1.00      1.00         6\n",
      "weighted avg       1.00      1.00      1.00         6\n",
      "\n"
     ]
    }
   ],
   "source": [
    "print(confusion_matrix(y_test, clf_pred))\n",
    "print(classification_report(y_test, clf_pred))"
   ]
  },
  {
   "cell_type": "code",
   "execution_count": 13,
   "metadata": {
    "pycharm": {
     "name": "#%%\n"
    }
   },
   "outputs": [],
   "source": [
    "# DOT data\n",
    "from IPython.display import Image\n",
    "from sklearn import tree\n",
    "import pydotplus\n",
    "fn=features\n",
    "cn=['0', '1']\n",
    "# Create DOT data\n",
    "dot_data = tree.export_graphviz(clf, out_file=None,\n",
    "                                feature_names=fn,\n",
    "                                class_names=cn,filled = True)\n",
    "\n",
    "# Draw graph\n",
    "graph = pydotplus.graph_from_dot_data(dot_data)"
   ]
  },
  {
   "cell_type": "code",
   "execution_count": 14,
   "metadata": {
    "pycharm": {
     "name": "#%%\n"
    }
   },
   "outputs": [
    {
     "data": {
      "image/png": "[encoded data removed]",
      "text/plain": [
       "<IPython.core.display.Image object>"
      ]
     },
     "execution_count": 14,
     "metadata": {},
     "output_type": "execute_result"
    }
   ],
   "source": [
    "# Show graph\n",
    "Image(graph.create_png())"
   ]
  },
  {
   "cell_type": "code",
   "execution_count": 15,
   "metadata": {
    "pycharm": {
     "name": "#%%\n"
    }
   },
   "outputs": [
    {
     "data": {
      "text/plain": [
       "True"
      ]
     },
     "execution_count": 15,
     "metadata": {},
     "output_type": "execute_result"
    }
   ],
   "source": [
    "# Create PNG\n",
    "graph.write_png(\"engineering_AS_segment2_workflowS3_decisiontree.png\")\n",
    "\n",
    "\n",
    "\n",
    "\n"
   ]
  },
  {
   "cell_type": "code",
   "execution_count": 16,
   "metadata": {},
   "outputs": [
    {
     "data": {
      "text/plain": [
       "1    23\n",
       "Name: Release Offer, dtype: int64"
      ]
     },
     "execution_count": 16,
     "metadata": {},
     "output_type": "execute_result"
    }
   ],
   "source": [
    "zero_one_table['Release Offer'].value_counts()"
   ]
  },
  {
   "cell_type": "code",
   "execution_count": 17,
   "metadata": {
    "pycharm": {
     "name": "#%%\n"
    }
   },
   "outputs": [],
   "source": [
    "from sklearn.tree import DecisionTreeClassifier\n",
    "clf = DecisionTreeClassifier(max_depth = 5,\n",
    "                             random_state = 0)\n",
    "clf.fit(X_train, y_train)\n",
    "clf_pred = clf.predict(X_test)"
   ]
  },
  {
   "cell_type": "code",
   "execution_count": 18,
   "metadata": {},
   "outputs": [
    {
     "name": "stdout",
     "output_type": "stream",
     "text": [
      "[[6]]\n",
      "              precision    recall  f1-score   support\n",
      "\n",
      "           1       1.00      1.00      1.00         6\n",
      "\n",
      "    accuracy                           1.00         6\n",
      "   macro avg       1.00      1.00      1.00         6\n",
      "weighted avg       1.00      1.00      1.00         6\n",
      "\n"
     ]
    }
   ],
   "source": [
    "print(confusion_matrix(y_test, clf_pred))\n",
    "print(classification_report(y_test, clf_pred))"
   ]
  },
  {
   "cell_type": "code",
   "execution_count": 19,
   "metadata": {
    "pycharm": {
     "name": "#%%\n"
    }
   },
   "outputs": [],
   "source": [
    "# DOT data\n",
    "from IPython.display import Image\n",
    "from sklearn import tree\n",
    "import pydotplus\n",
    "fn=features\n",
    "cn=['0', '1']\n",
    "# Create DOT data\n",
    "dot_data = tree.export_graphviz(clf, out_file=None,\n",
    "                                feature_names=fn,\n",
    "                                class_names=cn,filled = True)\n",
    "\n",
    "# Draw graph\n",
    "graph = pydotplus.graph_from_dot_data(dot_data)"
   ]
  },
  {
   "cell_type": "code",
   "execution_count": 20,
   "metadata": {
    "pycharm": {
     "name": "#%%\n"
    }
   },
   "outputs": [
    {
     "data": {
      "image/png": "[encoded data removed]",
      "text/plain": [
       "<IPython.core.display.Image object>"
      ]
     },
     "execution_count": 20,
     "metadata": {},
     "output_type": "execute_result"
    }
   ],
   "source": [
    "# Show graph\n",
    "Image(graph.create_png())"
   ]
  },
  {
   "cell_type": "code",
   "execution_count": 21,
   "metadata": {
    "pycharm": {
     "name": "#%%\n"
    }
   },
   "outputs": [
    {
     "data": {
      "text/plain": [
       "True"
      ]
     },
     "execution_count": 21,
     "metadata": {},
     "output_type": "execute_result"
    }
   ],
   "source": [
    "# Create PNG\n",
    "graph.write_png(\"engineering_AS_segment2_workflowS3_decisiontree_downsampled.png\")\n",
    "\n",
    "\n",
    "\n",
    "\n"
   ]
  },
  {
   "cell_type": "code",
   "execution_count": null,
   "metadata": {},
   "outputs": [],
   "source": []
  }
 ],
 "metadata": {
  "kernelspec": {
   "display_name": "Python 3",
   "language": "python",
   "name": "python3"
  },
  "language_info": {
   "codemirror_mode": {
    "name": "ipython",
    "version": 3
   },
   "file_extension": ".py",
   "mimetype": "text/x-python",
   "name": "python",
   "nbconvert_exporter": "python",
   "pygments_lexer": "ipython3",
   "version": "3.8.3"
  }
 },
 "nbformat": 4,
 "nbformat_minor": 1
}
