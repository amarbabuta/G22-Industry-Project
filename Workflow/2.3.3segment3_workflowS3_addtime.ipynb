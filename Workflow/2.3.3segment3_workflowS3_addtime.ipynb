{
 "cells": [
  {
   "cell_type": "code",
   "execution_count": 21,
   "metadata": {
    "collapsed": true
   },
   "outputs": [],
   "source": [
    "import pandas as pd\n",
    "from datetime import datetime"
   ]
  },
  {
   "cell_type": "code",
   "execution_count": 22,
   "outputs": [],
   "source": [
    "df3_WS3 = pd.read_csv(\"/Users/asteriag/Desktop/DATASCIENCEPROJECT_WORKFLOW/pythonProject/segment3_workflowS3.csv\")\n"
   ],
   "metadata": {
    "collapsed": false,
    "pycharm": {
     "name": "#%%\n"
    }
   }
  },
  {
   "cell_type": "code",
   "execution_count": 23,
   "outputs": [
    {
     "data": {
      "text/plain": "                 CASE_ID               WRKFLW_TSK_MAP_GROUPED  \\\n0  1161800|550469|842233  Assessment Outcome - Not Successful   \n1  1022190|362029|564420      Assessment Outcome - Successful   \n\n               WRKFLW_TSK_MAP_DETAILED      PATH_CRDATETIME ITEM_CRUSER  \\\n0  Assessment Outcome - Not Successful  14/12/2019 14:24:13        KRIT   \n1      Assessment Outcome - Successful   18/7/2018 10:26:12  CHRISTINAA   \n\n  WRKFLW_ORG_TYPE_CRUSER  STATUS_ORDER LATEST_STATUS         WRKFLW_PROCESS  \\\n0                Faculty             1             Y  2. Perform Assessment   \n1                Faculty             9             N  2. Perform Assessment   \n\n                    QUERY_PART  ... ORIG_SPRD_CD       ORIG_SPRD_NM  \\\n0  Part 3 - Assessment Outcome  ...         STYI  Start Year Intake   \n1  Part 3 - Assessment Outcome  ...         STYI  Start Year Intake   \n\n   SPK_CAT_TYPE_CD  BROAD_COURSE_LEVEL   DEGREETYPE  \\\n0              MCW                HDCW  Full Degree   \n1              MCW                HDCW  Full Degree   \n\n  LIABILITY_CATEGORY_CD_RECODE ORIG_LIABILITY_CATEGORY_CD_RECODE  \\\n0                           AF                                AF   \n1                           AF                                AS   \n\n  OFFER_RELEASED_FG OFFER_OUTCOME_CD  OFFER_CONDITIONS  \n0               NaN              NaN                 N  \n1                 Y             $ACC                 Y  \n\n[2 rows x 56 columns]",
      "text/html": "<div>\n<style scoped>\n    .dataframe tbody tr th:only-of-type {\n        vertical-align: middle;\n    }\n\n    .dataframe tbody tr th {\n        vertical-align: top;\n    }\n\n    .dataframe thead th {\n        text-align: right;\n    }\n</style>\n<table border=\"1\" class=\"dataframe\">\n  <thead>\n    <tr style=\"text-align: right;\">\n      <th></th>\n      <th>CASE_ID</th>\n      <th>WRKFLW_TSK_MAP_GROUPED</th>\n      <th>WRKFLW_TSK_MAP_DETAILED</th>\n      <th>PATH_CRDATETIME</th>\n      <th>ITEM_CRUSER</th>\n      <th>WRKFLW_ORG_TYPE_CRUSER</th>\n      <th>STATUS_ORDER</th>\n      <th>LATEST_STATUS</th>\n      <th>WRKFLW_PROCESS</th>\n      <th>QUERY_PART</th>\n      <th>...</th>\n      <th>ORIG_SPRD_CD</th>\n      <th>ORIG_SPRD_NM</th>\n      <th>SPK_CAT_TYPE_CD</th>\n      <th>BROAD_COURSE_LEVEL</th>\n      <th>DEGREETYPE</th>\n      <th>LIABILITY_CATEGORY_CD_RECODE</th>\n      <th>ORIG_LIABILITY_CATEGORY_CD_RECODE</th>\n      <th>OFFER_RELEASED_FG</th>\n      <th>OFFER_OUTCOME_CD</th>\n      <th>OFFER_CONDITIONS</th>\n    </tr>\n  </thead>\n  <tbody>\n    <tr>\n      <th>0</th>\n      <td>1161800|550469|842233</td>\n      <td>Assessment Outcome - Not Successful</td>\n      <td>Assessment Outcome - Not Successful</td>\n      <td>14/12/2019 14:24:13</td>\n      <td>KRIT</td>\n      <td>Faculty</td>\n      <td>1</td>\n      <td>Y</td>\n      <td>2. Perform Assessment</td>\n      <td>Part 3 - Assessment Outcome</td>\n      <td>...</td>\n      <td>STYI</td>\n      <td>Start Year Intake</td>\n      <td>MCW</td>\n      <td>HDCW</td>\n      <td>Full Degree</td>\n      <td>AF</td>\n      <td>AF</td>\n      <td>NaN</td>\n      <td>NaN</td>\n      <td>N</td>\n    </tr>\n    <tr>\n      <th>1</th>\n      <td>1022190|362029|564420</td>\n      <td>Assessment Outcome - Successful</td>\n      <td>Assessment Outcome - Successful</td>\n      <td>18/7/2018 10:26:12</td>\n      <td>CHRISTINAA</td>\n      <td>Faculty</td>\n      <td>9</td>\n      <td>N</td>\n      <td>2. Perform Assessment</td>\n      <td>Part 3 - Assessment Outcome</td>\n      <td>...</td>\n      <td>STYI</td>\n      <td>Start Year Intake</td>\n      <td>MCW</td>\n      <td>HDCW</td>\n      <td>Full Degree</td>\n      <td>AF</td>\n      <td>AS</td>\n      <td>Y</td>\n      <td>$ACC</td>\n      <td>Y</td>\n    </tr>\n  </tbody>\n</table>\n<p>2 rows × 56 columns</p>\n</div>"
     },
     "execution_count": 23,
     "metadata": {},
     "output_type": "execute_result"
    }
   ],
   "source": [
    "df3_WS3.head(n=2)"
   ],
   "metadata": {
    "collapsed": false,
    "pycharm": {
     "name": "#%%\n"
    }
   }
  },
  {
   "cell_type": "code",
   "execution_count": 24,
   "outputs": [],
   "source": [
    "def strfdelta(tdelta, fmt):\n",
    "    d = {\"days\": tdelta.days}\n",
    "    d[\"hours\"], rem = divmod(tdelta.seconds, 3600)\n",
    "    d[\"minutes\"], d[\"seconds\"] = divmod(rem, 60)\n",
    "    return fmt.format(**d)\n",
    "def calculate_time_duration_str(str1,str2):\n",
    "    t1=datetime.strptime(str1,'%d/%m/%Y %H:%M:%S')\n",
    "    t2=datetime.strptime(str2,'%d/%m/%Y %H:%M:%S')\n",
    "    s=strfdelta(t1-t2,\"{days} days {hours} hours {minutes} minutes {seconds} seconds\")\n",
    "    return s\n",
    "def calculate_time_duration_second(str1,str2):\n",
    "    t1=datetime.strptime(str1,'%d/%m/%Y %H:%M:%S')\n",
    "    t2=datetime.strptime(str2,'%d/%m/%Y %H:%M:%S')\n",
    "    diff = t1-t2\n",
    "    return diff.total_seconds()"
   ],
   "metadata": {
    "collapsed": false,
    "pycharm": {
     "name": "#%%\n"
    }
   }
  },
  {
   "cell_type": "code",
   "execution_count": 25,
   "outputs": [],
   "source": [
    "for i in range(len(df3_WS3)-1):\n",
    "    id=df3_WS3.loc[i,'CASE_ID']\n",
    "    next_id=df3_WS3.loc[i+1,'CASE_ID']\n",
    "    if next_id == id:\n",
    "        df3_WS3.loc[i,'time_used_str']=calculate_time_duration_str(df3_WS3.loc[i+1,'PATH_CRDATETIME'],df3_WS3.loc[i,'PATH_CRDATETIME'])\n",
    "        df3_WS3.loc[i,'time_used_second']=calculate_time_duration_second(df3_WS3.loc[i+1,'PATH_CRDATETIME'],df3_WS3.loc[i,'PATH_CRDATETIME'])\n",
    "    elif next_id != id:\n",
    "        df3_WS3.loc[i,'time_used_str']= 'NA'\n",
    "        df3_WS3.loc[i,'time_used_second']= 0\n",
    "\n",
    "df3_WS3.loc[len(df3_WS3)-1,'time_used_str']= 'NA'\n",
    "df3_WS3.loc[len(df3_WS3)-1,'time_used_second']= 0\n",
    "\n",
    "df3_WS3.to_csv('segment3_WS3_has_duration.csv',index=False)\n",
    "\n",
    "\n",
    "\n",
    "\n",
    "\n",
    "\n"
   ],
   "metadata": {
    "collapsed": false,
    "pycharm": {
     "name": "#%%\n"
    }
   }
  }
 ],
 "metadata": {
  "kernelspec": {
   "name": "pycharm-78f37aff",
   "language": "python",
   "display_name": "PyCharm (pythonProject)"
  },
  "language_info": {
   "codemirror_mode": {
    "name": "ipython",
    "version": 2
   },
   "file_extension": ".py",
   "mimetype": "text/x-python",
   "name": "python",
   "nbconvert_exporter": "python",
   "pygments_lexer": "ipython2",
   "version": "2.7.6"
  }
 },
 "nbformat": 4,
 "nbformat_minor": 0
}