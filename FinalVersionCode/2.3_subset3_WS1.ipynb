{
 "cells": [
  {
   "cell_type": "code",
   "execution_count": null,
   "metadata": {
    "collapsed": true
   },
   "outputs": [],
   "source": [
    "import pandas as pd\n",
    "import csv\n",
    "import numpy as np\n",
    "from datetime import datetime"
   ]
  },
  {
   "cell_type": "code",
   "execution_count": null,
   "outputs": [],
   "source": [
    "df3 = pd.read_csv(\"/Users/asteriag/Desktop/DATASCIENCEPROJECT_WORKFLOW/TimeStamp_Engineering/engineering_AF_segment3.csv\",engine='python')"
   ],
   "metadata": {
    "collapsed": false,
    "pycharm": {
     "name": "#%%\n"
    }
   }
  },
  {
   "cell_type": "code",
   "execution_count": null,
   "outputs": [],
   "source": [
    "df3.head(n=10)\n"
   ],
   "metadata": {
    "collapsed": false,
    "pycharm": {
     "name": "#%%\n"
    }
   }
  },
  {
   "cell_type": "code",
   "execution_count": null,
   "outputs": [],
   "source": [
    "for i in range(len(df3)):\n",
    "    id=df3.loc[i,'CASE_ID']\n",
    "    status = df3.loc[i,\"WRKFLW_TSK_MAP_GROUPED\"]"
   ],
   "metadata": {
    "collapsed": false,
    "pycharm": {
     "name": "#%%\n"
    }
   }
  },
  {
   "cell_type": "code",
   "execution_count": null,
   "outputs": [],
   "source": [
    "ids = list(set(df3['CASE_ID'].values.tolist()))\n",
    "ids"
   ],
   "metadata": {
    "collapsed": false,
    "pycharm": {
     "name": "#%%\n"
    }
   }
  },
  {
   "cell_type": "code",
   "execution_count": null,
   "outputs": [],
   "source": [
    "S3S1 = pd.DataFrame()\n",
    "\n",
    "#traverse each id\n",
    "for id in ids:\n",
    "    flag = True\n",
    "    #.loc[::-1].reset_index(drop = True) Reverse row order and reset index which let the first status stay at the first row:\n",
    "    id_df = df3[df3['CASE_ID'] == id].loc[::-1].reset_index(drop = True)\n",
    "    #id_df= id_df.iloc[::-1]\n",
    "    sub_index,sendForAssessment_index,assessmentOutcomeNotS_index, assessmentOutcomeS_index, releaseOffer_index,acceptOrDefer_index = -1,-1,-1,-1,-1,-1\n",
    "    for index, row in id_df.iterrows():\n",
    "        #record the index of first 'Submit' status per person\n",
    "        if row['WRKFLW_TSK_MAP_GROUPED'] == 'Submit'and sub_index == -1:\n",
    "            sub_index = index\n",
    "        #record the index of first 'Send for Assessment' status per person\n",
    "        elif row['WRKFLW_TSK_MAP_GROUPED'] == 'Send for Assessment'and sendForAssessment_index == -1:\n",
    "            sendForAssessment_index = index\n",
    "        #record the index of first 'Assessment Outcome S' status per person\n",
    "        elif (row['WRKFLW_TSK_MAP_GROUPED'] == 'Assessment Outcome - Successful' and assessmentOutcomeS_index == -1):\n",
    "            assessmentOutcomeS_index = index\n",
    "        elif (row['WRKFLW_TSK_MAP_GROUPED'] == 'Assessment Outcome - Not Successful'and assessmentOutcomeNotS_index == -1):\n",
    "            assessmentOutcomeNotS_index = index\n",
    "        #record the index of first 'Release Offer' status per person\n",
    "        elif row['WRKFLW_TSK_MAP_GROUPED'] == 'Release Offer' and releaseOffer_index == -1:\n",
    "            releaseOffer_index = index\n",
    "        #record the index of first 'Accept/Defer' status per person\n",
    "        elif (row['WRKFLW_TSK_MAP_GROUPED'] == 'Accept' and acceptOrDefer_index == -1) or\\\n",
    "                (row['WRKFLW_TSK_MAP_GROUPED'] == 'Defer' and acceptOrDefer_index == -1):\n",
    "            acceptOrDefer_index = index\n",
    "    #save the person status between submit and sendforassessment into S1\n",
    "    if sub_index != -1 and sendForAssessment_index != -1 and assessmentOutcomeNotS_index == -1 and assessmentOutcomeS_index == -1\\\n",
    "        and releaseOffer_index == -1 and acceptOrDefer_index == -1:\n",
    "        df_seg1 = id_df[sub_index:sendForAssessment_index+1]\n",
    "        S3S1 = pd.concat([S3S1,df_seg1])\n",
    "        flag = False\n",
    "    #save the person status from submit and before sendforassessment into S1\n",
    "    elif sub_index != -1 and sendForAssessment_index == -1 and assessmentOutcomeS_index == -1 and assessmentOutcomeNotS_index == -1\\\n",
    "        and releaseOffer_index == -1 and acceptOrDefer_index == -1:\n",
    "        df_seg1 = id_df\n",
    "        S3S1 = pd.concat([S3S1,df_seg1])\n",
    "        flag = False\n",
    "\n"
   ],
   "metadata": {
    "collapsed": false,
    "pycharm": {
     "name": "#%%\n"
    }
   }
  }
 ],
 "metadata": {
  "kernelspec": {
   "display_name": "Python 3",
   "language": "python",
   "name": "python3"
  },
  "language_info": {
   "codemirror_mode": {
    "name": "ipython",
    "version": 2
   },
   "file_extension": ".py",
   "mimetype": "text/x-python",
   "name": "python",
   "nbconvert_exporter": "python",
   "pygments_lexer": "ipython2",
   "version": "2.7.6"
  }
 },
 "nbformat": 4,
 "nbformat_minor": 0
}