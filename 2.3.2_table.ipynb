{
 "cells": [
  {
   "cell_type": "code",
   "execution_count": 53,
   "metadata": {
    "collapsed": true
   },
   "outputs": [],
   "source": [
    "import pandas as pd\n",
    "import numpy\n",
    "from __future__ import division"
   ]
  },
  {
   "cell_type": "code",
   "execution_count": 54,
   "outputs": [],
   "source": [
    "df3_WS2T = pd.read_csv(\"/Users/asteriag/Desktop/DATASCIENCEPROJECT_WORKFLOW/TimeStamp_Engineering/engineering_AF_segment3_workflowS2_has_duration.csv\",engine='python')"
   ],
   "metadata": {
    "collapsed": false,
    "pycharm": {
     "name": "#%%\n"
    }
   }
  },
  {
   "cell_type": "code",
   "execution_count": 55,
   "outputs": [
    {
     "data": {
      "text/plain": "                 CASE_ID WRKFLW_TSK_MAP_GROUPED WRKFLW_TSK_MAP_DETAILED  \\\n0  1062988|418618|648837    Send for Assessment     Send for Assessment   \n\n       PATH_CRDATETIME ITEM_CRUSER WRKFLW_ORG_TYPE_CRUSER  STATUS_ORDER  \\\n0  14/11/2018 15:08:18     1062988                    NaN             4   \n\n  LATEST_STATUS        WRKFLW_PROCESS                        QUERY_PART  ...  \\\n0             N  1. App to Assessment  Part 1 - Application ID Workflow  ...   \n\n  SPK_CAT_TYPE_CD  BROAD_COURSE_LEVEL   DEGREETYPE  \\\n0             MCW                HDCW  Full Degree   \n\n   LIABILITY_CATEGORY_CD_RECODE  ORIG_LIABILITY_CATEGORY_CD_RECODE  \\\n0                            AF                                 AF   \n\n  OFFER_RELEASED_FG OFFER_OUTCOME_CD OFFER_CONDITIONS  \\\n0               NaN              NaN                N   \n\n                         time_used_str  time_used_second  \n0  0 days 0 hours 0 minutes 35 seconds              35.0  \n\n[1 rows x 58 columns]",
      "text/html": "<div>\n<style scoped>\n    .dataframe tbody tr th:only-of-type {\n        vertical-align: middle;\n    }\n\n    .dataframe tbody tr th {\n        vertical-align: top;\n    }\n\n    .dataframe thead th {\n        text-align: right;\n    }\n</style>\n<table border=\"1\" class=\"dataframe\">\n  <thead>\n    <tr style=\"text-align: right;\">\n      <th></th>\n      <th>CASE_ID</th>\n      <th>WRKFLW_TSK_MAP_GROUPED</th>\n      <th>WRKFLW_TSK_MAP_DETAILED</th>\n      <th>PATH_CRDATETIME</th>\n      <th>ITEM_CRUSER</th>\n      <th>WRKFLW_ORG_TYPE_CRUSER</th>\n      <th>STATUS_ORDER</th>\n      <th>LATEST_STATUS</th>\n      <th>WRKFLW_PROCESS</th>\n      <th>QUERY_PART</th>\n      <th>...</th>\n      <th>SPK_CAT_TYPE_CD</th>\n      <th>BROAD_COURSE_LEVEL</th>\n      <th>DEGREETYPE</th>\n      <th>LIABILITY_CATEGORY_CD_RECODE</th>\n      <th>ORIG_LIABILITY_CATEGORY_CD_RECODE</th>\n      <th>OFFER_RELEASED_FG</th>\n      <th>OFFER_OUTCOME_CD</th>\n      <th>OFFER_CONDITIONS</th>\n      <th>time_used_str</th>\n      <th>time_used_second</th>\n    </tr>\n  </thead>\n  <tbody>\n    <tr>\n      <th>0</th>\n      <td>1062988|418618|648837</td>\n      <td>Send for Assessment</td>\n      <td>Send for Assessment</td>\n      <td>14/11/2018 15:08:18</td>\n      <td>1062988</td>\n      <td>NaN</td>\n      <td>4</td>\n      <td>N</td>\n      <td>1. App to Assessment</td>\n      <td>Part 1 - Application ID Workflow</td>\n      <td>...</td>\n      <td>MCW</td>\n      <td>HDCW</td>\n      <td>Full Degree</td>\n      <td>AF</td>\n      <td>AF</td>\n      <td>NaN</td>\n      <td>NaN</td>\n      <td>N</td>\n      <td>0 days 0 hours 0 minutes 35 seconds</td>\n      <td>35.0</td>\n    </tr>\n  </tbody>\n</table>\n<p>1 rows × 58 columns</p>\n</div>"
     },
     "execution_count": 55,
     "metadata": {},
     "output_type": "execute_result"
    }
   ],
   "source": [
    "df3_WS2T.head(n=1)"
   ],
   "metadata": {
    "collapsed": false,
    "pycharm": {
     "name": "#%%\n"
    }
   }
  },
  {
   "cell_type": "code",
   "execution_count": 56,
   "outputs": [],
   "source": [
    "numOfWorkflowProcesses = df3_WS2T.groupby('CASE_ID').CASE_ID.count()\n",
    "\n",
    "count_dic=dict()\n",
    "for i,v in numOfWorkflowProcesses.items():\n",
    "    if count_dic.get(v) is None:\n",
    "        count_dic[v]=[]\n",
    "        count_dic[v].append(i)\n",
    "    else:\n",
    "        count_dic[v].append(i)\n",
    "#count_dic\n",
    "count_dic = dict(sorted(count_dic.items()))"
   ],
   "metadata": {
    "collapsed": false,
    "pycharm": {
     "name": "#%%\n"
    }
   }
  },
  {
   "cell_type": "code",
   "execution_count": 57,
   "outputs": [],
   "source": [
    "len_list=[]\n",
    "for key in count_dic.keys():\n",
    "    len_list.append(len(count_dic[key]))"
   ],
   "metadata": {
    "collapsed": false,
    "pycharm": {
     "name": "#%%\n"
    }
   }
  },
  {
   "cell_type": "code",
   "execution_count": 58,
   "outputs": [],
   "source": [
    "def strfdelta(tdelta, fmt):\n",
    "    d=dict()\n",
    "    d[\"days\"],rem1 = divmod(tdelta,60*60*24)\n",
    "    d[\"hours\"], rem2 = divmod(rem1, 3600)\n",
    "    d[\"minutes\"], d[\"seconds\"] = divmod(rem2, 60)\n",
    "    return fmt.format(**d)"
   ],
   "metadata": {
    "collapsed": false,
    "pycharm": {
     "name": "#%%\n"
    }
   }
  },
  {
   "cell_type": "code",
   "execution_count": 59,
   "outputs": [],
   "source": [
    "list_avgtime_per_key =[]\n",
    "for key in count_dic.keys():\n",
    "    id_list = count_dic[key]\n",
    "    list_sumtime_person = 0\n",
    "    for id in id_list:\n",
    "        df = df3_WS2T[df3_WS2T['CASE_ID']== id]\n",
    "        tsum = df['time_used_second'].sum()\n",
    "        list_sumtime_person+=tsum\n",
    "    list_avgtime_per_key.append(int((list_sumtime_person/len(count_dic[key]))))\n",
    "\n",
    "list_avgtime_per_key_str = []\n",
    "for i in list_avgtime_per_key:\n",
    "    list_avgtime_per_key_str.append(strfdelta(i,\"{days} days {hours} hours {minutes} minutes {seconds} seconds\"))"
   ],
   "metadata": {
    "collapsed": false,
    "pycharm": {
     "name": "#%%\n"
    }
   }
  },
  {
   "cell_type": "code",
   "execution_count": 60,
   "outputs": [],
   "source": [
    "list_mediantime_per_key = []\n",
    "for key in count_dic.keys():\n",
    "    id_list = count_dic[key]\n",
    "    list_sumtime_per_person = []\n",
    "    for id in id_list:\n",
    "        df = df3_WS2T[df3_WS2T['CASE_ID']== id]\n",
    "        tsum = df['time_used_second'].sum()\n",
    "        list_sumtime_per_person.append(tsum)\n",
    "    list_mediantime_per_key.append(numpy.median(list_sumtime_per_person))\n",
    "\n",
    "list_mediantime_per_key_str = []\n",
    "for i in list_mediantime_per_key:\n",
    "    list_mediantime_per_key_str.append(strfdelta(i,\"{days} days {hours} hours {minutes} minutes {seconds} seconds\"))"
   ],
   "metadata": {
    "collapsed": false,
    "pycharm": {
     "name": "#%%\n"
    }
   }
  },
  {
   "cell_type": "code",
   "execution_count": 61,
   "outputs": [],
   "source": [
    "list_percent_reach_end = []\n",
    "for key in count_dic.keys():\n",
    "    id_list = count_dic[key]\n",
    "    count_df_end_step = 0\n",
    "    count_df_id = 0\n",
    "    for id in id_list:\n",
    "        df_id = df3_WS2T[df3_WS2T['CASE_ID']== id]\n",
    "        df_end_step = df_id[df_id['WRKFLW_TSK_MAP_GROUPED'].isin(['Assessment Outcome - Successful','Assessment Outcome - Not Successful']) ]\n",
    "        count_df_id += df_id['CASE_ID'].nunique()\n",
    "        count_df_end_step += df_end_step['CASE_ID'].nunique()\n",
    "    list_percent_reach_end.append(str(round((count_df_end_step/count_df_id)*100,2))+ \"%\")"
   ],
   "metadata": {
    "collapsed": false,
    "pycharm": {
     "name": "#%%\n"
    }
   }
  },
  {
   "cell_type": "code",
   "execution_count": 62,
   "outputs": [],
   "source": [
    "list_step_per_key = []\n",
    "for key in count_dic.keys():\n",
    "    id_list = count_dic[key]\n",
    "    list_step = set()\n",
    "    for id in id_list:\n",
    "        df = df3_WS2T[df3_WS2T['CASE_ID']== id]\n",
    "        for index, row in df.iterrows():\n",
    "            list_step.add(row['WRKFLW_TSK_MAP_GROUPED'])\n",
    "    list_step_per_key.append(list_step)"
   ],
   "metadata": {
    "collapsed": false,
    "pycharm": {
     "name": "#%%\n"
    }
   }
  },
  {
   "cell_type": "code",
   "execution_count": 63,
   "outputs": [],
   "source": [
    "from collections import Counter\n",
    "import collections, functools, operator\n",
    "list_step_sum_time_per_key = []\n",
    "list_step_count_per_key = []\n",
    "list_step_ave_time_per_key = []\n",
    "for key in count_dic.keys():\n",
    "    id_list = count_dic[key]\n",
    "    list_step = []\n",
    "    step_time_list = []\n",
    "    for id in id_list:\n",
    "        df = df3_WS2T[df3_WS2T['CASE_ID']== id]\n",
    "        step_time = dict(zip(df.WRKFLW_TSK_MAP_GROUPED, df.time_used_second))\n",
    "        step_time_list.append(step_time)\n",
    "        for index, row in df.iterrows():\n",
    "            list_step.append(row['WRKFLW_TSK_MAP_GROUPED'])\n",
    "\n",
    "    step_sum_time = dict(functools.reduce(operator.add,\n",
    "         map(collections.Counter, step_time_list)))\n",
    "\n",
    "    dict_list_step=dict(Counter(list_step))\n",
    "\n",
    "    step_ave_time = {key: strfdelta(step_sum_time[key] // dict_list_step.get(key, 0),\"{days} days {hours} hours {minutes} minutes {seconds} seconds\")\n",
    "                        for key in step_sum_time.keys()}\n",
    "\n",
    "    sort_step_sum_time = sorted(step_sum_time.items(),key = lambda x: x[1], reverse = True)\n",
    "    list_step_sum_time_per_key.append(sort_step_sum_time)\n",
    "\n",
    "    sort_dict_list_step = sorted(dict_list_step.items(),key = lambda x: x[1], reverse = True)\n",
    "    list_step_count_per_key.append(sort_dict_list_step)\n",
    "\n",
    "    sort_step_ave_time = sorted(step_ave_time.items(),key = lambda x: x[1], reverse = True)\n",
    "    list_step_ave_time_per_key.append(sort_step_ave_time)"
   ],
   "metadata": {
    "collapsed": false,
    "pycharm": {
     "name": "#%%\n"
    }
   }
  },
  {
   "cell_type": "code",
   "execution_count": 64,
   "outputs": [
    {
     "data": {
      "text/plain": "   Number of Workflow processes in this Workflow Segment  Number of cases  \\\n0                                                  1                   46   \n1                                                  2                  133   \n2                                                  3                  145   \n3                                                  4                  118   \n4                                                  5                   67   \n5                                                  6                   34   \n6                                                  7                   22   \n7                                                  8                   18   \n8                                                  9                   17   \n9                                                 10                    7   \n\n        average time for workflow segment  \\\n0      0 days 0 hours 0 minutes 0 seconds   \n1  16 days 20 hours 26 minutes 30 seconds   \n2  26 days 16 hours 44 minutes 22 seconds   \n3   47 days 21 hours 26 minutes 8 seconds   \n4  39 days 13 hours 22 minutes 35 seconds   \n5  38 days 14 hours 19 minutes 54 seconds   \n6   61 days 4 hours 58 minutes 31 seconds   \n7   33 days 12 hours 8 minutes 45 seconds   \n8  38 days 18 hours 32 minutes 37 seconds   \n9   40 days 3 hours 29 minutes 45 seconds   \n\n                median time for workflow segment  \\\n0     0.0 days 0.0 hours 0.0 minutes 0.0 seconds   \n1    9.0 days 22.0 hours 5.0 minutes 1.0 seconds   \n2  12.0 days 1.0 hours 33.0 minutes 33.0 seconds   \n3  24.0 days 23.0 hours 55.0 minutes 7.0 seconds   \n4   28.0 days 2.0 hours 7.0 minutes 24.0 seconds   \n5   35.0 days 3.0 hours 9.0 minutes 20.0 seconds   \n6  22.0 days 2.0 hours 30.0 minutes 23.0 seconds   \n7   23.0 days 15.0 hours 2.0 minutes 9.0 seconds   \n8  34.0 days 20.0 hours 2.0 minutes 21.0 seconds   \n9   19.0 days 0.0 hours 35.0 minutes 4.0 seconds   \n\n  percentage of cases reaching to end of workflow segment  \\\n0                                               0.0%        \n1                                             32.33%        \n2                                             69.66%        \n3                                             69.49%        \n4                                             74.63%        \n5                                             79.41%        \n6                                             68.18%        \n7                                             83.33%        \n8                                             94.12%        \n9                                             85.71%        \n\n                                                step  \\\n0                              {Send for Assessment}   \n1  {Assessment Outcome - Successful, AR - Satisfi...   \n2  {AR - Satisfied - previous or current study, R...   \n3  {AR - Satisfied - previous or current study, A...   \n4  {Send Referral, AR - Satisfied - previous or c...   \n5  {Send Referral, AR - Satisfied - previous or c...   \n6  {Send Referral, AR - Satisfied - previous or c...   \n7  {AR - Satisfied - further information, AR - Sa...   \n8  {AR - Satisfied - further information, AR - Sa...   \n9  {Assessment Outcome - Successful, AR - Satisfi...   \n\n             Num of Occurrences per step(descending)  \\\n0                        [(Send for Assessment, 46)]   \n1  [(Send for Assessment, 133), (Assessment Outco...   \n2  [(Send for Assessment, 146), (Assessment Outco...   \n3  [(Send for Assessment, 118), (Assessment Decis...   \n4  [(Send for Assessment, 67), (Assessment Decisi...   \n5  [(Assessment Decision - Qualified, 40), (Send ...   \n6  [(Assessment Decision - Qualified, 25), (Send ...   \n7  [(Assessment Decision - Qualified, 21), (Send ...   \n8  [(Assessment Decision - Qualified, 30), (Send ...   \n9  [(Assessment Decision - No Decision, 14), (Ass...   \n\n            Average time spends per step(descending)  \n0                                                 []  \n1  [(Send for Assessment, 16.0 days 20.0 hours 26...  \n2  [(End My Assessment, 9.0 days 4.0 hours 12.0 m...  \n3  [(Acacdemic - Assessment Decision - Not Qualif...  \n4  [(Send for Assessment, 9.0 days 13.0 hours 34....  \n5  [(AR - Created - Other, 8.0 days 9.0 hours 28....  \n6  [(Put Assessment On-Hold, 7.0 days 8.0 hours 5...  \n7  [(Put Triage On-Hold, 8.0 days 4.0 hours 48.0 ...  \n8  [(Release Assessment Hold, 7.0 days 13.0 hours...  \n9  [(AR - Satisfied - ELR, 3.0 days 6.0 hours 7.0...  ",
      "text/html": "<div>\n<style scoped>\n    .dataframe tbody tr th:only-of-type {\n        vertical-align: middle;\n    }\n\n    .dataframe tbody tr th {\n        vertical-align: top;\n    }\n\n    .dataframe thead th {\n        text-align: right;\n    }\n</style>\n<table border=\"1\" class=\"dataframe\">\n  <thead>\n    <tr style=\"text-align: right;\">\n      <th></th>\n      <th>Number of Workflow processes in this Workflow Segment</th>\n      <th>Number of cases</th>\n      <th>average time for workflow segment</th>\n      <th>median time for workflow segment</th>\n      <th>percentage of cases reaching to end of workflow segment</th>\n      <th>step</th>\n      <th>Num of Occurrences per step(descending)</th>\n      <th>Average time spends per step(descending)</th>\n    </tr>\n  </thead>\n  <tbody>\n    <tr>\n      <th>0</th>\n      <td>1</td>\n      <td>46</td>\n      <td>0 days 0 hours 0 minutes 0 seconds</td>\n      <td>0.0 days 0.0 hours 0.0 minutes 0.0 seconds</td>\n      <td>0.0%</td>\n      <td>{Send for Assessment}</td>\n      <td>[(Send for Assessment, 46)]</td>\n      <td>[]</td>\n    </tr>\n    <tr>\n      <th>1</th>\n      <td>2</td>\n      <td>133</td>\n      <td>16 days 20 hours 26 minutes 30 seconds</td>\n      <td>9.0 days 22.0 hours 5.0 minutes 1.0 seconds</td>\n      <td>32.33%</td>\n      <td>{Assessment Outcome - Successful, AR - Satisfi...</td>\n      <td>[(Send for Assessment, 133), (Assessment Outco...</td>\n      <td>[(Send for Assessment, 16.0 days 20.0 hours 26...</td>\n    </tr>\n    <tr>\n      <th>2</th>\n      <td>3</td>\n      <td>145</td>\n      <td>26 days 16 hours 44 minutes 22 seconds</td>\n      <td>12.0 days 1.0 hours 33.0 minutes 33.0 seconds</td>\n      <td>69.66%</td>\n      <td>{AR - Satisfied - previous or current study, R...</td>\n      <td>[(Send for Assessment, 146), (Assessment Outco...</td>\n      <td>[(End My Assessment, 9.0 days 4.0 hours 12.0 m...</td>\n    </tr>\n    <tr>\n      <th>3</th>\n      <td>4</td>\n      <td>118</td>\n      <td>47 days 21 hours 26 minutes 8 seconds</td>\n      <td>24.0 days 23.0 hours 55.0 minutes 7.0 seconds</td>\n      <td>69.49%</td>\n      <td>{AR - Satisfied - previous or current study, A...</td>\n      <td>[(Send for Assessment, 118), (Assessment Decis...</td>\n      <td>[(Acacdemic - Assessment Decision - Not Qualif...</td>\n    </tr>\n    <tr>\n      <th>4</th>\n      <td>5</td>\n      <td>67</td>\n      <td>39 days 13 hours 22 minutes 35 seconds</td>\n      <td>28.0 days 2.0 hours 7.0 minutes 24.0 seconds</td>\n      <td>74.63%</td>\n      <td>{Send Referral, AR - Satisfied - previous or c...</td>\n      <td>[(Send for Assessment, 67), (Assessment Decisi...</td>\n      <td>[(Send for Assessment, 9.0 days 13.0 hours 34....</td>\n    </tr>\n    <tr>\n      <th>5</th>\n      <td>6</td>\n      <td>34</td>\n      <td>38 days 14 hours 19 minutes 54 seconds</td>\n      <td>35.0 days 3.0 hours 9.0 minutes 20.0 seconds</td>\n      <td>79.41%</td>\n      <td>{Send Referral, AR - Satisfied - previous or c...</td>\n      <td>[(Assessment Decision - Qualified, 40), (Send ...</td>\n      <td>[(AR - Created - Other, 8.0 days 9.0 hours 28....</td>\n    </tr>\n    <tr>\n      <th>6</th>\n      <td>7</td>\n      <td>22</td>\n      <td>61 days 4 hours 58 minutes 31 seconds</td>\n      <td>22.0 days 2.0 hours 30.0 minutes 23.0 seconds</td>\n      <td>68.18%</td>\n      <td>{Send Referral, AR - Satisfied - previous or c...</td>\n      <td>[(Assessment Decision - Qualified, 25), (Send ...</td>\n      <td>[(Put Assessment On-Hold, 7.0 days 8.0 hours 5...</td>\n    </tr>\n    <tr>\n      <th>7</th>\n      <td>8</td>\n      <td>18</td>\n      <td>33 days 12 hours 8 minutes 45 seconds</td>\n      <td>23.0 days 15.0 hours 2.0 minutes 9.0 seconds</td>\n      <td>83.33%</td>\n      <td>{AR - Satisfied - further information, AR - Sa...</td>\n      <td>[(Assessment Decision - Qualified, 21), (Send ...</td>\n      <td>[(Put Triage On-Hold, 8.0 days 4.0 hours 48.0 ...</td>\n    </tr>\n    <tr>\n      <th>8</th>\n      <td>9</td>\n      <td>17</td>\n      <td>38 days 18 hours 32 minutes 37 seconds</td>\n      <td>34.0 days 20.0 hours 2.0 minutes 21.0 seconds</td>\n      <td>94.12%</td>\n      <td>{AR - Satisfied - further information, AR - Sa...</td>\n      <td>[(Assessment Decision - Qualified, 30), (Send ...</td>\n      <td>[(Release Assessment Hold, 7.0 days 13.0 hours...</td>\n    </tr>\n    <tr>\n      <th>9</th>\n      <td>10</td>\n      <td>7</td>\n      <td>40 days 3 hours 29 minutes 45 seconds</td>\n      <td>19.0 days 0.0 hours 35.0 minutes 4.0 seconds</td>\n      <td>85.71%</td>\n      <td>{Assessment Outcome - Successful, AR - Satisfi...</td>\n      <td>[(Assessment Decision - No Decision, 14), (Ass...</td>\n      <td>[(AR - Satisfied - ELR, 3.0 days 6.0 hours 7.0...</td>\n    </tr>\n  </tbody>\n</table>\n</div>"
     },
     "execution_count": 64,
     "metadata": {},
     "output_type": "execute_result"
    }
   ],
   "source": [
    "s3_t2=pd.DataFrame({'Number of Workflow processes in this Workflow Segment':count_dic.keys(),'Number of cases':len_list, 'average time for workflow segment':list_avgtime_per_key_str,'median time for workflow segment':list_mediantime_per_key_str,'percentage of cases reaching to end of workflow segment':list_percent_reach_end,'step':list_step_per_key})\n",
    "s3_t2['Num of Occurrences per step(descending)'] = list_step_count_per_key\n",
    "s3_t2['Average time spends per step(descending)'] = list_step_ave_time_per_key\n",
    "s3_t2.head(n=10)\n"
   ],
   "metadata": {
    "collapsed": false,
    "pycharm": {
     "name": "#%%\n"
    }
   }
  },
  {
   "cell_type": "code",
   "execution_count": 65,
   "outputs": [],
   "source": [
    "s3_t2.to_csv('engineering_AF_segment3_workflowS2_table.csv', index=False)\n",
    "\n",
    "\n",
    "\n"
   ],
   "metadata": {
    "collapsed": false,
    "pycharm": {
     "name": "#%%\n"
    }
   }
  }
 ],
 "metadata": {
  "kernelspec": {
   "name": "pycharm-3f427a6c",
   "language": "python",
   "display_name": "PyCharm (pythonProject)"
  },
  "language_info": {
   "codemirror_mode": {
    "name": "ipython",
    "version": 2
   },
   "file_extension": ".py",
   "mimetype": "text/x-python",
   "name": "python",
   "nbconvert_exporter": "python",
   "pygments_lexer": "ipython2",
   "version": "2.7.6"
  }
 },
 "nbformat": 4,
 "nbformat_minor": 0
}