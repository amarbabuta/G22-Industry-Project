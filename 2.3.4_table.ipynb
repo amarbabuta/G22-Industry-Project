{
 "cells": [
  {
   "cell_type": "code",
   "execution_count": 66,
   "metadata": {
    "collapsed": true
   },
   "outputs": [],
   "source": [
    "import pandas as pd\n",
    "import numpy\n",
    "from __future__ import division"
   ]
  },
  {
   "cell_type": "code",
   "execution_count": 67,
   "outputs": [],
   "source": [
    "df3_WS4T = pd.read_csv(\"/Users/asteriag/Desktop/DATASCIENCEPROJECT_WORKFLOW/TimeStamp_Engineering/engineering_AF_segment3_workflowS4_has_duration.csv\",engine='python')"
   ],
   "metadata": {
    "collapsed": false,
    "pycharm": {
     "name": "#%%\n"
    }
   }
  },
  {
   "cell_type": "code",
   "execution_count": 68,
   "outputs": [
    {
     "data": {
      "text/plain": "               CASE_ID WRKFLW_TSK_MAP_GROUPED WRKFLW_TSK_MAP_DETAILED  \\\n0  70289|574074|874352          Release Offer           Release Offer   \n\n      PATH_CRDATETIME ITEM_CRUSER WRKFLW_ORG_TYPE_CRUSER  STATUS_ORDER  \\\n0  24/1/2020 16:08:02    CORDELLE      Academic Services             4   \n\n  LATEST_STATUS   WRKFLW_PROCESS                             QUERY_PART  ...  \\\n0             N  3b. Offer stage  Part 2 - Application Line ID Workflow  ...   \n\n   SPK_CAT_TYPE_CD  BROAD_COURSE_LEVEL   DEGREETYPE  \\\n0              MCW                HDCW  Full Degree   \n\n   LIABILITY_CATEGORY_CD_RECODE  ORIG_LIABILITY_CATEGORY_CD_RECODE  \\\n0                            AF                                 AF   \n\n  OFFER_RELEASED_FG OFFER_OUTCOME_CD OFFER_CONDITIONS  \\\n0                 Y             $ACC                N   \n\n                          time_used_str  time_used_second  \n0  3 days 4 hours 43 minutes 40 seconds          276220.0  \n\n[1 rows x 58 columns]",
      "text/html": "<div>\n<style scoped>\n    .dataframe tbody tr th:only-of-type {\n        vertical-align: middle;\n    }\n\n    .dataframe tbody tr th {\n        vertical-align: top;\n    }\n\n    .dataframe thead th {\n        text-align: right;\n    }\n</style>\n<table border=\"1\" class=\"dataframe\">\n  <thead>\n    <tr style=\"text-align: right;\">\n      <th></th>\n      <th>CASE_ID</th>\n      <th>WRKFLW_TSK_MAP_GROUPED</th>\n      <th>WRKFLW_TSK_MAP_DETAILED</th>\n      <th>PATH_CRDATETIME</th>\n      <th>ITEM_CRUSER</th>\n      <th>WRKFLW_ORG_TYPE_CRUSER</th>\n      <th>STATUS_ORDER</th>\n      <th>LATEST_STATUS</th>\n      <th>WRKFLW_PROCESS</th>\n      <th>QUERY_PART</th>\n      <th>...</th>\n      <th>SPK_CAT_TYPE_CD</th>\n      <th>BROAD_COURSE_LEVEL</th>\n      <th>DEGREETYPE</th>\n      <th>LIABILITY_CATEGORY_CD_RECODE</th>\n      <th>ORIG_LIABILITY_CATEGORY_CD_RECODE</th>\n      <th>OFFER_RELEASED_FG</th>\n      <th>OFFER_OUTCOME_CD</th>\n      <th>OFFER_CONDITIONS</th>\n      <th>time_used_str</th>\n      <th>time_used_second</th>\n    </tr>\n  </thead>\n  <tbody>\n    <tr>\n      <th>0</th>\n      <td>70289|574074|874352</td>\n      <td>Release Offer</td>\n      <td>Release Offer</td>\n      <td>24/1/2020 16:08:02</td>\n      <td>CORDELLE</td>\n      <td>Academic Services</td>\n      <td>4</td>\n      <td>N</td>\n      <td>3b. Offer stage</td>\n      <td>Part 2 - Application Line ID Workflow</td>\n      <td>...</td>\n      <td>MCW</td>\n      <td>HDCW</td>\n      <td>Full Degree</td>\n      <td>AF</td>\n      <td>AF</td>\n      <td>Y</td>\n      <td>$ACC</td>\n      <td>N</td>\n      <td>3 days 4 hours 43 minutes 40 seconds</td>\n      <td>276220.0</td>\n    </tr>\n  </tbody>\n</table>\n<p>1 rows × 58 columns</p>\n</div>"
     },
     "execution_count": 68,
     "metadata": {},
     "output_type": "execute_result"
    }
   ],
   "source": [
    "df3_WS4T.head(n=1)"
   ],
   "metadata": {
    "collapsed": false,
    "pycharm": {
     "name": "#%%\n"
    }
   }
  },
  {
   "cell_type": "code",
   "execution_count": 69,
   "outputs": [],
   "source": [
    "numOfWorkflowProcesses = df3_WS4T.groupby('CASE_ID').CASE_ID.count()\n",
    "\n",
    "count_dic=dict()\n",
    "for i,v in numOfWorkflowProcesses.items():\n",
    "    if count_dic.get(v) is None:\n",
    "        count_dic[v]=[]\n",
    "        count_dic[v].append(i)\n",
    "    else:\n",
    "        count_dic[v].append(i)\n",
    "#count_dic\n",
    "count_dic = dict(sorted(count_dic.items()))"
   ],
   "metadata": {
    "collapsed": false,
    "pycharm": {
     "name": "#%%\n"
    }
   }
  },
  {
   "cell_type": "code",
   "execution_count": 70,
   "outputs": [],
   "source": [
    "len_list=[]\n",
    "for key in count_dic.keys():\n",
    "    len_list.append(len(count_dic[key]))"
   ],
   "metadata": {
    "collapsed": false,
    "pycharm": {
     "name": "#%%\n"
    }
   }
  },
  {
   "cell_type": "code",
   "execution_count": 71,
   "outputs": [],
   "source": [
    "def strfdelta(tdelta, fmt):\n",
    "    d=dict()\n",
    "    d[\"days\"],rem1 = divmod(tdelta,60*60*24)\n",
    "    d[\"hours\"], rem2 = divmod(rem1, 3600)\n",
    "    d[\"minutes\"], d[\"seconds\"] = divmod(rem2, 60)\n",
    "    return fmt.format(**d)"
   ],
   "metadata": {
    "collapsed": false,
    "pycharm": {
     "name": "#%%\n"
    }
   }
  },
  {
   "cell_type": "code",
   "execution_count": 72,
   "outputs": [],
   "source": [
    "list_avgtime_per_key =[]\n",
    "for key in count_dic.keys():\n",
    "    id_list = count_dic[key]\n",
    "    list_sumtime_person = 0\n",
    "    for id in id_list:\n",
    "        df = df3_WS4T[df3_WS4T['CASE_ID']== id]\n",
    "        tsum = df['time_used_second'].sum()\n",
    "        list_sumtime_person+=tsum\n",
    "    list_avgtime_per_key.append(int((list_sumtime_person/len(count_dic[key]))))\n",
    "\n",
    "list_avgtime_per_key_str = []\n",
    "for i in list_avgtime_per_key:\n",
    "    list_avgtime_per_key_str.append(strfdelta(i,\"{days} days {hours} hours {minutes} minutes {seconds} seconds\"))"
   ],
   "metadata": {
    "collapsed": false,
    "pycharm": {
     "name": "#%%\n"
    }
   }
  },
  {
   "cell_type": "code",
   "execution_count": 73,
   "outputs": [],
   "source": [
    "list_mediantime_per_key = []\n",
    "for key in count_dic.keys():\n",
    "    id_list = count_dic[key]\n",
    "    list_sumtime_per_person = []\n",
    "    for id in id_list:\n",
    "        df = df3_WS4T[df3_WS4T['CASE_ID']== id]\n",
    "        tsum = df['time_used_second'].sum()\n",
    "        list_sumtime_per_person.append(tsum)\n",
    "    list_mediantime_per_key.append(numpy.median(list_sumtime_per_person))\n",
    "\n",
    "list_mediantime_per_key_str = []\n",
    "for i in list_mediantime_per_key:\n",
    "    list_mediantime_per_key_str.append(strfdelta(i,\"{days} days {hours} hours {minutes} minutes {seconds} seconds\"))"
   ],
   "metadata": {
    "collapsed": false,
    "pycharm": {
     "name": "#%%\n"
    }
   }
  },
  {
   "cell_type": "code",
   "execution_count": 74,
   "outputs": [],
   "source": [
    "list_percent_reach_end = []\n",
    "for key in count_dic.keys():\n",
    "    id_list = count_dic[key]\n",
    "    count_df_end_step = 0\n",
    "    count_df_id = 0\n",
    "    for id in id_list:\n",
    "        df_id = df3_WS4T[df3_WS4T['CASE_ID']== id]\n",
    "        df_end_step = df_id[df_id['WRKFLW_TSK_MAP_GROUPED'].isin(['Accept','Defer'])]\n",
    "        count_df_id += df_id['CASE_ID'].nunique()\n",
    "        count_df_end_step += df_end_step['CASE_ID'].nunique()\n",
    "    list_percent_reach_end.append(str(round((count_df_end_step/count_df_id)*100,2))+ \"%\")\n"
   ],
   "metadata": {
    "collapsed": false,
    "pycharm": {
     "name": "#%%\n"
    }
   }
  },
  {
   "cell_type": "code",
   "execution_count": 75,
   "outputs": [],
   "source": [
    "list_step_per_key = []\n",
    "for key in count_dic.keys():\n",
    "    id_list = count_dic[key]\n",
    "    list_step = set()\n",
    "    for id in id_list:\n",
    "        df = df3_WS4T[df3_WS4T['CASE_ID']== id]\n",
    "        for index, row in df.iterrows():\n",
    "            list_step.add(row['WRKFLW_TSK_MAP_GROUPED'])\n",
    "    list_step_per_key.append(list_step)"
   ],
   "metadata": {
    "collapsed": false,
    "pycharm": {
     "name": "#%%\n"
    }
   }
  },
  {
   "cell_type": "code",
   "execution_count": 76,
   "outputs": [],
   "source": [
    "from collections import Counter\n",
    "import collections, functools, operator\n",
    "list_step_sum_time_per_key = []\n",
    "list_step_count_per_key = []\n",
    "list_step_ave_time_per_key = []\n",
    "for key in count_dic.keys():\n",
    "    id_list = count_dic[key]\n",
    "    list_step = []\n",
    "    step_time_list = []\n",
    "    for id in id_list:\n",
    "        df = df3_WS4T[df3_WS4T['CASE_ID']== id]\n",
    "        step_time = dict(zip(df.WRKFLW_TSK_MAP_GROUPED, df.time_used_second))\n",
    "        step_time_list.append(step_time)\n",
    "        for index, row in df.iterrows():\n",
    "            list_step.append(row['WRKFLW_TSK_MAP_GROUPED'])\n",
    "\n",
    "    step_sum_time = dict(functools.reduce(operator.add,\n",
    "         map(collections.Counter, step_time_list)))\n",
    "\n",
    "    dict_list_step=dict(Counter(list_step))\n",
    "\n",
    "    step_ave_time = {key: strfdelta(step_sum_time[key] // dict_list_step.get(key, 0),\"{days} days {hours} hours {minutes} minutes {seconds} seconds\")\n",
    "                        for key in step_sum_time.keys()}\n",
    "\n",
    "    sort_step_sum_time = sorted(step_sum_time.items(),key = lambda x: x[1], reverse = True)\n",
    "    list_step_sum_time_per_key.append(sort_step_sum_time)\n",
    "\n",
    "    sort_dict_list_step = sorted(dict_list_step.items(),key = lambda x: x[1], reverse = True)\n",
    "    list_step_count_per_key.append(sort_dict_list_step)\n",
    "\n",
    "    sort_step_ave_time = sorted(step_ave_time.items(),key = lambda x: x[1], reverse = True)\n",
    "    list_step_ave_time_per_key.append(sort_step_ave_time)"
   ],
   "metadata": {
    "collapsed": false,
    "pycharm": {
     "name": "#%%\n"
    }
   }
  },
  {
   "cell_type": "code",
   "execution_count": 77,
   "outputs": [
    {
     "data": {
      "text/plain": "   Number of Workflow processes in this Workflow Segment  Number of cases  \\\n0                                                  1                    1   \n1                                                  2                    8   \n2                                                  3                    2   \n\n        average time for workflow segment  \\\n0      0 days 0 hours 0 minutes 0 seconds   \n1  28 days 19 hours 41 minutes 19 seconds   \n2  64 days 21 hours 56 minutes 37 seconds   \n\n                 median time for workflow segment  \\\n0      0.0 days 0.0 hours 0.0 minutes 0.0 seconds   \n1    3.0 days 1.0 hours 43.0 minutes 19.5 seconds   \n2  64.0 days 21.0 hours 56.0 minutes 37.5 seconds   \n\n  percentage of cases reaching to end of workflow segment  \\\n0                                               0.0%        \n1                                              87.5%        \n2                                             100.0%        \n\n                                                step  \\\n0                                    {Release Offer}   \n1            {Defer, Decline, Accept, Release Offer}   \n2  {Assessment Decision - Qualified, Manage Accep...   \n\n             Num of Occurrences per step(descending)  \\\n0                               [(Release Offer, 1)]   \n1  [(Release Offer, 8), (Accept, 5), (Defer, 2), ...   \n2  [(Release Offer, 2), (Accept, 2), (Assessment ...   \n\n            Average time spends per step(descending)  \n0  [(Release Offer, 0.0 days 0.0 hours 0.0 minute...  \n1  [(Release Offer, 28.0 days 19.0 hours 41.0 min...  \n2  [(Assessment Decision - Qualified, 126.0 days ...  ",
      "text/html": "<div>\n<style scoped>\n    .dataframe tbody tr th:only-of-type {\n        vertical-align: middle;\n    }\n\n    .dataframe tbody tr th {\n        vertical-align: top;\n    }\n\n    .dataframe thead th {\n        text-align: right;\n    }\n</style>\n<table border=\"1\" class=\"dataframe\">\n  <thead>\n    <tr style=\"text-align: right;\">\n      <th></th>\n      <th>Number of Workflow processes in this Workflow Segment</th>\n      <th>Number of cases</th>\n      <th>average time for workflow segment</th>\n      <th>median time for workflow segment</th>\n      <th>percentage of cases reaching to end of workflow segment</th>\n      <th>step</th>\n      <th>Num of Occurrences per step(descending)</th>\n      <th>Average time spends per step(descending)</th>\n    </tr>\n  </thead>\n  <tbody>\n    <tr>\n      <th>0</th>\n      <td>1</td>\n      <td>1</td>\n      <td>0 days 0 hours 0 minutes 0 seconds</td>\n      <td>0.0 days 0.0 hours 0.0 minutes 0.0 seconds</td>\n      <td>0.0%</td>\n      <td>{Release Offer}</td>\n      <td>[(Release Offer, 1)]</td>\n      <td>[(Release Offer, 0.0 days 0.0 hours 0.0 minute...</td>\n    </tr>\n    <tr>\n      <th>1</th>\n      <td>2</td>\n      <td>8</td>\n      <td>28 days 19 hours 41 minutes 19 seconds</td>\n      <td>3.0 days 1.0 hours 43.0 minutes 19.5 seconds</td>\n      <td>87.5%</td>\n      <td>{Defer, Decline, Accept, Release Offer}</td>\n      <td>[(Release Offer, 8), (Accept, 5), (Defer, 2), ...</td>\n      <td>[(Release Offer, 28.0 days 19.0 hours 41.0 min...</td>\n    </tr>\n    <tr>\n      <th>2</th>\n      <td>3</td>\n      <td>2</td>\n      <td>64 days 21 hours 56 minutes 37 seconds</td>\n      <td>64.0 days 21.0 hours 56.0 minutes 37.5 seconds</td>\n      <td>100.0%</td>\n      <td>{Assessment Decision - Qualified, Manage Accep...</td>\n      <td>[(Release Offer, 2), (Accept, 2), (Assessment ...</td>\n      <td>[(Assessment Decision - Qualified, 126.0 days ...</td>\n    </tr>\n  </tbody>\n</table>\n</div>"
     },
     "execution_count": 77,
     "metadata": {},
     "output_type": "execute_result"
    }
   ],
   "source": [
    "s3_t4=pd.DataFrame({'Number of Workflow processes in this Workflow Segment':count_dic.keys(),'Number of cases':len_list, 'average time for workflow segment':list_avgtime_per_key_str,'median time for workflow segment':list_mediantime_per_key_str,'percentage of cases reaching to end of workflow segment':list_percent_reach_end,'step':list_step_per_key})\n",
    "s3_t4['Num of Occurrences per step(descending)'] = list_step_count_per_key\n",
    "s3_t4['Average time spends per step(descending)'] = list_step_ave_time_per_key\n",
    "s3_t4.head(n=10)\n"
   ],
   "metadata": {
    "collapsed": false,
    "pycharm": {
     "name": "#%%\n"
    }
   }
  },
  {
   "cell_type": "code",
   "execution_count": 78,
   "outputs": [],
   "source": [
    "s3_t4.to_csv('engineering_AF_segment3_workflowS4_table.csv', index=False)\n",
    "\n",
    "\n"
   ],
   "metadata": {
    "collapsed": false,
    "pycharm": {
     "name": "#%%\n"
    }
   }
  }
 ],
 "metadata": {
  "kernelspec": {
   "name": "pycharm-3f427a6c",
   "language": "python",
   "display_name": "PyCharm (pythonProject)"
  },
  "language_info": {
   "codemirror_mode": {
    "name": "ipython",
    "version": 2
   },
   "file_extension": ".py",
   "mimetype": "text/x-python",
   "name": "python",
   "nbconvert_exporter": "python",
   "pygments_lexer": "ipython2",
   "version": "2.7.6"
  }
 },
 "nbformat": 4,
 "nbformat_minor": 0
}