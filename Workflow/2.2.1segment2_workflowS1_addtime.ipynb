{
 "cells": [
  {
   "cell_type": "code",
   "execution_count": 16,
   "metadata": {
    "collapsed": true
   },
   "outputs": [],
   "source": [
    "import pandas as pd\n",
    "from datetime import datetime"
   ]
  },
  {
   "cell_type": "code",
   "execution_count": 17,
   "outputs": [],
   "source": [
    "df2_WS1 = pd.read_csv(\"/Users/asteriag/Desktop/DATASCIENCEPROJECT_WORKFLOW/pythonProject/segment2_workflowS1.csv\")"
   ],
   "metadata": {
    "collapsed": false,
    "pycharm": {
     "name": "#%%\n"
    }
   }
  },
  {
   "cell_type": "code",
   "execution_count": 18,
   "outputs": [
    {
     "data": {
      "text/plain": "                CASE_ID                    WRKFLW_TSK_MAP_GROUPED  \\\n0  914197|528561|809459                                    Submit   \n1  914197|528561|809459  AR - Created - previous or current study   \n\n                             WRKFLW_TSK_MAP_DETAILED      PATH_CRDATETIME  \\\n0                                             Submit  27/10/2019 21:11:07   \n1  AR - Created - University of Melbourne Stateme...   29/10/2019 7:41:11   \n\n      ITEM_CRUSER WRKFLW_ORG_TYPE_CRUSER  STATUS_ORDER LATEST_STATUS  \\\n0          914197                    NaN            16             N   \n1  9760US_CIA_RPA      Academic Services            15             N   \n\n         WRKFLW_PROCESS                        QUERY_PART  ... ORIG_SPRD_CD  \\\n0  1. App to Assessment  Part 1 - Application ID Workflow  ...         STYI   \n1  1. App to Assessment       Part 5 - Requirement Create  ...         STYI   \n\n        ORIG_SPRD_NM  SPK_CAT_TYPE_CD  BROAD_COURSE_LEVEL   DEGREETYPE  \\\n0  Start Year Intake              MCW                HDCW  Full Degree   \n1  Start Year Intake              MCW                HDCW  Full Degree   \n\n  LIABILITY_CATEGORY_CD_RECODE ORIG_LIABILITY_CATEGORY_CD_RECODE  \\\n0                           AS                                AS   \n1                           AS                                AS   \n\n  OFFER_RELEASED_FG OFFER_OUTCOME_CD  OFFER_CONDITIONS  \n0                 Y             $DEC                 N  \n1                 Y             $DEC                 N  \n\n[2 rows x 56 columns]",
      "text/html": "<div>\n<style scoped>\n    .dataframe tbody tr th:only-of-type {\n        vertical-align: middle;\n    }\n\n    .dataframe tbody tr th {\n        vertical-align: top;\n    }\n\n    .dataframe thead th {\n        text-align: right;\n    }\n</style>\n<table border=\"1\" class=\"dataframe\">\n  <thead>\n    <tr style=\"text-align: right;\">\n      <th></th>\n      <th>CASE_ID</th>\n      <th>WRKFLW_TSK_MAP_GROUPED</th>\n      <th>WRKFLW_TSK_MAP_DETAILED</th>\n      <th>PATH_CRDATETIME</th>\n      <th>ITEM_CRUSER</th>\n      <th>WRKFLW_ORG_TYPE_CRUSER</th>\n      <th>STATUS_ORDER</th>\n      <th>LATEST_STATUS</th>\n      <th>WRKFLW_PROCESS</th>\n      <th>QUERY_PART</th>\n      <th>...</th>\n      <th>ORIG_SPRD_CD</th>\n      <th>ORIG_SPRD_NM</th>\n      <th>SPK_CAT_TYPE_CD</th>\n      <th>BROAD_COURSE_LEVEL</th>\n      <th>DEGREETYPE</th>\n      <th>LIABILITY_CATEGORY_CD_RECODE</th>\n      <th>ORIG_LIABILITY_CATEGORY_CD_RECODE</th>\n      <th>OFFER_RELEASED_FG</th>\n      <th>OFFER_OUTCOME_CD</th>\n      <th>OFFER_CONDITIONS</th>\n    </tr>\n  </thead>\n  <tbody>\n    <tr>\n      <th>0</th>\n      <td>914197|528561|809459</td>\n      <td>Submit</td>\n      <td>Submit</td>\n      <td>27/10/2019 21:11:07</td>\n      <td>914197</td>\n      <td>NaN</td>\n      <td>16</td>\n      <td>N</td>\n      <td>1. App to Assessment</td>\n      <td>Part 1 - Application ID Workflow</td>\n      <td>...</td>\n      <td>STYI</td>\n      <td>Start Year Intake</td>\n      <td>MCW</td>\n      <td>HDCW</td>\n      <td>Full Degree</td>\n      <td>AS</td>\n      <td>AS</td>\n      <td>Y</td>\n      <td>$DEC</td>\n      <td>N</td>\n    </tr>\n    <tr>\n      <th>1</th>\n      <td>914197|528561|809459</td>\n      <td>AR - Created - previous or current study</td>\n      <td>AR - Created - University of Melbourne Stateme...</td>\n      <td>29/10/2019 7:41:11</td>\n      <td>9760US_CIA_RPA</td>\n      <td>Academic Services</td>\n      <td>15</td>\n      <td>N</td>\n      <td>1. App to Assessment</td>\n      <td>Part 5 - Requirement Create</td>\n      <td>...</td>\n      <td>STYI</td>\n      <td>Start Year Intake</td>\n      <td>MCW</td>\n      <td>HDCW</td>\n      <td>Full Degree</td>\n      <td>AS</td>\n      <td>AS</td>\n      <td>Y</td>\n      <td>$DEC</td>\n      <td>N</td>\n    </tr>\n  </tbody>\n</table>\n<p>2 rows × 56 columns</p>\n</div>"
     },
     "execution_count": 18,
     "metadata": {},
     "output_type": "execute_result"
    }
   ],
   "source": [
    "df2_WS1.head(n=2)"
   ],
   "metadata": {
    "collapsed": false,
    "pycharm": {
     "name": "#%%\n"
    }
   }
  },
  {
   "cell_type": "code",
   "execution_count": 19,
   "outputs": [],
   "source": [
    "def strfdelta(tdelta, fmt):\n",
    "    d = {\"days\": tdelta.days}\n",
    "    d[\"hours\"], rem = divmod(tdelta.seconds, 3600)\n",
    "    d[\"minutes\"], d[\"seconds\"] = divmod(rem, 60)\n",
    "    return fmt.format(**d)\n",
    "def calculate_time_duration_str(str1,str2):\n",
    "    t1=datetime.strptime(str1,'%d/%m/%Y %H:%M:%S')\n",
    "    t2=datetime.strptime(str2,'%d/%m/%Y %H:%M:%S')\n",
    "    s=strfdelta(t1-t2,\"{days} days {hours} hours {minutes} minutes {seconds} seconds\")\n",
    "    return s\n",
    "def calculate_time_duration_second(str1,str2):\n",
    "    t1=datetime.strptime(str1,'%d/%m/%Y %H:%M:%S')\n",
    "    t2=datetime.strptime(str2,'%d/%m/%Y %H:%M:%S')\n",
    "    diff = t1-t2\n",
    "    return diff.total_seconds()\n"
   ],
   "metadata": {
    "collapsed": false,
    "pycharm": {
     "name": "#%%\n"
    }
   }
  },
  {
   "cell_type": "code",
   "execution_count": 20,
   "outputs": [],
   "source": [
    "for i in range(len(df2_WS1)-1):\n",
    "    id=df2_WS1.loc[i,'CASE_ID']\n",
    "    next_id=df2_WS1.loc[i+1,'CASE_ID']\n",
    "    if next_id == id:\n",
    "        df2_WS1.loc[i,'time_used_str']=calculate_time_duration_str(df2_WS1.loc[i+1,'PATH_CRDATETIME'],df2_WS1.loc[i,'PATH_CRDATETIME'])\n",
    "        df2_WS1.loc[i,'time_used_second']=calculate_time_duration_second(df2_WS1.loc[i+1,'PATH_CRDATETIME'],df2_WS1.loc[i,'PATH_CRDATETIME'])\n",
    "    elif next_id != id:\n",
    "        df2_WS1.loc[i,'time_used_str']= 'NA'\n",
    "        df2_WS1.loc[i,'time_used_second']= 0\n",
    "\n",
    "df2_WS1.loc[len(df2_WS1)-1,'time_used_str']= 'NA'\n",
    "df2_WS1.loc[len(df2_WS1)-1,'time_used_second']= 0\n",
    "df2_WS1.to_csv('segment2_WS1_has_duration.csv',index=False)\n",
    "\n",
    "\n",
    "\n",
    "\n",
    "\n",
    "\n"
   ],
   "metadata": {
    "collapsed": false,
    "pycharm": {
     "name": "#%%\n"
    }
   }
  }
 ],
 "metadata": {
  "kernelspec": {
   "name": "pycharm-78f37aff",
   "language": "python",
   "display_name": "PyCharm (pythonProject)"
  },
  "language_info": {
   "codemirror_mode": {
    "name": "ipython",
    "version": 2
   },
   "file_extension": ".py",
   "mimetype": "text/x-python",
   "name": "python",
   "nbconvert_exporter": "python",
   "pygments_lexer": "ipython2",
   "version": "2.7.6"
  }
 },
 "nbformat": 4,
 "nbformat_minor": 0
}