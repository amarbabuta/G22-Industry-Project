{
 "cells": [
  {
   "cell_type": "code",
   "execution_count": 21,
   "outputs": [],
   "source": [
    "import pandas as pd\n",
    "from datetime import datetime"
   ],
   "metadata": {
    "collapsed": false,
    "pycharm": {
     "name": "#%%\n"
    }
   }
  },
  {
   "cell_type": "code",
   "execution_count": 22,
   "outputs": [],
   "source": [
    "df3_WS4 = pd.read_csv(\"/Users/asteriag/Desktop/DATASCIENCEPROJECT_WORKFLOW/TimeStamp_Engineering/engineering_AF_segment3_workflowS4.csv\",engine='python')\n"
   ],
   "metadata": {
    "collapsed": false,
    "pycharm": {
     "name": "#%%\n"
    }
   }
  },
  {
   "cell_type": "code",
   "execution_count": 23,
   "outputs": [
    {
     "data": {
      "text/plain": "               CASE_ID WRKFLW_TSK_MAP_GROUPED WRKFLW_TSK_MAP_DETAILED  \\\n0  70289|574074|874352          Release Offer           Release Offer   \n1  70289|574074|874352                 Accept                  Accept   \n\n      PATH_CRDATETIME ITEM_CRUSER WRKFLW_ORG_TYPE_CRUSER  STATUS_ORDER  \\\n0  24/1/2020 16:08:02    CORDELLE      Academic Services             4   \n1  27/1/2020 20:51:42    CORDELLE      Academic Services             3   \n\n  LATEST_STATUS   WRKFLW_PROCESS                             QUERY_PART  ...  \\\n0             N  3b. Offer stage  Part 2 - Application Line ID Workflow  ...   \n1             N    4. Post offer  Part 2 - Application Line ID Workflow  ...   \n\n   ORIG_SPRD_CD                   ORIG_SPRD_NM  SPK_CAT_TYPE_CD  \\\n0          TM1I  Term 1 Intake (Wholly Online)              MCW   \n1          TM1I  Term 1 Intake (Wholly Online)              MCW   \n\n   BROAD_COURSE_LEVEL   DEGREETYPE LIABILITY_CATEGORY_CD_RECODE  \\\n0                HDCW  Full Degree                           AF   \n1                HDCW  Full Degree                           AF   \n\n  ORIG_LIABILITY_CATEGORY_CD_RECODE OFFER_RELEASED_FG OFFER_OUTCOME_CD  \\\n0                                AF                 Y             $ACC   \n1                                AF                 Y             $ACC   \n\n   OFFER_CONDITIONS  \n0                 N  \n1                 N  \n\n[2 rows x 56 columns]",
      "text/html": "<div>\n<style scoped>\n    .dataframe tbody tr th:only-of-type {\n        vertical-align: middle;\n    }\n\n    .dataframe tbody tr th {\n        vertical-align: top;\n    }\n\n    .dataframe thead th {\n        text-align: right;\n    }\n</style>\n<table border=\"1\" class=\"dataframe\">\n  <thead>\n    <tr style=\"text-align: right;\">\n      <th></th>\n      <th>CASE_ID</th>\n      <th>WRKFLW_TSK_MAP_GROUPED</th>\n      <th>WRKFLW_TSK_MAP_DETAILED</th>\n      <th>PATH_CRDATETIME</th>\n      <th>ITEM_CRUSER</th>\n      <th>WRKFLW_ORG_TYPE_CRUSER</th>\n      <th>STATUS_ORDER</th>\n      <th>LATEST_STATUS</th>\n      <th>WRKFLW_PROCESS</th>\n      <th>QUERY_PART</th>\n      <th>...</th>\n      <th>ORIG_SPRD_CD</th>\n      <th>ORIG_SPRD_NM</th>\n      <th>SPK_CAT_TYPE_CD</th>\n      <th>BROAD_COURSE_LEVEL</th>\n      <th>DEGREETYPE</th>\n      <th>LIABILITY_CATEGORY_CD_RECODE</th>\n      <th>ORIG_LIABILITY_CATEGORY_CD_RECODE</th>\n      <th>OFFER_RELEASED_FG</th>\n      <th>OFFER_OUTCOME_CD</th>\n      <th>OFFER_CONDITIONS</th>\n    </tr>\n  </thead>\n  <tbody>\n    <tr>\n      <th>0</th>\n      <td>70289|574074|874352</td>\n      <td>Release Offer</td>\n      <td>Release Offer</td>\n      <td>24/1/2020 16:08:02</td>\n      <td>CORDELLE</td>\n      <td>Academic Services</td>\n      <td>4</td>\n      <td>N</td>\n      <td>3b. Offer stage</td>\n      <td>Part 2 - Application Line ID Workflow</td>\n      <td>...</td>\n      <td>TM1I</td>\n      <td>Term 1 Intake (Wholly Online)</td>\n      <td>MCW</td>\n      <td>HDCW</td>\n      <td>Full Degree</td>\n      <td>AF</td>\n      <td>AF</td>\n      <td>Y</td>\n      <td>$ACC</td>\n      <td>N</td>\n    </tr>\n    <tr>\n      <th>1</th>\n      <td>70289|574074|874352</td>\n      <td>Accept</td>\n      <td>Accept</td>\n      <td>27/1/2020 20:51:42</td>\n      <td>CORDELLE</td>\n      <td>Academic Services</td>\n      <td>3</td>\n      <td>N</td>\n      <td>4. Post offer</td>\n      <td>Part 2 - Application Line ID Workflow</td>\n      <td>...</td>\n      <td>TM1I</td>\n      <td>Term 1 Intake (Wholly Online)</td>\n      <td>MCW</td>\n      <td>HDCW</td>\n      <td>Full Degree</td>\n      <td>AF</td>\n      <td>AF</td>\n      <td>Y</td>\n      <td>$ACC</td>\n      <td>N</td>\n    </tr>\n  </tbody>\n</table>\n<p>2 rows × 56 columns</p>\n</div>"
     },
     "execution_count": 23,
     "metadata": {},
     "output_type": "execute_result"
    }
   ],
   "source": [
    "df3_WS4.head(n=2)"
   ],
   "metadata": {
    "collapsed": false,
    "pycharm": {
     "name": "#%%\n"
    }
   }
  },
  {
   "cell_type": "code",
   "execution_count": 24,
   "outputs": [],
   "source": [
    "def strfdelta(tdelta, fmt):\n",
    "    d = {\"days\": tdelta.days}\n",
    "    d[\"hours\"], rem = divmod(tdelta.seconds, 3600)\n",
    "    d[\"minutes\"], d[\"seconds\"] = divmod(rem, 60)\n",
    "    return fmt.format(**d)\n",
    "def calculate_time_duration_str(str1,str2):\n",
    "    t1=datetime.strptime(str1,'%d/%m/%Y %H:%M:%S')\n",
    "    t2=datetime.strptime(str2,'%d/%m/%Y %H:%M:%S')\n",
    "    s=strfdelta(t1-t2,\"{days} days {hours} hours {minutes} minutes {seconds} seconds\")\n",
    "    return s\n",
    "def calculate_time_duration_second(str1,str2):\n",
    "    t1=datetime.strptime(str1,'%d/%m/%Y %H:%M:%S')\n",
    "    t2=datetime.strptime(str2,'%d/%m/%Y %H:%M:%S')\n",
    "    diff = t1-t2\n",
    "    return diff.total_seconds()\n"
   ],
   "metadata": {
    "collapsed": false,
    "pycharm": {
     "name": "#%%\n"
    }
   }
  },
  {
   "cell_type": "code",
   "execution_count": 25,
   "outputs": [],
   "source": [
    "for i in range(len(df3_WS4)-1):\n",
    "    id=df3_WS4.loc[i,'CASE_ID']\n",
    "    next_id=df3_WS4.loc[i+1,'CASE_ID']\n",
    "    if next_id == id:\n",
    "        df3_WS4.loc[i,'time_used_str']=calculate_time_duration_str(df3_WS4.loc[i+1,'PATH_CRDATETIME'],df3_WS4.loc[i,'PATH_CRDATETIME'])\n",
    "        df3_WS4.loc[i,'time_used_second']=calculate_time_duration_second(df3_WS4.loc[i+1,'PATH_CRDATETIME'],df3_WS4.loc[i,'PATH_CRDATETIME'])\n",
    "    elif next_id != id:\n",
    "        df3_WS4.loc[i,'time_used_str']= 'NA'\n",
    "        df3_WS4.loc[i,'time_used_second']= 0\n",
    "\n",
    "df3_WS4.loc[len(df3_WS4)-1,'time_used_str']= 'NA'\n",
    "df3_WS4.loc[len(df3_WS4)-1,'time_used_second']= 0\n",
    "\n",
    "df3_WS4.to_csv('engineering_AF_segment3_workflowS4_has_duration.csv',index=False)\n",
    "\n",
    "\n",
    "\n"
   ],
   "metadata": {
    "collapsed": false,
    "pycharm": {
     "name": "#%%\n"
    }
   }
  }
 ],
 "metadata": {
  "kernelspec": {
   "name": "pycharm-3f427a6c",
   "language": "python",
   "display_name": "PyCharm (pythonProject)"
  },
  "language_info": {
   "codemirror_mode": {
    "name": "ipython",
    "version": 2
   },
   "file_extension": ".py",
   "mimetype": "text/x-python",
   "name": "python",
   "nbconvert_exporter": "python",
   "pygments_lexer": "ipython2",
   "version": "2.7.6"
  }
 },
 "nbformat": 4,
 "nbformat_minor": 0
}