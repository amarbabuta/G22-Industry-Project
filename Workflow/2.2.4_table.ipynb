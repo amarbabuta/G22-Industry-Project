{
 "cells": [
  {
   "cell_type": "code",
   "execution_count": 1,
   "metadata": {
    "collapsed": true
   },
   "outputs": [],
   "source": [
    "import pandas as pd\n",
    "import numpy\n",
    "from __future__ import division"
   ]
  },
  {
   "cell_type": "code",
   "execution_count": 2,
   "outputs": [],
   "source": [
    "df2_WS4T = pd.read_csv(\"/Users/asteriag/Desktop/DATASCIENCEPROJECT_WORKFLOW/pythonProject/segment2_WS4_has_duration.csv\")"
   ],
   "metadata": {
    "collapsed": false,
    "pycharm": {
     "name": "#%%\n"
    }
   }
  },
  {
   "cell_type": "code",
   "execution_count": 3,
   "outputs": [
    {
     "data": {
      "text/plain": "                CASE_ID WRKFLW_TSK_MAP_GROUPED WRKFLW_TSK_MAP_DETAILED  \\\n0  914197|528561|809459          Release Offer           Release Offer   \n\n       PATH_CRDATETIME   ITEM_CRUSER WRKFLW_ORG_TYPE_CRUSER  STATUS_ORDER  \\\n0  25/11/2019 11:36:51  ETONGSMURRAY                Faculty             3   \n\n  LATEST_STATUS   WRKFLW_PROCESS                             QUERY_PART  ...  \\\n0             N  3b. Offer stage  Part 2 - Application Line ID Workflow  ...   \n\n  SPK_CAT_TYPE_CD  BROAD_COURSE_LEVEL   DEGREETYPE  \\\n0             MCW                HDCW  Full Degree   \n\n   LIABILITY_CATEGORY_CD_RECODE  ORIG_LIABILITY_CATEGORY_CD_RECODE  \\\n0                            AS                                 AS   \n\n  OFFER_RELEASED_FG OFFER_OUTCOME_CD OFFER_CONDITIONS  \\\n0                 Y             $DEC                N   \n\n                           time_used_str  time_used_second  \n0  14 days 1 hours 45 minutes 37 seconds         1215937.0  \n\n[1 rows x 58 columns]",
      "text/html": "<div>\n<style scoped>\n    .dataframe tbody tr th:only-of-type {\n        vertical-align: middle;\n    }\n\n    .dataframe tbody tr th {\n        vertical-align: top;\n    }\n\n    .dataframe thead th {\n        text-align: right;\n    }\n</style>\n<table border=\"1\" class=\"dataframe\">\n  <thead>\n    <tr style=\"text-align: right;\">\n      <th></th>\n      <th>CASE_ID</th>\n      <th>WRKFLW_TSK_MAP_GROUPED</th>\n      <th>WRKFLW_TSK_MAP_DETAILED</th>\n      <th>PATH_CRDATETIME</th>\n      <th>ITEM_CRUSER</th>\n      <th>WRKFLW_ORG_TYPE_CRUSER</th>\n      <th>STATUS_ORDER</th>\n      <th>LATEST_STATUS</th>\n      <th>WRKFLW_PROCESS</th>\n      <th>QUERY_PART</th>\n      <th>...</th>\n      <th>SPK_CAT_TYPE_CD</th>\n      <th>BROAD_COURSE_LEVEL</th>\n      <th>DEGREETYPE</th>\n      <th>LIABILITY_CATEGORY_CD_RECODE</th>\n      <th>ORIG_LIABILITY_CATEGORY_CD_RECODE</th>\n      <th>OFFER_RELEASED_FG</th>\n      <th>OFFER_OUTCOME_CD</th>\n      <th>OFFER_CONDITIONS</th>\n      <th>time_used_str</th>\n      <th>time_used_second</th>\n    </tr>\n  </thead>\n  <tbody>\n    <tr>\n      <th>0</th>\n      <td>914197|528561|809459</td>\n      <td>Release Offer</td>\n      <td>Release Offer</td>\n      <td>25/11/2019 11:36:51</td>\n      <td>ETONGSMURRAY</td>\n      <td>Faculty</td>\n      <td>3</td>\n      <td>N</td>\n      <td>3b. Offer stage</td>\n      <td>Part 2 - Application Line ID Workflow</td>\n      <td>...</td>\n      <td>MCW</td>\n      <td>HDCW</td>\n      <td>Full Degree</td>\n      <td>AS</td>\n      <td>AS</td>\n      <td>Y</td>\n      <td>$DEC</td>\n      <td>N</td>\n      <td>14 days 1 hours 45 minutes 37 seconds</td>\n      <td>1215937.0</td>\n    </tr>\n  </tbody>\n</table>\n<p>1 rows × 58 columns</p>\n</div>"
     },
     "execution_count": 3,
     "metadata": {},
     "output_type": "execute_result"
    }
   ],
   "source": [
    "df2_WS4T.head(n=1)"
   ],
   "metadata": {
    "collapsed": false,
    "pycharm": {
     "name": "#%%\n"
    }
   }
  },
  {
   "cell_type": "code",
   "execution_count": 4,
   "outputs": [],
   "source": [
    "numOfWorkflowProcesses = df2_WS4T.groupby('CASE_ID').CASE_ID.count()\n",
    "\n",
    "count_dic=dict()\n",
    "for i,v in numOfWorkflowProcesses.items():\n",
    "    if count_dic.get(v) is None:\n",
    "        count_dic[v]=[]\n",
    "        count_dic[v].append(i)\n",
    "    else:\n",
    "        count_dic[v].append(i)\n",
    "#count_dic\n"
   ],
   "metadata": {
    "collapsed": false,
    "pycharm": {
     "name": "#%%\n"
    }
   }
  },
  {
   "cell_type": "code",
   "execution_count": 5,
   "outputs": [],
   "source": [
    "len_list=[]\n",
    "for key in count_dic.keys():\n",
    "    len_list.append(len(count_dic[key]))"
   ],
   "metadata": {
    "collapsed": false,
    "pycharm": {
     "name": "#%%\n"
    }
   }
  },
  {
   "cell_type": "code",
   "execution_count": 6,
   "outputs": [],
   "source": [
    "def strfdelta(tdelta, fmt):\n",
    "    d=dict()\n",
    "    d[\"days\"],rem1 = divmod(tdelta,60*60*24)\n",
    "    d[\"hours\"], rem2 = divmod(rem1, 3600)\n",
    "    d[\"minutes\"], d[\"seconds\"] = divmod(rem2, 60)\n",
    "    return fmt.format(**d)"
   ],
   "metadata": {
    "collapsed": false,
    "pycharm": {
     "name": "#%%\n"
    }
   }
  },
  {
   "cell_type": "code",
   "execution_count": 7,
   "outputs": [],
   "source": [
    "list_avgtime_per_key =[]\n",
    "for key in count_dic.keys():\n",
    "    id_list = count_dic[key]\n",
    "    list_sumtime_person = 0\n",
    "    for id in id_list:\n",
    "        df = df2_WS4T[df2_WS4T['CASE_ID']== id]\n",
    "        tsum = df['time_used_second'].sum()\n",
    "        list_sumtime_person+=tsum\n",
    "    list_avgtime_per_key.append(int((list_sumtime_person/len(count_dic[key]))))\n",
    "\n",
    "list_avgtime_per_key_str = []\n",
    "for i in list_avgtime_per_key:\n",
    "    list_avgtime_per_key_str.append(strfdelta(i,\"{days} days {hours} hours {minutes} minutes {seconds} seconds\"))"
   ],
   "metadata": {
    "collapsed": false,
    "pycharm": {
     "name": "#%%\n"
    }
   }
  },
  {
   "cell_type": "code",
   "execution_count": 8,
   "outputs": [],
   "source": [
    "list_mediantime_per_key = []\n",
    "for key in count_dic.keys():\n",
    "    id_list = count_dic[key]\n",
    "    list_sumtime_per_person = []\n",
    "    for id in id_list:\n",
    "        df = df2_WS4T[df2_WS4T['CASE_ID']== id]\n",
    "        tsum = df['time_used_second'].sum()\n",
    "        list_sumtime_per_person.append(tsum)\n",
    "    list_mediantime_per_key.append(numpy.median(list_sumtime_per_person))\n",
    "\n",
    "list_mediantime_per_key_str = []\n",
    "for i in list_mediantime_per_key:\n",
    "    list_mediantime_per_key_str.append(strfdelta(i,\"{days} days {hours} hours {minutes} minutes {seconds} seconds\"))"
   ],
   "metadata": {
    "collapsed": false,
    "pycharm": {
     "name": "#%%\n"
    }
   }
  },
  {
   "cell_type": "code",
   "execution_count": 9,
   "outputs": [],
   "source": [
    "list_percent_reach_end = []\n",
    "for key in count_dic.keys():\n",
    "    id_list = count_dic[key]\n",
    "    count_df_end_step = 0\n",
    "    count_df_id = 0\n",
    "    for id in id_list:\n",
    "        df_id = df2_WS4T[df2_WS4T['CASE_ID']== id]\n",
    "        df_end_step = df_id[df_id['WRKFLW_TSK_MAP_GROUPED'].isin(['Accept','Defer'])]\n",
    "        count_df_id += df_id['CASE_ID'].count()\n",
    "        count_df_end_step += df_end_step['CASE_ID'].count()\n",
    "    list_percent_reach_end.append(str(round((count_df_end_step/count_df_id)*100,2))+ \"%\")"
   ],
   "metadata": {
    "collapsed": false,
    "pycharm": {
     "name": "#%%\n"
    }
   }
  },
  {
   "cell_type": "code",
   "execution_count": 10,
   "outputs": [
    {
     "data": {
      "text/plain": "   Number of Workflow processes in this Workflow Segment  Number of cases  \\\n0                                                  1                  131   \n1                                                  2                  611   \n2                                                  3                  307   \n3                                                  4                   57   \n4                                                  5                   14   \n5                                                  6                    6   \n6                                                  7                    2   \n7                                                  8                    1   \n8                                                 11                    1   \n\n        average time for workflow segment  \\\n0      0 days 0 hours 0 minutes 0 seconds   \n1    31 days 8 hours 4 minutes 12 seconds   \n2  63 days 13 hours 35 minutes 51 seconds   \n3     57 days 5 hours 1 minutes 7 seconds   \n4  75 days 10 hours 12 minutes 26 seconds   \n5   36 days 18 hours 2 minutes 35 seconds   \n6   108 days 9 hours 26 minutes 9 seconds   \n7    77 days 0 hours 46 minutes 4 seconds   \n8   38 days 2 hours 31 minutes 19 seconds   \n\n                 median time for workflow segment  \\\n0      0.0 days 0.0 hours 0.0 minutes 0.0 seconds   \n1   15.0 days 0.0 hours 39.0 minutes 38.0 seconds   \n2    49.0 days 14.0 hours 3.0 minutes 4.0 seconds   \n3   45.0 days 4.0 hours 19.0 minutes 20.0 seconds   \n4  46.0 days 20.0 hours 47.0 minutes 21.0 seconds   \n5  24.0 days 16.0 hours 41.0 minutes 58.5 seconds   \n6   108.0 days 9.0 hours 26.0 minutes 9.0 seconds   \n7    77.0 days 0.0 hours 46.0 minutes 4.0 seconds   \n8   38.0 days 2.0 hours 31.0 minutes 19.0 seconds   \n\n  percentage of cases reaching to end of workflow segment  \n0                                               0.0%       \n1                                             45.01%       \n2                                             30.51%       \n3                                             21.93%       \n4                                             15.71%       \n5                                             13.89%       \n6                                             14.29%       \n7                                               0.0%       \n8                                              9.09%       ",
      "text/html": "<div>\n<style scoped>\n    .dataframe tbody tr th:only-of-type {\n        vertical-align: middle;\n    }\n\n    .dataframe tbody tr th {\n        vertical-align: top;\n    }\n\n    .dataframe thead th {\n        text-align: right;\n    }\n</style>\n<table border=\"1\" class=\"dataframe\">\n  <thead>\n    <tr style=\"text-align: right;\">\n      <th></th>\n      <th>Number of Workflow processes in this Workflow Segment</th>\n      <th>Number of cases</th>\n      <th>average time for workflow segment</th>\n      <th>median time for workflow segment</th>\n      <th>percentage of cases reaching to end of workflow segment</th>\n    </tr>\n  </thead>\n  <tbody>\n    <tr>\n      <th>0</th>\n      <td>1</td>\n      <td>131</td>\n      <td>0 days 0 hours 0 minutes 0 seconds</td>\n      <td>0.0 days 0.0 hours 0.0 minutes 0.0 seconds</td>\n      <td>0.0%</td>\n    </tr>\n    <tr>\n      <th>1</th>\n      <td>2</td>\n      <td>611</td>\n      <td>31 days 8 hours 4 minutes 12 seconds</td>\n      <td>15.0 days 0.0 hours 39.0 minutes 38.0 seconds</td>\n      <td>45.01%</td>\n    </tr>\n    <tr>\n      <th>2</th>\n      <td>3</td>\n      <td>307</td>\n      <td>63 days 13 hours 35 minutes 51 seconds</td>\n      <td>49.0 days 14.0 hours 3.0 minutes 4.0 seconds</td>\n      <td>30.51%</td>\n    </tr>\n    <tr>\n      <th>3</th>\n      <td>4</td>\n      <td>57</td>\n      <td>57 days 5 hours 1 minutes 7 seconds</td>\n      <td>45.0 days 4.0 hours 19.0 minutes 20.0 seconds</td>\n      <td>21.93%</td>\n    </tr>\n    <tr>\n      <th>4</th>\n      <td>5</td>\n      <td>14</td>\n      <td>75 days 10 hours 12 minutes 26 seconds</td>\n      <td>46.0 days 20.0 hours 47.0 minutes 21.0 seconds</td>\n      <td>15.71%</td>\n    </tr>\n    <tr>\n      <th>5</th>\n      <td>6</td>\n      <td>6</td>\n      <td>36 days 18 hours 2 minutes 35 seconds</td>\n      <td>24.0 days 16.0 hours 41.0 minutes 58.5 seconds</td>\n      <td>13.89%</td>\n    </tr>\n    <tr>\n      <th>6</th>\n      <td>7</td>\n      <td>2</td>\n      <td>108 days 9 hours 26 minutes 9 seconds</td>\n      <td>108.0 days 9.0 hours 26.0 minutes 9.0 seconds</td>\n      <td>14.29%</td>\n    </tr>\n    <tr>\n      <th>7</th>\n      <td>8</td>\n      <td>1</td>\n      <td>77 days 0 hours 46 minutes 4 seconds</td>\n      <td>77.0 days 0.0 hours 46.0 minutes 4.0 seconds</td>\n      <td>0.0%</td>\n    </tr>\n    <tr>\n      <th>8</th>\n      <td>11</td>\n      <td>1</td>\n      <td>38 days 2 hours 31 minutes 19 seconds</td>\n      <td>38.0 days 2.0 hours 31.0 minutes 19.0 seconds</td>\n      <td>9.09%</td>\n    </tr>\n  </tbody>\n</table>\n</div>"
     },
     "execution_count": 10,
     "metadata": {},
     "output_type": "execute_result"
    }
   ],
   "source": [
    "s2_t4=pd.DataFrame({'Number of Workflow processes in this Workflow Segment':count_dic.keys(),'Number of cases':len_list, 'average time for workflow segment':list_avgtime_per_key_str,'median time for workflow segment':list_mediantime_per_key_str,'percentage of cases reaching to end of workflow segment':list_percent_reach_end})\n",
    "s2_t4.head(n=10)\n"
   ],
   "metadata": {
    "collapsed": false,
    "pycharm": {
     "name": "#%%\n"
    }
   }
  },
  {
   "cell_type": "code",
   "execution_count": 11,
   "outputs": [],
   "source": [
    "s2_t4.to_csv('segment2_WS4_table.csv', index=False)\n",
    "\n",
    "\n",
    "\n",
    "\n",
    "\n"
   ],
   "metadata": {
    "collapsed": false,
    "pycharm": {
     "name": "#%%\n"
    }
   }
  }
 ],
 "metadata": {
  "kernelspec": {
   "name": "pycharm-78f37aff",
   "language": "python",
   "display_name": "PyCharm (pythonProject)"
  },
  "language_info": {
   "codemirror_mode": {
    "name": "ipython",
    "version": 2
   },
   "file_extension": ".py",
   "mimetype": "text/x-python",
   "name": "python",
   "nbconvert_exporter": "python",
   "pygments_lexer": "ipython2",
   "version": "2.7.6"
  }
 },
 "nbformat": 4,
 "nbformat_minor": 0
}