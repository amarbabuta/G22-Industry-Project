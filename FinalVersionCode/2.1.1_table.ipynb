{
 "cells": [
  {
   "cell_type": "code",
   "execution_count": 1,
   "metadata": {
    "collapsed": true
   },
   "outputs": [],
   "source": [
    "from __future__ import division\n",
    "import pandas as pd\n",
    "import numpy\n"
   ]
  },
  {
   "cell_type": "code",
   "execution_count": 2,
   "outputs": [],
   "source": [
    "df1_WS1T = pd.read_csv(\"/Users/asteriag/Desktop/DATASCIENCEPROJECT_WORKFLOW/TimeStamp_Engineering/engineering_OF_segment1_workflowS1_has_duration.csv\",engine='python')"
   ],
   "metadata": {
    "collapsed": false,
    "pycharm": {
     "name": "#%%\n"
    }
   }
  },
  {
   "cell_type": "code",
   "execution_count": 3,
   "outputs": [
    {
     "name": "stdout",
     "output_type": "stream",
     "text": [
      "<class 'pandas.core.frame.DataFrame'>\n",
      "RangeIndex: 102207 entries, 0 to 102206\n",
      "Data columns (total 6 columns):\n",
      " #   Column                   Non-Null Count   Dtype  \n",
      "---  ------                   --------------   -----  \n",
      " 0   CASE_ID                  102207 non-null  object \n",
      " 1   WRKFLW_TSK_MAP_GROUPED   102207 non-null  object \n",
      " 2   WRKFLW_TSK_MAP_DETAILED  102207 non-null  object \n",
      " 3   PATH_CRDATETIME          102207 non-null  object \n",
      " 4   time_used_str            90326 non-null   object \n",
      " 5   time_used_second         102207 non-null  float64\n",
      "dtypes: float64(1), object(5)\n",
      "memory usage: 4.7+ MB\n"
     ]
    }
   ],
   "source": [
    "df1_WS1T.info()"
   ],
   "metadata": {
    "collapsed": false,
    "pycharm": {
     "name": "#%%\n"
    }
   }
  },
  {
   "cell_type": "code",
   "execution_count": 4,
   "outputs": [
    {
     "data": {
      "text/plain": "93"
     },
     "execution_count": 4,
     "metadata": {},
     "output_type": "execute_result"
    }
   ],
   "source": [
    "df1_WS1T['WRKFLW_TSK_MAP_GROUPED'].nunique()"
   ],
   "metadata": {
    "collapsed": false,
    "pycharm": {
     "name": "#%%\n"
    }
   }
  },
  {
   "cell_type": "code",
   "execution_count": 5,
   "outputs": [
    {
     "data": {
      "text/plain": "277"
     },
     "execution_count": 5,
     "metadata": {},
     "output_type": "execute_result"
    }
   ],
   "source": [
    "df1_WS1T['WRKFLW_TSK_MAP_DETAILED'].nunique()"
   ],
   "metadata": {
    "collapsed": false,
    "pycharm": {
     "name": "#%%\n"
    }
   }
  },
  {
   "cell_type": "code",
   "execution_count": 6,
   "outputs": [
    {
     "name": "stdout",
     "output_type": "stream",
     "text": [
      "[('Submit', 11910), ('Send for Assessment', 10320), ('AR - Satisfied - Academic results for prior tertiary studies', 8816), ('AR - Satisfied - Appointment of authorised representative', 6524), ('AR - Satisfied - English language proficiency', 6036), ('Put Triage On-Hold', 4206), ('OC - Created - English language requirements', 3929), ('Assessment Decision - Qualified', 3757), ('AR - Not Satisfied - English language proficiency', 3728), ('Release Triage Hold', 3367), ('AR - Satisfied - Current enrolment at the University of Melbourne', 3234), ('AR - Satisfied - Credit for previous study', 3140), ('AR - Created - Assessment information (Coursework) (1)', 3054), ('AR - Satisfied - Entry points (Master of Information Technology)', 2451), ('AR - Created - Further information (1)', 2406), ('AR - Satisfied - Specialisation (Master of Information Technology)', 2370), ('AR - Satisfied - Entry points (Master of Information Systems)', 2170), ('AR - Satisfied - Specialisation (Master of Information Systems)', 2075), ('AR - Satisfied - Sponsorship arrangements', 2024), ('AR - Satisfied - Assessment information (Coursework) (1)', 1826), ('AR - Satisfied - Official syllabus or subject descriptions (in English)', 1668), ('AR - Satisfied - Further information (1)', 1545), ('AR - Created - University of Melbourne Statement of Results / transcript', 1474), ('AR - Satisfied - University of Melbourne Statement of Results / transcript', 1454), ('AR - Satisfied - Advanced Standing', 1356), ('AR - Requested - Further information (1)', 495), ('AR - Created - Further information (2)', 463), ('Assessment Decision - No Decision', 399), ('AR - Satisfied - Curriculum Vitae and professional experience', 360), ('OC - Created - CHESICC transcript authentication for international students', 320), ('AR - Satisfied - Further information (2)', 303), ('AR - Created - Payment of international application fee', 297), ('AR - Satisfied - Full application for Coursework program (1)', 261), ('AR - Requested - Official syllabus or subject descriptions (in English)', 252), ('AR - Created - Full application for Coursework program (1)', 217), ('AR - Satisfied - Payment of international application fee', 217), ('AR - Requested - Academic results for prior tertiary studies', 208), ('AR - Requested - Credit for previous study', 161), ('AR - Satisfied - Curriculum Vitae', 158), ('WITHDRAW & LOCK', 124), ('AR - Requested - Further information (2)', 120), ('AR - Created - Grading scale', 117), ('OC - Reviewed - English language requirements', 91), ('AR - Requested - Appointment of authorised representative', 86), ('AR - Satisfied - Grading scale', 80), ('AR - Requested - Payment of international application fee', 76), ('AR - Created - Further information (3)', 74), ('AR - Created - Syllabus (Melbourne School of Engineering)', 73), ('OC - Satisfied - English language requirements', 72), ('AR - Created - Further information - Grading scale required', 66), ('Assessment Decision - Not Qualified', 61), ('AR - Satisfied - Transcript � My eQuals', 59), ('AR - Created - Further information � Preference order required as submitted multiple 1st prefer applications', 56), ('AR - Created - Further information - Syllabus required for Engineering Advanced Standing', 55), ('AR - Satisfied - Further information (3)', 54), ('AR - Satisfied - Further information - Grading scale required', 54), ('AR - Satisfied - Syllabus (Melbourne School of Engineering)', 51), ('AR - Reviewed - Academic results for prior tertiary studies', 46), ('AR - Reviewed - Current enrolment at the University of Melbourne', 46), ('OC - Created - CDGDC transcript authentication for international students', 45), ('AR - Created - Further information - Syllabus required for Prerequisite subject checking.', 43), ('AR - Reviewed - Sponsorship arrangements', 43), ('AR - Created - Specialisation (Master of Engineering)', 42), ('AR - Satisfied - Specialisation (Master of Engineering)', 38), ('AR - Created - Further information - Official Transcripts', 37), ('AR - Created - Further information - Transcripts for subject credited from previous study', 37), ('AR - Created - Further information - Agent nomination form', 35), ('AR - Created - Further information - Genuine Student Checklist', 35), ('AR - Satisfied - Academic transcripts for prior tertiary studies', 33), ('AR - Reviewed - English language proficiency', 31), ('AR - Reviewed - Appointment of authorised representative', 30), ('AR - Satisfied - Details of authorised representative', 30), ('AR - Not Satisfied - Academic results for prior tertiary studies', 29), ('AR - Not Satisfied - Appointment of authorised representative', 28), ('AR - Satisfied - Further information � Preference order required as submitted multiple 1st prefer applications', 27), ('AR - Requested - Further information - Syllabus required for Engineering Advanced Standing', 26), ('AR - Not Satisfied - Official syllabus or subject descriptions (in English)', 25), ('AR - Requested - Grading scale', 25), ('AR - Satisfied - Further information - Syllabus required for Engineering Advanced Standing', 25), ('AR - Satisfied - Further information - Syllabus required for Prerequisite subject checking.', 25), ('Assessment Outcome - Ineligible / Withdrawn', 25), ('AR - Created - Assessment information (Coursework) (2)', 24), ('AR - Created - English language requirements', 24), ('OC - Reviewed - CHESICC transcript authentication for international students', 24), ('AR - Reviewed - Credit for previous study', 21), ('AR - Reviewed - Official syllabus or subject descriptions (in English)', 21), ('AR - Satisfied - Further information - Genuine Student Checklist', 21), ('AR - Satisfied - Further information - Transcripts for subject credited from previous study', 21), ('AR - Created - Further information - Transcript translation and original language', 20), ('AR - Created - Credit for previous study', 19), ('AR - Satisfied - Duration of previous degree', 19), ('AR - Satisfied - Further information - Agent nomination form', 19), ('AR - Satisfied - Assessment information (Coursework) (2)', 17), ('AR - Requested - Further information (3)', 16), ('AR - Requested - Further information - Official Transcripts', 16), ('AR - Satisfied - Further information - Official Transcripts', 16), ('AR - Created - Further information 6 semesters worth of results required', 15), ('AR - Reviewed - Assessment information (Coursework) (1)', 15), ('AR - Reviewed - Entry points (Master of Information Technology)', 15), ('AR - Created - Further information - Transcript for subjects taken on Exchange', 14), ('AR - Requested - English language proficiency', 14), ('AR - Requested - Further information - Syllabus required for Prerequisite subject checking.', 14), ('AR - Requested - Syllabus (Melbourne School of Engineering)', 14), ('AR - Reviewed - Curriculum Vitae and professional experience', 13), ('AR - Satisfied - Further information - Transcript translation and original language', 13), ('AR - Satisfied - Guaranteed Entry pathways', 13), ('AR - Reviewed - Entry points (Master of Information Systems)', 12), ('AR - Satisfied - Transcript � CHESICC', 12), ('AR - Created - Advanced standing application', 11), ('AR - Created - Further information - Document corrupted and cannot be opened', 11), ('AR - Created - Further information Pearsons Test of English', 11), ('AR - Reviewed - Further information (1)', 11), ('AR - Satisfied - Personal statement (500 words)', 11), ('AR - Created - Academic transcripts for prior tertiary studies', 10), ('AR - Created - Credit for previous study - non-University of Melbourne students', 10), ('AR - Not Satisfied - Credit for previous study', 10), ('AR - Requested - Further information - Genuine Student Checklist', 10), ('AR - Satisfied - Overseas Student Health Cover details', 10), ('OC - Created - Payment of international application fee', 10), ('OC - Not Satisfied - English language requirements', 10), ('AR - Created - Academic results for prior tertiary studies', 9), ('AR - Created - Further information (4)', 9), ('AR - Requested - Further information - Transcripts for subject credited from previous study', 9), ('AR - Reviewed - Specialisation (Master of Information Technology)', 9), ('AR - Created - Passport details', 8), ('AR - Requested - Further information - Grading scale required', 8), ('AR - Requested - Further information 6 semesters worth of results required', 8), ('AR - Requested - Further information � Preference order required as submitted multiple 1st prefer applications', 8), ('AR - Reviewed - Details of authorised representative', 8), ('AR - Satisfied - Further information - Document corrupted and cannot be opened', 8), ('Assessment Decision - System Assessed', 8), ('OC - Requested - Payment of international application fee', 8), ('AR - Created - Further information (5)', 7), ('AR - Reviewed - Advanced Standing', 7), ('AR - Reviewed - Specialisation (Master of Information Systems)', 7), ('AR - Satisfied - Advanced standing application', 7), ('AR - Satisfied - Credit for previous study - non-University of Melbourne students', 7), ('AR - Satisfied - Further information - Transcript for subjects taken on Exchange', 7), ('AR - Created - Agent Forms: Missing both Forms', 6), ('AR - Created - Appointment of authorised representative', 6), ('AR - Created - Current enrolment at the University of Melbourne', 6), ('AR - Created - English language proficiency', 6), ('AR - Created - Further information - Document is unclear and cannot be read', 6), ('AR - Created - Further information - Pakistan Applicants require an Agent', 6), ('AR - Created - Sponsorship arrangements', 6), ('AR - Requested - Curriculum Vitae and professional experience', 6), ('AR - Requested - Further information - Agent nomination form', 6), ('AR - Satisfied - Employer reference letter', 6), ('AR - Satisfied - Further information 6 semesters worth of results required', 6), ('AR - Satisfied - Is your undergraduate degree from a recognised institution and in the same stream as your intended Master of Engineering program?', 6), ('AR - Created - Any other information', 5), ('AR - Created - Syllabus requirements', 5), ('AR - Created - Transcript � CHESICC', 5), ('AR - Created - Transcript � My eQuals', 5), ('AR - Requested - Further information - Transcript translation and original language', 5), ('AR - Satisfied - Any other information', 5), ('AR - Satisfied - Further information (4)', 5), ('AR - Satisfied - Further information Pearsons Test of English', 5), ('AR - Satisfied - No syllabus required', 5), ('AR - Satisfied - Passport details', 5), ('Assessment Outcome - Higher Preference Successful', 5), ('AR - Created - Academic transcript Grading Scheme', 4), ('AR - Created - Entry points (Master of Information Systems)', 4), ('AR - Created - Further information (7)', 4), ('AR - Created - Personal statement (500 words)', 4), ('AR - Created - Specialisation (Master of Information Systems)', 4), ('AR - Created - Syllabus requirements for Electrical / Electrical with Business:;;Is your undergraduate degree a 4 year Engineering degree from a Washington Accord Accredited program and in the same stream as your intended Master of Engineering program?', 4), ('AR - Requested - Further information - Transcript for subjects taken on Exchange', 4), ('AR - Satisfied - Academic transcript Grading Scheme', 4), ('AR - Satisfied - Academic transcripts statement of completion', 4), ('AR - Satisfied - Agent Forms: Missing both Forms', 4), ('AR - Satisfied - Further information (5)', 4), ('AR - Satisfied - Further information - Pakistan Applicants require an Agent', 4), ('OC - Created - Assessment information (Coursework) (1)', 4), ('AR - Created - Curriculum Vitae', 3), ('AR - Created - Full application for Coursework program (2)', 3), ('AR - Created - Further information - CV', 3), ('AR - Created - Is your undergraduate degree from a recognised institution and in the same stream as your intended Master of Engineering program?', 3), ('AR - Created - Official syllabus or subject descriptions (in English)', 3), ('AR - Requested - Academic transcripts for prior tertiary studies', 3), ('AR - Requested - Credit for previous study - non-University of Melbourne students', 3), ('AR - Requested - Curriculum Vitae', 3), ('AR - Requested - Full application for Coursework program (1)', 3), ('AR - Requested - Further information (4)', 3), ('AR - Requested - Further information - Document corrupted and cannot be opened', 3), ('AR - Requested - Further information Pearsons Test of English', 3), ('AR - Requested - Syllabus requirements', 3), ('AR - Reviewed - Credit for previous study - non-University of Melbourne students', 3), ('AR - Reviewed - Full application for Coursework program (1)', 3), ('AR - Satisfied - Academic transcripts incomplete', 3), ('AR - Satisfied - Full application for Coursework program (2)', 3), ('AR - Satisfied - Further information (7)', 3), ('AR - Satisfied - Further information - Document is unclear and cannot be read', 3), ('AR - Satisfied - Requirements for Biomedical / Biomedical with Business specialisations', 3), ('Assessment Decision - Not Assessed', 3), ('OC - Created - Offer condition (English language requirements)', 3), ('AR - Created - CHESICC transcript authentication for international students', 2), ('AR - Created - No syllabus required', 2), ('AR - Created - Overseas Student Health Cover details', 2), ('AR - Not Satisfied - Curriculum Vitae and professional experience', 2), ('AR - Not Satisfied - Duration of previous degree', 2), ('AR - Requested - Agent Forms: Missing both Forms', 2), ('AR - Requested - Details of authorised representative', 2), ('AR - Requested - Entry points (Master of Information Systems)', 2), ('AR - Requested - Further information - Pakistan Applicants require an Agent', 2), ('AR - Requested - Master of IT (1 year program) - CV', 2), ('AR - Requested - Personal statement (500 words)', 2), ('AR - Requested - Specialisation (Master of Information Technology)', 2), ('AR - Reviewed - Curriculum Vitae', 2), ('AR - Reviewed - Further information - Transcripts for subject credited from previous study', 2), ('AR - Reviewed - Grading scale', 2), ('AR - Reviewed - Syllabus requirements', 2), ('AR - Reviewed - Transcript � My eQuals', 2), ('AR - Satisfied - Credit for previous study - University of Melbourne students', 2), ('AR - Satisfied - Further information - CV', 2), ('Acacdemic - Assessment Decision - Qualified', 2), ('OC - Created - Evidence of course completion', 2), ('OC - Created - Further information (3)', 2), ('OC - Requested - Further information (3)', 2), ('OC - Satisfied - Assessment information (Coursework) (1)', 2), ('OC - Satisfied - CHESICC transcript authentication for international students', 2), ('OC - Satisfied - Payment of international application fee', 2), ('AR - Awaiting External Response - Appointment of authorised representative', 1), ('AR - Awaiting External Response - Further information (1)', 1), ('AR - Created - Academic referee reports (Staff only)', 1), ('AR - Created - Academic transcripts incomplete', 1), ('AR - Created - Advanced Standing', 1), ('AR - Created - Employer reference letter', 1), ('AR - Created - Entry Requirement Waiver Outcome', 1), ('AR - Created - Preferred major', 1), ('AR - Created - Requirements for Biomedical / Biomedical with Business specialisations', 1), ('AR - DO NOT USE - Further information (1)', 1), ('AR - Not Satisfied - Current enrolment at the University of Melbourne', 1), ('AR - Not Satisfied - Details of authorised representative', 1), ('AR - Not Satisfied - Is your undergraduate degree from a recognised institution and in the same stream as your intended Master of Engineering program?', 1), ('AR - Not Satisfied - Specialisation (Master of Information Systems)', 1), ('AR - Not Satisfied - Specialisation (Master of Information Technology)', 1), ('AR - Not Satisfied - Sponsorship arrangements', 1), ('AR - Not Satisfied - Transcript � CHESICC', 1), ('AR - Requested - Academic transcript Grading Scheme', 1), ('AR - Requested - Employer reference letter', 1), ('AR - Requested - Further information (5)', 1), ('AR - Requested - Further information (7)', 1), ('AR - Requested - Further information - CV', 1), ('AR - Requested - Is your undergraduate degree from a recognised institution and in the same stream as your intended Master of Engineering program?', 1), ('AR - Requested - No syllabus required', 1), ('AR - Requested - Requirements for Biomedical / Biomedical with Business specialisations', 1), ('AR - Requested - Requirements for Materials specialisation', 1), ('AR - Requested - Specialisation (Master of Engineering)', 1), ('AR - Requested - Specialisation (Master of Information Systems)', 1), ('AR - Requested - Syllabus requirements for Electrical / Electrical with Business:;;Is your undergraduate degree a 4 year Engineering degree from a Washington Accord Accredited program and in the same stream as your intended Master of Engineering program?', 1), ('AR - Reviewed - Duration of previous degree', 1), ('AR - Reviewed - English language testing result', 1), ('AR - Reviewed - Further information (2)', 1), ('AR - Reviewed - Master of Information Systems (1 year program) - CV and employer reference', 1), ('AR - Reviewed - No syllabus required', 1), ('AR - Reviewed - Recently completed or currently studying an undergraduate degree.', 1), ('AR - Reviewed - Transcript � CHESICC', 1), ('AR - Reviewed - University of Melbourne Statement of Results / transcript', 1), ('AR - Satisfied - Academic referee reports (Staff only)', 1), ('AR - Satisfied - English language testing result', 1), ('AR - Satisfied - Entry Requirement Waiver Outcome', 1), ('AR - Satisfied - Preferred major', 1), ('AR - Satisfied - Recently completed or currently studying an undergraduate degree.', 1), ('AR - Satisfied - Requirements for Materials specialisation', 1), ('AR - Satisfied - Syllabus requirements for Electrical / Electrical with Business:;;Is your undergraduate degree a 4 year Engineering degree from a Washington Accord Accredited program and in the same stream as your intended Master of Engineering program?', 1), ('Acacdemic - Assessment Decision - No Decision', 1), ('Acacdemic - Assessment Decision - Not Qualified', 1), ('Assessment Outcome - No Outcome Set', 1), ('OC - Created - English language proficiency', 1), ('OC - Created - Further information (1)', 1), ('OC - Created - Further information - Grading scale required', 1), ('OC - Not Satisfied - CDGDC transcript authentication for international students', 1), ('OC - Reviewed - CDGDC transcript authentication for international students', 1), ('OC - Satisfied - CDGDC transcript authentication for international students', 1), ('OC - Satisfied - Further information - Grading scale required', 1), ('OC - Satisfied - Offer condition (English language requirements)', 1)]\n"
     ]
    }
   ],
   "source": [
    "wd_count = df1_WS1T.groupby('WRKFLW_TSK_MAP_DETAILED').WRKFLW_TSK_MAP_DETAILED.count()\n",
    "wd_dict = dict()\n",
    "for i, v in wd_count.items():\n",
    "    wd_dict[i] = v\n",
    "sorted_wd_dict = sorted(wd_dict.items(), key = lambda x: x[1], reverse = True)\n",
    "print(sorted_wd_dict)"
   ],
   "metadata": {
    "collapsed": false,
    "pycharm": {
     "name": "#%%\n"
    }
   }
  },
  {
   "cell_type": "code",
   "execution_count": 7,
   "outputs": [
    {
     "name": "stdout",
     "output_type": "stream",
     "text": [
      "[('AR - Not Satisfied - Curriculum Vitae and professional experience', 7845877.0), ('AR - Created - Passport details', 3383432.0), ('AR - Satisfied - Entry Requirement Waiver Outcome', 1905596.0), ('AR - Requested - Is your undergraduate degree from a recognised institution and in the same stream as your intended Master of Engineering program?', 1641512.0), ('Put Triage On-Hold', 1488207.0), ('AR - Satisfied - Personal statement (500 words)', 1415615.0), ('Submit', 1353794.0), ('AR - Requested - Master of IT (1 year program) - CV', 1292405.0), ('AR - Created - Further information (4)', 1062415.0), ('AR - Satisfied - University of Melbourne Statement of Results / transcript', 858545.0), ('AR - Requested - Credit for previous study - non-University of Melbourne students', 842589.0), ('AR - Satisfied - Further information (3)', 724926.0), ('AR - Satisfied - Further information (7)', 657729.0), ('Acacdemic - Assessment Decision - No Decision', 612700.0), ('AR - Created - Further information (5)', 538223.0), ('Assessment Outcome - No Outcome Set', 419486.0), ('Acacdemic - Assessment Decision - Not Qualified', 404868.0), ('AR - Satisfied - Payment of international application fee', 395193.0), ('AR - Satisfied - Academic transcripts for prior tertiary studies', 349589.0), ('AR - Requested - Entry points (Master of Information Systems)', 307163.0), ('AR - Reviewed - Transcript � My eQuals', 295700.0), ('OC - Reviewed - English language requirements', 287476.0), ('AR - Satisfied - Advanced standing application', 278272.0), ('AR - Created - Specialisation (Master of Engineering)', 263613.0), ('AR - Created - Academic transcripts for prior tertiary studies', 257372.0), ('AR - Requested - Further information � Preference order required as submitted multiple 1st prefer applications', 237522.0), ('AR - Created - Further information (2)', 230494.0), ('AR - Requested - Academic results for prior tertiary studies', 217183.0), ('AR - Satisfied - Specialisation (Master of Engineering)', 202464.0), ('Assessment Decision - No Decision', 181555.0), ('AR - Satisfied - Overseas Student Health Cover details', 179207.0), ('AR - Created - Full application for Coursework program (1)', 177548.0), ('AR - Satisfied - Further information - Pakistan Applicants require an Agent', 175402.0), ('AR - Satisfied - Further information (2)', 154951.0), ('AR - Satisfied - Any other information', 154084.0), ('AR - Not Satisfied - Official syllabus or subject descriptions (in English)', 141481.0), ('OC - Reviewed - CHESICC transcript authentication for international students', 128997.0), ('AR - Satisfied - Details of authorised representative', 121448.0), ('AR - Reviewed - Curriculum Vitae and professional experience', 120428.0), ('AR - Created - Syllabus (Melbourne School of Engineering)', 117584.0), ('AR - Reviewed - Credit for previous study', 116555.0), ('AR - Created - Advanced standing application', 115986.0), ('AR - Created - Payment of international application fee', 115769.0), ('AR - Created - Further information (1)', 105688.0), ('AR - Created - Further information (3)', 100672.0), ('AR - Requested - Details of authorised representative', 98640.0), ('Assessment Outcome - Ineligible / Withdrawn', 93289.0), ('AR - Requested - Further information (2)', 91729.0), ('AR - Requested - Further information (1)', 90049.0), ('Acacdemic - Assessment Decision - Qualified', 88769.0), ('AR - Reviewed - Specialisation (Master of Information Systems)', 85560.0), ('AR - Satisfied - Assessment information (Coursework) (1)', 83605.0), ('AR - Not Satisfied - Academic results for prior tertiary studies', 81458.0), ('Assessment Decision - Not Qualified', 79239.0), ('AR - Requested - Credit for previous study', 77869.0), ('AR - Satisfied - Duration of previous degree', 73763.0), ('AR - Created - Further information � Preference order required as submitted multiple 1st prefer applications', 69464.0), ('Assessment Decision - Qualified', 69178.0), ('AR - Reviewed - Appointment of authorised representative', 67170.0), ('AR - Satisfied - Further information (1)', 66517.0), ('AR - Satisfied - Academic transcripts incomplete', 66334.0), ('AR - Satisfied - Further information - Grading scale required', 65798.0), ('OC - Satisfied - English language requirements', 64368.0), ('AR - Reviewed - Current enrolment at the University of Melbourne', 64218.0), ('AR - Created - Assessment information (Coursework) (1)', 56819.0), ('AR - Reviewed - Official syllabus or subject descriptions (in English)', 54228.0), ('AR - Reviewed - Advanced Standing', 51071.0), ('AR - Reviewed - English language proficiency', 50140.0), ('AR - Requested - Appointment of authorised representative', 49963.0), ('AR - Reviewed - Further information (1)', 47156.0), ('AR - Created - Further information 6 semesters worth of results required', 44791.0), ('AR - Satisfied - Appointment of authorised representative', 43877.0), ('AR - Created - Further information - Official Transcripts', 42558.0), ('AR - Satisfied - Credit for previous study', 38764.0), ('AR - Satisfied - Transcript � My eQuals', 37736.0), ('AR - Satisfied - Entry points (Master of Information Systems)', 36781.0), ('AR - Satisfied - Full application for Coursework program (1)', 35726.0), ('OC - Created - Evidence of course completion', 31029.0), ('AR - Satisfied - Entry points (Master of Information Technology)', 30807.0), ('AR - Satisfied - Academic results for prior tertiary studies', 29707.0), ('AR - Satisfied - Grading scale', 28153.0), ('OC - Created - English language requirements', 25447.0), ('AR - Created - Further information Pearsons Test of English', 24327.0), ('AR - Reviewed - Assessment information (Coursework) (1)', 23621.0), ('AR - Satisfied - Official syllabus or subject descriptions (in English)', 23527.0), ('Release Triage Hold', 23097.0), ('AR - Reviewed - Academic results for prior tertiary studies', 22752.0), ('AR - Satisfied - Further information � Preference order required as submitted multiple 1st prefer applications', 22076.0), ('AR - Satisfied - Curriculum Vitae and professional experience', 21764.0), ('AR - Satisfied - Specialisation (Master of Information Technology)', 21757.0), ('AR - Satisfied - Specialisation (Master of Information Systems)', 20979.0), ('AR - Reviewed - Sponsorship arrangements', 19856.0), ('Assessment Outcome - Higher Preference Successful', 19466.0), ('AR - Satisfied - English language proficiency', 19400.0), ('AR - Created - University of Melbourne Statement of Results / transcript', 18990.0), ('AR - Created - Further information - Syllabus required for Engineering Advanced Standing', 17637.0), ('AR - Created - Grading scale', 16504.0), ('AR - Satisfied - Curriculum Vitae', 15978.0), ('OC - Created - CDGDC transcript authentication for international students', 15171.0), ('AR - Not Satisfied - English language proficiency', 14722.0), ('WITHDRAW & LOCK', 11849.0), ('OC - Created - CHESICC transcript authentication for international students', 11834.0), ('AR - Created - Further information - Transcripts for subject credited from previous study', 11435.0), ('Assessment Decision - System Assessed', 11218.0), ('AR - Satisfied - Further information - Syllabus required for Engineering Advanced Standing', 10116.0), ('AR - Satisfied - Academic transcript Grading Scheme', 9323.0), ('AR - Requested - Further information - Transcripts for subject credited from previous study', 8987.0), ('AR - Satisfied - Academic referee reports (Staff only)', 8932.0), ('AR - Reviewed - Syllabus requirements', 8083.0), ('AR - Reviewed - Credit for previous study - non-University of Melbourne students', 7448.0), ('AR - Requested - Syllabus requirements', 7207.0), ('AR - Satisfied - Advanced Standing', 5821.0), ('AR - Satisfied - Sponsorship arrangements', 5567.0), ('AR - Requested - Further information - Syllabus required for Prerequisite subject checking.', 5495.0), ('AR - Requested - Official syllabus or subject descriptions (in English)', 4749.0), ('AR - Satisfied - Current enrolment at the University of Melbourne', 4225.0), ('AR - Requested - Syllabus requirements for Electrical / Electrical with Business:;;Is your undergraduate degree a 4 year Engineering degree from a Washington Accord Accredited program and in the same stream as your intended Master of Engineering program?', 4111.0), ('AR - Satisfied - Credit for previous study - non-University of Melbourne students', 3958.0), ('OC - Not Satisfied - CDGDC transcript authentication for international students', 3479.0), ('AR - Reviewed - Duration of previous degree', 2950.0), ('AR - DO NOT USE - Further information (1)', 2325.0), ('AR - Created - Further information - Syllabus required for Prerequisite subject checking.', 2242.0), ('AR - Requested - No syllabus required', 2126.0), ('AR - Satisfied - Transcript � CHESICC', 1964.0), ('AR - Reviewed - Master of Information Systems (1 year program) - CV and employer reference', 1553.0), ('AR - Reviewed - Further information (2)', 1349.0), ('AR - Satisfied - Employer reference letter', 1323.0), ('AR - Requested - Further information - Syllabus required for Engineering Advanced Standing', 943.0), ('AR - Created - CHESICC transcript authentication for international students', 904.0), ('AR - Requested - Specialisation (Master of Engineering)', 687.0), ('AR - Not Satisfied - Sponsorship arrangements', 608.0), ('AR - Satisfied - Further information 6 semesters worth of results required', 546.0), ('AR - Reviewed - Specialisation (Master of Information Technology)', 497.0), ('AR - Created - Employer reference letter', 492.0), ('AR - Created - Full application for Coursework program (2)', 433.0), ('OC - Created - Assessment information (Coursework) (1)', 429.0), ('AR - Satisfied - Recently completed or currently studying an undergraduate degree.', 371.0), ('AR - Requested - Further information - Pakistan Applicants require an Agent', 370.0), ('AR - Requested - Specialisation (Master of Information Technology)', 362.0), ('AR - Reviewed - Entry points (Master of Information Systems)', 351.0), ('AR - Not Satisfied - Details of authorised representative', 333.0), ('OC - Created - Further information - Grading scale required', 330.0), ('AR - Requested - Academic transcript Grading Scheme', 313.0), ('AR - Satisfied - Preferred major', 289.0), ('AR - Created - Any other information', 256.0), ('AR - Requested - Further information (3)', 244.0), ('AR - Created - Academic transcript Grading Scheme', 227.0), ('OC - Satisfied - Assessment information (Coursework) (1)', 222.0), ('AR - Created - English language requirements', 213.0), ('AR - Created - Further information - Grading scale required', 204.0), ('AR - Requested - Full application for Coursework program (1)', 200.0), ('AR - Created - Academic referee reports (Staff only)', 191.0), ('AR - Created - No syllabus required', 185.0), ('AR - Created - Further information (7)', 173.0), ('Assessment Decision - Not Assessed', 172.0), ('AR - Requested - Further information Pearsons Test of English', 172.0), ('AR - Satisfied - Further information - Document corrupted and cannot be opened', 169.0), ('AR - Satisfied - Assessment information (Coursework) (2)', 165.0), ('AR - Created - Further information - Agent nomination form', 155.0), ('AR - Reviewed - Curriculum Vitae', 154.0), ('AR - Requested - Further information - Transcript translation and original language', 153.0), ('AR - Requested - Further information - Agent nomination form', 151.0), ('AR - Created - Credit for previous study', 145.0), ('AR - Satisfied - Further information - Document is unclear and cannot be read', 145.0), ('AR - Created - Further information - Genuine Student Checklist', 141.0), ('AR - Requested - Further information - Genuine Student Checklist', 139.0), ('AR - Created - Entry points (Master of Information Systems)', 138.0), ('AR - Not Satisfied - Appointment of authorised representative', 137.0), ('AR - Requested - English language proficiency', 133.0), ('AR - Requested - Further information (4)', 129.0), ('AR - Created - Syllabus requirements', 126.0), ('AR - Reviewed - Recently completed or currently studying an undergraduate degree.', 120.0), ('OC - Created - Payment of international application fee', 118.0), ('AR - Requested - Payment of international application fee', 114.0), ('AR - Requested - Requirements for Biomedical / Biomedical with Business specialisations', 110.0), ('AR - Satisfied - Full application for Coursework program (2)', 109.0), ('AR - Requested - Further information - CV', 109.0), ('AR - Not Satisfied - Transcript � CHESICC', 103.0), ('AR - Requested - Further information 6 semesters worth of results required', 98.0), ('AR - Requested - Further information - Grading scale required', 98.0), ('AR - Satisfied - Further information (4)', 95.0), ('AR - Requested - Syllabus (Melbourne School of Engineering)', 94.0), ('OC - Created - Further information (1)', 94.0), ('AR - Created - Further information - Document is unclear and cannot be read', 94.0), ('OC - Satisfied - Offer condition (English language requirements)', 94.0), ('AR - Created - Further information - Transcript translation and original language', 92.0), ('AR - Not Satisfied - Credit for previous study', 90.0), ('AR - Created - Official syllabus or subject descriptions (in English)', 88.0), ('AR - Created - Is your undergraduate degree from a recognised institution and in the same stream as your intended Master of Engineering program?', 86.0), ('AR - Satisfied - Is your undergraduate degree from a recognised institution and in the same stream as your intended Master of Engineering program?', 83.0), ('AR - Satisfied - Further information - Agent nomination form', 79.0), ('AR - Requested - Further information - Official Transcripts', 79.0), ('AR - Created - Specialisation (Master of Information Systems)', 79.0), ('AR - Requested - Personal statement (500 words)', 77.0), ('AR - Created - Preferred major', 76.0), ('AR - Created - Assessment information (Coursework) (2)', 75.0), ('AR - Created - Further information - Pakistan Applicants require an Agent', 74.0), ('AR - Reviewed - Entry points (Master of Information Technology)', 73.0), ('AR - Satisfied - Further information - Transcript for subjects taken on Exchange', 70.0), ('AR - Satisfied - Passport details', 69.0), ('OC - Requested - Payment of international application fee', 69.0), ('AR - Created - Entry Requirement Waiver Outcome', 68.0), ('OC - Satisfied - Further information - Grading scale required', 68.0), ('AR - Satisfied - Further information - Transcripts for subject credited from previous study', 64.0), ('AR - Satisfied - Syllabus (Melbourne School of Engineering)', 61.0), ('AR - Satisfied - Further information - Genuine Student Checklist', 61.0), ('AR - Requested - Grading scale', 60.0), ('AR - Created - Agent Forms: Missing both Forms', 59.0), ('AR - Created - Further information - Transcript for subjects taken on Exchange', 59.0), ('AR - Created - Further information - Document corrupted and cannot be opened', 58.0), ('AR - Reviewed - Details of authorised representative', 57.0), ('OC - Reviewed - CDGDC transcript authentication for international students', 56.0), ('AR - Satisfied - Further information - Transcript translation and original language', 53.0), ('AR - Created - Requirements for Biomedical / Biomedical with Business specialisations', 51.0), ('AR - Created - Academic transcripts incomplete', 50.0), ('AR - Created - Further information - CV', 47.0), ('AR - Satisfied - Further information - Syllabus required for Prerequisite subject checking.', 45.0), ('OC - Created - Offer condition (English language requirements)', 45.0), ('AR - Awaiting External Response - Appointment of authorised representative', 44.0), ('AR - Created - Personal statement (500 words)', 42.0), ('AR - Created - Overseas Student Health Cover details', 42.0), ('OC - Not Satisfied - English language requirements', 41.0), ('AR - Requested - Further information (5)', 41.0), ('AR - Satisfied - Further information - Official Transcripts', 39.0), ('AR - Reviewed - Full application for Coursework program (1)', 39.0), ('AR - Satisfied - No syllabus required', 37.0), ('AR - Satisfied - Requirements for Biomedical / Biomedical with Business specialisations', 36.0), ('AR - Satisfied - Further information (5)', 32.0), ('AR - Requested - Further information (7)', 31.0), ('AR - Requested - Further information - Document corrupted and cannot be opened', 30.0), ('OC - Satisfied - CHESICC transcript authentication for international students', 29.0), ('AR - Requested - Further information - Transcript for subjects taken on Exchange', 28.0), ('AR - Satisfied - Further information Pearsons Test of English', 26.0), ('AR - Awaiting External Response - Further information (1)', 26.0), ('AR - Reviewed - Transcript � CHESICC', 24.0), ('AR - Not Satisfied - Current enrolment at the University of Melbourne', 23.0), ('AR - Created - Current enrolment at the University of Melbourne', 22.0), ('AR - Satisfied - Agent Forms: Missing both Forms', 21.0), ('AR - Requested - Curriculum Vitae and professional experience', 19.0), ('AR - Created - Transcript � CHESICC', 19.0), ('AR - Created - Curriculum Vitae', 19.0), ('OC - Satisfied - Payment of international application fee', 18.0), ('OC - Satisfied - CDGDC transcript authentication for international students', 18.0), ('AR - Created - Credit for previous study - non-University of Melbourne students', 17.0), ('AR - Not Satisfied - Specialisation (Master of Information Technology)', 16.0), ('AR - Created - Appointment of authorised representative', 15.0), ('AR - Created - English language proficiency', 14.0), ('AR - Created - Advanced Standing', 12.0), ('AR - Requested - Agent Forms: Missing both Forms', 11.0), ('AR - Created - Academic results for prior tertiary studies', 11.0), ('AR - Created - Transcript � My eQuals', 11.0), ('AR - Created - Sponsorship arrangements', 10.0), ('AR - Not Satisfied - Specialisation (Master of Information Systems)', 10.0), ('AR - Created - Syllabus requirements for Electrical / Electrical with Business:;;Is your undergraduate degree a 4 year Engineering degree from a Washington Accord Accredited program and in the same stream as your intended Master of Engineering program?', 9.0), ('AR - Requested - Specialisation (Master of Information Systems)', 9.0), ('OC - Created - Further information (3)', 9.0), ('AR - Requested - Curriculum Vitae', 8.0), ('AR - Satisfied - Credit for previous study - University of Melbourne students', 8.0), ('AR - Satisfied - Guaranteed Entry pathways', 8.0), ('AR - Satisfied - Further information - CV', 7.0), ('OC - Requested - Further information (3)', 7.0), ('AR - Not Satisfied - Duration of previous degree', 6.0), ('OC - Created - English language proficiency', 6.0), ('AR - Requested - Employer reference letter', 6.0), ('AR - Reviewed - University of Melbourne Statement of Results / transcript', 5.0), ('AR - Reviewed - Grading scale', 5.0), ('AR - Reviewed - Further information - Transcripts for subject credited from previous study', 4.0), ('AR - Satisfied - Academic transcripts statement of completion', 3.0), ('AR - Requested - Academic transcripts for prior tertiary studies', 2.0), ('Send for Assessment', 0.0), ('AR - Reviewed - No syllabus required', 0.0), ('AR - Reviewed - English language testing result', 0.0), ('AR - Not Satisfied - Is your undergraduate degree from a recognised institution and in the same stream as your intended Master of Engineering program?', 0.0), ('AR - Satisfied - English language testing result', 0.0), ('AR - Satisfied - Requirements for Materials specialisation', 0.0), ('AR - Satisfied - Syllabus requirements for Electrical / Electrical with Business:;;Is your undergraduate degree a 4 year Engineering degree from a Washington Accord Accredited program and in the same stream as your intended Master of Engineering program?', 0.0), ('AR - Requested - Requirements for Materials specialisation', 0.0)]\n"
     ]
    }
   ],
   "source": [
    "list = df1_WS1T.WRKFLW_TSK_MAP_DETAILED.unique()\n",
    "avg_time_dict = dict()\n",
    "for key in list :\n",
    "    df_slides = df1_WS1T[df1_WS1T['WRKFLW_TSK_MAP_DETAILED'] == key]\n",
    "    sum = df_slides['time_used_second'].sum()\n",
    "    c = len(df_slides)\n",
    "    avg = sum//c\n",
    "    avg_time_dict[key] = avg\n",
    "\n",
    "sorted_avg_time_dict = sorted(avg_time_dict.items(),key = lambda x: x[1], reverse = True)\n",
    "print(sorted_avg_time_dict)"
   ],
   "metadata": {
    "collapsed": false,
    "pycharm": {
     "name": "#%%\n"
    }
   }
  },
  {
   "cell_type": "code",
   "execution_count": 8,
   "outputs": [],
   "source": [
    "numOfWorkflowProcesses = df1_WS1T.groupby('CASE_ID').CASE_ID.count()\n",
    "\n",
    "count_dic=dict()\n",
    "for i,v in numOfWorkflowProcesses.items():\n",
    "    if count_dic.get(v) is None:\n",
    "        count_dic[v]=[]\n",
    "        count_dic[v].append(i)\n",
    "    else:\n",
    "        count_dic[v].append(i)\n",
    "#count_dic\n",
    "count_dic = dict(sorted(count_dic.items()))"
   ],
   "metadata": {
    "collapsed": false,
    "pycharm": {
     "name": "#%%\n"
    }
   }
  },
  {
   "cell_type": "code",
   "execution_count": 9,
   "outputs": [],
   "source": [
    "len_list=[]\n",
    "for key in count_dic.keys():\n",
    "    len_list.append(len(count_dic[key]))"
   ],
   "metadata": {
    "collapsed": false,
    "pycharm": {
     "name": "#%%\n"
    }
   }
  },
  {
   "cell_type": "code",
   "execution_count": 10,
   "outputs": [],
   "source": [
    "def strfdelta(tdelta, fmt):\n",
    "    d=dict()\n",
    "    d[\"days\"],rem1 = divmod(tdelta,60*60*24)\n",
    "    d[\"hours\"], rem2 = divmod(rem1, 3600)\n",
    "    d[\"minutes\"], d[\"seconds\"] = divmod(rem2, 60)\n",
    "    return fmt.format(**d)"
   ],
   "metadata": {
    "collapsed": false,
    "pycharm": {
     "name": "#%%\n"
    }
   }
  },
  {
   "cell_type": "code",
   "execution_count": 11,
   "outputs": [],
   "source": [
    "list_avgtime_per_key =[]\n",
    "list_sumtime_row = []\n",
    "for key in count_dic.keys():\n",
    "    id_list = count_dic[key]\n",
    "    list_sumtime_person = 0\n",
    "    for id in id_list:\n",
    "        df = df1_WS1T[df1_WS1T['CASE_ID']== id]\n",
    "        tsum = df['time_used_second'].sum()\n",
    "        list_sumtime_person+=tsum\n",
    "    list_avgtime_per_key.append(int((list_sumtime_person/len(count_dic[key]))))\n",
    "    list_sumtime_row.append(list_sumtime_person)\n",
    "list_avgtime_per_key_str = []\n",
    "for i in list_avgtime_per_key:\n",
    "    list_avgtime_per_key_str.append(strfdelta(i,\"{days} days {hours} hours {minutes} minutes {seconds} seconds\"))"
   ],
   "metadata": {
    "collapsed": false,
    "pycharm": {
     "name": "#%%\n"
    }
   }
  },
  {
   "cell_type": "code",
   "execution_count": 12,
   "outputs": [],
   "source": [
    "list_mediantime_per_key = []\n",
    "for key in count_dic.keys():\n",
    "    id_list = count_dic[key]\n",
    "    list_sumtime_per_person = []\n",
    "    for id in id_list:\n",
    "        df = df1_WS1T[df1_WS1T['CASE_ID']== id]\n",
    "        tsum = df['time_used_second'].sum()\n",
    "        list_sumtime_per_person.append(tsum)\n",
    "    list_mediantime_per_key.append(numpy.median(list_sumtime_per_person))\n",
    "\n",
    "list_mediantime_per_key_str = []\n",
    "for i in list_mediantime_per_key:\n",
    "    list_mediantime_per_key_str.append(strfdelta(i,\"{days} days {hours} hours {minutes} minutes {seconds} seconds\"))"
   ],
   "metadata": {
    "collapsed": false,
    "pycharm": {
     "name": "#%%\n"
    }
   }
  },
  {
   "cell_type": "code",
   "execution_count": 13,
   "outputs": [],
   "source": [
    "list_percent_reach_end = []\n",
    "for key in count_dic.keys():\n",
    "    id_list = count_dic[key]\n",
    "    count_df_end_step = 0\n",
    "    count_df_id = 0\n",
    "    for id in id_list:\n",
    "        df_id = df1_WS1T[df1_WS1T['CASE_ID']== id]\n",
    "        df_end_step = df_id[df_id['WRKFLW_TSK_MAP_GROUPED']=='Send for Assessment']\n",
    "        count_df_id += df_id['CASE_ID'].nunique()\n",
    "        count_df_end_step += df_end_step['CASE_ID'].nunique()\n",
    "    list_percent_reach_end.append(str(round((count_df_end_step/count_df_id)*100,2))+ \"%\")"
   ],
   "metadata": {
    "collapsed": false,
    "pycharm": {
     "name": "#%%\n"
    }
   }
  },
  {
   "cell_type": "code",
   "execution_count": 14,
   "outputs": [],
   "source": [
    "list_step_per_key = []\n",
    "for key in count_dic.keys():\n",
    "    id_list = count_dic[key]\n",
    "    list_step = set()\n",
    "    for id in id_list:\n",
    "        df = df1_WS1T[df1_WS1T['CASE_ID']== id]\n",
    "        for index, row in df.iterrows():\n",
    "            list_step.add(row['WRKFLW_TSK_MAP_GROUPED'])\n",
    "    list_step_per_key.append(list_step)\n"
   ],
   "metadata": {
    "collapsed": false,
    "pycharm": {
     "name": "#%%\n"
    }
   }
  },
  {
   "cell_type": "code",
   "execution_count": 15,
   "outputs": [],
   "source": [
    "from collections import Counter\n",
    "import collections, functools, operator\n",
    "list_step_sum_time_per_key = []\n",
    "list_step_count_per_key = []\n",
    "list_step_ave_time_per_key = []\n",
    "for key in count_dic.keys():\n",
    "    id_list = count_dic[key]\n",
    "    list_step = []\n",
    "    step_time_list = []\n",
    "    for id in id_list:\n",
    "        df = df1_WS1T[df1_WS1T['CASE_ID']== id]\n",
    "        step_time = dict(zip(df.WRKFLW_TSK_MAP_GROUPED, df.time_used_second))\n",
    "        step_time_list.append(step_time)\n",
    "        for index, row in df.iterrows():\n",
    "            list_step.append(row['WRKFLW_TSK_MAP_GROUPED'])\n",
    "\n",
    "    step_sum_time = dict(functools.reduce(operator.add,\n",
    "         map(collections.Counter, step_time_list)))\n",
    "\n",
    "    dict_list_step=dict(Counter(list_step))\n",
    "\n",
    "    step_ave_time = {key: strfdelta(step_sum_time[key] // dict_list_step.get(key, 0),\"{days} days {hours} hours {minutes} minutes {seconds} seconds\")\n",
    "                        for key in step_sum_time.keys()}\n",
    "\n",
    "    sort_step_sum_time = sorted(step_sum_time.items(),key = lambda x: x[1], reverse = True)\n",
    "    list_step_sum_time_per_key.append(sort_step_sum_time)\n",
    "\n",
    "    sort_dict_list_step = sorted(dict_list_step.items(),key = lambda x: x[1], reverse = True)\n",
    "    list_step_count_per_key.append(sort_dict_list_step[:6])\n",
    "\n",
    "    sort_step_ave_time = sorted(step_ave_time.items(),key = lambda x: x[1], reverse = True)\n",
    "    list_step_ave_time_per_key.append(sort_step_ave_time)"
   ],
   "metadata": {
    "collapsed": false,
    "pycharm": {
     "name": "#%%\n"
    }
   }
  },
  {
   "cell_type": "code",
   "execution_count": 16,
   "outputs": [
    {
     "data": {
      "text/plain": "   Number of Workflow processes in this Workflow Segment  Number of cases  \\\n0                                                  1                  537   \n1                                                  2                  177   \n2                                                  3                  174   \n3                                                  4                  537   \n4                                                  5                  916   \n5                                                  6                 1087   \n6                                                  7                 1403   \n7                                                  8                 1394   \n8                                                  9                 1237   \n9                                                 10                 1021   \n\n        average time for workflow segment  \\\n0      0 days 0 hours 0 minutes 0 seconds   \n1  17 days 17 hours 53 minutes 27 seconds   \n2  16 days 15 hours 57 minutes 18 seconds   \n3   15 days 8 hours 51 minutes 14 seconds   \n4   16 days 6 hours 26 minutes 55 seconds   \n5   20 days 3 hours 52 minutes 31 seconds   \n6   20 days 1 hours 49 minutes 41 seconds   \n7    21 days 7 hours 32 minutes 8 seconds   \n8   24 days 21 hours 38 minutes 8 seconds   \n9  27 days 21 hours 14 minutes 42 seconds   \n\n                 median time for workflow segment  \\\n0      0.0 days 0.0 hours 0.0 minutes 0.0 seconds   \n1   9.0 days 22.0 hours 36.0 minutes 34.0 seconds   \n2   9.0 days 16.0 hours 55.0 minutes 40.5 seconds   \n3  10.0 days 21.0 hours 25.0 minutes 39.0 seconds   \n4  11.0 days 14.0 hours 17.0 minutes 14.5 seconds   \n5   13.0 days 4.0 hours 57.0 minutes 30.0 seconds   \n6   13.0 days 21.0 hours 9.0 minutes 12.0 seconds   \n7  14.0 days 21.0 hours 44.0 minutes 33.0 seconds   \n8  16.0 days 21.0 hours 52.0 minutes 52.0 seconds   \n9  19.0 days 20.0 hours 26.0 minutes 18.0 seconds   \n\n  percentage of cases reaching to end of workflow segment  \\\n0                                               0.0%        \n1                                             76.84%        \n2                                             74.14%        \n3                                             90.32%        \n4                                             95.09%        \n5                                              93.1%        \n6                                             92.73%        \n7                                             91.97%        \n8                                             92.56%        \n9                                              90.6%        \n\n             Num of Occurrences per step(descending)  \\\n0                                    [(Submit, 537)]   \n1  [(Submit, 177), (Send for Assessment, 136), (W...   \n2  [(Submit, 177), (Send for Assessment, 129), (A...   \n3  [(Submit, 540), (Send for Assessment, 485), (A...   \n4  [(Submit, 921), (Send for Assessment, 871), (A...   \n5  [(Submit, 1090), (Send for Assessment, 1012), ...   \n6  [(AR - Satisfied - previous or current study, ...   \n7  [(AR - Satisfied - previous or current study, ...   \n8  [(AR - Satisfied - previous or current study, ...   \n9  [(Submit, 1025), (AR - Satisfied - previous or...   \n\n            Average time spends per step(descending)  \\\n0                                                 []   \n1  [(AR - Created - applicant demographics, 4.0 d...   \n2  [(Put Triage On-Hold, 5.0 days 13.0 hours 5.0 ...   \n3  [(Put Triage On-Hold, 5.0 days 4.0 hours 54.0 ...   \n4  [(AR - Created - further information, 8.0 days...   \n5  [(AR - Requested - previous or current study, ...   \n6  [(AR - Requested - previous or current study, ...   \n7  [(AR - Created - applicant demographics, 4.0 d...   \n8  [(AR - Satisfied - applicant demographics, 7.0...   \n9  [(AR - Reviewed - advanced standing, 8.0 days ...   \n\n   average time for workflow segment(seconds)  \\\n0                                           0   \n1                                     1533207   \n2                                     1439838   \n3                                     1327874   \n4                                     1405615   \n5                                     1741951   \n6                                     1734581   \n7                                     1841528   \n8                                     2151488   \n9                                     2409282   \n\n   sum time for workflow segment(seconds)  \n0                            0.000000e+00  \n1                            2.713777e+08  \n2                            2.505318e+08  \n3                            7.130685e+08  \n4                            1.287544e+09  \n5                            1.893501e+09  \n6                            2.433618e+09  \n7                            2.567091e+09  \n8                            2.661391e+09  \n9                            2.459877e+09  ",
      "text/html": "<div>\n<style scoped>\n    .dataframe tbody tr th:only-of-type {\n        vertical-align: middle;\n    }\n\n    .dataframe tbody tr th {\n        vertical-align: top;\n    }\n\n    .dataframe thead th {\n        text-align: right;\n    }\n</style>\n<table border=\"1\" class=\"dataframe\">\n  <thead>\n    <tr style=\"text-align: right;\">\n      <th></th>\n      <th>Number of Workflow processes in this Workflow Segment</th>\n      <th>Number of cases</th>\n      <th>average time for workflow segment</th>\n      <th>median time for workflow segment</th>\n      <th>percentage of cases reaching to end of workflow segment</th>\n      <th>Num of Occurrences per step(descending)</th>\n      <th>Average time spends per step(descending)</th>\n      <th>average time for workflow segment(seconds)</th>\n      <th>sum time for workflow segment(seconds)</th>\n    </tr>\n  </thead>\n  <tbody>\n    <tr>\n      <th>0</th>\n      <td>1</td>\n      <td>537</td>\n      <td>0 days 0 hours 0 minutes 0 seconds</td>\n      <td>0.0 days 0.0 hours 0.0 minutes 0.0 seconds</td>\n      <td>0.0%</td>\n      <td>[(Submit, 537)]</td>\n      <td>[]</td>\n      <td>0</td>\n      <td>0.000000e+00</td>\n    </tr>\n    <tr>\n      <th>1</th>\n      <td>2</td>\n      <td>177</td>\n      <td>17 days 17 hours 53 minutes 27 seconds</td>\n      <td>9.0 days 22.0 hours 36.0 minutes 34.0 seconds</td>\n      <td>76.84%</td>\n      <td>[(Submit, 177), (Send for Assessment, 136), (W...</td>\n      <td>[(AR - Created - applicant demographics, 4.0 d...</td>\n      <td>1533207</td>\n      <td>2.713777e+08</td>\n    </tr>\n    <tr>\n      <th>2</th>\n      <td>3</td>\n      <td>174</td>\n      <td>16 days 15 hours 57 minutes 18 seconds</td>\n      <td>9.0 days 16.0 hours 55.0 minutes 40.5 seconds</td>\n      <td>74.14%</td>\n      <td>[(Submit, 177), (Send for Assessment, 129), (A...</td>\n      <td>[(Put Triage On-Hold, 5.0 days 13.0 hours 5.0 ...</td>\n      <td>1439838</td>\n      <td>2.505318e+08</td>\n    </tr>\n    <tr>\n      <th>3</th>\n      <td>4</td>\n      <td>537</td>\n      <td>15 days 8 hours 51 minutes 14 seconds</td>\n      <td>10.0 days 21.0 hours 25.0 minutes 39.0 seconds</td>\n      <td>90.32%</td>\n      <td>[(Submit, 540), (Send for Assessment, 485), (A...</td>\n      <td>[(Put Triage On-Hold, 5.0 days 4.0 hours 54.0 ...</td>\n      <td>1327874</td>\n      <td>7.130685e+08</td>\n    </tr>\n    <tr>\n      <th>4</th>\n      <td>5</td>\n      <td>916</td>\n      <td>16 days 6 hours 26 minutes 55 seconds</td>\n      <td>11.0 days 14.0 hours 17.0 minutes 14.5 seconds</td>\n      <td>95.09%</td>\n      <td>[(Submit, 921), (Send for Assessment, 871), (A...</td>\n      <td>[(AR - Created - further information, 8.0 days...</td>\n      <td>1405615</td>\n      <td>1.287544e+09</td>\n    </tr>\n    <tr>\n      <th>5</th>\n      <td>6</td>\n      <td>1087</td>\n      <td>20 days 3 hours 52 minutes 31 seconds</td>\n      <td>13.0 days 4.0 hours 57.0 minutes 30.0 seconds</td>\n      <td>93.1%</td>\n      <td>[(Submit, 1090), (Send for Assessment, 1012), ...</td>\n      <td>[(AR - Requested - previous or current study, ...</td>\n      <td>1741951</td>\n      <td>1.893501e+09</td>\n    </tr>\n    <tr>\n      <th>6</th>\n      <td>7</td>\n      <td>1403</td>\n      <td>20 days 1 hours 49 minutes 41 seconds</td>\n      <td>13.0 days 21.0 hours 9.0 minutes 12.0 seconds</td>\n      <td>92.73%</td>\n      <td>[(AR - Satisfied - previous or current study, ...</td>\n      <td>[(AR - Requested - previous or current study, ...</td>\n      <td>1734581</td>\n      <td>2.433618e+09</td>\n    </tr>\n    <tr>\n      <th>7</th>\n      <td>8</td>\n      <td>1394</td>\n      <td>21 days 7 hours 32 minutes 8 seconds</td>\n      <td>14.0 days 21.0 hours 44.0 minutes 33.0 seconds</td>\n      <td>91.97%</td>\n      <td>[(AR - Satisfied - previous or current study, ...</td>\n      <td>[(AR - Created - applicant demographics, 4.0 d...</td>\n      <td>1841528</td>\n      <td>2.567091e+09</td>\n    </tr>\n    <tr>\n      <th>8</th>\n      <td>9</td>\n      <td>1237</td>\n      <td>24 days 21 hours 38 minutes 8 seconds</td>\n      <td>16.0 days 21.0 hours 52.0 minutes 52.0 seconds</td>\n      <td>92.56%</td>\n      <td>[(AR - Satisfied - previous or current study, ...</td>\n      <td>[(AR - Satisfied - applicant demographics, 7.0...</td>\n      <td>2151488</td>\n      <td>2.661391e+09</td>\n    </tr>\n    <tr>\n      <th>9</th>\n      <td>10</td>\n      <td>1021</td>\n      <td>27 days 21 hours 14 minutes 42 seconds</td>\n      <td>19.0 days 20.0 hours 26.0 minutes 18.0 seconds</td>\n      <td>90.6%</td>\n      <td>[(Submit, 1025), (AR - Satisfied - previous or...</td>\n      <td>[(AR - Reviewed - advanced standing, 8.0 days ...</td>\n      <td>2409282</td>\n      <td>2.459877e+09</td>\n    </tr>\n  </tbody>\n</table>\n</div>"
     },
     "execution_count": 16,
     "metadata": {},
     "output_type": "execute_result"
    }
   ],
   "source": [
    "s1_t1=pd.DataFrame({'Number of Workflow processes in this Workflow Segment':count_dic.keys(),'Number of cases':len_list, 'average time for workflow segment':list_avgtime_per_key_str,'median time for workflow segment':list_mediantime_per_key_str,'percentage of cases reaching to end of workflow segment':list_percent_reach_end})#'step':list_step_per_key,'step count':list_step_count_per_key\n",
    "s1_t1['Num of Occurrences per step(descending)'] = list_step_count_per_key\n",
    "s1_t1['Average time spends per step(descending)'] = list_step_ave_time_per_key\n",
    "s1_t1['average time for workflow segment(seconds)'] = list_avgtime_per_key\n",
    "s1_t1['sum time for workflow segment(seconds)'] = list_sumtime_row\n",
    "\n",
    "s1_t1.head(n=10)\n"
   ],
   "metadata": {
    "collapsed": false,
    "pycharm": {
     "name": "#%%\n"
    }
   }
  },
  {
   "cell_type": "code",
   "execution_count": 17,
   "outputs": [],
   "source": [
    "s1_t1.to_csv('engineering_OF_segment1_workflowS1_table.csv', index=False)\n",
    "\n",
    "\n",
    "\n",
    "\n",
    "\n",
    "\n"
   ],
   "metadata": {
    "collapsed": false,
    "pycharm": {
     "name": "#%%\n"
    }
   }
  }
 ],
 "metadata": {
  "kernelspec": {
   "name": "pycharm-3f427a6c",
   "language": "python",
   "display_name": "PyCharm (pythonProject)"
  },
  "language_info": {
   "codemirror_mode": {
    "name": "ipython",
    "version": 2
   },
   "file_extension": ".py",
   "mimetype": "text/x-python",
   "name": "python",
   "nbconvert_exporter": "python",
   "pygments_lexer": "ipython2",
   "version": "2.7.6"
  }
 },
 "nbformat": 4,
 "nbformat_minor": 0
}